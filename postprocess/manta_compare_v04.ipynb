{
 "cells": [
  {
   "cell_type": "markdown",
   "metadata": {},
   "source": [
    "\n",
    "Using the SQL database approach, compare manta data with model results, varying\n",
    "the averaging period and the max age.\n",
    "\n",
    "**v01:** try adapting this to each category separately, see if the model shows difference in loss rates.\n",
    "\n",
    "**v02:** use a single smoothing value (10), and generate more streamlined plots.\n",
    "\n",
    "**v03:** Try bringing in the landuse variability.\n",
    "\n",
    "**v04:** Pull the particle data once (with a given smoothing and overall time window), shove it all into a big ugly matrix, write to netcdf, and operate just on that matrix for more flexible data fitting.\n",
    "\n",
    "Manta data is already adjusted by category, and the category-level data is in the csv.\n",
    "\n",
    "Load data..."
   ]
  },
  {
   "cell_type": "code",
   "execution_count": 1,
   "metadata": {},
   "outputs": [],
   "source": [
    "import os\n",
    "import time\n",
    "from collections import defaultdict\n",
    "import six\n",
    "\n",
    "import time\n",
    "\n",
    "import logging as log\n",
    "import glob\n",
    "import re\n",
    "\n",
    "import seaborn as sns\n",
    "from matplotlib import colors, cm\n",
    "import matplotlib.pyplot as plt\n",
    "import matplotlib.patheffects as pe\n",
    "from matplotlib.colors import LogNorm\n",
    "\n",
    "import numpy as np\n",
    "\n",
    "import pandas as pd\n",
    "import xarray as xr\n",
    "\n",
    "from sqlite3 import dbapi2 as sql\n",
    "\n",
    "from stompy.grid import unstructured_grid\n",
    "from stompy import utils, memoize\n",
    "from stompy.spatial import proj_utils \n",
    "from stompy.model.data_comparison import calc_metrics\n",
    "from stompy.plot import plot_wkb\n",
    "from stompy.model import data_comparison\n",
    "import stompy.plot.cmap as scmap\n",
    "from scipy import stats\n",
    "\n",
    "\n",
    "import postprocess_v00 as post\n",
    "\n",
    "%matplotlib notebook"
   ]
  },
  {
   "cell_type": "code",
   "execution_count": 2,
   "metadata": {},
   "outputs": [],
   "source": [
    "ll2utm=proj_utils.mapper('WGS84','EPSG:26910')"
   ]
  },
  {
   "cell_type": "code",
   "execution_count": 106,
   "metadata": {},
   "outputs": [
    {
     "data": {
      "text/html": [
       "<div>\n",
       "<style scoped>\n",
       "    .dataframe tbody tr th:only-of-type {\n",
       "        vertical-align: middle;\n",
       "    }\n",
       "\n",
       "    .dataframe tbody tr th {\n",
       "        vertical-align: top;\n",
       "    }\n",
       "\n",
       "    .dataframe thead th {\n",
       "        text-align: right;\n",
       "    }\n",
       "</style>\n",
       "<table border=\"1\" class=\"dataframe\">\n",
       "  <thead>\n",
       "    <tr style=\"text-align: right;\">\n",
       "      <th></th>\n",
       "      <th>SampleID</th>\n",
       "      <th>SAMPLE LOCATION</th>\n",
       "      <th>DATE</th>\n",
       "      <th>TYPE</th>\n",
       "      <th>LAT START</th>\n",
       "      <th>LONG START</th>\n",
       "      <th>LAT END</th>\n",
       "      <th>LONG END</th>\n",
       "      <th>TOTAL DIST (M)</th>\n",
       "      <th>START FLOW</th>\n",
       "      <th>...</th>\n",
       "      <th>part_per_m3_std</th>\n",
       "      <th>part_per_m2_std</th>\n",
       "      <th>part_per_m3_raw_std</th>\n",
       "      <th>part_per_m2_raw_std</th>\n",
       "      <th>part_per_m3_nofiber</th>\n",
       "      <th>part_per_m2_nofiber</th>\n",
       "      <th>part_per_m3_raw_nofiber</th>\n",
       "      <th>part_per_m2_raw_nofiber</th>\n",
       "      <th>x</th>\n",
       "      <th>y</th>\n",
       "    </tr>\n",
       "  </thead>\n",
       "  <tbody>\n",
       "    <tr>\n",
       "      <th>0</th>\n",
       "      <td>CB-4-Manta-21Aug2017</td>\n",
       "      <td>CB4</td>\n",
       "      <td>2017-08-21 00:00:00</td>\n",
       "      <td>Manta</td>\n",
       "      <td>37.915567</td>\n",
       "      <td>-122.441217</td>\n",
       "      <td>37.941933</td>\n",
       "      <td>-122.419983</td>\n",
       "      <td>3473.323262</td>\n",
       "      <td>NaN</td>\n",
       "      <td>...</td>\n",
       "      <td>0.224191</td>\n",
       "      <td>0.021298</td>\n",
       "      <td>0.442172</td>\n",
       "      <td>0.042006</td>\n",
       "      <td>0.015526</td>\n",
       "      <td>0.001475</td>\n",
       "      <td>0.024841</td>\n",
       "      <td>0.002360</td>\n",
       "      <td>550040.331073</td>\n",
       "      <td>4.198063e+06</td>\n",
       "    </tr>\n",
       "    <tr>\n",
       "      <th>1</th>\n",
       "      <td>SPB3-Manta-21Aug2017</td>\n",
       "      <td>SPB3</td>\n",
       "      <td>2017-08-21 00:00:00</td>\n",
       "      <td>Manta</td>\n",
       "      <td>38.023072</td>\n",
       "      <td>-122.371583</td>\n",
       "      <td>38.042133</td>\n",
       "      <td>-122.321883</td>\n",
       "      <td>66678.222270</td>\n",
       "      <td>9113.0</td>\n",
       "      <td>...</td>\n",
       "      <td>1.817781</td>\n",
       "      <td>0.172689</td>\n",
       "      <td>1.928407</td>\n",
       "      <td>0.183199</td>\n",
       "      <td>0.296678</td>\n",
       "      <td>0.028184</td>\n",
       "      <td>0.301706</td>\n",
       "      <td>0.028662</td>\n",
       "      <td>557329.971756</td>\n",
       "      <td>4.209634e+06</td>\n",
       "    </tr>\n",
       "    <tr>\n",
       "      <th>2</th>\n",
       "      <td>SUB1-Manta-21Aug2017</td>\n",
       "      <td>SUB1</td>\n",
       "      <td>2017-08-21 00:00:00</td>\n",
       "      <td>Manta</td>\n",
       "      <td>38.107067</td>\n",
       "      <td>-122.056283</td>\n",
       "      <td>38.096533</td>\n",
       "      <td>-122.064917</td>\n",
       "      <td>1393.740434</td>\n",
       "      <td>128369.0</td>\n",
       "      <td>...</td>\n",
       "      <td>NaN</td>\n",
       "      <td>NaN</td>\n",
       "      <td>0.000000</td>\n",
       "      <td>0.000000</td>\n",
       "      <td>0.032671</td>\n",
       "      <td>0.003104</td>\n",
       "      <td>0.039205</td>\n",
       "      <td>0.003724</td>\n",
       "      <td>582363.556136</td>\n",
       "      <td>4.217527e+06</td>\n",
       "    </tr>\n",
       "    <tr>\n",
       "      <th>3</th>\n",
       "      <td>SPB2-Manta-21Aug2017</td>\n",
       "      <td>SPB2</td>\n",
       "      <td>2017-08-21 00:00:00</td>\n",
       "      <td>Manta</td>\n",
       "      <td>38.051283</td>\n",
       "      <td>-122.421750</td>\n",
       "      <td>38.023000</td>\n",
       "      <td>-122.428117</td>\n",
       "      <td>3194.008847</td>\n",
       "      <td>220135.0</td>\n",
       "      <td>...</td>\n",
       "      <td>0.210549</td>\n",
       "      <td>0.020002</td>\n",
       "      <td>0.402882</td>\n",
       "      <td>0.038274</td>\n",
       "      <td>0.021966</td>\n",
       "      <td>0.002087</td>\n",
       "      <td>0.034288</td>\n",
       "      <td>0.003257</td>\n",
       "      <td>550464.046320</td>\n",
       "      <td>4.210092e+06</td>\n",
       "    </tr>\n",
       "    <tr>\n",
       "      <th>4</th>\n",
       "      <td>CB9-Manta-22Aug2017</td>\n",
       "      <td>CB9</td>\n",
       "      <td>2017-08-22 00:00:00</td>\n",
       "      <td>Manta</td>\n",
       "      <td>37.687233</td>\n",
       "      <td>-122.290917</td>\n",
       "      <td>37.698500</td>\n",
       "      <td>-122.298433</td>\n",
       "      <td>1416.656380</td>\n",
       "      <td>290000.0</td>\n",
       "      <td>...</td>\n",
       "      <td>0.085947</td>\n",
       "      <td>0.008165</td>\n",
       "      <td>0.174186</td>\n",
       "      <td>0.016548</td>\n",
       "      <td>0.085947</td>\n",
       "      <td>0.008165</td>\n",
       "      <td>0.091677</td>\n",
       "      <td>0.008709</td>\n",
       "      <td>562183.425087</td>\n",
       "      <td>4.171973e+06</td>\n",
       "    </tr>\n",
       "  </tbody>\n",
       "</table>\n",
       "<p>5 rows × 47 columns</p>\n",
       "</div>"
      ],
      "text/plain": [
       "               SampleID SAMPLE LOCATION                 DATE   TYPE  \\\n",
       "0  CB-4-Manta-21Aug2017             CB4  2017-08-21 00:00:00  Manta   \n",
       "1  SPB3-Manta-21Aug2017            SPB3  2017-08-21 00:00:00  Manta   \n",
       "2  SUB1-Manta-21Aug2017            SUB1  2017-08-21 00:00:00  Manta   \n",
       "3  SPB2-Manta-21Aug2017            SPB2  2017-08-21 00:00:00  Manta   \n",
       "4   CB9-Manta-22Aug2017             CB9  2017-08-22 00:00:00  Manta   \n",
       "\n",
       "   LAT START  LONG START    LAT END    LONG END  TOTAL DIST (M)  START FLOW  \\\n",
       "0  37.915567 -122.441217  37.941933 -122.419983     3473.323262         NaN   \n",
       "1  38.023072 -122.371583  38.042133 -122.321883    66678.222270      9113.0   \n",
       "2  38.107067 -122.056283  38.096533 -122.064917     1393.740434    128369.0   \n",
       "3  38.051283 -122.421750  38.023000 -122.428117     3194.008847    220135.0   \n",
       "4  37.687233 -122.290917  37.698500 -122.298433     1416.656380    290000.0   \n",
       "\n",
       "   ...  part_per_m3_std  part_per_m2_std  part_per_m3_raw_std  \\\n",
       "0  ...         0.224191         0.021298             0.442172   \n",
       "1  ...         1.817781         0.172689             1.928407   \n",
       "2  ...              NaN              NaN             0.000000   \n",
       "3  ...         0.210549         0.020002             0.402882   \n",
       "4  ...         0.085947         0.008165             0.174186   \n",
       "\n",
       "  part_per_m2_raw_std part_per_m3_nofiber part_per_m2_nofiber  \\\n",
       "0            0.042006            0.015526            0.001475   \n",
       "1            0.183199            0.296678            0.028184   \n",
       "2            0.000000            0.032671            0.003104   \n",
       "3            0.038274            0.021966            0.002087   \n",
       "4            0.016548            0.085947            0.008165   \n",
       "\n",
       "  part_per_m3_raw_nofiber  part_per_m2_raw_nofiber              x  \\\n",
       "0                0.024841                 0.002360  550040.331073   \n",
       "1                0.301706                 0.028662  557329.971756   \n",
       "2                0.039205                 0.003724  582363.556136   \n",
       "3                0.034288                 0.003257  550464.046320   \n",
       "4                0.091677                 0.008709  562183.425087   \n",
       "\n",
       "              y  \n",
       "0  4.198063e+06  \n",
       "1  4.209634e+06  \n",
       "2  4.217527e+06  \n",
       "3  4.210092e+06  \n",
       "4  4.171973e+06  \n",
       "\n",
       "[5 rows x 47 columns]"
      ]
     },
     "execution_count": 106,
     "metadata": {},
     "output_type": "execute_result"
    }
   ],
   "source": [
    "# Load the manta data, clean it up\n",
    "manta_fn='manta_summary-v03.csv'\n",
    "manta=pd.read_csv(manta_fn)\n",
    "manta.head()"
   ]
  },
  {
   "cell_type": "code",
   "execution_count": 107,
   "metadata": {},
   "outputs": [
    {
     "data": {
      "text/plain": [
       "65"
      ]
     },
     "execution_count": 107,
     "metadata": {},
     "output_type": "execute_result"
    }
   ],
   "source": [
    "len(manta)"
   ]
  },
  {
   "cell_type": "code",
   "execution_count": 4,
   "metadata": {},
   "outputs": [
    {
     "data": {
      "text/plain": [
       "<module 'sql_common' from '/home/rusty/src/microplastic_sfbay/postprocess/sql_common.py'>"
      ]
     },
     "execution_count": 4,
     "metadata": {},
     "output_type": "execute_result"
    }
   ],
   "source": [
    "import sql_common\n",
    "import glob, os, six\n",
    "import postprocess_v00 as post\n",
    "six.moves.reload_module(sql_common)\n",
    "\n",
    "# try to run everything that can be cached and re-used through\n",
    "# here. "
   ]
  },
  {
   "cell_type": "code",
   "execution_count": 5,
   "metadata": {},
   "outputs": [],
   "source": [
    "PtmSet=sql_common.PtmSetNew\n",
    "ptm_base=\"/opt2/sfb_ocean/ptm/all_source_021b\"\n",
    "dbs=glob.glob(os.path.join(ptm_base,\"20*/ptm_and_grid.db\"))\n",
    "dbs.sort()\n",
    "ptm_set=PtmSet(databases=dbs)"
   ]
  },
  {
   "cell_type": "code",
   "execution_count": 7,
   "metadata": {},
   "outputs": [
    {
     "data": {
      "text/plain": [
       "<module 'postprocess_v00' from '/home/rusty/src/microplastic_sfbay/postprocess/postprocess_v00.py'>"
      ]
     },
     "execution_count": 7,
     "metadata": {},
     "output_type": "execute_result"
    }
   ],
   "source": [
    "six.moves.reload_module(post)"
   ]
  },
  {
   "cell_type": "code",
   "execution_count": 8,
   "metadata": {},
   "outputs": [],
   "source": [
    "g=ptm_set.grid()"
   ]
  },
  {
   "cell_type": "code",
   "execution_count": 9,
   "metadata": {},
   "outputs": [
    {
     "name": "stdout",
     "output_type": "stream",
     "text": [
      "10584 groups in total\n"
     ]
    }
   ],
   "source": [
    "# Get all of the group names so loads can be premapped\n",
    "group_names=[]\n",
    "for db in ptm_set.databases:\n",
    "    con=ptm_set.db_to_con(db)\n",
    "    curs=con.cursor()\n",
    "    curs.execute(\"select name from ptm_group group by name\")\n",
    "    group_names.append( np.array([t[0] for t in curs.fetchall()],'S100') )\n",
    "group_names=np.unique(np.concatenate(group_names)) # ensures sort, too\n",
    "print(f\"{len(group_names)} groups in total\")"
   ]
  },
  {
   "cell_type": "code",
   "execution_count": 10,
   "metadata": {},
   "outputs": [
    {
     "name": "stderr",
     "output_type": "stream",
     "text": [
      "INFO:join_features:0 open strings, 25 simple polygons\n",
      "INFO:join_features:Building index\n",
      "INFO:join_features:done building index\n",
      "INFO:join_features:Examining largest poly left with area=38109911619.298943, 24 potential interiors\n"
     ]
    }
   ],
   "source": [
    "g_poly=g.boundary_polygon()\n",
    "\n",
    "@memoize.memoize()\n",
    "def stencil0(c):\n",
    "    stencil=np.zeros(g.Ncells(),np.float64)\n",
    "    stencil[c]=1.0\n",
    "    return stencil\n",
    "\n",
    "@memoize.memoize()\n",
    "def stencil1(c):\n",
    "    return ptm_set.smooth(stencil0(c))"
   ]
  },
  {
   "cell_type": "code",
   "execution_count": 11,
   "metadata": {},
   "outputs": [],
   "source": [
    "# For each trawl, I want to query all of the particles \n",
    "# that were \"nearby\" at a \"near time\", and get their\n",
    "# release time, cell, std mass, and nofiber mass.\n",
    "# from there, it's postprocessing to see what subset or\n",
    "# weighting of those gives the best agreement with\n",
    "# part_per_m2_std and part-per_m2_raw"
   ]
  },
  {
   "cell_type": "code",
   "execution_count": 12,
   "metadata": {},
   "outputs": [],
   "source": [
    "# Is it possible to run the query once, and save enough info about the\n",
    "# particles to apply loading scenarios after the fact?\n",
    "\n",
    "def query_particles(t_start,t_stop,\n",
    "                    z_filter=\"and loc.z_from_surface>-0.095\",\n",
    "                    max_age=np.timedelta64(20,'D'),\n",
    "                    grp_filter=\"\"):\n",
    "    epoch_start=int( utils.to_unix( t_start ) )\n",
    "    epoch_stop =int( utils.to_unix( t_stop ) )\n",
    "    max_age_clause=f\"and (loc.time-rel.time)<{int(max_age/np.timedelta64(1,'s'))}\"\n",
    "\n",
    "    # So rather than multiplying out the loads here, \n",
    "    # record rel.volume/rel.count to get rel_part_volume \n",
    "    query=f\"\"\"\n",
    "      select rel.volume / rel.count as rel_part_volume,\n",
    "             loc.time as time,\n",
    "             rel.time as rel_time,\n",
    "             loc.cell as cell,\n",
    "             grp.name as grp\n",
    "        from particle_loc as loc, particle as p, ptm_release as rel, \n",
    "             ptm_group as grp\n",
    "        where loc.time>={epoch_start} and loc.time < {epoch_stop}\n",
    "          and loc.particle_id=p.id\n",
    "          and p.release_id=rel.id\n",
    "          and rel.group_id=grp.id\n",
    "          and loc.cell>=0\n",
    "          {max_age_clause}\n",
    "          {z_filter}\n",
    "          {grp_filter}\"\"\"\n",
    "    print(query)    \n",
    "    \n",
    "    query_dtype=[('rel_part_volume',np.float64),\n",
    "                 ('time',np.int32),\n",
    "                 ('rel_time',np.int32),\n",
    "                 ('cell',np.int32),\n",
    "                 ('group','S100')]\n",
    "\n",
    "    all_data=[]\n",
    "    all_data.append( np.zeros(0,dtype=query_dtype) )\n",
    "\n",
    "    for db in ptm_set.databases:\n",
    "        con=ptm_set.db_to_con(db)\n",
    "        curs=con.cursor()\n",
    "        curs.execute(query)\n",
    "        data=curs.fetchall()\n",
    "        print(f\"{db} {len(data)} rows\")\n",
    "        if len(data)==0: continue\n",
    "        adata=np.array(data)\n",
    "\n",
    "        adata2=np.zeros(len(adata),dtype=query_dtype)\n",
    "        adata2['rel_part_volume']=adata[:,0]\n",
    "        adata2['time']=adata[:,1].astype(np.int32)\n",
    "        adata2['rel_time']=adata[:,2].astype(np.int32)\n",
    "        adata2['cell']=adata[:,3].astype(np.int32)\n",
    "        adata2['group']=adata[:,4]\n",
    "        all_data.append(adata2)\n",
    "\n",
    "    combined=np.concatenate( all_data )\n",
    "    return combined"
   ]
  },
  {
   "cell_type": "code",
   "execution_count": 13,
   "metadata": {},
   "outputs": [
    {
     "name": "stdout",
     "output_type": "stream",
     "text": [
      "manta_sets_20200330c/v01-2017-08-21.npy exists. Skipping\n",
      "manta_sets_20200330c/v01-2017-08-21.npy exists. Skipping\n",
      "manta_sets_20200330c/v01-2017-08-21.npy exists. Skipping\n",
      "manta_sets_20200330c/v01-2017-08-21.npy exists. Skipping\n",
      "manta_sets_20200330c/v01-2017-08-22.npy exists. Skipping\n",
      "manta_sets_20200330c/v01-2017-08-22.npy exists. Skipping\n",
      "manta_sets_20200330c/v01-2017-08-22.npy exists. Skipping\n",
      "manta_sets_20200330c/v01-2017-08-22.npy exists. Skipping\n",
      "manta_sets_20200330c/v01-2017-08-23.npy exists. Skipping\n",
      "manta_sets_20200330c/v01-2017-08-23.npy exists. Skipping\n",
      "manta_sets_20200330c/v01-2017-08-23.npy exists. Skipping\n",
      "manta_sets_20200330c/v01-2017-08-23.npy exists. Skipping\n",
      "manta_sets_20200330c/v01-2017-08-24.npy exists. Skipping\n",
      "manta_sets_20200330c/v01-2017-08-24.npy exists. Skipping\n",
      "manta_sets_20200330c/v01-2017-08-24.npy exists. Skipping\n",
      "manta_sets_20200330c/v01-2017-08-25.npy exists. Skipping\n",
      "manta_sets_20200330c/v01-2017-08-25.npy exists. Skipping\n",
      "manta_sets_20200330c/v01-2017-09-11.npy exists. Skipping\n",
      "manta_sets_20200330c/v01-2017-09-12.npy exists. Skipping\n",
      "manta_sets_20200330c/v01-2017-09-12.npy exists. Skipping\n",
      "manta_sets_20200330c/v01-2017-09-12.npy exists. Skipping\n",
      "manta_sets_20200330c/v01-2017-09-12.npy exists. Skipping\n",
      "manta_sets_20200330c/v01-2017-09-13.npy exists. Skipping\n",
      "manta_sets_20200330c/v01-2017-09-13.npy exists. Skipping\n",
      "manta_sets_20200330c/v01-2017-09-13.npy exists. Skipping\n",
      "manta_sets_20200330c/v01-2017-09-13.npy exists. Skipping\n",
      "manta_sets_20200330c/v01-2017-09-18.npy exists. Skipping\n",
      "manta_sets_20200330c/v01-2017-09-27.npy exists. Skipping\n",
      "manta_sets_20200330c/v01-2017-09-27.npy exists. Skipping\n",
      "manta_sets_20200330c/v01-2017-09-27.npy exists. Skipping\n",
      "manta_sets_20200330c/v01-2017-11-05.npy exists. Skipping\n",
      "manta_sets_20200330c/v01-2017-11-05.npy exists. Skipping\n",
      "manta_sets_20200330c/v01-2017-11-16.npy exists. Skipping\n",
      "manta_sets_20200330c/v01-2017-11-16.npy exists. Skipping\n",
      "manta_sets_20200330c/v01-2017-11-16.npy exists. Skipping\n",
      "manta_sets_20200330c/v01-2017-11-16.npy exists. Skipping\n",
      "manta_sets_20200330c/v01-2017-11-16.npy exists. Skipping\n",
      "manta_sets_20200330c/v01-2017-11-16.npy exists. Skipping\n",
      "manta_sets_20200330c/v01-2017-11-17.npy exists. Skipping\n",
      "manta_sets_20200330c/v01-2017-11-17.npy exists. Skipping\n",
      "manta_sets_20200330c/v01-2017-11-17.npy exists. Skipping\n",
      "manta_sets_20200330c/v01-2018-01-11.npy exists. Skipping\n",
      "manta_sets_20200330c/v01-2018-01-11.npy exists. Skipping\n",
      "manta_sets_20200330c/v01-2018-01-11.npy exists. Skipping\n",
      "manta_sets_20200330c/v01-2018-03-19.npy exists. Skipping\n",
      "manta_sets_20200330c/v01-2018-03-19.npy exists. Skipping\n",
      "manta_sets_20200330c/v01-2018-03-19.npy exists. Skipping\n",
      "manta_sets_20200330c/v01-2018-03-19.npy exists. Skipping\n",
      "manta_sets_20200330c/v01-2018-03-19.npy exists. Skipping\n",
      "manta_sets_20200330c/v01-2018-03-06.npy exists. Skipping\n",
      "manta_sets_20200330c/v01-2018-03-06.npy exists. Skipping\n",
      "manta_sets_20200330c/v01-2018-03-06.npy exists. Skipping\n",
      "manta_sets_20200330c/v01-2018-03-06.npy exists. Skipping\n",
      "manta_sets_20200330c/v01-2018-03-29.npy exists. Skipping\n",
      "manta_sets_20200330c/v01-2018-03-29.npy exists. Skipping\n",
      "manta_sets_20200330c/v01-2018-03-29.npy exists. Skipping\n",
      "manta_sets_20200330c/v01-2018-03-29.npy exists. Skipping\n",
      "manta_sets_20200330c/v01-2018-03-30.npy exists. Skipping\n",
      "manta_sets_20200330c/v01-2018-03-30.npy exists. Skipping\n",
      "manta_sets_20200330c/v01-2018-03-30.npy exists. Skipping\n",
      "manta_sets_20200330c/v01-2018-03-30.npy exists. Skipping\n",
      "manta_sets_20200330c/v01-2018-03-30.npy exists. Skipping\n",
      "manta_sets_20200330c/v01-2018-03-31.npy exists. Skipping\n",
      "manta_sets_20200330c/v01-2018-03-31.npy exists. Skipping\n",
      "manta_sets_20200330c/v01-2018-03-31.npy exists. Skipping\n"
     ]
    }
   ],
   "source": [
    "out_dir=\"manta_sets_20200330c\"\n",
    "# now the 021b runs.\n",
    "# c suffix: use tighter -0.095 z filter.\n",
    "# 20200227: start of v03\n",
    "# 20200302: start of v04\n",
    "# 20200305: try larger window -- extra 24 hours in both directions.\n",
    "# 20200312: new sources in ptm data, with v02 stormwater concs.\n",
    "# 20200330: more new sources.\n",
    "os.makedirs(out_dir,exist_ok=True)\n",
    "\n",
    "for idx,rec in manta.iterrows():\n",
    "    # since we're just pulling out whole days, cache by day.\n",
    "    # and pull through the end of that day\n",
    "    fn=os.path.join(out_dir,f\"v01-{rec.DATE[:10]}.npy\")\n",
    "    \n",
    "    if os.path.exists(fn):\n",
    "        print(f\"{fn} exists. Skipping\")\n",
    "        continue\n",
    "\n",
    "    # pull a generous buffer of particles here, and narrow\n",
    "    # the time zones are annoying but I double-checked and\n",
    "    # This does give enough of a buffer.\n",
    "    t_sample=np.datetime64(rec.DATE)\n",
    "    # want to be able to, after the fact, query a full 25h tidal cycle\n",
    "    # centered on the actual time of a sample that could fall anywhere\n",
    "    # in this day.\n",
    "    t_start=t_sample+np.timedelta64(8,'h') - np.timedelta64(12,'h')\n",
    "    # and go for a tidal day\n",
    "    t_stop =t_sample+np.timedelta64(8+24,'h') + np.timedelta64(13,'h')\n",
    "    query_n_steps=25 # how many hours are included in the query.\n",
    "\n",
    "    # 2020305 changes:\n",
    "    t_start-=np.timedelta64(24,'h')\n",
    "    t_stop+=np.timedelta64(24,'h')\n",
    "    query_n_steps += 48\n",
    "    \n",
    "    combined=query_particles(t_start,t_stop)\n",
    "    np.save(fn,combined)\n"
   ]
  },
  {
   "cell_type": "code",
   "execution_count": 14,
   "metadata": {},
   "outputs": [
    {
     "name": "stdout",
     "output_type": "stream",
     "text": [
      "378 unique loads\n"
     ]
    }
   ],
   "source": [
    "load_names_all= [ b\"_\".join( g.split(b'_')[:-1] )\n",
    "                  for g in group_names ]\n",
    "load_names=np.unique(load_names_all)\n",
    "print(f\"{len(load_names)} unique loads\")\n",
    "\n",
    "# and loop again to get the mapping\n",
    "group_to_load_idx={}\n",
    "\n",
    "for g,l in zip(group_names,load_names_all):\n",
    "    group_to_load_idx[g]=np.searchsorted(load_names,l)"
   ]
  },
  {
   "cell_type": "code",
   "execution_count": 108,
   "metadata": {},
   "outputs": [
    {
     "data": {
      "text/html": [
       "<div>\n",
       "<style scoped>\n",
       "    .dataframe tbody tr th:only-of-type {\n",
       "        vertical-align: middle;\n",
       "    }\n",
       "\n",
       "    .dataframe tbody tr th {\n",
       "        vertical-align: top;\n",
       "    }\n",
       "\n",
       "    .dataframe thead th {\n",
       "        text-align: right;\n",
       "    }\n",
       "</style>\n",
       "<table border=\"1\" class=\"dataframe\">\n",
       "  <thead>\n",
       "    <tr style=\"text-align: right;\">\n",
       "      <th></th>\n",
       "      <th>SampleID</th>\n",
       "      <th>SAMPLE LOCATION</th>\n",
       "      <th>DATE</th>\n",
       "      <th>TYPE</th>\n",
       "      <th>LAT START</th>\n",
       "      <th>LONG START</th>\n",
       "      <th>LAT END</th>\n",
       "      <th>LONG END</th>\n",
       "      <th>TOTAL DIST (M)</th>\n",
       "      <th>START FLOW</th>\n",
       "      <th>...</th>\n",
       "      <th>part_per_m3_std</th>\n",
       "      <th>part_per_m2_std</th>\n",
       "      <th>part_per_m3_raw_std</th>\n",
       "      <th>part_per_m2_raw_std</th>\n",
       "      <th>part_per_m3_nofiber</th>\n",
       "      <th>part_per_m2_nofiber</th>\n",
       "      <th>part_per_m3_raw_nofiber</th>\n",
       "      <th>part_per_m2_raw_nofiber</th>\n",
       "      <th>x</th>\n",
       "      <th>y</th>\n",
       "    </tr>\n",
       "  </thead>\n",
       "  <tbody>\n",
       "    <tr>\n",
       "      <th>0</th>\n",
       "      <td>CB-4-Manta-21Aug2017</td>\n",
       "      <td>CB4</td>\n",
       "      <td>2017-08-21 00:00:00</td>\n",
       "      <td>Manta</td>\n",
       "      <td>37.915567</td>\n",
       "      <td>-122.441217</td>\n",
       "      <td>37.941933</td>\n",
       "      <td>-122.419983</td>\n",
       "      <td>3473.323262</td>\n",
       "      <td>NaN</td>\n",
       "      <td>...</td>\n",
       "      <td>0.224191</td>\n",
       "      <td>0.021298</td>\n",
       "      <td>0.442172</td>\n",
       "      <td>0.042006</td>\n",
       "      <td>0.015526</td>\n",
       "      <td>0.001475</td>\n",
       "      <td>0.024841</td>\n",
       "      <td>0.002360</td>\n",
       "      <td>550040.331073</td>\n",
       "      <td>4.198063e+06</td>\n",
       "    </tr>\n",
       "    <tr>\n",
       "      <th>1</th>\n",
       "      <td>SPB3-Manta-21Aug2017</td>\n",
       "      <td>SPB3</td>\n",
       "      <td>2017-08-21 00:00:00</td>\n",
       "      <td>Manta</td>\n",
       "      <td>38.023072</td>\n",
       "      <td>-122.371583</td>\n",
       "      <td>38.042133</td>\n",
       "      <td>-122.321883</td>\n",
       "      <td>66678.222270</td>\n",
       "      <td>9113.0</td>\n",
       "      <td>...</td>\n",
       "      <td>1.817781</td>\n",
       "      <td>0.172689</td>\n",
       "      <td>1.928407</td>\n",
       "      <td>0.183199</td>\n",
       "      <td>0.296678</td>\n",
       "      <td>0.028184</td>\n",
       "      <td>0.301706</td>\n",
       "      <td>0.028662</td>\n",
       "      <td>557329.971756</td>\n",
       "      <td>4.209634e+06</td>\n",
       "    </tr>\n",
       "    <tr>\n",
       "      <th>2</th>\n",
       "      <td>SUB1-Manta-21Aug2017</td>\n",
       "      <td>SUB1</td>\n",
       "      <td>2017-08-21 00:00:00</td>\n",
       "      <td>Manta</td>\n",
       "      <td>38.107067</td>\n",
       "      <td>-122.056283</td>\n",
       "      <td>38.096533</td>\n",
       "      <td>-122.064917</td>\n",
       "      <td>1393.740434</td>\n",
       "      <td>128369.0</td>\n",
       "      <td>...</td>\n",
       "      <td>NaN</td>\n",
       "      <td>NaN</td>\n",
       "      <td>0.000000</td>\n",
       "      <td>0.000000</td>\n",
       "      <td>0.032671</td>\n",
       "      <td>0.003104</td>\n",
       "      <td>0.039205</td>\n",
       "      <td>0.003724</td>\n",
       "      <td>582363.556136</td>\n",
       "      <td>4.217527e+06</td>\n",
       "    </tr>\n",
       "    <tr>\n",
       "      <th>3</th>\n",
       "      <td>SPB2-Manta-21Aug2017</td>\n",
       "      <td>SPB2</td>\n",
       "      <td>2017-08-21 00:00:00</td>\n",
       "      <td>Manta</td>\n",
       "      <td>38.051283</td>\n",
       "      <td>-122.421750</td>\n",
       "      <td>38.023000</td>\n",
       "      <td>-122.428117</td>\n",
       "      <td>3194.008847</td>\n",
       "      <td>220135.0</td>\n",
       "      <td>...</td>\n",
       "      <td>0.210549</td>\n",
       "      <td>0.020002</td>\n",
       "      <td>0.402882</td>\n",
       "      <td>0.038274</td>\n",
       "      <td>0.021966</td>\n",
       "      <td>0.002087</td>\n",
       "      <td>0.034288</td>\n",
       "      <td>0.003257</td>\n",
       "      <td>550464.046320</td>\n",
       "      <td>4.210092e+06</td>\n",
       "    </tr>\n",
       "    <tr>\n",
       "      <th>4</th>\n",
       "      <td>CB9-Manta-22Aug2017</td>\n",
       "      <td>CB9</td>\n",
       "      <td>2017-08-22 00:00:00</td>\n",
       "      <td>Manta</td>\n",
       "      <td>37.687233</td>\n",
       "      <td>-122.290917</td>\n",
       "      <td>37.698500</td>\n",
       "      <td>-122.298433</td>\n",
       "      <td>1416.656380</td>\n",
       "      <td>290000.0</td>\n",
       "      <td>...</td>\n",
       "      <td>0.085947</td>\n",
       "      <td>0.008165</td>\n",
       "      <td>0.174186</td>\n",
       "      <td>0.016548</td>\n",
       "      <td>0.085947</td>\n",
       "      <td>0.008165</td>\n",
       "      <td>0.091677</td>\n",
       "      <td>0.008709</td>\n",
       "      <td>562183.425087</td>\n",
       "      <td>4.171973e+06</td>\n",
       "    </tr>\n",
       "  </tbody>\n",
       "</table>\n",
       "<p>5 rows × 47 columns</p>\n",
       "</div>"
      ],
      "text/plain": [
       "               SampleID SAMPLE LOCATION                 DATE   TYPE  \\\n",
       "0  CB-4-Manta-21Aug2017             CB4  2017-08-21 00:00:00  Manta   \n",
       "1  SPB3-Manta-21Aug2017            SPB3  2017-08-21 00:00:00  Manta   \n",
       "2  SUB1-Manta-21Aug2017            SUB1  2017-08-21 00:00:00  Manta   \n",
       "3  SPB2-Manta-21Aug2017            SPB2  2017-08-21 00:00:00  Manta   \n",
       "4   CB9-Manta-22Aug2017             CB9  2017-08-22 00:00:00  Manta   \n",
       "\n",
       "   LAT START  LONG START    LAT END    LONG END  TOTAL DIST (M)  START FLOW  \\\n",
       "0  37.915567 -122.441217  37.941933 -122.419983     3473.323262         NaN   \n",
       "1  38.023072 -122.371583  38.042133 -122.321883    66678.222270      9113.0   \n",
       "2  38.107067 -122.056283  38.096533 -122.064917     1393.740434    128369.0   \n",
       "3  38.051283 -122.421750  38.023000 -122.428117     3194.008847    220135.0   \n",
       "4  37.687233 -122.290917  37.698500 -122.298433     1416.656380    290000.0   \n",
       "\n",
       "   ...  part_per_m3_std  part_per_m2_std  part_per_m3_raw_std  \\\n",
       "0  ...         0.224191         0.021298             0.442172   \n",
       "1  ...         1.817781         0.172689             1.928407   \n",
       "2  ...              NaN              NaN             0.000000   \n",
       "3  ...         0.210549         0.020002             0.402882   \n",
       "4  ...         0.085947         0.008165             0.174186   \n",
       "\n",
       "  part_per_m2_raw_std part_per_m3_nofiber part_per_m2_nofiber  \\\n",
       "0            0.042006            0.015526            0.001475   \n",
       "1            0.183199            0.296678            0.028184   \n",
       "2            0.000000            0.032671            0.003104   \n",
       "3            0.038274            0.021966            0.002087   \n",
       "4            0.016548            0.085947            0.008165   \n",
       "\n",
       "  part_per_m3_raw_nofiber  part_per_m2_raw_nofiber              x  \\\n",
       "0                0.024841                 0.002360  550040.331073   \n",
       "1                0.301706                 0.028662  557329.971756   \n",
       "2                0.039205                 0.003724  582363.556136   \n",
       "3                0.034288                 0.003257  550464.046320   \n",
       "4                0.091677                 0.008709  562183.425087   \n",
       "\n",
       "              y  \n",
       "0  4.198063e+06  \n",
       "1  4.209634e+06  \n",
       "2  4.217527e+06  \n",
       "3  4.210092e+06  \n",
       "4  4.171973e+06  \n",
       "\n",
       "[5 rows x 47 columns]"
      ]
     },
     "execution_count": 108,
     "metadata": {},
     "output_type": "execute_result"
    }
   ],
   "source": [
    "manta.head()"
   ]
  },
  {
   "cell_type": "code",
   "execution_count": 109,
   "metadata": {},
   "outputs": [],
   "source": [
    "# So we now have all particles for time windows around each\n",
    "# manta sample, with some slop, and bounded age of 20 days.\n",
    "\n",
    "# M*L = predicted\n",
    "\n",
    "# L: loading data, L(location,settling class) ~ particles/m3.\n",
    "\n",
    "# Where should age come in?\n",
    "\n",
    "# The matrix rows correspond to manta samples (any need to further\n",
    "# divide the output rows?)\n",
    "# The matrix columns correspond to all combinations of \n",
    "# location x settling for loads into the model.\n",
    "\n",
    "# There remains the question of where to account for variable\n",
    "# age.  Either age adjustment is accounted for ahead of construction\n",
    "# of the matrix, or I need effectively (20*24) copies of this matrix\n",
    "# There are 33 input locations (8 potws, 25 stormwater),\n",
    "# and 7 settling classes, so loads are set at 231 columns.\n",
    "\n",
    "# There are 65 manta samples\n",
    "# So at the very least, we've got a matrix that's (65, 231)\n",
    "# with 15k entries.\n",
    "# If I enumerate all ages, then the matrix has 7.2M entries.\n",
    "# not too crazy, but enough to be annoying. That's a 58MB\n",
    "# netcdf file.\n",
    "# Create the matrix in 3-D, ravel later.\n",
    "\n",
    "mat_ds=xr.Dataset()\n",
    "mat_ds['load']=('load',),load_names # combination of location and settling rate\n",
    "mat_ds['manta']=('manta',),manta['SampleID']\n",
    "mat_ds['age']=('age',), np.arange(20*24)\n",
    "mat_ds['age'].attrs['units']='h'"
   ]
  },
  {
   "cell_type": "code",
   "execution_count": 110,
   "metadata": {},
   "outputs": [
    {
     "name": "stderr",
     "output_type": "stream",
     "text": [
      "INFO:utils:2\n",
      "INFO:utils:4\n",
      "INFO:utils:6\n",
      "INFO:utils:8\n",
      "INFO:utils:10\n",
      "INFO:utils:12\n",
      "INFO:utils:14\n",
      "INFO:utils:16\n",
      "INFO:utils:18\n",
      "INFO:utils:20\n",
      "INFO:utils:22\n",
      "INFO:utils:24\n",
      "INFO:utils:26\n",
      "INFO:utils:28\n",
      "INFO:utils:29\n",
      "INFO:utils:30\n",
      "INFO:utils:32\n",
      "INFO:utils:34\n",
      "INFO:utils:36\n",
      "INFO:utils:38\n",
      "INFO:utils:40\n",
      "INFO:utils:42\n",
      "INFO:utils:44\n",
      "INFO:utils:46\n",
      "INFO:utils:48\n",
      "INFO:utils:50\n",
      "INFO:utils:52\n",
      "INFO:utils:54\n",
      "INFO:utils:56\n",
      "INFO:utils:58\n",
      "INFO:utils:60\n",
      "INFO:utils:62\n",
      "INFO:utils:64\n"
     ]
    }
   ],
   "source": [
    "M=np.zeros( (mat_ds.dims['manta'],mat_ds.dims['load'],mat_ds.dims['age']),np.float64)\n",
    "\n",
    "#smooth=10 # yields 174690 nonzero entrie, 2.4% of all entries\n",
    "smooth=50\n",
    "hours_min=-13\n",
    "hours_max=12\n",
    "nsteps=hours_max-hours_min\n",
    "mat_ds['smooth']=(),smooth\n",
    "mat_ds['hours_max']=(),hours_max\n",
    "mat_ds['hours_min']=(),hours_min\n",
    "mat_ds['nsteps']=(),nsteps\n",
    "# f: -2,2 hours\n",
    "# g: -13,12 hours\n",
    "mat_ds['version']=(),'20200305g'\n",
    "\n",
    "\n",
    "for row_idx,rec in utils.progress(manta.iterrows()):\n",
    "    # since we're just pulling out whole days, cache by day.\n",
    "    # and pull through the end of that day\n",
    "    fn=os.path.join(out_dir,f\"v01-{rec.DATE[:10]}.npy\")\n",
    "    particles=np.load(fn)\n",
    "    \n",
    "    # Stencil weighting:\n",
    "    g=ptm_set.grid()\n",
    "    c_select=g.select_cells_nearest(np.r_[rec.x,rec.y])\n",
    "    stencil=stencil0(c_select)\n",
    "    Ms=ptm_set.Msmooth()\n",
    "    for s in range(smooth):\n",
    "        stencil=Ms.dot(stencil)\n",
    "    # This sets the units -- particles per m2\n",
    "    cell_weight=stencil/g.cells_area()/nsteps\n",
    "\n",
    "    # calculate age index\n",
    "    age_h=(particles['time'] - particles['rel_time'])/3600. # 0 to 479.0\n",
    "    age_idx = age_h.astype(np.int32)\n",
    "    assert age_idx.min() >=0\n",
    "    assert age_idx.max() < mat_ds.dims['age']\n",
    "\n",
    "    # calculate load index\n",
    "    load_idx=np.array( [group_to_load_idx[g] for g in particles['group']] )\n",
    "\n",
    "    # link particles to manta concentration\n",
    "\n",
    "    # starting point is:\n",
    "    part_weights=particles['rel_part_volume'] * cell_weight[particles['cell']]\n",
    "\n",
    "    # time of observation relative to the time of the manta sample.\n",
    "    relative_time_h=(particles['time']-utils.to_unix(rec.time_utc))/3600.0\n",
    "    part_weights[relative_time_h<hours_min]=0.0\n",
    "    part_weights[relative_time_h>hours_max]=0.0\n",
    "\n",
    "    valid=np.nonzero(part_weights)[0] # typ 0.1% of all particles\n",
    "    for p in valid:\n",
    "        M[row_idx,load_idx[p],age_idx[p]] += part_weights[p]"
   ]
  },
  {
   "cell_type": "code",
   "execution_count": 111,
   "metadata": {},
   "outputs": [],
   "source": [
    "mat_ds['M']=('manta','load','age'),M\n",
    "mat_ds['M'].attrs['units']='particles m-3'"
   ]
  },
  {
   "cell_type": "code",
   "execution_count": 112,
   "metadata": {},
   "outputs": [],
   "source": [
    "# expand the load names to source and ws\n",
    "beh_to_ws={b'down50000':0.05,\n",
    "           b'down5000':0.005,\n",
    "           b'down500':0.0005,\n",
    "           b'none':0,\n",
    "           b'up500':-0.0005,\n",
    "           b'up5000':-0.005,\n",
    "           b'up50000':-0.05}\n",
    "\n",
    "wss=[]\n",
    "sources=[]\n",
    "for load in mat_ds['load'].values:\n",
    "    ws=beh_to_ws[ load.split(b'_')[-1] ]\n",
    "    source= b'_'.join( load.split(b'_')[:-1] )\n",
    "    wss.append(ws)\n",
    "    sources.append(source)\n",
    "\n",
    "mat_ds['w_s']=('load',),wss\n",
    "mat_ds['w_s'].attrs['units']='m s-1'\n",
    "mat_ds['w_s'].attrs['positive']='down'\n",
    "mat_ds['source']=('load',),sources"
   ]
  },
  {
   "cell_type": "code",
   "execution_count": 113,
   "metadata": {},
   "outputs": [],
   "source": [
    "# Load the loads\n",
    "loads_orig=xr.open_dataset(\"../loads/plastic_loads-7classes-v05.nc\")\n",
    "\n",
    "# And the per-watershed scaling factor\n",
    "storm_scales=pd.read_csv(\"../loads/stormwater_concs-v02.csv\")\n",
    "\n",
    "# Get rid of the extra fields in loads -- otherwise we have to fabricate\n",
    "# them for the watersheds\n",
    "loads=loads_orig.copy()\n",
    "\n",
    "for fld in ['n_blank_particles','n_blank_samples','blank_rate',\n",
    "            'total_volume','n_samples','count_w_s','count_no_w_s',\n",
    "            'conc_raw','conc_noclip','conc_blank','blank_derate']:\n",
    "    del loads[fld]\n",
    "\n",
    "# Extend loads_orig with storm_scales\n",
    "storm_conc=loads_orig['conc'].sel(source='stormwater')\n",
    "storm_conc_net=storm_conc.values.sum()\n",
    "storm_conc_net # 8.50 particles/l\n",
    "\n",
    "watershed_conc=np.zeros( (len(storm_scales),loads_orig.dims['category'],loads_orig.dims['w_s']))\n",
    "# bui(source, category, w_s) \n",
    "for storm_i,storm_scale in storm_scales.iterrows():\n",
    "    watershed_conc[storm_i,:,:] = storm_conc.values * storm_scale['net_coeff_scaled'] / storm_conc_net\n",
    "    \n",
    "watershed_loads=xr.Dataset()\n",
    "watershed_loads['source']=('source',),storm_scales['source']\n",
    "watershed_loads['conc']=('source','category','w_s'),watershed_conc\n",
    "watershed_loads['source_pathway']=('source',),['stormwater']*len(storm_scales)\n",
    "watershed_loads['pathway']=loads_orig['pathway']\n",
    "\n",
    "loads=xr.concat( (loads,watershed_loads), dim='source')\n",
    "\n",
    "# drop 'stormwater' to catch potential bugs later\n",
    "loads=loads.isel(source=(loads.source!='stormwater'))"
   ]
  },
  {
   "cell_type": "code",
   "execution_count": 114,
   "metadata": {},
   "outputs": [],
   "source": [
    "source_map=dict()\n",
    "source_map[b'cccsd']=b'CCCSD'\n",
    "source_map[b'sunnyvale']=b'SUNN'\n",
    "source_map[b'fs']=b'FSSD'\n",
    "source_map[b'palo_alto']=b'PA'\n",
    "source_map[b'san_jose']=b'SJ'\n",
    "source_map[b'src000']=b'EBDA'\n",
    "source_map[b'src001']=b'EBMUD'\n",
    "source_map[b'src002']=b'SFPUC'\n",
    "# these we don't actually use\n",
    "source_map[b'petaluma']=b'SKIP'\n",
    "source_map[b'sonoma_valley']=b'SKIP'\n",
    "source_map[b'SacRiver']=b'SKIP'\n",
    "source_map[b'SJRiver']=b'SKIP'\n",
    "source_map[b'Islais_Creek']=b'SKIP' # SF - routes to SFPUC.\n",
    "source_map[b'Black_Point']=b'SKIP'  # same\n",
    "for s in mat_ds['source'].values:\n",
    "    if s not in source_map:\n",
    "        source_map[s]=s"
   ]
  },
  {
   "cell_type": "code",
   "execution_count": 115,
   "metadata": {},
   "outputs": [],
   "source": [
    "# Assemble load vector\n",
    "def load_vector(load_da,mat_ds,wastewater_scale=1/0.70,stormwater_scale=1.0):\n",
    "    load_vec=np.zeros(mat_ds.dims['load'],np.float64)\n",
    "\n",
    "    sources=mat_ds['source'].values\n",
    "    wss=mat_ds['w_s'].values\n",
    "\n",
    "    missing_loads=[]\n",
    "    \n",
    "    for load_i in range(mat_ds.dims['load']):\n",
    "        source=sources[load_i]\n",
    "        w_s=wss[load_i]\n",
    "\n",
    "        # Names are slightly different between loads and sources\n",
    "        source_name=source_map[source].decode()\n",
    "\n",
    "        if source_name == 'SKIP':\n",
    "            load_vec[load_i]=0.0\n",
    "        else:\n",
    "            if source_name not in load_da.source.values:\n",
    "                if source_name not in missing_loads:\n",
    "                    missing_loads.append(source_name)\n",
    "                continue\n",
    "            conc=load_da.sel(source=source_name,w_s=w_s).item()\n",
    "\n",
    "            if source_name=='stormwater':\n",
    "                conc*=stormwater_scale\n",
    "            else:\n",
    "                conc*=wastewater_scale\n",
    "\n",
    "            # load netcdf is in particles/l, but we want to set the calculation\n",
    "            # up as particle/m3. Updated 2019-11-17\n",
    "            conc*=1000\n",
    "            load_vec[load_i]=conc\n",
    "    if missing_loads:\n",
    "        print(\"Missing loads -- probably update storm_landuse_v02\")\n",
    "        print(\"\\n\".join(missing_loads))\n",
    "        raise Exception(\"Some loads are missing\")\n",
    "    load_vec=xr.DataArray( load_vec, coords=[ ('load',mat_ds['load'])])\n",
    "    return load_vec"
   ]
  },
  {
   "cell_type": "code",
   "execution_count": 116,
   "metadata": {},
   "outputs": [],
   "source": [
    "# Choose particle category\n",
    "vers=mat_ds['version'].item()\n",
    "\n",
    "if 0:\n",
    "    #   spearman is almost constant.\n",
    "    #   log_r shows mostly a smooth=2 signal, but not that much variation.\n",
    "    #   r has a great pattern. but the values are about 0.25, and it's almost\n",
    "    #     certainly driven by a few large values, so not that convincing.\n",
    "    manta_field='part_per_m2_std'\n",
    "    load_da=loads.conc.sum(dim='category')\n",
    "    sub_vers=vers+\"std\"\n",
    "if 1:\n",
    "    # non-fibers:\n",
    "    #   quite similar to previous code.  tau=2 from pearson or log-r.\n",
    "    #   amp suggests 1.0d, but the manta size class issue easily justifies\n",
    "    #   saying this could be 2.0days.\n",
    "    manta_field='part_per_m2_nofiber'\n",
    "    # TODO: the above actually includes Fiber Bundles, which probably ought to\n",
    "    # be omitted with fibers.  for some data, Fiber Bundles were not counted \n",
    "    # separate from fibers.\n",
    "    load_sel=(loads.category.values != 'Fiber')&(loads.category.values!='Fiber Bundle')\n",
    "    load_da=loads.isel(category=load_sel).conc.sum(dim='category')\n",
    "    sub_vers=vers+\"nofiber\"\n",
    "if 0:\n",
    "    # films - pretty terrible.  amplitude suggests 3-4 days.\n",
    "    # correlations are screwy, and show the worst correlations at\n",
    "    # that same time scale.\n",
    "    manta_field='part_per_m2_film'\n",
    "    manta[manta_field]=manta['Fiber_adj']/manta['area_m2']\n",
    "    load_sel=(loads.category.values == 'Film')\n",
    "    load_da=loads.isel(category=load_sel).conc.sum(dim='category')\n",
    "    sub_vers=vers+\"film\"\n",
    "if 0:\n",
    "    # fragments - this one does look quite similar to the nofiber\n",
    "    # data.  amplitude ~ 1 day, spearman ~ 3 days\n",
    "    manta_field='part_per_m2_fragment'\n",
    "    manta[manta_field]=manta['Fragment_adj']/manta['area_m2']\n",
    "    load_sel=(loads.category.values == 'Fragment')\n",
    "    load_da=loads.isel(category=load_sel).conc.sum(dim='category')\n",
    "    sub_vers=vers+\"fragment\"\n",
    "if 0:\n",
    "    # just fibers!  spearman says shortest tau, least smoothing\n",
    "    # log(amp) says a bit less than 1 day.\n",
    "    # wilmott says 0.5 days\n",
    "    manta_field='part_per_m2_fiber'\n",
    "    manta[manta_field]=(manta['Fiber_adj']+manta['Fiber Bundle_adj'])/manta['area_m2']\n",
    "    load_sel=(loads.category.values == 'Fiber')|(loads.category.values=='Fiber Bundle')\n",
    "    load_da=loads.isel(category=load_sel).conc.sum(dim='category')\n",
    "    sub_vers=vers+\"fiber\"\n",
    "if 0:\n",
    "    # foam - spearman says full smoothing, shortest tau\n",
    "    # amplitude says 1-2 days\n",
    "    manta_field='part_per_m2_foam'\n",
    "    manta[manta_field]=manta['Foam_adj']/manta['area_m2']\n",
    "    load_sel=(loads.category.values == 'Foam')\n",
    "    load_da=loads.isel(category=load_sel).conc.sum(dim='category')\n",
    "    sub_vers=vers+\"foam\"\n",
    "if 0:\n",
    "    # sphere\n",
    "    manta_field='part_per_m2_sphere'\n",
    "    manta[manta_field]=manta['Sphere_adj']/manta['area_m2']\n",
    "    load_sel=(loads.category.values == 'Sphere')\n",
    "    load_da=loads.isel(category=load_sel).conc.sum(dim='category')\n",
    "    sub_vers=vers+\"sphere\"\n",
    "    \n",
    "sub_vers=sub_vers+'_smooth%d'%( mat_ds['smooth'].item())"
   ]
  },
  {
   "cell_type": "code",
   "execution_count": 117,
   "metadata": {},
   "outputs": [],
   "source": [
    "# smooth is baked into M.\n",
    "taus=np.array([0.5,1,2,3,4,5,7.5,10,15,20]) * 86400\n",
    "\n",
    "all_results=[]\n",
    "per_trawls=[]\n",
    "\n",
    "smooths=[mat_ds['smooth'].item()]\n",
    "\n",
    "for tau in taus:\n",
    "    # mat_ds['M'] ~ manta x load x age\n",
    "    tau_h=tau/3600.\n",
    "    age_fac=xr.DataArray( np.exp(-mat_ds['age']/tau_h),\n",
    "                          dims=['age'])\n",
    "    load_vec=load_vector(load_da,mat_ds)\n",
    "    pred=((mat_ds['M']*age_fac).sum(dim='age') * load_vec).sum(dim='load').values\n",
    "    obs=manta[manta_field]\n",
    "\n",
    "    per_trawl=manta.copy()\n",
    "    per_trawl['predicted']=pred\n",
    "    per_trawls.append(per_trawl)\n",
    "\n",
    "    valid=np.isfinite(obs)\n",
    "    pred=pred[valid]\n",
    "    obs=obs[valid]\n",
    "\n",
    "    metrics=calc_metrics( xr.DataArray(pred), xr.DataArray(obs))\n",
    "    metrics['smooth']=smooth\n",
    "    metrics['tau']=tau\n",
    "    metrics['dataset']=sub_vers\n",
    "\n",
    "    metrics['log_r']=np.corrcoef( np.log10(pred.clip(1e-6)), np.log10(obs.clip(1e-6)))[1,0]\n",
    "    all_results.append(metrics)\n",
    "\n",
    "df=pd.DataFrame(all_results)\n",
    "df.to_csv(f\"parameter-scan-{sub_vers}.csv\")"
   ]
  },
  {
   "cell_type": "code",
   "execution_count": 118,
   "metadata": {},
   "outputs": [
    {
     "name": "stderr",
     "output_type": "stream",
     "text": [
      "/opt/anaconda3/envs/general/lib/python3.7/site-packages/pandas/core/series.py:856: RuntimeWarning: divide by zero encountered in log10\n",
      "  result = getattr(ufunc, method)(*inputs, **kwargs)\n"
     ]
    },
    {
     "data": {
      "image/png": "[encoded data removed]",
      "text/plain": [
       "<Figure size 684x360 with 3 Axes>"
      ]
     },
     "metadata": {
      "needs_background": "light"
     },
     "output_type": "display_data"
    }
   ],
   "source": [
    "# Look at the spatial distribution of errors\n",
    "# manual tinkering \n",
    "smooths=[mat_ds['smooth'].item()]\n",
    "\n",
    "tau=2*86400\n",
    "\n",
    "# mat_ds['M'] ~ manta x load x age\n",
    "tau_h=tau/3600.\n",
    "min_age_fac=0.001\n",
    "age_fac=xr.DataArray( np.exp(-mat_ds['age']/tau_h).clip(min_age_fac),\n",
    "                      dims=['age'])\n",
    "load_vec=load_vector(load_da,mat_ds)\n",
    "pred=((mat_ds['M']*age_fac).sum(dim='age') * load_vec).sum(dim='load').values\n",
    "obs=manta[manta_field]\n",
    "\n",
    "per_trawl=manta.copy()\n",
    "per_trawl['predicted']=pred\n",
    "\n",
    "valid=np.isfinite(obs)\n",
    "pred=pred[valid]\n",
    "obs=obs[valid]\n",
    "\n",
    "metrics=calc_metrics( xr.DataArray(pred), xr.DataArray(obs))\n",
    "metrics['smooth']=smooth\n",
    "metrics['tau']=tau\n",
    "metrics['dataset']=sub_vers\n",
    "\n",
    "metrics['log_r']=np.corrcoef( np.log10(pred.clip(1e-6)), np.log10(obs.clip(1e-6)))[1,0]\n",
    "\n",
    "amp=metrics['amp']\n",
    "\n",
    "# ----\n",
    "fig,axs=plt.subplots(1,3,sharex=True,sharey=True,figsize=(9.5,5))\n",
    "\n",
    "for ax in axs:\n",
    "    #g.plot_edges(color='k',lw=0.4,ax=ax)\n",
    "    plot_wkb.plot_wkb(g_poly,edgecolor='k',facecolor='0.95',ax=ax,zorder=-5)\n",
    "    ax.axis('off')\n",
    "\n",
    "err=np.log10( per_trawl['predicted']/amp / per_trawl['part_per_m2_nofiber'] )\n",
    "\n",
    "scats=[\n",
    "    axs[0].scatter( per_trawl['x'], per_trawl['y'],20,\n",
    "                    np.log10(per_trawl['part_per_m2_nofiber']),cmap='jet'),\n",
    "    axs[1].scatter( per_trawl['x'], per_trawl['y'],20,\n",
    "                    np.log10(per_trawl['predicted']/amp),cmap='jet'),\n",
    "    axs[2].scatter( per_trawl['x'], per_trawl['y'],20,err,cmap='jet')\n",
    "]\n",
    "\n",
    "scats[0].set_clim([-3,1])\n",
    "scats[1].set_clim([-3,1])\n",
    "scats[2].set_clim([-1,1])\n",
    "fig.tight_layout()\n",
    "axs[0].axis( (524799.9206707922, 586959.838715973, 4135420.4930665633, 4243617.948999238) )\n",
    "\n",
    "axs[2].text(0.1,0.9,f\"Amp={amp:.2f}  r$^2( \\log )$={metrics['log_r']**2:.3f}\",\n",
    "            transform=axs[2].transAxes)\n",
    "\n",
    "fig.subplots_adjust(left=0.,right=1)"
   ]
  },
  {
   "cell_type": "code",
   "execution_count": 119,
   "metadata": {},
   "outputs": [
    {
     "data": {
      "text/plain": [
       "Text(0, 0.5, 'Model')"
      ]
     },
     "execution_count": 119,
     "metadata": {},
     "output_type": "execute_result"
    },
    {
     "data": {
      "image/png": "[encoded data removed]",
      "text/plain": [
       "<Figure size 432x288 with 1 Axes>"
      ]
     },
     "metadata": {
      "needs_background": "light"
     },
     "output_type": "display_data"
    }
   ],
   "source": [
    "## And a scatter plot\n",
    "fig2,ax_s=plt.subplots(1,1)\n",
    "ax_s.plot(np.log10(per_trawl['part_per_m2_nofiber']),\n",
    "          np.log10(per_trawl['predicted']/amp),\n",
    "         'g.')\n",
    "ax_s.axis('equal')\n",
    "ax_s.plot([-4,1],[-4,1],'k-',lw=0.5,zorder=-1)\n",
    "ax_s.set_xlabel('Obs')\n",
    "ax_s.set_ylabel('Model')"
   ]
  },
  {
   "cell_type": "code",
   "execution_count": 120,
   "metadata": {},
   "outputs": [],
   "source": [
    "df=pd.read_csv(f'parameter-scan-{sub_vers}.csv')\n",
    "df['tau_d']=df.tau/86400."
   ]
  },
  {
   "cell_type": "code",
   "execution_count": 121,
   "metadata": {},
   "outputs": [
    {
     "data": {
      "text/html": [
       "<div>\n",
       "<style scoped>\n",
       "    .dataframe tbody tr th:only-of-type {\n",
       "        vertical-align: middle;\n",
       "    }\n",
       "\n",
       "    .dataframe tbody tr th {\n",
       "        vertical-align: top;\n",
       "    }\n",
       "\n",
       "    .dataframe thead th {\n",
       "        text-align: right;\n",
       "    }\n",
       "</style>\n",
       "<table border=\"1\" class=\"dataframe\">\n",
       "  <thead>\n",
       "    <tr style=\"text-align: right;\">\n",
       "      <th></th>\n",
       "      <th>amp</th>\n",
       "      <th>log_r2</th>\n",
       "      <th>murphy</th>\n",
       "      <th>r</th>\n",
       "      <th>spearman_rho</th>\n",
       "      <th>tau_d</th>\n",
       "    </tr>\n",
       "  </thead>\n",
       "  <tbody>\n",
       "    <tr>\n",
       "      <th>0</th>\n",
       "      <td>0.290351</td>\n",
       "      <td>0.343451</td>\n",
       "      <td>-0.104446</td>\n",
       "      <td>-0.000572</td>\n",
       "      <td>0.658785</td>\n",
       "      <td>0.5</td>\n",
       "    </tr>\n",
       "    <tr>\n",
       "      <th>1</th>\n",
       "      <td>0.817052</td>\n",
       "      <td>0.376105</td>\n",
       "      <td>-0.660135</td>\n",
       "      <td>0.004698</td>\n",
       "      <td>0.660446</td>\n",
       "      <td>1.0</td>\n",
       "    </tr>\n",
       "    <tr>\n",
       "      <th>2</th>\n",
       "      <td>1.935639</td>\n",
       "      <td>0.379643</td>\n",
       "      <td>-3.842989</td>\n",
       "      <td>0.013804</td>\n",
       "      <td>0.642701</td>\n",
       "      <td>2.0</td>\n",
       "    </tr>\n",
       "    <tr>\n",
       "      <th>3</th>\n",
       "      <td>2.954733</td>\n",
       "      <td>0.362990</td>\n",
       "      <td>-9.174812</td>\n",
       "      <td>0.016041</td>\n",
       "      <td>0.628584</td>\n",
       "      <td>3.0</td>\n",
       "    </tr>\n",
       "    <tr>\n",
       "      <th>4</th>\n",
       "      <td>3.782685</td>\n",
       "      <td>0.347873</td>\n",
       "      <td>-15.251692</td>\n",
       "      <td>0.016274</td>\n",
       "      <td>0.619930</td>\n",
       "      <td>4.0</td>\n",
       "    </tr>\n",
       "    <tr>\n",
       "      <th>5</th>\n",
       "      <td>4.446544</td>\n",
       "      <td>0.338769</td>\n",
       "      <td>-21.282190</td>\n",
       "      <td>0.015941</td>\n",
       "      <td>0.610621</td>\n",
       "      <td>5.0</td>\n",
       "    </tr>\n",
       "    <tr>\n",
       "      <th>6</th>\n",
       "      <td>5.621666</td>\n",
       "      <td>0.327169</td>\n",
       "      <td>-34.560145</td>\n",
       "      <td>0.014700</td>\n",
       "      <td>0.590385</td>\n",
       "      <td>7.5</td>\n",
       "    </tr>\n",
       "    <tr>\n",
       "      <th>7</th>\n",
       "      <td>6.383485</td>\n",
       "      <td>0.314465</td>\n",
       "      <td>-45.000832</td>\n",
       "      <td>0.013627</td>\n",
       "      <td>0.584353</td>\n",
       "      <td>10.0</td>\n",
       "    </tr>\n",
       "    <tr>\n",
       "      <th>8</th>\n",
       "      <td>7.307897</td>\n",
       "      <td>0.300971</td>\n",
       "      <td>-59.672091</td>\n",
       "      <td>0.012163</td>\n",
       "      <td>0.566608</td>\n",
       "      <td>15.0</td>\n",
       "    </tr>\n",
       "    <tr>\n",
       "      <th>9</th>\n",
       "      <td>7.847352</td>\n",
       "      <td>0.294018</td>\n",
       "      <td>-69.273688</td>\n",
       "      <td>0.011260</td>\n",
       "      <td>0.556949</td>\n",
       "      <td>20.0</td>\n",
       "    </tr>\n",
       "  </tbody>\n",
       "</table>\n",
       "</div>"
      ],
      "text/plain": [
       "        amp    log_r2     murphy         r  spearman_rho  tau_d\n",
       "0  0.290351  0.343451  -0.104446 -0.000572      0.658785    0.5\n",
       "1  0.817052  0.376105  -0.660135  0.004698      0.660446    1.0\n",
       "2  1.935639  0.379643  -3.842989  0.013804      0.642701    2.0\n",
       "3  2.954733  0.362990  -9.174812  0.016041      0.628584    3.0\n",
       "4  3.782685  0.347873 -15.251692  0.016274      0.619930    4.0\n",
       "5  4.446544  0.338769 -21.282190  0.015941      0.610621    5.0\n",
       "6  5.621666  0.327169 -34.560145  0.014700      0.590385    7.5\n",
       "7  6.383485  0.314465 -45.000832  0.013627      0.584353   10.0\n",
       "8  7.307897  0.300971 -59.672091  0.012163      0.566608   15.0\n",
       "9  7.847352  0.294018 -69.273688  0.011260      0.556949   20.0"
      ]
     },
     "execution_count": 121,
     "metadata": {},
     "output_type": "execute_result"
    }
   ],
   "source": [
    "df['log_r2']=df.log_r**2\n",
    "df.loc[:,['amp','log_r2','murphy','r','spearman_rho','tau_d']]"
   ]
  },
  {
   "cell_type": "code",
   "execution_count": 122,
   "metadata": {},
   "outputs": [
    {
     "data": {
      "image/png": "[encoded data removed]",
      "text/plain": [
       "<Figure size 432x288 with 1 Axes>"
      ]
     },
     "metadata": {
      "needs_background": "light"
     },
     "output_type": "display_data"
    }
   ],
   "source": [
    "field='log_r'\n",
    "nice_field='$r^2$ for log transformed'\n",
    "\n",
    "as_matrix=df.set_index(['smooth','tau_d'])[field].unstack()\n",
    "\n",
    "fig,ax=plt.subplots(1,1)\n",
    "if len(smooths)>1:\n",
    "    hm=sns.heatmap(as_matrix**2, annot=True)\n",
    "    ax.set_ylabel('Smoothing iterations',fontsize=14)\n",
    "    cax=fig.axes[1]\n",
    "    cax.set_ylabel(nice_field,fontsize=14)\n",
    "    plt.subplots_adjust(bottom=0.15,top=0.95,right=0.9)\n",
    "else:\n",
    "    ax.plot(df['tau_d'],df[field]**2,'g-o')\n",
    "    ax.set_ylabel(nice_field)\n",
    "ax.set_xlabel(r'$\\tau$ (days)',fontsize=14)\n",
    "fig.savefig(f'manta_compare_log_r2-{sub_vers}.png',dpi=200)\n",
    "\n"
   ]
  },
  {
   "cell_type": "code",
   "execution_count": 31,
   "metadata": {},
   "outputs": [],
   "source": [
    "# roughly, looking at 10 day output, South Bay is mostly underpredicted\n",
    "# except near shore.\n",
    "# GG and coastal ocean overpredicted.\n",
    "# LSB overpredicted.\n",
    "# Suisun, Richmond overpredicted.\n",
    "# Far coast underpredicted.\n",
    "# So either there are particles out there that didn't come from the Bay, or \n",
    "# we need some fraction of particles that live longer."
   ]
  },
  {
   "cell_type": "code",
   "execution_count": 32,
   "metadata": {},
   "outputs": [
    {
     "data": {
      "image/png": "[encoded data removed]",
      "text/plain": [
       "<Figure size 432x288 with 1 Axes>"
      ]
     },
     "metadata": {
      "needs_background": "light"
     },
     "output_type": "display_data"
    }
   ],
   "source": [
    "field='spearman_rho'\n",
    "nice_field=r'Spearman $\\rho$'\n",
    "\n",
    "as_matrix=df.set_index(['smooth','tau_d'])[field].unstack()\n",
    "\n",
    "fig,ax=plt.subplots(1,1)\n",
    "if len(smooths)>1:\n",
    "    hm=sns.heatmap(as_matrix, annot=True)\n",
    "    ax.set_ylabel('Smoothing iterations',fontsize=14)\n",
    "    cax=fig.axes[1]\n",
    "    cax.set_ylabel(nice_field,fontsize=14)\n",
    "    plt.subplots_adjust(bottom=0.15,top=0.95,right=0.9)\n",
    "else:\n",
    "    ax.plot(df['tau_d'],df[field],'g-o')\n",
    "    ax.set_ylabel(nice_field)\n",
    "ax.set_xlabel(r'$\\tau$ (days)',fontsize=14)\n",
    "fig.savefig(f'manta_compare_spearman_rho-{sub_vers}.png',dpi=200)"
   ]
  },
  {
   "cell_type": "code",
   "execution_count": null,
   "metadata": {},
   "outputs": [],
   "source": [
    "df['log_amp']=np.log10(df.amp)\n",
    "field='log_amp'\n",
    "nice_field='log$_{10}$(amp)'\n",
    "\n",
    "\n",
    "fig,ax=plt.subplots(1,1)\n",
    "if len(smooths)>1:\n",
    "    as_matrix=df.set_index(['smooth','tau_d'])[field].unstack()\n",
    "    hm=sns.heatmap(as_matrix, annot=True,cmap='coolwarm',ax=ax,\n",
    "                   cbar_kws=dict(label=field),vmin=-1,vmax=1)\n",
    "    plt.subplots_adjust(bottom=0.15,top=0.95,right=0.9)\n",
    "    ax.set_ylabel('Smoothing iterations',fontsize=14)\n",
    "    cax=fig.axes[1]\n",
    "    cax.set_ylabel(nice_field,fontsize=14)\n",
    "else:\n",
    "    ax.plot(df['tau_d'],df[field],'g-o')\n",
    "    ax.set_ylabel(nice_field)\n",
    "    ax.axhline(0,color='k',lw=0.5)\n",
    "    \n",
    "ax.set_xlabel(r'$\\tau$ (days)',fontsize=14)\n",
    "fig.savefig(f'manta_compare_log10amp-{sub_vers}.png',dpi=200)\n"
   ]
  },
  {
   "cell_type": "code",
   "execution_count": null,
   "metadata": {},
   "outputs": [],
   "source": [
    "field='wilmott'\n",
    "\n",
    "as_matrix=df.set_index(['smooth','tau_d'])[field].unstack()\n",
    "\n",
    "plt.figure()\n",
    "hm=sns.heatmap(as_matrix, annot=True,cbar_kws=dict(label=field))\n",
    "plt.subplots_adjust(bottom=0.25)"
   ]
  },
  {
   "cell_type": "code",
   "execution_count": null,
   "metadata": {},
   "outputs": [],
   "source": [
    "field='r'\n",
    "\n",
    "as_matrix=df.set_index(['smooth','tau_d'])[field].unstack()\n",
    "\n",
    "plt.figure()\n",
    "hm=sns.heatmap(as_matrix, annot=True,cbar_kws=dict(label=field))\n",
    "plt.subplots_adjust(bottom=0.25)"
   ]
  },
  {
   "cell_type": "code",
   "execution_count": null,
   "metadata": {},
   "outputs": [],
   "source": [
    "field='murphy'\n",
    "\n",
    "as_matrix=df.set_index(['smooth','tau_d'])[field].unstack()\n",
    "\n",
    "plt.figure()\n",
    "hm=sns.heatmap(as_matrix, annot=True,cbar_kws=dict(label=field))\n",
    "plt.subplots_adjust(bottom=0.25)"
   ]
  },
  {
   "cell_type": "code",
   "execution_count": null,
   "metadata": {},
   "outputs": [],
   "source": [
    "# Any improvement by aggregating trawls?\n",
    "per_trawls[0].head()"
   ]
  },
  {
   "cell_type": "code",
   "execution_count": 33,
   "metadata": {},
   "outputs": [],
   "source": [
    "def analyze_medians(df):\n",
    "    dfm=df.loc[:,['region','obs','predicted']].melt(id_vars=['region']).set_index(['region','variable'])\n",
    "\n",
    "    dfm.sort_index(inplace=True)\n",
    "\n",
    "    def p_total(f):\n",
    "        # Maximize the combined median test\n",
    "        p_tot=1.0\n",
    "        for region in ['CB','NB','SB','NMS']:\n",
    "            obs=dfm.loc[ (region,'obs'), 'value']\n",
    "            mod=f*dfm.loc[ (region,'predicted'), 'value']\n",
    "            # is it better to choose just the modeled data where the observation\n",
    "            # is valid?\n",
    "            stat,p,M,cont=stats.median_test( obs[np.isfinite(obs)] ,\n",
    "                                             mod[np.isfinite(mod)] )\n",
    "            p_tot*=p\n",
    "        return p_tot\n",
    "\n",
    "    def cost(p):\n",
    "        return -p_total( 10**p )\n",
    "\n",
    "    from scipy.optimize import brute\n",
    "\n",
    "    best=brute(cost,[[-4,1]],Ns=51)\n",
    "    scale=10**best[0]\n",
    "    p_tot=p_total(scale)\n",
    "    print(f\"P-total: {p_tot:.3f}  with scale: {1/scale:5f}\")\n",
    "    return p_tot,scale"
   ]
  },
  {
   "cell_type": "code",
   "execution_count": 123,
   "metadata": {},
   "outputs": [],
   "source": [
    "# Group samples - Central Bay, North Bay, South Bay, NMS.\n",
    "def loc_to_region(s):\n",
    "    if s.startswith('SPB') or s.startswith('SUB'): return 'NB'\n",
    "    if s.startswith('SB') or s.startswith('LSB'): return 'SB'\n",
    "    if s.startswith('GFNMS') or s.startswith('MBNMS') or s.startswith('CBNMS'): \n",
    "        return 'NMS'\n",
    "    if s.startswith('CB') or s=='SFBay': return 'CB'\n",
    "    raise Exception(\"No match for %s\"%s)"
   ]
  },
  {
   "cell_type": "code",
   "execution_count": 34,
   "metadata": {
    "scrolled": false
   },
   "outputs": [
    {
     "name": "stdout",
     "output_type": "stream",
     "text": [
      "Tau: 0.5\n",
      "P-total: 0.000  with scale: 0.100000\n",
      "0.5 days: ampl. error: 0.100 Median test net p: 0.00013\n",
      "\n",
      "Tau: 1.0\n"
     ]
    },
    {
     "name": "stderr",
     "output_type": "stream",
     "text": [
      "/opt/anaconda3/envs/general/lib/python3.7/site-packages/pandas/core/indexing.py:1418: PerformanceWarning: indexing past lexsort depth may impact performance.\n",
      "  return self._getitem_tuple(key)\n"
     ]
    },
    {
     "name": "stdout",
     "output_type": "stream",
     "text": [
      "P-total: 0.007  with scale: 0.398107\n",
      "1.0 days: ampl. error: 0.398 Median test net p: 0.00708\n",
      "\n",
      "Tau: 2.0\n"
     ]
    },
    {
     "name": "stderr",
     "output_type": "stream",
     "text": [
      "/opt/anaconda3/envs/general/lib/python3.7/site-packages/pandas/core/indexing.py:1418: PerformanceWarning: indexing past lexsort depth may impact performance.\n",
      "  return self._getitem_tuple(key)\n"
     ]
    },
    {
     "name": "stdout",
     "output_type": "stream",
     "text": [
      "P-total: 0.031  with scale: 0.501187\n",
      "2.0 days: ampl. error: 0.501 Median test net p: 0.03125\n",
      "\n",
      "Tau: 3.0\n"
     ]
    },
    {
     "name": "stderr",
     "output_type": "stream",
     "text": [
      "/opt/anaconda3/envs/general/lib/python3.7/site-packages/pandas/core/indexing.py:1418: PerformanceWarning: indexing past lexsort depth may impact performance.\n",
      "  return self._getitem_tuple(key)\n"
     ]
    },
    {
     "name": "stdout",
     "output_type": "stream",
     "text": [
      "P-total: 0.117  with scale: 1.258925\n",
      "3.0 days: ampl. error: 1.259 Median test net p: 0.11709\n",
      "\n",
      "Tau: 4.0\n"
     ]
    },
    {
     "name": "stderr",
     "output_type": "stream",
     "text": [
      "/opt/anaconda3/envs/general/lib/python3.7/site-packages/pandas/core/indexing.py:1418: PerformanceWarning: indexing past lexsort depth may impact performance.\n",
      "  return self._getitem_tuple(key)\n"
     ]
    },
    {
     "name": "stdout",
     "output_type": "stream",
     "text": [
      "P-total: 0.226  with scale: 1.995262\n",
      "4.0 days: ampl. error: 1.995 Median test net p: 0.22574\n",
      "\n",
      "Tau: 5.0\n"
     ]
    },
    {
     "name": "stderr",
     "output_type": "stream",
     "text": [
      "/opt/anaconda3/envs/general/lib/python3.7/site-packages/pandas/core/indexing.py:1418: PerformanceWarning: indexing past lexsort depth may impact performance.\n",
      "  return self._getitem_tuple(key)\n"
     ]
    },
    {
     "name": "stdout",
     "output_type": "stream",
     "text": [
      "P-total: 0.226  with scale: 3.162278\n",
      "5.0 days: ampl. error: 3.162 Median test net p: 0.22574\n",
      "\n",
      "Tau: 7.5\n"
     ]
    },
    {
     "name": "stderr",
     "output_type": "stream",
     "text": [
      "/opt/anaconda3/envs/general/lib/python3.7/site-packages/pandas/core/indexing.py:1418: PerformanceWarning: indexing past lexsort depth may impact performance.\n",
      "  return self._getitem_tuple(key)\n"
     ]
    },
    {
     "name": "stdout",
     "output_type": "stream",
     "text": [
      "P-total: 0.163  with scale: 5.011872\n",
      "7.5 days: ampl. error: 5.012 Median test net p: 0.16282\n",
      "\n",
      "Tau: 10.0\n"
     ]
    },
    {
     "name": "stderr",
     "output_type": "stream",
     "text": [
      "/opt/anaconda3/envs/general/lib/python3.7/site-packages/pandas/core/indexing.py:1418: PerformanceWarning: indexing past lexsort depth may impact performance.\n",
      "  return self._getitem_tuple(key)\n"
     ]
    },
    {
     "name": "stdout",
     "output_type": "stream",
     "text": [
      "P-total: 0.163  with scale: 5.011872\n",
      "10.0 days: ampl. error: 5.012 Median test net p: 0.16282\n",
      "\n",
      "Tau: 15.0\n"
     ]
    },
    {
     "name": "stderr",
     "output_type": "stream",
     "text": [
      "/opt/anaconda3/envs/general/lib/python3.7/site-packages/pandas/core/indexing.py:1418: PerformanceWarning: indexing past lexsort depth may impact performance.\n",
      "  return self._getitem_tuple(key)\n"
     ]
    },
    {
     "name": "stdout",
     "output_type": "stream",
     "text": [
      "P-total: 0.163  with scale: 5.011872\n",
      "15.0 days: ampl. error: 5.012 Median test net p: 0.16282\n",
      "\n",
      "Tau: 20.0\n"
     ]
    },
    {
     "name": "stderr",
     "output_type": "stream",
     "text": [
      "/opt/anaconda3/envs/general/lib/python3.7/site-packages/pandas/core/indexing.py:1418: PerformanceWarning: indexing past lexsort depth may impact performance.\n",
      "  return self._getitem_tuple(key)\n"
     ]
    },
    {
     "name": "stdout",
     "output_type": "stream",
     "text": [
      "P-total: 0.163  with scale: 6.309573\n",
      "20.0 days: ampl. error: 6.310 Median test net p: 0.16282\n",
      "\n"
     ]
    },
    {
     "name": "stderr",
     "output_type": "stream",
     "text": [
      "/opt/anaconda3/envs/general/lib/python3.7/site-packages/pandas/core/indexing.py:1418: PerformanceWarning: indexing past lexsort depth may impact performance.\n",
      "  return self._getitem_tuple(key)\n"
     ]
    },
    {
     "data": {
      "image/png": "[encoded data removed]",
      "text/plain": [
       "<Figure size 432x288 with 1 Axes>"
      ]
     },
     "metadata": {
      "needs_background": "light"
     },
     "output_type": "display_data"
    },
    {
     "data": {
      "image/png": "[encoded data removed]",
      "text/plain": [
       "<Figure size 432x288 with 1 Axes>"
      ]
     },
     "metadata": {
      "needs_background": "light"
     },
     "output_type": "display_data"
    },
    {
     "data": {
      "image/png": "[encoded data removed]",
      "text/plain": [
       "<Figure size 432x288 with 1 Axes>"
      ]
     },
     "metadata": {
      "needs_background": "light"
     },
     "output_type": "display_data"
    },
    {
     "data": {
      "image/png": "[encoded data removed]",
      "text/plain": [
       "<Figure size 432x288 with 1 Axes>"
      ]
     },
     "metadata": {
      "needs_background": "light"
     },
     "output_type": "display_data"
    },
    {
     "data": {
      "image/png": "[encoded data removed]",
      "text/plain": [
       "<Figure size 432x288 with 1 Axes>"
      ]
     },
     "metadata": {
      "needs_background": "light"
     },
     "output_type": "display_data"
    },
    {
     "data": {
      "image/png": "[encoded data removed]",
      "text/plain": [
       "<Figure size 432x288 with 1 Axes>"
      ]
     },
     "metadata": {
      "needs_background": "light"
     },
     "output_type": "display_data"
    },
    {
     "data": {
      "image/png": "[encoded data removed]",
      "text/plain": [
       "<Figure size 432x288 with 1 Axes>"
      ]
     },
     "metadata": {
      "needs_background": "light"
     },
     "output_type": "display_data"
    },
    {
     "data": {
      "image/png": "[encoded data removed]",
      "text/plain": [
       "<Figure size 432x288 with 1 Axes>"
      ]
     },
     "metadata": {
      "needs_background": "light"
     },
     "output_type": "display_data"
    },
    {
     "data": {
      "image/png": "[encoded data removed]",
      "text/plain": [
       "<Figure size 432x288 with 1 Axes>"
      ]
     },
     "metadata": {
      "needs_background": "light"
     },
     "output_type": "display_data"
    },
    {
     "data": {
      "image/png": "[encoded data removed]",
      "text/plain": [
       "<Figure size 432x288 with 1 Axes>"
      ]
     },
     "metadata": {
      "needs_background": "light"
     },
     "output_type": "display_data"
    }
   ],
   "source": [
    "    \n",
    "for tau,df in zip(taus,per_trawls):\n",
    "    print(f\"Tau: {tau/86400.}\")\n",
    "    df=df[ df[manta_field].notnull() ].copy()\n",
    "    \n",
    "    regions=df['region']=df['SAMPLE LOCATION'].apply(loc_to_region)\n",
    "    df=df.rename(columns={manta_field:'obs'}).loc[:,['region','obs','predicted']]\n",
    "\n",
    "    # Scale gets optimized to find the best nonparametric match\n",
    "    p_tot,scale=analyze_medians(df)\n",
    "\n",
    "    # This is not rigorous!\n",
    "    obs_mag=1.0\n",
    "    pred_mag=1/scale\n",
    "    \n",
    "    df['obs_frac']=df['obs'] / obs_mag\n",
    "    df['pred_frac']=df['predicted'] / pred_mag\n",
    "\n",
    "    dfm=df.loc[:,['region','obs_frac','pred_frac']].melt(id_vars=['region'])\n",
    "\n",
    "    fig,ax=plt.subplots(1,1)# ,figsize=(10,3))\n",
    "    sns.boxplot(x='region',y='value',hue='variable',data=dfm,fliersize=0,whis=0,\n",
    "                ax=ax,bootstrap=1000)\n",
    "    ax.axis(ymax=0.35,ymin=0)\n",
    "    ax.legend(ax.artists,['Observed',f'Predicted/{pred_mag:.2f}'],loc='upper right')\n",
    "    ax.set_ylabel('Particle m$^{-2}$')\n",
    "    ax.set_xlabel('Region')\n",
    "    \n",
    "    ax.set_title(f'Tau={tau/86400.} days  $\\\\Pi \\\\rho$={p_tot:.2f}')\n",
    "    df2=dfm.set_index(['region','variable'])\n",
    "    p_tot=1.0\n",
    "    for region in ['CB','NB','SB','NMS']:\n",
    "        stat,p,M,cont=stats.median_test( df2.loc[ (region,'obs_frac'), 'value'] ,\n",
    "                                         df2.loc[ (region,'pred_frac'), 'value'] )\n",
    "        p_tot*=p\n",
    "    print(f\"{tau/86400.} days: ampl. error: {pred_mag/obs_mag:.3f} Median test net p: {p_tot:.5f}\")\n",
    "    \n",
    "    print()\n",
    "    fig.savefig(f'manta_comp_v04-tau{tau/86400}.png',dpi=200)"
   ]
  },
  {
   "cell_type": "code",
   "execution_count": null,
   "metadata": {},
   "outputs": [],
   "source": [
    "# With the updated loads, the overall amplitude error is way better -\n",
    "# down to 10x or less.\n",
    "# The fit itself is not great, and the time scales are even shorter than\n",
    "# before."
   ]
  },
  {
   "cell_type": "code",
   "execution_count": 85,
   "metadata": {
    "scrolled": false
   },
   "outputs": [
    {
     "name": "stdout",
     "output_type": "stream",
     "text": [
      "Tau: 7.5\n"
     ]
    },
    {
     "data": {
      "text/plain": [
       "<matplotlib.legend.Legend at 0x7efe19a10358>"
      ]
     },
     "execution_count": 85,
     "metadata": {},
     "output_type": "execute_result"
    },
    {
     "data": {
      "image/png": "[encoded data removed]",
      "text/plain": [
       "<Figure size 432x288 with 1 Axes>"
      ]
     },
     "metadata": {
      "needs_background": "light"
     },
     "output_type": "display_data"
    }
   ],
   "source": [
    "# Can I fit a distribution to the per-region data, in order\n",
    "# to then go Bayesian?\n",
    "for tau,df in zip(taus,per_trawls):\n",
    "    if tau/86400.>7:\n",
    "        break\n",
    "    \n",
    "print(f\"Tau: {tau/86400.}\")\n",
    "regions=df['region']=df['SAMPLE LOCATION'].apply(loc_to_region)\n",
    "df=df.rename(columns={manta_field:'obs'}).loc[:,['region','obs','predicted']]\n",
    "\n",
    "#for region in regions.unique():\n",
    "#    fig=plt.figure()\n",
    "#    sns.distplot(df['obs'][df['region']==region],rug=True)\n",
    "#    fig.axes[0].set_title(region)\n",
    "\n",
    "# one for all of the data:\n",
    "fig=plt.figure()\n",
    "sns.distplot(np.log(df['obs'].clip(5e-5)),\n",
    "             rug=True,kde_kws=dict(gridsize=200,label='KDE'))\n",
    "ax=fig.axes[0]\n",
    "ax.set_title('All')\n",
    "\n",
    "# Manually tune some distributions\n",
    "x=np.logspace(-5,4,200)\n",
    "\n",
    "logx=np.log(x)\n",
    "mu=-1.8\n",
    "sig=1.7\n",
    "dens_lognorm=1/(x*sig*np.sqrt(2*np.pi)) * np.exp(- (logx-mu)**2/(2*sig**2))\n",
    "dens_lognorm = 0.22* dens_lognorm / dens_lognorm.max()\n",
    "ax.plot(logx,dens_lognorm,label='log-normal')\n",
    "\n",
    "# ax.plot(logx,stats.chi.pdf(x,1,loc=0,scale=1),label='chi')\n",
    "# ax.plot(logx, stats.gamma.pdf(x,1.4,scale=0.06)/40,label='$\\Gamma$')\n",
    "\n",
    "ax.legend(loc='upper right')"
   ]
  },
  {
   "cell_type": "code",
   "execution_count": 116,
   "metadata": {},
   "outputs": [],
   "source": [
    "# *if* I assume that\n",
    "# log-normal is a reasonable distribution...\n",
    "# Then how would a Bayesian model be structured?\n",
    "# Goal is to estimate \n",
    "# (a) loss timescale, and\n",
    "# (b) the manta undercounting factor\n",
    "# along the way maybe have to fit some mean concentrations?\n",
    "\n",
    "# Pick up here -- instead of median test, go for a simple Bayesian \n",
    "# model per-subembayment."
   ]
  },
  {
   "cell_type": "code",
   "execution_count": 124,
   "metadata": {},
   "outputs": [
    {
     "data": {
      "text/plain": [
       "array(['CB', 'NB', 'NB', 'NB', 'CB', 'CB', 'CB', 'CB', 'SB', 'SB', 'SB',\n",
       "       'SB', 'SB', 'SB', 'SB', 'CB', 'CB', 'NMS', 'NMS', 'NMS', 'NMS',\n",
       "       'NMS', 'NMS', 'NMS', 'NMS', 'NMS', 'CB', 'NMS', 'NMS', 'NMS', 'CB',\n",
       "       'CB', 'NB', 'CB', 'CB', 'CB', 'CB', 'CB', 'NB', 'NB', 'NMS', 'NMS',\n",
       "       'CB', 'CB', 'SB', 'SB', 'SB', 'SB', 'SB', 'SB', 'SB', 'SB', 'SB',\n",
       "       'NMS', 'NMS', 'NMS', 'NMS', 'NMS', 'NMS', 'NMS', 'NMS', 'NMS',\n",
       "       'NMS', 'NMS', 'NMS'], dtype=object)"
      ]
     },
     "execution_count": 124,
     "metadata": {},
     "output_type": "execute_result"
    }
   ],
   "source": [
    "regions"
   ]
  },
  {
   "cell_type": "code",
   "execution_count": 125,
   "metadata": {},
   "outputs": [
    {
     "data": {
      "text/plain": [
       "array(['Dry', 'Wet'], dtype=object)"
      ]
     },
     "execution_count": 125,
     "metadata": {},
     "output_type": "execute_result"
    }
   ],
   "source": [
    "manta.Season.unique() # why is there only dry season??"
   ]
  },
  {
   "cell_type": "code",
   "execution_count": 126,
   "metadata": {},
   "outputs": [
    {
     "data": {
      "text/plain": [
       "array(['CB', 'NB', 'NB', 'NB', 'CB', 'CB', 'CB', 'CB', 'SB', 'SB', 'SB',\n",
       "       'SB', 'SB', 'SB', 'SB', 'CB', 'CB', 'NMS', 'NMS', 'NMS', 'NMS',\n",
       "       'NMS', 'NMS', 'NMS', 'NMS', 'NMS', 'CB', 'NMS', 'NMS', 'NMS', 'CB',\n",
       "       'CB', 'NB', 'CB', 'CB', 'CB', 'CB', 'CB', 'NB', 'NB', 'NMS', 'NMS',\n",
       "       'CB', 'CB', 'SB', 'SB', 'SB', 'SB', 'SB', 'SB', 'SB', 'SB', 'SB',\n",
       "       'NMS', 'NMS', 'NMS', 'NMS', 'NMS', 'NMS', 'NMS', 'NMS', 'NMS',\n",
       "       'NMS', 'NMS', 'NMS'], dtype=object)"
      ]
     },
     "execution_count": 126,
     "metadata": {},
     "output_type": "execute_result"
    }
   ],
   "source": [
    "regions"
   ]
  },
  {
   "cell_type": "code",
   "execution_count": 127,
   "metadata": {},
   "outputs": [
    {
     "data": {
      "text/plain": [
       "-303.3573724638708"
      ]
     },
     "execution_count": 127,
     "metadata": {},
     "output_type": "execute_result"
    }
   ],
   "source": [
    "# Try out some emcee\n",
    "import emcee\n",
    "\n",
    "load_vec=load_vector(load_da,mat_ds)\n",
    "\n",
    "obs=manta[manta_field].values\n",
    "valid=np.isfinite(obs)\n",
    "obs=obs[valid]\n",
    "\n",
    "regions=manta['SAMPLE LOCATION'].apply(loc_to_region).values[valid]\n",
    "seasons=manta['Season'].values[valid]\n",
    "regions=[\"%s-%s\"%(r,s) for r,s in zip(regions,seasons)]\n",
    "\n",
    "region_uniq=np.unique(regions)\n",
    "region_nums=np.searchsorted(region_uniq,regions)\n",
    "region_groups=list(utils.enumerate_groups(region_nums))\n",
    "\n",
    "def forward_model(tau_d,amp):\n",
    "    # mat_ds['M'] ~ manta x load x age\n",
    "    tau_h=tau_d*24\n",
    "    min_age_fac=0.00\n",
    "    age_fac=xr.DataArray( np.exp(-mat_ds['age']/tau_h).clip(min_age_fac),\n",
    "                          dims=['age'])\n",
    "    pred=((mat_ds['M']*age_fac).sum(dim='age') * load_vec).sum(dim='load').values\n",
    "\n",
    "    pred=pred[valid]/amp\n",
    "    return pred\n",
    "\n",
    "min_conc=np.nanmin( obs[obs>0.0] )\n",
    "\n",
    "def log_likelihood(tau,amp):\n",
    "    ll=0.0\n",
    "    #obs_var=np.var( np.log(obs.clip(min_conc)))\n",
    "    \n",
    "    pred=forward_model(tau,amp)\n",
    "    for reg,idxs in region_groups:\n",
    "        obs_mu = np.mean( np.log(obs[idxs].clip(min_conc)))\n",
    "        obs_var = np.var( np.log(obs[idxs].clip(min_conc)))\n",
    "\n",
    "        ll -= np.sum( (np.log(pred[idxs].clip(min_conc))-obs_mu)**2/obs_var )\n",
    "    return ll\n",
    "\n",
    "log_likelihood(4,3)"
   ]
  },
  {
   "cell_type": "code",
   "execution_count": 68,
   "metadata": {},
   "outputs": [
    {
     "name": "stdout",
     "output_type": "stream",
     "text": [
      "Warning: Maximum number of function evaluations has been exceeded.\n"
     ]
    },
    {
     "data": {
      "text/plain": [
       "array([1.39707112e+15, 2.33167481e+01])"
      ]
     },
     "execution_count": 68,
     "metadata": {},
     "output_type": "execute_result"
    }
   ],
   "source": [
    "from scipy.optimize import fmin\n",
    "\n",
    "fmin(lambda x: -log_likelihood(x[0],x[1]), [2,2])"
   ]
  },
  {
   "cell_type": "code",
   "execution_count": 136,
   "metadata": {},
   "outputs": [],
   "source": [
    "taus=np.linspace(0.5,20,20)\n",
    "amps=np.linspace(0.5,40,10)\n",
    "\n",
    "T,A=np.meshgrid(taus,amps)\n",
    "\n",
    "lls=np.zeros_like(T)\n",
    "\n",
    "for idx in np.ndindex(*T.shape):\n",
    "    lls[idx]=log_likelihood(T[idx],A[idx])\n",
    "    "
   ]
  },
  {
   "cell_type": "code",
   "execution_count": 137,
   "metadata": {},
   "outputs": [
    {
     "data": {
      "text/plain": [
       "Text(0, 0.5, 'Amp')"
      ]
     },
     "execution_count": 137,
     "metadata": {},
     "output_type": "execute_result"
    },
    {
     "data": {
      "image/png": "[encoded data removed]",
      "text/plain": [
       "<Figure size 432x288 with 2 Axes>"
      ]
     },
     "metadata": {
      "needs_background": "light"
     },
     "output_type": "display_data"
    },
    {
     "data": {
      "image/png": "[encoded data removed]",
      "text/plain": [
       "<Figure size 432x288 with 1 Axes>"
      ]
     },
     "metadata": {
      "needs_background": "light"
     },
     "output_type": "display_data"
    }
   ],
   "source": [
    "fig,ax=plt.subplots(1,1)\n",
    "\n",
    "import seaborn as sns\n",
    "sns.heatmap(lls,\n",
    "            xticklabels=[\"%.2f\"%x for x in taus],\n",
    "            yticklabels=[\"%.2f\"%x for x in amps],\n",
    "            #vmin=-200,vmax=-160,\n",
    "           cmap='jet')\n",
    "ax.set_xlabel('Tau')\n",
    "ax.set_ylabel('Amp')\n",
    "#plt.colorbar()\n",
    "\n",
    "fig,ax=plt.subplots(1,1)\n",
    "ax.contourf(taus,amps,lls,np.linspace(-400,-220,30),extend='min',cmap='jet')\n",
    "ax.set_xlabel('Tau')\n",
    "ax.set_ylabel('Amp')\n",
    "#plt.colorbar()"
   ]
  },
  {
   "cell_type": "code",
   "execution_count": null,
   "metadata": {},
   "outputs": [],
   "source": [
    "# Try out some emcee\n",
    "import emcee\n",
    "\n",
    "load_vec=load_vector(load_da,mat_ds)\n",
    "\n",
    "obs=manta[manta_field]\n",
    "valid=np.isfinite(obs)\n",
    "obs=obs[valid]\n",
    "\n",
    "def forward_model(tau,amp):\n",
    "    # mat_ds['M'] ~ manta x load x age\n",
    "    tau_h=tau/3600.\n",
    "    min_age_fac=0.00\n",
    "    age_fac=xr.DataArray( np.exp(-mat_ds['age']/tau_h).clip(min_age_fac),\n",
    "                          dims=['age'])\n",
    "    pred=((mat_ds['M']*age_fac).sum(dim='age') * load_vec).sum(dim='load').values\n",
    "\n",
    "    pred=pred[valid]\n",
    "    return pred\n",
    "\n",
    "\n",
    "HERE...\n",
    "\n",
    "    \n",
    "def log_prob(x, ivar):\n",
    "    return -0.5 * np.sum(ivar * x ** 2)\n",
    "\n",
    "ndim, nwalkers = 5, 100\n",
    "ivar = 1. / np.random.rand(ndim)\n",
    "p0 = np.random.randn(nwalkers, ndim)\n",
    "\n",
    "sampler = emcee.EnsembleSampler(nwalkers, ndim, log_prob, args=[ivar])\n",
    "sampler.run_mcmc(p0, 10000)\n"
   ]
  },
  {
   "cell_type": "code",
   "execution_count": 140,
   "metadata": {},
   "outputs": [
    {
     "data": {
      "text/plain": [
       "array(['2017-08-21 00:00:00', '2017-08-22 00:00:00',\n",
       "       '2017-08-23 00:00:00', '2017-08-24 00:00:00',\n",
       "       '2017-08-25 00:00:00', '2017-09-11 00:00:00',\n",
       "       '2017-09-12 00:00:00', '2017-09-13 00:00:00',\n",
       "       '2017-09-18 00:00:00', '2017-09-27 00:00:00',\n",
       "       '2017-11-05 00:00:00', '2017-11-16 00:00:00',\n",
       "       '2017-11-17 00:00:00', '2018-01-11 00:00:00',\n",
       "       '2018-03-19 00:00:00', '2018-03-06 00:00:00',\n",
       "       '2018-03-29 00:00:00', '2018-03-30 00:00:00',\n",
       "       '2018-03-31 00:00:00'], dtype=object)"
      ]
     },
     "execution_count": 140,
     "metadata": {},
     "output_type": "execute_result"
    }
   ],
   "source": [
    "manta.DATE.unique()"
   ]
  },
  {
   "cell_type": "code",
   "execution_count": 158,
   "metadata": {},
   "outputs": [
    {
     "data": {
      "text/html": [
       "<div>\n",
       "<style scoped>\n",
       "    .dataframe tbody tr th:only-of-type {\n",
       "        vertical-align: middle;\n",
       "    }\n",
       "\n",
       "    .dataframe tbody tr th {\n",
       "        vertical-align: top;\n",
       "    }\n",
       "\n",
       "    .dataframe thead th {\n",
       "        text-align: right;\n",
       "    }\n",
       "</style>\n",
       "<table border=\"1\" class=\"dataframe\">\n",
       "  <thead>\n",
       "    <tr style=\"text-align: right;\">\n",
       "      <th></th>\n",
       "      <th>start</th>\n",
       "      <th>usage</th>\n",
       "    </tr>\n",
       "  </thead>\n",
       "  <tbody>\n",
       "    <tr>\n",
       "      <th>0</th>\n",
       "      <td>2017-06-20</td>\n",
       "      <td>0</td>\n",
       "    </tr>\n",
       "    <tr>\n",
       "      <th>1</th>\n",
       "      <td>2017-06-30</td>\n",
       "      <td>0</td>\n",
       "    </tr>\n",
       "    <tr>\n",
       "      <th>2</th>\n",
       "      <td>2017-07-10</td>\n",
       "      <td>0</td>\n",
       "    </tr>\n",
       "    <tr>\n",
       "      <th>3</th>\n",
       "      <td>2017-07-20</td>\n",
       "      <td>0</td>\n",
       "    </tr>\n",
       "    <tr>\n",
       "      <th>4</th>\n",
       "      <td>2017-07-30</td>\n",
       "      <td>5</td>\n",
       "    </tr>\n",
       "    <tr>\n",
       "      <th>5</th>\n",
       "      <td>2017-08-09</td>\n",
       "      <td>5</td>\n",
       "    </tr>\n",
       "    <tr>\n",
       "      <th>6</th>\n",
       "      <td>2017-08-19</td>\n",
       "      <td>4</td>\n",
       "    </tr>\n",
       "    <tr>\n",
       "      <th>7</th>\n",
       "      <td>2017-08-29</td>\n",
       "      <td>5</td>\n",
       "    </tr>\n",
       "    <tr>\n",
       "      <th>8</th>\n",
       "      <td>2017-09-08</td>\n",
       "      <td>1</td>\n",
       "    </tr>\n",
       "    <tr>\n",
       "      <th>9</th>\n",
       "      <td>2017-09-18</td>\n",
       "      <td>0</td>\n",
       "    </tr>\n",
       "    <tr>\n",
       "      <th>10</th>\n",
       "      <td>2017-09-28</td>\n",
       "      <td>0</td>\n",
       "    </tr>\n",
       "    <tr>\n",
       "      <th>11</th>\n",
       "      <td>2017-10-08</td>\n",
       "      <td>1</td>\n",
       "    </tr>\n",
       "    <tr>\n",
       "      <th>12</th>\n",
       "      <td>2017-10-18</td>\n",
       "      <td>3</td>\n",
       "    </tr>\n",
       "    <tr>\n",
       "      <th>13</th>\n",
       "      <td>2017-10-28</td>\n",
       "      <td>2</td>\n",
       "    </tr>\n",
       "    <tr>\n",
       "      <th>14</th>\n",
       "      <td>2017-11-07</td>\n",
       "      <td>0</td>\n",
       "    </tr>\n",
       "    <tr>\n",
       "      <th>15</th>\n",
       "      <td>2017-11-17</td>\n",
       "      <td>0</td>\n",
       "    </tr>\n",
       "    <tr>\n",
       "      <th>16</th>\n",
       "      <td>2017-11-27</td>\n",
       "      <td>0</td>\n",
       "    </tr>\n",
       "    <tr>\n",
       "      <th>17</th>\n",
       "      <td>2017-12-07</td>\n",
       "      <td>0</td>\n",
       "    </tr>\n",
       "    <tr>\n",
       "      <th>18</th>\n",
       "      <td>2017-12-17</td>\n",
       "      <td>1</td>\n",
       "    </tr>\n",
       "    <tr>\n",
       "      <th>19</th>\n",
       "      <td>2017-12-27</td>\n",
       "      <td>1</td>\n",
       "    </tr>\n",
       "    <tr>\n",
       "      <th>20</th>\n",
       "      <td>2018-01-06</td>\n",
       "      <td>0</td>\n",
       "    </tr>\n",
       "    <tr>\n",
       "      <th>21</th>\n",
       "      <td>2018-01-16</td>\n",
       "      <td>0</td>\n",
       "    </tr>\n",
       "    <tr>\n",
       "      <th>22</th>\n",
       "      <td>2018-01-26</td>\n",
       "      <td>0</td>\n",
       "    </tr>\n",
       "    <tr>\n",
       "      <th>23</th>\n",
       "      <td>2018-02-05</td>\n",
       "      <td>1</td>\n",
       "    </tr>\n",
       "    <tr>\n",
       "      <th>24</th>\n",
       "      <td>2018-02-15</td>\n",
       "      <td>1</td>\n",
       "    </tr>\n",
       "    <tr>\n",
       "      <th>25</th>\n",
       "      <td>2018-02-25</td>\n",
       "      <td>1</td>\n",
       "    </tr>\n",
       "    <tr>\n",
       "      <th>26</th>\n",
       "      <td>2018-03-07</td>\n",
       "      <td>4</td>\n",
       "    </tr>\n",
       "    <tr>\n",
       "      <th>27</th>\n",
       "      <td>2018-03-17</td>\n",
       "      <td>3</td>\n",
       "    </tr>\n",
       "    <tr>\n",
       "      <th>28</th>\n",
       "      <td>2018-03-27</td>\n",
       "      <td>0</td>\n",
       "    </tr>\n",
       "    <tr>\n",
       "      <th>29</th>\n",
       "      <td>2018-04-06</td>\n",
       "      <td>0</td>\n",
       "    </tr>\n",
       "    <tr>\n",
       "      <th>30</th>\n",
       "      <td>2018-04-16</td>\n",
       "      <td>0</td>\n",
       "    </tr>\n",
       "  </tbody>\n",
       "</table>\n",
       "</div>"
      ],
      "text/plain": [
       "        start  usage\n",
       "0  2017-06-20      0\n",
       "1  2017-06-30      0\n",
       "2  2017-07-10      0\n",
       "3  2017-07-20      0\n",
       "4  2017-07-30      5\n",
       "5  2017-08-09      5\n",
       "6  2017-08-19      4\n",
       "7  2017-08-29      5\n",
       "8  2017-09-08      1\n",
       "9  2017-09-18      0\n",
       "10 2017-09-28      0\n",
       "11 2017-10-08      1\n",
       "12 2017-10-18      3\n",
       "13 2017-10-28      2\n",
       "14 2017-11-07      0\n",
       "15 2017-11-17      0\n",
       "16 2017-11-27      0\n",
       "17 2017-12-07      0\n",
       "18 2017-12-17      1\n",
       "19 2017-12-27      1\n",
       "20 2018-01-06      0\n",
       "21 2018-01-16      0\n",
       "22 2018-01-26      0\n",
       "23 2018-02-05      1\n",
       "24 2018-02-15      1\n",
       "25 2018-02-25      1\n",
       "26 2018-03-07      4\n",
       "27 2018-03-17      3\n",
       "28 2018-03-27      0\n",
       "29 2018-04-06      0\n",
       "30 2018-04-16      0"
      ]
     },
     "execution_count": 158,
     "metadata": {},
     "output_type": "execute_result"
    }
   ],
   "source": [
    "# chunks are 2018-06-20 and onwards, every 10 days.\n",
    "chunk_starts=np.arange(np.datetime64(\"2017-06-20\"),\n",
    "                       np.datetime64(\"2018-04-20\"),\n",
    "                      np.timedelta64(10*86400,'s'))\n",
    "\n",
    "\n",
    "chunk_usage=np.zeros(len(chunk_starts),np.int32)\n",
    "for d in manta.DATE.unique():\n",
    "    d=np.datetime64(d)\n",
    "    d_early=d-np.timedelta64(20,'D')\n",
    "    chunk_usage[ np.searchsorted(chunk_starts,d_early)-1:\n",
    "                 np.searchsorted(chunk_starts,d)-1] += 1\n",
    "\n",
    "\n",
    "\n",
    "tab=pd.DataFrame(dict(start=chunk_starts,usage=chunk_usage))\n",
    "tab"
   ]
  },
  {
   "cell_type": "code",
   "execution_count": 163,
   "metadata": {},
   "outputs": [
    {
     "data": {
      "text/plain": [
       "numpy.datetime64('2018-03-23T00:00:00')"
      ]
     },
     "execution_count": 163,
     "metadata": {},
     "output_type": "execute_result"
    }
   ],
   "source": [
    "np.datetime64(\"2018-03-23\",'s') "
   ]
  }
 ],
 "metadata": {
  "kernelspec": {
   "display_name": "Python 3",
   "language": "python",
   "name": "python3"
  },
  "language_info": {
   "codemirror_mode": {
    "name": "ipython",
    "version": 3
   },
   "file_extension": ".py",
   "mimetype": "text/x-python",
   "name": "python",
   "nbconvert_exporter": "python",
   "pygments_lexer": "ipython3",
   "version": "3.7.3"
  }
 },
 "nbformat": 4,
 "nbformat_minor": 2
}
