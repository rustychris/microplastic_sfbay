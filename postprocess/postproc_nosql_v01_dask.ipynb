{
 "cells": [
  {
   "cell_type": "markdown",
   "metadata": {},
   "source": [
    "Dask Approach to Non-SQL PTM Queries\n",
    "--\n",
    "\n",
    "v01: move away from classes, try to organize the computation \n",
    "primarily in dask."
   ]
  },
  {
   "cell_type": "code",
   "execution_count": 1,
   "metadata": {},
   "outputs": [
    {
     "name": "stdout",
     "output_type": "stream",
     "text": [
      "75.05 MB\n"
     ]
    }
   ],
   "source": [
    "# There are some issues with memory usage. It seems\n",
    "# (mostly based on github discussions) that with dask\n",
    "# shuttling many large memory allocations around, memory\n",
    "# gets fragmented and effectively lost. print_rusage()\n",
    "# will report current memory usage, and the code in the\n",
    "# next block changes malloc behavior to reduce \n",
    "# fragmentation.\n",
    "\n",
    "import gc\n",
    "import psutil\n",
    "from distributed.utils import format_bytes\n",
    "proc = psutil.Process()\n",
    "\n",
    "def print_rusage():\n",
    "    gc.collect()\n",
    "    print(format_bytes(proc.memory_info().rss))\n",
    "    #ru=resource.getrusage(resource.RUSAGE_SELF)\n",
    "    #print(f\"{ru.ru_maxrss/1000/1000.:.3f} GB maxrss\")\n",
    "    # That's saying that this process is using 55GB of RAM!?\n",
    "    \n",
    "print_rusage() # Starts 80MB"
   ]
  },
  {
   "cell_type": "code",
   "execution_count": 2,
   "metadata": {},
   "outputs": [],
   "source": [
    "import postproc_dask as post\n",
    "import six\n",
    "six.moves.reload_module(post)\n",
    "post.config_malloc()"
   ]
  },
  {
   "cell_type": "code",
   "execution_count": 3,
   "metadata": {},
   "outputs": [],
   "source": [
    "try:\n",
    "    client.close()\n",
    "except NameError:\n",
    "    pass"
   ]
  },
  {
   "cell_type": "code",
   "execution_count": 4,
   "metadata": {},
   "outputs": [
    {
     "name": "stderr",
     "output_type": "stream",
     "text": [
      "/opt/anaconda3/envs/general/lib/python3.9/site-packages/distributed/node.py:151: UserWarning: Port 8787 is already in use.\n",
      "Perhaps you already have a cluster running?\n",
      "Hosting the HTTP server on port 43271 instead\n",
      "  warnings.warn(\n"
     ]
    },
    {
     "data": {
      "application/vnd.jupyter.widget-view+json": {
       "model_id": "227124c76618476a9579d9f8d13e7571",
       "version_major": 2,
       "version_minor": 0
      },
      "text/plain": [
       "VBox(children=(HTML(value='<h2>LocalCluster</h2>'), HBox(children=(HTML(value='\\n<div>\\n  <style scoped>\\n    …"
      ]
     },
     "metadata": {},
     "output_type": "display_data"
    }
   ],
   "source": [
    "import multiprocessing.popen_spawn_posix #  https://github.com/dask/distributed/issues/4168\n",
    "import dask\n",
    "import dask.dataframe as dd\n",
    "import dask.bag as db\n",
    "\n",
    "from dask.distributed import Client\n",
    "client=Client(n_workers=16,threads_per_worker=1)\n",
    "client.cluster"
   ]
  },
  {
   "cell_type": "code",
   "execution_count": 5,
   "metadata": {},
   "outputs": [],
   "source": [
    "import matplotlib.pyplot as plt\n",
    "import conc_figure\n",
    "import six\n",
    "import stompy.plot.cmap as scmap\n",
    "from stompy.spatial import proj_utils\n",
    "from matplotlib import cm\n",
    "cmap=cm.CMRmap_r\n",
    "cmap=scmap.cmap_clip(cmap,0.03,1.0)\n",
    "\n",
    "%matplotlib notebook"
   ]
  },
  {
   "cell_type": "code",
   "execution_count": 6,
   "metadata": {},
   "outputs": [],
   "source": [
    "import os\n",
    "import glob\n",
    "import numpy as np\n",
    "import pandas as pd\n",
    "import xarray as xr\n",
    "import re\n",
    "\n",
    "from stompy.grid import unstructured_grid\n",
    "from stompy import utils, memoize\n",
    "from stompy.model.fish_ptm import ptm_config, ptm_tools\n",
    "from stompy.model.suntans import sun_driver\n",
    "from scipy.stats import spearmanr\n",
    "\n",
    "import stompy.plot.cmap as scmap\n",
    "from scipy import stats\n",
    "import seaborn as sns\n",
    "turbo=scmap.load_gradient('turbo.cpt')"
   ]
  },
  {
   "cell_type": "markdown",
   "metadata": {},
   "source": [
    "Overall Process\n",
    "===\n",
    "\n",
    "1. SUNTANS hydro runs\n",
    "2. SUNTANS average output\n",
    "3. ptm-formatted average output\n",
    "4. PTM runs\n",
    "5. Load data\n",
    "\n",
    "The top-level query is something like *generate a map of concentrations for...*\n",
    "\n",
    "filter on:\n",
    " - sources $x$\n",
    " - settling classes $y$\n",
    " - vertical positions $z$\n",
    " - horizontal positions $h$\n",
    "\n",
    "weighted by\n",
    "\n",
    " - loading data \n",
    " - age\n",
    " \n",
    "mapped by one of ...\n",
    "\n",
    " - bounding box\n",
    " - put on hydro grid\n",
    " - put on regular grid\n",
    "\n",
    "and possibly smoothed."
   ]
  },
  {
   "cell_type": "code",
   "execution_count": 7,
   "metadata": {},
   "outputs": [],
   "source": [
    "# Experiment level configuration -- small, all python native data.\n",
    "cfg=dict(\n",
    "    ptm_base_dir=\"/opt2/sfb_ocean/ptm/all_source_022b\",\n",
    "    sun_base_dir=\"/opt2/sfb_ocean/suntans/runs\",\n",
    "    ptm_output_interval=np.timedelta64(1,'h')\n",
    ")\n",
    "cfg['ptm_run_patt']=os.path.join(cfg['ptm_base_dir'],\"chunk??\",\"20??????\")\n",
    "cfg['sun_patt']=os.path.join(cfg['sun_base_dir'],\"merged_022_20??????\")\n",
    "\n",
    "ptm_run_paths=glob.glob(cfg['ptm_run_patt'])\n",
    "ptm_run_paths.sort()\n",
    "cfg['ptm_run_paths']=ptm_run_paths\n",
    "\n",
    "sun_paths=glob.glob(cfg['sun_patt'])\n",
    "sun_paths.sort()\n",
    "cfg['sun_paths']=sun_paths"
   ]
  },
  {
   "cell_type": "code",
   "execution_count": 8,
   "metadata": {},
   "outputs": [],
   "source": [
    "# Load the grid into... grid\n",
    "hydro_path=sun_paths[0]\n",
    "ptm_ds=xr.open_dataset(os.path.join(hydro_path,\"ptm_average.nc_0000.nc\"))\n",
    "grid=unstructured_grid.UnstructuredGrid.read_ugrid(ptm_ds,dialect='fishptm')\n",
    "ptm_ds.close()   \n",
    "\n",
    "# distribute to workers ahead of time.\n",
    "grid_d=client.scatter(grid)\n",
    "cfg['grid_d']=grid_d # too far?"
   ]
  },
  {
   "cell_type": "code",
   "execution_count": 9,
   "metadata": {},
   "outputs": [
    {
     "name": "stderr",
     "output_type": "stream",
     "text": [
      "INFO:utils:59574/99089\n",
      "INFO:utils:59809/99089\n"
     ]
    }
   ],
   "source": [
    "# So far this is only used locally.  Slow to compute (15s)\n",
    "Msmooth=grid.smooth_matrix()\n",
    "Msmooth_K=grid.smooth_matrix(K=100*np.ones(grid.Nedges()))"
   ]
  },
  {
   "cell_type": "code",
   "execution_count": 10,
   "metadata": {},
   "outputs": [],
   "source": [
    "# Or could make this delayed and have it execute on each client?\n",
    "load_data_d=client.scatter(post.get_load_data())\n",
    "cfg['load_data_d']=load_data_d\n"
   ]
  },
  {
   "cell_type": "code",
   "execution_count": 11,
   "metadata": {},
   "outputs": [],
   "source": [
    "def total_area(g):\n",
    "    return g.cells_area().sum()\n",
    "\n",
    "total_area_d=dask.delayed(total_area)(grid_d)\n",
    "cfg['total_area_d']=total_area_d\n"
   ]
  },
  {
   "cell_type": "code",
   "execution_count": 12,
   "metadata": {},
   "outputs": [],
   "source": [
    "# Hydro timestamps\n",
    "cfg['hydro_timestamps']=post.load_hydro_timestamps(sun_paths)\n"
   ]
  },
  {
   "cell_type": "code",
   "execution_count": 13,
   "metadata": {},
   "outputs": [],
   "source": [
    "bc_ds_d=client.scatter(post.bc_ds(cfg=cfg))\n",
    "cfg['bc_ds_d']=bc_ds_d"
   ]
  },
  {
   "cell_type": "code",
   "execution_count": 14,
   "metadata": {},
   "outputs": [
    {
     "name": "stdout",
     "output_type": "stream",
     "text": [
      "CPU times: user 5 µs, sys: 0 ns, total: 5 µs\n",
      "Wall time: 9.06 µs\n"
     ]
    }
   ],
   "source": [
    "%%time\n",
    "if 0:\n",
    "    # This takes 40s or so.\n",
    "    criteria=dict(t_min=np.datetime64(\"2017-06-30 00:00\"), # should be 08/30\n",
    "                  t_max=np.datetime64(\"2017-07-01 00:00\"), # should be 09/14\n",
    "                  category='nonfiber',\n",
    "                  z_below_surface_max=0.095,\n",
    "                  age_max=np.timedelta64(10,'D'))\n",
    "if 0:\n",
    "    # For 2 days, takes 2m17\n",
    "    # Had to dial down the size.  With partition size of 30MB\n",
    "    # this takes 50 minutes.\n",
    "    # With a 150MB partition size, and some prefiltering based on age_max,\n",
    "    # This is down to 13m42.\n",
    "    criteria=dict(t_min=np.datetime64(\"2017-08-30 00:00\"), \n",
    "                  t_max=np.datetime64(\"2017-09-14 00:00\"), \n",
    "                  category='nonfiber',\n",
    "                  z_below_surface_max=0.095,\n",
    "                  age_max=np.timedelta64(10,'D'))\n",
    "\n",
    "    conc_ds=post.query_particle_concentration(criteria=criteria,cfg=cfg,\n",
    "                                              grid=grid,decay=None)"
   ]
  },
  {
   "cell_type": "code",
   "execution_count": null,
   "metadata": {},
   "outputs": [],
   "source": [
    "six.moves.reload_module(conc_figure)\n",
    "\n",
    "conc_figure.BayConcFigure(conc_ds,grid=grid,cmap=cmap)"
   ]
  },
  {
   "cell_type": "markdown",
   "metadata": {},
   "source": [
    "Next steps\n",
    "--\n",
    "\n",
    "\n",
    "1. Recreate some of the figures from before, including on-grid smoothing.  \n",
    "  a. Sample plot: from the powerpoint. 2017-08-30 to 2017-09-14. Surface particles\n",
    "     max age of 10 days.   *This plot is similarish -- not exactly the same but close\n",
    "     enough to rule out fundamental errors*\n",
    "2. Pull out manta samples as before. Maybe skip putting it on the grid, just\n",
    "   query a radius.\n",
    "  a. Implement in this notebook\n",
    "  b. Move all of this to a module."
   ]
  },
  {
   "cell_type": "code",
   "execution_count": 15,
   "metadata": {},
   "outputs": [
    {
     "data": {
      "text/plain": [
       "<module 'postproc_dask' from '/home/rusty/src/microplastic_sfbay/postprocess/postproc_dask.py'>"
      ]
     },
     "execution_count": 15,
     "metadata": {},
     "output_type": "execute_result"
    }
   ],
   "source": [
    "areas=grid.cells_area()\n",
    "six.moves.reload_module(post)\n",
    "    "
   ]
  },
  {
   "cell_type": "code",
   "execution_count": null,
   "metadata": {},
   "outputs": [],
   "source": [
    "#  Bring in the manta code, and extract samples\n",
    "#   - Start with doing it similar to how "
   ]
  },
  {
   "cell_type": "code",
   "execution_count": 16,
   "metadata": {},
   "outputs": [
    {
     "data": {
      "text/html": [
       "<div>\n",
       "<style scoped>\n",
       "    .dataframe tbody tr th:only-of-type {\n",
       "        vertical-align: middle;\n",
       "    }\n",
       "\n",
       "    .dataframe tbody tr th {\n",
       "        vertical-align: top;\n",
       "    }\n",
       "\n",
       "    .dataframe thead th {\n",
       "        text-align: right;\n",
       "    }\n",
       "</style>\n",
       "<table border=\"1\" class=\"dataframe\">\n",
       "  <thead>\n",
       "    <tr style=\"text-align: right;\">\n",
       "      <th></th>\n",
       "      <th>SampleID</th>\n",
       "      <th>SAMPLE LOCATION</th>\n",
       "      <th>DATE</th>\n",
       "      <th>TYPE</th>\n",
       "      <th>LAT START</th>\n",
       "      <th>LONG START</th>\n",
       "      <th>LAT END</th>\n",
       "      <th>LONG END</th>\n",
       "      <th>TOTAL DIST (M)</th>\n",
       "      <th>START FLOW</th>\n",
       "      <th>...</th>\n",
       "      <th>part_per_m3_std</th>\n",
       "      <th>part_per_m2_std</th>\n",
       "      <th>part_per_m3_raw_std</th>\n",
       "      <th>part_per_m2_raw_std</th>\n",
       "      <th>part_per_m3_nofiber</th>\n",
       "      <th>part_per_m2_nofiber</th>\n",
       "      <th>part_per_m3_raw_nofiber</th>\n",
       "      <th>part_per_m2_raw_nofiber</th>\n",
       "      <th>x</th>\n",
       "      <th>y</th>\n",
       "    </tr>\n",
       "  </thead>\n",
       "  <tbody>\n",
       "    <tr>\n",
       "      <th>0</th>\n",
       "      <td>CB-4-Manta-21Aug2017</td>\n",
       "      <td>CB4</td>\n",
       "      <td>2017-08-21 00:00:00</td>\n",
       "      <td>Manta</td>\n",
       "      <td>37.915567</td>\n",
       "      <td>-122.441217</td>\n",
       "      <td>37.941933</td>\n",
       "      <td>-122.419983</td>\n",
       "      <td>3473.323262</td>\n",
       "      <td>NaN</td>\n",
       "      <td>...</td>\n",
       "      <td>0.224191</td>\n",
       "      <td>0.021298</td>\n",
       "      <td>0.442172</td>\n",
       "      <td>0.042006</td>\n",
       "      <td>0.015526</td>\n",
       "      <td>0.001475</td>\n",
       "      <td>0.024841</td>\n",
       "      <td>0.002360</td>\n",
       "      <td>550040.331073</td>\n",
       "      <td>4.198063e+06</td>\n",
       "    </tr>\n",
       "    <tr>\n",
       "      <th>1</th>\n",
       "      <td>SPB3-Manta-21Aug2017</td>\n",
       "      <td>SPB3</td>\n",
       "      <td>2017-08-21 00:00:00</td>\n",
       "      <td>Manta</td>\n",
       "      <td>38.023072</td>\n",
       "      <td>-122.371583</td>\n",
       "      <td>38.042133</td>\n",
       "      <td>-122.321883</td>\n",
       "      <td>66678.222270</td>\n",
       "      <td>9113.0</td>\n",
       "      <td>...</td>\n",
       "      <td>1.817781</td>\n",
       "      <td>0.172689</td>\n",
       "      <td>1.928407</td>\n",
       "      <td>0.183199</td>\n",
       "      <td>0.296678</td>\n",
       "      <td>0.028184</td>\n",
       "      <td>0.301706</td>\n",
       "      <td>0.028662</td>\n",
       "      <td>557329.971756</td>\n",
       "      <td>4.209634e+06</td>\n",
       "    </tr>\n",
       "    <tr>\n",
       "      <th>2</th>\n",
       "      <td>SUB1-Manta-21Aug2017</td>\n",
       "      <td>SUB1</td>\n",
       "      <td>2017-08-21 00:00:00</td>\n",
       "      <td>Manta</td>\n",
       "      <td>38.107067</td>\n",
       "      <td>-122.056283</td>\n",
       "      <td>38.096533</td>\n",
       "      <td>-122.064917</td>\n",
       "      <td>1393.740434</td>\n",
       "      <td>128369.0</td>\n",
       "      <td>...</td>\n",
       "      <td>NaN</td>\n",
       "      <td>NaN</td>\n",
       "      <td>0.000000</td>\n",
       "      <td>0.000000</td>\n",
       "      <td>0.032671</td>\n",
       "      <td>0.003104</td>\n",
       "      <td>0.039205</td>\n",
       "      <td>0.003724</td>\n",
       "      <td>582363.556136</td>\n",
       "      <td>4.217527e+06</td>\n",
       "    </tr>\n",
       "    <tr>\n",
       "      <th>3</th>\n",
       "      <td>SPB2-Manta-21Aug2017</td>\n",
       "      <td>SPB2</td>\n",
       "      <td>2017-08-21 00:00:00</td>\n",
       "      <td>Manta</td>\n",
       "      <td>38.051283</td>\n",
       "      <td>-122.421750</td>\n",
       "      <td>38.023000</td>\n",
       "      <td>-122.428117</td>\n",
       "      <td>3194.008847</td>\n",
       "      <td>220135.0</td>\n",
       "      <td>...</td>\n",
       "      <td>0.210549</td>\n",
       "      <td>0.020002</td>\n",
       "      <td>0.402882</td>\n",
       "      <td>0.038274</td>\n",
       "      <td>0.021966</td>\n",
       "      <td>0.002087</td>\n",
       "      <td>0.034288</td>\n",
       "      <td>0.003257</td>\n",
       "      <td>550464.046320</td>\n",
       "      <td>4.210092e+06</td>\n",
       "    </tr>\n",
       "    <tr>\n",
       "      <th>4</th>\n",
       "      <td>CB9-Manta-22Aug2017</td>\n",
       "      <td>CB9</td>\n",
       "      <td>2017-08-22 00:00:00</td>\n",
       "      <td>Manta</td>\n",
       "      <td>37.687233</td>\n",
       "      <td>-122.290917</td>\n",
       "      <td>37.698500</td>\n",
       "      <td>-122.298433</td>\n",
       "      <td>1416.656380</td>\n",
       "      <td>290000.0</td>\n",
       "      <td>...</td>\n",
       "      <td>0.085947</td>\n",
       "      <td>0.008165</td>\n",
       "      <td>0.174186</td>\n",
       "      <td>0.016548</td>\n",
       "      <td>0.085947</td>\n",
       "      <td>0.008165</td>\n",
       "      <td>0.091677</td>\n",
       "      <td>0.008709</td>\n",
       "      <td>562183.425087</td>\n",
       "      <td>4.171973e+06</td>\n",
       "    </tr>\n",
       "  </tbody>\n",
       "</table>\n",
       "<p>5 rows × 47 columns</p>\n",
       "</div>"
      ],
      "text/plain": [
       "               SampleID SAMPLE LOCATION                 DATE   TYPE  \\\n",
       "0  CB-4-Manta-21Aug2017             CB4  2017-08-21 00:00:00  Manta   \n",
       "1  SPB3-Manta-21Aug2017            SPB3  2017-08-21 00:00:00  Manta   \n",
       "2  SUB1-Manta-21Aug2017            SUB1  2017-08-21 00:00:00  Manta   \n",
       "3  SPB2-Manta-21Aug2017            SPB2  2017-08-21 00:00:00  Manta   \n",
       "4   CB9-Manta-22Aug2017             CB9  2017-08-22 00:00:00  Manta   \n",
       "\n",
       "   LAT START  LONG START    LAT END    LONG END  TOTAL DIST (M)  START FLOW  \\\n",
       "0  37.915567 -122.441217  37.941933 -122.419983     3473.323262         NaN   \n",
       "1  38.023072 -122.371583  38.042133 -122.321883    66678.222270      9113.0   \n",
       "2  38.107067 -122.056283  38.096533 -122.064917     1393.740434    128369.0   \n",
       "3  38.051283 -122.421750  38.023000 -122.428117     3194.008847    220135.0   \n",
       "4  37.687233 -122.290917  37.698500 -122.298433     1416.656380    290000.0   \n",
       "\n",
       "   ...  part_per_m3_std  part_per_m2_std  part_per_m3_raw_std  \\\n",
       "0  ...         0.224191         0.021298             0.442172   \n",
       "1  ...         1.817781         0.172689             1.928407   \n",
       "2  ...              NaN              NaN             0.000000   \n",
       "3  ...         0.210549         0.020002             0.402882   \n",
       "4  ...         0.085947         0.008165             0.174186   \n",
       "\n",
       "  part_per_m2_raw_std part_per_m3_nofiber part_per_m2_nofiber  \\\n",
       "0            0.042006            0.015526            0.001475   \n",
       "1            0.183199            0.296678            0.028184   \n",
       "2            0.000000            0.032671            0.003104   \n",
       "3            0.038274            0.021966            0.002087   \n",
       "4            0.016548            0.085947            0.008165   \n",
       "\n",
       "  part_per_m3_raw_nofiber  part_per_m2_raw_nofiber              x  \\\n",
       "0                0.024841                 0.002360  550040.331073   \n",
       "1                0.301706                 0.028662  557329.971756   \n",
       "2                0.039205                 0.003724  582363.556136   \n",
       "3                0.034288                 0.003257  550464.046320   \n",
       "4                0.091677                 0.008709  562183.425087   \n",
       "\n",
       "              y  \n",
       "0  4.198063e+06  \n",
       "1  4.209634e+06  \n",
       "2  4.217527e+06  \n",
       "3  4.210092e+06  \n",
       "4  4.171973e+06  \n",
       "\n",
       "[5 rows x 47 columns]"
      ]
     },
     "execution_count": 16,
     "metadata": {},
     "output_type": "execute_result"
    }
   ],
   "source": [
    "ll2utm=proj_utils.mapper('WGS84','EPSG:26910')\n",
    "# Load the manta data, clean it up\n",
    "manta_fn='manta_summary-v03.csv'\n",
    "manta=pd.read_csv(manta_fn)\n",
    "manta.head()"
   ]
  },
  {
   "cell_type": "code",
   "execution_count": 17,
   "metadata": {},
   "outputs": [],
   "source": [
    "# build a godin window\n",
    "from stompy import filters\n",
    "godwin_offset_h=50\n",
    "imp=np.arange(100)==godwin_offset_h-1 # seems my godin filter is shifted 1\n",
    "godwin=filters.lowpass_godin(imp,mean_dt_h=1.0)\n",
    "assert godwin_offset_h==np.argmax(godwin)\n",
    "# godwin[delta_hours + h_offset] gives the weight for the time average\n",
    "# of a sample taken delta_hours away from t_center"
   ]
  },
  {
   "cell_type": "code",
   "execution_count": 67,
   "metadata": {},
   "outputs": [
    {
     "name": "stdout",
     "output_type": "stream",
     "text": [
      "0\n",
      "1\n",
      "2\n",
      "3\n",
      "4\n",
      "5\n",
      "6\n",
      "7\n",
      "8\n",
      "9\n",
      "10\n",
      "11\n",
      "12\n",
      "13\n",
      "14\n",
      "15\n",
      "16\n",
      "17\n",
      "18\n",
      "19\n",
      "20\n",
      "21\n",
      "22\n",
      "23\n",
      "24\n",
      "25\n",
      "26\n",
      "27\n",
      "28\n",
      "29\n",
      "30\n",
      "31\n",
      "32\n",
      "33\n",
      "34\n",
      "35\n",
      "36\n",
      "37\n",
      "38\n",
      "39\n",
      "40\n",
      "41\n",
      "42\n",
      "43\n",
      "44\n",
      "45\n",
      "46\n",
      "47\n",
      "48\n",
      "49\n",
      "50\n",
      "51\n",
      "52\n",
      "53\n",
      "54\n",
      "55\n",
      "56\n",
      "57\n",
      "58\n",
      "59\n",
      "60\n",
      "61\n",
      "62\n",
      "63\n",
      "64\n"
     ]
    }
   ],
   "source": [
    "cfg['manta_out_dir']=\"manta_sets_20210317a\"\n",
    "six.moves.reload_module(post)\n",
    "\n",
    "# now the 021b runs.\n",
    "# c suffix: use tighter -0.095 z filter.\n",
    "# 20200227: start of v03\n",
    "# 20200302: start of v04\n",
    "# 20200305: try larger window -- extra 24 hours in both directions.\n",
    "# 20200312: new sources in ptm data, with v02 stormwater concs.\n",
    "# 20200330: more new sources.\n",
    "# 20210210a: dask code, new hydro, new ptm. new year.\n",
    "# 20210317a: new ptm runs with no SJ loss...\n",
    "os.makedirs(cfg['manta_out_dir'],exist_ok=True)\n",
    "\n",
    "last_DATE=None\n",
    "df=None\n",
    "\n",
    "for idx,rec in manta.iterrows():\n",
    "    print(idx)\n",
    "    # since we're just pulling out whole days, cache by day.\n",
    "    # and pull through the end of that day\n",
    "    # 5s, all in read_parquet\n",
    "    if rec.DATE==last_DATE:\n",
    "        pass\n",
    "    else:\n",
    "        df=post.particles_for_date(rec.DATE,cfg=cfg)\n",
    "        last_DATE=rec.DATE\n",
    "    \n",
    "    # Trawl-specific processing:\n",
    "    # Pull subset of cells\n",
    "    # add a cell weighting, and a time weighting for the tidal filter\n",
    "    tfn=os.path.join(cfg['manta_out_dir'],f\"v01-manta_{idx}.parquet\")\n",
    "    \n",
    "    # Fast\n",
    "    cells,weights=post.rec_to_cell_weights(rec,areas=areas,grid=grid,\n",
    "                                           Msmooth=Msmooth,smooth=30,thresh=1e-5)\n",
    "    # Fast\n",
    "    df_spatial=pd.DataFrame(dict(cell=cells,weight_spatial=weights)).set_index('cell')\n",
    "    # 1.3s. selecting a subset of rows, and adding a column with spatial weight.\n",
    "    # Using a dictionary might get this down to 60% of original\n",
    "    # going through numpy  might get down to 40% of original. \n",
    "    tdf=df.join(df_spatial,on='cell',how='inner')\n",
    "    # Now tdf has only particles from the neighborhood, with a spatial\n",
    "    # weight per particle.\n",
    "    \n",
    "    t_sample=np.datetime64(rec['DATE'])    \n",
    "    t_center = t_sample+np.timedelta64(8,'h') + np.timedelta64(12,'h')\n",
    "    delta_hours=((tdf['time']-t_center)/np.timedelta64(1,'h')).astype(np.int32)\n",
    "    tdf['weight_time']=godwin[delta_hours+godwin_offset_h]\n",
    "    #tdf.to_parquet(tfn)\n"
   ]
  },
  {
   "cell_type": "code",
   "execution_count": 68,
   "metadata": {},
   "outputs": [],
   "source": [
    "def group_weights(tdf,storm_factor=1.0):\n",
    "    groups=tdf['group'].unique()\n",
    "    group_to_weight={}\n",
    "    for grp in groups:\n",
    "        for potw in ['sunnyvale','san_jose','palo_alto','cccsd',\n",
    "                     'fs','src000','src001','src002']:\n",
    "            if ('/'+potw) in grp:\n",
    "                group_to_weight[grp]=1.0\n",
    "                break\n",
    "        else:\n",
    "            group_to_weight[grp]=storm_factor\n",
    "    weights=tdf['group'].map(group_to_weight)\n",
    "    return weights"
   ]
  },
  {
   "cell_type": "code",
   "execution_count": 70,
   "metadata": {},
   "outputs": [],
   "source": [
    "# Compile the model predictions into a new dataframe\n",
    "# with index matching manta\n",
    "\n",
    "# Decay time scale\n",
    "# tau=np.inf # 0.078, 0.586\n",
    "# tau=20D    # 0.055, 0.665\n",
    "# tau=10D    # 0.042, 0.689\n",
    "# tau=5D     # 0.029, 0.702\n",
    "# tau=2D     # 0.012, 0.730\n",
    "# tau=1D     # -0     0.74\n",
    "# tau=np.timedelta64(60,'D')\n",
    "\n",
    "def predict_mantas(manta,tau,Msmooth=Msmooth,smooth=30,storm_factor=0.05,cfg=cfg):\n",
    "    # manta: pd.DataFrame \n",
    "    # tau: np.timedelta64 giving e-folding time scale\n",
    "    # of loss.\n",
    "    # storm_factor: scale stormwater concentrations by this\n",
    "    #  factor.\n",
    "    preds=[]\n",
    "    \n",
    "    # Exploit that mantas has blocks that are on the same day.\n",
    "    last_DATE=None\n",
    "    df=None\n",
    "\n",
    "    for idx,rec in utils.progress(manta.iterrows()):\n",
    "        print(idx)\n",
    "        # since we're just pulling out whole days, cache by day.\n",
    "        # and pull through the end of that day\n",
    "        # 5s, all in read_parquet\n",
    "        if rec.DATE==last_DATE:\n",
    "            pass\n",
    "        else:\n",
    "            df=post.particles_for_date(rec.DATE,cfg=cfg)\n",
    "            last_DATE=rec.DATE\n",
    "\n",
    "        # Trawl-specific processing:\n",
    "        # Pull subset of cells\n",
    "        # add a cell weighting, and a time weighting for the tidal filter\n",
    "        #tfn=os.path.join(cfg['manta_out_dir'],f\"v01-manta_{idx}.parquet\")\n",
    "\n",
    "        cells,weights=post.rec_to_cell_weights(rec,areas=areas,grid=grid,\n",
    "                                               Msmooth=Msmooth,smooth=smooth,thresh=1e-5)\n",
    "        df_spatial=pd.DataFrame(dict(cell=cells,weight_spatial=weights)).set_index('cell')\n",
    "        # 1.3s. selecting a subset of rows, and adding a column with spatial weight.\n",
    "        # Using a dictionary might get this down to 60% of original\n",
    "        # going through numpy  might get down to 40% of original. \n",
    "        tdf=df.join(df_spatial,on='cell',how='inner')\n",
    "        \n",
    "        t_sample=np.datetime64(rec['DATE'])    \n",
    "        t_center = t_sample+np.timedelta64(8,'h') + np.timedelta64(12,'h')\n",
    "        delta_hours=((tdf['time']-t_center)/np.timedelta64(1,'h')).astype(np.int32)\n",
    "        tdf['weight_time']=godwin[delta_hours+godwin_offset_h]\n",
    "        \n",
    "        pred={}\n",
    "        age=tdf['time'] - tdf['rel_time']\n",
    "        decay=np.exp( -age/tau )\n",
    "        \n",
    "        group_weight=group_weights(tdf,storm_factor)\n",
    "\n",
    "        pred['idx']=idx\n",
    "\n",
    "        weights=tdf['weight_spatial']*tdf['weight_time']*decay*group_weight\n",
    "\n",
    "        # tdf['mp_per_particle'] # the number of physical particles represented by the virtual particle\n",
    "        # no decay yet!\n",
    "        #   This is the contribution from this one\n",
    "        #   virtual particle the cell concentration\n",
    "        #                                               smoothed in space      smoothed in time\n",
    "        C=( weights * tdf['mp_per_particle'] / areas[tdf['cell']] ).sum()\n",
    "        pred['C_model']=C\n",
    "        preds.append(pred)\n",
    "\n",
    "    df_pred=pd.DataFrame(preds).set_index('idx')\n",
    "    df_pred.head()\n",
    "\n",
    "    manta_pred=manta.join(df_pred)\n",
    "    return manta_pred\n",
    "    "
   ]
  },
  {
   "cell_type": "code",
   "execution_count": 101,
   "metadata": {},
   "outputs": [],
   "source": [
    "def predict_mantas_multi(manta,taus,\n",
    "                         Msmooths=[Msmooth],\n",
    "                         steps=[30],\n",
    "                         storm_factors=[0.05],\n",
    "                         cfg=cfg):\n",
    "    # manta: pd.DataFrame \n",
    "    # tau: np.timedelta64 giving e-folding time scale\n",
    "    # of loss.\n",
    "    # storm_factor: scale stormwater concentrations by this\n",
    "    #  factor.\n",
    "    preds=[]\n",
    "    \n",
    "    # Force mantas to be sorted, so that data from the same day\n",
    "    # is grouped together.\n",
    "    manta=manta.sort_values('DATE')\n",
    "    last_DATE=None\n",
    "    df=None\n",
    "\n",
    "    for idx,rec in utils.progress(manta.iterrows()):\n",
    "        print(idx)\n",
    "        # since we're just pulling out whole days, cache by day.\n",
    "        # and pull through the end of that day\n",
    "        # 5s, all in read_parquet\n",
    "        if rec.DATE==last_DATE:\n",
    "            pass\n",
    "        else:\n",
    "            df=post.particles_for_date(rec.DATE,cfg=cfg)\n",
    "            last_DATE=rec.DATE\n",
    "\n",
    "        # Trawl-specific processing:\n",
    "        # Pull subset of cells\n",
    "        # add a cell weighting, and a time weighting for the tidal filter\n",
    "        for Msmooth_i,Msmooth in enumerate(Msmooths):\n",
    "            print(f\"  smooth: {Msmooth_i}\")\n",
    "            for step in steps:\n",
    "                print(f\"    steps: {step}\")\n",
    "                cells,weights=post.rec_to_cell_weights(rec,areas=areas,grid=grid,\n",
    "                                                       Msmooth=Msmooth,smooth=step,thresh=1e-5)\n",
    "                df_spatial=pd.DataFrame(dict(cell=cells,weight_spatial=weights)).set_index('cell')\n",
    "                # 1.3s. selecting a subset of rows, and adding a column with spatial weight.\n",
    "                # Using a dictionary might get this down to 60% of original\n",
    "                # going through numpy  might get down to 40% of original.\n",
    "                if 0:\n",
    "                    tdf=df.join(df_spatial,on='cell',how='inner')\n",
    "                else:\n",
    "                    # trying numpy approach\n",
    "                    df_spatial_sort=df_spatial.sort_index()\n",
    "                    space_cell=df_spatial_sort.index.values\n",
    "                    space_weight=df_spatial_sort['weight_spatial'].values\n",
    "                    df_cell=df.cell.values\n",
    "                    df_idx=np.searchsorted(space_cell,df_cell).clip(0,len(space_cell)-1)\n",
    "                    sel=space_cell[df_idx]==df_cell\n",
    "                    tdf=df[sel].copy()\n",
    "                    tdf['weight_spatial']=space_weight[df_idx[sel]]                    \n",
    "\n",
    "                t_sample=np.datetime64(rec['DATE'])    \n",
    "                t_center = t_sample+np.timedelta64(8,'h') + np.timedelta64(12,'h')\n",
    "                delta_hours=((tdf['time']-t_center)/np.timedelta64(1,'h')).astype(np.int32)\n",
    "                weight_time=godwin[delta_hours+godwin_offset_h]\n",
    "                age=tdf['time'] - tdf['rel_time']\n",
    "    \n",
    "                for storm_factor in storm_factors:\n",
    "                    print(f\"      storm_factor: {storm_factor}\")\n",
    "                    group_weight=group_weights(tdf,storm_factor)\n",
    "\n",
    "                    for tau in taus:\n",
    "                        tau_s=tau/np.timedelta64(86400,'s')\n",
    "                        print(f\"        tau={tau_s} days\")\n",
    "                        pred=dict(idx=idx,storm_factor=storm_factor,tau=tau,step=step,\n",
    "                                  Msmooth_i=Msmooth_i)\n",
    "                        pred['idx']=idx\n",
    "\n",
    "                        decay=np.exp( -age/tau )\n",
    "\n",
    "                        weights=tdf['weight_spatial']*weight_time*decay*group_weight\n",
    "\n",
    "                        # tdf['mp_per_particle'] # the number of physical particles represented by the virtual particle\n",
    "                        # no decay yet!\n",
    "                        #   This is the contribution from this one\n",
    "                        #   virtual particle the cell concentration\n",
    "                        #                                               smoothed in space      smoothed in time\n",
    "                        C=( weights * tdf['mp_per_particle'] / areas[tdf['cell']] ).sum()\n",
    "                        pred['C_model']=C\n",
    "                        preds.append(pred)\n",
    "\n",
    "    df_pred=pd.DataFrame(preds) # .set_index('idx')\n",
    "\n",
    "    #manta_pred=manta.join(df_pred)\n",
    "    manta_pred=df_pred.join(manta,on='idx')\n",
    "    return manta_pred\n",
    "\n"
   ]
  },
  {
   "cell_type": "code",
   "execution_count": 102,
   "metadata": {},
   "outputs": [
    {
     "name": "stdout",
     "output_type": "stream",
     "text": [
      "0\n",
      "  smooth: 0\n",
      "    steps: 0\n",
      "      storm_factor: 0.05\n",
      "        tau=25.0 days\n",
      "    steps: -10\n",
      "      storm_factor: 0.05\n",
      "        tau=25.0 days\n",
      "    steps: -100\n",
      "      storm_factor: 0.05\n",
      "        tau=25.0 days\n",
      "    steps: -1000\n",
      "      storm_factor: 0.05\n",
      "        tau=25.0 days\n",
      "    steps: -10000\n",
      "      storm_factor: 0.05\n",
      "        tau=25.0 days\n",
      "    steps: -100000\n",
      "      storm_factor: 0.05\n",
      "        tau=25.0 days\n",
      "  smooth: 1\n",
      "    steps: 0\n",
      "      storm_factor: 0.05\n",
      "        tau=25.0 days\n",
      "    steps: -10\n",
      "      storm_factor: 0.05\n",
      "        tau=25.0 days\n",
      "    steps: -100\n",
      "      storm_factor: 0.05\n",
      "        tau=25.0 days\n",
      "    steps: -1000\n",
      "      storm_factor: 0.05\n",
      "        tau=25.0 days\n",
      "    steps: -10000\n",
      "      storm_factor: 0.05\n",
      "        tau=25.0 days\n",
      "    steps: -100000\n",
      "      storm_factor: 0.05\n"
     ]
    },
    {
     "name": "stderr",
     "output_type": "stream",
     "text": [
      "INFO:utils:1\n"
     ]
    },
    {
     "name": "stdout",
     "output_type": "stream",
     "text": [
      "        tau=25.0 days\n",
      "1\n",
      "  smooth: 0\n",
      "    steps: 0\n",
      "      storm_factor: 0.05\n",
      "        tau=25.0 days\n",
      "    steps: -10\n",
      "      storm_factor: 0.05\n",
      "        tau=25.0 days\n",
      "    steps: -100\n",
      "      storm_factor: 0.05\n",
      "        tau=25.0 days\n",
      "    steps: -1000\n",
      "      storm_factor: 0.05\n",
      "        tau=25.0 days\n",
      "    steps: -10000\n",
      "      storm_factor: 0.05\n",
      "        tau=25.0 days\n",
      "    steps: -100000\n",
      "      storm_factor: 0.05\n",
      "        tau=25.0 days\n",
      "  smooth: 1\n",
      "    steps: 0\n",
      "      storm_factor: 0.05\n",
      "        tau=25.0 days\n",
      "    steps: -10\n",
      "      storm_factor: 0.05\n",
      "        tau=25.0 days\n",
      "    steps: -100\n",
      "      storm_factor: 0.05\n",
      "        tau=25.0 days\n",
      "    steps: -1000\n",
      "      storm_factor: 0.05\n",
      "        tau=25.0 days\n",
      "    steps: -10000\n",
      "      storm_factor: 0.05\n",
      "        tau=25.0 days\n",
      "    steps: -100000\n",
      "      storm_factor: 0.05\n"
     ]
    },
    {
     "name": "stderr",
     "output_type": "stream",
     "text": [
      "INFO:utils:2\n"
     ]
    },
    {
     "name": "stdout",
     "output_type": "stream",
     "text": [
      "        tau=25.0 days\n",
      "2\n",
      "  smooth: 0\n",
      "    steps: 0\n",
      "      storm_factor: 0.05\n",
      "        tau=25.0 days\n",
      "    steps: -10\n",
      "      storm_factor: 0.05\n",
      "        tau=25.0 days\n",
      "    steps: -100\n",
      "      storm_factor: 0.05\n",
      "        tau=25.0 days\n",
      "    steps: -1000\n",
      "      storm_factor: 0.05\n",
      "        tau=25.0 days\n",
      "    steps: -10000\n",
      "      storm_factor: 0.05\n",
      "        tau=25.0 days\n",
      "    steps: -100000\n",
      "      storm_factor: 0.05\n",
      "        tau=25.0 days\n",
      "  smooth: 1\n",
      "    steps: 0\n",
      "      storm_factor: 0.05\n",
      "        tau=25.0 days\n",
      "    steps: -10\n",
      "      storm_factor: 0.05\n",
      "        tau=25.0 days\n",
      "    steps: -100\n",
      "      storm_factor: 0.05\n",
      "        tau=25.0 days\n",
      "    steps: -1000\n",
      "      storm_factor: 0.05\n",
      "        tau=25.0 days\n",
      "    steps: -10000\n",
      "      storm_factor: 0.05\n",
      "        tau=25.0 days\n",
      "    steps: -100000\n"
     ]
    },
    {
     "name": "stderr",
     "output_type": "stream",
     "text": [
      "INFO:utils:3\n"
     ]
    },
    {
     "name": "stdout",
     "output_type": "stream",
     "text": [
      "      storm_factor: 0.05\n",
      "        tau=25.0 days\n",
      "3\n",
      "  smooth: 0\n",
      "    steps: 0\n",
      "      storm_factor: 0.05\n",
      "        tau=25.0 days\n",
      "    steps: -10\n",
      "      storm_factor: 0.05\n",
      "        tau=25.0 days\n",
      "    steps: -100\n",
      "      storm_factor: 0.05\n",
      "        tau=25.0 days\n",
      "    steps: -1000\n",
      "      storm_factor: 0.05\n",
      "        tau=25.0 days\n",
      "    steps: -10000\n",
      "      storm_factor: 0.05\n",
      "        tau=25.0 days\n",
      "    steps: -100000\n",
      "      storm_factor: 0.05\n",
      "        tau=25.0 days\n",
      "  smooth: 1\n",
      "    steps: 0\n",
      "      storm_factor: 0.05\n",
      "        tau=25.0 days\n",
      "    steps: -10\n",
      "      storm_factor: 0.05\n",
      "        tau=25.0 days\n",
      "    steps: -100\n",
      "      storm_factor: 0.05\n",
      "        tau=25.0 days\n",
      "    steps: -1000\n",
      "      storm_factor: 0.05\n",
      "        tau=25.0 days\n",
      "    steps: -10000\n",
      "      storm_factor: 0.05\n",
      "        tau=25.0 days\n",
      "    steps: -100000\n",
      "      storm_factor: 0.05\n"
     ]
    },
    {
     "name": "stderr",
     "output_type": "stream",
     "text": [
      "INFO:utils:4\n"
     ]
    },
    {
     "name": "stdout",
     "output_type": "stream",
     "text": [
      "        tau=25.0 days\n",
      "4\n",
      "  smooth: 0\n",
      "    steps: 0\n",
      "      storm_factor: 0.05\n",
      "        tau=25.0 days\n",
      "    steps: -10\n",
      "      storm_factor: 0.05\n",
      "        tau=25.0 days\n",
      "    steps: -100\n",
      "      storm_factor: 0.05\n",
      "        tau=25.0 days\n",
      "    steps: -1000\n",
      "      storm_factor: 0.05\n",
      "        tau=25.0 days\n",
      "    steps: -10000\n",
      "      storm_factor: 0.05\n",
      "        tau=25.0 days\n",
      "    steps: -100000\n",
      "      storm_factor: 0.05\n",
      "        tau=25.0 days\n",
      "  smooth: 1\n",
      "    steps: 0\n",
      "      storm_factor: 0.05\n",
      "        tau=25.0 days\n",
      "    steps: -10\n",
      "      storm_factor: 0.05\n",
      "        tau=25.0 days\n",
      "    steps: -100\n",
      "      storm_factor: 0.05\n",
      "        tau=25.0 days\n",
      "    steps: -1000\n",
      "      storm_factor: 0.05\n",
      "        tau=25.0 days\n",
      "    steps: -10000\n",
      "      storm_factor: 0.05\n",
      "        tau=25.0 days\n",
      "    steps: -100000\n",
      "      storm_factor: 0.05\n"
     ]
    },
    {
     "name": "stderr",
     "output_type": "stream",
     "text": [
      "INFO:utils:5\n"
     ]
    },
    {
     "name": "stdout",
     "output_type": "stream",
     "text": [
      "        tau=25.0 days\n",
      "5\n",
      "  smooth: 0\n",
      "    steps: 0\n",
      "      storm_factor: 0.05\n",
      "        tau=25.0 days\n",
      "    steps: -10\n",
      "      storm_factor: 0.05\n",
      "        tau=25.0 days\n",
      "    steps: -100\n",
      "      storm_factor: 0.05\n",
      "        tau=25.0 days\n",
      "    steps: -1000\n",
      "      storm_factor: 0.05\n",
      "        tau=25.0 days\n",
      "    steps: -10000\n",
      "      storm_factor: 0.05\n",
      "        tau=25.0 days\n",
      "    steps: -100000\n",
      "      storm_factor: 0.05\n",
      "        tau=25.0 days\n",
      "  smooth: 1\n",
      "    steps: 0\n",
      "      storm_factor: 0.05\n",
      "        tau=25.0 days\n",
      "    steps: -10\n",
      "      storm_factor: 0.05\n",
      "        tau=25.0 days\n",
      "    steps: -100\n",
      "      storm_factor: 0.05\n",
      "        tau=25.0 days\n",
      "    steps: -1000\n",
      "      storm_factor: 0.05\n",
      "        tau=25.0 days\n",
      "    steps: -10000\n",
      "      storm_factor: 0.05\n",
      "        tau=25.0 days\n",
      "    steps: -100000\n",
      "      storm_factor: 0.05\n",
      "        tau=25.0 days\n"
     ]
    },
    {
     "name": "stderr",
     "output_type": "stream",
     "text": [
      "INFO:utils:6\n"
     ]
    },
    {
     "name": "stdout",
     "output_type": "stream",
     "text": [
      "6\n",
      "  smooth: 0\n",
      "    steps: 0\n",
      "      storm_factor: 0.05\n",
      "        tau=25.0 days\n",
      "    steps: -10\n",
      "      storm_factor: 0.05\n",
      "        tau=25.0 days\n",
      "    steps: -100\n",
      "      storm_factor: 0.05\n",
      "        tau=25.0 days\n",
      "    steps: -1000\n",
      "      storm_factor: 0.05\n",
      "        tau=25.0 days\n",
      "    steps: -10000\n",
      "      storm_factor: 0.05\n",
      "        tau=25.0 days\n",
      "    steps: -100000\n",
      "      storm_factor: 0.05\n",
      "        tau=25.0 days\n",
      "  smooth: 1\n",
      "    steps: 0\n",
      "      storm_factor: 0.05\n",
      "        tau=25.0 days\n",
      "    steps: -10\n",
      "      storm_factor: 0.05\n",
      "        tau=25.0 days\n",
      "    steps: -100\n",
      "      storm_factor: 0.05\n",
      "        tau=25.0 days\n",
      "    steps: -1000\n",
      "      storm_factor: 0.05\n",
      "        tau=25.0 days\n",
      "    steps: -10000\n",
      "      storm_factor: 0.05\n",
      "        tau=25.0 days\n",
      "    steps: -100000\n",
      "      storm_factor: 0.05\n",
      "        tau=25.0 days\n"
     ]
    },
    {
     "name": "stderr",
     "output_type": "stream",
     "text": [
      "INFO:utils:7\n"
     ]
    },
    {
     "name": "stdout",
     "output_type": "stream",
     "text": [
      "7\n",
      "  smooth: 0\n",
      "    steps: 0\n",
      "      storm_factor: 0.05\n",
      "        tau=25.0 days\n",
      "    steps: -10\n",
      "      storm_factor: 0.05\n",
      "        tau=25.0 days\n",
      "    steps: -100\n",
      "      storm_factor: 0.05\n",
      "        tau=25.0 days\n",
      "    steps: -1000\n",
      "      storm_factor: 0.05\n",
      "        tau=25.0 days\n",
      "    steps: -10000\n",
      "      storm_factor: 0.05\n",
      "        tau=25.0 days\n",
      "    steps: -100000\n",
      "      storm_factor: 0.05\n",
      "        tau=25.0 days\n",
      "  smooth: 1\n",
      "    steps: 0\n",
      "      storm_factor: 0.05\n",
      "        tau=25.0 days\n",
      "    steps: -10\n",
      "      storm_factor: 0.05\n",
      "        tau=25.0 days\n",
      "    steps: -100\n",
      "      storm_factor: 0.05\n",
      "        tau=25.0 days\n",
      "    steps: -1000\n",
      "      storm_factor: 0.05\n",
      "        tau=25.0 days\n",
      "    steps: -10000\n",
      "      storm_factor: 0.05\n",
      "        tau=25.0 days\n",
      "    steps: -100000\n",
      "      storm_factor: 0.05\n",
      "        tau=25.0 days\n"
     ]
    },
    {
     "name": "stderr",
     "output_type": "stream",
     "text": [
      "INFO:utils:8\n"
     ]
    },
    {
     "name": "stdout",
     "output_type": "stream",
     "text": [
      "11\n",
      "  smooth: 0\n",
      "    steps: 0\n",
      "      storm_factor: 0.05\n",
      "        tau=25.0 days\n",
      "    steps: -10\n",
      "      storm_factor: 0.05\n",
      "        tau=25.0 days\n",
      "    steps: -100\n",
      "      storm_factor: 0.05\n",
      "        tau=25.0 days\n",
      "    steps: -1000\n",
      "      storm_factor: 0.05\n",
      "        tau=25.0 days\n",
      "    steps: -10000\n",
      "      storm_factor: 0.05\n",
      "        tau=25.0 days\n",
      "    steps: -100000\n",
      "      storm_factor: 0.05\n",
      "        tau=25.0 days\n",
      "  smooth: 1\n",
      "    steps: 0\n",
      "      storm_factor: 0.05\n",
      "        tau=25.0 days\n",
      "    steps: -10\n",
      "      storm_factor: 0.05\n",
      "        tau=25.0 days\n",
      "    steps: -100\n",
      "      storm_factor: 0.05\n",
      "        tau=25.0 days\n",
      "    steps: -1000\n",
      "      storm_factor: 0.05\n",
      "        tau=25.0 days\n",
      "    steps: -10000\n",
      "      storm_factor: 0.05\n",
      "        tau=25.0 days\n",
      "    steps: -100000\n",
      "      storm_factor: 0.05\n"
     ]
    },
    {
     "name": "stderr",
     "output_type": "stream",
     "text": [
      "INFO:utils:9\n"
     ]
    },
    {
     "name": "stdout",
     "output_type": "stream",
     "text": [
      "        tau=25.0 days\n",
      "10\n",
      "  smooth: 0\n",
      "    steps: 0\n",
      "      storm_factor: 0.05\n",
      "        tau=25.0 days\n",
      "    steps: -10\n",
      "      storm_factor: 0.05\n",
      "        tau=25.0 days\n",
      "    steps: -100\n",
      "      storm_factor: 0.05\n",
      "        tau=25.0 days\n",
      "    steps: -1000\n",
      "      storm_factor: 0.05\n",
      "        tau=25.0 days\n",
      "    steps: -10000\n",
      "      storm_factor: 0.05\n",
      "        tau=25.0 days\n",
      "    steps: -100000\n",
      "      storm_factor: 0.05\n",
      "        tau=25.0 days\n",
      "  smooth: 1\n",
      "    steps: 0\n",
      "      storm_factor: 0.05\n",
      "        tau=25.0 days\n",
      "    steps: -10\n",
      "      storm_factor: 0.05\n",
      "        tau=25.0 days\n",
      "    steps: -100\n",
      "      storm_factor: 0.05\n",
      "        tau=25.0 days\n",
      "    steps: -1000\n",
      "      storm_factor: 0.05\n",
      "        tau=25.0 days\n",
      "    steps: -10000\n",
      "      storm_factor: 0.05\n",
      "        tau=25.0 days\n",
      "    steps: -100000\n",
      "      storm_factor: 0.05\n"
     ]
    },
    {
     "name": "stderr",
     "output_type": "stream",
     "text": [
      "INFO:utils:10\n"
     ]
    },
    {
     "name": "stdout",
     "output_type": "stream",
     "text": [
      "        tau=25.0 days\n",
      "8\n",
      "  smooth: 0\n",
      "    steps: 0\n",
      "      storm_factor: 0.05\n",
      "        tau=25.0 days\n",
      "    steps: -10\n",
      "      storm_factor: 0.05\n",
      "        tau=25.0 days\n",
      "    steps: -100\n",
      "      storm_factor: 0.05\n",
      "        tau=25.0 days\n",
      "    steps: -1000\n",
      "      storm_factor: 0.05\n",
      "        tau=25.0 days\n",
      "    steps: -10000\n",
      "      storm_factor: 0.05\n",
      "        tau=25.0 days\n",
      "    steps: -100000\n",
      "      storm_factor: 0.05\n",
      "        tau=25.0 days\n",
      "  smooth: 1\n",
      "    steps: 0\n",
      "      storm_factor: 0.05\n",
      "        tau=25.0 days\n",
      "    steps: -10\n",
      "      storm_factor: 0.05\n",
      "        tau=25.0 days\n",
      "    steps: -100\n",
      "      storm_factor: 0.05\n",
      "        tau=25.0 days\n",
      "    steps: -1000\n",
      "      storm_factor: 0.05\n",
      "        tau=25.0 days\n",
      "    steps: -10000\n",
      "      storm_factor: 0.05\n",
      "        tau=25.0 days\n",
      "    steps: -100000\n",
      "      storm_factor: 0.05\n"
     ]
    },
    {
     "name": "stderr",
     "output_type": "stream",
     "text": [
      "INFO:utils:11\n"
     ]
    },
    {
     "name": "stdout",
     "output_type": "stream",
     "text": [
      "        tau=25.0 days\n",
      "9\n",
      "  smooth: 0\n",
      "    steps: 0\n",
      "      storm_factor: 0.05\n",
      "        tau=25.0 days\n",
      "    steps: -10\n",
      "      storm_factor: 0.05\n",
      "        tau=25.0 days\n",
      "    steps: -100\n",
      "      storm_factor: 0.05\n",
      "        tau=25.0 days\n",
      "    steps: -1000\n",
      "      storm_factor: 0.05\n",
      "        tau=25.0 days\n",
      "    steps: -10000\n",
      "      storm_factor: 0.05\n",
      "        tau=25.0 days\n",
      "    steps: -100000\n",
      "      storm_factor: 0.05\n",
      "        tau=25.0 days\n",
      "  smooth: 1\n",
      "    steps: 0\n",
      "      storm_factor: 0.05\n",
      "        tau=25.0 days\n",
      "    steps: -10\n",
      "      storm_factor: 0.05\n",
      "        tau=25.0 days\n",
      "    steps: -100\n",
      "      storm_factor: 0.05\n",
      "        tau=25.0 days\n",
      "    steps: -1000\n",
      "      storm_factor: 0.05\n",
      "        tau=25.0 days\n",
      "    steps: -10000\n",
      "      storm_factor: 0.05\n",
      "        tau=25.0 days\n",
      "    steps: -100000\n",
      "      storm_factor: 0.05\n"
     ]
    },
    {
     "name": "stderr",
     "output_type": "stream",
     "text": [
      "INFO:utils:12\n"
     ]
    },
    {
     "name": "stdout",
     "output_type": "stream",
     "text": [
      "        tau=25.0 days\n",
      "12\n",
      "  smooth: 0\n",
      "    steps: 0\n",
      "      storm_factor: 0.05\n",
      "        tau=25.0 days\n",
      "    steps: -10\n",
      "      storm_factor: 0.05\n",
      "        tau=25.0 days\n",
      "    steps: -100\n",
      "      storm_factor: 0.05\n",
      "        tau=25.0 days\n",
      "    steps: -1000\n",
      "      storm_factor: 0.05\n",
      "        tau=25.0 days\n",
      "    steps: -10000\n",
      "      storm_factor: 0.05\n",
      "        tau=25.0 days\n",
      "    steps: -100000\n",
      "      storm_factor: 0.05\n",
      "        tau=25.0 days\n",
      "  smooth: 1\n",
      "    steps: 0\n",
      "      storm_factor: 0.05\n",
      "        tau=25.0 days\n",
      "    steps: -10\n",
      "      storm_factor: 0.05\n",
      "        tau=25.0 days\n",
      "    steps: -100\n",
      "      storm_factor: 0.05\n",
      "        tau=25.0 days\n",
      "    steps: -1000\n",
      "      storm_factor: 0.05\n",
      "        tau=25.0 days\n",
      "    steps: -10000\n",
      "      storm_factor: 0.05\n",
      "        tau=25.0 days\n",
      "    steps: -100000\n",
      "      storm_factor: 0.05\n",
      "        tau=25.0 days\n"
     ]
    },
    {
     "name": "stderr",
     "output_type": "stream",
     "text": [
      "INFO:utils:13\n"
     ]
    },
    {
     "name": "stdout",
     "output_type": "stream",
     "text": [
      "13\n",
      "  smooth: 0\n",
      "    steps: 0\n",
      "      storm_factor: 0.05\n",
      "        tau=25.0 days\n",
      "    steps: -10\n",
      "      storm_factor: 0.05\n",
      "        tau=25.0 days\n",
      "    steps: -100\n",
      "      storm_factor: 0.05\n",
      "        tau=25.0 days\n",
      "    steps: -1000\n",
      "      storm_factor: 0.05\n",
      "        tau=25.0 days\n",
      "    steps: -10000\n",
      "      storm_factor: 0.05\n",
      "        tau=25.0 days\n",
      "    steps: -100000\n",
      "      storm_factor: 0.05\n",
      "        tau=25.0 days\n",
      "  smooth: 1\n",
      "    steps: 0\n",
      "      storm_factor: 0.05\n",
      "        tau=25.0 days\n",
      "    steps: -10\n",
      "      storm_factor: 0.05\n",
      "        tau=25.0 days\n",
      "    steps: -100\n",
      "      storm_factor: 0.05\n",
      "        tau=25.0 days\n",
      "    steps: -1000\n",
      "      storm_factor: 0.05\n",
      "        tau=25.0 days\n",
      "    steps: -10000\n",
      "      storm_factor: 0.05\n",
      "        tau=25.0 days\n",
      "    steps: -100000\n",
      "      storm_factor: 0.05\n",
      "        tau=25.0 days\n"
     ]
    },
    {
     "name": "stderr",
     "output_type": "stream",
     "text": [
      "INFO:utils:14\n"
     ]
    },
    {
     "name": "stdout",
     "output_type": "stream",
     "text": [
      "14\n",
      "  smooth: 0\n",
      "    steps: 0\n",
      "      storm_factor: 0.05\n",
      "        tau=25.0 days\n",
      "    steps: -10\n",
      "      storm_factor: 0.05\n",
      "        tau=25.0 days\n",
      "    steps: -100\n",
      "      storm_factor: 0.05\n",
      "        tau=25.0 days\n",
      "    steps: -1000\n",
      "      storm_factor: 0.05\n",
      "        tau=25.0 days\n",
      "    steps: -10000\n",
      "      storm_factor: 0.05\n",
      "        tau=25.0 days\n",
      "    steps: -100000\n",
      "      storm_factor: 0.05\n",
      "        tau=25.0 days\n",
      "  smooth: 1\n",
      "    steps: 0\n",
      "      storm_factor: 0.05\n",
      "        tau=25.0 days\n",
      "    steps: -10\n",
      "      storm_factor: 0.05\n",
      "        tau=25.0 days\n",
      "    steps: -100\n",
      "      storm_factor: 0.05\n",
      "        tau=25.0 days\n",
      "    steps: -1000\n",
      "      storm_factor: 0.05\n",
      "        tau=25.0 days\n",
      "    steps: -10000\n",
      "      storm_factor: 0.05\n",
      "        tau=25.0 days\n",
      "    steps: -100000\n",
      "      storm_factor: 0.05\n"
     ]
    },
    {
     "name": "stderr",
     "output_type": "stream",
     "text": [
      "INFO:utils:15\n"
     ]
    },
    {
     "name": "stdout",
     "output_type": "stream",
     "text": [
      "        tau=25.0 days\n",
      "15\n",
      "  smooth: 0\n",
      "    steps: 0\n",
      "      storm_factor: 0.05\n",
      "        tau=25.0 days\n",
      "    steps: -10\n",
      "      storm_factor: 0.05\n",
      "        tau=25.0 days\n",
      "    steps: -100\n",
      "      storm_factor: 0.05\n",
      "        tau=25.0 days\n",
      "    steps: -1000\n",
      "      storm_factor: 0.05\n",
      "        tau=25.0 days\n",
      "    steps: -10000\n",
      "      storm_factor: 0.05\n",
      "        tau=25.0 days\n",
      "    steps: -100000\n",
      "      storm_factor: 0.05\n",
      "        tau=25.0 days\n",
      "  smooth: 1\n",
      "    steps: 0\n",
      "      storm_factor: 0.05\n",
      "        tau=25.0 days\n",
      "    steps: -10\n",
      "      storm_factor: 0.05\n",
      "        tau=25.0 days\n",
      "    steps: -100\n",
      "      storm_factor: 0.05\n",
      "        tau=25.0 days\n",
      "    steps: -1000\n",
      "      storm_factor: 0.05\n",
      "        tau=25.0 days\n",
      "    steps: -10000\n",
      "      storm_factor: 0.05\n",
      "        tau=25.0 days\n",
      "    steps: -100000\n",
      "      storm_factor: 0.05\n"
     ]
    },
    {
     "name": "stderr",
     "output_type": "stream",
     "text": [
      "INFO:utils:16\n"
     ]
    },
    {
     "name": "stdout",
     "output_type": "stream",
     "text": [
      "        tau=25.0 days\n",
      "16\n",
      "  smooth: 0\n",
      "    steps: 0\n",
      "      storm_factor: 0.05\n",
      "        tau=25.0 days\n",
      "    steps: -10\n",
      "      storm_factor: 0.05\n",
      "        tau=25.0 days\n",
      "    steps: -100\n",
      "      storm_factor: 0.05\n",
      "        tau=25.0 days\n",
      "    steps: -1000\n",
      "      storm_factor: 0.05\n",
      "        tau=25.0 days\n",
      "    steps: -10000\n",
      "      storm_factor: 0.05\n",
      "        tau=25.0 days\n",
      "    steps: -100000\n",
      "      storm_factor: 0.05\n",
      "        tau=25.0 days\n",
      "  smooth: 1\n",
      "    steps: 0\n",
      "      storm_factor: 0.05\n",
      "        tau=25.0 days\n",
      "    steps: -10\n",
      "      storm_factor: 0.05\n",
      "        tau=25.0 days\n",
      "    steps: -100\n",
      "      storm_factor: 0.05\n",
      "        tau=25.0 days\n",
      "    steps: -1000\n",
      "      storm_factor: 0.05\n",
      "        tau=25.0 days\n",
      "    steps: -10000\n",
      "      storm_factor: 0.05\n",
      "        tau=25.0 days\n",
      "    steps: -100000\n",
      "      storm_factor: 0.05\n"
     ]
    },
    {
     "name": "stderr",
     "output_type": "stream",
     "text": [
      "INFO:utils:17\n"
     ]
    },
    {
     "name": "stdout",
     "output_type": "stream",
     "text": [
      "        tau=25.0 days\n",
      "17\n",
      "  smooth: 0\n",
      "    steps: 0\n",
      "      storm_factor: 0.05\n",
      "        tau=25.0 days\n",
      "    steps: -10\n",
      "      storm_factor: 0.05\n",
      "        tau=25.0 days\n",
      "    steps: -100\n",
      "      storm_factor: 0.05\n",
      "        tau=25.0 days\n",
      "    steps: -1000\n",
      "      storm_factor: 0.05\n",
      "        tau=25.0 days\n",
      "    steps: -10000\n",
      "      storm_factor: 0.05\n",
      "        tau=25.0 days\n",
      "    steps: -100000\n",
      "      storm_factor: 0.05\n",
      "        tau=25.0 days\n",
      "  smooth: 1\n",
      "    steps: 0\n",
      "      storm_factor: 0.05\n",
      "        tau=25.0 days\n",
      "    steps: -10\n",
      "      storm_factor: 0.05\n",
      "        tau=25.0 days\n",
      "    steps: -100\n",
      "      storm_factor: 0.05\n",
      "        tau=25.0 days\n",
      "    steps: -1000\n",
      "      storm_factor: 0.05\n",
      "        tau=25.0 days\n",
      "    steps: -10000\n",
      "      storm_factor: 0.05\n",
      "        tau=25.0 days\n",
      "    steps: -100000\n",
      "      storm_factor: 0.05\n"
     ]
    },
    {
     "name": "stderr",
     "output_type": "stream",
     "text": [
      "INFO:utils:18\n"
     ]
    },
    {
     "name": "stdout",
     "output_type": "stream",
     "text": [
      "        tau=25.0 days\n",
      "18\n",
      "  smooth: 0\n",
      "    steps: 0\n",
      "      storm_factor: 0.05\n",
      "        tau=25.0 days\n",
      "    steps: -10\n",
      "      storm_factor: 0.05\n",
      "        tau=25.0 days\n",
      "    steps: -100\n",
      "      storm_factor: 0.05\n",
      "        tau=25.0 days\n",
      "    steps: -1000\n",
      "      storm_factor: 0.05\n",
      "        tau=25.0 days\n",
      "    steps: -10000\n",
      "      storm_factor: 0.05\n",
      "        tau=25.0 days\n",
      "    steps: -100000\n",
      "      storm_factor: 0.05\n",
      "        tau=25.0 days\n",
      "  smooth: 1\n",
      "    steps: 0\n",
      "      storm_factor: 0.05\n",
      "        tau=25.0 days\n",
      "    steps: -10\n",
      "      storm_factor: 0.05\n",
      "        tau=25.0 days\n",
      "    steps: -100\n",
      "      storm_factor: 0.05\n",
      "        tau=25.0 days\n",
      "    steps: -1000\n",
      "      storm_factor: 0.05\n",
      "        tau=25.0 days\n",
      "    steps: -10000\n",
      "      storm_factor: 0.05\n",
      "        tau=25.0 days\n",
      "    steps: -100000\n",
      "      storm_factor: 0.05\n"
     ]
    },
    {
     "name": "stderr",
     "output_type": "stream",
     "text": [
      "INFO:utils:19\n"
     ]
    },
    {
     "name": "stdout",
     "output_type": "stream",
     "text": [
      "        tau=25.0 days\n",
      "19\n",
      "  smooth: 0\n",
      "    steps: 0\n",
      "      storm_factor: 0.05\n",
      "        tau=25.0 days\n",
      "    steps: -10\n",
      "      storm_factor: 0.05\n",
      "        tau=25.0 days\n",
      "    steps: -100\n",
      "      storm_factor: 0.05\n",
      "        tau=25.0 days\n",
      "    steps: -1000\n",
      "      storm_factor: 0.05\n",
      "        tau=25.0 days\n",
      "    steps: -10000\n",
      "      storm_factor: 0.05\n",
      "        tau=25.0 days\n",
      "    steps: -100000\n",
      "      storm_factor: 0.05\n",
      "        tau=25.0 days\n",
      "  smooth: 1\n",
      "    steps: 0\n",
      "      storm_factor: 0.05\n",
      "        tau=25.0 days\n",
      "    steps: -10\n",
      "      storm_factor: 0.05\n",
      "        tau=25.0 days\n",
      "    steps: -100\n",
      "      storm_factor: 0.05\n",
      "        tau=25.0 days\n",
      "    steps: -1000\n",
      "      storm_factor: 0.05\n",
      "        tau=25.0 days\n",
      "    steps: -10000\n",
      "      storm_factor: 0.05\n",
      "        tau=25.0 days\n",
      "    steps: -100000\n",
      "      storm_factor: 0.05\n"
     ]
    },
    {
     "name": "stderr",
     "output_type": "stream",
     "text": [
      "INFO:utils:20\n"
     ]
    },
    {
     "name": "stdout",
     "output_type": "stream",
     "text": [
      "        tau=25.0 days\n",
      "20\n",
      "  smooth: 0\n",
      "    steps: 0\n",
      "      storm_factor: 0.05\n",
      "        tau=25.0 days\n",
      "    steps: -10\n",
      "      storm_factor: 0.05\n",
      "        tau=25.0 days\n",
      "    steps: -100\n",
      "      storm_factor: 0.05\n",
      "        tau=25.0 days\n",
      "    steps: -1000\n",
      "      storm_factor: 0.05\n",
      "        tau=25.0 days\n",
      "    steps: -10000\n",
      "      storm_factor: 0.05\n",
      "        tau=25.0 days\n",
      "    steps: -100000\n",
      "      storm_factor: 0.05\n",
      "        tau=25.0 days\n",
      "  smooth: 1\n",
      "    steps: 0\n",
      "      storm_factor: 0.05\n",
      "        tau=25.0 days\n",
      "    steps: -10\n",
      "      storm_factor: 0.05\n",
      "        tau=25.0 days\n",
      "    steps: -100\n",
      "      storm_factor: 0.05\n",
      "        tau=25.0 days\n",
      "    steps: -1000\n",
      "      storm_factor: 0.05\n",
      "        tau=25.0 days\n",
      "    steps: -10000\n",
      "      storm_factor: 0.05\n",
      "        tau=25.0 days\n",
      "    steps: -100000\n",
      "      storm_factor: 0.05\n"
     ]
    },
    {
     "name": "stderr",
     "output_type": "stream",
     "text": [
      "INFO:utils:21\n"
     ]
    },
    {
     "name": "stdout",
     "output_type": "stream",
     "text": [
      "        tau=25.0 days\n",
      "21\n",
      "  smooth: 0\n",
      "    steps: 0\n",
      "      storm_factor: 0.05\n",
      "        tau=25.0 days\n",
      "    steps: -10\n",
      "      storm_factor: 0.05\n",
      "        tau=25.0 days\n",
      "    steps: -100\n",
      "      storm_factor: 0.05\n",
      "        tau=25.0 days\n",
      "    steps: -1000\n",
      "      storm_factor: 0.05\n",
      "        tau=25.0 days\n",
      "    steps: -10000\n",
      "      storm_factor: 0.05\n",
      "        tau=25.0 days\n",
      "    steps: -100000\n",
      "      storm_factor: 0.05\n",
      "        tau=25.0 days\n",
      "  smooth: 1\n",
      "    steps: 0\n",
      "      storm_factor: 0.05\n",
      "        tau=25.0 days\n",
      "    steps: -10\n",
      "      storm_factor: 0.05\n",
      "        tau=25.0 days\n",
      "    steps: -100\n",
      "      storm_factor: 0.05\n",
      "        tau=25.0 days\n",
      "    steps: -1000\n",
      "      storm_factor: 0.05\n",
      "        tau=25.0 days\n",
      "    steps: -10000\n",
      "      storm_factor: 0.05\n",
      "        tau=25.0 days\n",
      "    steps: -100000\n"
     ]
    },
    {
     "name": "stderr",
     "output_type": "stream",
     "text": [
      "INFO:utils:22\n"
     ]
    },
    {
     "name": "stdout",
     "output_type": "stream",
     "text": [
      "      storm_factor: 0.05\n",
      "        tau=25.0 days\n",
      "22\n",
      "  smooth: 0\n",
      "    steps: 0\n",
      "      storm_factor: 0.05\n",
      "        tau=25.0 days\n",
      "    steps: -10\n",
      "      storm_factor: 0.05\n",
      "        tau=25.0 days\n",
      "    steps: -100\n",
      "      storm_factor: 0.05\n",
      "        tau=25.0 days\n",
      "    steps: -1000\n",
      "      storm_factor: 0.05\n",
      "        tau=25.0 days\n",
      "    steps: -10000\n",
      "      storm_factor: 0.05\n",
      "        tau=25.0 days\n",
      "    steps: -100000\n",
      "      storm_factor: 0.05\n",
      "        tau=25.0 days\n",
      "  smooth: 1\n",
      "    steps: 0\n",
      "      storm_factor: 0.05\n",
      "        tau=25.0 days\n",
      "    steps: -10\n",
      "      storm_factor: 0.05\n",
      "        tau=25.0 days\n",
      "    steps: -100\n",
      "      storm_factor: 0.05\n",
      "        tau=25.0 days\n",
      "    steps: -1000\n",
      "      storm_factor: 0.05\n",
      "        tau=25.0 days\n",
      "    steps: -10000\n",
      "      storm_factor: 0.05\n",
      "        tau=25.0 days\n",
      "    steps: -100000\n"
     ]
    },
    {
     "name": "stderr",
     "output_type": "stream",
     "text": [
      "INFO:utils:23\n"
     ]
    },
    {
     "name": "stdout",
     "output_type": "stream",
     "text": [
      "      storm_factor: 0.05\n",
      "        tau=25.0 days\n",
      "23\n",
      "  smooth: 0\n",
      "    steps: 0\n",
      "      storm_factor: 0.05\n",
      "        tau=25.0 days\n",
      "    steps: -10\n",
      "      storm_factor: 0.05\n",
      "        tau=25.0 days\n",
      "    steps: -100\n",
      "      storm_factor: 0.05\n",
      "        tau=25.0 days\n",
      "    steps: -1000\n",
      "      storm_factor: 0.05\n",
      "        tau=25.0 days\n",
      "    steps: -10000\n",
      "      storm_factor: 0.05\n",
      "        tau=25.0 days\n",
      "    steps: -100000\n",
      "      storm_factor: 0.05\n",
      "        tau=25.0 days\n",
      "  smooth: 1\n",
      "    steps: 0\n",
      "      storm_factor: 0.05\n",
      "        tau=25.0 days\n",
      "    steps: -10\n",
      "      storm_factor: 0.05\n",
      "        tau=25.0 days\n",
      "    steps: -100\n",
      "      storm_factor: 0.05\n",
      "        tau=25.0 days\n",
      "    steps: -1000\n",
      "      storm_factor: 0.05\n",
      "        tau=25.0 days\n",
      "    steps: -10000\n",
      "      storm_factor: 0.05\n",
      "        tau=25.0 days\n",
      "    steps: -100000\n"
     ]
    },
    {
     "name": "stderr",
     "output_type": "stream",
     "text": [
      "INFO:utils:24\n"
     ]
    },
    {
     "name": "stdout",
     "output_type": "stream",
     "text": [
      "      storm_factor: 0.05\n",
      "        tau=25.0 days\n",
      "24\n",
      "  smooth: 0\n",
      "    steps: 0\n",
      "      storm_factor: 0.05\n",
      "        tau=25.0 days\n",
      "    steps: -10\n",
      "      storm_factor: 0.05\n",
      "        tau=25.0 days\n",
      "    steps: -100\n",
      "      storm_factor: 0.05\n",
      "        tau=25.0 days\n",
      "    steps: -1000\n",
      "      storm_factor: 0.05\n",
      "        tau=25.0 days\n",
      "    steps: -10000\n",
      "      storm_factor: 0.05\n",
      "        tau=25.0 days\n",
      "    steps: -100000\n",
      "      storm_factor: 0.05\n",
      "        tau=25.0 days\n",
      "  smooth: 1\n",
      "    steps: 0\n",
      "      storm_factor: 0.05\n",
      "        tau=25.0 days\n",
      "    steps: -10\n",
      "      storm_factor: 0.05\n",
      "        tau=25.0 days\n",
      "    steps: -100\n",
      "      storm_factor: 0.05\n",
      "        tau=25.0 days\n",
      "    steps: -1000\n",
      "      storm_factor: 0.05\n",
      "        tau=25.0 days\n",
      "    steps: -10000\n",
      "      storm_factor: 0.05\n",
      "        tau=25.0 days\n",
      "    steps: -100000\n",
      "      storm_factor: 0.05\n"
     ]
    },
    {
     "name": "stderr",
     "output_type": "stream",
     "text": [
      "INFO:utils:25\n"
     ]
    },
    {
     "name": "stdout",
     "output_type": "stream",
     "text": [
      "        tau=25.0 days\n",
      "25\n",
      "  smooth: 0\n",
      "    steps: 0\n",
      "      storm_factor: 0.05\n",
      "        tau=25.0 days\n",
      "    steps: -10\n",
      "      storm_factor: 0.05\n",
      "        tau=25.0 days\n",
      "    steps: -100\n",
      "      storm_factor: 0.05\n",
      "        tau=25.0 days\n",
      "    steps: -1000\n",
      "      storm_factor: 0.05\n",
      "        tau=25.0 days\n",
      "    steps: -10000\n",
      "      storm_factor: 0.05\n",
      "        tau=25.0 days\n",
      "    steps: -100000\n",
      "      storm_factor: 0.05\n",
      "        tau=25.0 days\n",
      "  smooth: 1\n",
      "    steps: 0\n",
      "      storm_factor: 0.05\n",
      "        tau=25.0 days\n",
      "    steps: -10\n",
      "      storm_factor: 0.05\n",
      "        tau=25.0 days\n",
      "    steps: -100\n",
      "      storm_factor: 0.05\n",
      "        tau=25.0 days\n",
      "    steps: -1000\n",
      "      storm_factor: 0.05\n",
      "        tau=25.0 days\n",
      "    steps: -10000\n",
      "      storm_factor: 0.05\n",
      "        tau=25.0 days\n",
      "    steps: -100000\n",
      "      storm_factor: 0.05\n",
      "        tau=25.0 days\n"
     ]
    },
    {
     "name": "stderr",
     "output_type": "stream",
     "text": [
      "INFO:utils:26\n"
     ]
    },
    {
     "name": "stdout",
     "output_type": "stream",
     "text": [
      "26\n",
      "  smooth: 0\n",
      "    steps: 0\n",
      "      storm_factor: 0.05\n",
      "        tau=25.0 days\n",
      "    steps: -10\n",
      "      storm_factor: 0.05\n",
      "        tau=25.0 days\n",
      "    steps: -100\n",
      "      storm_factor: 0.05\n",
      "        tau=25.0 days\n",
      "    steps: -1000\n",
      "      storm_factor: 0.05\n",
      "        tau=25.0 days\n",
      "    steps: -10000\n",
      "      storm_factor: 0.05\n",
      "        tau=25.0 days\n",
      "    steps: -100000\n",
      "      storm_factor: 0.05\n",
      "        tau=25.0 days\n",
      "  smooth: 1\n",
      "    steps: 0\n",
      "      storm_factor: 0.05\n",
      "        tau=25.0 days\n",
      "    steps: -10\n",
      "      storm_factor: 0.05\n",
      "        tau=25.0 days\n",
      "    steps: -100\n",
      "      storm_factor: 0.05\n",
      "        tau=25.0 days\n",
      "    steps: -1000\n",
      "      storm_factor: 0.05\n",
      "        tau=25.0 days\n",
      "    steps: -10000\n",
      "      storm_factor: 0.05\n",
      "        tau=25.0 days\n",
      "    steps: -100000\n",
      "      storm_factor: 0.05\n",
      "        tau=25.0 days\n"
     ]
    },
    {
     "name": "stderr",
     "output_type": "stream",
     "text": [
      "INFO:utils:27\n"
     ]
    },
    {
     "name": "stdout",
     "output_type": "stream",
     "text": [
      "27\n",
      "  smooth: 0\n",
      "    steps: 0\n",
      "      storm_factor: 0.05\n",
      "        tau=25.0 days\n",
      "    steps: -10\n",
      "      storm_factor: 0.05\n",
      "        tau=25.0 days\n",
      "    steps: -100\n",
      "      storm_factor: 0.05\n",
      "        tau=25.0 days\n",
      "    steps: -1000\n",
      "      storm_factor: 0.05\n",
      "        tau=25.0 days\n",
      "    steps: -10000\n",
      "      storm_factor: 0.05\n",
      "        tau=25.0 days\n",
      "    steps: -100000\n",
      "      storm_factor: 0.05\n",
      "        tau=25.0 days\n",
      "  smooth: 1\n",
      "    steps: 0\n",
      "      storm_factor: 0.05\n",
      "        tau=25.0 days\n",
      "    steps: -10\n",
      "      storm_factor: 0.05\n",
      "        tau=25.0 days\n",
      "    steps: -100\n",
      "      storm_factor: 0.05\n",
      "        tau=25.0 days\n",
      "    steps: -1000\n",
      "      storm_factor: 0.05\n",
      "        tau=25.0 days\n",
      "    steps: -10000\n",
      "      storm_factor: 0.05\n",
      "        tau=25.0 days\n",
      "    steps: -100000\n",
      "      storm_factor: 0.05\n",
      "        tau=25.0 days\n"
     ]
    },
    {
     "name": "stderr",
     "output_type": "stream",
     "text": [
      "INFO:utils:28\n"
     ]
    },
    {
     "name": "stdout",
     "output_type": "stream",
     "text": [
      "28\n",
      "  smooth: 0\n",
      "    steps: 0\n",
      "      storm_factor: 0.05\n",
      "        tau=25.0 days\n",
      "    steps: -10\n",
      "      storm_factor: 0.05\n",
      "        tau=25.0 days\n",
      "    steps: -100\n",
      "      storm_factor: 0.05\n",
      "        tau=25.0 days\n",
      "    steps: -1000\n",
      "      storm_factor: 0.05\n",
      "        tau=25.0 days\n",
      "    steps: -10000\n",
      "      storm_factor: 0.05\n",
      "        tau=25.0 days\n",
      "    steps: -100000\n",
      "      storm_factor: 0.05\n",
      "        tau=25.0 days\n",
      "  smooth: 1\n",
      "    steps: 0\n",
      "      storm_factor: 0.05\n",
      "        tau=25.0 days\n",
      "    steps: -10\n",
      "      storm_factor: 0.05\n",
      "        tau=25.0 days\n",
      "    steps: -100\n",
      "      storm_factor: 0.05\n",
      "        tau=25.0 days\n",
      "    steps: -1000\n",
      "      storm_factor: 0.05\n",
      "        tau=25.0 days\n",
      "    steps: -10000\n",
      "      storm_factor: 0.05\n",
      "        tau=25.0 days\n",
      "    steps: -100000\n",
      "      storm_factor: 0.05\n"
     ]
    },
    {
     "name": "stderr",
     "output_type": "stream",
     "text": [
      "INFO:utils:29\n"
     ]
    },
    {
     "name": "stdout",
     "output_type": "stream",
     "text": [
      "        tau=25.0 days\n",
      "29\n",
      "  smooth: 0\n",
      "    steps: 0\n",
      "      storm_factor: 0.05\n",
      "        tau=25.0 days\n",
      "    steps: -10\n",
      "      storm_factor: 0.05\n",
      "        tau=25.0 days\n",
      "    steps: -100\n",
      "      storm_factor: 0.05\n",
      "        tau=25.0 days\n",
      "    steps: -1000\n",
      "      storm_factor: 0.05\n",
      "        tau=25.0 days\n",
      "    steps: -10000\n",
      "      storm_factor: 0.05\n",
      "        tau=25.0 days\n",
      "    steps: -100000\n",
      "      storm_factor: 0.05\n",
      "        tau=25.0 days\n",
      "  smooth: 1\n",
      "    steps: 0\n",
      "      storm_factor: 0.05\n",
      "        tau=25.0 days\n",
      "    steps: -10\n",
      "      storm_factor: 0.05\n",
      "        tau=25.0 days\n",
      "    steps: -100\n",
      "      storm_factor: 0.05\n",
      "        tau=25.0 days\n",
      "    steps: -1000\n",
      "      storm_factor: 0.05\n",
      "        tau=25.0 days\n",
      "    steps: -10000\n",
      "      storm_factor: 0.05\n",
      "        tau=25.0 days\n",
      "    steps: -100000\n"
     ]
    },
    {
     "name": "stderr",
     "output_type": "stream",
     "text": [
      "INFO:utils:30\n"
     ]
    },
    {
     "name": "stdout",
     "output_type": "stream",
     "text": [
      "      storm_factor: 0.05\n",
      "        tau=25.0 days\n",
      "30\n",
      "  smooth: 0\n",
      "    steps: 0\n",
      "      storm_factor: 0.05\n",
      "        tau=25.0 days\n",
      "    steps: -10\n",
      "      storm_factor: 0.05\n",
      "        tau=25.0 days\n",
      "    steps: -100\n",
      "      storm_factor: 0.05\n",
      "        tau=25.0 days\n",
      "    steps: -1000\n",
      "      storm_factor: 0.05\n",
      "        tau=25.0 days\n",
      "    steps: -10000\n",
      "      storm_factor: 0.05\n",
      "        tau=25.0 days\n",
      "    steps: -100000\n",
      "      storm_factor: 0.05\n",
      "        tau=25.0 days\n",
      "  smooth: 1\n",
      "    steps: 0\n",
      "      storm_factor: 0.05\n",
      "        tau=25.0 days\n",
      "    steps: -10\n",
      "      storm_factor: 0.05\n",
      "        tau=25.0 days\n",
      "    steps: -100\n",
      "      storm_factor: 0.05\n",
      "        tau=25.0 days\n",
      "    steps: -1000\n",
      "      storm_factor: 0.05\n",
      "        tau=25.0 days\n",
      "    steps: -10000\n",
      "      storm_factor: 0.05\n",
      "        tau=25.0 days\n",
      "    steps: -100000\n",
      "      storm_factor: 0.05\n"
     ]
    },
    {
     "name": "stderr",
     "output_type": "stream",
     "text": [
      "INFO:utils:31\n"
     ]
    },
    {
     "name": "stdout",
     "output_type": "stream",
     "text": [
      "        tau=25.0 days\n",
      "31\n",
      "  smooth: 0\n",
      "    steps: 0\n",
      "      storm_factor: 0.05\n",
      "        tau=25.0 days\n",
      "    steps: -10\n",
      "      storm_factor: 0.05\n",
      "        tau=25.0 days\n",
      "    steps: -100\n",
      "      storm_factor: 0.05\n",
      "        tau=25.0 days\n",
      "    steps: -1000\n",
      "      storm_factor: 0.05\n",
      "        tau=25.0 days\n",
      "    steps: -10000\n",
      "      storm_factor: 0.05\n",
      "        tau=25.0 days\n",
      "    steps: -100000\n",
      "      storm_factor: 0.05\n",
      "        tau=25.0 days\n",
      "  smooth: 1\n",
      "    steps: 0\n",
      "      storm_factor: 0.05\n",
      "        tau=25.0 days\n",
      "    steps: -10\n",
      "      storm_factor: 0.05\n",
      "        tau=25.0 days\n",
      "    steps: -100\n",
      "      storm_factor: 0.05\n",
      "        tau=25.0 days\n",
      "    steps: -1000\n",
      "      storm_factor: 0.05\n",
      "        tau=25.0 days\n",
      "    steps: -10000\n",
      "      storm_factor: 0.05\n",
      "        tau=25.0 days\n",
      "    steps: -100000\n",
      "      storm_factor: 0.05\n"
     ]
    },
    {
     "name": "stderr",
     "output_type": "stream",
     "text": [
      "INFO:utils:32\n"
     ]
    },
    {
     "name": "stdout",
     "output_type": "stream",
     "text": [
      "        tau=25.0 days\n",
      "37\n",
      "  smooth: 0\n",
      "    steps: 0\n",
      "      storm_factor: 0.05\n",
      "        tau=25.0 days\n",
      "    steps: -10\n",
      "      storm_factor: 0.05\n",
      "        tau=25.0 days\n",
      "    steps: -100\n",
      "      storm_factor: 0.05\n",
      "        tau=25.0 days\n",
      "    steps: -1000\n",
      "      storm_factor: 0.05\n",
      "        tau=25.0 days\n",
      "    steps: -10000\n",
      "      storm_factor: 0.05\n",
      "        tau=25.0 days\n",
      "    steps: -100000\n",
      "      storm_factor: 0.05\n",
      "        tau=25.0 days\n",
      "  smooth: 1\n",
      "    steps: 0\n",
      "      storm_factor: 0.05\n",
      "        tau=25.0 days\n",
      "    steps: -10\n",
      "      storm_factor: 0.05\n",
      "        tau=25.0 days\n",
      "    steps: -100\n",
      "      storm_factor: 0.05\n",
      "        tau=25.0 days\n",
      "    steps: -1000\n",
      "      storm_factor: 0.05\n",
      "        tau=25.0 days\n",
      "    steps: -10000\n",
      "      storm_factor: 0.05\n",
      "        tau=25.0 days\n",
      "    steps: -100000\n",
      "      storm_factor: 0.05\n",
      "        tau=25.0 days\n"
     ]
    },
    {
     "name": "stderr",
     "output_type": "stream",
     "text": [
      "INFO:utils:33\n"
     ]
    },
    {
     "name": "stdout",
     "output_type": "stream",
     "text": [
      "36\n",
      "  smooth: 0\n",
      "    steps: 0\n",
      "      storm_factor: 0.05\n",
      "        tau=25.0 days\n",
      "    steps: -10\n",
      "      storm_factor: 0.05\n",
      "        tau=25.0 days\n",
      "    steps: -100\n",
      "      storm_factor: 0.05\n",
      "        tau=25.0 days\n",
      "    steps: -1000\n",
      "      storm_factor: 0.05\n",
      "        tau=25.0 days\n",
      "    steps: -10000\n",
      "      storm_factor: 0.05\n",
      "        tau=25.0 days\n",
      "    steps: -100000\n",
      "      storm_factor: 0.05\n",
      "        tau=25.0 days\n",
      "  smooth: 1\n",
      "    steps: 0\n",
      "      storm_factor: 0.05\n",
      "        tau=25.0 days\n",
      "    steps: -10\n",
      "      storm_factor: 0.05\n",
      "        tau=25.0 days\n",
      "    steps: -100\n",
      "      storm_factor: 0.05\n",
      "        tau=25.0 days\n",
      "    steps: -1000\n",
      "      storm_factor: 0.05\n",
      "        tau=25.0 days\n",
      "    steps: -10000\n",
      "      storm_factor: 0.05\n",
      "        tau=25.0 days\n",
      "    steps: -100000\n",
      "      storm_factor: 0.05\n"
     ]
    },
    {
     "name": "stderr",
     "output_type": "stream",
     "text": [
      "INFO:utils:34\n"
     ]
    },
    {
     "name": "stdout",
     "output_type": "stream",
     "text": [
      "        tau=25.0 days\n",
      "35\n",
      "  smooth: 0\n",
      "    steps: 0\n",
      "      storm_factor: 0.05\n",
      "        tau=25.0 days\n",
      "    steps: -10\n",
      "      storm_factor: 0.05\n",
      "        tau=25.0 days\n",
      "    steps: -100\n",
      "      storm_factor: 0.05\n",
      "        tau=25.0 days\n",
      "    steps: -1000\n",
      "      storm_factor: 0.05\n",
      "        tau=25.0 days\n",
      "    steps: -10000\n",
      "      storm_factor: 0.05\n",
      "        tau=25.0 days\n",
      "    steps: -100000\n",
      "      storm_factor: 0.05\n",
      "        tau=25.0 days\n",
      "  smooth: 1\n",
      "    steps: 0\n",
      "      storm_factor: 0.05\n",
      "        tau=25.0 days\n",
      "    steps: -10\n",
      "      storm_factor: 0.05\n",
      "        tau=25.0 days\n",
      "    steps: -100\n",
      "      storm_factor: 0.05\n",
      "        tau=25.0 days\n",
      "    steps: -1000\n",
      "      storm_factor: 0.05\n",
      "        tau=25.0 days\n",
      "    steps: -10000\n",
      "      storm_factor: 0.05\n",
      "        tau=25.0 days\n",
      "    steps: -100000\n",
      "      storm_factor: 0.05\n"
     ]
    },
    {
     "name": "stderr",
     "output_type": "stream",
     "text": [
      "INFO:utils:35\n"
     ]
    },
    {
     "name": "stdout",
     "output_type": "stream",
     "text": [
      "        tau=25.0 days\n",
      "32\n",
      "  smooth: 0\n",
      "    steps: 0\n",
      "      storm_factor: 0.05\n",
      "        tau=25.0 days\n",
      "    steps: -10\n",
      "      storm_factor: 0.05\n",
      "        tau=25.0 days\n",
      "    steps: -100\n",
      "      storm_factor: 0.05\n",
      "        tau=25.0 days\n",
      "    steps: -1000\n",
      "      storm_factor: 0.05\n",
      "        tau=25.0 days\n",
      "    steps: -10000\n",
      "      storm_factor: 0.05\n",
      "        tau=25.0 days\n",
      "    steps: -100000\n",
      "      storm_factor: 0.05\n",
      "        tau=25.0 days\n",
      "  smooth: 1\n",
      "    steps: 0\n",
      "      storm_factor: 0.05\n",
      "        tau=25.0 days\n",
      "    steps: -10\n",
      "      storm_factor: 0.05\n",
      "        tau=25.0 days\n",
      "    steps: -100\n",
      "      storm_factor: 0.05\n",
      "        tau=25.0 days\n",
      "    steps: -1000\n",
      "      storm_factor: 0.05\n",
      "        tau=25.0 days\n",
      "    steps: -10000\n",
      "      storm_factor: 0.05\n",
      "        tau=25.0 days\n",
      "    steps: -100000\n",
      "      storm_factor: 0.05\n"
     ]
    },
    {
     "name": "stderr",
     "output_type": "stream",
     "text": [
      "INFO:utils:36\n"
     ]
    },
    {
     "name": "stdout",
     "output_type": "stream",
     "text": [
      "        tau=25.0 days\n",
      "33\n",
      "  smooth: 0\n",
      "    steps: 0\n",
      "      storm_factor: 0.05\n",
      "        tau=25.0 days\n",
      "    steps: -10\n",
      "      storm_factor: 0.05\n",
      "        tau=25.0 days\n",
      "    steps: -100\n",
      "      storm_factor: 0.05\n",
      "        tau=25.0 days\n",
      "    steps: -1000\n",
      "      storm_factor: 0.05\n",
      "        tau=25.0 days\n",
      "    steps: -10000\n",
      "      storm_factor: 0.05\n",
      "        tau=25.0 days\n",
      "    steps: -100000\n",
      "      storm_factor: 0.05\n",
      "        tau=25.0 days\n",
      "  smooth: 1\n",
      "    steps: 0\n",
      "      storm_factor: 0.05\n",
      "        tau=25.0 days\n",
      "    steps: -10\n",
      "      storm_factor: 0.05\n",
      "        tau=25.0 days\n",
      "    steps: -100\n",
      "      storm_factor: 0.05\n",
      "        tau=25.0 days\n",
      "    steps: -1000\n",
      "      storm_factor: 0.05\n",
      "        tau=25.0 days\n",
      "    steps: -10000\n",
      "      storm_factor: 0.05\n",
      "        tau=25.0 days\n",
      "    steps: -100000\n",
      "      storm_factor: 0.05\n"
     ]
    },
    {
     "name": "stderr",
     "output_type": "stream",
     "text": [
      "INFO:utils:37\n"
     ]
    },
    {
     "name": "stdout",
     "output_type": "stream",
     "text": [
      "        tau=25.0 days\n",
      "34\n",
      "  smooth: 0\n",
      "    steps: 0\n",
      "      storm_factor: 0.05\n",
      "        tau=25.0 days\n",
      "    steps: -10\n",
      "      storm_factor: 0.05\n",
      "        tau=25.0 days\n",
      "    steps: -100\n",
      "      storm_factor: 0.05\n",
      "        tau=25.0 days\n",
      "    steps: -1000\n",
      "      storm_factor: 0.05\n",
      "        tau=25.0 days\n",
      "    steps: -10000\n",
      "      storm_factor: 0.05\n",
      "        tau=25.0 days\n",
      "    steps: -100000\n",
      "      storm_factor: 0.05\n",
      "        tau=25.0 days\n",
      "  smooth: 1\n",
      "    steps: 0\n",
      "      storm_factor: 0.05\n",
      "        tau=25.0 days\n",
      "    steps: -10\n",
      "      storm_factor: 0.05\n",
      "        tau=25.0 days\n",
      "    steps: -100\n",
      "      storm_factor: 0.05\n",
      "        tau=25.0 days\n",
      "    steps: -1000\n",
      "      storm_factor: 0.05\n",
      "        tau=25.0 days\n",
      "    steps: -10000\n",
      "      storm_factor: 0.05\n",
      "        tau=25.0 days\n",
      "    steps: -100000\n",
      "      storm_factor: 0.05\n"
     ]
    },
    {
     "name": "stderr",
     "output_type": "stream",
     "text": [
      "INFO:utils:38\n"
     ]
    },
    {
     "name": "stdout",
     "output_type": "stream",
     "text": [
      "        tau=25.0 days\n",
      "38\n",
      "  smooth: 0\n",
      "    steps: 0\n",
      "      storm_factor: 0.05\n",
      "        tau=25.0 days\n",
      "    steps: -10\n",
      "      storm_factor: 0.05\n",
      "        tau=25.0 days\n",
      "    steps: -100\n",
      "      storm_factor: 0.05\n",
      "        tau=25.0 days\n",
      "    steps: -1000\n",
      "      storm_factor: 0.05\n",
      "        tau=25.0 days\n",
      "    steps: -10000\n",
      "      storm_factor: 0.05\n",
      "        tau=25.0 days\n",
      "    steps: -100000\n",
      "      storm_factor: 0.05\n",
      "        tau=25.0 days\n",
      "  smooth: 1\n",
      "    steps: 0\n",
      "      storm_factor: 0.05\n",
      "        tau=25.0 days\n",
      "    steps: -10\n",
      "      storm_factor: 0.05\n",
      "        tau=25.0 days\n",
      "    steps: -100\n",
      "      storm_factor: 0.05\n",
      "        tau=25.0 days\n",
      "    steps: -1000\n",
      "      storm_factor: 0.05\n",
      "        tau=25.0 days\n",
      "    steps: -10000\n",
      "      storm_factor: 0.05\n",
      "        tau=25.0 days\n",
      "    steps: -100000\n",
      "      storm_factor: 0.05\n"
     ]
    },
    {
     "name": "stderr",
     "output_type": "stream",
     "text": [
      "INFO:utils:39\n"
     ]
    },
    {
     "name": "stdout",
     "output_type": "stream",
     "text": [
      "        tau=25.0 days\n",
      "39\n",
      "  smooth: 0\n",
      "    steps: 0\n",
      "      storm_factor: 0.05\n",
      "        tau=25.0 days\n",
      "    steps: -10\n",
      "      storm_factor: 0.05\n",
      "        tau=25.0 days\n",
      "    steps: -100\n",
      "      storm_factor: 0.05\n",
      "        tau=25.0 days\n",
      "    steps: -1000\n",
      "      storm_factor: 0.05\n",
      "        tau=25.0 days\n",
      "    steps: -10000\n",
      "      storm_factor: 0.05\n",
      "        tau=25.0 days\n",
      "    steps: -100000\n",
      "      storm_factor: 0.05\n",
      "        tau=25.0 days\n",
      "  smooth: 1\n",
      "    steps: 0\n",
      "      storm_factor: 0.05\n",
      "        tau=25.0 days\n",
      "    steps: -10\n",
      "      storm_factor: 0.05\n",
      "        tau=25.0 days\n",
      "    steps: -100\n",
      "      storm_factor: 0.05\n",
      "        tau=25.0 days\n",
      "    steps: -1000\n",
      "      storm_factor: 0.05\n",
      "        tau=25.0 days\n",
      "    steps: -10000\n",
      "      storm_factor: 0.05\n",
      "        tau=25.0 days\n",
      "    steps: -100000\n",
      "      storm_factor: 0.05\n",
      "        tau=25.0 days\n"
     ]
    },
    {
     "name": "stderr",
     "output_type": "stream",
     "text": [
      "INFO:utils:40\n"
     ]
    },
    {
     "name": "stdout",
     "output_type": "stream",
     "text": [
      "40\n",
      "  smooth: 0\n",
      "    steps: 0\n",
      "      storm_factor: 0.05\n",
      "        tau=25.0 days\n",
      "    steps: -10\n",
      "      storm_factor: 0.05\n",
      "        tau=25.0 days\n",
      "    steps: -100\n",
      "      storm_factor: 0.05\n",
      "        tau=25.0 days\n",
      "    steps: -1000\n",
      "      storm_factor: 0.05\n",
      "        tau=25.0 days\n",
      "    steps: -10000\n",
      "      storm_factor: 0.05\n",
      "        tau=25.0 days\n",
      "    steps: -100000\n",
      "      storm_factor: 0.05\n",
      "        tau=25.0 days\n",
      "  smooth: 1\n",
      "    steps: 0\n",
      "      storm_factor: 0.05\n",
      "        tau=25.0 days\n",
      "    steps: -10\n",
      "      storm_factor: 0.05\n",
      "        tau=25.0 days\n",
      "    steps: -100\n",
      "      storm_factor: 0.05\n",
      "        tau=25.0 days\n",
      "    steps: -1000\n",
      "      storm_factor: 0.05\n",
      "        tau=25.0 days\n",
      "    steps: -10000\n",
      "      storm_factor: 0.05\n",
      "        tau=25.0 days\n",
      "    steps: -100000\n",
      "      storm_factor: 0.05\n",
      "        tau=25.0 days\n"
     ]
    },
    {
     "name": "stderr",
     "output_type": "stream",
     "text": [
      "INFO:utils:41\n"
     ]
    },
    {
     "name": "stdout",
     "output_type": "stream",
     "text": [
      "41\n",
      "  smooth: 0\n",
      "    steps: 0\n",
      "      storm_factor: 0.05\n",
      "        tau=25.0 days\n",
      "    steps: -10\n",
      "      storm_factor: 0.05\n",
      "        tau=25.0 days\n",
      "    steps: -100\n",
      "      storm_factor: 0.05\n",
      "        tau=25.0 days\n",
      "    steps: -1000\n",
      "      storm_factor: 0.05\n",
      "        tau=25.0 days\n",
      "    steps: -10000\n",
      "      storm_factor: 0.05\n",
      "        tau=25.0 days\n",
      "    steps: -100000\n",
      "      storm_factor: 0.05\n",
      "        tau=25.0 days\n",
      "  smooth: 1\n",
      "    steps: 0\n",
      "      storm_factor: 0.05\n",
      "        tau=25.0 days\n",
      "    steps: -10\n",
      "      storm_factor: 0.05\n",
      "        tau=25.0 days\n",
      "    steps: -100\n",
      "      storm_factor: 0.05\n",
      "        tau=25.0 days\n",
      "    steps: -1000\n",
      "      storm_factor: 0.05\n",
      "        tau=25.0 days\n",
      "    steps: -10000\n",
      "      storm_factor: 0.05\n",
      "        tau=25.0 days\n",
      "    steps: -100000\n",
      "      storm_factor: 0.05\n"
     ]
    },
    {
     "name": "stderr",
     "output_type": "stream",
     "text": [
      "INFO:utils:42\n"
     ]
    },
    {
     "name": "stdout",
     "output_type": "stream",
     "text": [
      "        tau=25.0 days\n",
      "42\n",
      "  smooth: 0\n",
      "    steps: 0\n",
      "      storm_factor: 0.05\n",
      "        tau=25.0 days\n",
      "    steps: -10\n",
      "      storm_factor: 0.05\n",
      "        tau=25.0 days\n",
      "    steps: -100\n",
      "      storm_factor: 0.05\n",
      "        tau=25.0 days\n",
      "    steps: -1000\n",
      "      storm_factor: 0.05\n",
      "        tau=25.0 days\n",
      "    steps: -10000\n",
      "      storm_factor: 0.05\n",
      "        tau=25.0 days\n",
      "    steps: -100000\n",
      "      storm_factor: 0.05\n",
      "        tau=25.0 days\n",
      "  smooth: 1\n",
      "    steps: 0\n",
      "      storm_factor: 0.05\n",
      "        tau=25.0 days\n",
      "    steps: -10\n",
      "      storm_factor: 0.05\n",
      "        tau=25.0 days\n",
      "    steps: -100\n",
      "      storm_factor: 0.05\n",
      "        tau=25.0 days\n",
      "    steps: -1000\n",
      "      storm_factor: 0.05\n",
      "        tau=25.0 days\n",
      "    steps: -10000\n",
      "      storm_factor: 0.05\n",
      "        tau=25.0 days\n",
      "    steps: -100000\n",
      "      storm_factor: 0.05\n"
     ]
    },
    {
     "name": "stderr",
     "output_type": "stream",
     "text": [
      "INFO:utils:43\n"
     ]
    },
    {
     "name": "stdout",
     "output_type": "stream",
     "text": [
      "        tau=25.0 days\n",
      "43\n",
      "  smooth: 0\n",
      "    steps: 0\n",
      "      storm_factor: 0.05\n",
      "        tau=25.0 days\n",
      "    steps: -10\n",
      "      storm_factor: 0.05\n",
      "        tau=25.0 days\n",
      "    steps: -100\n",
      "      storm_factor: 0.05\n",
      "        tau=25.0 days\n",
      "    steps: -1000\n",
      "      storm_factor: 0.05\n",
      "        tau=25.0 days\n",
      "    steps: -10000\n",
      "      storm_factor: 0.05\n",
      "        tau=25.0 days\n",
      "    steps: -100000\n",
      "      storm_factor: 0.05\n",
      "        tau=25.0 days\n",
      "  smooth: 1\n",
      "    steps: 0\n",
      "      storm_factor: 0.05\n",
      "        tau=25.0 days\n",
      "    steps: -10\n",
      "      storm_factor: 0.05\n",
      "        tau=25.0 days\n",
      "    steps: -100\n",
      "      storm_factor: 0.05\n",
      "        tau=25.0 days\n",
      "    steps: -1000\n",
      "      storm_factor: 0.05\n",
      "        tau=25.0 days\n",
      "    steps: -10000\n",
      "      storm_factor: 0.05\n",
      "        tau=25.0 days\n",
      "    steps: -100000\n",
      "      storm_factor: 0.05\n"
     ]
    },
    {
     "name": "stderr",
     "output_type": "stream",
     "text": [
      "INFO:utils:44\n"
     ]
    },
    {
     "name": "stdout",
     "output_type": "stream",
     "text": [
      "        tau=25.0 days\n",
      "52\n",
      "  smooth: 0\n",
      "    steps: 0\n",
      "      storm_factor: 0.05\n",
      "        tau=25.0 days\n",
      "    steps: -10\n",
      "      storm_factor: 0.05\n",
      "        tau=25.0 days\n",
      "    steps: -100\n",
      "      storm_factor: 0.05\n",
      "        tau=25.0 days\n",
      "    steps: -1000\n",
      "      storm_factor: 0.05\n",
      "        tau=25.0 days\n",
      "    steps: -10000\n",
      "      storm_factor: 0.05\n",
      "        tau=25.0 days\n",
      "    steps: -100000\n",
      "      storm_factor: 0.05\n",
      "        tau=25.0 days\n",
      "  smooth: 1\n",
      "    steps: 0\n",
      "      storm_factor: 0.05\n",
      "        tau=25.0 days\n",
      "    steps: -10\n",
      "      storm_factor: 0.05\n",
      "        tau=25.0 days\n",
      "    steps: -100\n",
      "      storm_factor: 0.05\n",
      "        tau=25.0 days\n",
      "    steps: -1000\n",
      "      storm_factor: 0.05\n",
      "        tau=25.0 days\n",
      "    steps: -10000\n",
      "      storm_factor: 0.05\n",
      "        tau=25.0 days\n",
      "    steps: -100000\n",
      "      storm_factor: 0.05\n",
      "        tau=25.0 days\n"
     ]
    },
    {
     "name": "stderr",
     "output_type": "stream",
     "text": [
      "INFO:utils:45\n"
     ]
    },
    {
     "name": "stdout",
     "output_type": "stream",
     "text": [
      "51\n",
      "  smooth: 0\n",
      "    steps: 0\n",
      "      storm_factor: 0.05\n",
      "        tau=25.0 days\n",
      "    steps: -10\n",
      "      storm_factor: 0.05\n",
      "        tau=25.0 days\n",
      "    steps: -100\n",
      "      storm_factor: 0.05\n",
      "        tau=25.0 days\n",
      "    steps: -1000\n",
      "      storm_factor: 0.05\n",
      "        tau=25.0 days\n",
      "    steps: -10000\n",
      "      storm_factor: 0.05\n",
      "        tau=25.0 days\n",
      "    steps: -100000\n",
      "      storm_factor: 0.05\n",
      "        tau=25.0 days\n",
      "  smooth: 1\n",
      "    steps: 0\n",
      "      storm_factor: 0.05\n",
      "        tau=25.0 days\n",
      "    steps: -10\n",
      "      storm_factor: 0.05\n",
      "        tau=25.0 days\n",
      "    steps: -100\n",
      "      storm_factor: 0.05\n",
      "        tau=25.0 days\n",
      "    steps: -1000\n",
      "      storm_factor: 0.05\n",
      "        tau=25.0 days\n",
      "    steps: -10000\n",
      "      storm_factor: 0.05\n",
      "        tau=25.0 days\n",
      "    steps: -100000\n",
      "      storm_factor: 0.05\n",
      "        tau=25.0 days\n"
     ]
    },
    {
     "name": "stderr",
     "output_type": "stream",
     "text": [
      "INFO:utils:46\n"
     ]
    },
    {
     "name": "stdout",
     "output_type": "stream",
     "text": [
      "49\n",
      "  smooth: 0\n",
      "    steps: 0\n",
      "      storm_factor: 0.05\n",
      "        tau=25.0 days\n",
      "    steps: -10\n",
      "      storm_factor: 0.05\n",
      "        tau=25.0 days\n",
      "    steps: -100\n",
      "      storm_factor: 0.05\n",
      "        tau=25.0 days\n",
      "    steps: -1000\n",
      "      storm_factor: 0.05\n",
      "        tau=25.0 days\n",
      "    steps: -10000\n",
      "      storm_factor: 0.05\n",
      "        tau=25.0 days\n",
      "    steps: -100000\n",
      "      storm_factor: 0.05\n",
      "        tau=25.0 days\n",
      "  smooth: 1\n",
      "    steps: 0\n",
      "      storm_factor: 0.05\n",
      "        tau=25.0 days\n",
      "    steps: -10\n",
      "      storm_factor: 0.05\n",
      "        tau=25.0 days\n",
      "    steps: -100\n",
      "      storm_factor: 0.05\n",
      "        tau=25.0 days\n",
      "    steps: -1000\n",
      "      storm_factor: 0.05\n",
      "        tau=25.0 days\n",
      "    steps: -10000\n",
      "      storm_factor: 0.05\n",
      "        tau=25.0 days\n",
      "    steps: -100000\n",
      "      storm_factor: 0.05\n"
     ]
    },
    {
     "name": "stderr",
     "output_type": "stream",
     "text": [
      "INFO:utils:47\n"
     ]
    },
    {
     "name": "stdout",
     "output_type": "stream",
     "text": [
      "        tau=25.0 days\n",
      "50\n",
      "  smooth: 0\n",
      "    steps: 0\n",
      "      storm_factor: 0.05\n",
      "        tau=25.0 days\n",
      "    steps: -10\n",
      "      storm_factor: 0.05\n",
      "        tau=25.0 days\n",
      "    steps: -100\n",
      "      storm_factor: 0.05\n",
      "        tau=25.0 days\n",
      "    steps: -1000\n",
      "      storm_factor: 0.05\n",
      "        tau=25.0 days\n",
      "    steps: -10000\n",
      "      storm_factor: 0.05\n",
      "        tau=25.0 days\n",
      "    steps: -100000\n",
      "      storm_factor: 0.05\n",
      "        tau=25.0 days\n",
      "  smooth: 1\n",
      "    steps: 0\n",
      "      storm_factor: 0.05\n",
      "        tau=25.0 days\n",
      "    steps: -10\n",
      "      storm_factor: 0.05\n",
      "        tau=25.0 days\n",
      "    steps: -100\n",
      "      storm_factor: 0.05\n",
      "        tau=25.0 days\n",
      "    steps: -1000\n",
      "      storm_factor: 0.05\n",
      "        tau=25.0 days\n",
      "    steps: -10000\n",
      "      storm_factor: 0.05\n",
      "        tau=25.0 days\n",
      "    steps: -100000\n",
      "      storm_factor: 0.05\n",
      "        tau=25.0 days\n",
      "      storm_factor: 0.05\n"
     ]
    },
    {
     "name": "stderr",
     "output_type": "stream",
     "text": [
      "INFO:utils:50\n"
     ]
    },
    {
     "name": "stdout",
     "output_type": "stream",
     "text": [
      "        tau=25.0 days\n",
      "45\n",
      "  smooth: 0\n",
      "    steps: 0\n",
      "      storm_factor: 0.05\n",
      "        tau=25.0 days\n",
      "    steps: -10\n",
      "      storm_factor: 0.05\n",
      "        tau=25.0 days\n",
      "    steps: -100\n",
      "      storm_factor: 0.05\n",
      "        tau=25.0 days\n",
      "    steps: -1000\n",
      "      storm_factor: 0.05\n",
      "        tau=25.0 days\n",
      "    steps: -10000\n",
      "      storm_factor: 0.05\n",
      "        tau=25.0 days\n",
      "    steps: -100000\n",
      "      storm_factor: 0.05\n",
      "        tau=25.0 days\n",
      "  smooth: 1\n",
      "    steps: 0\n",
      "      storm_factor: 0.05\n",
      "        tau=25.0 days\n",
      "    steps: -10\n",
      "      storm_factor: 0.05\n",
      "        tau=25.0 days\n",
      "    steps: -100\n",
      "      storm_factor: 0.05\n",
      "        tau=25.0 days\n",
      "    steps: -1000\n",
      "      storm_factor: 0.05\n",
      "        tau=25.0 days\n",
      "    steps: -10000\n",
      "      storm_factor: 0.05\n",
      "        tau=25.0 days\n",
      "    steps: -100000\n",
      "      storm_factor: 0.05\n"
     ]
    },
    {
     "name": "stderr",
     "output_type": "stream",
     "text": [
      "INFO:utils:51\n"
     ]
    },
    {
     "name": "stdout",
     "output_type": "stream",
     "text": [
      "        tau=25.0 days\n",
      "44\n",
      "  smooth: 0\n",
      "    steps: 0\n",
      "      storm_factor: 0.05\n",
      "        tau=25.0 days\n",
      "    steps: -10\n",
      "      storm_factor: 0.05\n",
      "        tau=25.0 days\n",
      "    steps: -100\n",
      "      storm_factor: 0.05\n",
      "        tau=25.0 days\n",
      "    steps: -1000\n",
      "      storm_factor: 0.05\n",
      "        tau=25.0 days\n",
      "    steps: -10000\n",
      "      storm_factor: 0.05\n",
      "        tau=25.0 days\n",
      "    steps: -100000\n",
      "      storm_factor: 0.05\n",
      "        tau=25.0 days\n",
      "  smooth: 1\n",
      "    steps: 0\n",
      "      storm_factor: 0.05\n",
      "        tau=25.0 days\n",
      "    steps: -10\n",
      "      storm_factor: 0.05\n",
      "        tau=25.0 days\n",
      "    steps: -100\n",
      "      storm_factor: 0.05\n",
      "        tau=25.0 days\n",
      "    steps: -1000\n",
      "      storm_factor: 0.05\n",
      "        tau=25.0 days\n",
      "    steps: -10000\n",
      "      storm_factor: 0.05\n",
      "        tau=25.0 days\n",
      "    steps: -100000\n",
      "      storm_factor: 0.05\n"
     ]
    },
    {
     "name": "stderr",
     "output_type": "stream",
     "text": [
      "INFO:utils:52\n"
     ]
    },
    {
     "name": "stdout",
     "output_type": "stream",
     "text": [
      "        tau=25.0 days\n",
      "47\n",
      "  smooth: 0\n",
      "    steps: 0\n",
      "      storm_factor: 0.05\n",
      "        tau=25.0 days\n",
      "    steps: -10\n",
      "      storm_factor: 0.05\n",
      "        tau=25.0 days\n",
      "    steps: -100\n",
      "      storm_factor: 0.05\n",
      "        tau=25.0 days\n",
      "    steps: -1000\n",
      "      storm_factor: 0.05\n",
      "        tau=25.0 days\n",
      "    steps: -10000\n",
      "      storm_factor: 0.05\n",
      "        tau=25.0 days\n",
      "    steps: -100000\n",
      "      storm_factor: 0.05\n",
      "        tau=25.0 days\n",
      "  smooth: 1\n",
      "    steps: 0\n",
      "      storm_factor: 0.05\n",
      "        tau=25.0 days\n",
      "    steps: -10\n",
      "      storm_factor: 0.05\n",
      "        tau=25.0 days\n",
      "    steps: -100\n",
      "      storm_factor: 0.05\n",
      "        tau=25.0 days\n",
      "    steps: -1000\n",
      "      storm_factor: 0.05\n",
      "        tau=25.0 days\n",
      "    steps: -10000\n",
      "      storm_factor: 0.05\n",
      "        tau=25.0 days\n",
      "    steps: -100000\n",
      "      storm_factor: 0.05\n"
     ]
    },
    {
     "name": "stderr",
     "output_type": "stream",
     "text": [
      "INFO:utils:53\n"
     ]
    },
    {
     "name": "stdout",
     "output_type": "stream",
     "text": [
      "        tau=25.0 days\n",
      "55\n",
      "  smooth: 0\n",
      "    steps: 0\n",
      "      storm_factor: 0.05\n",
      "        tau=25.0 days\n",
      "    steps: -10\n",
      "      storm_factor: 0.05\n",
      "        tau=25.0 days\n",
      "    steps: -100\n",
      "      storm_factor: 0.05\n",
      "        tau=25.0 days\n",
      "    steps: -1000\n",
      "      storm_factor: 0.05\n",
      "        tau=25.0 days\n",
      "    steps: -10000\n",
      "      storm_factor: 0.05\n",
      "        tau=25.0 days\n",
      "    steps: -100000\n",
      "      storm_factor: 0.05\n",
      "        tau=25.0 days\n",
      "  smooth: 1\n",
      "    steps: 0\n",
      "      storm_factor: 0.05\n",
      "        tau=25.0 days\n",
      "    steps: -10\n",
      "      storm_factor: 0.05\n",
      "        tau=25.0 days\n",
      "    steps: -100\n",
      "      storm_factor: 0.05\n",
      "        tau=25.0 days\n",
      "    steps: -1000\n",
      "      storm_factor: 0.05\n",
      "        tau=25.0 days\n",
      "    steps: -10000\n",
      "      storm_factor: 0.05\n",
      "        tau=25.0 days\n",
      "    steps: -100000\n"
     ]
    },
    {
     "name": "stderr",
     "output_type": "stream",
     "text": [
      "INFO:utils:54\n"
     ]
    },
    {
     "name": "stdout",
     "output_type": "stream",
     "text": [
      "      storm_factor: 0.05\n",
      "        tau=25.0 days\n",
      "56\n",
      "  smooth: 0\n",
      "    steps: 0\n",
      "      storm_factor: 0.05\n",
      "        tau=25.0 days\n",
      "    steps: -10\n",
      "      storm_factor: 0.05\n",
      "        tau=25.0 days\n",
      "    steps: -100\n",
      "      storm_factor: 0.05\n",
      "        tau=25.0 days\n",
      "    steps: -1000\n",
      "      storm_factor: 0.05\n",
      "        tau=25.0 days\n",
      "    steps: -10000\n",
      "      storm_factor: 0.05\n",
      "        tau=25.0 days\n",
      "    steps: -100000\n",
      "      storm_factor: 0.05\n",
      "        tau=25.0 days\n",
      "  smooth: 1\n",
      "    steps: 0\n",
      "      storm_factor: 0.05\n",
      "        tau=25.0 days\n",
      "    steps: -10\n",
      "      storm_factor: 0.05\n",
      "        tau=25.0 days\n",
      "    steps: -100\n",
      "      storm_factor: 0.05\n",
      "        tau=25.0 days\n",
      "    steps: -1000\n",
      "      storm_factor: 0.05\n",
      "        tau=25.0 days\n",
      "    steps: -10000\n",
      "      storm_factor: 0.05\n",
      "        tau=25.0 days\n",
      "    steps: -100000\n"
     ]
    },
    {
     "name": "stderr",
     "output_type": "stream",
     "text": [
      "INFO:utils:55\n"
     ]
    },
    {
     "name": "stdout",
     "output_type": "stream",
     "text": [
      "      storm_factor: 0.05\n",
      "        tau=25.0 days\n",
      "53\n",
      "  smooth: 0\n",
      "    steps: 0\n",
      "      storm_factor: 0.05\n",
      "        tau=25.0 days\n",
      "    steps: -10\n",
      "      storm_factor: 0.05\n",
      "        tau=25.0 days\n",
      "    steps: -100\n",
      "      storm_factor: 0.05\n",
      "        tau=25.0 days\n",
      "    steps: -1000\n",
      "      storm_factor: 0.05\n",
      "        tau=25.0 days\n",
      "    steps: -10000\n",
      "      storm_factor: 0.05\n",
      "        tau=25.0 days\n",
      "    steps: -100000\n",
      "      storm_factor: 0.05\n",
      "        tau=25.0 days\n",
      "  smooth: 1\n",
      "    steps: 0\n",
      "      storm_factor: 0.05\n",
      "        tau=25.0 days\n",
      "    steps: -10\n",
      "      storm_factor: 0.05\n",
      "        tau=25.0 days\n",
      "    steps: -100\n",
      "      storm_factor: 0.05\n",
      "        tau=25.0 days\n",
      "    steps: -1000\n",
      "      storm_factor: 0.05\n",
      "        tau=25.0 days\n",
      "    steps: -10000\n",
      "      storm_factor: 0.05\n",
      "        tau=25.0 days\n",
      "    steps: -100000\n",
      "      storm_factor: 0.05\n"
     ]
    },
    {
     "name": "stderr",
     "output_type": "stream",
     "text": [
      "INFO:utils:56\n"
     ]
    },
    {
     "name": "stdout",
     "output_type": "stream",
     "text": [
      "        tau=25.0 days\n",
      "54\n",
      "  smooth: 0\n",
      "    steps: 0\n",
      "      storm_factor: 0.05\n",
      "        tau=25.0 days\n",
      "    steps: -10\n",
      "      storm_factor: 0.05\n",
      "        tau=25.0 days\n",
      "    steps: -100\n",
      "      storm_factor: 0.05\n",
      "        tau=25.0 days\n",
      "    steps: -1000\n",
      "      storm_factor: 0.05\n",
      "        tau=25.0 days\n",
      "    steps: -10000\n",
      "      storm_factor: 0.05\n",
      "        tau=25.0 days\n",
      "    steps: -100000\n",
      "      storm_factor: 0.05\n",
      "        tau=25.0 days\n",
      "  smooth: 1\n",
      "    steps: 0\n",
      "      storm_factor: 0.05\n",
      "        tau=25.0 days\n",
      "    steps: -10\n",
      "      storm_factor: 0.05\n",
      "        tau=25.0 days\n",
      "    steps: -100\n",
      "      storm_factor: 0.05\n",
      "        tau=25.0 days\n",
      "    steps: -1000\n",
      "      storm_factor: 0.05\n",
      "        tau=25.0 days\n",
      "    steps: -10000\n",
      "      storm_factor: 0.05\n",
      "        tau=25.0 days\n",
      "    steps: -100000\n"
     ]
    },
    {
     "name": "stderr",
     "output_type": "stream",
     "text": [
      "INFO:utils:57\n"
     ]
    },
    {
     "name": "stdout",
     "output_type": "stream",
     "text": [
      "      storm_factor: 0.05\n",
      "        tau=25.0 days\n",
      "57\n",
      "  smooth: 0\n",
      "    steps: 0\n",
      "      storm_factor: 0.05\n",
      "        tau=25.0 days\n",
      "    steps: -10\n",
      "      storm_factor: 0.05\n",
      "        tau=25.0 days\n",
      "    steps: -100\n",
      "      storm_factor: 0.05\n",
      "        tau=25.0 days\n",
      "    steps: -1000\n",
      "      storm_factor: 0.05\n",
      "        tau=25.0 days\n",
      "    steps: -10000\n",
      "      storm_factor: 0.05\n",
      "        tau=25.0 days\n",
      "    steps: -100000\n",
      "      storm_factor: 0.05\n",
      "        tau=25.0 days\n",
      "  smooth: 1\n",
      "    steps: 0\n",
      "      storm_factor: 0.05\n",
      "        tau=25.0 days\n",
      "    steps: -10\n",
      "      storm_factor: 0.05\n",
      "        tau=25.0 days\n",
      "    steps: -100\n",
      "      storm_factor: 0.05\n",
      "        tau=25.0 days\n",
      "    steps: -1000\n",
      "      storm_factor: 0.05\n",
      "        tau=25.0 days\n",
      "    steps: -10000\n",
      "      storm_factor: 0.05\n",
      "        tau=25.0 days\n",
      "    steps: -100000\n",
      "      storm_factor: 0.05\n"
     ]
    },
    {
     "name": "stderr",
     "output_type": "stream",
     "text": [
      "INFO:utils:58\n"
     ]
    },
    {
     "name": "stdout",
     "output_type": "stream",
     "text": [
      "        tau=25.0 days\n",
      "58\n",
      "  smooth: 0\n",
      "    steps: 0\n",
      "      storm_factor: 0.05\n",
      "        tau=25.0 days\n",
      "    steps: -10\n",
      "      storm_factor: 0.05\n",
      "        tau=25.0 days\n",
      "    steps: -100\n",
      "      storm_factor: 0.05\n",
      "        tau=25.0 days\n",
      "    steps: -1000\n",
      "      storm_factor: 0.05\n",
      "        tau=25.0 days\n",
      "    steps: -10000\n",
      "      storm_factor: 0.05\n",
      "        tau=25.0 days\n",
      "    steps: -100000\n",
      "      storm_factor: 0.05\n",
      "        tau=25.0 days\n",
      "  smooth: 1\n",
      "    steps: 0\n",
      "      storm_factor: 0.05\n",
      "        tau=25.0 days\n",
      "    steps: -10\n",
      "      storm_factor: 0.05\n",
      "        tau=25.0 days\n",
      "    steps: -100\n",
      "      storm_factor: 0.05\n",
      "        tau=25.0 days\n",
      "    steps: -1000\n",
      "      storm_factor: 0.05\n",
      "        tau=25.0 days\n",
      "    steps: -10000\n",
      "      storm_factor: 0.05\n",
      "        tau=25.0 days\n",
      "    steps: -100000\n",
      "      storm_factor: 0.05\n"
     ]
    },
    {
     "name": "stderr",
     "output_type": "stream",
     "text": [
      "INFO:utils:59\n"
     ]
    },
    {
     "name": "stdout",
     "output_type": "stream",
     "text": [
      "        tau=25.0 days\n",
      "59\n",
      "  smooth: 0\n",
      "    steps: 0\n",
      "      storm_factor: 0.05\n",
      "        tau=25.0 days\n",
      "    steps: -10\n",
      "      storm_factor: 0.05\n",
      "        tau=25.0 days\n",
      "    steps: -100\n",
      "      storm_factor: 0.05\n",
      "        tau=25.0 days\n",
      "    steps: -1000\n",
      "      storm_factor: 0.05\n",
      "        tau=25.0 days\n",
      "    steps: -10000\n",
      "      storm_factor: 0.05\n",
      "        tau=25.0 days\n",
      "    steps: -100000\n",
      "      storm_factor: 0.05\n",
      "        tau=25.0 days\n",
      "  smooth: 1\n",
      "    steps: 0\n",
      "      storm_factor: 0.05\n",
      "        tau=25.0 days\n",
      "    steps: -10\n",
      "      storm_factor: 0.05\n",
      "        tau=25.0 days\n",
      "    steps: -100\n",
      "      storm_factor: 0.05\n",
      "        tau=25.0 days\n",
      "    steps: -1000\n",
      "      storm_factor: 0.05\n",
      "        tau=25.0 days\n",
      "    steps: -10000\n",
      "      storm_factor: 0.05\n",
      "        tau=25.0 days\n",
      "    steps: -100000\n",
      "      storm_factor: 0.05\n"
     ]
    },
    {
     "name": "stderr",
     "output_type": "stream",
     "text": [
      "INFO:utils:60\n"
     ]
    },
    {
     "name": "stdout",
     "output_type": "stream",
     "text": [
      "        tau=25.0 days\n",
      "60\n",
      "  smooth: 0\n",
      "    steps: 0\n",
      "      storm_factor: 0.05\n",
      "        tau=25.0 days\n",
      "    steps: -10\n",
      "      storm_factor: 0.05\n",
      "        tau=25.0 days\n",
      "    steps: -100\n",
      "      storm_factor: 0.05\n",
      "        tau=25.0 days\n",
      "    steps: -1000\n",
      "      storm_factor: 0.05\n",
      "        tau=25.0 days\n",
      "    steps: -10000\n",
      "      storm_factor: 0.05\n",
      "        tau=25.0 days\n",
      "    steps: -100000\n",
      "      storm_factor: 0.05\n",
      "        tau=25.0 days\n",
      "  smooth: 1\n",
      "    steps: 0\n",
      "      storm_factor: 0.05\n",
      "        tau=25.0 days\n",
      "    steps: -10\n",
      "      storm_factor: 0.05\n",
      "        tau=25.0 days\n",
      "    steps: -100\n",
      "      storm_factor: 0.05\n",
      "        tau=25.0 days\n",
      "    steps: -1000\n",
      "      storm_factor: 0.05\n",
      "        tau=25.0 days\n",
      "    steps: -10000\n",
      "      storm_factor: 0.05\n",
      "        tau=25.0 days\n",
      "    steps: -100000\n",
      "      storm_factor: 0.05\n"
     ]
    },
    {
     "name": "stderr",
     "output_type": "stream",
     "text": [
      "INFO:utils:61\n"
     ]
    },
    {
     "name": "stdout",
     "output_type": "stream",
     "text": [
      "        tau=25.0 days\n",
      "61\n",
      "  smooth: 0\n",
      "    steps: 0\n",
      "      storm_factor: 0.05\n",
      "        tau=25.0 days\n",
      "    steps: -10\n",
      "      storm_factor: 0.05\n",
      "        tau=25.0 days\n",
      "    steps: -100\n",
      "      storm_factor: 0.05\n",
      "        tau=25.0 days\n",
      "    steps: -1000\n",
      "      storm_factor: 0.05\n",
      "        tau=25.0 days\n",
      "    steps: -10000\n",
      "      storm_factor: 0.05\n",
      "        tau=25.0 days\n",
      "    steps: -100000\n",
      "      storm_factor: 0.05\n",
      "        tau=25.0 days\n",
      "  smooth: 1\n",
      "    steps: 0\n",
      "      storm_factor: 0.05\n",
      "        tau=25.0 days\n",
      "    steps: -10\n",
      "      storm_factor: 0.05\n",
      "        tau=25.0 days\n",
      "    steps: -100\n",
      "      storm_factor: 0.05\n",
      "        tau=25.0 days\n",
      "    steps: -1000\n",
      "      storm_factor: 0.05\n",
      "        tau=25.0 days\n",
      "    steps: -10000\n",
      "      storm_factor: 0.05\n",
      "        tau=25.0 days\n",
      "    steps: -100000\n",
      "      storm_factor: 0.05\n"
     ]
    },
    {
     "name": "stderr",
     "output_type": "stream",
     "text": [
      "INFO:utils:62\n"
     ]
    },
    {
     "name": "stdout",
     "output_type": "stream",
     "text": [
      "        tau=25.0 days\n",
      "63\n",
      "  smooth: 0\n",
      "    steps: 0\n",
      "      storm_factor: 0.05\n",
      "        tau=25.0 days\n",
      "    steps: -10\n",
      "      storm_factor: 0.05\n",
      "        tau=25.0 days\n",
      "    steps: -100\n",
      "      storm_factor: 0.05\n",
      "        tau=25.0 days\n",
      "    steps: -1000\n",
      "      storm_factor: 0.05\n",
      "        tau=25.0 days\n",
      "    steps: -10000\n",
      "      storm_factor: 0.05\n",
      "        tau=25.0 days\n",
      "    steps: -100000\n",
      "      storm_factor: 0.05\n",
      "        tau=25.0 days\n",
      "  smooth: 1\n",
      "    steps: 0\n",
      "      storm_factor: 0.05\n",
      "        tau=25.0 days\n",
      "    steps: -10\n",
      "      storm_factor: 0.05\n",
      "        tau=25.0 days\n",
      "    steps: -100\n",
      "      storm_factor: 0.05\n",
      "        tau=25.0 days\n",
      "    steps: -1000\n",
      "      storm_factor: 0.05\n",
      "        tau=25.0 days\n",
      "    steps: -10000\n",
      "      storm_factor: 0.05\n",
      "        tau=25.0 days\n",
      "    steps: -100000\n",
      "      storm_factor: 0.05\n"
     ]
    },
    {
     "name": "stderr",
     "output_type": "stream",
     "text": [
      "INFO:utils:63\n"
     ]
    },
    {
     "name": "stdout",
     "output_type": "stream",
     "text": [
      "        tau=25.0 days\n",
      "62\n",
      "  smooth: 0\n",
      "    steps: 0\n",
      "      storm_factor: 0.05\n",
      "        tau=25.0 days\n",
      "    steps: -10\n",
      "      storm_factor: 0.05\n",
      "        tau=25.0 days\n",
      "    steps: -100\n",
      "      storm_factor: 0.05\n",
      "        tau=25.0 days\n",
      "    steps: -1000\n",
      "      storm_factor: 0.05\n",
      "        tau=25.0 days\n",
      "    steps: -10000\n",
      "      storm_factor: 0.05\n",
      "        tau=25.0 days\n",
      "    steps: -100000\n",
      "      storm_factor: 0.05\n",
      "        tau=25.0 days\n",
      "  smooth: 1\n",
      "    steps: 0\n",
      "      storm_factor: 0.05\n",
      "        tau=25.0 days\n",
      "    steps: -10\n",
      "      storm_factor: 0.05\n",
      "        tau=25.0 days\n",
      "    steps: -100\n",
      "      storm_factor: 0.05\n",
      "        tau=25.0 days\n",
      "    steps: -1000\n",
      "      storm_factor: 0.05\n",
      "        tau=25.0 days\n",
      "    steps: -10000\n",
      "      storm_factor: 0.05\n",
      "        tau=25.0 days\n",
      "    steps: -100000\n",
      "      storm_factor: 0.05\n"
     ]
    },
    {
     "name": "stderr",
     "output_type": "stream",
     "text": [
      "INFO:utils:64\n"
     ]
    },
    {
     "name": "stdout",
     "output_type": "stream",
     "text": [
      "        tau=25.0 days\n",
      "64\n",
      "  smooth: 0\n",
      "    steps: 0\n",
      "      storm_factor: 0.05\n",
      "        tau=25.0 days\n",
      "    steps: -10\n",
      "      storm_factor: 0.05\n",
      "        tau=25.0 days\n",
      "    steps: -100\n",
      "      storm_factor: 0.05\n",
      "        tau=25.0 days\n",
      "    steps: -1000\n",
      "      storm_factor: 0.05\n",
      "        tau=25.0 days\n",
      "    steps: -10000\n",
      "      storm_factor: 0.05\n",
      "        tau=25.0 days\n",
      "    steps: -100000\n",
      "      storm_factor: 0.05\n",
      "        tau=25.0 days\n",
      "  smooth: 1\n",
      "    steps: 0\n",
      "      storm_factor: 0.05\n",
      "        tau=25.0 days\n",
      "    steps: -10\n",
      "      storm_factor: 0.05\n",
      "        tau=25.0 days\n",
      "    steps: -100\n",
      "      storm_factor: 0.05\n",
      "        tau=25.0 days\n",
      "    steps: -1000\n",
      "      storm_factor: 0.05\n",
      "        tau=25.0 days\n",
      "    steps: -10000\n",
      "      storm_factor: 0.05\n",
      "        tau=25.0 days\n",
      "    steps: -100000\n",
      "      storm_factor: 0.05\n",
      "        tau=25.0 days\n"
     ]
    }
   ],
   "source": [
    "# Evaluate effect of smoothing on correlation metrics\n",
    "# This one testing evaluation of multiple smooths, steps,\n",
    "# tau, etc. in one call.\n",
    "skills=[]\n",
    "\n",
    "tau_d=25\n",
    "tau=np.timedelta64(int(tau_d*86400),'s')\n",
    "\n",
    "taus=[tau]\n",
    "Msmooths=[Msmooth,Msmooth_K]\n",
    "mtypes=['grid','constant']\n",
    "steps=[0,-10,-100,-1000,-10000,-100000]\n",
    "\n",
    "manta_pred=predict_mantas_multi(manta,taus=taus,\n",
    "                                Msmooths=Msmooths,\n",
    "                                steps=steps,\n",
    "                                storm_factors=[0.05])\n",
    "manta_pred['Msmooth_label']=[ mtypes[i] for i in manta_pred['Msmooth_i'].values]"
   ]
  },
  {
   "cell_type": "code",
   "execution_count": 117,
   "metadata": {},
   "outputs": [
    {
     "data": {
      "text/plain": [
       "0.12873712321343747"
      ]
     },
     "execution_count": 117,
     "metadata": {},
     "output_type": "execute_result"
    }
   ],
   "source": [
    "manta_pred['part_per_m2_nofiber'].var()"
   ]
  },
  {
   "cell_type": "code",
   "execution_count": 121,
   "metadata": {},
   "outputs": [
    {
     "data": {
      "text/html": [
       "<div>\n",
       "<style scoped>\n",
       "    .dataframe tbody tr th:only-of-type {\n",
       "        vertical-align: middle;\n",
       "    }\n",
       "\n",
       "    .dataframe tbody tr th {\n",
       "        vertical-align: top;\n",
       "    }\n",
       "\n",
       "    .dataframe thead th {\n",
       "        text-align: right;\n",
       "    }\n",
       "</style>\n",
       "<table border=\"1\" class=\"dataframe\">\n",
       "  <thead>\n",
       "    <tr style=\"text-align: right;\">\n",
       "      <th></th>\n",
       "      <th></th>\n",
       "      <th>rho</th>\n",
       "      <th>norm_std</th>\n",
       "      <th>norm_mag</th>\n",
       "      <th>r_sub</th>\n",
       "      <th>norm_std_sub</th>\n",
       "      <th>norm_mag_sub</th>\n",
       "    </tr>\n",
       "    <tr>\n",
       "      <th>Msmooth_label</th>\n",
       "      <th>step</th>\n",
       "      <th></th>\n",
       "      <th></th>\n",
       "      <th></th>\n",
       "      <th></th>\n",
       "      <th></th>\n",
       "      <th></th>\n",
       "    </tr>\n",
       "  </thead>\n",
       "  <tbody>\n",
       "    <tr>\n",
       "      <th rowspan=\"6\" valign=\"top\">constant</th>\n",
       "      <th>-100000</th>\n",
       "      <td>0.643575</td>\n",
       "      <td>4.187205</td>\n",
       "      <td>6.581294</td>\n",
       "      <td>0.537433</td>\n",
       "      <td>36.144802</td>\n",
       "      <td>18.229457</td>\n",
       "    </tr>\n",
       "    <tr>\n",
       "      <th>-10000</th>\n",
       "      <td>0.656294</td>\n",
       "      <td>2.147824</td>\n",
       "      <td>4.570319</td>\n",
       "      <td>0.496624</td>\n",
       "      <td>18.494210</td>\n",
       "      <td>12.676458</td>\n",
       "    </tr>\n",
       "    <tr>\n",
       "      <th>-1000</th>\n",
       "      <td>0.663243</td>\n",
       "      <td>2.102787</td>\n",
       "      <td>4.430955</td>\n",
       "      <td>0.486810</td>\n",
       "      <td>18.106755</td>\n",
       "      <td>12.277274</td>\n",
       "    </tr>\n",
       "    <tr>\n",
       "      <th>-100</th>\n",
       "      <td>0.662762</td>\n",
       "      <td>2.361471</td>\n",
       "      <td>4.598028</td>\n",
       "      <td>0.491072</td>\n",
       "      <td>20.348725</td>\n",
       "      <td>12.738608</td>\n",
       "    </tr>\n",
       "    <tr>\n",
       "      <th>-10</th>\n",
       "      <td>0.658785</td>\n",
       "      <td>2.527024</td>\n",
       "      <td>4.704625</td>\n",
       "      <td>0.496473</td>\n",
       "      <td>21.783541</td>\n",
       "      <td>13.038634</td>\n",
       "    </tr>\n",
       "    <tr>\n",
       "      <th>0</th>\n",
       "      <td>0.659309</td>\n",
       "      <td>2.555266</td>\n",
       "      <td>4.721715</td>\n",
       "      <td>0.498154</td>\n",
       "      <td>22.028335</td>\n",
       "      <td>13.086832</td>\n",
       "    </tr>\n",
       "    <tr>\n",
       "      <th rowspan=\"6\" valign=\"top\">grid</th>\n",
       "      <th>-100000</th>\n",
       "      <td>0.736101</td>\n",
       "      <td>4.276603</td>\n",
       "      <td>6.663238</td>\n",
       "      <td>0.547974</td>\n",
       "      <td>36.858643</td>\n",
       "      <td>17.930465</td>\n",
       "    </tr>\n",
       "    <tr>\n",
       "      <th>-10000</th>\n",
       "      <td>0.732517</td>\n",
       "      <td>7.206195</td>\n",
       "      <td>8.838724</td>\n",
       "      <td>0.544131</td>\n",
       "      <td>62.273900</td>\n",
       "      <td>24.243624</td>\n",
       "    </tr>\n",
       "    <tr>\n",
       "      <th>-1000</th>\n",
       "      <td>0.693531</td>\n",
       "      <td>3.119418</td>\n",
       "      <td>5.974985</td>\n",
       "      <td>0.527981</td>\n",
       "      <td>26.886790</td>\n",
       "      <td>16.368661</td>\n",
       "    </tr>\n",
       "    <tr>\n",
       "      <th>-100</th>\n",
       "      <td>0.659003</td>\n",
       "      <td>2.119818</td>\n",
       "      <td>4.712580</td>\n",
       "      <td>0.475885</td>\n",
       "      <td>18.248845</td>\n",
       "      <td>13.025306</td>\n",
       "    </tr>\n",
       "    <tr>\n",
       "      <th>-10</th>\n",
       "      <td>0.649344</td>\n",
       "      <td>2.261279</td>\n",
       "      <td>4.584945</td>\n",
       "      <td>0.495494</td>\n",
       "      <td>19.480348</td>\n",
       "      <td>12.721002</td>\n",
       "    </tr>\n",
       "    <tr>\n",
       "      <th>0</th>\n",
       "      <td>0.659309</td>\n",
       "      <td>2.555266</td>\n",
       "      <td>4.721715</td>\n",
       "      <td>0.498154</td>\n",
       "      <td>22.028335</td>\n",
       "      <td>13.086832</td>\n",
       "    </tr>\n",
       "  </tbody>\n",
       "</table>\n",
       "</div>"
      ],
      "text/plain": [
       "                            rho  norm_std  norm_mag     r_sub  norm_std_sub  \\\n",
       "Msmooth_label step                                                            \n",
       "constant      -100000  0.643575  4.187205  6.581294  0.537433     36.144802   \n",
       "              -10000   0.656294  2.147824  4.570319  0.496624     18.494210   \n",
       "              -1000    0.663243  2.102787  4.430955  0.486810     18.106755   \n",
       "              -100     0.662762  2.361471  4.598028  0.491072     20.348725   \n",
       "              -10      0.658785  2.527024  4.704625  0.496473     21.783541   \n",
       "               0       0.659309  2.555266  4.721715  0.498154     22.028335   \n",
       "grid          -100000  0.736101  4.276603  6.663238  0.547974     36.858643   \n",
       "              -10000   0.732517  7.206195  8.838724  0.544131     62.273900   \n",
       "              -1000    0.693531  3.119418  5.974985  0.527981     26.886790   \n",
       "              -100     0.659003  2.119818  4.712580  0.475885     18.248845   \n",
       "              -10      0.649344  2.261279  4.584945  0.495494     19.480348   \n",
       "               0       0.659309  2.555266  4.721715  0.498154     22.028335   \n",
       "\n",
       "                       norm_mag_sub  \n",
       "Msmooth_label step                   \n",
       "constant      -100000     18.229457  \n",
       "              -10000      12.676458  \n",
       "              -1000       12.277274  \n",
       "              -100        12.738608  \n",
       "              -10         13.038634  \n",
       "               0          13.086832  \n",
       "grid          -100000     17.930465  \n",
       "              -10000      24.243624  \n",
       "              -1000       16.368661  \n",
       "              -100        13.025306  \n",
       "              -10         12.721002  \n",
       "               0          13.086832  "
      ]
     },
     "execution_count": 121,
     "metadata": {},
     "output_type": "execute_result"
    }
   ],
   "source": [
    "def metrics(grp):\n",
    "    obs=grp['part_per_m2_nofiber']\n",
    "    mod=grp['C_model'] \n",
    "    \n",
    "    skill={}\n",
    "    skill['rho'],p=spearmanr(obs, mod)\n",
    "    skill['norm_std']=mod.std() / obs.std()\n",
    "    skill['norm_mag']=mod.mean() / obs.mean()\n",
    "    \n",
    "    # Same but drop top/bottom 2 outliers:\n",
    "    obs_rank=np.argsort(np.argsort(obs))\n",
    "    sel=(obs_rank>2)&(obs_rank<len(obs)-2)\n",
    "    r=np.corrcoef(obs[sel], mod[sel])[0,1]\n",
    "    skill['r_sub']=r\n",
    "    \n",
    "    skill['norm_std_sub']=mod[sel].std() / obs[sel].std()\n",
    "    skill['norm_mag_sub']=mod[sel].mean() / obs[sel].mean()\n",
    "\n",
    "    return pd.Series(skill)\n",
    "    \n",
    "manta_pred.groupby(['Msmooth_label','step']).apply(metrics)"
   ]
  },
  {
   "cell_type": "code",
   "execution_count": 72,
   "metadata": {},
   "outputs": [
    {
     "name": "stdout",
     "output_type": "stream",
     "text": [
      "----- SMOOTH TYPE: grid -----\n",
      "  --- smooth steps: 0---\n",
      "0\n"
     ]
    },
    {
     "name": "stderr",
     "output_type": "stream",
     "text": [
      "INFO:utils:1\n"
     ]
    },
    {
     "name": "stdout",
     "output_type": "stream",
     "text": [
      "1\n",
      "2\n",
      "3\n"
     ]
    },
    {
     "name": "stderr",
     "output_type": "stream",
     "text": [
      "INFO:utils:4\n"
     ]
    },
    {
     "name": "stdout",
     "output_type": "stream",
     "text": [
      "4\n"
     ]
    },
    {
     "name": "stderr",
     "output_type": "stream",
     "text": [
      "INFO:utils:5\n"
     ]
    },
    {
     "name": "stdout",
     "output_type": "stream",
     "text": [
      "5\n",
      "6\n",
      "7\n"
     ]
    },
    {
     "name": "stderr",
     "output_type": "stream",
     "text": [
      "INFO:utils:8\n"
     ]
    },
    {
     "name": "stdout",
     "output_type": "stream",
     "text": [
      "8\n"
     ]
    },
    {
     "name": "stderr",
     "output_type": "stream",
     "text": [
      "INFO:utils:9\n"
     ]
    },
    {
     "name": "stdout",
     "output_type": "stream",
     "text": [
      "9\n",
      "10\n",
      "11\n"
     ]
    },
    {
     "name": "stderr",
     "output_type": "stream",
     "text": [
      "INFO:utils:12\n"
     ]
    },
    {
     "name": "stdout",
     "output_type": "stream",
     "text": [
      "12\n"
     ]
    },
    {
     "name": "stderr",
     "output_type": "stream",
     "text": [
      "INFO:utils:13\n"
     ]
    },
    {
     "name": "stdout",
     "output_type": "stream",
     "text": [
      "13\n",
      "14\n",
      "15\n"
     ]
    },
    {
     "name": "stderr",
     "output_type": "stream",
     "text": [
      "INFO:utils:16\n"
     ]
    },
    {
     "name": "stdout",
     "output_type": "stream",
     "text": [
      "16\n",
      "17\n"
     ]
    },
    {
     "name": "stderr",
     "output_type": "stream",
     "text": [
      "INFO:utils:18\n"
     ]
    },
    {
     "name": "stdout",
     "output_type": "stream",
     "text": [
      "18\n"
     ]
    },
    {
     "name": "stderr",
     "output_type": "stream",
     "text": [
      "INFO:utils:19\n"
     ]
    },
    {
     "name": "stdout",
     "output_type": "stream",
     "text": [
      "19\n",
      "20\n",
      "21\n"
     ]
    },
    {
     "name": "stderr",
     "output_type": "stream",
     "text": [
      "INFO:utils:22\n"
     ]
    },
    {
     "name": "stdout",
     "output_type": "stream",
     "text": [
      "22\n"
     ]
    },
    {
     "name": "stderr",
     "output_type": "stream",
     "text": [
      "INFO:utils:23\n"
     ]
    },
    {
     "name": "stdout",
     "output_type": "stream",
     "text": [
      "23\n",
      "24\n",
      "25\n"
     ]
    },
    {
     "name": "stderr",
     "output_type": "stream",
     "text": [
      "INFO:utils:26\n"
     ]
    },
    {
     "name": "stdout",
     "output_type": "stream",
     "text": [
      "26\n"
     ]
    },
    {
     "name": "stderr",
     "output_type": "stream",
     "text": [
      "INFO:utils:27\n"
     ]
    },
    {
     "name": "stdout",
     "output_type": "stream",
     "text": [
      "27\n"
     ]
    },
    {
     "name": "stderr",
     "output_type": "stream",
     "text": [
      "INFO:utils:28\n"
     ]
    },
    {
     "name": "stdout",
     "output_type": "stream",
     "text": [
      "28\n",
      "29\n"
     ]
    },
    {
     "name": "stderr",
     "output_type": "stream",
     "text": [
      "INFO:utils:30\n"
     ]
    },
    {
     "name": "stdout",
     "output_type": "stream",
     "text": [
      "30\n"
     ]
    },
    {
     "name": "stderr",
     "output_type": "stream",
     "text": [
      "INFO:utils:31\n"
     ]
    },
    {
     "name": "stdout",
     "output_type": "stream",
     "text": [
      "31\n",
      "32\n"
     ]
    },
    {
     "name": "stderr",
     "output_type": "stream",
     "text": [
      "INFO:utils:33\n"
     ]
    },
    {
     "name": "stdout",
     "output_type": "stream",
     "text": [
      "33\n",
      "34\n"
     ]
    },
    {
     "name": "stderr",
     "output_type": "stream",
     "text": [
      "INFO:utils:35\n"
     ]
    },
    {
     "name": "stdout",
     "output_type": "stream",
     "text": [
      "35\n",
      "36\n"
     ]
    },
    {
     "name": "stderr",
     "output_type": "stream",
     "text": [
      "INFO:utils:37\n"
     ]
    },
    {
     "name": "stdout",
     "output_type": "stream",
     "text": [
      "37\n",
      "38\n"
     ]
    },
    {
     "name": "stderr",
     "output_type": "stream",
     "text": [
      "INFO:utils:39\n"
     ]
    },
    {
     "name": "stdout",
     "output_type": "stream",
     "text": [
      "39\n",
      "40\n",
      "41\n"
     ]
    },
    {
     "name": "stderr",
     "output_type": "stream",
     "text": [
      "INFO:utils:42\n"
     ]
    },
    {
     "name": "stdout",
     "output_type": "stream",
     "text": [
      "42\n",
      "43\n",
      "44\n"
     ]
    },
    {
     "name": "stderr",
     "output_type": "stream",
     "text": [
      "INFO:utils:45\n"
     ]
    },
    {
     "name": "stdout",
     "output_type": "stream",
     "text": [
      "45\n",
      "46\n",
      "47\n"
     ]
    },
    {
     "name": "stderr",
     "output_type": "stream",
     "text": [
      "INFO:utils:48\n"
     ]
    },
    {
     "name": "stdout",
     "output_type": "stream",
     "text": [
      "48\n",
      "49\n"
     ]
    },
    {
     "name": "stderr",
     "output_type": "stream",
     "text": [
      "INFO:utils:50\n"
     ]
    },
    {
     "name": "stdout",
     "output_type": "stream",
     "text": [
      "50\n",
      "51\n",
      "52\n",
      "53\n"
     ]
    },
    {
     "name": "stderr",
     "output_type": "stream",
     "text": [
      "INFO:utils:54\n"
     ]
    },
    {
     "name": "stdout",
     "output_type": "stream",
     "text": [
      "54\n",
      "55\n",
      "56\n",
      "57\n"
     ]
    },
    {
     "name": "stderr",
     "output_type": "stream",
     "text": [
      "INFO:utils:58\n"
     ]
    },
    {
     "name": "stdout",
     "output_type": "stream",
     "text": [
      "58\n",
      "59\n",
      "60\n",
      "61\n"
     ]
    },
    {
     "name": "stderr",
     "output_type": "stream",
     "text": [
      "INFO:utils:62\n"
     ]
    },
    {
     "name": "stdout",
     "output_type": "stream",
     "text": [
      "62\n"
     ]
    },
    {
     "name": "stderr",
     "output_type": "stream",
     "text": [
      "INFO:utils:63\n"
     ]
    },
    {
     "name": "stdout",
     "output_type": "stream",
     "text": [
      "63\n",
      "64\n",
      "  --- smooth steps: 10---\n",
      "0\n"
     ]
    },
    {
     "name": "stderr",
     "output_type": "stream",
     "text": [
      "INFO:utils:1\n"
     ]
    },
    {
     "name": "stdout",
     "output_type": "stream",
     "text": [
      "1\n",
      "2\n",
      "3\n"
     ]
    },
    {
     "name": "stderr",
     "output_type": "stream",
     "text": [
      "INFO:utils:4\n"
     ]
    },
    {
     "name": "stdout",
     "output_type": "stream",
     "text": [
      "4\n"
     ]
    },
    {
     "name": "stderr",
     "output_type": "stream",
     "text": [
      "INFO:utils:5\n"
     ]
    },
    {
     "name": "stdout",
     "output_type": "stream",
     "text": [
      "5\n",
      "6\n",
      "7\n"
     ]
    },
    {
     "name": "stderr",
     "output_type": "stream",
     "text": [
      "INFO:utils:8\n"
     ]
    },
    {
     "name": "stdout",
     "output_type": "stream",
     "text": [
      "8\n"
     ]
    },
    {
     "name": "stderr",
     "output_type": "stream",
     "text": [
      "INFO:utils:9\n"
     ]
    },
    {
     "name": "stdout",
     "output_type": "stream",
     "text": [
      "9\n",
      "10\n",
      "11\n"
     ]
    },
    {
     "name": "stderr",
     "output_type": "stream",
     "text": [
      "INFO:utils:12\n"
     ]
    },
    {
     "name": "stdout",
     "output_type": "stream",
     "text": [
      "12\n"
     ]
    },
    {
     "name": "stderr",
     "output_type": "stream",
     "text": [
      "INFO:utils:13\n"
     ]
    },
    {
     "name": "stdout",
     "output_type": "stream",
     "text": [
      "13\n",
      "14\n",
      "15\n"
     ]
    },
    {
     "name": "stderr",
     "output_type": "stream",
     "text": [
      "INFO:utils:16\n"
     ]
    },
    {
     "name": "stdout",
     "output_type": "stream",
     "text": [
      "16\n",
      "17\n"
     ]
    },
    {
     "name": "stderr",
     "output_type": "stream",
     "text": [
      "INFO:utils:18\n"
     ]
    },
    {
     "name": "stdout",
     "output_type": "stream",
     "text": [
      "18\n"
     ]
    },
    {
     "name": "stderr",
     "output_type": "stream",
     "text": [
      "INFO:utils:19\n"
     ]
    },
    {
     "name": "stdout",
     "output_type": "stream",
     "text": [
      "19\n"
     ]
    },
    {
     "name": "stderr",
     "output_type": "stream",
     "text": [
      "INFO:utils:20\n"
     ]
    },
    {
     "name": "stdout",
     "output_type": "stream",
     "text": [
      "20\n"
     ]
    },
    {
     "name": "stderr",
     "output_type": "stream",
     "text": [
      "INFO:utils:21\n"
     ]
    },
    {
     "name": "stdout",
     "output_type": "stream",
     "text": [
      "21\n"
     ]
    },
    {
     "name": "stderr",
     "output_type": "stream",
     "text": [
      "INFO:utils:22\n"
     ]
    },
    {
     "name": "stdout",
     "output_type": "stream",
     "text": [
      "22\n"
     ]
    },
    {
     "name": "stderr",
     "output_type": "stream",
     "text": [
      "INFO:utils:23\n"
     ]
    },
    {
     "name": "stdout",
     "output_type": "stream",
     "text": [
      "23\n"
     ]
    },
    {
     "name": "stderr",
     "output_type": "stream",
     "text": [
      "INFO:utils:24\n"
     ]
    },
    {
     "name": "stdout",
     "output_type": "stream",
     "text": [
      "24\n",
      "25\n"
     ]
    },
    {
     "name": "stderr",
     "output_type": "stream",
     "text": [
      "INFO:utils:26\n"
     ]
    },
    {
     "name": "stdout",
     "output_type": "stream",
     "text": [
      "26\n"
     ]
    },
    {
     "name": "stderr",
     "output_type": "stream",
     "text": [
      "INFO:utils:27\n"
     ]
    },
    {
     "name": "stdout",
     "output_type": "stream",
     "text": [
      "27\n"
     ]
    },
    {
     "name": "stderr",
     "output_type": "stream",
     "text": [
      "INFO:utils:28\n"
     ]
    },
    {
     "name": "stdout",
     "output_type": "stream",
     "text": [
      "28\n"
     ]
    },
    {
     "name": "stderr",
     "output_type": "stream",
     "text": [
      "INFO:utils:29\n"
     ]
    },
    {
     "name": "stdout",
     "output_type": "stream",
     "text": [
      "29\n",
      "30\n"
     ]
    },
    {
     "name": "stderr",
     "output_type": "stream",
     "text": [
      "INFO:utils:31\n"
     ]
    },
    {
     "name": "stdout",
     "output_type": "stream",
     "text": [
      "31\n",
      "32\n"
     ]
    },
    {
     "name": "stderr",
     "output_type": "stream",
     "text": [
      "INFO:utils:33\n"
     ]
    },
    {
     "name": "stdout",
     "output_type": "stream",
     "text": [
      "33\n",
      "34\n"
     ]
    },
    {
     "name": "stderr",
     "output_type": "stream",
     "text": [
      "INFO:utils:35\n"
     ]
    },
    {
     "name": "stdout",
     "output_type": "stream",
     "text": [
      "35\n",
      "36\n"
     ]
    },
    {
     "name": "stderr",
     "output_type": "stream",
     "text": [
      "INFO:utils:37\n"
     ]
    },
    {
     "name": "stdout",
     "output_type": "stream",
     "text": [
      "37\n",
      "38\n"
     ]
    },
    {
     "name": "stderr",
     "output_type": "stream",
     "text": [
      "INFO:utils:39\n"
     ]
    },
    {
     "name": "stdout",
     "output_type": "stream",
     "text": [
      "39\n",
      "40\n"
     ]
    },
    {
     "name": "stderr",
     "output_type": "stream",
     "text": [
      "INFO:utils:41\n"
     ]
    },
    {
     "name": "stdout",
     "output_type": "stream",
     "text": [
      "41\n"
     ]
    },
    {
     "name": "stderr",
     "output_type": "stream",
     "text": [
      "INFO:utils:42\n"
     ]
    },
    {
     "name": "stdout",
     "output_type": "stream",
     "text": [
      "42\n",
      "43\n",
      "44\n"
     ]
    },
    {
     "name": "stderr",
     "output_type": "stream",
     "text": [
      "INFO:utils:45\n"
     ]
    },
    {
     "name": "stdout",
     "output_type": "stream",
     "text": [
      "45\n",
      "46\n",
      "47\n"
     ]
    },
    {
     "name": "stderr",
     "output_type": "stream",
     "text": [
      "INFO:utils:48\n"
     ]
    },
    {
     "name": "stdout",
     "output_type": "stream",
     "text": [
      "48\n",
      "49\n"
     ]
    },
    {
     "name": "stderr",
     "output_type": "stream",
     "text": [
      "INFO:utils:50\n"
     ]
    },
    {
     "name": "stdout",
     "output_type": "stream",
     "text": [
      "50\n",
      "51\n",
      "52\n",
      "53\n"
     ]
    },
    {
     "name": "stderr",
     "output_type": "stream",
     "text": [
      "INFO:utils:54\n"
     ]
    },
    {
     "name": "stdout",
     "output_type": "stream",
     "text": [
      "54\n",
      "55\n"
     ]
    },
    {
     "name": "stderr",
     "output_type": "stream",
     "text": [
      "INFO:utils:56\n"
     ]
    },
    {
     "name": "stdout",
     "output_type": "stream",
     "text": [
      "56\n",
      "57\n"
     ]
    },
    {
     "name": "stderr",
     "output_type": "stream",
     "text": [
      "INFO:utils:58\n"
     ]
    },
    {
     "name": "stdout",
     "output_type": "stream",
     "text": [
      "58\n"
     ]
    },
    {
     "name": "stderr",
     "output_type": "stream",
     "text": [
      "INFO:utils:59\n"
     ]
    },
    {
     "name": "stdout",
     "output_type": "stream",
     "text": [
      "59\n",
      "60\n",
      "61\n"
     ]
    },
    {
     "name": "stderr",
     "output_type": "stream",
     "text": [
      "INFO:utils:62\n"
     ]
    },
    {
     "name": "stdout",
     "output_type": "stream",
     "text": [
      "62\n"
     ]
    },
    {
     "name": "stderr",
     "output_type": "stream",
     "text": [
      "INFO:utils:63\n"
     ]
    },
    {
     "name": "stdout",
     "output_type": "stream",
     "text": [
      "63\n",
      "64\n",
      "  --- smooth steps: 100---\n",
      "0\n"
     ]
    },
    {
     "name": "stderr",
     "output_type": "stream",
     "text": [
      "INFO:utils:1\n"
     ]
    },
    {
     "name": "stdout",
     "output_type": "stream",
     "text": [
      "1\n",
      "2\n"
     ]
    },
    {
     "name": "stderr",
     "output_type": "stream",
     "text": [
      "INFO:utils:3\n"
     ]
    },
    {
     "name": "stdout",
     "output_type": "stream",
     "text": [
      "3\n",
      "4\n"
     ]
    },
    {
     "name": "stderr",
     "output_type": "stream",
     "text": [
      "INFO:utils:5\n"
     ]
    },
    {
     "name": "stdout",
     "output_type": "stream",
     "text": [
      "5\n"
     ]
    },
    {
     "name": "stderr",
     "output_type": "stream",
     "text": [
      "INFO:utils:6\n"
     ]
    },
    {
     "name": "stdout",
     "output_type": "stream",
     "text": [
      "6\n",
      "7\n"
     ]
    },
    {
     "name": "stderr",
     "output_type": "stream",
     "text": [
      "INFO:utils:8\n"
     ]
    },
    {
     "name": "stdout",
     "output_type": "stream",
     "text": [
      "8\n"
     ]
    },
    {
     "name": "stderr",
     "output_type": "stream",
     "text": [
      "INFO:utils:9\n"
     ]
    },
    {
     "name": "stdout",
     "output_type": "stream",
     "text": [
      "9\n",
      "10\n"
     ]
    },
    {
     "name": "stderr",
     "output_type": "stream",
     "text": [
      "INFO:utils:11\n"
     ]
    },
    {
     "name": "stdout",
     "output_type": "stream",
     "text": [
      "11\n",
      "12\n"
     ]
    },
    {
     "name": "stderr",
     "output_type": "stream",
     "text": [
      "INFO:utils:13\n"
     ]
    },
    {
     "name": "stdout",
     "output_type": "stream",
     "text": [
      "13\n",
      "14\n",
      "15\n"
     ]
    },
    {
     "name": "stderr",
     "output_type": "stream",
     "text": [
      "INFO:utils:16\n"
     ]
    },
    {
     "name": "stdout",
     "output_type": "stream",
     "text": [
      "16\n",
      "17\n"
     ]
    },
    {
     "name": "stderr",
     "output_type": "stream",
     "text": [
      "INFO:utils:18\n"
     ]
    },
    {
     "name": "stdout",
     "output_type": "stream",
     "text": [
      "18\n"
     ]
    },
    {
     "name": "stderr",
     "output_type": "stream",
     "text": [
      "INFO:utils:19\n"
     ]
    },
    {
     "name": "stdout",
     "output_type": "stream",
     "text": [
      "19\n"
     ]
    },
    {
     "name": "stderr",
     "output_type": "stream",
     "text": [
      "INFO:utils:20\n"
     ]
    },
    {
     "name": "stdout",
     "output_type": "stream",
     "text": [
      "20\n"
     ]
    },
    {
     "name": "stderr",
     "output_type": "stream",
     "text": [
      "INFO:utils:21\n"
     ]
    },
    {
     "name": "stdout",
     "output_type": "stream",
     "text": [
      "21\n"
     ]
    },
    {
     "name": "stderr",
     "output_type": "stream",
     "text": [
      "INFO:utils:22\n"
     ]
    },
    {
     "name": "stdout",
     "output_type": "stream",
     "text": [
      "22\n"
     ]
    },
    {
     "name": "stderr",
     "output_type": "stream",
     "text": [
      "INFO:utils:23\n"
     ]
    },
    {
     "name": "stdout",
     "output_type": "stream",
     "text": [
      "23\n"
     ]
    },
    {
     "name": "stderr",
     "output_type": "stream",
     "text": [
      "INFO:utils:24\n"
     ]
    },
    {
     "name": "stdout",
     "output_type": "stream",
     "text": [
      "24\n"
     ]
    },
    {
     "name": "stderr",
     "output_type": "stream",
     "text": [
      "INFO:utils:25\n"
     ]
    },
    {
     "name": "stdout",
     "output_type": "stream",
     "text": [
      "25\n"
     ]
    },
    {
     "name": "stderr",
     "output_type": "stream",
     "text": [
      "INFO:utils:26\n"
     ]
    },
    {
     "name": "stdout",
     "output_type": "stream",
     "text": [
      "26\n"
     ]
    },
    {
     "name": "stderr",
     "output_type": "stream",
     "text": [
      "INFO:utils:27\n"
     ]
    },
    {
     "name": "stdout",
     "output_type": "stream",
     "text": [
      "27\n"
     ]
    },
    {
     "name": "stderr",
     "output_type": "stream",
     "text": [
      "INFO:utils:28\n"
     ]
    },
    {
     "name": "stdout",
     "output_type": "stream",
     "text": [
      "28\n"
     ]
    },
    {
     "name": "stderr",
     "output_type": "stream",
     "text": [
      "INFO:utils:29\n"
     ]
    },
    {
     "name": "stdout",
     "output_type": "stream",
     "text": [
      "29\n"
     ]
    },
    {
     "name": "stderr",
     "output_type": "stream",
     "text": [
      "INFO:utils:30\n"
     ]
    },
    {
     "name": "stdout",
     "output_type": "stream",
     "text": [
      "30\n"
     ]
    },
    {
     "name": "stderr",
     "output_type": "stream",
     "text": [
      "INFO:utils:31\n"
     ]
    },
    {
     "name": "stdout",
     "output_type": "stream",
     "text": [
      "31\n"
     ]
    },
    {
     "name": "stderr",
     "output_type": "stream",
     "text": [
      "INFO:utils:32\n"
     ]
    },
    {
     "name": "stdout",
     "output_type": "stream",
     "text": [
      "32\n"
     ]
    },
    {
     "name": "stderr",
     "output_type": "stream",
     "text": [
      "INFO:utils:33\n"
     ]
    },
    {
     "name": "stdout",
     "output_type": "stream",
     "text": [
      "33\n"
     ]
    },
    {
     "name": "stderr",
     "output_type": "stream",
     "text": [
      "INFO:utils:34\n"
     ]
    },
    {
     "name": "stdout",
     "output_type": "stream",
     "text": [
      "34\n"
     ]
    },
    {
     "name": "stderr",
     "output_type": "stream",
     "text": [
      "INFO:utils:35\n"
     ]
    },
    {
     "name": "stdout",
     "output_type": "stream",
     "text": [
      "35\n"
     ]
    },
    {
     "name": "stderr",
     "output_type": "stream",
     "text": [
      "INFO:utils:36\n"
     ]
    },
    {
     "name": "stdout",
     "output_type": "stream",
     "text": [
      "36\n"
     ]
    },
    {
     "name": "stderr",
     "output_type": "stream",
     "text": [
      "INFO:utils:37\n"
     ]
    },
    {
     "name": "stdout",
     "output_type": "stream",
     "text": [
      "37\n"
     ]
    },
    {
     "name": "stderr",
     "output_type": "stream",
     "text": [
      "INFO:utils:38\n"
     ]
    },
    {
     "name": "stdout",
     "output_type": "stream",
     "text": [
      "38\n"
     ]
    },
    {
     "name": "stderr",
     "output_type": "stream",
     "text": [
      "INFO:utils:39\n"
     ]
    },
    {
     "name": "stdout",
     "output_type": "stream",
     "text": [
      "39\n",
      "40\n"
     ]
    },
    {
     "name": "stderr",
     "output_type": "stream",
     "text": [
      "INFO:utils:41\n"
     ]
    },
    {
     "name": "stdout",
     "output_type": "stream",
     "text": [
      "41\n"
     ]
    },
    {
     "name": "stderr",
     "output_type": "stream",
     "text": [
      "INFO:utils:42\n"
     ]
    },
    {
     "name": "stdout",
     "output_type": "stream",
     "text": [
      "42\n",
      "43\n"
     ]
    },
    {
     "name": "stderr",
     "output_type": "stream",
     "text": [
      "INFO:utils:44\n"
     ]
    },
    {
     "name": "stdout",
     "output_type": "stream",
     "text": [
      "44\n"
     ]
    },
    {
     "name": "stderr",
     "output_type": "stream",
     "text": [
      "INFO:utils:45\n"
     ]
    },
    {
     "name": "stdout",
     "output_type": "stream",
     "text": [
      "45\n",
      "46\n"
     ]
    },
    {
     "name": "stderr",
     "output_type": "stream",
     "text": [
      "INFO:utils:47\n"
     ]
    },
    {
     "name": "stdout",
     "output_type": "stream",
     "text": [
      "47\n",
      "48\n"
     ]
    },
    {
     "name": "stderr",
     "output_type": "stream",
     "text": [
      "INFO:utils:49\n"
     ]
    },
    {
     "name": "stdout",
     "output_type": "stream",
     "text": [
      "49\n"
     ]
    },
    {
     "name": "stderr",
     "output_type": "stream",
     "text": [
      "INFO:utils:50\n"
     ]
    },
    {
     "name": "stdout",
     "output_type": "stream",
     "text": [
      "50\n",
      "51\n",
      "52\n"
     ]
    },
    {
     "name": "stderr",
     "output_type": "stream",
     "text": [
      "INFO:utils:53\n"
     ]
    },
    {
     "name": "stdout",
     "output_type": "stream",
     "text": [
      "53\n"
     ]
    },
    {
     "name": "stderr",
     "output_type": "stream",
     "text": [
      "INFO:utils:54\n"
     ]
    },
    {
     "name": "stdout",
     "output_type": "stream",
     "text": [
      "54\n"
     ]
    },
    {
     "name": "stderr",
     "output_type": "stream",
     "text": [
      "INFO:utils:55\n"
     ]
    },
    {
     "name": "stdout",
     "output_type": "stream",
     "text": [
      "55\n"
     ]
    },
    {
     "name": "stderr",
     "output_type": "stream",
     "text": [
      "INFO:utils:56\n"
     ]
    },
    {
     "name": "stdout",
     "output_type": "stream",
     "text": [
      "56\n"
     ]
    },
    {
     "name": "stderr",
     "output_type": "stream",
     "text": [
      "INFO:utils:57\n"
     ]
    },
    {
     "name": "stdout",
     "output_type": "stream",
     "text": [
      "57\n"
     ]
    },
    {
     "name": "stderr",
     "output_type": "stream",
     "text": [
      "INFO:utils:58\n"
     ]
    },
    {
     "name": "stdout",
     "output_type": "stream",
     "text": [
      "58\n"
     ]
    },
    {
     "name": "stderr",
     "output_type": "stream",
     "text": [
      "INFO:utils:59\n"
     ]
    },
    {
     "name": "stdout",
     "output_type": "stream",
     "text": [
      "59\n"
     ]
    },
    {
     "name": "stderr",
     "output_type": "stream",
     "text": [
      "INFO:utils:60\n"
     ]
    },
    {
     "name": "stdout",
     "output_type": "stream",
     "text": [
      "60\n",
      "61\n"
     ]
    },
    {
     "name": "stderr",
     "output_type": "stream",
     "text": [
      "INFO:utils:62\n"
     ]
    },
    {
     "name": "stdout",
     "output_type": "stream",
     "text": [
      "62\n"
     ]
    },
    {
     "name": "stderr",
     "output_type": "stream",
     "text": [
      "INFO:utils:63\n"
     ]
    },
    {
     "name": "stdout",
     "output_type": "stream",
     "text": [
      "63\n"
     ]
    },
    {
     "name": "stderr",
     "output_type": "stream",
     "text": [
      "INFO:utils:64\n"
     ]
    },
    {
     "name": "stdout",
     "output_type": "stream",
     "text": [
      "64\n",
      "  --- smooth steps: 1000---\n",
      "0\n"
     ]
    },
    {
     "name": "stderr",
     "output_type": "stream",
     "text": [
      "INFO:utils:1\n"
     ]
    },
    {
     "name": "stdout",
     "output_type": "stream",
     "text": [
      "1\n"
     ]
    },
    {
     "name": "stderr",
     "output_type": "stream",
     "text": [
      "INFO:utils:2\n"
     ]
    },
    {
     "name": "stdout",
     "output_type": "stream",
     "text": [
      "2\n"
     ]
    },
    {
     "name": "stderr",
     "output_type": "stream",
     "text": [
      "INFO:utils:3\n"
     ]
    },
    {
     "name": "stdout",
     "output_type": "stream",
     "text": [
      "3\n"
     ]
    },
    {
     "name": "stderr",
     "output_type": "stream",
     "text": [
      "INFO:utils:4\n"
     ]
    },
    {
     "name": "stdout",
     "output_type": "stream",
     "text": [
      "4\n"
     ]
    },
    {
     "name": "stderr",
     "output_type": "stream",
     "text": [
      "INFO:utils:5\n"
     ]
    },
    {
     "name": "stdout",
     "output_type": "stream",
     "text": [
      "5\n"
     ]
    },
    {
     "name": "stderr",
     "output_type": "stream",
     "text": [
      "INFO:utils:6\n"
     ]
    },
    {
     "name": "stdout",
     "output_type": "stream",
     "text": [
      "6\n"
     ]
    },
    {
     "name": "stderr",
     "output_type": "stream",
     "text": [
      "INFO:utils:7\n"
     ]
    },
    {
     "name": "stdout",
     "output_type": "stream",
     "text": [
      "7\n"
     ]
    },
    {
     "name": "stderr",
     "output_type": "stream",
     "text": [
      "INFO:utils:8\n"
     ]
    },
    {
     "name": "stdout",
     "output_type": "stream",
     "text": [
      "8\n"
     ]
    },
    {
     "name": "stderr",
     "output_type": "stream",
     "text": [
      "INFO:utils:9\n"
     ]
    },
    {
     "name": "stdout",
     "output_type": "stream",
     "text": [
      "9\n"
     ]
    },
    {
     "name": "stderr",
     "output_type": "stream",
     "text": [
      "INFO:utils:10\n"
     ]
    },
    {
     "name": "stdout",
     "output_type": "stream",
     "text": [
      "10\n"
     ]
    },
    {
     "name": "stderr",
     "output_type": "stream",
     "text": [
      "INFO:utils:11\n"
     ]
    },
    {
     "name": "stdout",
     "output_type": "stream",
     "text": [
      "11\n"
     ]
    },
    {
     "name": "stderr",
     "output_type": "stream",
     "text": [
      "INFO:utils:12\n"
     ]
    },
    {
     "name": "stdout",
     "output_type": "stream",
     "text": [
      "12\n"
     ]
    },
    {
     "name": "stderr",
     "output_type": "stream",
     "text": [
      "INFO:utils:13\n"
     ]
    },
    {
     "name": "stdout",
     "output_type": "stream",
     "text": [
      "13\n",
      "14\n"
     ]
    },
    {
     "name": "stderr",
     "output_type": "stream",
     "text": [
      "INFO:utils:15\n"
     ]
    },
    {
     "name": "stdout",
     "output_type": "stream",
     "text": [
      "15\n"
     ]
    },
    {
     "name": "stderr",
     "output_type": "stream",
     "text": [
      "INFO:utils:16\n"
     ]
    },
    {
     "name": "stdout",
     "output_type": "stream",
     "text": [
      "16\n"
     ]
    },
    {
     "name": "stderr",
     "output_type": "stream",
     "text": [
      "INFO:utils:17\n"
     ]
    },
    {
     "name": "stdout",
     "output_type": "stream",
     "text": [
      "17\n"
     ]
    },
    {
     "name": "stderr",
     "output_type": "stream",
     "text": [
      "INFO:utils:18\n"
     ]
    },
    {
     "name": "stdout",
     "output_type": "stream",
     "text": [
      "18\n"
     ]
    },
    {
     "name": "stderr",
     "output_type": "stream",
     "text": [
      "INFO:utils:19\n"
     ]
    },
    {
     "name": "stdout",
     "output_type": "stream",
     "text": [
      "19\n"
     ]
    },
    {
     "name": "stderr",
     "output_type": "stream",
     "text": [
      "INFO:utils:20\n"
     ]
    },
    {
     "name": "stdout",
     "output_type": "stream",
     "text": [
      "20\n"
     ]
    },
    {
     "name": "stderr",
     "output_type": "stream",
     "text": [
      "INFO:utils:21\n"
     ]
    },
    {
     "name": "stdout",
     "output_type": "stream",
     "text": [
      "21\n"
     ]
    },
    {
     "name": "stderr",
     "output_type": "stream",
     "text": [
      "INFO:utils:22\n"
     ]
    },
    {
     "name": "stdout",
     "output_type": "stream",
     "text": [
      "22\n"
     ]
    },
    {
     "name": "stderr",
     "output_type": "stream",
     "text": [
      "INFO:utils:23\n"
     ]
    },
    {
     "name": "stdout",
     "output_type": "stream",
     "text": [
      "23\n"
     ]
    },
    {
     "name": "stderr",
     "output_type": "stream",
     "text": [
      "INFO:utils:24\n"
     ]
    },
    {
     "name": "stdout",
     "output_type": "stream",
     "text": [
      "24\n"
     ]
    },
    {
     "name": "stderr",
     "output_type": "stream",
     "text": [
      "INFO:utils:25\n"
     ]
    },
    {
     "name": "stdout",
     "output_type": "stream",
     "text": [
      "25\n"
     ]
    },
    {
     "name": "stderr",
     "output_type": "stream",
     "text": [
      "INFO:utils:26\n"
     ]
    },
    {
     "name": "stdout",
     "output_type": "stream",
     "text": [
      "26\n"
     ]
    },
    {
     "name": "stderr",
     "output_type": "stream",
     "text": [
      "INFO:utils:27\n"
     ]
    },
    {
     "name": "stdout",
     "output_type": "stream",
     "text": [
      "27\n"
     ]
    },
    {
     "name": "stderr",
     "output_type": "stream",
     "text": [
      "INFO:utils:28\n"
     ]
    },
    {
     "name": "stdout",
     "output_type": "stream",
     "text": [
      "28\n"
     ]
    },
    {
     "name": "stderr",
     "output_type": "stream",
     "text": [
      "INFO:utils:29\n"
     ]
    },
    {
     "name": "stdout",
     "output_type": "stream",
     "text": [
      "29\n"
     ]
    },
    {
     "name": "stderr",
     "output_type": "stream",
     "text": [
      "INFO:utils:30\n"
     ]
    },
    {
     "name": "stdout",
     "output_type": "stream",
     "text": [
      "30\n"
     ]
    },
    {
     "name": "stderr",
     "output_type": "stream",
     "text": [
      "INFO:utils:31\n"
     ]
    },
    {
     "name": "stdout",
     "output_type": "stream",
     "text": [
      "31\n"
     ]
    },
    {
     "name": "stderr",
     "output_type": "stream",
     "text": [
      "INFO:utils:32\n"
     ]
    },
    {
     "name": "stdout",
     "output_type": "stream",
     "text": [
      "32\n"
     ]
    },
    {
     "name": "stderr",
     "output_type": "stream",
     "text": [
      "INFO:utils:33\n"
     ]
    },
    {
     "name": "stdout",
     "output_type": "stream",
     "text": [
      "33\n"
     ]
    },
    {
     "name": "stderr",
     "output_type": "stream",
     "text": [
      "INFO:utils:34\n"
     ]
    },
    {
     "name": "stdout",
     "output_type": "stream",
     "text": [
      "34\n"
     ]
    },
    {
     "name": "stderr",
     "output_type": "stream",
     "text": [
      "INFO:utils:35\n"
     ]
    },
    {
     "name": "stdout",
     "output_type": "stream",
     "text": [
      "35\n"
     ]
    },
    {
     "name": "stderr",
     "output_type": "stream",
     "text": [
      "INFO:utils:36\n"
     ]
    },
    {
     "name": "stdout",
     "output_type": "stream",
     "text": [
      "36\n"
     ]
    },
    {
     "name": "stderr",
     "output_type": "stream",
     "text": [
      "INFO:utils:37\n"
     ]
    },
    {
     "name": "stdout",
     "output_type": "stream",
     "text": [
      "37\n"
     ]
    },
    {
     "name": "stderr",
     "output_type": "stream",
     "text": [
      "INFO:utils:38\n"
     ]
    },
    {
     "name": "stdout",
     "output_type": "stream",
     "text": [
      "38\n"
     ]
    },
    {
     "name": "stderr",
     "output_type": "stream",
     "text": [
      "INFO:utils:39\n"
     ]
    },
    {
     "name": "stdout",
     "output_type": "stream",
     "text": [
      "39\n"
     ]
    },
    {
     "name": "stderr",
     "output_type": "stream",
     "text": [
      "INFO:utils:40\n"
     ]
    },
    {
     "name": "stdout",
     "output_type": "stream",
     "text": [
      "40\n"
     ]
    },
    {
     "name": "stderr",
     "output_type": "stream",
     "text": [
      "INFO:utils:41\n"
     ]
    },
    {
     "name": "stdout",
     "output_type": "stream",
     "text": [
      "41\n"
     ]
    },
    {
     "name": "stderr",
     "output_type": "stream",
     "text": [
      "INFO:utils:42\n"
     ]
    },
    {
     "name": "stdout",
     "output_type": "stream",
     "text": [
      "42\n"
     ]
    },
    {
     "name": "stderr",
     "output_type": "stream",
     "text": [
      "INFO:utils:43\n"
     ]
    },
    {
     "name": "stdout",
     "output_type": "stream",
     "text": [
      "43\n"
     ]
    },
    {
     "name": "stderr",
     "output_type": "stream",
     "text": [
      "INFO:utils:44\n"
     ]
    },
    {
     "name": "stdout",
     "output_type": "stream",
     "text": [
      "44\n"
     ]
    },
    {
     "name": "stderr",
     "output_type": "stream",
     "text": [
      "INFO:utils:45\n"
     ]
    },
    {
     "name": "stdout",
     "output_type": "stream",
     "text": [
      "45\n"
     ]
    },
    {
     "name": "stderr",
     "output_type": "stream",
     "text": [
      "INFO:utils:46\n"
     ]
    },
    {
     "name": "stdout",
     "output_type": "stream",
     "text": [
      "46\n"
     ]
    },
    {
     "name": "stderr",
     "output_type": "stream",
     "text": [
      "INFO:utils:47\n"
     ]
    },
    {
     "name": "stdout",
     "output_type": "stream",
     "text": [
      "47\n"
     ]
    },
    {
     "name": "stderr",
     "output_type": "stream",
     "text": [
      "INFO:utils:48\n"
     ]
    },
    {
     "name": "stdout",
     "output_type": "stream",
     "text": [
      "48\n"
     ]
    },
    {
     "name": "stderr",
     "output_type": "stream",
     "text": [
      "INFO:utils:49\n"
     ]
    },
    {
     "name": "stdout",
     "output_type": "stream",
     "text": [
      "49\n"
     ]
    },
    {
     "name": "stderr",
     "output_type": "stream",
     "text": [
      "INFO:utils:50\n"
     ]
    },
    {
     "name": "stdout",
     "output_type": "stream",
     "text": [
      "50\n",
      "51\n"
     ]
    },
    {
     "name": "stderr",
     "output_type": "stream",
     "text": [
      "INFO:utils:52\n"
     ]
    },
    {
     "name": "stdout",
     "output_type": "stream",
     "text": [
      "52\n",
      "53\n"
     ]
    },
    {
     "name": "stderr",
     "output_type": "stream",
     "text": [
      "INFO:utils:54\n"
     ]
    },
    {
     "name": "stdout",
     "output_type": "stream",
     "text": [
      "54\n"
     ]
    },
    {
     "name": "stderr",
     "output_type": "stream",
     "text": [
      "INFO:utils:55\n"
     ]
    },
    {
     "name": "stdout",
     "output_type": "stream",
     "text": [
      "55\n"
     ]
    },
    {
     "name": "stderr",
     "output_type": "stream",
     "text": [
      "INFO:utils:56\n"
     ]
    },
    {
     "name": "stdout",
     "output_type": "stream",
     "text": [
      "56\n"
     ]
    },
    {
     "name": "stderr",
     "output_type": "stream",
     "text": [
      "INFO:utils:57\n"
     ]
    },
    {
     "name": "stdout",
     "output_type": "stream",
     "text": [
      "57\n"
     ]
    },
    {
     "name": "stderr",
     "output_type": "stream",
     "text": [
      "INFO:utils:58\n"
     ]
    },
    {
     "name": "stdout",
     "output_type": "stream",
     "text": [
      "58\n"
     ]
    },
    {
     "name": "stderr",
     "output_type": "stream",
     "text": [
      "INFO:utils:59\n"
     ]
    },
    {
     "name": "stdout",
     "output_type": "stream",
     "text": [
      "59\n"
     ]
    },
    {
     "name": "stderr",
     "output_type": "stream",
     "text": [
      "INFO:utils:60\n"
     ]
    },
    {
     "name": "stdout",
     "output_type": "stream",
     "text": [
      "60\n"
     ]
    },
    {
     "name": "stderr",
     "output_type": "stream",
     "text": [
      "INFO:utils:61\n"
     ]
    },
    {
     "name": "stdout",
     "output_type": "stream",
     "text": [
      "61\n"
     ]
    },
    {
     "name": "stderr",
     "output_type": "stream",
     "text": [
      "INFO:utils:62\n"
     ]
    },
    {
     "name": "stdout",
     "output_type": "stream",
     "text": [
      "62\n"
     ]
    },
    {
     "name": "stderr",
     "output_type": "stream",
     "text": [
      "INFO:utils:63\n"
     ]
    },
    {
     "name": "stdout",
     "output_type": "stream",
     "text": [
      "63\n"
     ]
    },
    {
     "name": "stderr",
     "output_type": "stream",
     "text": [
      "INFO:utils:64\n"
     ]
    },
    {
     "name": "stdout",
     "output_type": "stream",
     "text": [
      "64\n",
      "  --- smooth steps: 10000---\n",
      "0\n"
     ]
    },
    {
     "name": "stderr",
     "output_type": "stream",
     "text": [
      "INFO:utils:1\n"
     ]
    },
    {
     "name": "stdout",
     "output_type": "stream",
     "text": [
      "1\n"
     ]
    },
    {
     "name": "stderr",
     "output_type": "stream",
     "text": [
      "INFO:utils:2\n"
     ]
    },
    {
     "name": "stdout",
     "output_type": "stream",
     "text": [
      "2\n"
     ]
    },
    {
     "name": "stderr",
     "output_type": "stream",
     "text": [
      "INFO:utils:3\n"
     ]
    },
    {
     "name": "stdout",
     "output_type": "stream",
     "text": [
      "3\n"
     ]
    },
    {
     "name": "stderr",
     "output_type": "stream",
     "text": [
      "INFO:utils:4\n"
     ]
    },
    {
     "name": "stdout",
     "output_type": "stream",
     "text": [
      "4\n"
     ]
    },
    {
     "name": "stderr",
     "output_type": "stream",
     "text": [
      "INFO:utils:5\n"
     ]
    },
    {
     "name": "stdout",
     "output_type": "stream",
     "text": [
      "5\n"
     ]
    },
    {
     "name": "stderr",
     "output_type": "stream",
     "text": [
      "INFO:utils:6\n"
     ]
    },
    {
     "name": "stdout",
     "output_type": "stream",
     "text": [
      "6\n"
     ]
    },
    {
     "name": "stderr",
     "output_type": "stream",
     "text": [
      "INFO:utils:7\n"
     ]
    },
    {
     "name": "stdout",
     "output_type": "stream",
     "text": [
      "7\n"
     ]
    },
    {
     "name": "stderr",
     "output_type": "stream",
     "text": [
      "INFO:utils:8\n"
     ]
    },
    {
     "name": "stdout",
     "output_type": "stream",
     "text": [
      "8\n"
     ]
    },
    {
     "name": "stderr",
     "output_type": "stream",
     "text": [
      "INFO:utils:9\n"
     ]
    },
    {
     "name": "stdout",
     "output_type": "stream",
     "text": [
      "9\n"
     ]
    },
    {
     "name": "stderr",
     "output_type": "stream",
     "text": [
      "INFO:utils:10\n"
     ]
    },
    {
     "name": "stdout",
     "output_type": "stream",
     "text": [
      "10\n"
     ]
    },
    {
     "name": "stderr",
     "output_type": "stream",
     "text": [
      "INFO:utils:11\n"
     ]
    },
    {
     "name": "stdout",
     "output_type": "stream",
     "text": [
      "11\n"
     ]
    },
    {
     "name": "stderr",
     "output_type": "stream",
     "text": [
      "INFO:utils:12\n"
     ]
    },
    {
     "name": "stdout",
     "output_type": "stream",
     "text": [
      "12\n"
     ]
    },
    {
     "name": "stderr",
     "output_type": "stream",
     "text": [
      "INFO:utils:13\n"
     ]
    },
    {
     "name": "stdout",
     "output_type": "stream",
     "text": [
      "13\n"
     ]
    },
    {
     "name": "stderr",
     "output_type": "stream",
     "text": [
      "INFO:utils:14\n"
     ]
    },
    {
     "name": "stdout",
     "output_type": "stream",
     "text": [
      "14\n"
     ]
    },
    {
     "name": "stderr",
     "output_type": "stream",
     "text": [
      "INFO:utils:15\n"
     ]
    },
    {
     "name": "stdout",
     "output_type": "stream",
     "text": [
      "15\n"
     ]
    },
    {
     "name": "stderr",
     "output_type": "stream",
     "text": [
      "INFO:utils:16\n"
     ]
    },
    {
     "name": "stdout",
     "output_type": "stream",
     "text": [
      "16\n"
     ]
    },
    {
     "name": "stderr",
     "output_type": "stream",
     "text": [
      "INFO:utils:17\n"
     ]
    },
    {
     "name": "stdout",
     "output_type": "stream",
     "text": [
      "17\n"
     ]
    },
    {
     "name": "stderr",
     "output_type": "stream",
     "text": [
      "INFO:utils:18\n"
     ]
    },
    {
     "name": "stdout",
     "output_type": "stream",
     "text": [
      "18\n"
     ]
    },
    {
     "name": "stderr",
     "output_type": "stream",
     "text": [
      "INFO:utils:19\n"
     ]
    },
    {
     "name": "stdout",
     "output_type": "stream",
     "text": [
      "19\n"
     ]
    },
    {
     "name": "stderr",
     "output_type": "stream",
     "text": [
      "INFO:utils:20\n"
     ]
    },
    {
     "name": "stdout",
     "output_type": "stream",
     "text": [
      "20\n"
     ]
    },
    {
     "name": "stderr",
     "output_type": "stream",
     "text": [
      "INFO:utils:21\n"
     ]
    },
    {
     "name": "stdout",
     "output_type": "stream",
     "text": [
      "21\n"
     ]
    },
    {
     "name": "stderr",
     "output_type": "stream",
     "text": [
      "INFO:utils:22\n"
     ]
    },
    {
     "name": "stdout",
     "output_type": "stream",
     "text": [
      "22\n"
     ]
    },
    {
     "name": "stderr",
     "output_type": "stream",
     "text": [
      "INFO:utils:23\n"
     ]
    },
    {
     "name": "stdout",
     "output_type": "stream",
     "text": [
      "23\n"
     ]
    },
    {
     "name": "stderr",
     "output_type": "stream",
     "text": [
      "INFO:utils:24\n"
     ]
    },
    {
     "name": "stdout",
     "output_type": "stream",
     "text": [
      "24\n"
     ]
    },
    {
     "name": "stderr",
     "output_type": "stream",
     "text": [
      "INFO:utils:25\n"
     ]
    },
    {
     "name": "stdout",
     "output_type": "stream",
     "text": [
      "25\n"
     ]
    },
    {
     "name": "stderr",
     "output_type": "stream",
     "text": [
      "INFO:utils:26\n"
     ]
    },
    {
     "name": "stdout",
     "output_type": "stream",
     "text": [
      "26\n"
     ]
    },
    {
     "name": "stderr",
     "output_type": "stream",
     "text": [
      "INFO:utils:27\n"
     ]
    },
    {
     "name": "stdout",
     "output_type": "stream",
     "text": [
      "27\n"
     ]
    },
    {
     "name": "stderr",
     "output_type": "stream",
     "text": [
      "INFO:utils:28\n"
     ]
    },
    {
     "name": "stdout",
     "output_type": "stream",
     "text": [
      "28\n"
     ]
    },
    {
     "name": "stderr",
     "output_type": "stream",
     "text": [
      "INFO:utils:29\n"
     ]
    },
    {
     "name": "stdout",
     "output_type": "stream",
     "text": [
      "29\n"
     ]
    },
    {
     "name": "stderr",
     "output_type": "stream",
     "text": [
      "INFO:utils:30\n"
     ]
    },
    {
     "name": "stdout",
     "output_type": "stream",
     "text": [
      "30\n"
     ]
    },
    {
     "name": "stderr",
     "output_type": "stream",
     "text": [
      "INFO:utils:31\n"
     ]
    },
    {
     "name": "stdout",
     "output_type": "stream",
     "text": [
      "31\n"
     ]
    },
    {
     "name": "stderr",
     "output_type": "stream",
     "text": [
      "INFO:utils:32\n"
     ]
    },
    {
     "name": "stdout",
     "output_type": "stream",
     "text": [
      "32\n"
     ]
    },
    {
     "name": "stderr",
     "output_type": "stream",
     "text": [
      "INFO:utils:33\n"
     ]
    },
    {
     "name": "stdout",
     "output_type": "stream",
     "text": [
      "33\n"
     ]
    },
    {
     "name": "stderr",
     "output_type": "stream",
     "text": [
      "INFO:utils:34\n"
     ]
    },
    {
     "name": "stdout",
     "output_type": "stream",
     "text": [
      "34\n"
     ]
    },
    {
     "name": "stderr",
     "output_type": "stream",
     "text": [
      "INFO:utils:35\n"
     ]
    },
    {
     "name": "stdout",
     "output_type": "stream",
     "text": [
      "35\n"
     ]
    },
    {
     "name": "stderr",
     "output_type": "stream",
     "text": [
      "INFO:utils:36\n"
     ]
    },
    {
     "name": "stdout",
     "output_type": "stream",
     "text": [
      "36\n"
     ]
    },
    {
     "name": "stderr",
     "output_type": "stream",
     "text": [
      "INFO:utils:37\n"
     ]
    },
    {
     "name": "stdout",
     "output_type": "stream",
     "text": [
      "37\n"
     ]
    },
    {
     "name": "stderr",
     "output_type": "stream",
     "text": [
      "INFO:utils:38\n"
     ]
    },
    {
     "name": "stdout",
     "output_type": "stream",
     "text": [
      "38\n"
     ]
    },
    {
     "name": "stderr",
     "output_type": "stream",
     "text": [
      "INFO:utils:39\n"
     ]
    },
    {
     "name": "stdout",
     "output_type": "stream",
     "text": [
      "39\n"
     ]
    },
    {
     "name": "stderr",
     "output_type": "stream",
     "text": [
      "INFO:utils:40\n"
     ]
    },
    {
     "name": "stdout",
     "output_type": "stream",
     "text": [
      "40\n"
     ]
    },
    {
     "name": "stderr",
     "output_type": "stream",
     "text": [
      "INFO:utils:41\n"
     ]
    },
    {
     "name": "stdout",
     "output_type": "stream",
     "text": [
      "41\n"
     ]
    },
    {
     "name": "stderr",
     "output_type": "stream",
     "text": [
      "INFO:utils:42\n"
     ]
    },
    {
     "name": "stdout",
     "output_type": "stream",
     "text": [
      "42\n"
     ]
    },
    {
     "name": "stderr",
     "output_type": "stream",
     "text": [
      "INFO:utils:43\n"
     ]
    },
    {
     "name": "stdout",
     "output_type": "stream",
     "text": [
      "43\n"
     ]
    },
    {
     "name": "stderr",
     "output_type": "stream",
     "text": [
      "INFO:utils:44\n"
     ]
    },
    {
     "name": "stdout",
     "output_type": "stream",
     "text": [
      "44\n"
     ]
    },
    {
     "name": "stderr",
     "output_type": "stream",
     "text": [
      "INFO:utils:45\n"
     ]
    },
    {
     "name": "stdout",
     "output_type": "stream",
     "text": [
      "45\n"
     ]
    },
    {
     "name": "stderr",
     "output_type": "stream",
     "text": [
      "INFO:utils:46\n"
     ]
    },
    {
     "name": "stdout",
     "output_type": "stream",
     "text": [
      "46\n"
     ]
    },
    {
     "name": "stderr",
     "output_type": "stream",
     "text": [
      "INFO:utils:47\n"
     ]
    },
    {
     "name": "stdout",
     "output_type": "stream",
     "text": [
      "47\n"
     ]
    },
    {
     "name": "stderr",
     "output_type": "stream",
     "text": [
      "INFO:utils:48\n"
     ]
    },
    {
     "name": "stdout",
     "output_type": "stream",
     "text": [
      "48\n"
     ]
    },
    {
     "name": "stderr",
     "output_type": "stream",
     "text": [
      "INFO:utils:49\n"
     ]
    },
    {
     "name": "stdout",
     "output_type": "stream",
     "text": [
      "49\n"
     ]
    },
    {
     "name": "stderr",
     "output_type": "stream",
     "text": [
      "INFO:utils:50\n"
     ]
    },
    {
     "name": "stdout",
     "output_type": "stream",
     "text": [
      "50\n"
     ]
    },
    {
     "name": "stderr",
     "output_type": "stream",
     "text": [
      "INFO:utils:51\n"
     ]
    },
    {
     "name": "stdout",
     "output_type": "stream",
     "text": [
      "51\n"
     ]
    },
    {
     "name": "stderr",
     "output_type": "stream",
     "text": [
      "INFO:utils:52\n"
     ]
    },
    {
     "name": "stdout",
     "output_type": "stream",
     "text": [
      "52\n"
     ]
    },
    {
     "name": "stderr",
     "output_type": "stream",
     "text": [
      "INFO:utils:53\n"
     ]
    },
    {
     "name": "stdout",
     "output_type": "stream",
     "text": [
      "53\n"
     ]
    },
    {
     "name": "stderr",
     "output_type": "stream",
     "text": [
      "INFO:utils:54\n"
     ]
    },
    {
     "name": "stdout",
     "output_type": "stream",
     "text": [
      "54\n"
     ]
    },
    {
     "name": "stderr",
     "output_type": "stream",
     "text": [
      "INFO:utils:55\n"
     ]
    },
    {
     "name": "stdout",
     "output_type": "stream",
     "text": [
      "55\n"
     ]
    },
    {
     "name": "stderr",
     "output_type": "stream",
     "text": [
      "INFO:utils:56\n"
     ]
    },
    {
     "name": "stdout",
     "output_type": "stream",
     "text": [
      "56\n"
     ]
    },
    {
     "name": "stderr",
     "output_type": "stream",
     "text": [
      "INFO:utils:57\n"
     ]
    },
    {
     "name": "stdout",
     "output_type": "stream",
     "text": [
      "57\n"
     ]
    },
    {
     "name": "stderr",
     "output_type": "stream",
     "text": [
      "INFO:utils:58\n"
     ]
    },
    {
     "name": "stdout",
     "output_type": "stream",
     "text": [
      "58\n"
     ]
    },
    {
     "name": "stderr",
     "output_type": "stream",
     "text": [
      "INFO:utils:59\n"
     ]
    },
    {
     "name": "stdout",
     "output_type": "stream",
     "text": [
      "59\n"
     ]
    },
    {
     "name": "stderr",
     "output_type": "stream",
     "text": [
      "INFO:utils:60\n"
     ]
    },
    {
     "name": "stdout",
     "output_type": "stream",
     "text": [
      "60\n"
     ]
    },
    {
     "name": "stderr",
     "output_type": "stream",
     "text": [
      "INFO:utils:61\n"
     ]
    },
    {
     "name": "stdout",
     "output_type": "stream",
     "text": [
      "61\n"
     ]
    },
    {
     "name": "stderr",
     "output_type": "stream",
     "text": [
      "INFO:utils:62\n"
     ]
    },
    {
     "name": "stdout",
     "output_type": "stream",
     "text": [
      "62\n"
     ]
    },
    {
     "name": "stderr",
     "output_type": "stream",
     "text": [
      "INFO:utils:63\n"
     ]
    },
    {
     "name": "stdout",
     "output_type": "stream",
     "text": [
      "63\n"
     ]
    },
    {
     "name": "stderr",
     "output_type": "stream",
     "text": [
      "INFO:utils:64\n"
     ]
    },
    {
     "name": "stdout",
     "output_type": "stream",
     "text": [
      "64\n",
      "----- SMOOTH TYPE: constant -----\n",
      "  --- smooth steps: 0---\n",
      "0\n"
     ]
    },
    {
     "name": "stderr",
     "output_type": "stream",
     "text": [
      "INFO:utils:1\n"
     ]
    },
    {
     "name": "stdout",
     "output_type": "stream",
     "text": [
      "1\n",
      "2\n",
      "3\n"
     ]
    },
    {
     "name": "stderr",
     "output_type": "stream",
     "text": [
      "INFO:utils:4\n"
     ]
    },
    {
     "name": "stdout",
     "output_type": "stream",
     "text": [
      "4\n"
     ]
    },
    {
     "name": "stderr",
     "output_type": "stream",
     "text": [
      "INFO:utils:5\n"
     ]
    },
    {
     "name": "stdout",
     "output_type": "stream",
     "text": [
      "5\n",
      "6\n",
      "7\n"
     ]
    },
    {
     "name": "stderr",
     "output_type": "stream",
     "text": [
      "INFO:utils:8\n"
     ]
    },
    {
     "name": "stdout",
     "output_type": "stream",
     "text": [
      "8\n"
     ]
    },
    {
     "name": "stderr",
     "output_type": "stream",
     "text": [
      "INFO:utils:9\n"
     ]
    },
    {
     "name": "stdout",
     "output_type": "stream",
     "text": [
      "9\n",
      "10\n",
      "11\n"
     ]
    },
    {
     "name": "stderr",
     "output_type": "stream",
     "text": [
      "INFO:utils:12\n"
     ]
    },
    {
     "name": "stdout",
     "output_type": "stream",
     "text": [
      "12\n"
     ]
    },
    {
     "name": "stderr",
     "output_type": "stream",
     "text": [
      "INFO:utils:13\n"
     ]
    },
    {
     "name": "stdout",
     "output_type": "stream",
     "text": [
      "13\n",
      "14\n",
      "15\n"
     ]
    },
    {
     "name": "stderr",
     "output_type": "stream",
     "text": [
      "INFO:utils:16\n"
     ]
    },
    {
     "name": "stdout",
     "output_type": "stream",
     "text": [
      "16\n",
      "17\n"
     ]
    },
    {
     "name": "stderr",
     "output_type": "stream",
     "text": [
      "INFO:utils:18\n"
     ]
    },
    {
     "name": "stdout",
     "output_type": "stream",
     "text": [
      "18\n"
     ]
    },
    {
     "name": "stderr",
     "output_type": "stream",
     "text": [
      "INFO:utils:19\n"
     ]
    },
    {
     "name": "stdout",
     "output_type": "stream",
     "text": [
      "19\n",
      "20\n",
      "21\n"
     ]
    },
    {
     "name": "stderr",
     "output_type": "stream",
     "text": [
      "INFO:utils:22\n"
     ]
    },
    {
     "name": "stdout",
     "output_type": "stream",
     "text": [
      "22\n"
     ]
    },
    {
     "name": "stderr",
     "output_type": "stream",
     "text": [
      "INFO:utils:23\n"
     ]
    },
    {
     "name": "stdout",
     "output_type": "stream",
     "text": [
      "23\n",
      "24\n",
      "25\n"
     ]
    },
    {
     "name": "stderr",
     "output_type": "stream",
     "text": [
      "INFO:utils:26\n"
     ]
    },
    {
     "name": "stdout",
     "output_type": "stream",
     "text": [
      "26\n"
     ]
    },
    {
     "name": "stderr",
     "output_type": "stream",
     "text": [
      "INFO:utils:27\n"
     ]
    },
    {
     "name": "stdout",
     "output_type": "stream",
     "text": [
      "27\n"
     ]
    },
    {
     "name": "stderr",
     "output_type": "stream",
     "text": [
      "INFO:utils:28\n"
     ]
    },
    {
     "name": "stdout",
     "output_type": "stream",
     "text": [
      "28\n",
      "29\n",
      "30\n"
     ]
    },
    {
     "name": "stderr",
     "output_type": "stream",
     "text": [
      "INFO:utils:31\n"
     ]
    },
    {
     "name": "stdout",
     "output_type": "stream",
     "text": [
      "31\n",
      "32\n"
     ]
    },
    {
     "name": "stderr",
     "output_type": "stream",
     "text": [
      "INFO:utils:33\n"
     ]
    },
    {
     "name": "stdout",
     "output_type": "stream",
     "text": [
      "33\n",
      "34\n"
     ]
    },
    {
     "name": "stderr",
     "output_type": "stream",
     "text": [
      "INFO:utils:35\n"
     ]
    },
    {
     "name": "stdout",
     "output_type": "stream",
     "text": [
      "35\n",
      "36\n"
     ]
    },
    {
     "name": "stderr",
     "output_type": "stream",
     "text": [
      "INFO:utils:37\n"
     ]
    },
    {
     "name": "stdout",
     "output_type": "stream",
     "text": [
      "37\n",
      "38\n"
     ]
    },
    {
     "name": "stderr",
     "output_type": "stream",
     "text": [
      "INFO:utils:39\n"
     ]
    },
    {
     "name": "stdout",
     "output_type": "stream",
     "text": [
      "39\n",
      "40\n",
      "41\n"
     ]
    },
    {
     "name": "stderr",
     "output_type": "stream",
     "text": [
      "INFO:utils:42\n"
     ]
    },
    {
     "name": "stdout",
     "output_type": "stream",
     "text": [
      "42\n",
      "43\n",
      "44\n"
     ]
    },
    {
     "name": "stderr",
     "output_type": "stream",
     "text": [
      "INFO:utils:45\n"
     ]
    },
    {
     "name": "stdout",
     "output_type": "stream",
     "text": [
      "45\n",
      "46\n",
      "47\n"
     ]
    },
    {
     "name": "stderr",
     "output_type": "stream",
     "text": [
      "INFO:utils:48\n"
     ]
    },
    {
     "name": "stdout",
     "output_type": "stream",
     "text": [
      "48\n",
      "49\n"
     ]
    },
    {
     "name": "stderr",
     "output_type": "stream",
     "text": [
      "INFO:utils:50\n"
     ]
    },
    {
     "name": "stdout",
     "output_type": "stream",
     "text": [
      "50\n",
      "51\n",
      "52\n",
      "53\n"
     ]
    },
    {
     "name": "stderr",
     "output_type": "stream",
     "text": [
      "INFO:utils:54\n"
     ]
    },
    {
     "name": "stdout",
     "output_type": "stream",
     "text": [
      "54\n",
      "55\n",
      "56\n",
      "57\n"
     ]
    },
    {
     "name": "stderr",
     "output_type": "stream",
     "text": [
      "INFO:utils:58\n"
     ]
    },
    {
     "name": "stdout",
     "output_type": "stream",
     "text": [
      "58\n",
      "59\n",
      "60\n",
      "61\n"
     ]
    },
    {
     "name": "stderr",
     "output_type": "stream",
     "text": [
      "INFO:utils:62\n"
     ]
    },
    {
     "name": "stdout",
     "output_type": "stream",
     "text": [
      "62\n"
     ]
    },
    {
     "name": "stderr",
     "output_type": "stream",
     "text": [
      "INFO:utils:63\n"
     ]
    },
    {
     "name": "stdout",
     "output_type": "stream",
     "text": [
      "63\n",
      "64\n",
      "  --- smooth steps: 10---\n",
      "0\n"
     ]
    },
    {
     "name": "stderr",
     "output_type": "stream",
     "text": [
      "INFO:utils:1\n"
     ]
    },
    {
     "name": "stdout",
     "output_type": "stream",
     "text": [
      "1\n",
      "2\n",
      "3\n"
     ]
    },
    {
     "name": "stderr",
     "output_type": "stream",
     "text": [
      "INFO:utils:4\n"
     ]
    },
    {
     "name": "stdout",
     "output_type": "stream",
     "text": [
      "4\n"
     ]
    },
    {
     "name": "stderr",
     "output_type": "stream",
     "text": [
      "INFO:utils:5\n"
     ]
    },
    {
     "name": "stdout",
     "output_type": "stream",
     "text": [
      "5\n",
      "6\n",
      "7\n"
     ]
    },
    {
     "name": "stderr",
     "output_type": "stream",
     "text": [
      "INFO:utils:8\n"
     ]
    },
    {
     "name": "stdout",
     "output_type": "stream",
     "text": [
      "8\n"
     ]
    },
    {
     "name": "stderr",
     "output_type": "stream",
     "text": [
      "INFO:utils:9\n"
     ]
    },
    {
     "name": "stdout",
     "output_type": "stream",
     "text": [
      "9\n",
      "10\n",
      "11\n"
     ]
    },
    {
     "name": "stderr",
     "output_type": "stream",
     "text": [
      "INFO:utils:12\n"
     ]
    },
    {
     "name": "stdout",
     "output_type": "stream",
     "text": [
      "12\n"
     ]
    },
    {
     "name": "stderr",
     "output_type": "stream",
     "text": [
      "INFO:utils:13\n"
     ]
    },
    {
     "name": "stdout",
     "output_type": "stream",
     "text": [
      "13\n",
      "14\n",
      "15\n"
     ]
    },
    {
     "name": "stderr",
     "output_type": "stream",
     "text": [
      "INFO:utils:16\n"
     ]
    },
    {
     "name": "stdout",
     "output_type": "stream",
     "text": [
      "16\n",
      "17\n"
     ]
    },
    {
     "name": "stderr",
     "output_type": "stream",
     "text": [
      "INFO:utils:18\n"
     ]
    },
    {
     "name": "stdout",
     "output_type": "stream",
     "text": [
      "18\n"
     ]
    },
    {
     "name": "stderr",
     "output_type": "stream",
     "text": [
      "INFO:utils:19\n"
     ]
    },
    {
     "name": "stdout",
     "output_type": "stream",
     "text": [
      "19\n",
      "20\n"
     ]
    },
    {
     "name": "stderr",
     "output_type": "stream",
     "text": [
      "INFO:utils:21\n"
     ]
    },
    {
     "name": "stdout",
     "output_type": "stream",
     "text": [
      "21\n",
      "22\n"
     ]
    },
    {
     "name": "stderr",
     "output_type": "stream",
     "text": [
      "INFO:utils:23\n"
     ]
    },
    {
     "name": "stdout",
     "output_type": "stream",
     "text": [
      "23\n",
      "24\n",
      "25\n"
     ]
    },
    {
     "name": "stderr",
     "output_type": "stream",
     "text": [
      "INFO:utils:26\n"
     ]
    },
    {
     "name": "stdout",
     "output_type": "stream",
     "text": [
      "26\n"
     ]
    },
    {
     "name": "stderr",
     "output_type": "stream",
     "text": [
      "INFO:utils:27\n"
     ]
    },
    {
     "name": "stdout",
     "output_type": "stream",
     "text": [
      "27\n"
     ]
    },
    {
     "name": "stderr",
     "output_type": "stream",
     "text": [
      "INFO:utils:28\n"
     ]
    },
    {
     "name": "stdout",
     "output_type": "stream",
     "text": [
      "28\n",
      "29\n"
     ]
    },
    {
     "name": "stderr",
     "output_type": "stream",
     "text": [
      "INFO:utils:30\n"
     ]
    },
    {
     "name": "stdout",
     "output_type": "stream",
     "text": [
      "30\n"
     ]
    },
    {
     "name": "stderr",
     "output_type": "stream",
     "text": [
      "INFO:utils:31\n"
     ]
    },
    {
     "name": "stdout",
     "output_type": "stream",
     "text": [
      "31\n",
      "32\n"
     ]
    },
    {
     "name": "stderr",
     "output_type": "stream",
     "text": [
      "INFO:utils:33\n"
     ]
    },
    {
     "name": "stdout",
     "output_type": "stream",
     "text": [
      "33\n",
      "34\n"
     ]
    },
    {
     "name": "stderr",
     "output_type": "stream",
     "text": [
      "INFO:utils:35\n"
     ]
    },
    {
     "name": "stdout",
     "output_type": "stream",
     "text": [
      "35\n",
      "36\n"
     ]
    },
    {
     "name": "stderr",
     "output_type": "stream",
     "text": [
      "INFO:utils:37\n"
     ]
    },
    {
     "name": "stdout",
     "output_type": "stream",
     "text": [
      "37\n",
      "38\n"
     ]
    },
    {
     "name": "stderr",
     "output_type": "stream",
     "text": [
      "INFO:utils:39\n"
     ]
    },
    {
     "name": "stdout",
     "output_type": "stream",
     "text": [
      "39\n",
      "40\n",
      "41\n"
     ]
    },
    {
     "name": "stderr",
     "output_type": "stream",
     "text": [
      "INFO:utils:42\n"
     ]
    },
    {
     "name": "stdout",
     "output_type": "stream",
     "text": [
      "42\n",
      "43\n",
      "44\n"
     ]
    },
    {
     "name": "stderr",
     "output_type": "stream",
     "text": [
      "INFO:utils:45\n"
     ]
    },
    {
     "name": "stdout",
     "output_type": "stream",
     "text": [
      "45\n",
      "46\n",
      "47\n"
     ]
    },
    {
     "name": "stderr",
     "output_type": "stream",
     "text": [
      "INFO:utils:48\n"
     ]
    },
    {
     "name": "stdout",
     "output_type": "stream",
     "text": [
      "48\n",
      "49\n"
     ]
    },
    {
     "name": "stderr",
     "output_type": "stream",
     "text": [
      "INFO:utils:50\n"
     ]
    },
    {
     "name": "stdout",
     "output_type": "stream",
     "text": [
      "50\n",
      "51\n",
      "52\n",
      "53\n"
     ]
    },
    {
     "name": "stderr",
     "output_type": "stream",
     "text": [
      "INFO:utils:54\n"
     ]
    },
    {
     "name": "stdout",
     "output_type": "stream",
     "text": [
      "54\n",
      "55\n",
      "56\n",
      "57\n"
     ]
    },
    {
     "name": "stderr",
     "output_type": "stream",
     "text": [
      "INFO:utils:58\n"
     ]
    },
    {
     "name": "stdout",
     "output_type": "stream",
     "text": [
      "58\n",
      "59\n",
      "60\n",
      "61\n"
     ]
    },
    {
     "name": "stderr",
     "output_type": "stream",
     "text": [
      "INFO:utils:62\n"
     ]
    },
    {
     "name": "stdout",
     "output_type": "stream",
     "text": [
      "62\n"
     ]
    },
    {
     "name": "stderr",
     "output_type": "stream",
     "text": [
      "INFO:utils:63\n"
     ]
    },
    {
     "name": "stdout",
     "output_type": "stream",
     "text": [
      "63\n",
      "64\n",
      "  --- smooth steps: 100---\n",
      "0\n"
     ]
    },
    {
     "name": "stderr",
     "output_type": "stream",
     "text": [
      "INFO:utils:1\n"
     ]
    },
    {
     "name": "stdout",
     "output_type": "stream",
     "text": [
      "1\n",
      "2\n",
      "3\n"
     ]
    },
    {
     "name": "stderr",
     "output_type": "stream",
     "text": [
      "INFO:utils:4\n"
     ]
    },
    {
     "name": "stdout",
     "output_type": "stream",
     "text": [
      "4\n"
     ]
    },
    {
     "name": "stderr",
     "output_type": "stream",
     "text": [
      "INFO:utils:5\n"
     ]
    },
    {
     "name": "stdout",
     "output_type": "stream",
     "text": [
      "5\n",
      "6\n",
      "7\n"
     ]
    },
    {
     "name": "stderr",
     "output_type": "stream",
     "text": [
      "INFO:utils:8\n"
     ]
    },
    {
     "name": "stdout",
     "output_type": "stream",
     "text": [
      "8\n"
     ]
    },
    {
     "name": "stderr",
     "output_type": "stream",
     "text": [
      "INFO:utils:9\n"
     ]
    },
    {
     "name": "stdout",
     "output_type": "stream",
     "text": [
      "9\n",
      "10\n",
      "11\n"
     ]
    },
    {
     "name": "stderr",
     "output_type": "stream",
     "text": [
      "INFO:utils:12\n"
     ]
    },
    {
     "name": "stdout",
     "output_type": "stream",
     "text": [
      "12\n"
     ]
    },
    {
     "name": "stderr",
     "output_type": "stream",
     "text": [
      "INFO:utils:13\n"
     ]
    },
    {
     "name": "stdout",
     "output_type": "stream",
     "text": [
      "13\n",
      "14\n",
      "15\n"
     ]
    },
    {
     "name": "stderr",
     "output_type": "stream",
     "text": [
      "INFO:utils:16\n"
     ]
    },
    {
     "name": "stdout",
     "output_type": "stream",
     "text": [
      "16\n",
      "17\n"
     ]
    },
    {
     "name": "stderr",
     "output_type": "stream",
     "text": [
      "INFO:utils:18\n"
     ]
    },
    {
     "name": "stdout",
     "output_type": "stream",
     "text": [
      "18\n"
     ]
    },
    {
     "name": "stderr",
     "output_type": "stream",
     "text": [
      "INFO:utils:19\n"
     ]
    },
    {
     "name": "stdout",
     "output_type": "stream",
     "text": [
      "19\n",
      "20\n"
     ]
    },
    {
     "name": "stderr",
     "output_type": "stream",
     "text": [
      "INFO:utils:21\n"
     ]
    },
    {
     "name": "stdout",
     "output_type": "stream",
     "text": [
      "21\n",
      "22\n"
     ]
    },
    {
     "name": "stderr",
     "output_type": "stream",
     "text": [
      "INFO:utils:23\n"
     ]
    },
    {
     "name": "stdout",
     "output_type": "stream",
     "text": [
      "23\n",
      "24\n",
      "25\n"
     ]
    },
    {
     "name": "stderr",
     "output_type": "stream",
     "text": [
      "INFO:utils:26\n"
     ]
    },
    {
     "name": "stdout",
     "output_type": "stream",
     "text": [
      "26\n"
     ]
    },
    {
     "name": "stderr",
     "output_type": "stream",
     "text": [
      "INFO:utils:27\n"
     ]
    },
    {
     "name": "stdout",
     "output_type": "stream",
     "text": [
      "27\n"
     ]
    },
    {
     "name": "stderr",
     "output_type": "stream",
     "text": [
      "INFO:utils:28\n"
     ]
    },
    {
     "name": "stdout",
     "output_type": "stream",
     "text": [
      "28\n",
      "29\n"
     ]
    },
    {
     "name": "stderr",
     "output_type": "stream",
     "text": [
      "INFO:utils:30\n"
     ]
    },
    {
     "name": "stdout",
     "output_type": "stream",
     "text": [
      "30\n"
     ]
    },
    {
     "name": "stderr",
     "output_type": "stream",
     "text": [
      "INFO:utils:31\n"
     ]
    },
    {
     "name": "stdout",
     "output_type": "stream",
     "text": [
      "31\n",
      "32\n"
     ]
    },
    {
     "name": "stderr",
     "output_type": "stream",
     "text": [
      "INFO:utils:33\n"
     ]
    },
    {
     "name": "stdout",
     "output_type": "stream",
     "text": [
      "33\n",
      "34\n"
     ]
    },
    {
     "name": "stderr",
     "output_type": "stream",
     "text": [
      "INFO:utils:35\n"
     ]
    },
    {
     "name": "stdout",
     "output_type": "stream",
     "text": [
      "35\n",
      "36\n"
     ]
    },
    {
     "name": "stderr",
     "output_type": "stream",
     "text": [
      "INFO:utils:37\n"
     ]
    },
    {
     "name": "stdout",
     "output_type": "stream",
     "text": [
      "37\n",
      "38\n"
     ]
    },
    {
     "name": "stderr",
     "output_type": "stream",
     "text": [
      "INFO:utils:39\n"
     ]
    },
    {
     "name": "stdout",
     "output_type": "stream",
     "text": [
      "39\n",
      "40\n",
      "41\n"
     ]
    },
    {
     "name": "stderr",
     "output_type": "stream",
     "text": [
      "INFO:utils:42\n"
     ]
    },
    {
     "name": "stdout",
     "output_type": "stream",
     "text": [
      "42\n",
      "43\n",
      "44\n"
     ]
    },
    {
     "name": "stderr",
     "output_type": "stream",
     "text": [
      "INFO:utils:45\n"
     ]
    },
    {
     "name": "stdout",
     "output_type": "stream",
     "text": [
      "45\n",
      "46\n",
      "47\n"
     ]
    },
    {
     "name": "stderr",
     "output_type": "stream",
     "text": [
      "INFO:utils:48\n"
     ]
    },
    {
     "name": "stdout",
     "output_type": "stream",
     "text": [
      "48\n",
      "49\n"
     ]
    },
    {
     "name": "stderr",
     "output_type": "stream",
     "text": [
      "INFO:utils:50\n"
     ]
    },
    {
     "name": "stdout",
     "output_type": "stream",
     "text": [
      "50\n",
      "51\n",
      "52\n",
      "53\n"
     ]
    },
    {
     "name": "stderr",
     "output_type": "stream",
     "text": [
      "INFO:utils:54\n"
     ]
    },
    {
     "name": "stdout",
     "output_type": "stream",
     "text": [
      "54\n",
      "55\n",
      "56\n",
      "57\n"
     ]
    },
    {
     "name": "stderr",
     "output_type": "stream",
     "text": [
      "INFO:utils:58\n"
     ]
    },
    {
     "name": "stdout",
     "output_type": "stream",
     "text": [
      "58\n",
      "59\n",
      "60\n"
     ]
    },
    {
     "name": "stderr",
     "output_type": "stream",
     "text": [
      "INFO:utils:61\n"
     ]
    },
    {
     "name": "stdout",
     "output_type": "stream",
     "text": [
      "61\n",
      "62\n"
     ]
    },
    {
     "name": "stderr",
     "output_type": "stream",
     "text": [
      "INFO:utils:63\n"
     ]
    },
    {
     "name": "stdout",
     "output_type": "stream",
     "text": [
      "63\n",
      "64\n",
      "  --- smooth steps: 1000---\n",
      "0\n"
     ]
    },
    {
     "name": "stderr",
     "output_type": "stream",
     "text": [
      "INFO:utils:1\n"
     ]
    },
    {
     "name": "stdout",
     "output_type": "stream",
     "text": [
      "1\n",
      "2\n",
      "3\n"
     ]
    },
    {
     "name": "stderr",
     "output_type": "stream",
     "text": [
      "INFO:utils:4\n"
     ]
    },
    {
     "name": "stdout",
     "output_type": "stream",
     "text": [
      "4\n"
     ]
    },
    {
     "name": "stderr",
     "output_type": "stream",
     "text": [
      "INFO:utils:5\n"
     ]
    },
    {
     "name": "stdout",
     "output_type": "stream",
     "text": [
      "5\n",
      "6\n",
      "7\n"
     ]
    },
    {
     "name": "stderr",
     "output_type": "stream",
     "text": [
      "INFO:utils:8\n"
     ]
    },
    {
     "name": "stdout",
     "output_type": "stream",
     "text": [
      "8\n"
     ]
    },
    {
     "name": "stderr",
     "output_type": "stream",
     "text": [
      "INFO:utils:9\n"
     ]
    },
    {
     "name": "stdout",
     "output_type": "stream",
     "text": [
      "9\n",
      "10\n",
      "11\n"
     ]
    },
    {
     "name": "stderr",
     "output_type": "stream",
     "text": [
      "INFO:utils:12\n"
     ]
    },
    {
     "name": "stdout",
     "output_type": "stream",
     "text": [
      "12\n"
     ]
    },
    {
     "name": "stderr",
     "output_type": "stream",
     "text": [
      "INFO:utils:13\n"
     ]
    },
    {
     "name": "stdout",
     "output_type": "stream",
     "text": [
      "13\n",
      "14\n",
      "15\n"
     ]
    },
    {
     "name": "stderr",
     "output_type": "stream",
     "text": [
      "INFO:utils:16\n"
     ]
    },
    {
     "name": "stdout",
     "output_type": "stream",
     "text": [
      "16\n",
      "17\n"
     ]
    },
    {
     "name": "stderr",
     "output_type": "stream",
     "text": [
      "INFO:utils:18\n"
     ]
    },
    {
     "name": "stdout",
     "output_type": "stream",
     "text": [
      "18\n"
     ]
    },
    {
     "name": "stderr",
     "output_type": "stream",
     "text": [
      "INFO:utils:19\n"
     ]
    },
    {
     "name": "stdout",
     "output_type": "stream",
     "text": [
      "19\n",
      "20\n"
     ]
    },
    {
     "name": "stderr",
     "output_type": "stream",
     "text": [
      "INFO:utils:21\n"
     ]
    },
    {
     "name": "stdout",
     "output_type": "stream",
     "text": [
      "21\n",
      "22\n"
     ]
    },
    {
     "name": "stderr",
     "output_type": "stream",
     "text": [
      "INFO:utils:23\n"
     ]
    },
    {
     "name": "stdout",
     "output_type": "stream",
     "text": [
      "23\n",
      "24\n",
      "25\n"
     ]
    },
    {
     "name": "stderr",
     "output_type": "stream",
     "text": [
      "INFO:utils:26\n"
     ]
    },
    {
     "name": "stdout",
     "output_type": "stream",
     "text": [
      "26\n"
     ]
    },
    {
     "name": "stderr",
     "output_type": "stream",
     "text": [
      "INFO:utils:27\n"
     ]
    },
    {
     "name": "stdout",
     "output_type": "stream",
     "text": [
      "27\n"
     ]
    },
    {
     "name": "stderr",
     "output_type": "stream",
     "text": [
      "INFO:utils:28\n"
     ]
    },
    {
     "name": "stdout",
     "output_type": "stream",
     "text": [
      "28\n",
      "29\n"
     ]
    },
    {
     "name": "stderr",
     "output_type": "stream",
     "text": [
      "INFO:utils:30\n"
     ]
    },
    {
     "name": "stdout",
     "output_type": "stream",
     "text": [
      "30\n"
     ]
    },
    {
     "name": "stderr",
     "output_type": "stream",
     "text": [
      "INFO:utils:31\n"
     ]
    },
    {
     "name": "stdout",
     "output_type": "stream",
     "text": [
      "31\n",
      "32\n"
     ]
    },
    {
     "name": "stderr",
     "output_type": "stream",
     "text": [
      "INFO:utils:33\n"
     ]
    },
    {
     "name": "stdout",
     "output_type": "stream",
     "text": [
      "33\n",
      "34\n"
     ]
    },
    {
     "name": "stderr",
     "output_type": "stream",
     "text": [
      "INFO:utils:35\n"
     ]
    },
    {
     "name": "stdout",
     "output_type": "stream",
     "text": [
      "35\n",
      "36\n"
     ]
    },
    {
     "name": "stderr",
     "output_type": "stream",
     "text": [
      "INFO:utils:37\n"
     ]
    },
    {
     "name": "stdout",
     "output_type": "stream",
     "text": [
      "37\n",
      "38\n"
     ]
    },
    {
     "name": "stderr",
     "output_type": "stream",
     "text": [
      "INFO:utils:39\n"
     ]
    },
    {
     "name": "stdout",
     "output_type": "stream",
     "text": [
      "39\n",
      "40\n"
     ]
    },
    {
     "name": "stderr",
     "output_type": "stream",
     "text": [
      "INFO:utils:41\n"
     ]
    },
    {
     "name": "stdout",
     "output_type": "stream",
     "text": [
      "41\n"
     ]
    },
    {
     "name": "stderr",
     "output_type": "stream",
     "text": [
      "INFO:utils:42\n"
     ]
    },
    {
     "name": "stdout",
     "output_type": "stream",
     "text": [
      "42\n",
      "43\n",
      "44\n"
     ]
    },
    {
     "name": "stderr",
     "output_type": "stream",
     "text": [
      "INFO:utils:45\n"
     ]
    },
    {
     "name": "stdout",
     "output_type": "stream",
     "text": [
      "45\n",
      "46\n",
      "47\n"
     ]
    },
    {
     "name": "stderr",
     "output_type": "stream",
     "text": [
      "INFO:utils:48\n"
     ]
    },
    {
     "name": "stdout",
     "output_type": "stream",
     "text": [
      "48\n",
      "49\n"
     ]
    },
    {
     "name": "stderr",
     "output_type": "stream",
     "text": [
      "INFO:utils:50\n"
     ]
    },
    {
     "name": "stdout",
     "output_type": "stream",
     "text": [
      "50\n",
      "51\n",
      "52\n",
      "53\n"
     ]
    },
    {
     "name": "stderr",
     "output_type": "stream",
     "text": [
      "INFO:utils:54\n"
     ]
    },
    {
     "name": "stdout",
     "output_type": "stream",
     "text": [
      "54\n",
      "55\n",
      "56\n",
      "57\n"
     ]
    },
    {
     "name": "stderr",
     "output_type": "stream",
     "text": [
      "INFO:utils:58\n"
     ]
    },
    {
     "name": "stdout",
     "output_type": "stream",
     "text": [
      "58\n",
      "59\n",
      "60\n",
      "61\n"
     ]
    },
    {
     "name": "stderr",
     "output_type": "stream",
     "text": [
      "INFO:utils:62\n"
     ]
    },
    {
     "name": "stdout",
     "output_type": "stream",
     "text": [
      "62\n"
     ]
    },
    {
     "name": "stderr",
     "output_type": "stream",
     "text": [
      "INFO:utils:63\n"
     ]
    },
    {
     "name": "stdout",
     "output_type": "stream",
     "text": [
      "63\n",
      "64\n",
      "  --- smooth steps: 10000---\n",
      "0\n"
     ]
    },
    {
     "name": "stderr",
     "output_type": "stream",
     "text": [
      "INFO:utils:1\n"
     ]
    },
    {
     "name": "stdout",
     "output_type": "stream",
     "text": [
      "1\n",
      "2\n",
      "3\n"
     ]
    },
    {
     "name": "stderr",
     "output_type": "stream",
     "text": [
      "INFO:utils:4\n"
     ]
    },
    {
     "name": "stdout",
     "output_type": "stream",
     "text": [
      "4\n"
     ]
    },
    {
     "name": "stderr",
     "output_type": "stream",
     "text": [
      "INFO:utils:5\n"
     ]
    },
    {
     "name": "stdout",
     "output_type": "stream",
     "text": [
      "5\n",
      "6\n"
     ]
    },
    {
     "name": "stderr",
     "output_type": "stream",
     "text": [
      "INFO:utils:7\n"
     ]
    },
    {
     "name": "stdout",
     "output_type": "stream",
     "text": [
      "7\n",
      "8\n"
     ]
    },
    {
     "name": "stderr",
     "output_type": "stream",
     "text": [
      "INFO:utils:9\n"
     ]
    },
    {
     "name": "stdout",
     "output_type": "stream",
     "text": [
      "9\n",
      "10\n",
      "11\n"
     ]
    },
    {
     "name": "stderr",
     "output_type": "stream",
     "text": [
      "INFO:utils:12\n"
     ]
    },
    {
     "name": "stdout",
     "output_type": "stream",
     "text": [
      "12\n"
     ]
    },
    {
     "name": "stderr",
     "output_type": "stream",
     "text": [
      "INFO:utils:13\n"
     ]
    },
    {
     "name": "stdout",
     "output_type": "stream",
     "text": [
      "13\n",
      "14\n",
      "15\n"
     ]
    },
    {
     "name": "stderr",
     "output_type": "stream",
     "text": [
      "INFO:utils:16\n"
     ]
    },
    {
     "name": "stdout",
     "output_type": "stream",
     "text": [
      "16\n",
      "17\n"
     ]
    },
    {
     "name": "stderr",
     "output_type": "stream",
     "text": [
      "INFO:utils:18\n"
     ]
    },
    {
     "name": "stdout",
     "output_type": "stream",
     "text": [
      "18\n"
     ]
    },
    {
     "name": "stderr",
     "output_type": "stream",
     "text": [
      "INFO:utils:19\n"
     ]
    },
    {
     "name": "stdout",
     "output_type": "stream",
     "text": [
      "19\n",
      "20\n"
     ]
    },
    {
     "name": "stderr",
     "output_type": "stream",
     "text": [
      "INFO:utils:21\n"
     ]
    },
    {
     "name": "stdout",
     "output_type": "stream",
     "text": [
      "21\n",
      "22\n"
     ]
    },
    {
     "name": "stderr",
     "output_type": "stream",
     "text": [
      "INFO:utils:23\n"
     ]
    },
    {
     "name": "stdout",
     "output_type": "stream",
     "text": [
      "23\n",
      "24\n"
     ]
    },
    {
     "name": "stderr",
     "output_type": "stream",
     "text": [
      "INFO:utils:25\n"
     ]
    },
    {
     "name": "stdout",
     "output_type": "stream",
     "text": [
      "25\n",
      "26\n"
     ]
    },
    {
     "name": "stderr",
     "output_type": "stream",
     "text": [
      "INFO:utils:27\n"
     ]
    },
    {
     "name": "stdout",
     "output_type": "stream",
     "text": [
      "27\n"
     ]
    },
    {
     "name": "stderr",
     "output_type": "stream",
     "text": [
      "INFO:utils:28\n"
     ]
    },
    {
     "name": "stdout",
     "output_type": "stream",
     "text": [
      "28\n",
      "29\n"
     ]
    },
    {
     "name": "stderr",
     "output_type": "stream",
     "text": [
      "INFO:utils:30\n"
     ]
    },
    {
     "name": "stdout",
     "output_type": "stream",
     "text": [
      "30\n"
     ]
    },
    {
     "name": "stderr",
     "output_type": "stream",
     "text": [
      "INFO:utils:31\n"
     ]
    },
    {
     "name": "stdout",
     "output_type": "stream",
     "text": [
      "31\n",
      "32\n"
     ]
    },
    {
     "name": "stderr",
     "output_type": "stream",
     "text": [
      "INFO:utils:33\n"
     ]
    },
    {
     "name": "stdout",
     "output_type": "stream",
     "text": [
      "33\n",
      "34\n"
     ]
    },
    {
     "name": "stderr",
     "output_type": "stream",
     "text": [
      "INFO:utils:35\n"
     ]
    },
    {
     "name": "stdout",
     "output_type": "stream",
     "text": [
      "35\n",
      "36\n"
     ]
    },
    {
     "name": "stderr",
     "output_type": "stream",
     "text": [
      "INFO:utils:37\n"
     ]
    },
    {
     "name": "stdout",
     "output_type": "stream",
     "text": [
      "37\n",
      "38\n"
     ]
    },
    {
     "name": "stderr",
     "output_type": "stream",
     "text": [
      "INFO:utils:39\n"
     ]
    },
    {
     "name": "stdout",
     "output_type": "stream",
     "text": [
      "39\n",
      "40\n"
     ]
    },
    {
     "name": "stderr",
     "output_type": "stream",
     "text": [
      "INFO:utils:41\n"
     ]
    },
    {
     "name": "stdout",
     "output_type": "stream",
     "text": [
      "41\n"
     ]
    },
    {
     "name": "stderr",
     "output_type": "stream",
     "text": [
      "INFO:utils:42\n"
     ]
    },
    {
     "name": "stdout",
     "output_type": "stream",
     "text": [
      "42\n",
      "43\n",
      "44\n"
     ]
    },
    {
     "name": "stderr",
     "output_type": "stream",
     "text": [
      "INFO:utils:45\n"
     ]
    },
    {
     "name": "stdout",
     "output_type": "stream",
     "text": [
      "45\n",
      "46\n",
      "47\n"
     ]
    },
    {
     "name": "stderr",
     "output_type": "stream",
     "text": [
      "INFO:utils:48\n"
     ]
    },
    {
     "name": "stdout",
     "output_type": "stream",
     "text": [
      "48\n",
      "49\n"
     ]
    },
    {
     "name": "stderr",
     "output_type": "stream",
     "text": [
      "INFO:utils:50\n"
     ]
    },
    {
     "name": "stdout",
     "output_type": "stream",
     "text": [
      "50\n",
      "51\n",
      "52\n"
     ]
    },
    {
     "name": "stderr",
     "output_type": "stream",
     "text": [
      "INFO:utils:53\n"
     ]
    },
    {
     "name": "stdout",
     "output_type": "stream",
     "text": [
      "53\n"
     ]
    },
    {
     "name": "stderr",
     "output_type": "stream",
     "text": [
      "INFO:utils:54\n"
     ]
    },
    {
     "name": "stdout",
     "output_type": "stream",
     "text": [
      "54\n",
      "55\n",
      "56\n",
      "57\n"
     ]
    },
    {
     "name": "stderr",
     "output_type": "stream",
     "text": [
      "INFO:utils:58\n"
     ]
    },
    {
     "name": "stdout",
     "output_type": "stream",
     "text": [
      "58\n",
      "59\n",
      "60\n"
     ]
    },
    {
     "name": "stderr",
     "output_type": "stream",
     "text": [
      "INFO:utils:61\n"
     ]
    },
    {
     "name": "stdout",
     "output_type": "stream",
     "text": [
      "61\n",
      "62\n"
     ]
    },
    {
     "name": "stderr",
     "output_type": "stream",
     "text": [
      "INFO:utils:63\n"
     ]
    },
    {
     "name": "stdout",
     "output_type": "stream",
     "text": [
      "63\n",
      "64\n"
     ]
    }
   ],
   "source": [
    "# Evaluate effect of smoothing on correlation metrics\n",
    "skills=[]\n",
    "\n",
    "tau_d=25\n",
    "tau=np.timedelta64(int(tau_d*86400),'s')\n",
    "\n",
    "for M,mtype in [(Msmooth,'grid'), (Msmooth_K,'constant')]:\n",
    "    print(f\"----- SMOOTH TYPE: {mtype} -----\")\n",
    "    for steps in [0,10,100,1000,10000]:\n",
    "        print(f\"  --- smooth steps: {steps}---\")\n",
    "        manta_pred=predict_mantas(manta,tau,Msmooth=M,smooth=-steps)\n",
    "\n",
    "        skill=dict(tau_d=tau_d,smooth_type=mtype,smooth=steps)\n",
    "\n",
    "        obs=manta_pred['part_per_m2_nofiber']\n",
    "        mod=manta_pred['C_model'] \n",
    "\n",
    "        r=np.corrcoef(obs, mod)[0,1]\n",
    "        rho,p=spearmanr(obs, mod)\n",
    "        rlog=np.corrcoef( np.log(obs[obs>0]),mod[obs>0])[0,1]\n",
    "        skill['r']=r\n",
    "        skill['rho']=rho\n",
    "        skill['rho_p']=p\n",
    "        skill['rlog']=rlog\n",
    "\n",
    "        # Same but drop top/bottom 2 outliers:\n",
    "        obs_rank=np.argsort(np.argsort(obs))\n",
    "        sel=(obs_rank>2)&(obs_rank<len(obs)-2)\n",
    "        r=np.corrcoef(obs[sel], mod[sel])[0,1]\n",
    "        rho,p=spearmanr(obs[sel], mod[sel])\n",
    "        rlog=np.corrcoef( np.log(obs[sel]),mod[sel])[0,1]\n",
    "        skill['r_sub']=r\n",
    "        skill['rho_sub']=rho\n",
    "        skill['rho_p_sub']=p\n",
    "        skill['rlog_sub']=rlog\n",
    "\n",
    "        skills.append(skill)\n",
    "\n",
    "df_skill_smooth=pd.DataFrame(skills)"
   ]
  },
  {
   "cell_type": "code",
   "execution_count": 73,
   "metadata": {},
   "outputs": [
    {
     "data": {
      "text/html": [
       "<div>\n",
       "<style scoped>\n",
       "    .dataframe tbody tr th:only-of-type {\n",
       "        vertical-align: middle;\n",
       "    }\n",
       "\n",
       "    .dataframe tbody tr th {\n",
       "        vertical-align: top;\n",
       "    }\n",
       "\n",
       "    .dataframe thead th {\n",
       "        text-align: right;\n",
       "    }\n",
       "</style>\n",
       "<table border=\"1\" class=\"dataframe\">\n",
       "  <thead>\n",
       "    <tr style=\"text-align: right;\">\n",
       "      <th></th>\n",
       "      <th>tau_d</th>\n",
       "      <th>smooth_type</th>\n",
       "      <th>smooth</th>\n",
       "      <th>r</th>\n",
       "      <th>rho</th>\n",
       "      <th>rho_p</th>\n",
       "      <th>rlog</th>\n",
       "      <th>r_sub</th>\n",
       "      <th>rho_sub</th>\n",
       "      <th>rho_p_sub</th>\n",
       "      <th>rlog_sub</th>\n",
       "    </tr>\n",
       "  </thead>\n",
       "  <tbody>\n",
       "    <tr>\n",
       "      <th>0</th>\n",
       "      <td>25</td>\n",
       "      <td>grid</td>\n",
       "      <td>0</td>\n",
       "      <td>0.065033</td>\n",
       "      <td>0.659309</td>\n",
       "      <td>2.345354e-09</td>\n",
       "      <td>0.315829</td>\n",
       "      <td>0.498154</td>\n",
       "      <td>0.653348</td>\n",
       "      <td>1.525611e-08</td>\n",
       "      <td>0.377370</td>\n",
       "    </tr>\n",
       "    <tr>\n",
       "      <th>1</th>\n",
       "      <td>25</td>\n",
       "      <td>grid</td>\n",
       "      <td>10</td>\n",
       "      <td>0.059115</td>\n",
       "      <td>0.649344</td>\n",
       "      <td>4.879606e-09</td>\n",
       "      <td>0.329234</td>\n",
       "      <td>0.495494</td>\n",
       "      <td>0.639400</td>\n",
       "      <td>3.821876e-08</td>\n",
       "      <td>0.394971</td>\n",
       "    </tr>\n",
       "    <tr>\n",
       "      <th>2</th>\n",
       "      <td>25</td>\n",
       "      <td>grid</td>\n",
       "      <td>100</td>\n",
       "      <td>0.064422</td>\n",
       "      <td>0.659003</td>\n",
       "      <td>2.399683e-09</td>\n",
       "      <td>0.338892</td>\n",
       "      <td>0.475885</td>\n",
       "      <td>0.633732</td>\n",
       "      <td>5.478595e-08</td>\n",
       "      <td>0.398881</td>\n",
       "    </tr>\n",
       "    <tr>\n",
       "      <th>3</th>\n",
       "      <td>25</td>\n",
       "      <td>grid</td>\n",
       "      <td>1000</td>\n",
       "      <td>0.090889</td>\n",
       "      <td>0.693531</td>\n",
       "      <td>1.515942e-10</td>\n",
       "      <td>0.340051</td>\n",
       "      <td>0.527981</td>\n",
       "      <td>0.651014</td>\n",
       "      <td>1.784882e-08</td>\n",
       "      <td>0.390366</td>\n",
       "    </tr>\n",
       "    <tr>\n",
       "      <th>4</th>\n",
       "      <td>25</td>\n",
       "      <td>grid</td>\n",
       "      <td>10000</td>\n",
       "      <td>0.079490</td>\n",
       "      <td>0.732517</td>\n",
       "      <td>4.057727e-12</td>\n",
       "      <td>0.283435</td>\n",
       "      <td>0.544131</td>\n",
       "      <td>0.691470</td>\n",
       "      <td>9.556398e-10</td>\n",
       "      <td>0.334034</td>\n",
       "    </tr>\n",
       "    <tr>\n",
       "      <th>5</th>\n",
       "      <td>25</td>\n",
       "      <td>constant</td>\n",
       "      <td>0</td>\n",
       "      <td>0.065033</td>\n",
       "      <td>0.659309</td>\n",
       "      <td>2.345354e-09</td>\n",
       "      <td>0.315829</td>\n",
       "      <td>0.498154</td>\n",
       "      <td>0.653348</td>\n",
       "      <td>1.525611e-08</td>\n",
       "      <td>0.377370</td>\n",
       "    </tr>\n",
       "    <tr>\n",
       "      <th>6</th>\n",
       "      <td>25</td>\n",
       "      <td>constant</td>\n",
       "      <td>10</td>\n",
       "      <td>0.065008</td>\n",
       "      <td>0.658785</td>\n",
       "      <td>2.439219e-09</td>\n",
       "      <td>0.316698</td>\n",
       "      <td>0.496473</td>\n",
       "      <td>0.652681</td>\n",
       "      <td>1.595805e-08</td>\n",
       "      <td>0.378224</td>\n",
       "    </tr>\n",
       "    <tr>\n",
       "      <th>7</th>\n",
       "      <td>25</td>\n",
       "      <td>constant</td>\n",
       "      <td>100</td>\n",
       "      <td>0.065306</td>\n",
       "      <td>0.662762</td>\n",
       "      <td>1.807884e-09</td>\n",
       "      <td>0.323616</td>\n",
       "      <td>0.491072</td>\n",
       "      <td>0.657738</td>\n",
       "      <td>1.131404e-08</td>\n",
       "      <td>0.385549</td>\n",
       "    </tr>\n",
       "    <tr>\n",
       "      <th>8</th>\n",
       "      <td>25</td>\n",
       "      <td>constant</td>\n",
       "      <td>1000</td>\n",
       "      <td>0.063625</td>\n",
       "      <td>0.663243</td>\n",
       "      <td>1.743067e-09</td>\n",
       "      <td>0.337871</td>\n",
       "      <td>0.486810</td>\n",
       "      <td>0.655904</td>\n",
       "      <td>1.282646e-08</td>\n",
       "      <td>0.402287</td>\n",
       "    </tr>\n",
       "    <tr>\n",
       "      <th>9</th>\n",
       "      <td>25</td>\n",
       "      <td>constant</td>\n",
       "      <td>10000</td>\n",
       "      <td>0.059895</td>\n",
       "      <td>0.656294</td>\n",
       "      <td>2.935936e-09</td>\n",
       "      <td>0.340510</td>\n",
       "      <td>0.496624</td>\n",
       "      <td>0.651125</td>\n",
       "      <td>1.771646e-08</td>\n",
       "      <td>0.407318</td>\n",
       "    </tr>\n",
       "  </tbody>\n",
       "</table>\n",
       "</div>"
      ],
      "text/plain": [
       "   tau_d smooth_type  smooth         r       rho         rho_p      rlog  \\\n",
       "0     25        grid       0  0.065033  0.659309  2.345354e-09  0.315829   \n",
       "1     25        grid      10  0.059115  0.649344  4.879606e-09  0.329234   \n",
       "2     25        grid     100  0.064422  0.659003  2.399683e-09  0.338892   \n",
       "3     25        grid    1000  0.090889  0.693531  1.515942e-10  0.340051   \n",
       "4     25        grid   10000  0.079490  0.732517  4.057727e-12  0.283435   \n",
       "5     25    constant       0  0.065033  0.659309  2.345354e-09  0.315829   \n",
       "6     25    constant      10  0.065008  0.658785  2.439219e-09  0.316698   \n",
       "7     25    constant     100  0.065306  0.662762  1.807884e-09  0.323616   \n",
       "8     25    constant    1000  0.063625  0.663243  1.743067e-09  0.337871   \n",
       "9     25    constant   10000  0.059895  0.656294  2.935936e-09  0.340510   \n",
       "\n",
       "      r_sub   rho_sub     rho_p_sub  rlog_sub  \n",
       "0  0.498154  0.653348  1.525611e-08  0.377370  \n",
       "1  0.495494  0.639400  3.821876e-08  0.394971  \n",
       "2  0.475885  0.633732  5.478595e-08  0.398881  \n",
       "3  0.527981  0.651014  1.784882e-08  0.390366  \n",
       "4  0.544131  0.691470  9.556398e-10  0.334034  \n",
       "5  0.498154  0.653348  1.525611e-08  0.377370  \n",
       "6  0.496473  0.652681  1.595805e-08  0.378224  \n",
       "7  0.491072  0.657738  1.131404e-08  0.385549  \n",
       "8  0.486810  0.655904  1.282646e-08  0.402287  \n",
       "9  0.496624  0.651125  1.771646e-08  0.407318  "
      ]
     },
     "execution_count": 73,
     "metadata": {},
     "output_type": "execute_result"
    }
   ],
   "source": [
    "df_skill_smooth"
   ]
  },
  {
   "cell_type": "code",
   "execution_count": null,
   "metadata": {},
   "outputs": [],
   "source": [
    "fig=plt.figure(figsize=(6,2.5))\n",
    "for smooth_type in ['grid','constant']:\n",
    "    df_sub\n",
    "    x=df_skill_smooth['smooth']\n",
    "\n",
    "plt.plot(df_skill['tau_d'],df_skill['r'],label='Pearson $r$, full')\n",
    "plt.plot(df_skill['tau_d'],df_skill['r_sub'],label='Pearson $r$, sub')\n",
    "\n",
    "plt.plot(df_skill['tau_d'],df_skill['rho'],label=r'Spearman $\\rho$, full')\n",
    "plt.plot(df_skill['tau_d'],df_skill['rho_sub'],label=r'Spearman $\\rho$, sub')\n",
    "\n",
    "plt.plot(df_skill['tau_d'],df_skill['rlog'],label='Pearson $r$, full, log transform')\n",
    "plt.plot(df_skill['tau_d'],df_skill['rlog_sub'],label='Pearson $r$, sub, log transform')\n",
    "plt.legend(loc='upper left',bbox_to_anchor=[1.02,1.0],frameon=False)\n",
    "plt.xlabel('Decay time scale (d)')\n",
    "plt.axis(ymin=0,xmin=0)\n",
    "fig.tight_layout()"
   ]
  },
  {
   "cell_type": "code",
   "execution_count": 25,
   "metadata": {
    "scrolled": true
   },
   "outputs": [
    {
     "name": "stderr",
     "output_type": "stream",
     "text": [
      "INFO:utils:20\n",
      "INFO:utils:32\n",
      "INFO:utils:61\n",
      "INFO:utils:20\n",
      "INFO:utils:32\n",
      "INFO:utils:59\n",
      "INFO:utils:20\n",
      "INFO:utils:32\n",
      "INFO:utils:61\n",
      "INFO:utils:20\n",
      "INFO:utils:31\n",
      "INFO:utils:60\n",
      "INFO:utils:20\n",
      "INFO:utils:32\n",
      "INFO:utils:62\n",
      "INFO:utils:20\n",
      "INFO:utils:32\n",
      "INFO:utils:62\n",
      "INFO:utils:20\n",
      "INFO:utils:32\n",
      "INFO:utils:62\n",
      "INFO:utils:20\n",
      "INFO:utils:32\n",
      "INFO:utils:62\n",
      "INFO:utils:20\n",
      "INFO:utils:32\n",
      "INFO:utils:62\n",
      "INFO:utils:20\n",
      "INFO:utils:32\n",
      "INFO:utils:62\n",
      "INFO:utils:20\n",
      "INFO:utils:31\n",
      "INFO:utils:60\n",
      "INFO:utils:20\n",
      "INFO:utils:32\n",
      "INFO:utils:62\n"
     ]
    }
   ],
   "source": [
    "# Evaluate effect of decay time scale on correlation metrics\n",
    "skills=[]\n",
    "\n",
    "for tau_d in [0.5,1,2,4,6,10,15,20,25,35,45,60]:\n",
    "    tau=np.timedelta64(int(tau_d*86400),'s')\n",
    "    manta_pred=predict_mantas(manta,tau)\n",
    "\n",
    "    skill=dict(tau_d=tau_d)\n",
    "    \n",
    "    obs=manta_pred['part_per_m2_nofiber']\n",
    "    mod=manta_pred['C_model'] \n",
    "\n",
    "    r=np.corrcoef(obs, mod)[0,1]\n",
    "    rho,p=spearmanr(obs, mod)\n",
    "    rlog=np.corrcoef( np.log(obs[obs>0]),mod[obs>0])[0,1]\n",
    "    skill['r']=r\n",
    "    skill['rho']=rho\n",
    "    skill['rho_p']=p\n",
    "    skill['rlog']=rlog\n",
    "    \n",
    "    # Same but drop top/bottom 2 outliers:\n",
    "    obs_rank=np.argsort(np.argsort(obs))\n",
    "    sel=(obs_rank>2)&(obs_rank<len(obs)-2)\n",
    "    r=np.corrcoef(obs[sel], mod[sel])[0,1]\n",
    "    rho,p=spearmanr(obs[sel], mod[sel])\n",
    "    rlog=np.corrcoef( np.log(obs[sel]),mod[sel])[0,1]\n",
    "    skill['r_sub']=r\n",
    "    skill['rho_sub']=rho\n",
    "    skill['rho_p_sub']=p\n",
    "    skill['rlog_sub']=rlog\n",
    "    \n",
    "    skills.append(skill)\n",
    "    \n",
    "df_skill=pd.DataFrame(skills)"
   ]
  },
  {
   "cell_type": "code",
   "execution_count": 26,
   "metadata": {},
   "outputs": [
    {
     "data": {
      "application/javascript": [
       "/* Put everything inside the global mpl namespace */\n",
       "/* global mpl */\n",
       "window.mpl = {};\n",
       "\n",
       "mpl.get_websocket_type = function () {\n",
       "    if (typeof WebSocket !== 'undefined') {\n",
       "        return WebSocket;\n",
       "    } else if (typeof MozWebSocket !== 'undefined') {\n",
       "        return MozWebSocket;\n",
       "    } else {\n",
       "        alert(\n",
       "            'Your browser does not have WebSocket support. ' +\n",
       "                'Please try Chrome, Safari or Firefox ≥ 6. ' +\n",
       "                'Firefox 4 and 5 are also supported but you ' +\n",
       "                'have to enable WebSockets in about:config.'\n",
       "        );\n",
       "    }\n",
       "};\n",
       "\n",
       "mpl.figure = function (figure_id, websocket, ondownload, parent_element) {\n",
       "    this.id = figure_id;\n",
       "\n",
       "    this.ws = websocket;\n",
       "\n",
       "    this.supports_binary = this.ws.binaryType !== undefined;\n",
       "\n",
       "    if (!this.supports_binary) {\n",
       "        var warnings = document.getElementById('mpl-warnings');\n",
       "        if (warnings) {\n",
       "            warnings.style.display = 'block';\n",
       "            warnings.textContent =\n",
       "                'This browser does not support binary websocket messages. ' +\n",
       "                'Performance may be slow.';\n",
       "        }\n",
       "    }\n",
       "\n",
       "    this.imageObj = new Image();\n",
       "\n",
       "    this.context = undefined;\n",
       "    this.message = undefined;\n",
       "    this.canvas = undefined;\n",
       "    this.rubberband_canvas = undefined;\n",
       "    this.rubberband_context = undefined;\n",
       "    this.format_dropdown = undefined;\n",
       "\n",
       "    this.image_mode = 'full';\n",
       "\n",
       "    this.root = document.createElement('div');\n",
       "    this.root.setAttribute('style', 'display: inline-block');\n",
       "    this._root_extra_style(this.root);\n",
       "\n",
       "    parent_element.appendChild(this.root);\n",
       "\n",
       "    this._init_header(this);\n",
       "    this._init_canvas(this);\n",
       "    this._init_toolbar(this);\n",
       "\n",
       "    var fig = this;\n",
       "\n",
       "    this.waiting = false;\n",
       "\n",
       "    this.ws.onopen = function () {\n",
       "        fig.send_message('supports_binary', { value: fig.supports_binary });\n",
       "        fig.send_message('send_image_mode', {});\n",
       "        if (fig.ratio !== 1) {\n",
       "            fig.send_message('set_dpi_ratio', { dpi_ratio: fig.ratio });\n",
       "        }\n",
       "        fig.send_message('refresh', {});\n",
       "    };\n",
       "\n",
       "    this.imageObj.onload = function () {\n",
       "        if (fig.image_mode === 'full') {\n",
       "            // Full images could contain transparency (where diff images\n",
       "            // almost always do), so we need to clear the canvas so that\n",
       "            // there is no ghosting.\n",
       "            fig.context.clearRect(0, 0, fig.canvas.width, fig.canvas.height);\n",
       "        }\n",
       "        fig.context.drawImage(fig.imageObj, 0, 0);\n",
       "    };\n",
       "\n",
       "    this.imageObj.onunload = function () {\n",
       "        fig.ws.close();\n",
       "    };\n",
       "\n",
       "    this.ws.onmessage = this._make_on_message_function(this);\n",
       "\n",
       "    this.ondownload = ondownload;\n",
       "};\n",
       "\n",
       "mpl.figure.prototype._init_header = function () {\n",
       "    var titlebar = document.createElement('div');\n",
       "    titlebar.classList =\n",
       "        'ui-dialog-titlebar ui-widget-header ui-corner-all ui-helper-clearfix';\n",
       "    var titletext = document.createElement('div');\n",
       "    titletext.classList = 'ui-dialog-title';\n",
       "    titletext.setAttribute(\n",
       "        'style',\n",
       "        'width: 100%; text-align: center; padding: 3px;'\n",
       "    );\n",
       "    titlebar.appendChild(titletext);\n",
       "    this.root.appendChild(titlebar);\n",
       "    this.header = titletext;\n",
       "};\n",
       "\n",
       "mpl.figure.prototype._canvas_extra_style = function (_canvas_div) {};\n",
       "\n",
       "mpl.figure.prototype._root_extra_style = function (_canvas_div) {};\n",
       "\n",
       "mpl.figure.prototype._init_canvas = function () {\n",
       "    var fig = this;\n",
       "\n",
       "    var canvas_div = (this.canvas_div = document.createElement('div'));\n",
       "    canvas_div.setAttribute(\n",
       "        'style',\n",
       "        'border: 1px solid #ddd;' +\n",
       "            'box-sizing: content-box;' +\n",
       "            'clear: both;' +\n",
       "            'min-height: 1px;' +\n",
       "            'min-width: 1px;' +\n",
       "            'outline: 0;' +\n",
       "            'overflow: hidden;' +\n",
       "            'position: relative;' +\n",
       "            'resize: both;'\n",
       "    );\n",
       "\n",
       "    function on_keyboard_event_closure(name) {\n",
       "        return function (event) {\n",
       "            return fig.key_event(event, name);\n",
       "        };\n",
       "    }\n",
       "\n",
       "    canvas_div.addEventListener(\n",
       "        'keydown',\n",
       "        on_keyboard_event_closure('key_press')\n",
       "    );\n",
       "    canvas_div.addEventListener(\n",
       "        'keyup',\n",
       "        on_keyboard_event_closure('key_release')\n",
       "    );\n",
       "\n",
       "    this._canvas_extra_style(canvas_div);\n",
       "    this.root.appendChild(canvas_div);\n",
       "\n",
       "    var canvas = (this.canvas = document.createElement('canvas'));\n",
       "    canvas.classList.add('mpl-canvas');\n",
       "    canvas.setAttribute('style', 'box-sizing: content-box;');\n",
       "\n",
       "    this.context = canvas.getContext('2d');\n",
       "\n",
       "    var backingStore =\n",
       "        this.context.backingStorePixelRatio ||\n",
       "        this.context.webkitBackingStorePixelRatio ||\n",
       "        this.context.mozBackingStorePixelRatio ||\n",
       "        this.context.msBackingStorePixelRatio ||\n",
       "        this.context.oBackingStorePixelRatio ||\n",
       "        this.context.backingStorePixelRatio ||\n",
       "        1;\n",
       "\n",
       "    this.ratio = (window.devicePixelRatio || 1) / backingStore;\n",
       "    if (this.ratio !== 1) {\n",
       "        fig.send_message('set_dpi_ratio', { dpi_ratio: this.ratio });\n",
       "    }\n",
       "\n",
       "    var rubberband_canvas = (this.rubberband_canvas = document.createElement(\n",
       "        'canvas'\n",
       "    ));\n",
       "    rubberband_canvas.setAttribute(\n",
       "        'style',\n",
       "        'box-sizing: content-box; position: absolute; left: 0; top: 0; z-index: 1;'\n",
       "    );\n",
       "\n",
       "    // Apply a ponyfill if ResizeObserver is not implemented by browser.\n",
       "    if (this.ResizeObserver === undefined) {\n",
       "        if (window.ResizeObserver !== undefined) {\n",
       "            this.ResizeObserver = window.ResizeObserver;\n",
       "        } else {\n",
       "            var obs = _JSXTOOLS_RESIZE_OBSERVER({});\n",
       "            this.ResizeObserver = obs.ResizeObserver;\n",
       "        }\n",
       "    }\n",
       "\n",
       "    this.resizeObserverInstance = new this.ResizeObserver(function (entries) {\n",
       "        var nentries = entries.length;\n",
       "        for (var i = 0; i < nentries; i++) {\n",
       "            var entry = entries[i];\n",
       "            var width, height;\n",
       "            if (entry.contentBoxSize) {\n",
       "                if (entry.contentBoxSize instanceof Array) {\n",
       "                    // Chrome 84 implements new version of spec.\n",
       "                    width = entry.contentBoxSize[0].inlineSize;\n",
       "                    height = entry.contentBoxSize[0].blockSize;\n",
       "                } else {\n",
       "                    // Firefox implements old version of spec.\n",
       "                    width = entry.contentBoxSize.inlineSize;\n",
       "                    height = entry.contentBoxSize.blockSize;\n",
       "                }\n",
       "            } else {\n",
       "                // Chrome <84 implements even older version of spec.\n",
       "                width = entry.contentRect.width;\n",
       "                height = entry.contentRect.height;\n",
       "            }\n",
       "\n",
       "            // Keep the size of the canvas and rubber band canvas in sync with\n",
       "            // the canvas container.\n",
       "            if (entry.devicePixelContentBoxSize) {\n",
       "                // Chrome 84 implements new version of spec.\n",
       "                canvas.setAttribute(\n",
       "                    'width',\n",
       "                    entry.devicePixelContentBoxSize[0].inlineSize\n",
       "                );\n",
       "                canvas.setAttribute(\n",
       "                    'height',\n",
       "                    entry.devicePixelContentBoxSize[0].blockSize\n",
       "                );\n",
       "            } else {\n",
       "                canvas.setAttribute('width', width * fig.ratio);\n",
       "                canvas.setAttribute('height', height * fig.ratio);\n",
       "            }\n",
       "            canvas.setAttribute(\n",
       "                'style',\n",
       "                'width: ' + width + 'px; height: ' + height + 'px;'\n",
       "            );\n",
       "\n",
       "            rubberband_canvas.setAttribute('width', width);\n",
       "            rubberband_canvas.setAttribute('height', height);\n",
       "\n",
       "            // And update the size in Python. We ignore the initial 0/0 size\n",
       "            // that occurs as the element is placed into the DOM, which should\n",
       "            // otherwise not happen due to the minimum size styling.\n",
       "            if (width != 0 && height != 0) {\n",
       "                fig.request_resize(width, height);\n",
       "            }\n",
       "        }\n",
       "    });\n",
       "    this.resizeObserverInstance.observe(canvas_div);\n",
       "\n",
       "    function on_mouse_event_closure(name) {\n",
       "        return function (event) {\n",
       "            return fig.mouse_event(event, name);\n",
       "        };\n",
       "    }\n",
       "\n",
       "    rubberband_canvas.addEventListener(\n",
       "        'mousedown',\n",
       "        on_mouse_event_closure('button_press')\n",
       "    );\n",
       "    rubberband_canvas.addEventListener(\n",
       "        'mouseup',\n",
       "        on_mouse_event_closure('button_release')\n",
       "    );\n",
       "    // Throttle sequential mouse events to 1 every 20ms.\n",
       "    rubberband_canvas.addEventListener(\n",
       "        'mousemove',\n",
       "        on_mouse_event_closure('motion_notify')\n",
       "    );\n",
       "\n",
       "    rubberband_canvas.addEventListener(\n",
       "        'mouseenter',\n",
       "        on_mouse_event_closure('figure_enter')\n",
       "    );\n",
       "    rubberband_canvas.addEventListener(\n",
       "        'mouseleave',\n",
       "        on_mouse_event_closure('figure_leave')\n",
       "    );\n",
       "\n",
       "    canvas_div.addEventListener('wheel', function (event) {\n",
       "        if (event.deltaY < 0) {\n",
       "            event.step = 1;\n",
       "        } else {\n",
       "            event.step = -1;\n",
       "        }\n",
       "        on_mouse_event_closure('scroll')(event);\n",
       "    });\n",
       "\n",
       "    canvas_div.appendChild(canvas);\n",
       "    canvas_div.appendChild(rubberband_canvas);\n",
       "\n",
       "    this.rubberband_context = rubberband_canvas.getContext('2d');\n",
       "    this.rubberband_context.strokeStyle = '#000000';\n",
       "\n",
       "    this._resize_canvas = function (width, height, forward) {\n",
       "        if (forward) {\n",
       "            canvas_div.style.width = width + 'px';\n",
       "            canvas_div.style.height = height + 'px';\n",
       "        }\n",
       "    };\n",
       "\n",
       "    // Disable right mouse context menu.\n",
       "    this.rubberband_canvas.addEventListener('contextmenu', function (_e) {\n",
       "        event.preventDefault();\n",
       "        return false;\n",
       "    });\n",
       "\n",
       "    function set_focus() {\n",
       "        canvas.focus();\n",
       "        canvas_div.focus();\n",
       "    }\n",
       "\n",
       "    window.setTimeout(set_focus, 100);\n",
       "};\n",
       "\n",
       "mpl.figure.prototype._init_toolbar = function () {\n",
       "    var fig = this;\n",
       "\n",
       "    var toolbar = document.createElement('div');\n",
       "    toolbar.classList = 'mpl-toolbar';\n",
       "    this.root.appendChild(toolbar);\n",
       "\n",
       "    function on_click_closure(name) {\n",
       "        return function (_event) {\n",
       "            return fig.toolbar_button_onclick(name);\n",
       "        };\n",
       "    }\n",
       "\n",
       "    function on_mouseover_closure(tooltip) {\n",
       "        return function (event) {\n",
       "            if (!event.currentTarget.disabled) {\n",
       "                return fig.toolbar_button_onmouseover(tooltip);\n",
       "            }\n",
       "        };\n",
       "    }\n",
       "\n",
       "    fig.buttons = {};\n",
       "    var buttonGroup = document.createElement('div');\n",
       "    buttonGroup.classList = 'mpl-button-group';\n",
       "    for (var toolbar_ind in mpl.toolbar_items) {\n",
       "        var name = mpl.toolbar_items[toolbar_ind][0];\n",
       "        var tooltip = mpl.toolbar_items[toolbar_ind][1];\n",
       "        var image = mpl.toolbar_items[toolbar_ind][2];\n",
       "        var method_name = mpl.toolbar_items[toolbar_ind][3];\n",
       "\n",
       "        if (!name) {\n",
       "            /* Instead of a spacer, we start a new button group. */\n",
       "            if (buttonGroup.hasChildNodes()) {\n",
       "                toolbar.appendChild(buttonGroup);\n",
       "            }\n",
       "            buttonGroup = document.createElement('div');\n",
       "            buttonGroup.classList = 'mpl-button-group';\n",
       "            continue;\n",
       "        }\n",
       "\n",
       "        var button = (fig.buttons[name] = document.createElement('button'));\n",
       "        button.classList = 'mpl-widget';\n",
       "        button.setAttribute('role', 'button');\n",
       "        button.setAttribute('aria-disabled', 'false');\n",
       "        button.addEventListener('click', on_click_closure(method_name));\n",
       "        button.addEventListener('mouseover', on_mouseover_closure(tooltip));\n",
       "\n",
       "        var icon_img = document.createElement('img');\n",
       "        icon_img.src = '_images/' + image + '.png';\n",
       "        icon_img.srcset = '_images/' + image + '_large.png 2x';\n",
       "        icon_img.alt = tooltip;\n",
       "        button.appendChild(icon_img);\n",
       "\n",
       "        buttonGroup.appendChild(button);\n",
       "    }\n",
       "\n",
       "    if (buttonGroup.hasChildNodes()) {\n",
       "        toolbar.appendChild(buttonGroup);\n",
       "    }\n",
       "\n",
       "    var fmt_picker = document.createElement('select');\n",
       "    fmt_picker.classList = 'mpl-widget';\n",
       "    toolbar.appendChild(fmt_picker);\n",
       "    this.format_dropdown = fmt_picker;\n",
       "\n",
       "    for (var ind in mpl.extensions) {\n",
       "        var fmt = mpl.extensions[ind];\n",
       "        var option = document.createElement('option');\n",
       "        option.selected = fmt === mpl.default_extension;\n",
       "        option.innerHTML = fmt;\n",
       "        fmt_picker.appendChild(option);\n",
       "    }\n",
       "\n",
       "    var status_bar = document.createElement('span');\n",
       "    status_bar.classList = 'mpl-message';\n",
       "    toolbar.appendChild(status_bar);\n",
       "    this.message = status_bar;\n",
       "};\n",
       "\n",
       "mpl.figure.prototype.request_resize = function (x_pixels, y_pixels) {\n",
       "    // Request matplotlib to resize the figure. Matplotlib will then trigger a resize in the client,\n",
       "    // which will in turn request a refresh of the image.\n",
       "    this.send_message('resize', { width: x_pixels, height: y_pixels });\n",
       "};\n",
       "\n",
       "mpl.figure.prototype.send_message = function (type, properties) {\n",
       "    properties['type'] = type;\n",
       "    properties['figure_id'] = this.id;\n",
       "    this.ws.send(JSON.stringify(properties));\n",
       "};\n",
       "\n",
       "mpl.figure.prototype.send_draw_message = function () {\n",
       "    if (!this.waiting) {\n",
       "        this.waiting = true;\n",
       "        this.ws.send(JSON.stringify({ type: 'draw', figure_id: this.id }));\n",
       "    }\n",
       "};\n",
       "\n",
       "mpl.figure.prototype.handle_save = function (fig, _msg) {\n",
       "    var format_dropdown = fig.format_dropdown;\n",
       "    var format = format_dropdown.options[format_dropdown.selectedIndex].value;\n",
       "    fig.ondownload(fig, format);\n",
       "};\n",
       "\n",
       "mpl.figure.prototype.handle_resize = function (fig, msg) {\n",
       "    var size = msg['size'];\n",
       "    if (size[0] !== fig.canvas.width || size[1] !== fig.canvas.height) {\n",
       "        fig._resize_canvas(size[0], size[1], msg['forward']);\n",
       "        fig.send_message('refresh', {});\n",
       "    }\n",
       "};\n",
       "\n",
       "mpl.figure.prototype.handle_rubberband = function (fig, msg) {\n",
       "    var x0 = msg['x0'] / fig.ratio;\n",
       "    var y0 = (fig.canvas.height - msg['y0']) / fig.ratio;\n",
       "    var x1 = msg['x1'] / fig.ratio;\n",
       "    var y1 = (fig.canvas.height - msg['y1']) / fig.ratio;\n",
       "    x0 = Math.floor(x0) + 0.5;\n",
       "    y0 = Math.floor(y0) + 0.5;\n",
       "    x1 = Math.floor(x1) + 0.5;\n",
       "    y1 = Math.floor(y1) + 0.5;\n",
       "    var min_x = Math.min(x0, x1);\n",
       "    var min_y = Math.min(y0, y1);\n",
       "    var width = Math.abs(x1 - x0);\n",
       "    var height = Math.abs(y1 - y0);\n",
       "\n",
       "    fig.rubberband_context.clearRect(\n",
       "        0,\n",
       "        0,\n",
       "        fig.canvas.width / fig.ratio,\n",
       "        fig.canvas.height / fig.ratio\n",
       "    );\n",
       "\n",
       "    fig.rubberband_context.strokeRect(min_x, min_y, width, height);\n",
       "};\n",
       "\n",
       "mpl.figure.prototype.handle_figure_label = function (fig, msg) {\n",
       "    // Updates the figure title.\n",
       "    fig.header.textContent = msg['label'];\n",
       "};\n",
       "\n",
       "mpl.figure.prototype.handle_cursor = function (fig, msg) {\n",
       "    var cursor = msg['cursor'];\n",
       "    switch (cursor) {\n",
       "        case 0:\n",
       "            cursor = 'pointer';\n",
       "            break;\n",
       "        case 1:\n",
       "            cursor = 'default';\n",
       "            break;\n",
       "        case 2:\n",
       "            cursor = 'crosshair';\n",
       "            break;\n",
       "        case 3:\n",
       "            cursor = 'move';\n",
       "            break;\n",
       "    }\n",
       "    fig.rubberband_canvas.style.cursor = cursor;\n",
       "};\n",
       "\n",
       "mpl.figure.prototype.handle_message = function (fig, msg) {\n",
       "    fig.message.textContent = msg['message'];\n",
       "};\n",
       "\n",
       "mpl.figure.prototype.handle_draw = function (fig, _msg) {\n",
       "    // Request the server to send over a new figure.\n",
       "    fig.send_draw_message();\n",
       "};\n",
       "\n",
       "mpl.figure.prototype.handle_image_mode = function (fig, msg) {\n",
       "    fig.image_mode = msg['mode'];\n",
       "};\n",
       "\n",
       "mpl.figure.prototype.handle_history_buttons = function (fig, msg) {\n",
       "    for (var key in msg) {\n",
       "        if (!(key in fig.buttons)) {\n",
       "            continue;\n",
       "        }\n",
       "        fig.buttons[key].disabled = !msg[key];\n",
       "        fig.buttons[key].setAttribute('aria-disabled', !msg[key]);\n",
       "    }\n",
       "};\n",
       "\n",
       "mpl.figure.prototype.handle_navigate_mode = function (fig, msg) {\n",
       "    if (msg['mode'] === 'PAN') {\n",
       "        fig.buttons['Pan'].classList.add('active');\n",
       "        fig.buttons['Zoom'].classList.remove('active');\n",
       "    } else if (msg['mode'] === 'ZOOM') {\n",
       "        fig.buttons['Pan'].classList.remove('active');\n",
       "        fig.buttons['Zoom'].classList.add('active');\n",
       "    } else {\n",
       "        fig.buttons['Pan'].classList.remove('active');\n",
       "        fig.buttons['Zoom'].classList.remove('active');\n",
       "    }\n",
       "};\n",
       "\n",
       "mpl.figure.prototype.updated_canvas_event = function () {\n",
       "    // Called whenever the canvas gets updated.\n",
       "    this.send_message('ack', {});\n",
       "};\n",
       "\n",
       "// A function to construct a web socket function for onmessage handling.\n",
       "// Called in the figure constructor.\n",
       "mpl.figure.prototype._make_on_message_function = function (fig) {\n",
       "    return function socket_on_message(evt) {\n",
       "        if (evt.data instanceof Blob) {\n",
       "            /* FIXME: We get \"Resource interpreted as Image but\n",
       "             * transferred with MIME type text/plain:\" errors on\n",
       "             * Chrome.  But how to set the MIME type?  It doesn't seem\n",
       "             * to be part of the websocket stream */\n",
       "            evt.data.type = 'image/png';\n",
       "\n",
       "            /* Free the memory for the previous frames */\n",
       "            if (fig.imageObj.src) {\n",
       "                (window.URL || window.webkitURL).revokeObjectURL(\n",
       "                    fig.imageObj.src\n",
       "                );\n",
       "            }\n",
       "\n",
       "            fig.imageObj.src = (window.URL || window.webkitURL).createObjectURL(\n",
       "                evt.data\n",
       "            );\n",
       "            fig.updated_canvas_event();\n",
       "            fig.waiting = false;\n",
       "            return;\n",
       "        } else if (\n",
       "            typeof evt.data === 'string' &&\n",
       "            evt.data.slice(0, 21) === 'data:image/png;base64'\n",
       "        ) {\n",
       "            fig.imageObj.src = evt.data;\n",
       "            fig.updated_canvas_event();\n",
       "            fig.waiting = false;\n",
       "            return;\n",
       "        }\n",
       "\n",
       "        var msg = JSON.parse(evt.data);\n",
       "        var msg_type = msg['type'];\n",
       "\n",
       "        // Call the  \"handle_{type}\" callback, which takes\n",
       "        // the figure and JSON message as its only arguments.\n",
       "        try {\n",
       "            var callback = fig['handle_' + msg_type];\n",
       "        } catch (e) {\n",
       "            console.log(\n",
       "                \"No handler for the '\" + msg_type + \"' message type: \",\n",
       "                msg\n",
       "            );\n",
       "            return;\n",
       "        }\n",
       "\n",
       "        if (callback) {\n",
       "            try {\n",
       "                // console.log(\"Handling '\" + msg_type + \"' message: \", msg);\n",
       "                callback(fig, msg);\n",
       "            } catch (e) {\n",
       "                console.log(\n",
       "                    \"Exception inside the 'handler_\" + msg_type + \"' callback:\",\n",
       "                    e,\n",
       "                    e.stack,\n",
       "                    msg\n",
       "                );\n",
       "            }\n",
       "        }\n",
       "    };\n",
       "};\n",
       "\n",
       "// from http://stackoverflow.com/questions/1114465/getting-mouse-location-in-canvas\n",
       "mpl.findpos = function (e) {\n",
       "    //this section is from http://www.quirksmode.org/js/events_properties.html\n",
       "    var targ;\n",
       "    if (!e) {\n",
       "        e = window.event;\n",
       "    }\n",
       "    if (e.target) {\n",
       "        targ = e.target;\n",
       "    } else if (e.srcElement) {\n",
       "        targ = e.srcElement;\n",
       "    }\n",
       "    if (targ.nodeType === 3) {\n",
       "        // defeat Safari bug\n",
       "        targ = targ.parentNode;\n",
       "    }\n",
       "\n",
       "    // pageX,Y are the mouse positions relative to the document\n",
       "    var boundingRect = targ.getBoundingClientRect();\n",
       "    var x = e.pageX - (boundingRect.left + document.body.scrollLeft);\n",
       "    var y = e.pageY - (boundingRect.top + document.body.scrollTop);\n",
       "\n",
       "    return { x: x, y: y };\n",
       "};\n",
       "\n",
       "/*\n",
       " * return a copy of an object with only non-object keys\n",
       " * we need this to avoid circular references\n",
       " * http://stackoverflow.com/a/24161582/3208463\n",
       " */\n",
       "function simpleKeys(original) {\n",
       "    return Object.keys(original).reduce(function (obj, key) {\n",
       "        if (typeof original[key] !== 'object') {\n",
       "            obj[key] = original[key];\n",
       "        }\n",
       "        return obj;\n",
       "    }, {});\n",
       "}\n",
       "\n",
       "mpl.figure.prototype.mouse_event = function (event, name) {\n",
       "    var canvas_pos = mpl.findpos(event);\n",
       "\n",
       "    if (name === 'button_press') {\n",
       "        this.canvas.focus();\n",
       "        this.canvas_div.focus();\n",
       "    }\n",
       "\n",
       "    var x = canvas_pos.x * this.ratio;\n",
       "    var y = canvas_pos.y * this.ratio;\n",
       "\n",
       "    this.send_message(name, {\n",
       "        x: x,\n",
       "        y: y,\n",
       "        button: event.button,\n",
       "        step: event.step,\n",
       "        guiEvent: simpleKeys(event),\n",
       "    });\n",
       "\n",
       "    /* This prevents the web browser from automatically changing to\n",
       "     * the text insertion cursor when the button is pressed.  We want\n",
       "     * to control all of the cursor setting manually through the\n",
       "     * 'cursor' event from matplotlib */\n",
       "    event.preventDefault();\n",
       "    return false;\n",
       "};\n",
       "\n",
       "mpl.figure.prototype._key_event_extra = function (_event, _name) {\n",
       "    // Handle any extra behaviour associated with a key event\n",
       "};\n",
       "\n",
       "mpl.figure.prototype.key_event = function (event, name) {\n",
       "    // Prevent repeat events\n",
       "    if (name === 'key_press') {\n",
       "        if (event.which === this._key) {\n",
       "            return;\n",
       "        } else {\n",
       "            this._key = event.which;\n",
       "        }\n",
       "    }\n",
       "    if (name === 'key_release') {\n",
       "        this._key = null;\n",
       "    }\n",
       "\n",
       "    var value = '';\n",
       "    if (event.ctrlKey && event.which !== 17) {\n",
       "        value += 'ctrl+';\n",
       "    }\n",
       "    if (event.altKey && event.which !== 18) {\n",
       "        value += 'alt+';\n",
       "    }\n",
       "    if (event.shiftKey && event.which !== 16) {\n",
       "        value += 'shift+';\n",
       "    }\n",
       "\n",
       "    value += 'k';\n",
       "    value += event.which.toString();\n",
       "\n",
       "    this._key_event_extra(event, name);\n",
       "\n",
       "    this.send_message(name, { key: value, guiEvent: simpleKeys(event) });\n",
       "    return false;\n",
       "};\n",
       "\n",
       "mpl.figure.prototype.toolbar_button_onclick = function (name) {\n",
       "    if (name === 'download') {\n",
       "        this.handle_save(this, null);\n",
       "    } else {\n",
       "        this.send_message('toolbar_button', { name: name });\n",
       "    }\n",
       "};\n",
       "\n",
       "mpl.figure.prototype.toolbar_button_onmouseover = function (tooltip) {\n",
       "    this.message.textContent = tooltip;\n",
       "};\n",
       "\n",
       "///////////////// REMAINING CONTENT GENERATED BY embed_js.py /////////////////\n",
       "// prettier-ignore\n",
       "var _JSXTOOLS_RESIZE_OBSERVER=function(A){var t,i=new WeakMap,n=new WeakMap,a=new WeakMap,r=new WeakMap,o=new Set;function s(e){if(!(this instanceof s))throw new TypeError(\"Constructor requires 'new' operator\");i.set(this,e)}function h(){throw new TypeError(\"Function is not a constructor\")}function c(e,t,i,n){e=0 in arguments?Number(arguments[0]):0,t=1 in arguments?Number(arguments[1]):0,i=2 in arguments?Number(arguments[2]):0,n=3 in arguments?Number(arguments[3]):0,this.right=(this.x=this.left=e)+(this.width=i),this.bottom=(this.y=this.top=t)+(this.height=n),Object.freeze(this)}function d(){t=requestAnimationFrame(d);var s=new WeakMap,p=new Set;o.forEach((function(t){r.get(t).forEach((function(i){var r=t instanceof window.SVGElement,o=a.get(t),d=r?0:parseFloat(o.paddingTop),f=r?0:parseFloat(o.paddingRight),l=r?0:parseFloat(o.paddingBottom),u=r?0:parseFloat(o.paddingLeft),g=r?0:parseFloat(o.borderTopWidth),m=r?0:parseFloat(o.borderRightWidth),w=r?0:parseFloat(o.borderBottomWidth),b=u+f,F=d+l,v=(r?0:parseFloat(o.borderLeftWidth))+m,W=g+w,y=r?0:t.offsetHeight-W-t.clientHeight,E=r?0:t.offsetWidth-v-t.clientWidth,R=b+v,z=F+W,M=r?t.width:parseFloat(o.width)-R-E,O=r?t.height:parseFloat(o.height)-z-y;if(n.has(t)){var k=n.get(t);if(k[0]===M&&k[1]===O)return}n.set(t,[M,O]);var S=Object.create(h.prototype);S.target=t,S.contentRect=new c(u,d,M,O),s.has(i)||(s.set(i,[]),p.add(i)),s.get(i).push(S)}))})),p.forEach((function(e){i.get(e).call(e,s.get(e),e)}))}return s.prototype.observe=function(i){if(i instanceof window.Element){r.has(i)||(r.set(i,new Set),o.add(i),a.set(i,window.getComputedStyle(i)));var n=r.get(i);n.has(this)||n.add(this),cancelAnimationFrame(t),t=requestAnimationFrame(d)}},s.prototype.unobserve=function(i){if(i instanceof window.Element&&r.has(i)){var n=r.get(i);n.has(this)&&(n.delete(this),n.size||(r.delete(i),o.delete(i))),n.size||r.delete(i),o.size||cancelAnimationFrame(t)}},A.DOMRectReadOnly=c,A.ResizeObserver=s,A.ResizeObserverEntry=h,A}; // eslint-disable-line\n",
       "mpl.toolbar_items = [[\"Home\", \"Reset original view\", \"fa fa-home icon-home\", \"home\"], [\"Back\", \"Back to previous view\", \"fa fa-arrow-left icon-arrow-left\", \"back\"], [\"Forward\", \"Forward to next view\", \"fa fa-arrow-right icon-arrow-right\", \"forward\"], [\"\", \"\", \"\", \"\"], [\"Pan\", \"Left button pans, Right button zooms\\nx/y fixes axis, CTRL fixes aspect\", \"fa fa-arrows icon-move\", \"pan\"], [\"Zoom\", \"Zoom to rectangle\\nx/y fixes axis, CTRL fixes aspect\", \"fa fa-square-o icon-check-empty\", \"zoom\"], [\"\", \"\", \"\", \"\"], [\"Download\", \"Download plot\", \"fa fa-floppy-o icon-save\", \"download\"]];\n",
       "\n",
       "mpl.extensions = [\"eps\", \"jpeg\", \"pdf\", \"png\", \"ps\", \"raw\", \"svg\", \"tif\"];\n",
       "\n",
       "mpl.default_extension = \"png\";/* global mpl */\n",
       "\n",
       "var comm_websocket_adapter = function (comm) {\n",
       "    // Create a \"websocket\"-like object which calls the given IPython comm\n",
       "    // object with the appropriate methods. Currently this is a non binary\n",
       "    // socket, so there is still some room for performance tuning.\n",
       "    var ws = {};\n",
       "\n",
       "    ws.close = function () {\n",
       "        comm.close();\n",
       "    };\n",
       "    ws.send = function (m) {\n",
       "        //console.log('sending', m);\n",
       "        comm.send(m);\n",
       "    };\n",
       "    // Register the callback with on_msg.\n",
       "    comm.on_msg(function (msg) {\n",
       "        //console.log('receiving', msg['content']['data'], msg);\n",
       "        // Pass the mpl event to the overridden (by mpl) onmessage function.\n",
       "        ws.onmessage(msg['content']['data']);\n",
       "    });\n",
       "    return ws;\n",
       "};\n",
       "\n",
       "mpl.mpl_figure_comm = function (comm, msg) {\n",
       "    // This is the function which gets called when the mpl process\n",
       "    // starts-up an IPython Comm through the \"matplotlib\" channel.\n",
       "\n",
       "    var id = msg.content.data.id;\n",
       "    // Get hold of the div created by the display call when the Comm\n",
       "    // socket was opened in Python.\n",
       "    var element = document.getElementById(id);\n",
       "    var ws_proxy = comm_websocket_adapter(comm);\n",
       "\n",
       "    function ondownload(figure, _format) {\n",
       "        window.open(figure.canvas.toDataURL());\n",
       "    }\n",
       "\n",
       "    var fig = new mpl.figure(id, ws_proxy, ondownload, element);\n",
       "\n",
       "    // Call onopen now - mpl needs it, as it is assuming we've passed it a real\n",
       "    // web socket which is closed, not our websocket->open comm proxy.\n",
       "    ws_proxy.onopen();\n",
       "\n",
       "    fig.parent_element = element;\n",
       "    fig.cell_info = mpl.find_output_cell(\"<div id='\" + id + \"'></div>\");\n",
       "    if (!fig.cell_info) {\n",
       "        console.error('Failed to find cell for figure', id, fig);\n",
       "        return;\n",
       "    }\n",
       "    fig.cell_info[0].output_area.element.on(\n",
       "        'cleared',\n",
       "        { fig: fig },\n",
       "        fig._remove_fig_handler\n",
       "    );\n",
       "};\n",
       "\n",
       "mpl.figure.prototype.handle_close = function (fig, msg) {\n",
       "    var width = fig.canvas.width / fig.ratio;\n",
       "    fig.cell_info[0].output_area.element.off(\n",
       "        'cleared',\n",
       "        fig._remove_fig_handler\n",
       "    );\n",
       "    fig.resizeObserverInstance.unobserve(fig.canvas_div);\n",
       "\n",
       "    // Update the output cell to use the data from the current canvas.\n",
       "    fig.push_to_output();\n",
       "    var dataURL = fig.canvas.toDataURL();\n",
       "    // Re-enable the keyboard manager in IPython - without this line, in FF,\n",
       "    // the notebook keyboard shortcuts fail.\n",
       "    IPython.keyboard_manager.enable();\n",
       "    fig.parent_element.innerHTML =\n",
       "        '<img src=\"' + dataURL + '\" width=\"' + width + '\">';\n",
       "    fig.close_ws(fig, msg);\n",
       "};\n",
       "\n",
       "mpl.figure.prototype.close_ws = function (fig, msg) {\n",
       "    fig.send_message('closing', msg);\n",
       "    // fig.ws.close()\n",
       "};\n",
       "\n",
       "mpl.figure.prototype.push_to_output = function (_remove_interactive) {\n",
       "    // Turn the data on the canvas into data in the output cell.\n",
       "    var width = this.canvas.width / this.ratio;\n",
       "    var dataURL = this.canvas.toDataURL();\n",
       "    this.cell_info[1]['text/html'] =\n",
       "        '<img src=\"' + dataURL + '\" width=\"' + width + '\">';\n",
       "};\n",
       "\n",
       "mpl.figure.prototype.updated_canvas_event = function () {\n",
       "    // Tell IPython that the notebook contents must change.\n",
       "    IPython.notebook.set_dirty(true);\n",
       "    this.send_message('ack', {});\n",
       "    var fig = this;\n",
       "    // Wait a second, then push the new image to the DOM so\n",
       "    // that it is saved nicely (might be nice to debounce this).\n",
       "    setTimeout(function () {\n",
       "        fig.push_to_output();\n",
       "    }, 1000);\n",
       "};\n",
       "\n",
       "mpl.figure.prototype._init_toolbar = function () {\n",
       "    var fig = this;\n",
       "\n",
       "    var toolbar = document.createElement('div');\n",
       "    toolbar.classList = 'btn-toolbar';\n",
       "    this.root.appendChild(toolbar);\n",
       "\n",
       "    function on_click_closure(name) {\n",
       "        return function (_event) {\n",
       "            return fig.toolbar_button_onclick(name);\n",
       "        };\n",
       "    }\n",
       "\n",
       "    function on_mouseover_closure(tooltip) {\n",
       "        return function (event) {\n",
       "            if (!event.currentTarget.disabled) {\n",
       "                return fig.toolbar_button_onmouseover(tooltip);\n",
       "            }\n",
       "        };\n",
       "    }\n",
       "\n",
       "    fig.buttons = {};\n",
       "    var buttonGroup = document.createElement('div');\n",
       "    buttonGroup.classList = 'btn-group';\n",
       "    var button;\n",
       "    for (var toolbar_ind in mpl.toolbar_items) {\n",
       "        var name = mpl.toolbar_items[toolbar_ind][0];\n",
       "        var tooltip = mpl.toolbar_items[toolbar_ind][1];\n",
       "        var image = mpl.toolbar_items[toolbar_ind][2];\n",
       "        var method_name = mpl.toolbar_items[toolbar_ind][3];\n",
       "\n",
       "        if (!name) {\n",
       "            /* Instead of a spacer, we start a new button group. */\n",
       "            if (buttonGroup.hasChildNodes()) {\n",
       "                toolbar.appendChild(buttonGroup);\n",
       "            }\n",
       "            buttonGroup = document.createElement('div');\n",
       "            buttonGroup.classList = 'btn-group';\n",
       "            continue;\n",
       "        }\n",
       "\n",
       "        button = fig.buttons[name] = document.createElement('button');\n",
       "        button.classList = 'btn btn-default';\n",
       "        button.href = '#';\n",
       "        button.title = name;\n",
       "        button.innerHTML = '<i class=\"fa ' + image + ' fa-lg\"></i>';\n",
       "        button.addEventListener('click', on_click_closure(method_name));\n",
       "        button.addEventListener('mouseover', on_mouseover_closure(tooltip));\n",
       "        buttonGroup.appendChild(button);\n",
       "    }\n",
       "\n",
       "    if (buttonGroup.hasChildNodes()) {\n",
       "        toolbar.appendChild(buttonGroup);\n",
       "    }\n",
       "\n",
       "    // Add the status bar.\n",
       "    var status_bar = document.createElement('span');\n",
       "    status_bar.classList = 'mpl-message pull-right';\n",
       "    toolbar.appendChild(status_bar);\n",
       "    this.message = status_bar;\n",
       "\n",
       "    // Add the close button to the window.\n",
       "    var buttongrp = document.createElement('div');\n",
       "    buttongrp.classList = 'btn-group inline pull-right';\n",
       "    button = document.createElement('button');\n",
       "    button.classList = 'btn btn-mini btn-primary';\n",
       "    button.href = '#';\n",
       "    button.title = 'Stop Interaction';\n",
       "    button.innerHTML = '<i class=\"fa fa-power-off icon-remove icon-large\"></i>';\n",
       "    button.addEventListener('click', function (_evt) {\n",
       "        fig.handle_close(fig, {});\n",
       "    });\n",
       "    button.addEventListener(\n",
       "        'mouseover',\n",
       "        on_mouseover_closure('Stop Interaction')\n",
       "    );\n",
       "    buttongrp.appendChild(button);\n",
       "    var titlebar = this.root.querySelector('.ui-dialog-titlebar');\n",
       "    titlebar.insertBefore(buttongrp, titlebar.firstChild);\n",
       "};\n",
       "\n",
       "mpl.figure.prototype._remove_fig_handler = function (event) {\n",
       "    var fig = event.data.fig;\n",
       "    if (event.target !== this) {\n",
       "        // Ignore bubbled events from children.\n",
       "        return;\n",
       "    }\n",
       "    fig.close_ws(fig, {});\n",
       "};\n",
       "\n",
       "mpl.figure.prototype._root_extra_style = function (el) {\n",
       "    el.style.boxSizing = 'content-box'; // override notebook setting of border-box.\n",
       "};\n",
       "\n",
       "mpl.figure.prototype._canvas_extra_style = function (el) {\n",
       "    // this is important to make the div 'focusable\n",
       "    el.setAttribute('tabindex', 0);\n",
       "    // reach out to IPython and tell the keyboard manager to turn it's self\n",
       "    // off when our div gets focus\n",
       "\n",
       "    // location in version 3\n",
       "    if (IPython.notebook.keyboard_manager) {\n",
       "        IPython.notebook.keyboard_manager.register_events(el);\n",
       "    } else {\n",
       "        // location in version 2\n",
       "        IPython.keyboard_manager.register_events(el);\n",
       "    }\n",
       "};\n",
       "\n",
       "mpl.figure.prototype._key_event_extra = function (event, _name) {\n",
       "    var manager = IPython.notebook.keyboard_manager;\n",
       "    if (!manager) {\n",
       "        manager = IPython.keyboard_manager;\n",
       "    }\n",
       "\n",
       "    // Check for shift+enter\n",
       "    if (event.shiftKey && event.which === 13) {\n",
       "        this.canvas_div.blur();\n",
       "        // select the cell after this one\n",
       "        var index = IPython.notebook.find_cell_index(this.cell_info[0]);\n",
       "        IPython.notebook.select(index + 1);\n",
       "    }\n",
       "};\n",
       "\n",
       "mpl.figure.prototype.handle_save = function (fig, _msg) {\n",
       "    fig.ondownload(fig, null);\n",
       "};\n",
       "\n",
       "mpl.find_output_cell = function (html_output) {\n",
       "    // Return the cell and output element which can be found *uniquely* in the notebook.\n",
       "    // Note - this is a bit hacky, but it is done because the \"notebook_saving.Notebook\"\n",
       "    // IPython event is triggered only after the cells have been serialised, which for\n",
       "    // our purposes (turning an active figure into a static one), is too late.\n",
       "    var cells = IPython.notebook.get_cells();\n",
       "    var ncells = cells.length;\n",
       "    for (var i = 0; i < ncells; i++) {\n",
       "        var cell = cells[i];\n",
       "        if (cell.cell_type === 'code') {\n",
       "            for (var j = 0; j < cell.output_area.outputs.length; j++) {\n",
       "                var data = cell.output_area.outputs[j];\n",
       "                if (data.data) {\n",
       "                    // IPython >= 3 moved mimebundle to data attribute of output\n",
       "                    data = data.data;\n",
       "                }\n",
       "                if (data['text/html'] === html_output) {\n",
       "                    return [cell, data, j];\n",
       "                }\n",
       "            }\n",
       "        }\n",
       "    }\n",
       "};\n",
       "\n",
       "// Register the function which deals with the matplotlib target/channel.\n",
       "// The kernel may be null if the page has been refreshed.\n",
       "if (IPython.notebook.kernel !== null) {\n",
       "    IPython.notebook.kernel.comm_manager.register_target(\n",
       "        'matplotlib',\n",
       "        mpl.mpl_figure_comm\n",
       "    );\n",
       "}\n"
      ],
      "text/plain": [
       "<IPython.core.display.Javascript object>"
      ]
     },
     "metadata": {},
     "output_type": "display_data"
    },
    {
     "data": {
      "text/html": [
       "<img src=\"data:image/png;base64,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\" width=\"600\">"
      ],
      "text/plain": [
       "<IPython.core.display.HTML object>"
      ]
     },
     "metadata": {},
     "output_type": "display_data"
    }
   ],
   "source": [
    "fig=plt.figure(figsize=(6,2.5))\n",
    "plt.plot(df_skill['tau_d'],df_skill['r'],label='Pearson $r$, full')\n",
    "plt.plot(df_skill['tau_d'],df_skill['r_sub'],label='Pearson $r$, sub')\n",
    "\n",
    "plt.plot(df_skill['tau_d'],df_skill['rho'],label=r'Spearman $\\rho$, full')\n",
    "plt.plot(df_skill['tau_d'],df_skill['rho_sub'],label=r'Spearman $\\rho$, sub')\n",
    "\n",
    "plt.plot(df_skill['tau_d'],df_skill['rlog'],label='Pearson $r$, full, log transform')\n",
    "plt.plot(df_skill['tau_d'],df_skill['rlog_sub'],label='Pearson $r$, sub, log transform')\n",
    "plt.legend(loc='upper left',bbox_to_anchor=[1.02,1.0],frameon=False)\n",
    "plt.xlabel('Decay time scale (d)')\n",
    "plt.axis(ymin=0,xmin=0)\n",
    "fig.tight_layout()"
   ]
  },
  {
   "cell_type": "code",
   "execution_count": null,
   "metadata": {},
   "outputs": [],
   "source": [
    "skills=[]\n",
    "tau_d=40\n",
    "\n",
    "for storm_factor in [0.005,0.01,0.02,0.03,0.04,0.05,0.08,0.1,0.15,0.2,0.3,0.4,0.5,0.75,1]:\n",
    "    tau=np.timedelta64(int(tau_d*86400),'s')\n",
    "    manta_pred=predict_mantas(manta,tau,storm_factor=storm_factor)\n",
    "\n",
    "    skill=dict(tau_d=tau_d,storm_factor=storm_factor)\n",
    "    \n",
    "    obs=manta_pred['part_per_m2_nofiber']\n",
    "    mod=manta_pred['C_model'] \n",
    "\n",
    "    r=np.corrcoef(obs, mod)[0,1]\n",
    "    rho,p=spearmanr(obs, mod)\n",
    "    rlog=np.corrcoef( np.log(obs[obs>0]),mod[obs>0])[0,1]\n",
    "    skill['r']=r\n",
    "    skill['rho']=rho\n",
    "    skill['rho_p']=p\n",
    "    skill['rlog']=rlog\n",
    "    \n",
    "    # Same but drop top/bottom 2 outliers:\n",
    "    obs_rank=np.argsort(np.argsort(obs))\n",
    "    sel=(obs_rank>2)&(obs_rank<len(obs)-2)\n",
    "    r=np.corrcoef(obs[sel], mod[sel])[0,1]\n",
    "    rho,p=spearmanr(obs[sel], mod[sel])\n",
    "    rlog=np.corrcoef( np.log(obs[sel]),mod[sel])[0,1]\n",
    "    skill['r_sub']=r\n",
    "    skill['rho_sub']=rho\n",
    "    skill['rho_p_sub']=p\n",
    "    skill['rlog_sub']=rlog\n",
    "    \n",
    "    skills.append(skill)\n",
    "    \n",
    "df_skill_sf=pd.DataFrame(skills)\n"
   ]
  },
  {
   "cell_type": "code",
   "execution_count": null,
   "metadata": {},
   "outputs": [],
   "source": [
    "fig=plt.figure(figsize=(6,2.5))\n",
    "#x=df_skill['tau_d']\n",
    "#plt.xlabel('Decay time scale (d)')\n",
    "x=np.log(df_skill_sf['storm_factor'])\n",
    "plt.xlabel('log(Storm factor)')\n",
    "plt.plot(x,df_skill_sf['r'],label='Pearson $r$, full')\n",
    "plt.plot(x,df_skill_sf['r_sub'],label='Pearson $r$, sub')\n",
    "\n",
    "plt.plot(x,df_skill_sf['rho'],label=r'Spearman $\\rho$, full')\n",
    "plt.plot(x,df_skill_sf['rho_sub'],label=r'Spearman $\\rho$, sub')\n",
    "\n",
    "plt.plot(x,df_skill_sf['rlog'],label='Pearson $r$, full, log transform')\n",
    "plt.plot(x,df_skill_sf['rlog_sub'],label='Pearson $r$, sub, log transform')\n",
    "plt.legend(loc='upper left',bbox_to_anchor=[1.02,1.0],frameon=False)\n",
    "plt.axis(ymin=0) # ,xmin=0)\n",
    "fig.tight_layout()\n"
   ]
  },
  {
   "cell_type": "code",
   "execution_count": null,
   "metadata": {},
   "outputs": [],
   "source": [
    "pred_tau1=predict_mantas(manta,np.timedelta64(1,'D'))\n",
    "pred_tau60=predict_mantas(manta,np.timedelta64(60,'D'))\n"
   ]
  },
  {
   "cell_type": "code",
   "execution_count": null,
   "metadata": {},
   "outputs": [],
   "source": [
    "fig,axss=plt.subplots(2,2)\n",
    "\n",
    "for axs,marker,tau_d,pred in [(axss[0,:],'o',1,pred_tau1),\n",
    "                              (axss[1,:],'P',60,pred_tau60) ]:\n",
    "    obs=pred['part_per_m2_nofiber']\n",
    "    mod=pred['C_model'] \n",
    "    val=np.arange(len(obs))\n",
    "    \n",
    "    axs[0].scatter(obs,mod,30,val,cmap='jet',marker=marker,\n",
    "                   label=f\"{tau_d} days\")\n",
    "    obs_rank=np.argsort(np.argsort(obs))\n",
    "    mod_rank=np.argsort(np.argsort(mod))\n",
    "    axs[1].scatter(obs_rank,mod_rank,30,val,cmap='jet',marker=marker,\n",
    "                   label=f\"{tau_d} days\")\n",
    "    \n"
   ]
  },
  {
   "cell_type": "markdown",
   "metadata": {},
   "source": [
    "Previously I got these results:\n",
    "* Pearson $r$ is maximized by omitting any decay, as in $\\tau\\rightarrow\\infty$\n",
    "* Spearman $\\rho$ is maximized by having a very short decay, 15h\n",
    "* Log-transformed Pearson $r$ is maximized at around 25 days.\n",
    "\n",
    "If I remove the top 2 and bottom 2 observed values, then Pearson\n",
    "values come up to a level similar to log-pearson. Pearson\n",
    "is still maximized by having little or no decay.\n",
    "\n",
    "Re-running this, I don't see the local max in Pearson of the\n",
    "log-transformed data.\n",
    "\n",
    "What does it mean that Pearson correlation is highest at long decay\n",
    "time scales, while Spearman is highest at short decay scales?\n",
    "\n",
    "At short decay time scales, many of the predicted concentrations end up being\n",
    "very small, substantially smaller than the observations even with no scaling\n",
    "of the loads. This is penalized by Pearson, but for Spearman this correlates with\n",
    "the lower concentration in the ocean compared to the estuary, and thus increases\n",
    "skill.\n"
   ]
  },
  {
   "cell_type": "code",
   "execution_count": null,
   "metadata": {},
   "outputs": [],
   "source": [
    "# What is Spearman just for getting two populations split correctly?\n",
    "# Similar to what I get (for an offset that nearly makes the populations\n",
    "# distinct)\n",
    "# If the populations are different by a scale, then it takes a pretty \n",
    "# large scale (30?) to get a spearman of 0.7.\n",
    "\n",
    "N=60\n",
    "obs=np.random.random(N)\n",
    "mod=np.random.random(N)\n",
    "\n",
    "#off=0.8\n",
    "#obs[:N//2]+=off\n",
    "#mod[:N//2]+=off\n",
    "\n",
    "fac=30\n",
    "obs[:N//2]*=fac\n",
    "mod[:N//2]*=fac\n",
    "\n",
    "rho,p=spearmanr(obs,mod)\n",
    "rho"
   ]
  },
  {
   "cell_type": "code",
   "execution_count": null,
   "metadata": {},
   "outputs": [],
   "source": [
    "# Group samples - Central Bay, North Bay, South Bay, NMS.\n",
    "def loc_to_region(s):\n",
    "    if s.startswith('SPB') or s.startswith('SUB'): return 'NB'\n",
    "    if s.startswith('SB') or s.startswith('LSB'): return 'SB'\n",
    "    if s.startswith('GFNMS') or s.startswith('MBNMS') or s.startswith('CBNMS'): \n",
    "        return 'NMS'\n",
    "    if s.startswith('CB') or s=='SFBay': return 'CB'\n",
    "    raise Exception(\"No match for %s\"%s)\n",
    "    \n",
    "def analyze_medians(df):\n",
    "    dfm=df.loc[:,['region','obs','predicted']].melt(id_vars=['region']).set_index(['region','variable'])\n",
    "\n",
    "    dfm.sort_index(inplace=True)\n",
    "\n",
    "    def p_total(f):\n",
    "        # Maximize the combined median test\n",
    "        p_tot=1.0\n",
    "        for region in ['CB','NB','SB','NMS']:\n",
    "            obs=dfm.loc[ (region,'obs'), 'value']\n",
    "            mod=f*dfm.loc[ (region,'predicted'), 'value']\n",
    "            # is it better to choose just the modeled data where the observation\n",
    "            # is valid?\n",
    "            stat,p,M,cont=stats.median_test( obs[np.isfinite(obs)] ,\n",
    "                                             mod[np.isfinite(mod)] )\n",
    "            p_tot*=p\n",
    "        return p_tot\n",
    "\n",
    "    def cost(p):\n",
    "        return -p_total( 10**p )\n",
    "\n",
    "    from scipy.optimize import brute\n",
    "\n",
    "    best=brute(cost,[[-4,1]],Ns=51)\n",
    "    scale=10**best[0]\n",
    "    p_tot=p_total(scale)\n",
    "    print(f\"P-total: {p_tot:.3f}  with scale: {1/scale:5f}\")\n",
    "    return p_tot,scale"
   ]
  },
  {
   "cell_type": "code",
   "execution_count": null,
   "metadata": {
    "scrolled": false
   },
   "outputs": [],
   "source": [
    "# Pulling in the old code from median comparisons.\n",
    "\n",
    "manta_field='part_per_m2_nofiber'\n",
    "\n",
    "for tau_d in [50]: # [0.5,1,1.5,2.,3,4,5,6,8,10,12,15,20,25,30,35,40,45,50,55,60]:\n",
    "    print(f\"Tau: {tau_d} days\")\n",
    "    tau=np.timedelta64(int(tau_d*86400),'s')\n",
    "    df=predict_mantas(manta,tau,storm_factor=0.01)\n",
    "    \n",
    "    df=df[ df[manta_field].notnull() ].copy()\n",
    "    \n",
    "    regions=df['region']=df['SAMPLE LOCATION'].apply(loc_to_region)\n",
    "    df=df.rename(columns={manta_field:'obs','C_model':'predicted'}).loc[:,['region','obs','predicted']]\n",
    "\n",
    "    # Scale gets optimized to find the best nonparametric match\n",
    "    p_tot,scale=analyze_medians(df)\n",
    "\n",
    "    # This is not rigorous!\n",
    "    obs_mag=1.0\n",
    "    pred_mag=1/scale\n",
    "    \n",
    "    df['obs_frac']=df['obs'] / obs_mag\n",
    "    df['pred_frac']=df['predicted'] / pred_mag\n",
    "\n",
    "    dfm=df.loc[:,['region','obs_frac','pred_frac']].melt(id_vars=['region'])\n",
    "\n",
    "    fig,ax=plt.subplots(1,1)# ,figsize=(10,3))\n",
    "    sns.boxplot(x='region',y='value',hue='variable',data=dfm,fliersize=0,whis=0,\n",
    "                ax=ax,bootstrap=1000)\n",
    "    ax.axis(ymax=0.35,ymin=0)\n",
    "    ax.legend(ax.artists,['Observed',f'Predicted/{pred_mag:.2f}'],loc='upper right')\n",
    "    ax.set_ylabel('Particle m$^{-2}$')\n",
    "    ax.set_xlabel('Region')\n",
    "    \n",
    "    ax.set_title(f'Tau={tau_d} days  $\\\\Pi \\\\rho$={p_tot:.2f}')\n",
    "    df2=dfm.set_index(['region','variable'])\n",
    "    p_tot=1.0\n",
    "    for region in ['CB','NB','SB','NMS']:\n",
    "        stat,p,M,cont=stats.median_test( df2.loc[ (region,'obs_frac'), 'value'] ,\n",
    "                                         df2.loc[ (region,'pred_frac'), 'value'] )\n",
    "        p_tot*=p\n",
    "    print(f\"{tau_d} days: ampl. error: {pred_mag/obs_mag:.3f} Median test net p: {p_tot:.5f}\")\n",
    "    \n",
    "    print()\n",
    "    fig.savefig(f'manta_comp_v05-tau{tau_d:.1f}.png',dpi=200)\n",
    "    #break"
   ]
  },
  {
   "cell_type": "code",
   "execution_count": null,
   "metadata": {},
   "outputs": [],
   "source": [
    "#plt.figure()\n",
    "#plt.plot( df2.loc[('NB','obs_frac'),'value'], 'ro')\n",
    "#plt.plot( df2.loc[('NB','pred_frac'),'value'],'go')\n",
    "\n",
    "# Just 6 values...\n",
    "display(df2.loc[('NB','obs_frac'),'value'])\n",
    "display(df2.loc[('NB','pred_frac'),'value'])\n"
   ]
  },
  {
   "cell_type": "code",
   "execution_count": null,
   "metadata": {},
   "outputs": [],
   "source": [
    "# For each manta sample, make a plot showing the conc. distribution at that time\n",
    "# to debug what's up with the north bay samples:\n",
    "\n",
    "tau_d=8\n",
    "fac=39.81 # this is from analyze_medians.\n",
    "six.moves.reload_module(conc_figure)\n",
    "\n",
    "fig_dir=f\"sample_wise_tau{tau_d}\"\n",
    "if not os.path.exists(fig_dir):\n",
    "    os.makedirs(fig_dir)\n",
    "\n",
    "tau=np.timedelta64(int(tau_d*86400),'s')\n",
    "for idx,rec in manta.iterrows():\n",
    "    print(idx)\n",
    "    img_fn=os.path.join(fig_dir,f\"sample-{idx}.png\")\n",
    "    fig,axs=plt.subplots(1,2,figsize=(11,7))\n",
    "    fig.subplots_adjust(left=0,right=1,top=1,bottom=0,wspace=0.02)\n",
    "    df=particles_for_date(rec.DATE).copy()\n",
    "\n",
    "    age=df['time'] - df['rel_time']\n",
    "    decay=np.exp( -age/tau ) \n",
    "    \n",
    "    # No spatial weighting, but need the godin filter weights\n",
    "    t_sample=np.datetime64(rec.DATE)\n",
    "    # Noon, local, day of sampling\n",
    "    t_center = t_sample+np.timedelta64(8,'h') + np.timedelta64(12,'h')\n",
    "    delta_hours=((df['time']-t_center)/np.timedelta64(1,'h')).astype(np.int32)\n",
    "    weight_time=godwin[delta_hours+godwin_offset_h]\n",
    "\n",
    "    df['count']=weight_time * decay * df['mp_per_particle'] \n",
    "\n",
    "    weight=weight_time * decay * df['mp_per_particle'] \n",
    "        \n",
    "    ds_conc=post.particles_to_conc(df,grid,'count')\n",
    "\n",
    "    ds_smooth=ds_conc.copy()\n",
    "    for _ in range(30):\n",
    "        ds_smooth['conc']=('cell',), Msmooth.dot(ds_smooth.conc.values)\n",
    "    \n",
    "    cell=grid.select_cells_nearest([rec.x,rec.y])\n",
    "        \n",
    "    zoom=conc_figure.BayConcFigure.zoom\n",
    "    \n",
    "    if ( (rec.x>zoom[0]) and\n",
    "        (rec.x<zoom[1]) and\n",
    "        (rec.y>zoom[2]) and\n",
    "        (rec.y<zoom[3])):\n",
    "        FigCls=conc_figure.BayConcFigure\n",
    "        FigCls.cax_loc=[0.82,0.25,0.03,0.35] # normalized to axis \n",
    "    else:\n",
    "        FigCls=conc_figure.CoastalConcFigure\n",
    "        \n",
    "    for ds,ax in zip([ds_smooth,ds_conc],axs):\n",
    "        cf=FigCls(ds,fig=fig,ax=ax,grid=grid)\n",
    "        cf.ax.plot([rec.x],[rec.y],'k+')\n",
    "        conc_pred=ds.conc.isel(cell=cell).item()\n",
    "        conc_pred=conc_pred / fac\n",
    "\n",
    "        cf.ax.text(rec.x,rec.y,\n",
    "                   f\"part_per_m2_nofiber\\n obs={rec.part_per_m2_nofiber:.2e}\\npred={conc_pred:.2e}\")\n",
    "\n",
    "        cf.ax.text(0.01,0.95,f\"Manta sample: {rec.SampleID}\",transform=cf.ax.transAxes,va='top')\n",
    "    fig.savefig(img_fn,dpi=200)\n"
   ]
  },
  {
   "cell_type": "code",
   "execution_count": null,
   "metadata": {},
   "outputs": [],
   "source": [
    "ds_conc"
   ]
  },
  {
   "cell_type": "markdown",
   "metadata": {},
   "source": [
    "Next Steps\n",
    "-- \n",
    "\n",
    "2. Think through how to present the comparisons. *ish*\n",
    "3. What can we infer from these patterns? *ish*\n",
    "4. Results appear worse, in terms of likelihood, than \n",
    "   for the old runs, probably driven by NB. Looks like \n",
    "   I am underpredicting NB.  Sample by sample, not terribly\n",
    "   obvious what's up.  It's just 6 samples.\n",
    "4. Would having different loss coefficients for WW and SW be worth\n",
    "   attempting?\n",
    "    - This is worth trying, and try maximizing the pearson with outliers\n",
    "      tossed.\n",
    "    - Does not make much difference.\n",
    "5. Is it worth following a similar analysis to previously, lumping\n",
    "   samples into embayments? *Blindly running that same code, it suggests\n",
    "   that decay times >=20 days are best, with little difference beyond there.*\n",
    "   I'm getting smaller net prob. values, though, and it seems to be driven\n",
    "   by NB being underpredicted (relatively speaking) in the new runs. Any chance\n",
    "   I'm missing something in the north? The one map plot above looks okay, but compare\n",
    "   for wet weather.\n",
    "   \n",
    "What about applying a much more aggressive smoothing, going implicit?"
   ]
  },
  {
   "cell_type": "code",
   "execution_count": null,
   "metadata": {},
   "outputs": [],
   "source": [
    "six.moves.reload_module(conc_figure)\n",
    "\n",
    "conc_figure.BayConcFigure(conc_ds,grid=grid,cmap=cmap)"
   ]
  }
 ],
 "metadata": {
  "kernelspec": {
   "display_name": "Python 3",
   "language": "python",
   "name": "python3"
  },
  "language_info": {
   "codemirror_mode": {
    "name": "ipython",
    "version": 3
   },
   "file_extension": ".py",
   "mimetype": "text/x-python",
   "name": "python",
   "nbconvert_exporter": "python",
   "pygments_lexer": "ipython3",
   "version": "3.9.1"
  }
 },
 "nbformat": 4,
 "nbformat_minor": 2
}
