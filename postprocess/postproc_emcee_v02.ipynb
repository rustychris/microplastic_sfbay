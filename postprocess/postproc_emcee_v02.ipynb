{
 "cells": [
  {
   "cell_type": "markdown",
   "metadata": {},
   "source": [
    "Dask Approach to Non-SQL PTM Queries\n",
    "--\n",
    "\n",
    "* v01: move away from classes, try to organize the computation \n",
    "primarily in dask.\n",
    "* v02: target optimization.\n",
    "* v03: why not Bayesian?\n",
    "* emcee_v01: refine Bayesian to use a counting distribution\n",
    "* emcee_v02: include storm_factor\n",
    "\n",
    "The observations are overdisperse, and a Poisson distribution did not\n",
    "lead to convergence. A negative binomial was much better, with a dispersion\n",
    "parameter $\\alpha \\approx 1.75$ performed well, with $\\alpha$ determined\n",
    "*a priori* by MLE. This was done in three steps:\n",
    "1. Fit a negative binomial to the full set of observations, not conditioned\n",
    "   on the model output. Though dependent on the handling of blank contamination,\n",
    "   this yields $\\alpha \\approx 3.4$. Q-Q plots show that log-normal is very good\n",
    "   when ignoring blank contamination, but negative binomial is better when \n",
    "   blank contamination is subtracted out. I did not re-attempt this process\n",
    "   with the updated marginal likelihood code.\n",
    "2. Fit model rates (decay, beaching, deposition) based on that $\\alpha$, by\n",
    "   maximum likelihood.\n",
    "3. Use the result of 2 as a starting point to fit rates *and* $\\alpha$, again\n",
    "   use maximum likelihood.  This yields $\\alpha \\approx 1.73$.\n",
    "\n",
    "The updated $\\alpha$ was then kept constant for the MCMC sampling. The result\n",
    "was\n",
    "\n",
    "Accounting for blank contamination\n",
    "--\n",
    "When fitting a distribution to the overall set of observations, I originally\n",
    "ignored blank contamination, and log-normal was the clear winner. Offsetting\n",
    "the observations by a constant to account for blank contamination makes \n",
    "negative binomial closer, and log-normal becomes worse. This is in part because\n",
    "we end up with some zero-inflation, those have to be clipped to >0 for log-normal,\n",
    "and the fit deteriorates.\n",
    "\n",
    "This leads to the question of how to properly implement the likelihood. I think \n",
    "what I want to say is:\n",
    "$$\n",
    "\\begin{align}\n",
    " N_{i,true}  & \\sim \\textrm{NegBinom}( \\mu=N_{i,model}, \\alpha=\\alpha_0 ) \\\\\n",
    " N_{i,blank} & \\sim \\textrm{Poisson}( \\mu=\\mu_{blank} ) \\\\\n",
    " N_{i,obs}   & = N_{i,true} + N_{i,blank}\n",
    "\\end{align}\n",
    "$$\n",
    "\n",
    "Attempting to parrot some notation from [https://krasserm.github.io/2019/11/21/latent-variable-models-part-1/](here)\n",
    "\n",
    "$\\mathbf{\\theta}$ are my model parameters. In my case, \n",
    "$\\mathbf{\\theta} = \\{k_{beach},k_{deposit},k_{decay}\\}$.\n",
    "\n",
    "The hydrodynamics, particle tracking, and source loading collectively define a forward model\n",
    "$$\n",
    "\\mu_i = M(obs_i,\\theta)\n",
    "$$\n",
    "where $i$ indexes observations, $\\mu_i$ is the count predicted by the model, $obs_i$ encapsulates the observation metadata (time, location, trawl area).\n",
    "\n",
    "Take $x_i$ to be the observed count. The first set of equations above can be rewritten in this likelihood form\n",
    "as\n",
    "$$\n",
    "p(x_i|b_i,\\theta) = \\textrm{NB}\\left(x_i-b_i | \\mu_i,\\alpha \\right)\n",
    "$$\n",
    "where $b_i$ is the blank contamination for observation $i$. This is fine if we intend\n",
    "to sample $b_i$. Based on the measurements of blank contamination, we have a\n",
    "reasonable prior for $b_i$ as a sum of 5 Poisson distributions. "
   ]
  },
  {
   "cell_type": "markdown",
   "metadata": {},
   "source": [
    "But instead of sampling $b_i$, I want to marginalize it\n",
    "$$\n",
    "p(x_i|\\theta) = \\sum_{b_i\\in \\textit{N}} p(b_i) p(x_i|b_i,\\theta)\n",
    "$$\n",
    "\n",
    "***I've lost my way.***\n",
    "\n",
    "\n",
    "\n",
    "\n",
    "*Without* the blank issue, I have:\n",
    "$$\n",
    "LL_i = \\textrm{NegBinom.logpmf}( N_{i,obs}, \\mu=N_{i,model}, \\alpha=\\alpha_0)\n",
    "$$\n",
    "or in other words, use the negative binomial distribution with a mean predicted\n",
    "by the model and evaluate it for the observed count.\n",
    "\n",
    "I think that one option to include blanks is to explicitly integrate over the Poisson:\n",
    "$$\n",
    "LL_i = \\log \\left[ \\sum_{b=b_{min}}^{b_{max}} \n",
    "                     \\textrm{NegBinom.pmf}( N_{i,obs}-b, \\mu=N_{i,model}, \\alpha=\\alpha_0)\n",
    "                     \\cdot\n",
    "                     \\textrm{Poisson.pmf}( b, \\mu_{blank} ) \n",
    "           \\right]\n",
    "$$\n",
    "\n",
    "The mean contamination is on the order of 4, so this integration could test for $b\\in[0,15]$\n",
    "and capture enough of the probability mass."
   ]
  },
  {
   "cell_type": "markdown",
   "metadata": {},
   "source": [
    "Accounting for catch efficiency\n",
    "--\n",
    "Simply including a global scale factor leads to confusion. The optimization\n",
    "and mcmc sampling try to increase both the scale factor and the beaching rate.\n",
    "Seems to be specific to beaching and scale. Deposition and decay are still \n",
    "distributed near 0. MAP puts beaching at 0.497 and scale at 2.1006. If instead\n",
    "I set scale at 0.5, what beaching comes out? 0.10445.\n",
    "\n",
    "Basic comparison of scatter plots for these two parameter sets is not illuminating.\n",
    "Visually the scale=2, beaching=0.5 parameters do look a tiny bit cleaner.\n",
    "\n",
    "\n",
    "What does this mean?\n",
    " * Current beaching approach is not sensitive enough.\n",
    " * Data are insufficient to fit both scale and beaching.\n",
    "\n",
    "What to do?\n",
    " * Break samples out into morphologies, size groups, settling velocity classes. \n",
    " * Set catch efficiency from literature?\n",
    "\n",
    "\n",
    "Suggestions from Ed:\n",
    "- Negative binomial or actually multinomial (to get, e.g., a size distribution)\n",
    "- probably have to use a discrete distribution\n",
    "- Laura Mitchell paper about how to deal with catchability of fish."
   ]
  },
  {
   "cell_type": "code",
   "execution_count": 1,
   "metadata": {},
   "outputs": [
    {
     "name": "stderr",
     "output_type": "stream",
     "text": [
      "WARNING:postproc:Configuring malloc\n"
     ]
    }
   ],
   "source": [
    "import postproc_dask as post\n",
    "import six"
   ]
  },
  {
   "cell_type": "code",
   "execution_count": 2,
   "metadata": {},
   "outputs": [],
   "source": [
    "import matplotlib.pyplot as plt\n",
    "import conc_figure\n",
    "import six\n",
    "import stompy.plot.cmap as scmap\n",
    "from stompy.spatial import proj_utils\n",
    "from matplotlib import cm\n",
    "cmap=cm.CMRmap_r\n",
    "cmap=scmap.cmap_clip(cmap,0.03,1.0)\n",
    "\n",
    "%matplotlib notebook"
   ]
  },
  {
   "cell_type": "code",
   "execution_count": 3,
   "metadata": {},
   "outputs": [],
   "source": [
    "import itertools"
   ]
  },
  {
   "cell_type": "code",
   "execution_count": 4,
   "metadata": {},
   "outputs": [],
   "source": [
    "import os\n",
    "import glob\n",
    "import numpy as np\n",
    "import pandas as pd\n",
    "import xarray as xr\n",
    "import re\n",
    "\n",
    "from stompy.grid import unstructured_grid\n",
    "from stompy import utils, memoize\n",
    "from stompy.model.fish_ptm import ptm_config, ptm_tools\n",
    "from stompy.model.suntans import sun_driver\n",
    "from scipy.stats import spearmanr\n",
    "\n",
    "import stompy.plot.cmap as scmap\n",
    "from scipy import stats\n",
    "import seaborn as sns\n",
    "turbo=scmap.load_gradient('turbo.cpt')"
   ]
  },
  {
   "cell_type": "markdown",
   "metadata": {},
   "source": [
    "Overall Process\n",
    "===\n",
    "\n",
    "1. SUNTANS hydro runs\n",
    "2. SUNTANS average output\n",
    "3. ptm-formatted average output\n",
    "4. PTM runs\n",
    "5. Load data\n",
    "\n",
    "The top-level query is something like *generate a map of concentrations for...*\n",
    "\n",
    "filter on:\n",
    " - sources $x$\n",
    " - settling classes $y$\n",
    " - vertical positions $z$\n",
    " - horizontal positions $h$\n",
    "\n",
    "weighted by\n",
    "\n",
    " - loading data \n",
    " - age\n",
    " \n",
    "mapped by one of ...\n",
    "\n",
    " - bounding box\n",
    " - put on hydro grid\n",
    " - put on regular grid\n",
    "\n",
    "and possibly smoothed."
   ]
  },
  {
   "cell_type": "code",
   "execution_count": 6,
   "metadata": {},
   "outputs": [],
   "source": [
    "# Experiment level configuration -- small, all python native data.\n",
    "import cfg_v01 \n",
    "cfg=cfg_v01.cfg"
   ]
  },
  {
   "cell_type": "code",
   "execution_count": 8,
   "metadata": {},
   "outputs": [],
   "source": [
    "# This doesn't seem to work from within jupyter notebook.\n",
    "# it allocates huge amounts of memory and gets stuck.\n",
    "# import multiprocessing\n",
    "compute_kw={} # dict(pool=multiprocessing.Pool(24))"
   ]
  },
  {
   "cell_type": "code",
   "execution_count": null,
   "metadata": {},
   "outputs": [],
   "source": [
    "# So far this is only used locally.  Slow to compute (15s)\n",
    "Msmooth=cfg.grid.smooth_matrix()\n",
    "\n",
    "Msmooth_K=cfg.grid.smooth_matrix(K=100*np.ones(cfg.grid.Nedges()))"
   ]
  },
  {
   "cell_type": "code",
   "execution_count": 12,
   "metadata": {},
   "outputs": [],
   "source": [
    "areas=cfg.grid.cells_area()    "
   ]
  },
  {
   "cell_type": "code",
   "execution_count": 13,
   "metadata": {},
   "outputs": [],
   "source": [
    "os.makedirs(cfg['manta_out_dir'],exist_ok=True)"
   ]
  },
  {
   "cell_type": "markdown",
   "metadata": {},
   "source": [
    "Next steps\n",
    "--\n",
    "\n",
    "\n",
    "1. Recreate some of the figures from before, including on-grid smoothing.  \n",
    "  a. Sample plot: from the powerpoint. 2017-08-30 to 2017-09-14. Surface particles\n",
    "     max age of 10 days.   *This plot is similarish -- not exactly the same but close\n",
    "     enough to rule out fundamental errors*\n",
    "2. Pull out manta samples as before. Maybe skip putting it on the grid, just\n",
    "   query a radius.\n",
    "  a. Implement in this notebook\n",
    "  b. Move all of this to a module."
   ]
  },
  {
   "cell_type": "code",
   "execution_count": 14,
   "metadata": {},
   "outputs": [],
   "source": [
    "ll2utm=proj_utils.mapper('WGS84','EPSG:26910')\n",
    "# Load the manta data, clean it up\n",
    "manta_fn='manta_summary-v03.csv'\n",
    "manta=pd.read_csv(manta_fn)\n",
    "# manta.head()"
   ]
  },
  {
   "cell_type": "code",
   "execution_count": 15,
   "metadata": {},
   "outputs": [],
   "source": [
    "blank_rates=pd.read_csv(\"blank_rates-v04.csv\").set_index('cat')['blank_rate']"
   ]
  },
  {
   "cell_type": "code",
   "execution_count": 16,
   "metadata": {},
   "outputs": [
    {
     "data": {
      "text/plain": [
       "cat\n",
       "Fiber           42.000\n",
       "Fiber Bundle     1.875\n",
       "Fragment         1.875\n",
       "Foam             0.125\n",
       "Film             0.000\n",
       "Sphere           0.000\n",
       "Name: blank_rate, dtype: float64"
      ]
     },
     "execution_count": 16,
     "metadata": {},
     "output_type": "execute_result"
    }
   ],
   "source": [
    "blank_rates"
   ]
  },
  {
   "cell_type": "code",
   "execution_count": 17,
   "metadata": {},
   "outputs": [],
   "source": [
    "godwin_offset_h=post.godwin_offset_h\n",
    "godwin=post.godwin"
   ]
  },
  {
   "cell_type": "code",
   "execution_count": 18,
   "metadata": {},
   "outputs": [
    {
     "data": {
      "text/plain": [
       "8"
      ]
     },
     "execution_count": 18,
     "metadata": {},
     "output_type": "execute_result"
    }
   ],
   "source": [
    "import numexpr as ne\n",
    "ne.set_num_threads(16) # reasonable on cws-linuxmodeling"
   ]
  },
  {
   "cell_type": "code",
   "execution_count": 59,
   "metadata": {},
   "outputs": [
    {
     "name": "stdout",
     "output_type": "stream",
     "text": [
      "Manta sample 0: 4.73e+08 bytes, 3.64e+07 elements\n"
     ]
    },
    {
     "name": "stderr",
     "output_type": "stream",
     "text": [
      "INFO:utils:1\n"
     ]
    },
    {
     "name": "stdout",
     "output_type": "stream",
     "text": [
      "    uniquified: 1.77e+08 bytes, 1.36e+07 elements\n",
      "Manta sample 1: 4.75e+08 bytes, 3.65e+07 elements\n"
     ]
    },
    {
     "name": "stderr",
     "output_type": "stream",
     "text": [
      "INFO:utils:2\n"
     ]
    },
    {
     "name": "stdout",
     "output_type": "stream",
     "text": [
      "    uniquified: 1.77e+08 bytes, 1.36e+07 elements\n",
      "Manta sample 2: 4.60e+08 bytes, 3.54e+07 elements\n"
     ]
    },
    {
     "name": "stderr",
     "output_type": "stream",
     "text": [
      "INFO:utils:3\n"
     ]
    },
    {
     "name": "stdout",
     "output_type": "stream",
     "text": [
      "    uniquified: 1.73e+08 bytes, 1.33e+07 elements\n",
      "Manta sample 3: 4.74e+08 bytes, 3.65e+07 elements\n"
     ]
    },
    {
     "name": "stderr",
     "output_type": "stream",
     "text": [
      "INFO:utils:4\n"
     ]
    },
    {
     "name": "stdout",
     "output_type": "stream",
     "text": [
      "    uniquified: 1.77e+08 bytes, 1.36e+07 elements\n",
      "Manta sample 4: 4.40e+08 bytes, 3.38e+07 elements\n"
     ]
    },
    {
     "name": "stderr",
     "output_type": "stream",
     "text": [
      "INFO:utils:5\n"
     ]
    },
    {
     "name": "stdout",
     "output_type": "stream",
     "text": [
      "    uniquified: 1.69e+08 bytes, 1.30e+07 elements\n",
      "Manta sample 5: 4.66e+08 bytes, 3.59e+07 elements\n"
     ]
    },
    {
     "name": "stderr",
     "output_type": "stream",
     "text": [
      "INFO:utils:6\n"
     ]
    },
    {
     "name": "stdout",
     "output_type": "stream",
     "text": [
      "    uniquified: 1.76e+08 bytes, 1.35e+07 elements\n",
      "Manta sample 6: 4.63e+08 bytes, 3.56e+07 elements\n"
     ]
    },
    {
     "name": "stderr",
     "output_type": "stream",
     "text": [
      "INFO:utils:7\n"
     ]
    },
    {
     "name": "stdout",
     "output_type": "stream",
     "text": [
      "    uniquified: 1.75e+08 bytes, 1.35e+07 elements\n",
      "Manta sample 7: 4.68e+08 bytes, 3.60e+07 elements\n"
     ]
    },
    {
     "name": "stderr",
     "output_type": "stream",
     "text": [
      "INFO:utils:8\n"
     ]
    },
    {
     "name": "stdout",
     "output_type": "stream",
     "text": [
      "    uniquified: 1.76e+08 bytes, 1.35e+07 elements\n",
      "Manta sample 11: 3.82e+08 bytes, 2.94e+07 elements\n"
     ]
    },
    {
     "name": "stderr",
     "output_type": "stream",
     "text": [
      "INFO:utils:9\n"
     ]
    },
    {
     "name": "stdout",
     "output_type": "stream",
     "text": [
      "    uniquified: 1.56e+08 bytes, 1.20e+07 elements\n",
      "Manta sample 10: 3.81e+08 bytes, 2.93e+07 elements\n"
     ]
    },
    {
     "name": "stderr",
     "output_type": "stream",
     "text": [
      "INFO:utils:10\n"
     ]
    },
    {
     "name": "stdout",
     "output_type": "stream",
     "text": [
      "    uniquified: 1.55e+08 bytes, 1.19e+07 elements\n",
      "Manta sample 8: 3.78e+08 bytes, 2.91e+07 elements\n"
     ]
    },
    {
     "name": "stderr",
     "output_type": "stream",
     "text": [
      "INFO:utils:11\n"
     ]
    },
    {
     "name": "stdout",
     "output_type": "stream",
     "text": [
      "    uniquified: 1.54e+08 bytes, 1.19e+07 elements\n",
      "Manta sample 9: 3.61e+08 bytes, 2.78e+07 elements\n"
     ]
    },
    {
     "name": "stderr",
     "output_type": "stream",
     "text": [
      "INFO:utils:12\n"
     ]
    },
    {
     "name": "stdout",
     "output_type": "stream",
     "text": [
      "    uniquified: 1.49e+08 bytes, 1.14e+07 elements\n",
      "Manta sample 12: 3.19e+08 bytes, 2.45e+07 elements\n"
     ]
    },
    {
     "name": "stderr",
     "output_type": "stream",
     "text": [
      "INFO:utils:13\n"
     ]
    },
    {
     "name": "stdout",
     "output_type": "stream",
     "text": [
      "    uniquified: 1.37e+08 bytes, 1.05e+07 elements\n",
      "Manta sample 13: 3.29e+08 bytes, 2.53e+07 elements\n"
     ]
    },
    {
     "name": "stderr",
     "output_type": "stream",
     "text": [
      "INFO:utils:14\n"
     ]
    },
    {
     "name": "stdout",
     "output_type": "stream",
     "text": [
      "    uniquified: 1.40e+08 bytes, 1.07e+07 elements\n",
      "Manta sample 14: 2.39e+08 bytes, 1.84e+07 elements\n"
     ]
    },
    {
     "name": "stderr",
     "output_type": "stream",
     "text": [
      "INFO:utils:15\n"
     ]
    },
    {
     "name": "stdout",
     "output_type": "stream",
     "text": [
      "    uniquified: 1.08e+08 bytes, 8.31e+06 elements\n",
      "Manta sample 15: 4.47e+08 bytes, 3.44e+07 elements\n"
     ]
    },
    {
     "name": "stderr",
     "output_type": "stream",
     "text": [
      "INFO:utils:16\n"
     ]
    },
    {
     "name": "stdout",
     "output_type": "stream",
     "text": [
      "    uniquified: 1.73e+08 bytes, 1.33e+07 elements\n",
      "Manta sample 16: 4.47e+08 bytes, 3.44e+07 elements\n"
     ]
    },
    {
     "name": "stderr",
     "output_type": "stream",
     "text": [
      "INFO:utils:17\n"
     ]
    },
    {
     "name": "stdout",
     "output_type": "stream",
     "text": [
      "    uniquified: 1.73e+08 bytes, 1.33e+07 elements\n",
      "Manta sample 17: 5.04e+08 bytes, 3.88e+07 elements\n"
     ]
    },
    {
     "name": "stderr",
     "output_type": "stream",
     "text": [
      "INFO:utils:18\n"
     ]
    },
    {
     "name": "stdout",
     "output_type": "stream",
     "text": [
      "    uniquified: 1.74e+08 bytes, 1.34e+07 elements\n",
      "Manta sample 18: 4.74e+08 bytes, 3.65e+07 elements\n"
     ]
    },
    {
     "name": "stderr",
     "output_type": "stream",
     "text": [
      "INFO:utils:19\n"
     ]
    },
    {
     "name": "stdout",
     "output_type": "stream",
     "text": [
      "    uniquified: 1.66e+08 bytes, 1.28e+07 elements\n",
      "Manta sample 19: 4.74e+08 bytes, 3.64e+07 elements\n"
     ]
    },
    {
     "name": "stderr",
     "output_type": "stream",
     "text": [
      "INFO:utils:20\n"
     ]
    },
    {
     "name": "stdout",
     "output_type": "stream",
     "text": [
      "    uniquified: 1.66e+08 bytes, 1.28e+07 elements\n",
      "Manta sample 20: 4.74e+08 bytes, 3.65e+07 elements\n"
     ]
    },
    {
     "name": "stderr",
     "output_type": "stream",
     "text": [
      "INFO:utils:21\n"
     ]
    },
    {
     "name": "stdout",
     "output_type": "stream",
     "text": [
      "    uniquified: 1.66e+08 bytes, 1.28e+07 elements\n",
      "Manta sample 21: 4.73e+08 bytes, 3.64e+07 elements\n"
     ]
    },
    {
     "name": "stderr",
     "output_type": "stream",
     "text": [
      "INFO:utils:22\n"
     ]
    },
    {
     "name": "stdout",
     "output_type": "stream",
     "text": [
      "    uniquified: 1.66e+08 bytes, 1.28e+07 elements\n",
      "Manta sample 22: 4.05e+08 bytes, 3.12e+07 elements\n"
     ]
    },
    {
     "name": "stderr",
     "output_type": "stream",
     "text": [
      "INFO:utils:23\n"
     ]
    },
    {
     "name": "stdout",
     "output_type": "stream",
     "text": [
      "    uniquified: 1.53e+08 bytes, 1.17e+07 elements\n",
      "Manta sample 23: 4.11e+08 bytes, 3.16e+07 elements\n"
     ]
    },
    {
     "name": "stderr",
     "output_type": "stream",
     "text": [
      "INFO:utils:24\n"
     ]
    },
    {
     "name": "stdout",
     "output_type": "stream",
     "text": [
      "    uniquified: 1.54e+08 bytes, 1.18e+07 elements\n",
      "Manta sample 24: 4.43e+08 bytes, 3.41e+07 elements\n"
     ]
    },
    {
     "name": "stderr",
     "output_type": "stream",
     "text": [
      "INFO:utils:25\n"
     ]
    },
    {
     "name": "stdout",
     "output_type": "stream",
     "text": [
      "    uniquified: 1.62e+08 bytes, 1.25e+07 elements\n",
      "Manta sample 25: 5.07e+08 bytes, 3.90e+07 elements\n"
     ]
    },
    {
     "name": "stderr",
     "output_type": "stream",
     "text": [
      "INFO:utils:26\n"
     ]
    },
    {
     "name": "stdout",
     "output_type": "stream",
     "text": [
      "    uniquified: 1.83e+08 bytes, 1.40e+07 elements\n",
      "Manta sample 26: 3.43e+08 bytes, 2.64e+07 elements\n"
     ]
    },
    {
     "name": "stderr",
     "output_type": "stream",
     "text": [
      "INFO:utils:27\n"
     ]
    },
    {
     "name": "stdout",
     "output_type": "stream",
     "text": [
      "    uniquified: 1.48e+08 bytes, 1.14e+07 elements\n",
      "Manta sample 27: 6.05e+08 bytes, 4.65e+07 elements\n"
     ]
    },
    {
     "name": "stderr",
     "output_type": "stream",
     "text": [
      "INFO:utils:28\n"
     ]
    },
    {
     "name": "stdout",
     "output_type": "stream",
     "text": [
      "    uniquified: 1.96e+08 bytes, 1.51e+07 elements\n",
      "Manta sample 28: 5.42e+08 bytes, 4.17e+07 elements\n"
     ]
    },
    {
     "name": "stderr",
     "output_type": "stream",
     "text": [
      "INFO:utils:29\n"
     ]
    },
    {
     "name": "stdout",
     "output_type": "stream",
     "text": [
      "    uniquified: 1.75e+08 bytes, 1.35e+07 elements\n",
      "Manta sample 29: 5.32e+08 bytes, 4.10e+07 elements\n"
     ]
    },
    {
     "name": "stderr",
     "output_type": "stream",
     "text": [
      "INFO:utils:30\n"
     ]
    },
    {
     "name": "stdout",
     "output_type": "stream",
     "text": [
      "    uniquified: 1.74e+08 bytes, 1.33e+07 elements\n",
      "Manta sample 30: 3.29e+08 bytes, 2.53e+07 elements\n"
     ]
    },
    {
     "name": "stderr",
     "output_type": "stream",
     "text": [
      "INFO:utils:31\n"
     ]
    },
    {
     "name": "stdout",
     "output_type": "stream",
     "text": [
      "    uniquified: 1.05e+08 bytes, 8.09e+06 elements\n",
      "Manta sample 31: 3.29e+08 bytes, 2.53e+07 elements\n"
     ]
    },
    {
     "name": "stderr",
     "output_type": "stream",
     "text": [
      "INFO:utils:32\n"
     ]
    },
    {
     "name": "stdout",
     "output_type": "stream",
     "text": [
      "    uniquified: 1.05e+08 bytes, 8.09e+06 elements\n",
      "Manta sample 37: 6.69e+08 bytes, 5.15e+07 elements\n"
     ]
    },
    {
     "name": "stderr",
     "output_type": "stream",
     "text": [
      "INFO:utils:33\n"
     ]
    },
    {
     "name": "stdout",
     "output_type": "stream",
     "text": [
      "    uniquified: 1.66e+08 bytes, 1.28e+07 elements\n",
      "Manta sample 36: 6.70e+08 bytes, 5.15e+07 elements\n"
     ]
    },
    {
     "name": "stderr",
     "output_type": "stream",
     "text": [
      "INFO:utils:34\n"
     ]
    },
    {
     "name": "stdout",
     "output_type": "stream",
     "text": [
      "    uniquified: 1.66e+08 bytes, 1.28e+07 elements\n",
      "Manta sample 35: 6.70e+08 bytes, 5.15e+07 elements\n"
     ]
    },
    {
     "name": "stderr",
     "output_type": "stream",
     "text": [
      "INFO:utils:35\n"
     ]
    },
    {
     "name": "stdout",
     "output_type": "stream",
     "text": [
      "    uniquified: 1.66e+08 bytes, 1.28e+07 elements\n",
      "Manta sample 32: 6.75e+08 bytes, 5.19e+07 elements\n"
     ]
    },
    {
     "name": "stderr",
     "output_type": "stream",
     "text": [
      "INFO:utils:36\n"
     ]
    },
    {
     "name": "stdout",
     "output_type": "stream",
     "text": [
      "    uniquified: 1.68e+08 bytes, 1.29e+07 elements\n",
      "Manta sample 33: 6.76e+08 bytes, 5.20e+07 elements\n"
     ]
    },
    {
     "name": "stderr",
     "output_type": "stream",
     "text": [
      "INFO:utils:37\n"
     ]
    },
    {
     "name": "stdout",
     "output_type": "stream",
     "text": [
      "    uniquified: 1.69e+08 bytes, 1.30e+07 elements\n",
      "Manta sample 34: 6.70e+08 bytes, 5.15e+07 elements\n"
     ]
    },
    {
     "name": "stderr",
     "output_type": "stream",
     "text": [
      "INFO:utils:38\n"
     ]
    },
    {
     "name": "stdout",
     "output_type": "stream",
     "text": [
      "    uniquified: 1.66e+08 bytes, 1.28e+07 elements\n",
      "Manta sample 38: 5.52e+08 bytes, 4.24e+07 elements\n"
     ]
    },
    {
     "name": "stderr",
     "output_type": "stream",
     "text": [
      "INFO:utils:39\n"
     ]
    },
    {
     "name": "stdout",
     "output_type": "stream",
     "text": [
      "    uniquified: 1.49e+08 bytes, 1.14e+07 elements\n",
      "Manta sample 39: 5.34e+08 bytes, 4.11e+07 elements\n"
     ]
    },
    {
     "name": "stderr",
     "output_type": "stream",
     "text": [
      "INFO:utils:40\n"
     ]
    },
    {
     "name": "stdout",
     "output_type": "stream",
     "text": [
      "    uniquified: 1.44e+08 bytes, 1.11e+07 elements\n",
      "Manta sample 40: 5.46e+08 bytes, 4.20e+07 elements\n"
     ]
    },
    {
     "name": "stderr",
     "output_type": "stream",
     "text": [
      "INFO:utils:41\n"
     ]
    },
    {
     "name": "stdout",
     "output_type": "stream",
     "text": [
      "    uniquified: 1.47e+08 bytes, 1.13e+07 elements\n",
      "Manta sample 41: 3.26e+08 bytes, 2.51e+07 elements\n"
     ]
    },
    {
     "name": "stderr",
     "output_type": "stream",
     "text": [
      "INFO:utils:42\n"
     ]
    },
    {
     "name": "stdout",
     "output_type": "stream",
     "text": [
      "    uniquified: 9.02e+07 bytes, 6.94e+06 elements\n",
      "Manta sample 42: 3.22e+08 bytes, 2.48e+07 elements\n"
     ]
    },
    {
     "name": "stderr",
     "output_type": "stream",
     "text": [
      "INFO:utils:43\n"
     ]
    },
    {
     "name": "stdout",
     "output_type": "stream",
     "text": [
      "    uniquified: 8.98e+07 bytes, 6.91e+06 elements\n",
      "Manta sample 43: 3.27e+08 bytes, 2.52e+07 elements\n"
     ]
    },
    {
     "name": "stderr",
     "output_type": "stream",
     "text": [
      "INFO:utils:44\n"
     ]
    },
    {
     "name": "stdout",
     "output_type": "stream",
     "text": [
      "    uniquified: 9.06e+07 bytes, 6.97e+06 elements\n",
      "Manta sample 52: 2.35e+08 bytes, 1.81e+07 elements\n"
     ]
    },
    {
     "name": "stderr",
     "output_type": "stream",
     "text": [
      "INFO:utils:45\n"
     ]
    },
    {
     "name": "stdout",
     "output_type": "stream",
     "text": [
      "    uniquified: 6.77e+07 bytes, 5.21e+06 elements\n",
      "Manta sample 51: 2.34e+08 bytes, 1.80e+07 elements\n"
     ]
    },
    {
     "name": "stderr",
     "output_type": "stream",
     "text": [
      "INFO:utils:46\n"
     ]
    },
    {
     "name": "stdout",
     "output_type": "stream",
     "text": [
      "    uniquified: 6.76e+07 bytes, 5.20e+06 elements\n",
      "Manta sample 49: 1.71e+08 bytes, 1.31e+07 elements\n"
     ]
    },
    {
     "name": "stderr",
     "output_type": "stream",
     "text": [
      "INFO:utils:47\n"
     ]
    },
    {
     "name": "stdout",
     "output_type": "stream",
     "text": [
      "    uniquified: 5.45e+07 bytes, 4.19e+06 elements\n",
      "Manta sample 50: 2.32e+08 bytes, 1.79e+07 elements\n"
     ]
    },
    {
     "name": "stderr",
     "output_type": "stream",
     "text": [
      "INFO:utils:48\n"
     ]
    },
    {
     "name": "stdout",
     "output_type": "stream",
     "text": [
      "    uniquified: 6.72e+07 bytes, 5.17e+06 elements\n",
      "Manta sample 48: 5.14e+08 bytes, 3.95e+07 elements\n"
     ]
    },
    {
     "name": "stderr",
     "output_type": "stream",
     "text": [
      "INFO:utils:49\n"
     ]
    },
    {
     "name": "stdout",
     "output_type": "stream",
     "text": [
      "    uniquified: 1.31e+08 bytes, 1.01e+07 elements\n",
      "Manta sample 46: 5.12e+08 bytes, 3.94e+07 elements\n"
     ]
    },
    {
     "name": "stderr",
     "output_type": "stream",
     "text": [
      "INFO:utils:50\n"
     ]
    },
    {
     "name": "stdout",
     "output_type": "stream",
     "text": [
      "    uniquified: 1.31e+08 bytes, 1.00e+07 elements\n",
      "Manta sample 45: 5.03e+08 bytes, 3.87e+07 elements\n"
     ]
    },
    {
     "name": "stderr",
     "output_type": "stream",
     "text": [
      "INFO:utils:51\n"
     ]
    },
    {
     "name": "stdout",
     "output_type": "stream",
     "text": [
      "    uniquified: 1.29e+08 bytes, 9.95e+06 elements\n",
      "Manta sample 44: 5.01e+08 bytes, 3.86e+07 elements\n"
     ]
    },
    {
     "name": "stderr",
     "output_type": "stream",
     "text": [
      "INFO:utils:52\n"
     ]
    },
    {
     "name": "stdout",
     "output_type": "stream",
     "text": [
      "    uniquified: 1.29e+08 bytes, 9.94e+06 elements\n",
      "Manta sample 47: 5.13e+08 bytes, 3.95e+07 elements\n"
     ]
    },
    {
     "name": "stderr",
     "output_type": "stream",
     "text": [
      "INFO:utils:53\n"
     ]
    },
    {
     "name": "stdout",
     "output_type": "stream",
     "text": [
      "    uniquified: 1.31e+08 bytes, 1.00e+07 elements\n",
      "Manta sample 55: 2.89e+08 bytes, 2.23e+07 elements\n"
     ]
    },
    {
     "name": "stderr",
     "output_type": "stream",
     "text": [
      "INFO:utils:54\n"
     ]
    },
    {
     "name": "stdout",
     "output_type": "stream",
     "text": [
      "    uniquified: 1.00e+08 bytes, 7.70e+06 elements\n",
      "Manta sample 56: 2.92e+08 bytes, 2.25e+07 elements\n"
     ]
    },
    {
     "name": "stderr",
     "output_type": "stream",
     "text": [
      "INFO:utils:55\n"
     ]
    },
    {
     "name": "stdout",
     "output_type": "stream",
     "text": [
      "    uniquified: 1.01e+08 bytes, 7.75e+06 elements\n",
      "Manta sample 53: 3.03e+08 bytes, 2.33e+07 elements\n"
     ]
    },
    {
     "name": "stderr",
     "output_type": "stream",
     "text": [
      "INFO:utils:56\n"
     ]
    },
    {
     "name": "stdout",
     "output_type": "stream",
     "text": [
      "    uniquified: 1.04e+08 bytes, 7.97e+06 elements\n",
      "Manta sample 54: 2.96e+08 bytes, 2.27e+07 elements\n"
     ]
    },
    {
     "name": "stderr",
     "output_type": "stream",
     "text": [
      "INFO:utils:57\n"
     ]
    },
    {
     "name": "stdout",
     "output_type": "stream",
     "text": [
      "    uniquified: 1.02e+08 bytes, 7.83e+06 elements\n",
      "Manta sample 57: 2.92e+08 bytes, 2.25e+07 elements\n"
     ]
    },
    {
     "name": "stderr",
     "output_type": "stream",
     "text": [
      "INFO:utils:58\n"
     ]
    },
    {
     "name": "stdout",
     "output_type": "stream",
     "text": [
      "    uniquified: 1.02e+08 bytes, 7.81e+06 elements\n",
      "Manta sample 58: 2.80e+08 bytes, 2.16e+07 elements\n"
     ]
    },
    {
     "name": "stderr",
     "output_type": "stream",
     "text": [
      "INFO:utils:59\n"
     ]
    },
    {
     "name": "stdout",
     "output_type": "stream",
     "text": [
      "    uniquified: 9.86e+07 bytes, 7.59e+06 elements\n",
      "Manta sample 59: 3.10e+08 bytes, 2.38e+07 elements\n"
     ]
    },
    {
     "name": "stderr",
     "output_type": "stream",
     "text": [
      "INFO:utils:60\n"
     ]
    },
    {
     "name": "stdout",
     "output_type": "stream",
     "text": [
      "    uniquified: 1.05e+08 bytes, 8.04e+06 elements\n",
      "Manta sample 60: 3.40e+08 bytes, 2.61e+07 elements\n"
     ]
    },
    {
     "name": "stderr",
     "output_type": "stream",
     "text": [
      "INFO:utils:61\n"
     ]
    },
    {
     "name": "stdout",
     "output_type": "stream",
     "text": [
      "    uniquified: 1.13e+08 bytes, 8.72e+06 elements\n",
      "Manta sample 61: 3.40e+08 bytes, 2.61e+07 elements\n"
     ]
    },
    {
     "name": "stderr",
     "output_type": "stream",
     "text": [
      "INFO:utils:62\n"
     ]
    },
    {
     "name": "stdout",
     "output_type": "stream",
     "text": [
      "    uniquified: 1.13e+08 bytes, 8.72e+06 elements\n",
      "Manta sample 63: 2.52e+08 bytes, 1.94e+07 elements\n"
     ]
    },
    {
     "name": "stderr",
     "output_type": "stream",
     "text": [
      "INFO:utils:63\n"
     ]
    },
    {
     "name": "stdout",
     "output_type": "stream",
     "text": [
      "    uniquified: 9.31e+07 bytes, 7.16e+06 elements\n",
      "Manta sample 62: 2.46e+08 bytes, 1.89e+07 elements\n"
     ]
    },
    {
     "name": "stderr",
     "output_type": "stream",
     "text": [
      "INFO:utils:64\n"
     ]
    },
    {
     "name": "stdout",
     "output_type": "stream",
     "text": [
      "    uniquified: 9.16e+07 bytes, 7.05e+06 elements\n",
      "Manta sample 64: 2.78e+08 bytes, 2.14e+07 elements\n",
      "    uniquified: 9.89e+07 bytes, 7.61e+06 elements\n"
     ]
    }
   ],
   "source": [
    "# Streamlined version that only allows \n",
    "# tau, shore_factor and bed_factor, storm_factor to change.\n",
    "# Msmooth is already set.\n",
    "\n",
    "# Precalculate:\n",
    "if 1: \n",
    "    manta_chrono=manta.sort_values('DATE') # helps with locality during precalculation\n",
    "    # storm_factor=1.0\n",
    "    # here the v01 code uses storm_factor=0.326, to account for\n",
    "    # the difference between 355um-only samples and all of the samples.\n",
    "    # here we will want to keep storm_factor unspecified\n",
    "    # This 0.326 adjustment for 355um vs all samples, though, is baked into preweighted.\n",
    "    storm_adjust=0.326\n",
    "    step=-10000\n",
    "    precalc={} # idx => stuff.\n",
    "\n",
    "    # Force mantas to be sorted, so that data from the same day\n",
    "    # is grouped together.\n",
    "    last_DATE=None\n",
    "    df=None\n",
    "\n",
    "    for idx,rec in utils.progress(manta_chrono.iterrows()):\n",
    "        #print(idx)\n",
    "        # since we're just pulling out whole days, cache by day.\n",
    "        # and pull through the end of that day\n",
    "        # 5s, all in read_parquet\n",
    "        if rec.DATE==last_DATE:\n",
    "            pass\n",
    "        else:\n",
    "            df=post.particles_for_date(rec.DATE,cfg=cfg,compute_kw=compute_kw)\n",
    "            last_DATE=rec.DATE\n",
    "\n",
    "        # Trawl-specific processing:\n",
    "        # Pull subset of cells\n",
    "        # add a cell weighting, and a time weighting for the tidal filter\n",
    "        cells,weights=post.rec_to_cell_weights(rec,areas=areas,grid=cfg.grid,\n",
    "                                               Msmooth=Msmooth,smooth=step,thresh=1e-5)\n",
    "        df_spatial=pd.DataFrame(dict(cell=cells,weight_spatial=weights)).set_index('cell')\n",
    "        df_spatial_sort=df_spatial.sort_index()\n",
    "        space_cell=df_spatial_sort.index.values\n",
    "        space_weight=df_spatial_sort['weight_spatial'].values\n",
    "        df_cell=df.cell.values\n",
    "        df_idx=np.searchsorted(space_cell,df_cell).clip(0,len(space_cell)-1)\n",
    "        sel=space_cell[df_idx]==df_cell\n",
    "        tdf=df[sel].copy()\n",
    "        weight_spatial=space_weight[df_idx[sel]]\n",
    "\n",
    "        t_sample=np.datetime64(rec['DATE'])    \n",
    "        t_center = t_sample+np.timedelta64(8,'h') + np.timedelta64(12,'h')\n",
    "        delta_hours=((tdf['time']-t_center)/np.timedelta64(1,'h')).astype(np.int32)\n",
    "        weight_time=godwin[delta_hours+godwin_offset_h]\n",
    "        age=tdf['time'].values - tdf['rel_time'].values\n",
    "\n",
    "        age_s=(age/np.timedelta64(1,'s')).astype(np.float32)\n",
    "        bed_hits=tdf['bed_hits'].values\n",
    "        shore_hits=tdf['shore_hits'].values\n",
    "        mp_per_area = (tdf['mp_per_particle'] / areas[tdf['cell']]).values\n",
    "\n",
    "        # v02 difference:\n",
    "        # 0: stormwater, 1:wastewater\n",
    "        group=post.group_weights(tdf,0.0).astype(np.int8)\n",
    "        # Omits decay, bed, shore weights - also v02 difference\n",
    "        adjust=np.array([storm_adjust,1.0])[group]\n",
    "        pre_weighted=weight_spatial*weight_time*mp_per_area*adjust\n",
    "        \n",
    "        # Final code below then needs age_s, bed_hits, shore_hits, and\n",
    "        # with v02, group in {0,1}\n",
    "        sel=pre_weighted>0.0\n",
    "        \n",
    "        bundle=np.zeros(sel.sum(),[('preweighted',np.float32),\n",
    "                                   ('age_s',np.float32),\n",
    "                                   ('bed_hits',np.int16),\n",
    "                                   ('shore_hits',np.int16),\n",
    "                                   ('group',np.int8)])\n",
    "        bundle['preweighted']=pre_weighted[sel]\n",
    "        bundle['age_s']=age_s[sel]\n",
    "        bundle['bed_hits']=bed_hits[sel]\n",
    "        bundle['shore_hits']=shore_hits[sel]\n",
    "        bundle['group']=group[sel]\n",
    "        \n",
    "        print(f\"Manta sample {idx}: {bundle.nbytes:.2e} bytes, {len(bundle):.2e} elements\")\n",
    "        \n",
    "        # Can get maybe a factor of 3 by combining duplicates\n",
    "        df_bundle=pd.DataFrame.from_records(bundle)\n",
    "        uniquified=df_bundle.groupby(['age_s','bed_hits','shore_hits','group'])['preweighted'].sum().reset_index()\n",
    "        bundle=np.zeros(len(uniquified),dtype=bundle.dtype)\n",
    "        bundle['preweighted']=uniquified['preweighted']\n",
    "        bundle['age_s']=uniquified['age_s']\n",
    "        bundle['bed_hits']=uniquified['bed_hits']\n",
    "        bundle['shore_hits']=uniquified['shore_hits']\n",
    "        bundle['group']=uniquified['group']\n",
    "        print(f\"    uniquified: {bundle.nbytes:.2e} bytes, {len(bundle):.2e} elements\")\n",
    "        \n",
    "        precalc[idx]=bundle\n",
    "\n",
    "#                        weights=ne.evaluate('weight_spatial*weight_time*decay*group_weight*bed_weight*shore_weight')\n",
    "#                        unweighted=mp_per_area\n",
    "#                        final_weights=weights\n",
    "#                        # final_concs=weights*mp_per_area\n",
    "#                        C=ne.evaluate( 'sum(weights*mp_per_area)')"
   ]
  },
  {
   "cell_type": "code",
   "execution_count": 60,
   "metadata": {
    "scrolled": false
   },
   "outputs": [],
   "source": [
    "pred_type=np.float64\n",
    "\n",
    "def predict_mantas_fast(decay_rate,beach_rate=1e-2,depo_rate=1e-2,storm_factor=1.0):\n",
    "    # tau_d: e-folding decay time scale in days\n",
    "    # shore_factors: particle weight derated by (1-shore_factor)**hits\n",
    "    # bed_factors: particle weighte derated by (1-bed_factor)**hits\n",
    "    # print(f\"tau={decay_rate}  shore={beach_rate}  bed={depo_rate}\")\n",
    "    preds=[]\n",
    "\n",
    "    for idx,rec in utils.progress(manta_chrono.iterrows()):\n",
    "        # print(idx)\n",
    "        bundle=precalc[idx]\n",
    "        age_s=bundle['age_s']\n",
    "        shore_hits=bundle['shore_hits']\n",
    "        bed_hits=bundle['bed_hits']\n",
    "        preweighted=bundle['preweighted']\n",
    "        group_factor=np.where(bundle['group']==0,storm_factor,1.)\n",
    "                                        \n",
    "        pred=dict(idx=idx,storm_factor=storm_factor,decay_rate=decay_rate,\n",
    "                  step=step,Msmooth_i=0,\n",
    "                  beach_rate=beach_rate,depo_rate=depo_rate)\n",
    "        pred['idx']=idx\n",
    "    \n",
    "        # All in one go was actually half as fast\n",
    "        weight=ne.evaluate('''group_factor * exp( -age_s*decay_rate/86400. \n",
    "                                   -shore_hits*beach_rate \n",
    "                                   -bed_hits*depo_rate )''')\n",
    "        C=ne.evaluate( 'sum(preweighted*weight)')\n",
    "         \n",
    "        pred['C_model']=C\n",
    "        preds.append(pred)\n",
    "\n",
    "    df_pred=pd.DataFrame(preds)\n",
    "    df_pred['C_model']=df_pred['C_model'].astype(np.float64)\n",
    "    manta_pred=df_pred.join(manta_chrono,on='idx')\n",
    "    return manta_pred"
   ]
  },
  {
   "cell_type": "code",
   "execution_count": 61,
   "metadata": {},
   "outputs": [
    {
     "name": "stderr",
     "output_type": "stream",
     "text": [
      "INFO:utils:63\n"
     ]
    },
    {
     "name": "stdout",
     "output_type": "stream",
     "text": [
      "CPU times: user 19.7 s, sys: 3.89 s, total: 23.6 s\n",
      "Wall time: 5.16 s\n"
     ]
    }
   ],
   "source": [
    "%%time\n",
    "\n",
    "result=predict_mantas_fast(decay_rate=0.01,beach_rate=0.2,depo_rate=0.001,storm_factor=1.0)\n"
   ]
  },
  {
   "cell_type": "code",
   "execution_count": 62,
   "metadata": {},
   "outputs": [
    {
     "name": "stderr",
     "output_type": "stream",
     "text": [
      "INFO:utils:64\n"
     ]
    }
   ],
   "source": [
    "resultB=predict_mantas_fast(decay_rate=0.01,beach_rate=0.2,depo_rate=0.001,storm_factor=0.1)"
   ]
  },
  {
   "cell_type": "code",
   "execution_count": 63,
   "metadata": {},
   "outputs": [
    {
     "data": {
      "text/plain": [
       "9.069374745063394"
      ]
     },
     "execution_count": 63,
     "metadata": {},
     "output_type": "execute_result"
    }
   ],
   "source": [
    "# max difference of 9, corresponding well to a manta sample that is mostly\n",
    "# stormwater. Good!\n",
    "(result['C_model']/resultB['C_model']).max()"
   ]
  },
  {
   "cell_type": "code",
   "execution_count": 64,
   "metadata": {},
   "outputs": [],
   "source": [
    "# ensure that observed values are positive.\n",
    "obs=manta_chrono['part_per_m2_nofiber'].values\n",
    "detect_limit=0.5*obs[obs>0].min()\n",
    "observed=obs.clip(detect_limit)"
   ]
  },
  {
   "cell_type": "code",
   "execution_count": 65,
   "metadata": {},
   "outputs": [],
   "source": [
    "from scipy import stats\n",
    "import emcee"
   ]
  },
  {
   "cell_type": "code",
   "execution_count": 66,
   "metadata": {},
   "outputs": [],
   "source": [
    "cats=['Fiber Bundle','Fragment','Foam', 'Film','Sphere']"
   ]
  },
  {
   "cell_type": "code",
   "execution_count": 67,
   "metadata": {},
   "outputs": [
    {
     "data": {
      "application/javascript": [
       "/* Put everything inside the global mpl namespace */\n",
       "/* global mpl */\n",
       "window.mpl = {};\n",
       "\n",
       "mpl.get_websocket_type = function () {\n",
       "    if (typeof WebSocket !== 'undefined') {\n",
       "        return WebSocket;\n",
       "    } else if (typeof MozWebSocket !== 'undefined') {\n",
       "        return MozWebSocket;\n",
       "    } else {\n",
       "        alert(\n",
       "            'Your browser does not have WebSocket support. ' +\n",
       "                'Please try Chrome, Safari or Firefox ≥ 6. ' +\n",
       "                'Firefox 4 and 5 are also supported but you ' +\n",
       "                'have to enable WebSockets in about:config.'\n",
       "        );\n",
       "    }\n",
       "};\n",
       "\n",
       "mpl.figure = function (figure_id, websocket, ondownload, parent_element) {\n",
       "    this.id = figure_id;\n",
       "\n",
       "    this.ws = websocket;\n",
       "\n",
       "    this.supports_binary = this.ws.binaryType !== undefined;\n",
       "\n",
       "    if (!this.supports_binary) {\n",
       "        var warnings = document.getElementById('mpl-warnings');\n",
       "        if (warnings) {\n",
       "            warnings.style.display = 'block';\n",
       "            warnings.textContent =\n",
       "                'This browser does not support binary websocket messages. ' +\n",
       "                'Performance may be slow.';\n",
       "        }\n",
       "    }\n",
       "\n",
       "    this.imageObj = new Image();\n",
       "\n",
       "    this.context = undefined;\n",
       "    this.message = undefined;\n",
       "    this.canvas = undefined;\n",
       "    this.rubberband_canvas = undefined;\n",
       "    this.rubberband_context = undefined;\n",
       "    this.format_dropdown = undefined;\n",
       "\n",
       "    this.image_mode = 'full';\n",
       "\n",
       "    this.root = document.createElement('div');\n",
       "    this.root.setAttribute('style', 'display: inline-block');\n",
       "    this._root_extra_style(this.root);\n",
       "\n",
       "    parent_element.appendChild(this.root);\n",
       "\n",
       "    this._init_header(this);\n",
       "    this._init_canvas(this);\n",
       "    this._init_toolbar(this);\n",
       "\n",
       "    var fig = this;\n",
       "\n",
       "    this.waiting = false;\n",
       "\n",
       "    this.ws.onopen = function () {\n",
       "        fig.send_message('supports_binary', { value: fig.supports_binary });\n",
       "        fig.send_message('send_image_mode', {});\n",
       "        if (fig.ratio !== 1) {\n",
       "            fig.send_message('set_dpi_ratio', { dpi_ratio: fig.ratio });\n",
       "        }\n",
       "        fig.send_message('refresh', {});\n",
       "    };\n",
       "\n",
       "    this.imageObj.onload = function () {\n",
       "        if (fig.image_mode === 'full') {\n",
       "            // Full images could contain transparency (where diff images\n",
       "            // almost always do), so we need to clear the canvas so that\n",
       "            // there is no ghosting.\n",
       "            fig.context.clearRect(0, 0, fig.canvas.width, fig.canvas.height);\n",
       "        }\n",
       "        fig.context.drawImage(fig.imageObj, 0, 0);\n",
       "    };\n",
       "\n",
       "    this.imageObj.onunload = function () {\n",
       "        fig.ws.close();\n",
       "    };\n",
       "\n",
       "    this.ws.onmessage = this._make_on_message_function(this);\n",
       "\n",
       "    this.ondownload = ondownload;\n",
       "};\n",
       "\n",
       "mpl.figure.prototype._init_header = function () {\n",
       "    var titlebar = document.createElement('div');\n",
       "    titlebar.classList =\n",
       "        'ui-dialog-titlebar ui-widget-header ui-corner-all ui-helper-clearfix';\n",
       "    var titletext = document.createElement('div');\n",
       "    titletext.classList = 'ui-dialog-title';\n",
       "    titletext.setAttribute(\n",
       "        'style',\n",
       "        'width: 100%; text-align: center; padding: 3px;'\n",
       "    );\n",
       "    titlebar.appendChild(titletext);\n",
       "    this.root.appendChild(titlebar);\n",
       "    this.header = titletext;\n",
       "};\n",
       "\n",
       "mpl.figure.prototype._canvas_extra_style = function (_canvas_div) {};\n",
       "\n",
       "mpl.figure.prototype._root_extra_style = function (_canvas_div) {};\n",
       "\n",
       "mpl.figure.prototype._init_canvas = function () {\n",
       "    var fig = this;\n",
       "\n",
       "    var canvas_div = (this.canvas_div = document.createElement('div'));\n",
       "    canvas_div.setAttribute(\n",
       "        'style',\n",
       "        'border: 1px solid #ddd;' +\n",
       "            'box-sizing: content-box;' +\n",
       "            'clear: both;' +\n",
       "            'min-height: 1px;' +\n",
       "            'min-width: 1px;' +\n",
       "            'outline: 0;' +\n",
       "            'overflow: hidden;' +\n",
       "            'position: relative;' +\n",
       "            'resize: both;'\n",
       "    );\n",
       "\n",
       "    function on_keyboard_event_closure(name) {\n",
       "        return function (event) {\n",
       "            return fig.key_event(event, name);\n",
       "        };\n",
       "    }\n",
       "\n",
       "    canvas_div.addEventListener(\n",
       "        'keydown',\n",
       "        on_keyboard_event_closure('key_press')\n",
       "    );\n",
       "    canvas_div.addEventListener(\n",
       "        'keyup',\n",
       "        on_keyboard_event_closure('key_release')\n",
       "    );\n",
       "\n",
       "    this._canvas_extra_style(canvas_div);\n",
       "    this.root.appendChild(canvas_div);\n",
       "\n",
       "    var canvas = (this.canvas = document.createElement('canvas'));\n",
       "    canvas.classList.add('mpl-canvas');\n",
       "    canvas.setAttribute('style', 'box-sizing: content-box;');\n",
       "\n",
       "    this.context = canvas.getContext('2d');\n",
       "\n",
       "    var backingStore =\n",
       "        this.context.backingStorePixelRatio ||\n",
       "        this.context.webkitBackingStorePixelRatio ||\n",
       "        this.context.mozBackingStorePixelRatio ||\n",
       "        this.context.msBackingStorePixelRatio ||\n",
       "        this.context.oBackingStorePixelRatio ||\n",
       "        this.context.backingStorePixelRatio ||\n",
       "        1;\n",
       "\n",
       "    this.ratio = (window.devicePixelRatio || 1) / backingStore;\n",
       "    if (this.ratio !== 1) {\n",
       "        fig.send_message('set_dpi_ratio', { dpi_ratio: this.ratio });\n",
       "    }\n",
       "\n",
       "    var rubberband_canvas = (this.rubberband_canvas = document.createElement(\n",
       "        'canvas'\n",
       "    ));\n",
       "    rubberband_canvas.setAttribute(\n",
       "        'style',\n",
       "        'box-sizing: content-box; position: absolute; left: 0; top: 0; z-index: 1;'\n",
       "    );\n",
       "\n",
       "    // Apply a ponyfill if ResizeObserver is not implemented by browser.\n",
       "    if (this.ResizeObserver === undefined) {\n",
       "        if (window.ResizeObserver !== undefined) {\n",
       "            this.ResizeObserver = window.ResizeObserver;\n",
       "        } else {\n",
       "            var obs = _JSXTOOLS_RESIZE_OBSERVER({});\n",
       "            this.ResizeObserver = obs.ResizeObserver;\n",
       "        }\n",
       "    }\n",
       "\n",
       "    this.resizeObserverInstance = new this.ResizeObserver(function (entries) {\n",
       "        var nentries = entries.length;\n",
       "        for (var i = 0; i < nentries; i++) {\n",
       "            var entry = entries[i];\n",
       "            var width, height;\n",
       "            if (entry.contentBoxSize) {\n",
       "                if (entry.contentBoxSize instanceof Array) {\n",
       "                    // Chrome 84 implements new version of spec.\n",
       "                    width = entry.contentBoxSize[0].inlineSize;\n",
       "                    height = entry.contentBoxSize[0].blockSize;\n",
       "                } else {\n",
       "                    // Firefox implements old version of spec.\n",
       "                    width = entry.contentBoxSize.inlineSize;\n",
       "                    height = entry.contentBoxSize.blockSize;\n",
       "                }\n",
       "            } else {\n",
       "                // Chrome <84 implements even older version of spec.\n",
       "                width = entry.contentRect.width;\n",
       "                height = entry.contentRect.height;\n",
       "            }\n",
       "\n",
       "            // Keep the size of the canvas and rubber band canvas in sync with\n",
       "            // the canvas container.\n",
       "            if (entry.devicePixelContentBoxSize) {\n",
       "                // Chrome 84 implements new version of spec.\n",
       "                canvas.setAttribute(\n",
       "                    'width',\n",
       "                    entry.devicePixelContentBoxSize[0].inlineSize\n",
       "                );\n",
       "                canvas.setAttribute(\n",
       "                    'height',\n",
       "                    entry.devicePixelContentBoxSize[0].blockSize\n",
       "                );\n",
       "            } else {\n",
       "                canvas.setAttribute('width', width * fig.ratio);\n",
       "                canvas.setAttribute('height', height * fig.ratio);\n",
       "            }\n",
       "            canvas.setAttribute(\n",
       "                'style',\n",
       "                'width: ' + width + 'px; height: ' + height + 'px;'\n",
       "            );\n",
       "\n",
       "            rubberband_canvas.setAttribute('width', width);\n",
       "            rubberband_canvas.setAttribute('height', height);\n",
       "\n",
       "            // And update the size in Python. We ignore the initial 0/0 size\n",
       "            // that occurs as the element is placed into the DOM, which should\n",
       "            // otherwise not happen due to the minimum size styling.\n",
       "            if (width != 0 && height != 0) {\n",
       "                fig.request_resize(width, height);\n",
       "            }\n",
       "        }\n",
       "    });\n",
       "    this.resizeObserverInstance.observe(canvas_div);\n",
       "\n",
       "    function on_mouse_event_closure(name) {\n",
       "        return function (event) {\n",
       "            return fig.mouse_event(event, name);\n",
       "        };\n",
       "    }\n",
       "\n",
       "    rubberband_canvas.addEventListener(\n",
       "        'mousedown',\n",
       "        on_mouse_event_closure('button_press')\n",
       "    );\n",
       "    rubberband_canvas.addEventListener(\n",
       "        'mouseup',\n",
       "        on_mouse_event_closure('button_release')\n",
       "    );\n",
       "    // Throttle sequential mouse events to 1 every 20ms.\n",
       "    rubberband_canvas.addEventListener(\n",
       "        'mousemove',\n",
       "        on_mouse_event_closure('motion_notify')\n",
       "    );\n",
       "\n",
       "    rubberband_canvas.addEventListener(\n",
       "        'mouseenter',\n",
       "        on_mouse_event_closure('figure_enter')\n",
       "    );\n",
       "    rubberband_canvas.addEventListener(\n",
       "        'mouseleave',\n",
       "        on_mouse_event_closure('figure_leave')\n",
       "    );\n",
       "\n",
       "    canvas_div.addEventListener('wheel', function (event) {\n",
       "        if (event.deltaY < 0) {\n",
       "            event.step = 1;\n",
       "        } else {\n",
       "            event.step = -1;\n",
       "        }\n",
       "        on_mouse_event_closure('scroll')(event);\n",
       "    });\n",
       "\n",
       "    canvas_div.appendChild(canvas);\n",
       "    canvas_div.appendChild(rubberband_canvas);\n",
       "\n",
       "    this.rubberband_context = rubberband_canvas.getContext('2d');\n",
       "    this.rubberband_context.strokeStyle = '#000000';\n",
       "\n",
       "    this._resize_canvas = function (width, height, forward) {\n",
       "        if (forward) {\n",
       "            canvas_div.style.width = width + 'px';\n",
       "            canvas_div.style.height = height + 'px';\n",
       "        }\n",
       "    };\n",
       "\n",
       "    // Disable right mouse context menu.\n",
       "    this.rubberband_canvas.addEventListener('contextmenu', function (_e) {\n",
       "        event.preventDefault();\n",
       "        return false;\n",
       "    });\n",
       "\n",
       "    function set_focus() {\n",
       "        canvas.focus();\n",
       "        canvas_div.focus();\n",
       "    }\n",
       "\n",
       "    window.setTimeout(set_focus, 100);\n",
       "};\n",
       "\n",
       "mpl.figure.prototype._init_toolbar = function () {\n",
       "    var fig = this;\n",
       "\n",
       "    var toolbar = document.createElement('div');\n",
       "    toolbar.classList = 'mpl-toolbar';\n",
       "    this.root.appendChild(toolbar);\n",
       "\n",
       "    function on_click_closure(name) {\n",
       "        return function (_event) {\n",
       "            return fig.toolbar_button_onclick(name);\n",
       "        };\n",
       "    }\n",
       "\n",
       "    function on_mouseover_closure(tooltip) {\n",
       "        return function (event) {\n",
       "            if (!event.currentTarget.disabled) {\n",
       "                return fig.toolbar_button_onmouseover(tooltip);\n",
       "            }\n",
       "        };\n",
       "    }\n",
       "\n",
       "    fig.buttons = {};\n",
       "    var buttonGroup = document.createElement('div');\n",
       "    buttonGroup.classList = 'mpl-button-group';\n",
       "    for (var toolbar_ind in mpl.toolbar_items) {\n",
       "        var name = mpl.toolbar_items[toolbar_ind][0];\n",
       "        var tooltip = mpl.toolbar_items[toolbar_ind][1];\n",
       "        var image = mpl.toolbar_items[toolbar_ind][2];\n",
       "        var method_name = mpl.toolbar_items[toolbar_ind][3];\n",
       "\n",
       "        if (!name) {\n",
       "            /* Instead of a spacer, we start a new button group. */\n",
       "            if (buttonGroup.hasChildNodes()) {\n",
       "                toolbar.appendChild(buttonGroup);\n",
       "            }\n",
       "            buttonGroup = document.createElement('div');\n",
       "            buttonGroup.classList = 'mpl-button-group';\n",
       "            continue;\n",
       "        }\n",
       "\n",
       "        var button = (fig.buttons[name] = document.createElement('button'));\n",
       "        button.classList = 'mpl-widget';\n",
       "        button.setAttribute('role', 'button');\n",
       "        button.setAttribute('aria-disabled', 'false');\n",
       "        button.addEventListener('click', on_click_closure(method_name));\n",
       "        button.addEventListener('mouseover', on_mouseover_closure(tooltip));\n",
       "\n",
       "        var icon_img = document.createElement('img');\n",
       "        icon_img.src = '_images/' + image + '.png';\n",
       "        icon_img.srcset = '_images/' + image + '_large.png 2x';\n",
       "        icon_img.alt = tooltip;\n",
       "        button.appendChild(icon_img);\n",
       "\n",
       "        buttonGroup.appendChild(button);\n",
       "    }\n",
       "\n",
       "    if (buttonGroup.hasChildNodes()) {\n",
       "        toolbar.appendChild(buttonGroup);\n",
       "    }\n",
       "\n",
       "    var fmt_picker = document.createElement('select');\n",
       "    fmt_picker.classList = 'mpl-widget';\n",
       "    toolbar.appendChild(fmt_picker);\n",
       "    this.format_dropdown = fmt_picker;\n",
       "\n",
       "    for (var ind in mpl.extensions) {\n",
       "        var fmt = mpl.extensions[ind];\n",
       "        var option = document.createElement('option');\n",
       "        option.selected = fmt === mpl.default_extension;\n",
       "        option.innerHTML = fmt;\n",
       "        fmt_picker.appendChild(option);\n",
       "    }\n",
       "\n",
       "    var status_bar = document.createElement('span');\n",
       "    status_bar.classList = 'mpl-message';\n",
       "    toolbar.appendChild(status_bar);\n",
       "    this.message = status_bar;\n",
       "};\n",
       "\n",
       "mpl.figure.prototype.request_resize = function (x_pixels, y_pixels) {\n",
       "    // Request matplotlib to resize the figure. Matplotlib will then trigger a resize in the client,\n",
       "    // which will in turn request a refresh of the image.\n",
       "    this.send_message('resize', { width: x_pixels, height: y_pixels });\n",
       "};\n",
       "\n",
       "mpl.figure.prototype.send_message = function (type, properties) {\n",
       "    properties['type'] = type;\n",
       "    properties['figure_id'] = this.id;\n",
       "    this.ws.send(JSON.stringify(properties));\n",
       "};\n",
       "\n",
       "mpl.figure.prototype.send_draw_message = function () {\n",
       "    if (!this.waiting) {\n",
       "        this.waiting = true;\n",
       "        this.ws.send(JSON.stringify({ type: 'draw', figure_id: this.id }));\n",
       "    }\n",
       "};\n",
       "\n",
       "mpl.figure.prototype.handle_save = function (fig, _msg) {\n",
       "    var format_dropdown = fig.format_dropdown;\n",
       "    var format = format_dropdown.options[format_dropdown.selectedIndex].value;\n",
       "    fig.ondownload(fig, format);\n",
       "};\n",
       "\n",
       "mpl.figure.prototype.handle_resize = function (fig, msg) {\n",
       "    var size = msg['size'];\n",
       "    if (size[0] !== fig.canvas.width || size[1] !== fig.canvas.height) {\n",
       "        fig._resize_canvas(size[0], size[1], msg['forward']);\n",
       "        fig.send_message('refresh', {});\n",
       "    }\n",
       "};\n",
       "\n",
       "mpl.figure.prototype.handle_rubberband = function (fig, msg) {\n",
       "    var x0 = msg['x0'] / fig.ratio;\n",
       "    var y0 = (fig.canvas.height - msg['y0']) / fig.ratio;\n",
       "    var x1 = msg['x1'] / fig.ratio;\n",
       "    var y1 = (fig.canvas.height - msg['y1']) / fig.ratio;\n",
       "    x0 = Math.floor(x0) + 0.5;\n",
       "    y0 = Math.floor(y0) + 0.5;\n",
       "    x1 = Math.floor(x1) + 0.5;\n",
       "    y1 = Math.floor(y1) + 0.5;\n",
       "    var min_x = Math.min(x0, x1);\n",
       "    var min_y = Math.min(y0, y1);\n",
       "    var width = Math.abs(x1 - x0);\n",
       "    var height = Math.abs(y1 - y0);\n",
       "\n",
       "    fig.rubberband_context.clearRect(\n",
       "        0,\n",
       "        0,\n",
       "        fig.canvas.width / fig.ratio,\n",
       "        fig.canvas.height / fig.ratio\n",
       "    );\n",
       "\n",
       "    fig.rubberband_context.strokeRect(min_x, min_y, width, height);\n",
       "};\n",
       "\n",
       "mpl.figure.prototype.handle_figure_label = function (fig, msg) {\n",
       "    // Updates the figure title.\n",
       "    fig.header.textContent = msg['label'];\n",
       "};\n",
       "\n",
       "mpl.figure.prototype.handle_cursor = function (fig, msg) {\n",
       "    var cursor = msg['cursor'];\n",
       "    switch (cursor) {\n",
       "        case 0:\n",
       "            cursor = 'pointer';\n",
       "            break;\n",
       "        case 1:\n",
       "            cursor = 'default';\n",
       "            break;\n",
       "        case 2:\n",
       "            cursor = 'crosshair';\n",
       "            break;\n",
       "        case 3:\n",
       "            cursor = 'move';\n",
       "            break;\n",
       "    }\n",
       "    fig.rubberband_canvas.style.cursor = cursor;\n",
       "};\n",
       "\n",
       "mpl.figure.prototype.handle_message = function (fig, msg) {\n",
       "    fig.message.textContent = msg['message'];\n",
       "};\n",
       "\n",
       "mpl.figure.prototype.handle_draw = function (fig, _msg) {\n",
       "    // Request the server to send over a new figure.\n",
       "    fig.send_draw_message();\n",
       "};\n",
       "\n",
       "mpl.figure.prototype.handle_image_mode = function (fig, msg) {\n",
       "    fig.image_mode = msg['mode'];\n",
       "};\n",
       "\n",
       "mpl.figure.prototype.handle_history_buttons = function (fig, msg) {\n",
       "    for (var key in msg) {\n",
       "        if (!(key in fig.buttons)) {\n",
       "            continue;\n",
       "        }\n",
       "        fig.buttons[key].disabled = !msg[key];\n",
       "        fig.buttons[key].setAttribute('aria-disabled', !msg[key]);\n",
       "    }\n",
       "};\n",
       "\n",
       "mpl.figure.prototype.handle_navigate_mode = function (fig, msg) {\n",
       "    if (msg['mode'] === 'PAN') {\n",
       "        fig.buttons['Pan'].classList.add('active');\n",
       "        fig.buttons['Zoom'].classList.remove('active');\n",
       "    } else if (msg['mode'] === 'ZOOM') {\n",
       "        fig.buttons['Pan'].classList.remove('active');\n",
       "        fig.buttons['Zoom'].classList.add('active');\n",
       "    } else {\n",
       "        fig.buttons['Pan'].classList.remove('active');\n",
       "        fig.buttons['Zoom'].classList.remove('active');\n",
       "    }\n",
       "};\n",
       "\n",
       "mpl.figure.prototype.updated_canvas_event = function () {\n",
       "    // Called whenever the canvas gets updated.\n",
       "    this.send_message('ack', {});\n",
       "};\n",
       "\n",
       "// A function to construct a web socket function for onmessage handling.\n",
       "// Called in the figure constructor.\n",
       "mpl.figure.prototype._make_on_message_function = function (fig) {\n",
       "    return function socket_on_message(evt) {\n",
       "        if (evt.data instanceof Blob) {\n",
       "            /* FIXME: We get \"Resource interpreted as Image but\n",
       "             * transferred with MIME type text/plain:\" errors on\n",
       "             * Chrome.  But how to set the MIME type?  It doesn't seem\n",
       "             * to be part of the websocket stream */\n",
       "            evt.data.type = 'image/png';\n",
       "\n",
       "            /* Free the memory for the previous frames */\n",
       "            if (fig.imageObj.src) {\n",
       "                (window.URL || window.webkitURL).revokeObjectURL(\n",
       "                    fig.imageObj.src\n",
       "                );\n",
       "            }\n",
       "\n",
       "            fig.imageObj.src = (window.URL || window.webkitURL).createObjectURL(\n",
       "                evt.data\n",
       "            );\n",
       "            fig.updated_canvas_event();\n",
       "            fig.waiting = false;\n",
       "            return;\n",
       "        } else if (\n",
       "            typeof evt.data === 'string' &&\n",
       "            evt.data.slice(0, 21) === 'data:image/png;base64'\n",
       "        ) {\n",
       "            fig.imageObj.src = evt.data;\n",
       "            fig.updated_canvas_event();\n",
       "            fig.waiting = false;\n",
       "            return;\n",
       "        }\n",
       "\n",
       "        var msg = JSON.parse(evt.data);\n",
       "        var msg_type = msg['type'];\n",
       "\n",
       "        // Call the  \"handle_{type}\" callback, which takes\n",
       "        // the figure and JSON message as its only arguments.\n",
       "        try {\n",
       "            var callback = fig['handle_' + msg_type];\n",
       "        } catch (e) {\n",
       "            console.log(\n",
       "                \"No handler for the '\" + msg_type + \"' message type: \",\n",
       "                msg\n",
       "            );\n",
       "            return;\n",
       "        }\n",
       "\n",
       "        if (callback) {\n",
       "            try {\n",
       "                // console.log(\"Handling '\" + msg_type + \"' message: \", msg);\n",
       "                callback(fig, msg);\n",
       "            } catch (e) {\n",
       "                console.log(\n",
       "                    \"Exception inside the 'handler_\" + msg_type + \"' callback:\",\n",
       "                    e,\n",
       "                    e.stack,\n",
       "                    msg\n",
       "                );\n",
       "            }\n",
       "        }\n",
       "    };\n",
       "};\n",
       "\n",
       "// from http://stackoverflow.com/questions/1114465/getting-mouse-location-in-canvas\n",
       "mpl.findpos = function (e) {\n",
       "    //this section is from http://www.quirksmode.org/js/events_properties.html\n",
       "    var targ;\n",
       "    if (!e) {\n",
       "        e = window.event;\n",
       "    }\n",
       "    if (e.target) {\n",
       "        targ = e.target;\n",
       "    } else if (e.srcElement) {\n",
       "        targ = e.srcElement;\n",
       "    }\n",
       "    if (targ.nodeType === 3) {\n",
       "        // defeat Safari bug\n",
       "        targ = targ.parentNode;\n",
       "    }\n",
       "\n",
       "    // pageX,Y are the mouse positions relative to the document\n",
       "    var boundingRect = targ.getBoundingClientRect();\n",
       "    var x = e.pageX - (boundingRect.left + document.body.scrollLeft);\n",
       "    var y = e.pageY - (boundingRect.top + document.body.scrollTop);\n",
       "\n",
       "    return { x: x, y: y };\n",
       "};\n",
       "\n",
       "/*\n",
       " * return a copy of an object with only non-object keys\n",
       " * we need this to avoid circular references\n",
       " * http://stackoverflow.com/a/24161582/3208463\n",
       " */\n",
       "function simpleKeys(original) {\n",
       "    return Object.keys(original).reduce(function (obj, key) {\n",
       "        if (typeof original[key] !== 'object') {\n",
       "            obj[key] = original[key];\n",
       "        }\n",
       "        return obj;\n",
       "    }, {});\n",
       "}\n",
       "\n",
       "mpl.figure.prototype.mouse_event = function (event, name) {\n",
       "    var canvas_pos = mpl.findpos(event);\n",
       "\n",
       "    if (name === 'button_press') {\n",
       "        this.canvas.focus();\n",
       "        this.canvas_div.focus();\n",
       "    }\n",
       "\n",
       "    var x = canvas_pos.x * this.ratio;\n",
       "    var y = canvas_pos.y * this.ratio;\n",
       "\n",
       "    this.send_message(name, {\n",
       "        x: x,\n",
       "        y: y,\n",
       "        button: event.button,\n",
       "        step: event.step,\n",
       "        guiEvent: simpleKeys(event),\n",
       "    });\n",
       "\n",
       "    /* This prevents the web browser from automatically changing to\n",
       "     * the text insertion cursor when the button is pressed.  We want\n",
       "     * to control all of the cursor setting manually through the\n",
       "     * 'cursor' event from matplotlib */\n",
       "    event.preventDefault();\n",
       "    return false;\n",
       "};\n",
       "\n",
       "mpl.figure.prototype._key_event_extra = function (_event, _name) {\n",
       "    // Handle any extra behaviour associated with a key event\n",
       "};\n",
       "\n",
       "mpl.figure.prototype.key_event = function (event, name) {\n",
       "    // Prevent repeat events\n",
       "    if (name === 'key_press') {\n",
       "        if (event.which === this._key) {\n",
       "            return;\n",
       "        } else {\n",
       "            this._key = event.which;\n",
       "        }\n",
       "    }\n",
       "    if (name === 'key_release') {\n",
       "        this._key = null;\n",
       "    }\n",
       "\n",
       "    var value = '';\n",
       "    if (event.ctrlKey && event.which !== 17) {\n",
       "        value += 'ctrl+';\n",
       "    }\n",
       "    if (event.altKey && event.which !== 18) {\n",
       "        value += 'alt+';\n",
       "    }\n",
       "    if (event.shiftKey && event.which !== 16) {\n",
       "        value += 'shift+';\n",
       "    }\n",
       "\n",
       "    value += 'k';\n",
       "    value += event.which.toString();\n",
       "\n",
       "    this._key_event_extra(event, name);\n",
       "\n",
       "    this.send_message(name, { key: value, guiEvent: simpleKeys(event) });\n",
       "    return false;\n",
       "};\n",
       "\n",
       "mpl.figure.prototype.toolbar_button_onclick = function (name) {\n",
       "    if (name === 'download') {\n",
       "        this.handle_save(this, null);\n",
       "    } else {\n",
       "        this.send_message('toolbar_button', { name: name });\n",
       "    }\n",
       "};\n",
       "\n",
       "mpl.figure.prototype.toolbar_button_onmouseover = function (tooltip) {\n",
       "    this.message.textContent = tooltip;\n",
       "};\n",
       "\n",
       "///////////////// REMAINING CONTENT GENERATED BY embed_js.py /////////////////\n",
       "// prettier-ignore\n",
       "var _JSXTOOLS_RESIZE_OBSERVER=function(A){var t,i=new WeakMap,n=new WeakMap,a=new WeakMap,r=new WeakMap,o=new Set;function s(e){if(!(this instanceof s))throw new TypeError(\"Constructor requires 'new' operator\");i.set(this,e)}function h(){throw new TypeError(\"Function is not a constructor\")}function c(e,t,i,n){e=0 in arguments?Number(arguments[0]):0,t=1 in arguments?Number(arguments[1]):0,i=2 in arguments?Number(arguments[2]):0,n=3 in arguments?Number(arguments[3]):0,this.right=(this.x=this.left=e)+(this.width=i),this.bottom=(this.y=this.top=t)+(this.height=n),Object.freeze(this)}function d(){t=requestAnimationFrame(d);var s=new WeakMap,p=new Set;o.forEach((function(t){r.get(t).forEach((function(i){var r=t instanceof window.SVGElement,o=a.get(t),d=r?0:parseFloat(o.paddingTop),f=r?0:parseFloat(o.paddingRight),l=r?0:parseFloat(o.paddingBottom),u=r?0:parseFloat(o.paddingLeft),g=r?0:parseFloat(o.borderTopWidth),m=r?0:parseFloat(o.borderRightWidth),w=r?0:parseFloat(o.borderBottomWidth),b=u+f,F=d+l,v=(r?0:parseFloat(o.borderLeftWidth))+m,W=g+w,y=r?0:t.offsetHeight-W-t.clientHeight,E=r?0:t.offsetWidth-v-t.clientWidth,R=b+v,z=F+W,M=r?t.width:parseFloat(o.width)-R-E,O=r?t.height:parseFloat(o.height)-z-y;if(n.has(t)){var k=n.get(t);if(k[0]===M&&k[1]===O)return}n.set(t,[M,O]);var S=Object.create(h.prototype);S.target=t,S.contentRect=new c(u,d,M,O),s.has(i)||(s.set(i,[]),p.add(i)),s.get(i).push(S)}))})),p.forEach((function(e){i.get(e).call(e,s.get(e),e)}))}return s.prototype.observe=function(i){if(i instanceof window.Element){r.has(i)||(r.set(i,new Set),o.add(i),a.set(i,window.getComputedStyle(i)));var n=r.get(i);n.has(this)||n.add(this),cancelAnimationFrame(t),t=requestAnimationFrame(d)}},s.prototype.unobserve=function(i){if(i instanceof window.Element&&r.has(i)){var n=r.get(i);n.has(this)&&(n.delete(this),n.size||(r.delete(i),o.delete(i))),n.size||r.delete(i),o.size||cancelAnimationFrame(t)}},A.DOMRectReadOnly=c,A.ResizeObserver=s,A.ResizeObserverEntry=h,A}; // eslint-disable-line\n",
       "mpl.toolbar_items = [[\"Home\", \"Reset original view\", \"fa fa-home icon-home\", \"home\"], [\"Back\", \"Back to previous view\", \"fa fa-arrow-left icon-arrow-left\", \"back\"], [\"Forward\", \"Forward to next view\", \"fa fa-arrow-right icon-arrow-right\", \"forward\"], [\"\", \"\", \"\", \"\"], [\"Pan\", \"Left button pans, Right button zooms\\nx/y fixes axis, CTRL fixes aspect\", \"fa fa-arrows icon-move\", \"pan\"], [\"Zoom\", \"Zoom to rectangle\\nx/y fixes axis, CTRL fixes aspect\", \"fa fa-square-o icon-check-empty\", \"zoom\"], [\"\", \"\", \"\", \"\"], [\"Download\", \"Download plot\", \"fa fa-floppy-o icon-save\", \"download\"]];\n",
       "\n",
       "mpl.extensions = [\"eps\", \"jpeg\", \"pdf\", \"png\", \"ps\", \"raw\", \"svg\", \"tif\"];\n",
       "\n",
       "mpl.default_extension = \"png\";/* global mpl */\n",
       "\n",
       "var comm_websocket_adapter = function (comm) {\n",
       "    // Create a \"websocket\"-like object which calls the given IPython comm\n",
       "    // object with the appropriate methods. Currently this is a non binary\n",
       "    // socket, so there is still some room for performance tuning.\n",
       "    var ws = {};\n",
       "\n",
       "    ws.close = function () {\n",
       "        comm.close();\n",
       "    };\n",
       "    ws.send = function (m) {\n",
       "        //console.log('sending', m);\n",
       "        comm.send(m);\n",
       "    };\n",
       "    // Register the callback with on_msg.\n",
       "    comm.on_msg(function (msg) {\n",
       "        //console.log('receiving', msg['content']['data'], msg);\n",
       "        // Pass the mpl event to the overridden (by mpl) onmessage function.\n",
       "        ws.onmessage(msg['content']['data']);\n",
       "    });\n",
       "    return ws;\n",
       "};\n",
       "\n",
       "mpl.mpl_figure_comm = function (comm, msg) {\n",
       "    // This is the function which gets called when the mpl process\n",
       "    // starts-up an IPython Comm through the \"matplotlib\" channel.\n",
       "\n",
       "    var id = msg.content.data.id;\n",
       "    // Get hold of the div created by the display call when the Comm\n",
       "    // socket was opened in Python.\n",
       "    var element = document.getElementById(id);\n",
       "    var ws_proxy = comm_websocket_adapter(comm);\n",
       "\n",
       "    function ondownload(figure, _format) {\n",
       "        window.open(figure.canvas.toDataURL());\n",
       "    }\n",
       "\n",
       "    var fig = new mpl.figure(id, ws_proxy, ondownload, element);\n",
       "\n",
       "    // Call onopen now - mpl needs it, as it is assuming we've passed it a real\n",
       "    // web socket which is closed, not our websocket->open comm proxy.\n",
       "    ws_proxy.onopen();\n",
       "\n",
       "    fig.parent_element = element;\n",
       "    fig.cell_info = mpl.find_output_cell(\"<div id='\" + id + \"'></div>\");\n",
       "    if (!fig.cell_info) {\n",
       "        console.error('Failed to find cell for figure', id, fig);\n",
       "        return;\n",
       "    }\n",
       "    fig.cell_info[0].output_area.element.on(\n",
       "        'cleared',\n",
       "        { fig: fig },\n",
       "        fig._remove_fig_handler\n",
       "    );\n",
       "};\n",
       "\n",
       "mpl.figure.prototype.handle_close = function (fig, msg) {\n",
       "    var width = fig.canvas.width / fig.ratio;\n",
       "    fig.cell_info[0].output_area.element.off(\n",
       "        'cleared',\n",
       "        fig._remove_fig_handler\n",
       "    );\n",
       "    fig.resizeObserverInstance.unobserve(fig.canvas_div);\n",
       "\n",
       "    // Update the output cell to use the data from the current canvas.\n",
       "    fig.push_to_output();\n",
       "    var dataURL = fig.canvas.toDataURL();\n",
       "    // Re-enable the keyboard manager in IPython - without this line, in FF,\n",
       "    // the notebook keyboard shortcuts fail.\n",
       "    IPython.keyboard_manager.enable();\n",
       "    fig.parent_element.innerHTML =\n",
       "        '<img src=\"' + dataURL + '\" width=\"' + width + '\">';\n",
       "    fig.close_ws(fig, msg);\n",
       "};\n",
       "\n",
       "mpl.figure.prototype.close_ws = function (fig, msg) {\n",
       "    fig.send_message('closing', msg);\n",
       "    // fig.ws.close()\n",
       "};\n",
       "\n",
       "mpl.figure.prototype.push_to_output = function (_remove_interactive) {\n",
       "    // Turn the data on the canvas into data in the output cell.\n",
       "    var width = this.canvas.width / this.ratio;\n",
       "    var dataURL = this.canvas.toDataURL();\n",
       "    this.cell_info[1]['text/html'] =\n",
       "        '<img src=\"' + dataURL + '\" width=\"' + width + '\">';\n",
       "};\n",
       "\n",
       "mpl.figure.prototype.updated_canvas_event = function () {\n",
       "    // Tell IPython that the notebook contents must change.\n",
       "    IPython.notebook.set_dirty(true);\n",
       "    this.send_message('ack', {});\n",
       "    var fig = this;\n",
       "    // Wait a second, then push the new image to the DOM so\n",
       "    // that it is saved nicely (might be nice to debounce this).\n",
       "    setTimeout(function () {\n",
       "        fig.push_to_output();\n",
       "    }, 1000);\n",
       "};\n",
       "\n",
       "mpl.figure.prototype._init_toolbar = function () {\n",
       "    var fig = this;\n",
       "\n",
       "    var toolbar = document.createElement('div');\n",
       "    toolbar.classList = 'btn-toolbar';\n",
       "    this.root.appendChild(toolbar);\n",
       "\n",
       "    function on_click_closure(name) {\n",
       "        return function (_event) {\n",
       "            return fig.toolbar_button_onclick(name);\n",
       "        };\n",
       "    }\n",
       "\n",
       "    function on_mouseover_closure(tooltip) {\n",
       "        return function (event) {\n",
       "            if (!event.currentTarget.disabled) {\n",
       "                return fig.toolbar_button_onmouseover(tooltip);\n",
       "            }\n",
       "        };\n",
       "    }\n",
       "\n",
       "    fig.buttons = {};\n",
       "    var buttonGroup = document.createElement('div');\n",
       "    buttonGroup.classList = 'btn-group';\n",
       "    var button;\n",
       "    for (var toolbar_ind in mpl.toolbar_items) {\n",
       "        var name = mpl.toolbar_items[toolbar_ind][0];\n",
       "        var tooltip = mpl.toolbar_items[toolbar_ind][1];\n",
       "        var image = mpl.toolbar_items[toolbar_ind][2];\n",
       "        var method_name = mpl.toolbar_items[toolbar_ind][3];\n",
       "\n",
       "        if (!name) {\n",
       "            /* Instead of a spacer, we start a new button group. */\n",
       "            if (buttonGroup.hasChildNodes()) {\n",
       "                toolbar.appendChild(buttonGroup);\n",
       "            }\n",
       "            buttonGroup = document.createElement('div');\n",
       "            buttonGroup.classList = 'btn-group';\n",
       "            continue;\n",
       "        }\n",
       "\n",
       "        button = fig.buttons[name] = document.createElement('button');\n",
       "        button.classList = 'btn btn-default';\n",
       "        button.href = '#';\n",
       "        button.title = name;\n",
       "        button.innerHTML = '<i class=\"fa ' + image + ' fa-lg\"></i>';\n",
       "        button.addEventListener('click', on_click_closure(method_name));\n",
       "        button.addEventListener('mouseover', on_mouseover_closure(tooltip));\n",
       "        buttonGroup.appendChild(button);\n",
       "    }\n",
       "\n",
       "    if (buttonGroup.hasChildNodes()) {\n",
       "        toolbar.appendChild(buttonGroup);\n",
       "    }\n",
       "\n",
       "    // Add the status bar.\n",
       "    var status_bar = document.createElement('span');\n",
       "    status_bar.classList = 'mpl-message pull-right';\n",
       "    toolbar.appendChild(status_bar);\n",
       "    this.message = status_bar;\n",
       "\n",
       "    // Add the close button to the window.\n",
       "    var buttongrp = document.createElement('div');\n",
       "    buttongrp.classList = 'btn-group inline pull-right';\n",
       "    button = document.createElement('button');\n",
       "    button.classList = 'btn btn-mini btn-primary';\n",
       "    button.href = '#';\n",
       "    button.title = 'Stop Interaction';\n",
       "    button.innerHTML = '<i class=\"fa fa-power-off icon-remove icon-large\"></i>';\n",
       "    button.addEventListener('click', function (_evt) {\n",
       "        fig.handle_close(fig, {});\n",
       "    });\n",
       "    button.addEventListener(\n",
       "        'mouseover',\n",
       "        on_mouseover_closure('Stop Interaction')\n",
       "    );\n",
       "    buttongrp.appendChild(button);\n",
       "    var titlebar = this.root.querySelector('.ui-dialog-titlebar');\n",
       "    titlebar.insertBefore(buttongrp, titlebar.firstChild);\n",
       "};\n",
       "\n",
       "mpl.figure.prototype._remove_fig_handler = function (event) {\n",
       "    var fig = event.data.fig;\n",
       "    if (event.target !== this) {\n",
       "        // Ignore bubbled events from children.\n",
       "        return;\n",
       "    }\n",
       "    fig.close_ws(fig, {});\n",
       "};\n",
       "\n",
       "mpl.figure.prototype._root_extra_style = function (el) {\n",
       "    el.style.boxSizing = 'content-box'; // override notebook setting of border-box.\n",
       "};\n",
       "\n",
       "mpl.figure.prototype._canvas_extra_style = function (el) {\n",
       "    // this is important to make the div 'focusable\n",
       "    el.setAttribute('tabindex', 0);\n",
       "    // reach out to IPython and tell the keyboard manager to turn it's self\n",
       "    // off when our div gets focus\n",
       "\n",
       "    // location in version 3\n",
       "    if (IPython.notebook.keyboard_manager) {\n",
       "        IPython.notebook.keyboard_manager.register_events(el);\n",
       "    } else {\n",
       "        // location in version 2\n",
       "        IPython.keyboard_manager.register_events(el);\n",
       "    }\n",
       "};\n",
       "\n",
       "mpl.figure.prototype._key_event_extra = function (event, _name) {\n",
       "    var manager = IPython.notebook.keyboard_manager;\n",
       "    if (!manager) {\n",
       "        manager = IPython.keyboard_manager;\n",
       "    }\n",
       "\n",
       "    // Check for shift+enter\n",
       "    if (event.shiftKey && event.which === 13) {\n",
       "        this.canvas_div.blur();\n",
       "        // select the cell after this one\n",
       "        var index = IPython.notebook.find_cell_index(this.cell_info[0]);\n",
       "        IPython.notebook.select(index + 1);\n",
       "    }\n",
       "};\n",
       "\n",
       "mpl.figure.prototype.handle_save = function (fig, _msg) {\n",
       "    fig.ondownload(fig, null);\n",
       "};\n",
       "\n",
       "mpl.find_output_cell = function (html_output) {\n",
       "    // Return the cell and output element which can be found *uniquely* in the notebook.\n",
       "    // Note - this is a bit hacky, but it is done because the \"notebook_saving.Notebook\"\n",
       "    // IPython event is triggered only after the cells have been serialised, which for\n",
       "    // our purposes (turning an active figure into a static one), is too late.\n",
       "    var cells = IPython.notebook.get_cells();\n",
       "    var ncells = cells.length;\n",
       "    for (var i = 0; i < ncells; i++) {\n",
       "        var cell = cells[i];\n",
       "        if (cell.cell_type === 'code') {\n",
       "            for (var j = 0; j < cell.output_area.outputs.length; j++) {\n",
       "                var data = cell.output_area.outputs[j];\n",
       "                if (data.data) {\n",
       "                    // IPython >= 3 moved mimebundle to data attribute of output\n",
       "                    data = data.data;\n",
       "                }\n",
       "                if (data['text/html'] === html_output) {\n",
       "                    return [cell, data, j];\n",
       "                }\n",
       "            }\n",
       "        }\n",
       "    }\n",
       "};\n",
       "\n",
       "// Register the function which deals with the matplotlib target/channel.\n",
       "// The kernel may be null if the page has been refreshed.\n",
       "if (IPython.notebook.kernel !== null) {\n",
       "    IPython.notebook.kernel.comm_manager.register_target(\n",
       "        'matplotlib',\n",
       "        mpl.mpl_figure_comm\n",
       "    );\n",
       "}\n"
      ],
      "text/plain": [
       "<IPython.core.display.Javascript object>"
      ]
     },
     "metadata": {},
     "output_type": "display_data"
    },
    {
     "data": {
      "text/html": [
       "<img src=\"data:image/png;base64,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\" width=\"640\">"
      ],
      "text/plain": [
       "<IPython.core.display.HTML object>"
      ]
     },
     "metadata": {},
     "output_type": "display_data"
    }
   ],
   "source": [
    "# Precalculate distribution for blanks\n",
    "from functools import reduce\n",
    "\n",
    "samps=np.arange(10)\n",
    "dists=[stats.poisson.pmf(samps,blank_rates[cat]) for cat in cats]\n",
    "\n",
    "blank_sum_dist=reduce(np.convolve,dists)\n",
    "# Trim trailing zeros\n",
    "last_nonzero=np.nonzero(blank_sum_dist)[0][-1]\n",
    "blank_sum_dist=blank_sum_dist[:last_nonzero+1]\n",
    "\n",
    "if 1: # \"verify\" distribution against sampling\n",
    "    # First, the \"empirical\" distribution\n",
    "    blanks=[np.sum( [stats.poisson.rvs(blank_rates[cat]) for cat in cats])\n",
    "            for _ in range(5000)]\n",
    "    plt.figure()\n",
    "    # Very close. Not sure why the peak is slightly shifted.\n",
    "    plt.hist(blanks,density=True,bins=np.arange(25)-0.5)\n",
    "    plt.plot(blank_sum_dist,'go')"
   ]
  },
  {
   "cell_type": "code",
   "execution_count": 72,
   "metadata": {},
   "outputs": [],
   "source": [
    "# The real setup\n",
    "from scipy.special import logsumexp\n",
    "\n",
    "# The baseline pieces include all possible variables,\n",
    "# which are then specialized below.\n",
    "full_dims=['beach','depo','decay','storm','scale','alpha']\n",
    "\n",
    "def log_prior(beach,depo,decay,storm,scale,alpha):\n",
    "    # just happens that at this point, non-negative is my only\n",
    "    # constraint for all of the parameters\n",
    "    if ( (beach<0)\n",
    "         or (depo<0)\n",
    "         or (decay<0)\n",
    "         or (storm<0)\n",
    "         or (scale<0)\n",
    "         or (alpha<0) ):\n",
    "        return -np.inf\n",
    "    return 0  # flat prior for non-negative values\n",
    "\n",
    "# theta is parameter vector.\n",
    "ncalls=0\n",
    "def log_likelihood(beach,depo,decay,storm,scale,alpha):\n",
    "    global ncalls\n",
    "    ncalls+=1\n",
    "    LL=0.0\n",
    "\n",
    "    df=predict_mantas_fast(beach_rate=beach,\n",
    "                           depo_rate=depo,\n",
    "                           decay_rate=decay,\n",
    "                           storm_factor=storm)\n",
    "    \n",
    "\n",
    "    sigma=1.0 # log units\n",
    "    LL=0\n",
    "    \n",
    "    for idx,rec in df.iterrows():\n",
    "        o=rec['count_preblank_nofiber']\n",
    "        m=scale * rec['C_model'] * rec['area_m2']\n",
    "        \n",
    "        if np.isinf(m):\n",
    "            print(\"Model result was nan for \",theta)\n",
    "            return -np.inf\n",
    "        # convert to the parameters scipy wants\n",
    "        mu=m\n",
    "        sigma2=mu+alpha*mu**2\n",
    "        p=mu/sigma2 \n",
    "        n=1/alpha \n",
    "        if 1: # integration approach for blanks\n",
    "            lls=[]\n",
    "            for nblank,pm in enumerate(blank_sum_dist):\n",
    "                if (pm>0.0) and (o-nblank)>=0:\n",
    "                    lls.append( np.log(pm) + stats.nbinom.logpmf(o-nblank,n,p))\n",
    "                else:\n",
    "                    pass # probability=0\n",
    "            ll=logsumexp(lls)\n",
    "\n",
    "        LL+=ll\n",
    "    return LL\n",
    "\n",
    "# Original alpha=3.37 came from fitting NegativeBinomial to the full set of\n",
    "# observations with some nominal blank subtraction.\n",
    "# After finding some decent parameters with that alpha, a second optimization\n",
    "# step (starting from the result of the first), additionally tuned alpha and\n",
    "# finds alpha=1.75. That's now the default here.\n",
    "\n",
    "def get_log_posterior(dims,defaults):\n",
    "    # dims: list of parameter names\n",
    "    # defaults: dict of default values for the rest of the parameters\n",
    "    assert len(dims)+len(defaults)==len(full_dims)\n",
    "    def log_posterior(theta,defaults=defaults,dims=dims):\n",
    "        kwargs=dict(defaults) # copy it\n",
    "        assert len(theta)==len(dims)\n",
    "        for d,v in zip(dims,theta):\n",
    "            kwargs[d]=v\n",
    "        l=log_prior(**kwargs)\n",
    "        if np.isfinite(l):\n",
    "            l += log_likelihood(**kwargs)\n",
    "        return l\n",
    "    return log_posterior"
   ]
  },
  {
   "cell_type": "code",
   "execution_count": 77,
   "metadata": {},
   "outputs": [
    {
     "name": "stderr",
     "output_type": "stream",
     "text": [
      "INFO:utils:59\n"
     ]
    },
    {
     "name": "stdout",
     "output_type": "stream",
     "text": [
      "log posterior          -340.577521  for theta=[0.1  0.01 0.01 1.   1.  ]\n"
     ]
    },
    {
     "name": "stderr",
     "output_type": "stream",
     "text": [
      "INFO:utils:59\n"
     ]
    },
    {
     "name": "stdout",
     "output_type": "stream",
     "text": [
      "log posterior          -340.577523  for theta=[0.10000001 0.01       0.01       1.         1.        ]\n"
     ]
    },
    {
     "name": "stderr",
     "output_type": "stream",
     "text": [
      "INFO:utils:60\n"
     ]
    },
    {
     "name": "stdout",
     "output_type": "stream",
     "text": [
      "log posterior          -340.577523  for theta=[0.1        0.01000001 0.01       1.         1.        ]\n"
     ]
    },
    {
     "name": "stderr",
     "output_type": "stream",
     "text": [
      "INFO:utils:64\n"
     ]
    },
    {
     "name": "stdout",
     "output_type": "stream",
     "text": [
      "log posterior          -340.577523  for theta=[0.1        0.01       0.01000001 1.         1.        ]\n"
     ]
    },
    {
     "name": "stderr",
     "output_type": "stream",
     "text": [
      "INFO:utils:60\n"
     ]
    },
    {
     "name": "stdout",
     "output_type": "stream",
     "text": [
      "log posterior          -340.577521  for theta=[0.1        0.01       0.01       1.00000001 1.        ]\n"
     ]
    },
    {
     "name": "stderr",
     "output_type": "stream",
     "text": [
      "INFO:utils:61\n"
     ]
    },
    {
     "name": "stdout",
     "output_type": "stream",
     "text": [
      "log posterior          -340.577521  for theta=[0.1        0.01       0.01       1.         1.00000001]\n"
     ]
    },
    {
     "name": "stderr",
     "output_type": "stream",
     "text": [
      "INFO:utils:63\n"
     ]
    },
    {
     "name": "stdout",
     "output_type": "stream",
     "text": [
      "log posterior          -566.874162  for theta=[ 0.          0.          0.         19.73403915 20.        ]\n"
     ]
    },
    {
     "name": "stderr",
     "output_type": "stream",
     "text": [
      "INFO:utils:61\n"
     ]
    },
    {
     "name": "stdout",
     "output_type": "stream",
     "text": [
      "log posterior          -566.874109  for theta=[1.00000000e-08 0.00000000e+00 0.00000000e+00 1.97340391e+01\n",
      " 2.00000000e+01]\n"
     ]
    },
    {
     "name": "stderr",
     "output_type": "stream",
     "text": [
      "INFO:utils:58\n"
     ]
    },
    {
     "name": "stdout",
     "output_type": "stream",
     "text": [
      "log posterior          -566.874154  for theta=[0.00000000e+00 1.00000000e-08 0.00000000e+00 1.97340391e+01\n",
      " 2.00000000e+01]\n"
     ]
    },
    {
     "name": "stderr",
     "output_type": "stream",
     "text": [
      "INFO:utils:57\n"
     ]
    },
    {
     "name": "stdout",
     "output_type": "stream",
     "text": [
      "log posterior          -566.874154  for theta=[0.00000000e+00 0.00000000e+00 1.00000000e-08 1.97340391e+01\n",
      " 2.00000000e+01]\n"
     ]
    },
    {
     "name": "stderr",
     "output_type": "stream",
     "text": [
      "INFO:utils:60\n"
     ]
    },
    {
     "name": "stdout",
     "output_type": "stream",
     "text": [
      "log posterior          -566.874162  for theta=[ 0.          0.          0.         19.73403916 20.        ]\n"
     ]
    },
    {
     "name": "stderr",
     "output_type": "stream",
     "text": [
      "INFO:utils:59\n"
     ]
    },
    {
     "name": "stdout",
     "output_type": "stream",
     "text": [
      "log posterior          -566.874162  for theta=[ 0.          0.          0.         19.73403915 19.99999999]\n"
     ]
    },
    {
     "name": "stderr",
     "output_type": "stream",
     "text": [
      "INFO:utils:57\n"
     ]
    },
    {
     "name": "stdout",
     "output_type": "stream",
     "text": [
      "log posterior          -404.456766  for theta=[0.07095633 0.00709563 0.00709563 6.44105291 6.5182977 ]\n"
     ]
    },
    {
     "name": "stderr",
     "output_type": "stream",
     "text": [
      "INFO:utils:61\n"
     ]
    },
    {
     "name": "stdout",
     "output_type": "stream",
     "text": [
      "log posterior          -404.456761  for theta=[0.07095634 0.00709563 0.00709563 6.44105291 6.5182977 ]\n"
     ]
    },
    {
     "name": "stderr",
     "output_type": "stream",
     "text": [
      "INFO:utils:59\n"
     ]
    },
    {
     "name": "stdout",
     "output_type": "stream",
     "text": [
      "log posterior          -404.456764  for theta=[0.07095633 0.00709564 0.00709563 6.44105291 6.5182977 ]\n"
     ]
    },
    {
     "name": "stderr",
     "output_type": "stream",
     "text": [
      "INFO:utils:59\n"
     ]
    },
    {
     "name": "stdout",
     "output_type": "stream",
     "text": [
      "log posterior          -404.456762  for theta=[0.07095633 0.00709563 0.00709564 6.44105291 6.5182977 ]\n"
     ]
    },
    {
     "name": "stderr",
     "output_type": "stream",
     "text": [
      "INFO:utils:59\n"
     ]
    },
    {
     "name": "stdout",
     "output_type": "stream",
     "text": [
      "log posterior          -404.456766  for theta=[0.07095633 0.00709563 0.00709563 6.44105292 6.5182977 ]\n"
     ]
    },
    {
     "name": "stderr",
     "output_type": "stream",
     "text": [
      "INFO:utils:58\n"
     ]
    },
    {
     "name": "stdout",
     "output_type": "stream",
     "text": [
      "log posterior          -404.456766  for theta=[0.07095633 0.00709563 0.00709563 6.44105291 6.51829771]\n"
     ]
    },
    {
     "name": "stderr",
     "output_type": "stream",
     "text": [
      "INFO:utils:58\n"
     ]
    },
    {
     "name": "stdout",
     "output_type": "stream",
     "text": [
      "log posterior          -343.541498  for theta=[0.0928463  0.00928463 0.00928463 2.34017648 2.35920252]\n"
     ]
    },
    {
     "name": "stderr",
     "output_type": "stream",
     "text": [
      "INFO:utils:57\n"
     ]
    },
    {
     "name": "stdout",
     "output_type": "stream",
     "text": [
      "log posterior          -343.541496  for theta=[0.09284631 0.00928463 0.00928463 2.34017648 2.35920252]\n"
     ]
    },
    {
     "name": "stderr",
     "output_type": "stream",
     "text": [
      "INFO:utils:60\n"
     ]
    },
    {
     "name": "stdout",
     "output_type": "stream",
     "text": [
      "log posterior          -343.541497  for theta=[0.0928463  0.00928464 0.00928463 2.34017648 2.35920252]\n"
     ]
    },
    {
     "name": "stderr",
     "output_type": "stream",
     "text": [
      "INFO:utils:57\n"
     ]
    },
    {
     "name": "stdout",
     "output_type": "stream",
     "text": [
      "log posterior          -343.541496  for theta=[0.0928463  0.00928463 0.00928464 2.34017648 2.35920252]\n"
     ]
    },
    {
     "name": "stderr",
     "output_type": "stream",
     "text": [
      "INFO:utils:60\n"
     ]
    },
    {
     "name": "stdout",
     "output_type": "stream",
     "text": [
      "log posterior          -343.541498  for theta=[0.0928463  0.00928463 0.00928463 2.34017649 2.35920252]\n"
     ]
    },
    {
     "name": "stderr",
     "output_type": "stream",
     "text": [
      "INFO:utils:59\n"
     ]
    },
    {
     "name": "stdout",
     "output_type": "stream",
     "text": [
      "log posterior          -343.541498  for theta=[0.0928463  0.00928463 0.00928463 2.34017648 2.35920253]\n"
     ]
    },
    {
     "name": "stderr",
     "output_type": "stream",
     "text": [
      "INFO:utils:60\n"
     ]
    },
    {
     "name": "stdout",
     "output_type": "stream",
     "text": [
      "log posterior          -333.079699  for theta=[0.09742788 0.00974279 0.00974279 1.48186116 1.48870198]\n"
     ]
    },
    {
     "name": "stderr",
     "output_type": "stream",
     "text": [
      "INFO:utils:61\n"
     ]
    },
    {
     "name": "stdout",
     "output_type": "stream",
     "text": [
      "log posterior          -333.079699  for theta=[0.09742789 0.00974279 0.00974279 1.48186116 1.48870198]\n"
     ]
    },
    {
     "name": "stderr",
     "output_type": "stream",
     "text": [
      "INFO:utils:59\n"
     ]
    },
    {
     "name": "stdout",
     "output_type": "stream",
     "text": [
      "log posterior          -333.079699  for theta=[0.09742788 0.0097428  0.00974279 1.48186116 1.48870198]\n"
     ]
    },
    {
     "name": "stderr",
     "output_type": "stream",
     "text": [
      "INFO:utils:60\n"
     ]
    },
    {
     "name": "stdout",
     "output_type": "stream",
     "text": [
      "log posterior          -333.079699  for theta=[0.09742788 0.00974279 0.0097428  1.48186116 1.48870198]\n"
     ]
    },
    {
     "name": "stderr",
     "output_type": "stream",
     "text": [
      "INFO:utils:61\n"
     ]
    },
    {
     "name": "stdout",
     "output_type": "stream",
     "text": [
      "log posterior          -333.079699  for theta=[0.09742788 0.00974279 0.00974279 1.48186117 1.48870198]\n"
     ]
    },
    {
     "name": "stderr",
     "output_type": "stream",
     "text": [
      "INFO:utils:62\n"
     ]
    },
    {
     "name": "stdout",
     "output_type": "stream",
     "text": [
      "log posterior          -333.079699  for theta=[0.09742788 0.00974279 0.00974279 1.48186116 1.48870199]\n",
      "Iteration:  [0.09742788 0.00974279 0.00974279 1.48186116 1.48870198]\n"
     ]
    },
    {
     "name": "stderr",
     "output_type": "stream",
     "text": [
      "INFO:utils:61\n"
     ]
    },
    {
     "name": "stdout",
     "output_type": "stream",
     "text": [
      "log posterior          -332.839542  for theta=[0.10399626 0.00738609 0.00863579 1.47547124 1.48206875]\n"
     ]
    },
    {
     "name": "stderr",
     "output_type": "stream",
     "text": [
      "INFO:utils:58\n"
     ]
    },
    {
     "name": "stdout",
     "output_type": "stream",
     "text": [
      "log posterior          -332.839542  for theta=[0.10399627 0.00738609 0.00863579 1.47547124 1.48206875]\n"
     ]
    },
    {
     "name": "stderr",
     "output_type": "stream",
     "text": [
      "INFO:utils:59\n"
     ]
    },
    {
     "name": "stdout",
     "output_type": "stream",
     "text": [
      "log posterior          -332.839542  for theta=[0.10399626 0.0073861  0.00863579 1.47547124 1.48206875]\n"
     ]
    },
    {
     "name": "stderr",
     "output_type": "stream",
     "text": [
      "INFO:utils:60\n"
     ]
    },
    {
     "name": "stdout",
     "output_type": "stream",
     "text": [
      "log posterior          -332.839542  for theta=[0.10399626 0.00738609 0.0086358  1.47547124 1.48206875]\n"
     ]
    },
    {
     "name": "stderr",
     "output_type": "stream",
     "text": [
      "INFO:utils:62\n"
     ]
    },
    {
     "name": "stdout",
     "output_type": "stream",
     "text": [
      "log posterior          -332.839542  for theta=[0.10399626 0.00738609 0.00863579 1.47547125 1.48206875]\n"
     ]
    },
    {
     "name": "stderr",
     "output_type": "stream",
     "text": [
      "INFO:utils:63\n"
     ]
    },
    {
     "name": "stdout",
     "output_type": "stream",
     "text": [
      "log posterior          -332.839542  for theta=[0.10399626 0.00738609 0.00863579 1.47547124 1.48206876]\n",
      "Iteration:  [0.10399626 0.00738609 0.00863579 1.47547124 1.48206875]\n"
     ]
    },
    {
     "name": "stderr",
     "output_type": "stream",
     "text": [
      "INFO:utils:63\n"
     ]
    },
    {
     "name": "stdout",
     "output_type": "stream",
     "text": [
      "log posterior          -332.116593  for theta=[1.24805227e-01 0.00000000e+00 1.41556196e-03 1.47201756e+00\n",
      " 1.47800251e+00]\n"
     ]
    },
    {
     "name": "stderr",
     "output_type": "stream",
     "text": [
      "INFO:utils:62\n"
     ]
    },
    {
     "name": "stdout",
     "output_type": "stream",
     "text": [
      "log posterior          -332.116593  for theta=[1.24805237e-01 0.00000000e+00 1.41556196e-03 1.47201756e+00\n",
      " 1.47800251e+00]\n"
     ]
    },
    {
     "name": "stderr",
     "output_type": "stream",
     "text": [
      "INFO:utils:59\n"
     ]
    },
    {
     "name": "stdout",
     "output_type": "stream",
     "text": [
      "log posterior          -332.116594  for theta=[1.24805227e-01 1.00000000e-08 1.41556196e-03 1.47201756e+00\n",
      " 1.47800251e+00]\n"
     ]
    },
    {
     "name": "stderr",
     "output_type": "stream",
     "text": [
      "INFO:utils:59\n"
     ]
    },
    {
     "name": "stdout",
     "output_type": "stream",
     "text": [
      "log posterior          -332.116593  for theta=[1.24805227e-01 0.00000000e+00 1.41557196e-03 1.47201756e+00\n",
      " 1.47800251e+00]\n"
     ]
    },
    {
     "name": "stderr",
     "output_type": "stream",
     "text": [
      "INFO:utils:60\n"
     ]
    },
    {
     "name": "stdout",
     "output_type": "stream",
     "text": [
      "log posterior          -332.116593  for theta=[1.24805227e-01 0.00000000e+00 1.41556196e-03 1.47201757e+00\n",
      " 1.47800251e+00]\n"
     ]
    },
    {
     "name": "stderr",
     "output_type": "stream",
     "text": [
      "INFO:utils:60\n"
     ]
    },
    {
     "name": "stdout",
     "output_type": "stream",
     "text": [
      "log posterior          -332.116593  for theta=[1.24805227e-01 0.00000000e+00 1.41556196e-03 1.47201756e+00\n",
      " 1.47800252e+00]\n",
      "Iteration:  [1.24805227e-01 0.00000000e+00 1.41556196e-03 1.47201756e+00\n",
      " 1.47800251e+00]\n"
     ]
    },
    {
     "name": "stderr",
     "output_type": "stream",
     "text": [
      "INFO:utils:60\n"
     ]
    },
    {
     "name": "stdout",
     "output_type": "stream",
     "text": [
      "log posterior          -332.004237  for theta=[0.13102617 0.         0.         1.49391519 1.50000839]\n"
     ]
    },
    {
     "name": "stderr",
     "output_type": "stream",
     "text": [
      "INFO:utils:58\n"
     ]
    },
    {
     "name": "stdout",
     "output_type": "stream",
     "text": [
      "log posterior          -332.004237  for theta=[0.13102618 0.         0.         1.49391519 1.50000839]\n"
     ]
    },
    {
     "name": "stderr",
     "output_type": "stream",
     "text": [
      "INFO:utils:60\n"
     ]
    },
    {
     "name": "stdout",
     "output_type": "stream",
     "text": [
      "log posterior          -332.004238  for theta=[1.31026170e-01 1.00000000e-08 0.00000000e+00 1.49391519e+00\n",
      " 1.50000839e+00]\n"
     ]
    },
    {
     "name": "stderr",
     "output_type": "stream",
     "text": [
      "INFO:utils:59\n"
     ]
    },
    {
     "name": "stdout",
     "output_type": "stream",
     "text": [
      "log posterior          -332.004238  for theta=[1.31026170e-01 0.00000000e+00 1.00000000e-08 1.49391519e+00\n",
      " 1.50000839e+00]\n"
     ]
    },
    {
     "name": "stderr",
     "output_type": "stream",
     "text": [
      "INFO:utils:59\n"
     ]
    },
    {
     "name": "stdout",
     "output_type": "stream",
     "text": [
      "log posterior          -332.004237  for theta=[0.13102617 0.         0.         1.4939152  1.50000839]\n"
     ]
    },
    {
     "name": "stderr",
     "output_type": "stream",
     "text": [
      "INFO:utils:58\n"
     ]
    },
    {
     "name": "stdout",
     "output_type": "stream",
     "text": [
      "log posterior          -332.004237  for theta=[0.13102617 0.         0.         1.49391519 1.5000084 ]\n",
      "Iteration:  [0.13102617 0.         0.         1.49391519 1.50000839]\n"
     ]
    },
    {
     "name": "stderr",
     "output_type": "stream",
     "text": [
      "INFO:utils:62\n"
     ]
    },
    {
     "name": "stdout",
     "output_type": "stream",
     "text": [
      "log posterior          -331.860011  for theta=[0.14326896 0.         0.         1.56286323 1.56951547]\n"
     ]
    },
    {
     "name": "stderr",
     "output_type": "stream",
     "text": [
      "INFO:utils:60\n"
     ]
    },
    {
     "name": "stdout",
     "output_type": "stream",
     "text": [
      "log posterior          -331.860011  for theta=[0.14326897 0.         0.         1.56286323 1.56951547]\n"
     ]
    },
    {
     "name": "stderr",
     "output_type": "stream",
     "text": [
      "INFO:utils:61\n"
     ]
    },
    {
     "name": "stdout",
     "output_type": "stream",
     "text": [
      "log posterior          -331.860012  for theta=[1.43268959e-01 1.00000000e-08 0.00000000e+00 1.56286323e+00\n",
      " 1.56951547e+00]\n"
     ]
    },
    {
     "name": "stderr",
     "output_type": "stream",
     "text": [
      "INFO:utils:64\n"
     ]
    },
    {
     "name": "stdout",
     "output_type": "stream",
     "text": [
      "log posterior          -331.860011  for theta=[1.43268959e-01 0.00000000e+00 1.00000000e-08 1.56286323e+00\n",
      " 1.56951547e+00]\n"
     ]
    },
    {
     "name": "stderr",
     "output_type": "stream",
     "text": [
      "INFO:utils:62\n"
     ]
    },
    {
     "name": "stdout",
     "output_type": "stream",
     "text": [
      "log posterior          -331.860011  for theta=[0.14326896 0.         0.         1.56286324 1.56951547]\n"
     ]
    },
    {
     "name": "stderr",
     "output_type": "stream",
     "text": [
      "INFO:utils:62\n"
     ]
    },
    {
     "name": "stdout",
     "output_type": "stream",
     "text": [
      "log posterior          -331.860011  for theta=[0.14326896 0.         0.         1.56286323 1.56951548]\n",
      "Iteration:  [0.14326896 0.         0.         1.56286323 1.56951547]\n"
     ]
    },
    {
     "name": "stderr",
     "output_type": "stream",
     "text": [
      "INFO:utils:61\n"
     ]
    },
    {
     "name": "stdout",
     "output_type": "stream",
     "text": [
      "log posterior          -331.461385  for theta=[0.20073065 0.         0.         1.90074443 1.91083427]\n"
     ]
    },
    {
     "name": "stderr",
     "output_type": "stream",
     "text": [
      "INFO:utils:62\n"
     ]
    },
    {
     "name": "stdout",
     "output_type": "stream",
     "text": [
      "log posterior          -331.461385  for theta=[0.20073066 0.         0.         1.90074443 1.91083427]\n"
     ]
    },
    {
     "name": "stderr",
     "output_type": "stream",
     "text": [
      "INFO:utils:64\n"
     ]
    },
    {
     "name": "stdout",
     "output_type": "stream",
     "text": [
      "log posterior          -331.461386  for theta=[2.00730654e-01 1.00000000e-08 0.00000000e+00 1.90074443e+00\n",
      " 1.91083427e+00]\n"
     ]
    },
    {
     "name": "stderr",
     "output_type": "stream",
     "text": [
      "INFO:utils:64\n"
     ]
    },
    {
     "name": "stdout",
     "output_type": "stream",
     "text": [
      "log posterior          -331.461386  for theta=[2.00730654e-01 0.00000000e+00 1.00000000e-08 1.90074443e+00\n",
      " 1.91083427e+00]\n"
     ]
    },
    {
     "name": "stderr",
     "output_type": "stream",
     "text": [
      "INFO:utils:64\n"
     ]
    },
    {
     "name": "stdout",
     "output_type": "stream",
     "text": [
      "log posterior          -331.461385  for theta=[0.20073065 0.         0.         1.90074444 1.91083427]\n"
     ]
    },
    {
     "name": "stderr",
     "output_type": "stream",
     "text": [
      "INFO:utils:64\n"
     ]
    },
    {
     "name": "stdout",
     "output_type": "stream",
     "text": [
      "log posterior          -331.461385  for theta=[0.20073065 0.         0.         1.90074443 1.91083428]\n",
      "Iteration:  [0.20073065 0.         0.         1.90074443 1.91083427]\n"
     ]
    },
    {
     "name": "stderr",
     "output_type": "stream",
     "text": [
      "INFO:utils:63\n"
     ]
    },
    {
     "name": "stdout",
     "output_type": "stream",
     "text": [
      "log posterior          -331.380534  for theta=[0.23150212 0.         0.         2.07437706 2.08646852]\n"
     ]
    },
    {
     "name": "stderr",
     "output_type": "stream",
     "text": [
      "INFO:utils:63\n"
     ]
    },
    {
     "name": "stdout",
     "output_type": "stream",
     "text": [
      "log posterior          -331.380534  for theta=[0.23150213 0.         0.         2.07437706 2.08646852]\n"
     ]
    },
    {
     "name": "stderr",
     "output_type": "stream",
     "text": [
      "INFO:utils:63\n"
     ]
    },
    {
     "name": "stdout",
     "output_type": "stream",
     "text": [
      "log posterior          -331.380535  for theta=[2.31502124e-01 1.00000000e-08 0.00000000e+00 2.07437706e+00\n",
      " 2.08646852e+00]\n"
     ]
    },
    {
     "name": "stderr",
     "output_type": "stream",
     "text": [
      "INFO:utils:62\n"
     ]
    },
    {
     "name": "stdout",
     "output_type": "stream",
     "text": [
      "log posterior          -331.380534  for theta=[2.31502124e-01 0.00000000e+00 1.00000000e-08 2.07437706e+00\n",
      " 2.08646852e+00]\n"
     ]
    },
    {
     "name": "stderr",
     "output_type": "stream",
     "text": [
      "INFO:utils:61\n"
     ]
    },
    {
     "name": "stdout",
     "output_type": "stream",
     "text": [
      "log posterior          -331.380534  for theta=[0.23150212 0.         0.         2.07437707 2.08646852]\n"
     ]
    },
    {
     "name": "stderr",
     "output_type": "stream",
     "text": [
      "INFO:utils:60\n"
     ]
    },
    {
     "name": "stdout",
     "output_type": "stream",
     "text": [
      "log posterior          -331.380534  for theta=[0.23150212 0.         0.         2.07437706 2.08646853]\n",
      "Iteration:  [0.23150212 0.         0.         2.07437706 2.08646852]\n"
     ]
    },
    {
     "name": "stderr",
     "output_type": "stream",
     "text": [
      "INFO:utils:64\n"
     ]
    },
    {
     "name": "stdout",
     "output_type": "stream",
     "text": [
      "log posterior          -331.349862  for theta=[0.25730935 0.         0.         2.21203706 2.22584924]\n"
     ]
    },
    {
     "name": "stderr",
     "output_type": "stream",
     "text": [
      "INFO:utils:64\n"
     ]
    },
    {
     "name": "stdout",
     "output_type": "stream",
     "text": [
      "log posterior          -331.349862  for theta=[0.25730936 0.         0.         2.21203706 2.22584924]\n"
     ]
    },
    {
     "name": "stderr",
     "output_type": "stream",
     "text": [
      "INFO:utils:64\n"
     ]
    },
    {
     "name": "stdout",
     "output_type": "stream",
     "text": [
      "log posterior          -331.349862  for theta=[2.57309346e-01 1.00000000e-08 0.00000000e+00 2.21203706e+00\n",
      " 2.22584924e+00]\n"
     ]
    },
    {
     "name": "stderr",
     "output_type": "stream",
     "text": [
      "INFO:utils:63\n"
     ]
    },
    {
     "name": "stdout",
     "output_type": "stream",
     "text": [
      "log posterior          -331.349862  for theta=[2.57309346e-01 0.00000000e+00 1.00000000e-08 2.21203706e+00\n",
      " 2.22584924e+00]\n",
      "log posterior          -331.349862  for theta=[0.25730935 0.         0.         2.21203707 2.22584924]\n",
      "log posterior          -331.349862  for theta=[0.25730935 0.         0.         2.21203706 2.22584925]\n",
      "Iteration:  [0.25730935 0.         0.         2.21203706 2.22584924]\n"
     ]
    },
    {
     "name": "stderr",
     "output_type": "stream",
     "text": [
      "INFO:utils:62\n"
     ]
    },
    {
     "name": "stdout",
     "output_type": "stream",
     "text": [
      "log posterior          -331.338563  for theta=[0.27407616 0.         0.         2.2937362  2.30873829]\n"
     ]
    },
    {
     "name": "stderr",
     "output_type": "stream",
     "text": [
      "INFO:utils:62\n"
     ]
    },
    {
     "name": "stdout",
     "output_type": "stream",
     "text": [
      "log posterior          -331.338563  for theta=[0.27407617 0.         0.         2.2937362  2.30873829]\n"
     ]
    },
    {
     "name": "stderr",
     "output_type": "stream",
     "text": [
      "INFO:utils:63\n"
     ]
    },
    {
     "name": "stdout",
     "output_type": "stream",
     "text": [
      "log posterior          -331.338563  for theta=[2.74076163e-01 1.00000000e-08 0.00000000e+00 2.29373620e+00\n",
      " 2.30873829e+00]\n"
     ]
    },
    {
     "name": "stderr",
     "output_type": "stream",
     "text": [
      "INFO:utils:60\n"
     ]
    },
    {
     "name": "stdout",
     "output_type": "stream",
     "text": [
      "log posterior          -331.338563  for theta=[2.74076163e-01 0.00000000e+00 1.00000000e-08 2.29373620e+00\n",
      " 2.30873829e+00]\n"
     ]
    },
    {
     "name": "stderr",
     "output_type": "stream",
     "text": [
      "INFO:utils:63\n"
     ]
    },
    {
     "name": "stdout",
     "output_type": "stream",
     "text": [
      "log posterior          -331.338563  for theta=[0.27407616 0.         0.         2.29373621 2.30873829]\n"
     ]
    },
    {
     "name": "stderr",
     "output_type": "stream",
     "text": [
      "INFO:utils:63\n"
     ]
    },
    {
     "name": "stdout",
     "output_type": "stream",
     "text": [
      "log posterior          -331.338563  for theta=[0.27407616 0.         0.         2.2937362  2.3087383 ]\n",
      "Iteration:  [0.27407616 0.         0.         2.2937362  2.30873829]\n"
     ]
    },
    {
     "name": "stderr",
     "output_type": "stream",
     "text": [
      "INFO:utils:63\n"
     ]
    },
    {
     "name": "stdout",
     "output_type": "stream",
     "text": [
      "log posterior          -331.330103  for theta=[0.28898748 0.         0.         2.35753257 2.3738334 ]\n"
     ]
    },
    {
     "name": "stderr",
     "output_type": "stream",
     "text": [
      "INFO:utils:64\n"
     ]
    },
    {
     "name": "stdout",
     "output_type": "stream",
     "text": [
      "log posterior          -331.330103  for theta=[0.28898749 0.         0.         2.35753257 2.3738334 ]\n"
     ]
    },
    {
     "name": "stderr",
     "output_type": "stream",
     "text": [
      "INFO:utils:62\n"
     ]
    },
    {
     "name": "stdout",
     "output_type": "stream",
     "text": [
      "log posterior          -331.330103  for theta=[2.88987479e-01 1.00000000e-08 0.00000000e+00 2.35753257e+00\n",
      " 2.37383340e+00]\n"
     ]
    },
    {
     "name": "stderr",
     "output_type": "stream",
     "text": [
      "INFO:utils:60\n"
     ]
    },
    {
     "name": "stdout",
     "output_type": "stream",
     "text": [
      "log posterior          -331.330103  for theta=[2.88987479e-01 0.00000000e+00 1.00000000e-08 2.35753257e+00\n",
      " 2.37383340e+00]\n"
     ]
    },
    {
     "name": "stderr",
     "output_type": "stream",
     "text": [
      "INFO:utils:59\n"
     ]
    },
    {
     "name": "stdout",
     "output_type": "stream",
     "text": [
      "log posterior          -331.330103  for theta=[0.28898748 0.         0.         2.35753258 2.3738334 ]\n"
     ]
    },
    {
     "name": "stderr",
     "output_type": "stream",
     "text": [
      "INFO:utils:60\n"
     ]
    },
    {
     "name": "stdout",
     "output_type": "stream",
     "text": [
      "log posterior          -331.330103  for theta=[0.28898748 0.         0.         2.35753257 2.37383341]\n",
      "Iteration:  [0.28898748 0.         0.         2.35753257 2.3738334 ]\n"
     ]
    },
    {
     "name": "stderr",
     "output_type": "stream",
     "text": [
      "INFO:utils:58\n"
     ]
    },
    {
     "name": "stdout",
     "output_type": "stream",
     "text": [
      "log posterior          -331.324160  for theta=[0.30049641 0.         0.         2.39719868 2.41495116]\n"
     ]
    },
    {
     "name": "stderr",
     "output_type": "stream",
     "text": [
      "INFO:utils:58\n"
     ]
    },
    {
     "name": "stdout",
     "output_type": "stream",
     "text": [
      "log posterior          -331.324160  for theta=[0.30049642 0.         0.         2.39719868 2.41495116]\n"
     ]
    },
    {
     "name": "stderr",
     "output_type": "stream",
     "text": [
      "INFO:utils:59\n"
     ]
    },
    {
     "name": "stdout",
     "output_type": "stream",
     "text": [
      "log posterior          -331.324161  for theta=[3.00496414e-01 1.00000000e-08 0.00000000e+00 2.39719868e+00\n",
      " 2.41495116e+00]\n"
     ]
    },
    {
     "name": "stderr",
     "output_type": "stream",
     "text": [
      "INFO:utils:60\n"
     ]
    },
    {
     "name": "stdout",
     "output_type": "stream",
     "text": [
      "log posterior          -331.324161  for theta=[3.00496414e-01 0.00000000e+00 1.00000000e-08 2.39719868e+00\n",
      " 2.41495116e+00]\n"
     ]
    },
    {
     "name": "stderr",
     "output_type": "stream",
     "text": [
      "INFO:utils:60\n"
     ]
    },
    {
     "name": "stdout",
     "output_type": "stream",
     "text": [
      "log posterior          -331.324160  for theta=[0.30049641 0.         0.         2.39719869 2.41495116]\n"
     ]
    },
    {
     "name": "stderr",
     "output_type": "stream",
     "text": [
      "INFO:utils:60\n"
     ]
    },
    {
     "name": "stdout",
     "output_type": "stream",
     "text": [
      "log posterior          -331.324160  for theta=[0.30049641 0.         0.         2.39719868 2.41495117]\n",
      "Iteration:  [0.30049641 0.         0.         2.39719868 2.41495116]\n"
     ]
    },
    {
     "name": "stderr",
     "output_type": "stream",
     "text": [
      "INFO:utils:60\n"
     ]
    },
    {
     "name": "stdout",
     "output_type": "stream",
     "text": [
      "log posterior          -331.322273  for theta=[0.3047105  0.         0.         2.4042764  2.42293156]\n"
     ]
    },
    {
     "name": "stderr",
     "output_type": "stream",
     "text": [
      "INFO:utils:60\n"
     ]
    },
    {
     "name": "stdout",
     "output_type": "stream",
     "text": [
      "log posterior          -331.322273  for theta=[0.30471051 0.         0.         2.4042764  2.42293156]\n"
     ]
    },
    {
     "name": "stderr",
     "output_type": "stream",
     "text": [
      "INFO:utils:59\n"
     ]
    },
    {
     "name": "stdout",
     "output_type": "stream",
     "text": [
      "log posterior          -331.322273  for theta=[3.04710502e-01 1.00000000e-08 0.00000000e+00 2.40427640e+00\n",
      " 2.42293156e+00]\n"
     ]
    },
    {
     "name": "stderr",
     "output_type": "stream",
     "text": [
      "INFO:utils:62\n"
     ]
    },
    {
     "name": "stdout",
     "output_type": "stream",
     "text": [
      "log posterior          -331.322273  for theta=[3.04710502e-01 0.00000000e+00 1.00000000e-08 2.40427640e+00\n",
      " 2.42293156e+00]\n"
     ]
    },
    {
     "name": "stderr",
     "output_type": "stream",
     "text": [
      "INFO:utils:63\n"
     ]
    },
    {
     "name": "stdout",
     "output_type": "stream",
     "text": [
      "log posterior          -331.322273  for theta=[0.3047105  0.         0.         2.40427641 2.42293156]\n"
     ]
    },
    {
     "name": "stderr",
     "output_type": "stream",
     "text": [
      "INFO:utils:63\n"
     ]
    },
    {
     "name": "stdout",
     "output_type": "stream",
     "text": [
      "log posterior          -331.322273  for theta=[0.3047105  0.         0.         2.4042764  2.42293157]\n",
      "Iteration:  [0.3047105  0.         0.         2.4042764  2.42293156]\n"
     ]
    },
    {
     "name": "stderr",
     "output_type": "stream",
     "text": [
      "INFO:utils:57\n"
     ]
    },
    {
     "name": "stdout",
     "output_type": "stream",
     "text": [
      "log posterior          -331.322046  for theta=[0.30411753 0.         0.         2.39716713 2.4160423 ]\n"
     ]
    },
    {
     "name": "stderr",
     "output_type": "stream",
     "text": [
      "INFO:utils:59\n"
     ]
    },
    {
     "name": "stdout",
     "output_type": "stream",
     "text": [
      "log posterior          -331.322046  for theta=[0.30411754 0.         0.         2.39716713 2.4160423 ]\n"
     ]
    },
    {
     "name": "stderr",
     "output_type": "stream",
     "text": [
      "INFO:utils:59\n"
     ]
    },
    {
     "name": "stdout",
     "output_type": "stream",
     "text": [
      "log posterior          -331.322046  for theta=[3.04117532e-01 1.00000000e-08 0.00000000e+00 2.39716713e+00\n",
      " 2.41604230e+00]\n"
     ]
    },
    {
     "name": "stderr",
     "output_type": "stream",
     "text": [
      "INFO:utils:60\n"
     ]
    },
    {
     "name": "stdout",
     "output_type": "stream",
     "text": [
      "log posterior          -331.322046  for theta=[3.04117532e-01 0.00000000e+00 1.00000000e-08 2.39716713e+00\n",
      " 2.41604230e+00]\n"
     ]
    },
    {
     "name": "stderr",
     "output_type": "stream",
     "text": [
      "INFO:utils:59\n"
     ]
    },
    {
     "name": "stdout",
     "output_type": "stream",
     "text": [
      "log posterior          -331.322046  for theta=[0.30411753 0.         0.         2.39716714 2.4160423 ]\n"
     ]
    },
    {
     "name": "stderr",
     "output_type": "stream",
     "text": [
      "INFO:utils:60\n"
     ]
    },
    {
     "name": "stdout",
     "output_type": "stream",
     "text": [
      "log posterior          -331.322046  for theta=[0.30411753 0.         0.         2.39716713 2.41604231]\n",
      "Iteration:  [0.30411753 0.         0.         2.39716713 2.4160423 ]\n"
     ]
    },
    {
     "name": "stderr",
     "output_type": "stream",
     "text": [
      "INFO:utils:59\n"
     ]
    },
    {
     "name": "stdout",
     "output_type": "stream",
     "text": [
      "log posterior          -331.321983  for theta=[0.30271502 0.         0.         2.38943196 2.40834614]\n"
     ]
    },
    {
     "name": "stderr",
     "output_type": "stream",
     "text": [
      "INFO:utils:60\n"
     ]
    },
    {
     "name": "stdout",
     "output_type": "stream",
     "text": [
      "log posterior          -331.321983  for theta=[0.30271503 0.         0.         2.38943196 2.40834614]\n"
     ]
    },
    {
     "name": "stderr",
     "output_type": "stream",
     "text": [
      "INFO:utils:58\n"
     ]
    },
    {
     "name": "stdout",
     "output_type": "stream",
     "text": [
      "log posterior          -331.321984  for theta=[3.02715024e-01 1.00000000e-08 0.00000000e+00 2.38943196e+00\n",
      " 2.40834614e+00]\n"
     ]
    },
    {
     "name": "stderr",
     "output_type": "stream",
     "text": [
      "INFO:utils:60\n"
     ]
    },
    {
     "name": "stdout",
     "output_type": "stream",
     "text": [
      "log posterior          -331.321984  for theta=[3.02715024e-01 0.00000000e+00 1.00000000e-08 2.38943196e+00\n",
      " 2.40834614e+00]\n"
     ]
    },
    {
     "name": "stderr",
     "output_type": "stream",
     "text": [
      "INFO:utils:61\n"
     ]
    },
    {
     "name": "stdout",
     "output_type": "stream",
     "text": [
      "log posterior          -331.321983  for theta=[0.30271502 0.         0.         2.38943197 2.40834614]\n"
     ]
    },
    {
     "name": "stderr",
     "output_type": "stream",
     "text": [
      "INFO:utils:59\n"
     ]
    },
    {
     "name": "stdout",
     "output_type": "stream",
     "text": [
      "log posterior          -331.321983  for theta=[0.30271502 0.         0.         2.38943196 2.40834615]\n",
      "Iteration:  [0.30271502 0.         0.         2.38943196 2.40834614]\n"
     ]
    },
    {
     "name": "stderr",
     "output_type": "stream",
     "text": [
      "INFO:utils:59\n"
     ]
    },
    {
     "name": "stdout",
     "output_type": "stream",
     "text": [
      "log posterior          -331.321936  for theta=[0.30113614 0.         0.         2.38178524 2.4007617 ]\n"
     ]
    },
    {
     "name": "stderr",
     "output_type": "stream",
     "text": [
      "INFO:utils:59\n"
     ]
    },
    {
     "name": "stdout",
     "output_type": "stream",
     "text": [
      "log posterior          -331.321936  for theta=[0.30113615 0.         0.         2.38178524 2.4007617 ]\n"
     ]
    },
    {
     "name": "stderr",
     "output_type": "stream",
     "text": [
      "INFO:utils:59\n"
     ]
    },
    {
     "name": "stdout",
     "output_type": "stream",
     "text": [
      "log posterior          -331.321937  for theta=[3.01136138e-01 1.00000000e-08 0.00000000e+00 2.38178524e+00\n",
      " 2.40076170e+00]\n"
     ]
    },
    {
     "name": "stderr",
     "output_type": "stream",
     "text": [
      "INFO:utils:60\n"
     ]
    },
    {
     "name": "stdout",
     "output_type": "stream",
     "text": [
      "log posterior          -331.321937  for theta=[3.01136138e-01 0.00000000e+00 1.00000000e-08 2.38178524e+00\n",
      " 2.40076170e+00]\n"
     ]
    },
    {
     "name": "stderr",
     "output_type": "stream",
     "text": [
      "INFO:utils:57\n"
     ]
    },
    {
     "name": "stdout",
     "output_type": "stream",
     "text": [
      "log posterior          -331.321936  for theta=[0.30113614 0.         0.         2.38178525 2.4007617 ]\n"
     ]
    },
    {
     "name": "stderr",
     "output_type": "stream",
     "text": [
      "INFO:utils:57\n"
     ]
    },
    {
     "name": "stdout",
     "output_type": "stream",
     "text": [
      "log posterior          -331.321936  for theta=[0.30113614 0.         0.         2.38178524 2.40076171]\n",
      "Iteration:  [0.30113614 0.         0.         2.38178524 2.4007617 ]\n"
     ]
    },
    {
     "name": "stderr",
     "output_type": "stream",
     "text": [
      "INFO:utils:60\n"
     ]
    },
    {
     "name": "stdout",
     "output_type": "stream",
     "text": [
      "log posterior          -331.321862  for theta=[0.29990778 0.         0.         2.37600194 2.39526306]\n"
     ]
    },
    {
     "name": "stderr",
     "output_type": "stream",
     "text": [
      "INFO:utils:64\n"
     ]
    },
    {
     "name": "stdout",
     "output_type": "stream",
     "text": [
      "log posterior          -331.321862  for theta=[0.29990779 0.         0.         2.37600194 2.39526306]\n"
     ]
    },
    {
     "name": "stderr",
     "output_type": "stream",
     "text": [
      "INFO:utils:64\n"
     ]
    },
    {
     "name": "stdout",
     "output_type": "stream",
     "text": [
      "log posterior          -331.321863  for theta=[2.99907784e-01 1.00000000e-08 0.00000000e+00 2.37600194e+00\n",
      " 2.39526306e+00]\n",
      "log posterior          -331.321862  for theta=[2.99907784e-01 0.00000000e+00 1.00000000e-08 2.37600194e+00\n",
      " 2.39526306e+00]\n"
     ]
    },
    {
     "name": "stderr",
     "output_type": "stream",
     "text": [
      "INFO:utils:64\n"
     ]
    },
    {
     "name": "stdout",
     "output_type": "stream",
     "text": [
      "log posterior          -331.321862  for theta=[0.29990778 0.         0.         2.37600195 2.39526306]\n"
     ]
    },
    {
     "name": "stderr",
     "output_type": "stream",
     "text": [
      "INFO:utils:62\n"
     ]
    },
    {
     "name": "stdout",
     "output_type": "stream",
     "text": [
      "log posterior          -331.321862  for theta=[0.29990778 0.         0.         2.37600194 2.39526307]\n",
      "Iteration:  [0.29990778 0.         0.         2.37600194 2.39526306]\n"
     ]
    },
    {
     "name": "stderr",
     "output_type": "stream",
     "text": [
      "INFO:utils:61\n"
     ]
    },
    {
     "name": "stdout",
     "output_type": "stream",
     "text": [
      "log posterior          -331.321511  for theta=[0.29666273 0.         0.         2.36019099 2.38133116]\n"
     ]
    },
    {
     "name": "stderr",
     "output_type": "stream",
     "text": [
      "INFO:utils:60\n"
     ]
    },
    {
     "name": "stdout",
     "output_type": "stream",
     "text": [
      "log posterior          -331.321511  for theta=[0.29666274 0.         0.         2.36019099 2.38133116]\n"
     ]
    },
    {
     "name": "stderr",
     "output_type": "stream",
     "text": [
      "INFO:utils:60\n"
     ]
    },
    {
     "name": "stdout",
     "output_type": "stream",
     "text": [
      "log posterior          -331.321512  for theta=[2.96662731e-01 1.00000000e-08 0.00000000e+00 2.36019099e+00\n",
      " 2.38133116e+00]\n"
     ]
    },
    {
     "name": "stderr",
     "output_type": "stream",
     "text": [
      "INFO:utils:61\n"
     ]
    },
    {
     "name": "stdout",
     "output_type": "stream",
     "text": [
      "log posterior          -331.321511  for theta=[2.96662731e-01 0.00000000e+00 1.00000000e-08 2.36019099e+00\n",
      " 2.38133116e+00]\n"
     ]
    },
    {
     "name": "stderr",
     "output_type": "stream",
     "text": [
      "INFO:utils:61\n"
     ]
    },
    {
     "name": "stdout",
     "output_type": "stream",
     "text": [
      "log posterior          -331.321511  for theta=[0.29666273 0.         0.         2.360191   2.38133116]\n"
     ]
    },
    {
     "name": "stderr",
     "output_type": "stream",
     "text": [
      "INFO:utils:60\n"
     ]
    },
    {
     "name": "stdout",
     "output_type": "stream",
     "text": [
      "log posterior          -331.321511  for theta=[0.29666273 0.         0.         2.36019099 2.38133117]\n",
      "Iteration:  [0.29666273 0.         0.         2.36019099 2.38133116]\n"
     ]
    },
    {
     "name": "stderr",
     "output_type": "stream",
     "text": [
      "INFO:utils:60\n"
     ]
    },
    {
     "name": "stdout",
     "output_type": "stream",
     "text": [
      "log posterior          -331.320644  for theta=[0.29222477 0.         0.         2.33673874 2.36347254]\n"
     ]
    },
    {
     "name": "stderr",
     "output_type": "stream",
     "text": [
      "INFO:utils:60\n"
     ]
    },
    {
     "name": "stdout",
     "output_type": "stream",
     "text": [
      "log posterior          -331.320644  for theta=[0.29222478 0.         0.         2.33673874 2.36347254]\n"
     ]
    },
    {
     "name": "stderr",
     "output_type": "stream",
     "text": [
      "INFO:utils:60\n"
     ]
    },
    {
     "name": "stdout",
     "output_type": "stream",
     "text": [
      "log posterior          -331.320645  for theta=[2.92224773e-01 1.00000000e-08 0.00000000e+00 2.33673874e+00\n",
      " 2.36347254e+00]\n"
     ]
    },
    {
     "name": "stderr",
     "output_type": "stream",
     "text": [
      "INFO:utils:61\n"
     ]
    },
    {
     "name": "stdout",
     "output_type": "stream",
     "text": [
      "log posterior          -331.320645  for theta=[2.92224773e-01 0.00000000e+00 1.00000000e-08 2.33673874e+00\n",
      " 2.36347254e+00]\n"
     ]
    },
    {
     "name": "stderr",
     "output_type": "stream",
     "text": [
      "INFO:utils:61\n"
     ]
    },
    {
     "name": "stdout",
     "output_type": "stream",
     "text": [
      "log posterior          -331.320644  for theta=[0.29222477 0.         0.         2.33673875 2.36347254]\n"
     ]
    },
    {
     "name": "stderr",
     "output_type": "stream",
     "text": [
      "INFO:utils:63\n"
     ]
    },
    {
     "name": "stdout",
     "output_type": "stream",
     "text": [
      "log posterior          -331.320644  for theta=[0.29222477 0.         0.         2.33673874 2.36347255]\n",
      "Iteration:  [0.29222477 0.         0.         2.33673874 2.36347254]\n"
     ]
    },
    {
     "name": "stderr",
     "output_type": "stream",
     "text": [
      "INFO:utils:63\n"
     ]
    },
    {
     "name": "stdout",
     "output_type": "stream",
     "text": [
      "log posterior          -331.318201  for theta=[0.28567924 0.         0.         2.2966212  2.34065047]\n"
     ]
    },
    {
     "name": "stderr",
     "output_type": "stream",
     "text": [
      "INFO:utils:62\n"
     ]
    },
    {
     "name": "stdout",
     "output_type": "stream",
     "text": [
      "log posterior          -331.318201  for theta=[0.28567925 0.         0.         2.2966212  2.34065047]\n"
     ]
    },
    {
     "name": "stderr",
     "output_type": "stream",
     "text": [
      "INFO:utils:57\n"
     ]
    },
    {
     "name": "stdout",
     "output_type": "stream",
     "text": [
      "log posterior          -331.318202  for theta=[2.85679245e-01 1.00000000e-08 0.00000000e+00 2.29662120e+00\n",
      " 2.34065047e+00]\n"
     ]
    },
    {
     "name": "stderr",
     "output_type": "stream",
     "text": [
      "INFO:utils:59\n"
     ]
    },
    {
     "name": "stdout",
     "output_type": "stream",
     "text": [
      "log posterior          -331.318201  for theta=[2.85679245e-01 0.00000000e+00 1.00000000e-08 2.29662120e+00\n",
      " 2.34065047e+00]\n"
     ]
    },
    {
     "name": "stderr",
     "output_type": "stream",
     "text": [
      "INFO:utils:56\n"
     ]
    },
    {
     "name": "stdout",
     "output_type": "stream",
     "text": [
      "log posterior          -331.318201  for theta=[0.28567924 0.         0.         2.29662121 2.34065047]\n"
     ]
    },
    {
     "name": "stderr",
     "output_type": "stream",
     "text": [
      "INFO:utils:58\n"
     ]
    },
    {
     "name": "stdout",
     "output_type": "stream",
     "text": [
      "log posterior          -331.318201  for theta=[0.28567924 0.         0.         2.2966212  2.34065048]\n",
      "Iteration:  [0.28567924 0.         0.         2.2966212  2.34065047]\n"
     ]
    },
    {
     "name": "stderr",
     "output_type": "stream",
     "text": [
      "INFO:utils:56\n"
     ]
    },
    {
     "name": "stdout",
     "output_type": "stream",
     "text": [
      "log posterior          -331.311504  for theta=[0.27770471 0.         0.         2.23074945 2.32394004]\n"
     ]
    },
    {
     "name": "stderr",
     "output_type": "stream",
     "text": [
      "INFO:utils:56\n"
     ]
    },
    {
     "name": "stdout",
     "output_type": "stream",
     "text": [
      "log posterior          -331.311504  for theta=[0.27770472 0.         0.         2.23074945 2.32394004]\n"
     ]
    },
    {
     "name": "stderr",
     "output_type": "stream",
     "text": [
      "INFO:utils:62\n"
     ]
    },
    {
     "name": "stdout",
     "output_type": "stream",
     "text": [
      "log posterior          -331.311505  for theta=[2.77704708e-01 1.00000000e-08 0.00000000e+00 2.23074945e+00\n",
      " 2.32394004e+00]\n"
     ]
    },
    {
     "name": "stderr",
     "output_type": "stream",
     "text": [
      "INFO:utils:62\n"
     ]
    },
    {
     "name": "stdout",
     "output_type": "stream",
     "text": [
      "log posterior          -331.311505  for theta=[2.77704708e-01 0.00000000e+00 1.00000000e-08 2.23074945e+00\n",
      " 2.32394004e+00]\n"
     ]
    },
    {
     "name": "stderr",
     "output_type": "stream",
     "text": [
      "INFO:utils:62\n"
     ]
    },
    {
     "name": "stdout",
     "output_type": "stream",
     "text": [
      "log posterior          -331.311504  for theta=[0.27770471 0.         0.         2.23074946 2.32394004]\n"
     ]
    },
    {
     "name": "stderr",
     "output_type": "stream",
     "text": [
      "INFO:utils:62\n"
     ]
    },
    {
     "name": "stdout",
     "output_type": "stream",
     "text": [
      "log posterior          -331.311504  for theta=[0.27770471 0.         0.         2.23074945 2.32394005]\n",
      "Iteration:  [0.27770471 0.         0.         2.23074945 2.32394004]\n"
     ]
    },
    {
     "name": "stderr",
     "output_type": "stream",
     "text": [
      "INFO:utils:62\n"
     ]
    },
    {
     "name": "stdout",
     "output_type": "stream",
     "text": [
      "log posterior          -331.292129  for theta=[0.27090884 0.         0.         2.11259609 2.35117183]\n"
     ]
    },
    {
     "name": "stderr",
     "output_type": "stream",
     "text": [
      "INFO:utils:63\n"
     ]
    },
    {
     "name": "stdout",
     "output_type": "stream",
     "text": [
      "log posterior          -331.292129  for theta=[0.27090885 0.         0.         2.11259609 2.35117183]\n"
     ]
    },
    {
     "name": "stderr",
     "output_type": "stream",
     "text": [
      "INFO:utils:62\n"
     ]
    },
    {
     "name": "stdout",
     "output_type": "stream",
     "text": [
      "log posterior          -331.292130  for theta=[2.70908837e-01 1.00000000e-08 0.00000000e+00 2.11259609e+00\n",
      " 2.35117183e+00]\n"
     ]
    },
    {
     "name": "stderr",
     "output_type": "stream",
     "text": [
      "INFO:utils:64\n"
     ]
    },
    {
     "name": "stdout",
     "output_type": "stream",
     "text": [
      "log posterior          -331.292129  for theta=[2.70908837e-01 0.00000000e+00 1.00000000e-08 2.11259609e+00\n",
      " 2.35117183e+00]\n"
     ]
    },
    {
     "name": "stderr",
     "output_type": "stream",
     "text": [
      "INFO:utils:62\n"
     ]
    },
    {
     "name": "stdout",
     "output_type": "stream",
     "text": [
      "log posterior          -331.292129  for theta=[0.27090884 0.         0.         2.1125961  2.35117183]\n"
     ]
    },
    {
     "name": "stderr",
     "output_type": "stream",
     "text": [
      "INFO:utils:63\n"
     ]
    },
    {
     "name": "stdout",
     "output_type": "stream",
     "text": [
      "log posterior          -331.292129  for theta=[0.27090884 0.         0.         2.11259609 2.35117184]\n",
      "Iteration:  [0.27090884 0.         0.         2.11259609 2.35117183]\n"
     ]
    },
    {
     "name": "stderr",
     "output_type": "stream",
     "text": [
      "INFO:utils:63\n"
     ]
    },
    {
     "name": "stdout",
     "output_type": "stream",
     "text": [
      "log posterior          -331.243120  for theta=[0.27839    0.         0.         1.91525717 2.54678962]\n"
     ]
    },
    {
     "name": "stderr",
     "output_type": "stream",
     "text": [
      "INFO:utils:62\n"
     ]
    },
    {
     "name": "stdout",
     "output_type": "stream",
     "text": [
      "log posterior          -331.243120  for theta=[0.27839001 0.         0.         1.91525717 2.54678962]\n"
     ]
    },
    {
     "name": "stderr",
     "output_type": "stream",
     "text": [
      "INFO:utils:63\n"
     ]
    },
    {
     "name": "stdout",
     "output_type": "stream",
     "text": [
      "log posterior          -331.243121  for theta=[2.78390003e-01 1.00000000e-08 0.00000000e+00 1.91525717e+00\n",
      " 2.54678962e+00]\n"
     ]
    },
    {
     "name": "stderr",
     "output_type": "stream",
     "text": [
      "INFO:utils:62\n"
     ]
    },
    {
     "name": "stdout",
     "output_type": "stream",
     "text": [
      "log posterior          -331.243121  for theta=[2.78390003e-01 0.00000000e+00 1.00000000e-08 1.91525717e+00\n",
      " 2.54678962e+00]\n"
     ]
    },
    {
     "name": "stderr",
     "output_type": "stream",
     "text": [
      "INFO:utils:61\n"
     ]
    },
    {
     "name": "stdout",
     "output_type": "stream",
     "text": [
      "log posterior          -331.243120  for theta=[0.27839    0.         0.         1.91525718 2.54678962]\n"
     ]
    },
    {
     "name": "stderr",
     "output_type": "stream",
     "text": [
      "INFO:utils:63\n"
     ]
    },
    {
     "name": "stdout",
     "output_type": "stream",
     "text": [
      "log posterior          -331.243120  for theta=[0.27839    0.         0.         1.91525717 2.54678963]\n",
      "Iteration:  [0.27839    0.         0.         1.91525717 2.54678962]\n"
     ]
    },
    {
     "name": "stderr",
     "output_type": "stream",
     "text": [
      "INFO:utils:63\n"
     ]
    },
    {
     "name": "stdout",
     "output_type": "stream",
     "text": [
      "log posterior          -331.164890  for theta=[0.32415436 0.         0.         1.74973152 3.05103021]\n"
     ]
    },
    {
     "name": "stderr",
     "output_type": "stream",
     "text": [
      "INFO:utils:60\n"
     ]
    },
    {
     "name": "stdout",
     "output_type": "stream",
     "text": [
      "log posterior          -331.164890  for theta=[0.32415437 0.         0.         1.74973152 3.05103021]\n"
     ]
    },
    {
     "name": "stderr",
     "output_type": "stream",
     "text": [
      "INFO:utils:63\n"
     ]
    },
    {
     "name": "stdout",
     "output_type": "stream",
     "text": [
      "log posterior          -331.164891  for theta=[3.24154358e-01 1.00000000e-08 0.00000000e+00 1.74973152e+00\n",
      " 3.05103021e+00]\n"
     ]
    },
    {
     "name": "stderr",
     "output_type": "stream",
     "text": [
      "INFO:utils:62\n"
     ]
    },
    {
     "name": "stdout",
     "output_type": "stream",
     "text": [
      "log posterior          -331.164891  for theta=[3.24154358e-01 0.00000000e+00 1.00000000e-08 1.74973152e+00\n",
      " 3.05103021e+00]\n"
     ]
    },
    {
     "name": "stderr",
     "output_type": "stream",
     "text": [
      "INFO:utils:62\n"
     ]
    },
    {
     "name": "stdout",
     "output_type": "stream",
     "text": [
      "log posterior          -331.164890  for theta=[0.32415436 0.         0.         1.74973153 3.05103021]\n"
     ]
    },
    {
     "name": "stderr",
     "output_type": "stream",
     "text": [
      "INFO:utils:60\n"
     ]
    },
    {
     "name": "stdout",
     "output_type": "stream",
     "text": [
      "log posterior          -331.164890  for theta=[0.32415436 0.         0.         1.74973152 3.05103022]\n",
      "Iteration:  [0.32415436 0.         0.         1.74973152 3.05103021]\n"
     ]
    },
    {
     "name": "stderr",
     "output_type": "stream",
     "text": [
      "INFO:utils:58\n"
     ]
    },
    {
     "name": "stdout",
     "output_type": "stream",
     "text": [
      "log posterior          -331.020243  for theta=[0.4274831  0.         0.         1.78817315 3.91969366]\n"
     ]
    },
    {
     "name": "stderr",
     "output_type": "stream",
     "text": [
      "INFO:utils:62\n"
     ]
    },
    {
     "name": "stdout",
     "output_type": "stream",
     "text": [
      "log posterior          -331.020243  for theta=[0.42748311 0.         0.         1.78817315 3.91969366]\n"
     ]
    },
    {
     "name": "stderr",
     "output_type": "stream",
     "text": [
      "INFO:utils:62\n"
     ]
    },
    {
     "name": "stdout",
     "output_type": "stream",
     "text": [
      "log posterior          -331.020244  for theta=[4.27483102e-01 1.00000000e-08 0.00000000e+00 1.78817315e+00\n",
      " 3.91969366e+00]\n"
     ]
    },
    {
     "name": "stderr",
     "output_type": "stream",
     "text": [
      "INFO:utils:63\n"
     ]
    },
    {
     "name": "stdout",
     "output_type": "stream",
     "text": [
      "log posterior          -331.020244  for theta=[4.27483102e-01 0.00000000e+00 1.00000000e-08 1.78817315e+00\n",
      " 3.91969366e+00]\n"
     ]
    },
    {
     "name": "stderr",
     "output_type": "stream",
     "text": [
      "INFO:utils:63\n"
     ]
    },
    {
     "name": "stdout",
     "output_type": "stream",
     "text": [
      "log posterior          -331.020243  for theta=[0.4274831  0.         0.         1.78817316 3.91969366]\n"
     ]
    },
    {
     "name": "stderr",
     "output_type": "stream",
     "text": [
      "INFO:utils:62\n"
     ]
    },
    {
     "name": "stdout",
     "output_type": "stream",
     "text": [
      "log posterior          -331.020243  for theta=[0.4274831  0.         0.         1.78817315 3.91969367]\n",
      "Iteration:  [0.4274831  0.         0.         1.78817315 3.91969366]\n"
     ]
    },
    {
     "name": "stderr",
     "output_type": "stream",
     "text": [
      "INFO:utils:62\n"
     ]
    },
    {
     "name": "stdout",
     "output_type": "stream",
     "text": [
      "log posterior          -330.728024  for theta=[0.74447333 0.         0.         2.15907877 6.38205238]\n"
     ]
    },
    {
     "name": "stderr",
     "output_type": "stream",
     "text": [
      "INFO:utils:62\n"
     ]
    },
    {
     "name": "stdout",
     "output_type": "stream",
     "text": [
      "log posterior          -330.728024  for theta=[0.74447334 0.         0.         2.15907877 6.38205238]\n"
     ]
    },
    {
     "name": "stderr",
     "output_type": "stream",
     "text": [
      "INFO:utils:63\n"
     ]
    },
    {
     "name": "stdout",
     "output_type": "stream",
     "text": [
      "log posterior          -330.728025  for theta=[7.44473325e-01 1.00000000e-08 0.00000000e+00 2.15907877e+00\n",
      " 6.38205238e+00]\n"
     ]
    },
    {
     "name": "stderr",
     "output_type": "stream",
     "text": [
      "INFO:utils:61\n"
     ]
    },
    {
     "name": "stdout",
     "output_type": "stream",
     "text": [
      "log posterior          -330.728024  for theta=[7.44473325e-01 0.00000000e+00 1.00000000e-08 2.15907877e+00\n",
      " 6.38205238e+00]\n"
     ]
    },
    {
     "name": "stderr",
     "output_type": "stream",
     "text": [
      "INFO:utils:62\n"
     ]
    },
    {
     "name": "stdout",
     "output_type": "stream",
     "text": [
      "log posterior          -330.728024  for theta=[0.74447333 0.         0.         2.15907878 6.38205238]\n"
     ]
    },
    {
     "name": "stderr",
     "output_type": "stream",
     "text": [
      "INFO:utils:63\n"
     ]
    },
    {
     "name": "stdout",
     "output_type": "stream",
     "text": [
      "log posterior          -330.728024  for theta=[0.74447333 0.         0.         2.15907877 6.38205239]\n",
      "Iteration:  [0.74447333 0.         0.         2.15907877 6.38205238]\n"
     ]
    },
    {
     "name": "stderr",
     "output_type": "stream",
     "text": [
      "INFO:utils:62\n"
     ]
    },
    {
     "name": "stdout",
     "output_type": "stream",
     "text": [
      "log posterior          -330.681418  for theta=[0.9016832  0.         0.         2.41105762 7.54441999]\n"
     ]
    },
    {
     "name": "stderr",
     "output_type": "stream",
     "text": [
      "INFO:utils:61\n"
     ]
    },
    {
     "name": "stdout",
     "output_type": "stream",
     "text": [
      "log posterior          -330.681418  for theta=[0.90168321 0.         0.         2.41105762 7.54441999]\n"
     ]
    },
    {
     "name": "stderr",
     "output_type": "stream",
     "text": [
      "INFO:utils:62\n"
     ]
    },
    {
     "name": "stdout",
     "output_type": "stream",
     "text": [
      "log posterior          -330.681418  for theta=[9.01683196e-01 1.00000000e-08 0.00000000e+00 2.41105762e+00\n",
      " 7.54441999e+00]\n"
     ]
    },
    {
     "name": "stderr",
     "output_type": "stream",
     "text": [
      "INFO:utils:63\n"
     ]
    },
    {
     "name": "stdout",
     "output_type": "stream",
     "text": [
      "log posterior          -330.681418  for theta=[9.01683196e-01 0.00000000e+00 1.00000000e-08 2.41105762e+00\n",
      " 7.54441999e+00]\n"
     ]
    },
    {
     "name": "stderr",
     "output_type": "stream",
     "text": [
      "INFO:utils:63\n"
     ]
    },
    {
     "name": "stdout",
     "output_type": "stream",
     "text": [
      "log posterior          -330.681418  for theta=[0.9016832  0.         0.         2.41105763 7.54441999]\n"
     ]
    },
    {
     "name": "stderr",
     "output_type": "stream",
     "text": [
      "INFO:utils:62\n"
     ]
    },
    {
     "name": "stdout",
     "output_type": "stream",
     "text": [
      "log posterior          -330.681418  for theta=[0.9016832  0.         0.         2.41105762 7.54442   ]\n",
      "Iteration:  [0.9016832  0.         0.         2.41105762 7.54441999]\n"
     ]
    },
    {
     "name": "stderr",
     "output_type": "stream",
     "text": [
      "INFO:utils:60\n"
     ]
    },
    {
     "name": "stdout",
     "output_type": "stream",
     "text": [
      "log posterior          -330.671458  for theta=[0.91963303 0.         0.         2.5227996  7.60666553]\n"
     ]
    },
    {
     "name": "stderr",
     "output_type": "stream",
     "text": [
      "INFO:utils:61\n"
     ]
    },
    {
     "name": "stdout",
     "output_type": "stream",
     "text": [
      "log posterior          -330.671458  for theta=[0.91963304 0.         0.         2.5227996  7.60666553]\n"
     ]
    },
    {
     "name": "stderr",
     "output_type": "stream",
     "text": [
      "INFO:utils:59\n"
     ]
    },
    {
     "name": "stdout",
     "output_type": "stream",
     "text": [
      "log posterior          -330.671459  for theta=[9.19633029e-01 1.00000000e-08 0.00000000e+00 2.52279960e+00\n",
      " 7.60666553e+00]\n"
     ]
    },
    {
     "name": "stderr",
     "output_type": "stream",
     "text": [
      "INFO:utils:62\n"
     ]
    },
    {
     "name": "stdout",
     "output_type": "stream",
     "text": [
      "log posterior          -330.671458  for theta=[9.19633029e-01 0.00000000e+00 1.00000000e-08 2.52279960e+00\n",
      " 7.60666553e+00]\n"
     ]
    },
    {
     "name": "stderr",
     "output_type": "stream",
     "text": [
      "INFO:utils:62\n"
     ]
    },
    {
     "name": "stdout",
     "output_type": "stream",
     "text": [
      "log posterior          -330.671458  for theta=[0.91963303 0.         0.         2.52279961 7.60666553]\n"
     ]
    },
    {
     "name": "stderr",
     "output_type": "stream",
     "text": [
      "INFO:utils:58\n"
     ]
    },
    {
     "name": "stdout",
     "output_type": "stream",
     "text": [
      "log posterior          -330.671458  for theta=[0.91963303 0.         0.         2.5227996  7.60666554]\n",
      "Iteration:  [0.91963303 0.         0.         2.5227996  7.60666553]\n"
     ]
    },
    {
     "name": "stderr",
     "output_type": "stream",
     "text": [
      "INFO:utils:62\n"
     ]
    },
    {
     "name": "stdout",
     "output_type": "stream",
     "text": [
      "log posterior          -330.663438  for theta=[0.94351911 0.         0.         2.63828503 7.70505371]\n"
     ]
    },
    {
     "name": "stderr",
     "output_type": "stream",
     "text": [
      "INFO:utils:62\n"
     ]
    },
    {
     "name": "stdout",
     "output_type": "stream",
     "text": [
      "log posterior          -330.663438  for theta=[0.94351912 0.         0.         2.63828503 7.70505371]\n"
     ]
    },
    {
     "name": "stderr",
     "output_type": "stream",
     "text": [
      "INFO:utils:62\n"
     ]
    },
    {
     "name": "stdout",
     "output_type": "stream",
     "text": [
      "log posterior          -330.663439  for theta=[9.43519113e-01 1.00000000e-08 0.00000000e+00 2.63828503e+00\n",
      " 7.70505371e+00]\n"
     ]
    },
    {
     "name": "stderr",
     "output_type": "stream",
     "text": [
      "INFO:utils:59\n"
     ]
    },
    {
     "name": "stdout",
     "output_type": "stream",
     "text": [
      "log posterior          -330.663438  for theta=[9.43519113e-01 0.00000000e+00 1.00000000e-08 2.63828503e+00\n",
      " 7.70505371e+00]\n"
     ]
    },
    {
     "name": "stderr",
     "output_type": "stream",
     "text": [
      "INFO:utils:62\n"
     ]
    },
    {
     "name": "stdout",
     "output_type": "stream",
     "text": [
      "log posterior          -330.663438  for theta=[0.94351911 0.         0.         2.63828504 7.70505371]\n"
     ]
    },
    {
     "name": "stderr",
     "output_type": "stream",
     "text": [
      "INFO:utils:64\n"
     ]
    },
    {
     "name": "stdout",
     "output_type": "stream",
     "text": [
      "log posterior          -330.663438  for theta=[0.94351911 0.         0.         2.63828503 7.70505372]\n",
      "Iteration:  [0.94351911 0.         0.         2.63828503 7.70505371]\n"
     ]
    },
    {
     "name": "stderr",
     "output_type": "stream",
     "text": [
      "INFO:utils:63\n"
     ]
    },
    {
     "name": "stdout",
     "output_type": "stream",
     "text": [
      "log posterior          -330.650943  for theta=[0.97814603 0.         0.         2.80123802 7.83227314]\n"
     ]
    },
    {
     "name": "stderr",
     "output_type": "stream",
     "text": [
      "INFO:utils:60\n"
     ]
    },
    {
     "name": "stdout",
     "output_type": "stream",
     "text": [
      "log posterior          -330.650943  for theta=[0.97814604 0.         0.         2.80123802 7.83227314]\n"
     ]
    },
    {
     "name": "stderr",
     "output_type": "stream",
     "text": [
      "INFO:utils:62\n"
     ]
    },
    {
     "name": "stdout",
     "output_type": "stream",
     "text": [
      "log posterior          -330.650944  for theta=[9.78146034e-01 1.00000000e-08 0.00000000e+00 2.80123802e+00\n",
      " 7.83227314e+00]\n"
     ]
    },
    {
     "name": "stderr",
     "output_type": "stream",
     "text": [
      "INFO:utils:61\n"
     ]
    },
    {
     "name": "stdout",
     "output_type": "stream",
     "text": [
      "log posterior          -330.650943  for theta=[9.78146034e-01 0.00000000e+00 1.00000000e-08 2.80123802e+00\n",
      " 7.83227314e+00]\n"
     ]
    },
    {
     "name": "stderr",
     "output_type": "stream",
     "text": [
      "INFO:utils:59\n"
     ]
    },
    {
     "name": "stdout",
     "output_type": "stream",
     "text": [
      "log posterior          -330.650943  for theta=[0.97814603 0.         0.         2.80123803 7.83227314]\n"
     ]
    },
    {
     "name": "stderr",
     "output_type": "stream",
     "text": [
      "INFO:utils:58\n"
     ]
    },
    {
     "name": "stdout",
     "output_type": "stream",
     "text": [
      "log posterior          -330.650943  for theta=[0.97814603 0.         0.         2.80123802 7.83227315]\n",
      "Iteration:  [0.97814603 0.         0.         2.80123802 7.83227314]\n"
     ]
    },
    {
     "name": "stderr",
     "output_type": "stream",
     "text": [
      "INFO:utils:59\n"
     ]
    },
    {
     "name": "stdout",
     "output_type": "stream",
     "text": [
      "log posterior          -330.621513  for theta=[1.0495499  0.         0.         3.13769868 8.05736303]\n"
     ]
    },
    {
     "name": "stderr",
     "output_type": "stream",
     "text": [
      "INFO:utils:59\n"
     ]
    },
    {
     "name": "stdout",
     "output_type": "stream",
     "text": [
      "log posterior          -330.621513  for theta=[1.04954991 0.         0.         3.13769868 8.05736303]\n"
     ]
    },
    {
     "name": "stderr",
     "output_type": "stream",
     "text": [
      "INFO:utils:60\n"
     ]
    },
    {
     "name": "stdout",
     "output_type": "stream",
     "text": [
      "log posterior          -330.621514  for theta=[1.04954990e+00 1.00000000e-08 0.00000000e+00 3.13769868e+00\n",
      " 8.05736303e+00]\n"
     ]
    },
    {
     "name": "stderr",
     "output_type": "stream",
     "text": [
      "INFO:utils:59\n"
     ]
    },
    {
     "name": "stdout",
     "output_type": "stream",
     "text": [
      "log posterior          -330.621513  for theta=[1.04954990e+00 0.00000000e+00 1.00000000e-08 3.13769868e+00\n",
      " 8.05736303e+00]\n"
     ]
    },
    {
     "name": "stderr",
     "output_type": "stream",
     "text": [
      "INFO:utils:58\n"
     ]
    },
    {
     "name": "stdout",
     "output_type": "stream",
     "text": [
      "log posterior          -330.621513  for theta=[1.0495499  0.         0.         3.13769869 8.05736303]\n"
     ]
    },
    {
     "name": "stderr",
     "output_type": "stream",
     "text": [
      "INFO:utils:59\n"
     ]
    },
    {
     "name": "stdout",
     "output_type": "stream",
     "text": [
      "log posterior          -330.621513  for theta=[1.0495499  0.         0.         3.13769868 8.05736304]\n",
      "Iteration:  [1.0495499  0.         0.         3.13769868 8.05736303]\n"
     ]
    },
    {
     "name": "stderr",
     "output_type": "stream",
     "text": [
      "INFO:utils:58\n"
     ]
    },
    {
     "name": "stdout",
     "output_type": "stream",
     "text": [
      "log posterior          -330.530516  for theta=[1.23818506 0.         0.         4.06075134 8.54702923]\n"
     ]
    },
    {
     "name": "stderr",
     "output_type": "stream",
     "text": [
      "INFO:utils:58\n"
     ]
    },
    {
     "name": "stdout",
     "output_type": "stream",
     "text": [
      "log posterior          -330.530516  for theta=[1.23818507 0.         0.         4.06075134 8.54702923]\n"
     ]
    },
    {
     "name": "stderr",
     "output_type": "stream",
     "text": [
      "INFO:utils:60\n"
     ]
    },
    {
     "name": "stdout",
     "output_type": "stream",
     "text": [
      "log posterior          -330.530516  for theta=[1.23818506e+00 1.00000000e-08 0.00000000e+00 4.06075134e+00\n",
      " 8.54702923e+00]\n"
     ]
    },
    {
     "name": "stderr",
     "output_type": "stream",
     "text": [
      "INFO:utils:60\n"
     ]
    },
    {
     "name": "stdout",
     "output_type": "stream",
     "text": [
      "log posterior          -330.530516  for theta=[1.23818506e+00 0.00000000e+00 1.00000000e-08 4.06075134e+00\n",
      " 8.54702923e+00]\n"
     ]
    },
    {
     "name": "stderr",
     "output_type": "stream",
     "text": [
      "INFO:utils:59\n"
     ]
    },
    {
     "name": "stdout",
     "output_type": "stream",
     "text": [
      "log posterior          -330.530516  for theta=[1.23818506 0.         0.         4.06075135 8.54702923]\n"
     ]
    },
    {
     "name": "stderr",
     "output_type": "stream",
     "text": [
      "INFO:utils:57\n"
     ]
    },
    {
     "name": "stdout",
     "output_type": "stream",
     "text": [
      "log posterior          -330.530516  for theta=[1.23818506 0.         0.         4.06075134 8.54702924]\n"
     ]
    },
    {
     "name": "stderr",
     "output_type": "stream",
     "text": [
      "INFO:utils:59\n"
     ]
    },
    {
     "name": "stdout",
     "output_type": "stream",
     "text": [
      "log posterior          -330.231154  for theta=[ 1.99272572  0.          0.          7.75296195 10.50569405]\n"
     ]
    },
    {
     "name": "stderr",
     "output_type": "stream",
     "text": [
      "INFO:utils:59\n"
     ]
    },
    {
     "name": "stdout",
     "output_type": "stream",
     "text": [
      "log posterior          -330.231154  for theta=[ 1.99272573  0.          0.          7.75296195 10.50569405]\n"
     ]
    },
    {
     "name": "stderr",
     "output_type": "stream",
     "text": [
      "INFO:utils:59\n"
     ]
    },
    {
     "name": "stdout",
     "output_type": "stream",
     "text": [
      "log posterior          -330.231154  for theta=[1.99272572e+00 1.00000000e-08 0.00000000e+00 7.75296195e+00\n",
      " 1.05056940e+01]\n"
     ]
    },
    {
     "name": "stderr",
     "output_type": "stream",
     "text": [
      "INFO:utils:59\n"
     ]
    },
    {
     "name": "stdout",
     "output_type": "stream",
     "text": [
      "log posterior          -330.231154  for theta=[1.99272572e+00 0.00000000e+00 1.00000000e-08 7.75296195e+00\n",
      " 1.05056940e+01]\n"
     ]
    },
    {
     "name": "stderr",
     "output_type": "stream",
     "text": [
      "INFO:utils:58\n"
     ]
    },
    {
     "name": "stdout",
     "output_type": "stream",
     "text": [
      "log posterior          -330.231154  for theta=[ 1.99272572  0.          0.          7.75296196 10.50569405]\n"
     ]
    },
    {
     "name": "stderr",
     "output_type": "stream",
     "text": [
      "INFO:utils:58\n"
     ]
    },
    {
     "name": "stdout",
     "output_type": "stream",
     "text": [
      "log posterior          -330.231154  for theta=[ 1.99272572  0.          0.          7.75296195 10.50569406]\n",
      "Iteration:  [ 1.99272572  0.          0.          7.75296195 10.50569405]\n"
     ]
    },
    {
     "name": "stderr",
     "output_type": "stream",
     "text": [
      "INFO:utils:59\n"
     ]
    },
    {
     "name": "stdout",
     "output_type": "stream",
     "text": [
      "log posterior        -21312.637914  for theta=[9.45231356e+00 0.00000000e+00 0.00000000e+00 2.00000000e+01\n",
      " 1.00000000e-02]\n"
     ]
    },
    {
     "name": "stderr",
     "output_type": "stream",
     "text": [
      "INFO:utils:57\n"
     ]
    },
    {
     "name": "stdout",
     "output_type": "stream",
     "text": [
      "log posterior        -21312.637916  for theta=[9.45231357e+00 0.00000000e+00 0.00000000e+00 2.00000000e+01\n",
      " 1.00000000e-02]\n"
     ]
    },
    {
     "name": "stderr",
     "output_type": "stream",
     "text": [
      "INFO:utils:59\n"
     ]
    },
    {
     "name": "stdout",
     "output_type": "stream",
     "text": [
      "log posterior        -21312.638761  for theta=[9.45231356e+00 1.00000000e-08 0.00000000e+00 2.00000000e+01\n",
      " 1.00000000e-02]\n"
     ]
    },
    {
     "name": "stderr",
     "output_type": "stream",
     "text": [
      "INFO:utils:58\n"
     ]
    },
    {
     "name": "stdout",
     "output_type": "stream",
     "text": [
      "log posterior        -21312.638347  for theta=[9.45231356e+00 0.00000000e+00 1.00000000e-08 2.00000000e+01\n",
      " 1.00000000e-02]\n"
     ]
    },
    {
     "name": "stderr",
     "output_type": "stream",
     "text": [
      "INFO:utils:59\n"
     ]
    },
    {
     "name": "stdout",
     "output_type": "stream",
     "text": [
      "log posterior        -21312.637914  for theta=[9.45231356e+00 0.00000000e+00 0.00000000e+00 2.00000000e+01\n",
      " 1.00000000e-02]\n"
     ]
    },
    {
     "name": "stderr",
     "output_type": "stream",
     "text": [
      "INFO:utils:59\n"
     ]
    },
    {
     "name": "stdout",
     "output_type": "stream",
     "text": [
      "log posterior        -21312.629680  for theta=[9.45231356e+00 0.00000000e+00 0.00000000e+00 2.00000000e+01\n",
      " 1.00000100e-02]\n"
     ]
    },
    {
     "name": "stderr",
     "output_type": "stream",
     "text": [
      "INFO:utils:58\n"
     ]
    },
    {
     "name": "stdout",
     "output_type": "stream",
     "text": [
      "log posterior          -330.230400  for theta=[ 1.99332294  0.          0.          7.75394247 10.50485375]\n"
     ]
    },
    {
     "name": "stderr",
     "output_type": "stream",
     "text": [
      "INFO:utils:59\n"
     ]
    },
    {
     "name": "stdout",
     "output_type": "stream",
     "text": [
      "log posterior          -330.230400  for theta=[ 1.99332295  0.          0.          7.75394247 10.50485375]\n"
     ]
    },
    {
     "name": "stderr",
     "output_type": "stream",
     "text": [
      "INFO:utils:59\n"
     ]
    },
    {
     "name": "stdout",
     "output_type": "stream",
     "text": [
      "log posterior          -330.230401  for theta=[1.99332294e+00 1.00000000e-08 0.00000000e+00 7.75394247e+00\n",
      " 1.05048537e+01]\n"
     ]
    },
    {
     "name": "stderr",
     "output_type": "stream",
     "text": [
      "INFO:utils:58\n"
     ]
    },
    {
     "name": "stdout",
     "output_type": "stream",
     "text": [
      "log posterior          -330.230400  for theta=[1.99332294e+00 0.00000000e+00 1.00000000e-08 7.75394247e+00\n",
      " 1.05048537e+01]\n"
     ]
    },
    {
     "name": "stderr",
     "output_type": "stream",
     "text": [
      "INFO:utils:58\n"
     ]
    },
    {
     "name": "stdout",
     "output_type": "stream",
     "text": [
      "log posterior          -330.230400  for theta=[ 1.99332294  0.          0.          7.75394248 10.50485375]\n"
     ]
    },
    {
     "name": "stderr",
     "output_type": "stream",
     "text": [
      "INFO:utils:55\n"
     ]
    },
    {
     "name": "stdout",
     "output_type": "stream",
     "text": [
      "log posterior          -330.230400  for theta=[ 1.99332294  0.          0.          7.75394247 10.50485376]\n"
     ]
    },
    {
     "name": "stderr",
     "output_type": "stream",
     "text": [
      "INFO:utils:57\n"
     ]
    },
    {
     "name": "stdout",
     "output_type": "stream",
     "text": [
      "log posterior          -532.140478  for theta=[ 5.72281825  0.          0.         13.87697123  5.25742687]\n"
     ]
    },
    {
     "name": "stderr",
     "output_type": "stream",
     "text": [
      "INFO:utils:58\n"
     ]
    },
    {
     "name": "stdout",
     "output_type": "stream",
     "text": [
      "log posterior          -532.140479  for theta=[ 5.72281826  0.          0.         13.87697123  5.25742687]\n"
     ]
    },
    {
     "name": "stderr",
     "output_type": "stream",
     "text": [
      "INFO:utils:57\n"
     ]
    },
    {
     "name": "stdout",
     "output_type": "stream",
     "text": [
      "log posterior          -532.140618  for theta=[5.72281825e+00 1.00000000e-08 0.00000000e+00 1.38769712e+01\n",
      " 5.25742687e+00]\n"
     ]
    },
    {
     "name": "stderr",
     "output_type": "stream",
     "text": [
      "INFO:utils:58\n"
     ]
    },
    {
     "name": "stdout",
     "output_type": "stream",
     "text": [
      "log posterior          -532.140499  for theta=[5.72281825e+00 0.00000000e+00 1.00000000e-08 1.38769712e+01\n",
      " 5.25742687e+00]\n"
     ]
    },
    {
     "name": "stderr",
     "output_type": "stream",
     "text": [
      "INFO:utils:57\n"
     ]
    },
    {
     "name": "stdout",
     "output_type": "stream",
     "text": [
      "log posterior          -532.140478  for theta=[ 5.72281825  0.          0.         13.87697124  5.25742687]\n"
     ]
    },
    {
     "name": "stderr",
     "output_type": "stream",
     "text": [
      "INFO:utils:55\n"
     ]
    },
    {
     "name": "stdout",
     "output_type": "stream",
     "text": [
      "log posterior          -532.140478  for theta=[ 5.72281825  0.          0.         13.87697123  5.25742688]\n"
     ]
    },
    {
     "name": "stderr",
     "output_type": "stream",
     "text": [
      "INFO:utils:60\n"
     ]
    },
    {
     "name": "stdout",
     "output_type": "stream",
     "text": [
      "log posterior          -330.187045  for theta=[ 2.064106    0.          0.          7.87015302 10.40526147]\n"
     ]
    },
    {
     "name": "stderr",
     "output_type": "stream",
     "text": [
      "INFO:utils:59\n"
     ]
    },
    {
     "name": "stdout",
     "output_type": "stream",
     "text": [
      "log posterior          -330.187045  for theta=[ 2.06410601  0.          0.          7.87015302 10.40526147]\n"
     ]
    },
    {
     "name": "stderr",
     "output_type": "stream",
     "text": [
      "INFO:utils:58\n"
     ]
    },
    {
     "name": "stdout",
     "output_type": "stream",
     "text": [
      "log posterior          -330.187045  for theta=[2.06410600e+00 1.00000000e-08 0.00000000e+00 7.87015302e+00\n",
      " 1.04052615e+01]\n"
     ]
    },
    {
     "name": "stderr",
     "output_type": "stream",
     "text": [
      "INFO:utils:58\n"
     ]
    },
    {
     "name": "stdout",
     "output_type": "stream",
     "text": [
      "log posterior          -330.187045  for theta=[2.06410600e+00 0.00000000e+00 1.00000000e-08 7.87015302e+00\n",
      " 1.04052615e+01]\n"
     ]
    },
    {
     "name": "stderr",
     "output_type": "stream",
     "text": [
      "INFO:utils:58\n"
     ]
    },
    {
     "name": "stdout",
     "output_type": "stream",
     "text": [
      "log posterior          -330.187045  for theta=[ 2.064106    0.          0.          7.87015303 10.40526147]\n"
     ]
    },
    {
     "name": "stderr",
     "output_type": "stream",
     "text": [
      "INFO:utils:57\n"
     ]
    },
    {
     "name": "stdout",
     "output_type": "stream",
     "text": [
      "log posterior          -330.187045  for theta=[ 2.064106    0.          0.          7.87015302 10.40526148]\n",
      "Iteration:  [ 2.064106    0.          0.          7.87015302 10.40526147]\n"
     ]
    },
    {
     "name": "stderr",
     "output_type": "stream",
     "text": [
      "INFO:utils:62\n"
     ]
    },
    {
     "name": "stdout",
     "output_type": "stream",
     "text": [
      "log posterior          -330.118233  for theta=[1.78569053 0.         0.         7.00836656 8.672821  ]\n"
     ]
    },
    {
     "name": "stderr",
     "output_type": "stream",
     "text": [
      "INFO:utils:61\n"
     ]
    },
    {
     "name": "stdout",
     "output_type": "stream",
     "text": [
      "log posterior          -330.118233  for theta=[1.78569054 0.         0.         7.00836656 8.672821  ]\n"
     ]
    },
    {
     "name": "stderr",
     "output_type": "stream",
     "text": [
      "INFO:utils:58\n"
     ]
    },
    {
     "name": "stdout",
     "output_type": "stream",
     "text": [
      "log posterior          -330.118234  for theta=[1.78569053e+00 1.00000000e-08 0.00000000e+00 7.00836656e+00\n",
      " 8.67282100e+00]\n"
     ]
    },
    {
     "name": "stderr",
     "output_type": "stream",
     "text": [
      "INFO:utils:59\n"
     ]
    },
    {
     "name": "stdout",
     "output_type": "stream",
     "text": [
      "log posterior          -330.118233  for theta=[1.78569053e+00 0.00000000e+00 1.00000000e-08 7.00836656e+00\n",
      " 8.67282100e+00]\n"
     ]
    },
    {
     "name": "stderr",
     "output_type": "stream",
     "text": [
      "INFO:utils:58\n"
     ]
    },
    {
     "name": "stdout",
     "output_type": "stream",
     "text": [
      "log posterior          -330.118233  for theta=[1.78569053 0.         0.         7.00836657 8.672821  ]\n"
     ]
    },
    {
     "name": "stderr",
     "output_type": "stream",
     "text": [
      "INFO:utils:58\n"
     ]
    },
    {
     "name": "stdout",
     "output_type": "stream",
     "text": [
      "log posterior          -330.118233  for theta=[1.78569053 0.         0.         7.00836656 8.67282101]\n",
      "Iteration:  [1.78569053 0.         0.         7.00836656 8.672821  ]\n"
     ]
    },
    {
     "name": "stderr",
     "output_type": "stream",
     "text": [
      "INFO:utils:54\n"
     ]
    },
    {
     "name": "stdout",
     "output_type": "stream",
     "text": [
      "log posterior          -330.073782  for theta=[1.99096354 0.         0.         8.65267392 9.23840437]\n"
     ]
    },
    {
     "name": "stderr",
     "output_type": "stream",
     "text": [
      "INFO:utils:57\n"
     ]
    },
    {
     "name": "stdout",
     "output_type": "stream",
     "text": [
      "log posterior          -330.073782  for theta=[1.99096355 0.         0.         8.65267392 9.23840437]\n"
     ]
    },
    {
     "name": "stderr",
     "output_type": "stream",
     "text": [
      "INFO:utils:56\n"
     ]
    },
    {
     "name": "stdout",
     "output_type": "stream",
     "text": [
      "log posterior          -330.073783  for theta=[1.99096354e+00 1.00000000e-08 0.00000000e+00 8.65267392e+00\n",
      " 9.23840437e+00]\n"
     ]
    },
    {
     "name": "stderr",
     "output_type": "stream",
     "text": [
      "INFO:utils:55\n"
     ]
    },
    {
     "name": "stdout",
     "output_type": "stream",
     "text": [
      "log posterior          -330.073782  for theta=[1.99096354e+00 0.00000000e+00 1.00000000e-08 8.65267392e+00\n",
      " 9.23840437e+00]\n"
     ]
    },
    {
     "name": "stderr",
     "output_type": "stream",
     "text": [
      "INFO:utils:58\n"
     ]
    },
    {
     "name": "stdout",
     "output_type": "stream",
     "text": [
      "log posterior          -330.073782  for theta=[1.99096354 0.         0.         8.65267393 9.23840437]\n"
     ]
    },
    {
     "name": "stderr",
     "output_type": "stream",
     "text": [
      "INFO:utils:58\n"
     ]
    },
    {
     "name": "stdout",
     "output_type": "stream",
     "text": [
      "log posterior          -330.073782  for theta=[1.99096354 0.         0.         8.65267392 9.23840438]\n",
      "Iteration:  [1.99096354 0.         0.         8.65267392 9.23840437]\n"
     ]
    },
    {
     "name": "stderr",
     "output_type": "stream",
     "text": [
      "INFO:utils:58\n"
     ]
    },
    {
     "name": "stdout",
     "output_type": "stream",
     "text": [
      "log posterior          -330.061775  for theta=[2.11793972 0.         0.         9.8437103  9.3152141 ]\n"
     ]
    },
    {
     "name": "stderr",
     "output_type": "stream",
     "text": [
      "INFO:utils:59\n"
     ]
    },
    {
     "name": "stdout",
     "output_type": "stream",
     "text": [
      "log posterior          -330.061775  for theta=[2.11793973 0.         0.         9.8437103  9.3152141 ]\n"
     ]
    },
    {
     "name": "stderr",
     "output_type": "stream",
     "text": [
      "INFO:utils:58\n"
     ]
    },
    {
     "name": "stdout",
     "output_type": "stream",
     "text": [
      "log posterior          -330.061775  for theta=[2.11793972e+00 1.00000000e-08 0.00000000e+00 9.84371030e+00\n",
      " 9.31521410e+00]\n"
     ]
    },
    {
     "name": "stderr",
     "output_type": "stream",
     "text": [
      "INFO:utils:58\n"
     ]
    },
    {
     "name": "stdout",
     "output_type": "stream",
     "text": [
      "log posterior          -330.061775  for theta=[2.11793972e+00 0.00000000e+00 1.00000000e-08 9.84371030e+00\n",
      " 9.31521410e+00]\n"
     ]
    },
    {
     "name": "stderr",
     "output_type": "stream",
     "text": [
      "INFO:utils:59\n"
     ]
    },
    {
     "name": "stdout",
     "output_type": "stream",
     "text": [
      "log posterior          -330.061775  for theta=[2.11793972 0.         0.         9.84371031 9.3152141 ]\n"
     ]
    },
    {
     "name": "stderr",
     "output_type": "stream",
     "text": [
      "INFO:utils:59\n"
     ]
    },
    {
     "name": "stdout",
     "output_type": "stream",
     "text": [
      "log posterior          -330.061775  for theta=[2.11793972 0.         0.         9.8437103  9.31521411]\n",
      "Iteration:  [2.11793972 0.         0.         9.8437103  9.3152141 ]\n"
     ]
    },
    {
     "name": "stderr",
     "output_type": "stream",
     "text": [
      "INFO:utils:59\n"
     ]
    },
    {
     "name": "stdout",
     "output_type": "stream",
     "text": [
      "log posterior          -330.055297  for theta=[ 2.18685452  0.          0.         10.75451199  9.29289621]\n"
     ]
    },
    {
     "name": "stderr",
     "output_type": "stream",
     "text": [
      "INFO:utils:60\n"
     ]
    },
    {
     "name": "stdout",
     "output_type": "stream",
     "text": [
      "log posterior          -330.055297  for theta=[ 2.18685453  0.          0.         10.75451199  9.29289621]\n"
     ]
    },
    {
     "name": "stderr",
     "output_type": "stream",
     "text": [
      "INFO:utils:58\n"
     ]
    },
    {
     "name": "stdout",
     "output_type": "stream",
     "text": [
      "log posterior          -330.055297  for theta=[2.18685452e+00 1.00000000e-08 0.00000000e+00 1.07545120e+01\n",
      " 9.29289621e+00]\n"
     ]
    },
    {
     "name": "stderr",
     "output_type": "stream",
     "text": [
      "INFO:utils:59\n"
     ]
    },
    {
     "name": "stdout",
     "output_type": "stream",
     "text": [
      "log posterior          -330.055297  for theta=[2.18685452e+00 0.00000000e+00 1.00000000e-08 1.07545120e+01\n",
      " 9.29289621e+00]\n"
     ]
    },
    {
     "name": "stderr",
     "output_type": "stream",
     "text": [
      "INFO:utils:59\n"
     ]
    },
    {
     "name": "stdout",
     "output_type": "stream",
     "text": [
      "log posterior          -330.055297  for theta=[ 2.18685452  0.          0.         10.754512    9.29289621]\n"
     ]
    },
    {
     "name": "stderr",
     "output_type": "stream",
     "text": [
      "INFO:utils:58\n"
     ]
    },
    {
     "name": "stdout",
     "output_type": "stream",
     "text": [
      "log posterior          -330.055297  for theta=[ 2.18685452  0.          0.         10.75451199  9.29289622]\n",
      "Iteration:  [ 2.18685452  0.          0.         10.75451199  9.29289621]\n"
     ]
    },
    {
     "name": "stderr",
     "output_type": "stream",
     "text": [
      "INFO:utils:57\n"
     ]
    },
    {
     "name": "stdout",
     "output_type": "stream",
     "text": [
      "log posterior          -330.050978  for theta=[ 2.23607582  0.          0.         11.49755885  9.31105391]\n"
     ]
    },
    {
     "name": "stderr",
     "output_type": "stream",
     "text": [
      "INFO:utils:59\n"
     ]
    },
    {
     "name": "stdout",
     "output_type": "stream",
     "text": [
      "log posterior          -330.050978  for theta=[ 2.23607583  0.          0.         11.49755885  9.31105391]\n"
     ]
    },
    {
     "name": "stderr",
     "output_type": "stream",
     "text": [
      "INFO:utils:59\n"
     ]
    },
    {
     "name": "stdout",
     "output_type": "stream",
     "text": [
      "log posterior          -330.050978  for theta=[2.23607582e+00 1.00000000e-08 0.00000000e+00 1.14975588e+01\n",
      " 9.31105391e+00]\n"
     ]
    },
    {
     "name": "stderr",
     "output_type": "stream",
     "text": [
      "INFO:utils:57\n"
     ]
    },
    {
     "name": "stdout",
     "output_type": "stream",
     "text": [
      "log posterior          -330.050978  for theta=[2.23607582e+00 0.00000000e+00 1.00000000e-08 1.14975588e+01\n",
      " 9.31105391e+00]\n"
     ]
    },
    {
     "name": "stderr",
     "output_type": "stream",
     "text": [
      "INFO:utils:58\n"
     ]
    },
    {
     "name": "stdout",
     "output_type": "stream",
     "text": [
      "log posterior          -330.050978  for theta=[ 2.23607582  0.          0.         11.49755886  9.31105391]\n"
     ]
    },
    {
     "name": "stderr",
     "output_type": "stream",
     "text": [
      "INFO:utils:63\n"
     ]
    },
    {
     "name": "stdout",
     "output_type": "stream",
     "text": [
      "log posterior          -330.050978  for theta=[ 2.23607582  0.          0.         11.49755885  9.31105392]\n",
      "Iteration:  [ 2.23607582  0.          0.         11.49755885  9.31105391]\n"
     ]
    },
    {
     "name": "stderr",
     "output_type": "stream",
     "text": [
      "INFO:utils:60\n"
     ]
    },
    {
     "name": "stdout",
     "output_type": "stream",
     "text": [
      "log posterior          -330.048955  for theta=[ 2.30419057  0.          0.         12.34077464  9.39593819]\n"
     ]
    },
    {
     "name": "stderr",
     "output_type": "stream",
     "text": [
      "INFO:utils:63\n"
     ]
    },
    {
     "name": "stdout",
     "output_type": "stream",
     "text": [
      "log posterior          -330.048955  for theta=[ 2.30419058  0.          0.         12.34077464  9.39593819]\n"
     ]
    },
    {
     "name": "stderr",
     "output_type": "stream",
     "text": [
      "INFO:utils:62\n"
     ]
    },
    {
     "name": "stdout",
     "output_type": "stream",
     "text": [
      "log posterior          -330.048956  for theta=[2.30419057e+00 1.00000000e-08 0.00000000e+00 1.23407746e+01\n",
      " 9.39593819e+00]\n"
     ]
    },
    {
     "name": "stderr",
     "output_type": "stream",
     "text": [
      "INFO:utils:59\n"
     ]
    },
    {
     "name": "stdout",
     "output_type": "stream",
     "text": [
      "log posterior          -330.048956  for theta=[2.30419057e+00 0.00000000e+00 1.00000000e-08 1.23407746e+01\n",
      " 9.39593819e+00]\n"
     ]
    },
    {
     "name": "stderr",
     "output_type": "stream",
     "text": [
      "INFO:utils:60\n"
     ]
    },
    {
     "name": "stdout",
     "output_type": "stream",
     "text": [
      "log posterior          -330.048955  for theta=[ 2.30419057  0.          0.         12.34077465  9.39593819]\n"
     ]
    },
    {
     "name": "stderr",
     "output_type": "stream",
     "text": [
      "INFO:utils:62\n"
     ]
    },
    {
     "name": "stdout",
     "output_type": "stream",
     "text": [
      "log posterior          -330.048955  for theta=[ 2.30419057  0.          0.         12.34077464  9.3959382 ]\n",
      "Iteration:  [ 2.30419057  0.          0.         12.34077464  9.39593819]\n"
     ]
    },
    {
     "name": "stderr",
     "output_type": "stream",
     "text": [
      "INFO:utils:62\n"
     ]
    },
    {
     "name": "stdout",
     "output_type": "stream",
     "text": [
      "log posterior          -330.048311  for theta=[ 2.33046462  0.          0.         12.7841665   9.41584939]\n"
     ]
    },
    {
     "name": "stderr",
     "output_type": "stream",
     "text": [
      "INFO:utils:61\n"
     ]
    },
    {
     "name": "stdout",
     "output_type": "stream",
     "text": [
      "log posterior          -330.048311  for theta=[ 2.33046463  0.          0.         12.7841665   9.41584939]\n"
     ]
    },
    {
     "name": "stderr",
     "output_type": "stream",
     "text": [
      "INFO:utils:57\n"
     ]
    },
    {
     "name": "stdout",
     "output_type": "stream",
     "text": [
      "log posterior          -330.048312  for theta=[2.33046462e+00 1.00000000e-08 0.00000000e+00 1.27841665e+01\n",
      " 9.41584939e+00]\n"
     ]
    },
    {
     "name": "stderr",
     "output_type": "stream",
     "text": [
      "INFO:utils:59\n"
     ]
    },
    {
     "name": "stdout",
     "output_type": "stream",
     "text": [
      "log posterior          -330.048312  for theta=[2.33046462e+00 0.00000000e+00 1.00000000e-08 1.27841665e+01\n",
      " 9.41584939e+00]\n"
     ]
    },
    {
     "name": "stderr",
     "output_type": "stream",
     "text": [
      "INFO:utils:57\n"
     ]
    },
    {
     "name": "stdout",
     "output_type": "stream",
     "text": [
      "log posterior          -330.048311  for theta=[ 2.33046462  0.          0.         12.78416651  9.41584939]\n"
     ]
    },
    {
     "name": "stderr",
     "output_type": "stream",
     "text": [
      "INFO:utils:59\n"
     ]
    },
    {
     "name": "stdout",
     "output_type": "stream",
     "text": [
      "log posterior          -330.048311  for theta=[ 2.33046462  0.          0.         12.7841665   9.4158494 ]\n",
      "Iteration:  [ 2.33046462  0.          0.         12.7841665   9.41584939]\n"
     ]
    },
    {
     "name": "stderr",
     "output_type": "stream",
     "text": [
      "INFO:utils:59\n"
     ]
    },
    {
     "name": "stdout",
     "output_type": "stream",
     "text": [
      "log posterior          -330.048208  for theta=[ 2.35982883  0.          0.         13.1705785   9.4377745 ]\n"
     ]
    },
    {
     "name": "stderr",
     "output_type": "stream",
     "text": [
      "INFO:utils:58\n"
     ]
    },
    {
     "name": "stdout",
     "output_type": "stream",
     "text": [
      "log posterior          -330.048208  for theta=[ 2.35982884  0.          0.         13.1705785   9.4377745 ]\n"
     ]
    },
    {
     "name": "stderr",
     "output_type": "stream",
     "text": [
      "INFO:utils:56\n"
     ]
    },
    {
     "name": "stdout",
     "output_type": "stream",
     "text": [
      "log posterior          -330.048209  for theta=[2.35982883e+00 1.00000000e-08 0.00000000e+00 1.31705785e+01\n",
      " 9.43777450e+00]\n"
     ]
    },
    {
     "name": "stderr",
     "output_type": "stream",
     "text": [
      "INFO:utils:57\n"
     ]
    },
    {
     "name": "stdout",
     "output_type": "stream",
     "text": [
      "log posterior          -330.048209  for theta=[2.35982883e+00 0.00000000e+00 1.00000000e-08 1.31705785e+01\n",
      " 9.43777450e+00]\n"
     ]
    },
    {
     "name": "stderr",
     "output_type": "stream",
     "text": [
      "INFO:utils:59\n"
     ]
    },
    {
     "name": "stdout",
     "output_type": "stream",
     "text": [
      "log posterior          -330.048208  for theta=[ 2.35982883  0.          0.         13.17057851  9.4377745 ]\n"
     ]
    },
    {
     "name": "stderr",
     "output_type": "stream",
     "text": [
      "INFO:utils:55\n"
     ]
    },
    {
     "name": "stdout",
     "output_type": "stream",
     "text": [
      "log posterior          -330.048208  for theta=[ 2.35982883  0.          0.         13.1705785   9.43777451]\n",
      "Iteration:  [ 2.35982883  0.          0.         13.1705785   9.4377745 ]\n"
     ]
    },
    {
     "name": "stderr",
     "output_type": "stream",
     "text": [
      "INFO:utils:60\n"
     ]
    },
    {
     "name": "stdout",
     "output_type": "stream",
     "text": [
      "log posterior          -330.048195  for theta=[ 2.3583682   0.          0.         13.17487635  9.43226236]\n"
     ]
    },
    {
     "name": "stderr",
     "output_type": "stream",
     "text": [
      "INFO:utils:59\n"
     ]
    },
    {
     "name": "stdout",
     "output_type": "stream",
     "text": [
      "log posterior          -330.048195  for theta=[ 2.35836821  0.          0.         13.17487635  9.43226236]\n"
     ]
    },
    {
     "name": "stderr",
     "output_type": "stream",
     "text": [
      "INFO:utils:56\n"
     ]
    },
    {
     "name": "stdout",
     "output_type": "stream",
     "text": [
      "log posterior          -330.048195  for theta=[2.35836820e+00 1.00000000e-08 0.00000000e+00 1.31748764e+01\n",
      " 9.43226236e+00]\n"
     ]
    },
    {
     "name": "stderr",
     "output_type": "stream",
     "text": [
      "INFO:utils:56\n"
     ]
    },
    {
     "name": "stdout",
     "output_type": "stream",
     "text": [
      "log posterior          -330.048195  for theta=[2.35836820e+00 0.00000000e+00 1.00000000e-08 1.31748764e+01\n",
      " 9.43226236e+00]\n"
     ]
    },
    {
     "name": "stderr",
     "output_type": "stream",
     "text": [
      "INFO:utils:56\n"
     ]
    },
    {
     "name": "stdout",
     "output_type": "stream",
     "text": [
      "log posterior          -330.048195  for theta=[ 2.3583682   0.          0.         13.17487636  9.43226236]\n"
     ]
    },
    {
     "name": "stderr",
     "output_type": "stream",
     "text": [
      "INFO:utils:53\n"
     ]
    },
    {
     "name": "stdout",
     "output_type": "stream",
     "text": [
      "log posterior          -330.048195  for theta=[ 2.3583682   0.          0.         13.17487635  9.43226237]\n",
      "Iteration:  [ 2.3583682   0.          0.         13.17487635  9.43226236]\n"
     ]
    },
    {
     "name": "stderr",
     "output_type": "stream",
     "text": [
      "INFO:utils:59\n"
     ]
    },
    {
     "name": "stdout",
     "output_type": "stream",
     "text": [
      "log posterior          -330.048195  for theta=[ 2.35731963  0.          0.         13.16310851  9.43086618]\n"
     ]
    },
    {
     "name": "stderr",
     "output_type": "stream",
     "text": [
      "INFO:utils:57\n"
     ]
    },
    {
     "name": "stdout",
     "output_type": "stream",
     "text": [
      "log posterior          -330.048195  for theta=[ 2.35731964  0.          0.         13.16310851  9.43086618]\n"
     ]
    },
    {
     "name": "stderr",
     "output_type": "stream",
     "text": [
      "INFO:utils:57\n"
     ]
    },
    {
     "name": "stdout",
     "output_type": "stream",
     "text": [
      "log posterior          -330.048195  for theta=[2.35731963e+00 1.00000000e-08 0.00000000e+00 1.31631085e+01\n",
      " 9.43086618e+00]\n"
     ]
    },
    {
     "name": "stderr",
     "output_type": "stream",
     "text": [
      "INFO:utils:57\n"
     ]
    },
    {
     "name": "stdout",
     "output_type": "stream",
     "text": [
      "log posterior          -330.048195  for theta=[2.35731963e+00 0.00000000e+00 1.00000000e-08 1.31631085e+01\n",
      " 9.43086618e+00]\n"
     ]
    },
    {
     "name": "stderr",
     "output_type": "stream",
     "text": [
      "INFO:utils:57\n"
     ]
    },
    {
     "name": "stdout",
     "output_type": "stream",
     "text": [
      "log posterior          -330.048195  for theta=[ 2.35731963  0.          0.         13.16310852  9.43086618]\n"
     ]
    },
    {
     "name": "stderr",
     "output_type": "stream",
     "text": [
      "INFO:utils:59\n"
     ]
    },
    {
     "name": "stdout",
     "output_type": "stream",
     "text": [
      "log posterior          -330.048195  for theta=[ 2.35731963  0.          0.         13.16310851  9.43086619]\n"
     ]
    },
    {
     "name": "stderr",
     "output_type": "stream",
     "text": [
      "INFO:utils:58\n"
     ]
    },
    {
     "name": "stdout",
     "output_type": "stream",
     "text": [
      "log posterior          -330.048195  for theta=[ 2.35795974  0.          0.         13.17029228  9.43171849]\n"
     ]
    },
    {
     "name": "stderr",
     "output_type": "stream",
     "text": [
      "INFO:utils:59\n"
     ]
    },
    {
     "name": "stdout",
     "output_type": "stream",
     "text": [
      "log posterior          -330.048195  for theta=[ 2.35795975  0.          0.         13.17029228  9.43171849]\n"
     ]
    },
    {
     "name": "stderr",
     "output_type": "stream",
     "text": [
      "INFO:utils:58\n"
     ]
    },
    {
     "name": "stdout",
     "output_type": "stream",
     "text": [
      "log posterior          -330.048195  for theta=[2.35795974e+00 1.00000000e-08 0.00000000e+00 1.31702923e+01\n",
      " 9.43171849e+00]\n"
     ]
    },
    {
     "name": "stderr",
     "output_type": "stream",
     "text": [
      "INFO:utils:60\n"
     ]
    },
    {
     "name": "stdout",
     "output_type": "stream",
     "text": [
      "log posterior          -330.048195  for theta=[2.35795974e+00 0.00000000e+00 1.00000000e-08 1.31702923e+01\n",
      " 9.43171849e+00]\n"
     ]
    },
    {
     "name": "stderr",
     "output_type": "stream",
     "text": [
      "INFO:utils:60\n"
     ]
    },
    {
     "name": "stdout",
     "output_type": "stream",
     "text": [
      "log posterior          -330.048195  for theta=[ 2.35795974  0.          0.         13.17029229  9.43171849]\n"
     ]
    },
    {
     "name": "stderr",
     "output_type": "stream",
     "text": [
      "INFO:utils:62\n"
     ]
    },
    {
     "name": "stdout",
     "output_type": "stream",
     "text": [
      "log posterior          -330.048195  for theta=[ 2.35795974  0.          0.         13.17029228  9.4317185 ]\n",
      "Iteration:  [ 2.35795974  0.          0.         13.17029228  9.43171849]\n"
     ]
    },
    {
     "data": {
      "text/plain": [
       "array([ 2.35795974,  0.        ,  0.        , 13.17029228,  9.43171849])"
      ]
     },
     "execution_count": 77,
     "metadata": {},
     "output_type": "execute_result"
    }
   ],
   "source": [
    "from scipy.optimize import minimize\n",
    "\n",
    "if 0:\n",
    "    # Make sure we get the same result as in v01 - yep.\n",
    "    dims=['beach','depo','decay']\n",
    "    x0=[0.1,0.01,0.01]\n",
    "    bnds=[(0,1),(0,1),(0,1)]\n",
    "    log_posterior=get_log_posterior(dims, dict(alpha=1.75,storm=1,scale=1))\n",
    "    # => [0.06046516, 0., 0.]\n",
    "    # close enough to v01: [0.06046513, 0 , 0.] \n",
    "if 0:\n",
    "    dims=['beach','depo','decay','storm']\n",
    "    x0=[0.1,0.01,0.01,1.0]\n",
    "    bnds=[(0,1),(0,1),(0,1),(0.01,5)]\n",
    "    log_posterior=get_log_posterior(dims, dict(alpha=1.75,scale=1.0))\n",
    "    # => [0.13089039, 0.        , 0.        , 2.69507553]\n",
    "    # So even when scaling up only stormwater, it's still advantageous\n",
    "    # to turn up beaching and loads.\n",
    "if 1:\n",
    "    dims=['beach','depo','decay','storm','scale']\n",
    "    x0=[0.1,0.01,0.01,1.0,1.0]\n",
    "    bnds=[(0,10),(0,1),(0,1),(0.01,20),(0.01,20)]\n",
    "    log_posterior=get_log_posterior(dims, dict(alpha=1.75))\n",
    "    # => [0.67647769, 0, 0, 2.56529601, 5.]\n",
    "    # So it will happily crank up loads even more to allow cranking\n",
    "    # up the beaching even more. Basically trying to make beaching\n",
    "    # as strong as possible.\n",
    "    # Raising bound on scale to 20: \n",
    "    # => [1., 0., 0., 3.16683761, 6.85953015]\n",
    "    # It will keep going with this until the point that beaching is exhausted.\n",
    "    # If we *did* have bed concentrations included, that would force\n",
    "    # deposition to be nonzero. it might force storm and scale up even more,\n",
    "    # so that beaching could be kept high.\n",
    "    # Lifting the constraint on beaching rate:\n",
    "    # [ 2.35795974,  0.        ,  0.        , 13.17029228,  9.43171849]\n",
    "    # Bottom line is that MAP based only manta is not strong enough to \n",
    "    # overcome noise and model error.\n",
    "    # \n",
    "    \n",
    "def cb(xk):\n",
    "    print(\"Iteration: \",xk)    \n",
    "def cost(theta):\n",
    "    lp=log_posterior(theta)\n",
    "    print(\"log posterior %20f  for theta=%s\"%(lp,theta))\n",
    "    return (-lp).clip(-1000,20000)\n",
    "result=minimize(cost,x0,bounds=bnds,\n",
    "                callback=cb,options=dict(disp=True))\n",
    "\n",
    "\n",
    "result.x "
   ]
  },
  {
   "cell_type": "code",
   "execution_count": 71,
   "metadata": {},
   "outputs": [
    {
     "name": "stderr",
     "output_type": "stream",
     "text": [
      "INFO:utils:63\n"
     ]
    },
    {
     "data": {
      "text/html": [
       "<div>\n",
       "<style scoped>\n",
       "    .dataframe tbody tr th:only-of-type {\n",
       "        vertical-align: middle;\n",
       "    }\n",
       "\n",
       "    .dataframe tbody tr th {\n",
       "        vertical-align: top;\n",
       "    }\n",
       "\n",
       "    .dataframe thead th {\n",
       "        text-align: right;\n",
       "    }\n",
       "</style>\n",
       "<table border=\"1\" class=\"dataframe\">\n",
       "  <thead>\n",
       "    <tr style=\"text-align: right;\">\n",
       "      <th></th>\n",
       "      <th>idx</th>\n",
       "      <th>storm_factor</th>\n",
       "      <th>decay_rate</th>\n",
       "      <th>step</th>\n",
       "      <th>Msmooth_i</th>\n",
       "      <th>beach_rate</th>\n",
       "      <th>depo_rate</th>\n",
       "      <th>C_model</th>\n",
       "      <th>SampleID</th>\n",
       "      <th>SAMPLE LOCATION</th>\n",
       "      <th>...</th>\n",
       "      <th>part_per_m3_std</th>\n",
       "      <th>part_per_m2_std</th>\n",
       "      <th>part_per_m3_raw_std</th>\n",
       "      <th>part_per_m2_raw_std</th>\n",
       "      <th>part_per_m3_nofiber</th>\n",
       "      <th>part_per_m2_nofiber</th>\n",
       "      <th>part_per_m3_raw_nofiber</th>\n",
       "      <th>part_per_m2_raw_nofiber</th>\n",
       "      <th>x</th>\n",
       "      <th>y</th>\n",
       "    </tr>\n",
       "  </thead>\n",
       "  <tbody>\n",
       "    <tr>\n",
       "      <th>0</th>\n",
       "      <td>0</td>\n",
       "      <td>1.0</td>\n",
       "      <td>0.0</td>\n",
       "      <td>-10000</td>\n",
       "      <td>0</td>\n",
       "      <td>0.05</td>\n",
       "      <td>0.0</td>\n",
       "      <td>0.017899</td>\n",
       "      <td>CB-4-Manta-21Aug2017</td>\n",
       "      <td>CB4</td>\n",
       "      <td>...</td>\n",
       "      <td>0.224191</td>\n",
       "      <td>0.021298</td>\n",
       "      <td>0.442172</td>\n",
       "      <td>0.042006</td>\n",
       "      <td>0.015526</td>\n",
       "      <td>0.001475</td>\n",
       "      <td>0.024841</td>\n",
       "      <td>0.002360</td>\n",
       "      <td>550040.331073</td>\n",
       "      <td>4.198063e+06</td>\n",
       "    </tr>\n",
       "    <tr>\n",
       "      <th>1</th>\n",
       "      <td>1</td>\n",
       "      <td>1.0</td>\n",
       "      <td>0.0</td>\n",
       "      <td>-10000</td>\n",
       "      <td>0</td>\n",
       "      <td>0.05</td>\n",
       "      <td>0.0</td>\n",
       "      <td>0.010077</td>\n",
       "      <td>SPB3-Manta-21Aug2017</td>\n",
       "      <td>SPB3</td>\n",
       "      <td>...</td>\n",
       "      <td>1.817781</td>\n",
       "      <td>0.172689</td>\n",
       "      <td>1.928407</td>\n",
       "      <td>0.183199</td>\n",
       "      <td>0.296678</td>\n",
       "      <td>0.028184</td>\n",
       "      <td>0.301706</td>\n",
       "      <td>0.028662</td>\n",
       "      <td>557329.971756</td>\n",
       "      <td>4.209634e+06</td>\n",
       "    </tr>\n",
       "    <tr>\n",
       "      <th>2</th>\n",
       "      <td>2</td>\n",
       "      <td>1.0</td>\n",
       "      <td>0.0</td>\n",
       "      <td>-10000</td>\n",
       "      <td>0</td>\n",
       "      <td>0.05</td>\n",
       "      <td>0.0</td>\n",
       "      <td>0.011864</td>\n",
       "      <td>SUB1-Manta-21Aug2017</td>\n",
       "      <td>SUB1</td>\n",
       "      <td>...</td>\n",
       "      <td>NaN</td>\n",
       "      <td>NaN</td>\n",
       "      <td>0.000000</td>\n",
       "      <td>0.000000</td>\n",
       "      <td>0.032671</td>\n",
       "      <td>0.003104</td>\n",
       "      <td>0.039205</td>\n",
       "      <td>0.003724</td>\n",
       "      <td>582363.556136</td>\n",
       "      <td>4.217527e+06</td>\n",
       "    </tr>\n",
       "    <tr>\n",
       "      <th>3</th>\n",
       "      <td>3</td>\n",
       "      <td>1.0</td>\n",
       "      <td>0.0</td>\n",
       "      <td>-10000</td>\n",
       "      <td>0</td>\n",
       "      <td>0.05</td>\n",
       "      <td>0.0</td>\n",
       "      <td>0.007506</td>\n",
       "      <td>SPB2-Manta-21Aug2017</td>\n",
       "      <td>SPB2</td>\n",
       "      <td>...</td>\n",
       "      <td>0.210549</td>\n",
       "      <td>0.020002</td>\n",
       "      <td>0.402882</td>\n",
       "      <td>0.038274</td>\n",
       "      <td>0.021966</td>\n",
       "      <td>0.002087</td>\n",
       "      <td>0.034288</td>\n",
       "      <td>0.003257</td>\n",
       "      <td>550464.046320</td>\n",
       "      <td>4.210092e+06</td>\n",
       "    </tr>\n",
       "    <tr>\n",
       "      <th>4</th>\n",
       "      <td>4</td>\n",
       "      <td>1.0</td>\n",
       "      <td>0.0</td>\n",
       "      <td>-10000</td>\n",
       "      <td>0</td>\n",
       "      <td>0.05</td>\n",
       "      <td>0.0</td>\n",
       "      <td>0.016433</td>\n",
       "      <td>CB9-Manta-22Aug2017</td>\n",
       "      <td>CB9</td>\n",
       "      <td>...</td>\n",
       "      <td>0.085947</td>\n",
       "      <td>0.008165</td>\n",
       "      <td>0.174186</td>\n",
       "      <td>0.016548</td>\n",
       "      <td>0.085947</td>\n",
       "      <td>0.008165</td>\n",
       "      <td>0.091677</td>\n",
       "      <td>0.008709</td>\n",
       "      <td>562183.425087</td>\n",
       "      <td>4.171973e+06</td>\n",
       "    </tr>\n",
       "  </tbody>\n",
       "</table>\n",
       "<p>5 rows × 55 columns</p>\n",
       "</div>"
      ],
      "text/plain": [
       "   idx  storm_factor  decay_rate   step  Msmooth_i  beach_rate  depo_rate  \\\n",
       "0    0           1.0         0.0 -10000          0        0.05        0.0   \n",
       "1    1           1.0         0.0 -10000          0        0.05        0.0   \n",
       "2    2           1.0         0.0 -10000          0        0.05        0.0   \n",
       "3    3           1.0         0.0 -10000          0        0.05        0.0   \n",
       "4    4           1.0         0.0 -10000          0        0.05        0.0   \n",
       "\n",
       "    C_model              SampleID SAMPLE LOCATION  ... part_per_m3_std  \\\n",
       "0  0.017899  CB-4-Manta-21Aug2017             CB4  ...        0.224191   \n",
       "1  0.010077  SPB3-Manta-21Aug2017            SPB3  ...        1.817781   \n",
       "2  0.011864  SUB1-Manta-21Aug2017            SUB1  ...             NaN   \n",
       "3  0.007506  SPB2-Manta-21Aug2017            SPB2  ...        0.210549   \n",
       "4  0.016433   CB9-Manta-22Aug2017             CB9  ...        0.085947   \n",
       "\n",
       "  part_per_m2_std  part_per_m3_raw_std  part_per_m2_raw_std  \\\n",
       "0        0.021298             0.442172             0.042006   \n",
       "1        0.172689             1.928407             0.183199   \n",
       "2             NaN             0.000000             0.000000   \n",
       "3        0.020002             0.402882             0.038274   \n",
       "4        0.008165             0.174186             0.016548   \n",
       "\n",
       "   part_per_m3_nofiber  part_per_m2_nofiber  part_per_m3_raw_nofiber  \\\n",
       "0             0.015526             0.001475                 0.024841   \n",
       "1             0.296678             0.028184                 0.301706   \n",
       "2             0.032671             0.003104                 0.039205   \n",
       "3             0.021966             0.002087                 0.034288   \n",
       "4             0.085947             0.008165                 0.091677   \n",
       "\n",
       "   part_per_m2_raw_nofiber              x             y  \n",
       "0                 0.002360  550040.331073  4.198063e+06  \n",
       "1                 0.028662  557329.971756  4.209634e+06  \n",
       "2                 0.003724  582363.556136  4.217527e+06  \n",
       "3                 0.003257  550464.046320  4.210092e+06  \n",
       "4                 0.008709  562183.425087  4.171973e+06  \n",
       "\n",
       "[5 rows x 55 columns]"
      ]
     },
     "execution_count": 71,
     "metadata": {},
     "output_type": "execute_result"
    }
   ],
   "source": [
    "# comparing forward model between v01 and v02\n",
    "# They now match!\n",
    "df_test=predict_mantas_fast(decay_rate=0.0,beach_rate=0.05,depo_rate=0.0,storm_factor=1.0)\n",
    "df_test.head()"
   ]
  },
  {
   "cell_type": "code",
   "execution_count": 348,
   "metadata": {},
   "outputs": [
    {
     "name": "stderr",
     "output_type": "stream",
     "text": [
      "100%|██████████| 4000/4000 [13:48:48<00:00, 12.43s/it]  \n"
     ]
    }
   ],
   "source": [
    "nwalkers = 6  # number of MCMC walkers\n",
    "nburn = 2000  # \"burn-in\" period to let chains stabilize\n",
    "nsteps = 4000  # number of MCMC steps to take\n",
    "\n",
    "# with sigma=1.0, needed 2000+2000 to converge.\n",
    "# How many calls?? 24k\n",
    "# = 6 * 4000 \n",
    "\n",
    "starting_guesses = np.random.rand(nwalkers, ndim)\n",
    "# we'll start at random locations between 0 and 0.5\n",
    "starting_guesses[:,0] *= 0.5 # beach rate [0,0.5]\n",
    "starting_guesses[:,1] *= 0.1 # depo rate [0,0.1]\n",
    "starting_guesses[:,2] *= 0.1 # decay rate [0,0.1]\n",
    "\n",
    "back=emcee.backends.HDFBackend(\"samples-emcee-v02-nbinom_alpha1.75.h5\")\n",
    "\n",
    "sampler = emcee.EnsembleSampler(nwalkers, ndim, log_posterior,args=[],\n",
    "                               backend=back)\n",
    "\n",
    "sampler.run_mcmc(starting_guesses, nsteps,progress=True)\n",
    "\n",
    "sample = sampler.chain  # shape = (nwalkers, nsteps, ndim)\n",
    "sample = sampler.chain[:, nburn:, :]  # discard burn-in points"
   ]
  },
  {
   "cell_type": "code",
   "execution_count": 344,
   "metadata": {},
   "outputs": [
    {
     "name": "stdout",
     "output_type": "stream",
     "text": [
      "alpha= 1.00  lp=-337.495248\n",
      "alpha= 1.20  lp=-334.043099\n",
      "alpha= 1.40  lp=-332.278827\n",
      "alpha= 1.60  lp=-331.515305\n",
      "alpha= 1.80  lp=-331.377828\n",
      "alpha= 2.00  lp=-331.646959\n",
      "alpha= 2.20  lp=-332.187077\n",
      "alpha= 2.50  lp=-333.322451\n",
      "alpha= 2.80  lp=-334.694309\n",
      "alpha= 2.90  lp=-335.184557\n",
      "alpha= 3.00  lp=-335.686421\n",
      "alpha= 3.10  lp=-336.197642\n",
      "alpha= 3.20  lp=-336.716303\n",
      "alpha= 3.30  lp=-337.240769\n",
      "alpha= 3.40  lp=-337.769643\n"
     ]
    }
   ],
   "source": [
    "theta=[0.229,0,0]\n",
    "# Not bad -- suggests alpha~1.80\n",
    "for alpha in [1,1.2,1.4,1.6,1.8,2,2.2,2.5,2.8,2.9,3.0,3.1,3.2,3.3,3.4]:\n",
    "    # Knowing that alpha was fit across samples that had a lot of modeled\n",
    "    # variance in addition to unmodeled variance, explore smaller alpha\n",
    "    lp=log_posterior(theta,alpha=alpha)\n",
    "    print(f\"alpha={alpha:5.2f}  lp={lp:.6f}\")"
   ]
  },
  {
   "cell_type": "code",
   "execution_count": 345,
   "metadata": {},
   "outputs": [
    {
     "name": "stdout",
     "output_type": "stream",
     "text": [
      "log posterior          -336.609574  for theta=[0.1  0.01 0.01] alpha=1.8000\n",
      "log posterior          -336.609572  for theta=[0.10000001 0.01       0.01      ] alpha=1.8000\n",
      "log posterior          -336.609573  for theta=[0.1        0.01000001 0.01      ] alpha=1.8000\n",
      "log posterior          -336.609573  for theta=[0.1        0.01       0.01000001] alpha=1.8000\n",
      "log posterior          -336.609573  for theta=[0.1  0.01 0.01] alpha=1.8000\n",
      "log posterior          -611.904095  for theta=[1. 1. 1.] alpha=3.4000\n",
      "log posterior          -611.904093  for theta=[0.99999999 1.         1.        ] alpha=3.4000\n",
      "log posterior          -611.904094  for theta=[1.         0.99999999 1.        ] alpha=3.4000\n",
      "log posterior          -611.904093  for theta=[1.         1.         0.99999999] alpha=3.4000\n",
      "log posterior          -611.904096  for theta=[1. 1. 1.] alpha=3.4000\n",
      "log posterior          -348.667362  for theta=[0.22339328 0.1457326  0.1457326 ] alpha=2.0194\n",
      "log posterior          -348.667363  for theta=[0.22339329 0.1457326  0.1457326 ] alpha=2.0194\n",
      "log posterior          -348.667363  for theta=[0.22339328 0.14573261 0.1457326 ] alpha=2.0194\n",
      "log posterior          -348.667364  for theta=[0.22339328 0.1457326  0.14573261] alpha=2.0194\n",
      "log posterior          -348.667362  for theta=[0.22339328 0.1457326  0.1457326 ] alpha=2.0194\n",
      "log posterior          -333.344339  for theta=[0.1340838  0.04749218 0.04749218] alpha=1.8606\n",
      "log posterior          -333.344339  for theta=[0.13408381 0.04749218 0.04749218] alpha=1.8606\n",
      "log posterior          -333.344339  for theta=[0.1340838  0.04749219 0.04749218] alpha=1.8606\n",
      "log posterior          -333.344340  for theta=[0.1340838  0.04749218 0.04749219] alpha=1.8606\n",
      "log posterior          -333.344339  for theta=[0.1340838  0.04749218 0.04749218] alpha=1.8606\n",
      "Iteration:  [0.1340838  0.04749218 0.04749218 1.86059342]\n",
      "log posterior          -333.132294  for theta=[0.13593585 0.04380984 0.0386027 ] alpha=1.8545\n",
      "log posterior          -333.132294  for theta=[0.13593586 0.04380984 0.0386027 ] alpha=1.8545\n",
      "log posterior          -333.132294  for theta=[0.13593585 0.04380985 0.0386027 ] alpha=1.8545\n",
      "log posterior          -333.132294  for theta=[0.13593585 0.04380984 0.03860271] alpha=1.8545\n",
      "log posterior          -333.132294  for theta=[0.13593585 0.04380984 0.0386027 ] alpha=1.8545\n",
      "Iteration:  [0.13593585 0.04380984 0.0386027  1.85450434]\n",
      "log posterior          -332.641244  for theta=[0.1574421  0.02636617 0.        ] alpha=1.8315\n",
      "log posterior          -332.641243  for theta=[0.15744211 0.02636617 0.        ] alpha=1.8315\n",
      "log posterior          -332.641244  for theta=[0.1574421  0.02636618 0.        ] alpha=1.8315\n",
      "log posterior          -332.641244  for theta=[1.57442105e-01 2.63661668e-02 1.00000000e-08] alpha=1.8315\n",
      "log posterior          -332.641244  for theta=[0.1574421  0.02636617 0.        ] alpha=1.8315\n",
      "Iteration:  [0.1574421  0.02636617 0.         1.83145932]\n",
      "log posterior          -332.394440  for theta=[0.16574093 0.02620532 0.0012259 ] alpha=1.8358\n",
      "log posterior          -332.394440  for theta=[0.16574094 0.02620532 0.0012259 ] alpha=1.8358\n",
      "log posterior          -332.394440  for theta=[0.16574093 0.02620533 0.0012259 ] alpha=1.8358\n",
      "log posterior          -332.394440  for theta=[0.16574093 0.02620532 0.00122591] alpha=1.8358\n",
      "log posterior          -332.394440  for theta=[0.16574093 0.02620532 0.0012259 ] alpha=1.8358\n",
      "Iteration:  [1.65740927e-01 2.62053202e-02 1.22589597e-03 1.83577519e+00]\n",
      "log posterior          -331.816786  for theta=[0.22121212 0.00952176 0.        ] alpha=1.8374\n",
      "log posterior          -331.816786  for theta=[0.22121213 0.00952176 0.        ] alpha=1.8374\n",
      "log posterior          -331.816786  for theta=[0.22121212 0.00952177 0.        ] alpha=1.8374\n",
      "log posterior          -331.816786  for theta=[2.21212117e-01 9.52175971e-03 1.00000000e-08] alpha=1.8374\n",
      "log posterior          -331.816786  for theta=[0.22121212 0.00952176 0.        ] alpha=1.8374\n",
      "Iteration:  [0.22121212 0.00952176 0.         1.83743106]\n",
      "log posterior          -331.480208  for theta=[0.24700378 0.         0.        ] alpha=1.8298\n",
      "log posterior          -331.480208  for theta=[0.24700379 0.         0.        ] alpha=1.8298\n",
      "log posterior          -331.480209  for theta=[2.47003785e-01 1.00000000e-08 0.00000000e+00] alpha=1.8298\n",
      "log posterior          -331.480208  for theta=[2.47003785e-01 0.00000000e+00 1.00000000e-08] alpha=1.8298\n",
      "log posterior          -331.480208  for theta=[0.24700378 0.         0.        ] alpha=1.8298\n",
      "Iteration:  [0.24700378 0.         0.         1.82979104]\n",
      "log posterior          -331.416675  for theta=[0.2380126 0.        0.       ] alpha=1.8274\n",
      "log posterior          -331.416675  for theta=[0.23801261 0.         0.        ] alpha=1.8274\n",
      "log posterior          -331.416676  for theta=[2.38012602e-01 1.00000000e-08 0.00000000e+00] alpha=1.8274\n",
      "log posterior          -331.416675  for theta=[2.38012602e-01 0.00000000e+00 1.00000000e-08] alpha=1.8274\n",
      "log posterior          -331.416675  for theta=[0.2380126 0.        0.       ] alpha=1.8274\n",
      "Iteration:  [0.2380126  0.         0.         1.82735322]\n",
      "log posterior          -331.392526  for theta=[0.2274774 0.        0.       ] alpha=1.8243\n",
      "log posterior          -331.392526  for theta=[0.22747741 0.         0.        ] alpha=1.8243\n",
      "log posterior          -331.392527  for theta=[2.27477396e-01 1.00000000e-08 0.00000000e+00] alpha=1.8243\n",
      "log posterior          -331.392526  for theta=[2.27477396e-01 0.00000000e+00 1.00000000e-08] alpha=1.8243\n",
      "log posterior          -331.392526  for theta=[0.2274774 0.        0.       ] alpha=1.8243\n",
      "Iteration:  [0.2274774  0.         0.         1.82433415]\n",
      "log posterior          -331.392225  for theta=[0.22835241 0.         0.        ] alpha=1.8244\n",
      "log posterior          -331.392225  for theta=[0.22835242 0.         0.        ] alpha=1.8244\n",
      "log posterior          -331.392226  for theta=[2.28352408e-01 1.00000000e-08 0.00000000e+00] alpha=1.8244\n",
      "log posterior          -331.392226  for theta=[2.28352408e-01 0.00000000e+00 1.00000000e-08] alpha=1.8244\n",
      "log posterior          -331.392225  for theta=[0.22835241 0.         0.        ] alpha=1.8244\n",
      "Iteration:  [0.22835241 0.         0.         1.8244236 ]\n",
      "log posterior          -331.392066  for theta=[0.22855925 0.         0.        ] alpha=1.8242\n",
      "log posterior          -331.392066  for theta=[0.22855926 0.         0.        ] alpha=1.8242\n",
      "log posterior          -331.392067  for theta=[2.28559249e-01 1.00000000e-08 0.00000000e+00] alpha=1.8242\n",
      "log posterior          -331.392066  for theta=[2.28559249e-01 0.00000000e+00 1.00000000e-08] alpha=1.8242\n",
      "log posterior          -331.392066  for theta=[0.22855925 0.         0.        ] alpha=1.8242\n",
      "Iteration:  [0.22855925 0.         0.         1.82423545]\n",
      "log posterior          -331.390544  for theta=[0.22985181 0.         0.        ] alpha=1.8215\n",
      "log posterior          -331.390544  for theta=[0.22985182 0.         0.        ] alpha=1.8215\n",
      "log posterior          -331.390544  for theta=[2.29851813e-01 1.00000000e-08 0.00000000e+00] alpha=1.8215\n",
      "log posterior          -331.390544  for theta=[2.29851813e-01 0.00000000e+00 1.00000000e-08] alpha=1.8215\n",
      "log posterior          -331.390544  for theta=[0.22985181 0.         0.        ] alpha=1.8215\n",
      "Iteration:  [0.22985181 0.         0.         1.8215354 ]\n",
      "log posterior          -331.387934  for theta=[0.23117098 0.         0.        ] alpha=1.8156\n",
      "log posterior          -331.387934  for theta=[0.23117099 0.         0.        ] alpha=1.8156\n",
      "log posterior          -331.387935  for theta=[2.31170983e-01 1.00000000e-08 0.00000000e+00] alpha=1.8156\n",
      "log posterior          -331.387934  for theta=[2.31170983e-01 0.00000000e+00 1.00000000e-08] alpha=1.8156\n",
      "log posterior          -331.387934  for theta=[0.23117098 0.         0.        ] alpha=1.8156\n",
      "Iteration:  [0.23117098 0.         0.         1.81559507]\n",
      "log posterior          -331.382112  for theta=[0.23274095 0.         0.        ] alpha=1.8000\n",
      "log posterior          -331.382112  for theta=[0.23274096 0.         0.        ] alpha=1.8000\n",
      "log posterior          -331.382113  for theta=[2.32740949e-01 1.00000000e-08 0.00000000e+00] alpha=1.8000\n",
      "log posterior          -331.382113  for theta=[2.32740949e-01 0.00000000e+00 1.00000000e-08] alpha=1.8000\n"
     ]
    },
    {
     "name": "stdout",
     "output_type": "stream",
     "text": [
      "log posterior          -331.382112  for theta=[0.23274095 0.         0.        ] alpha=1.8000\n",
      "Iteration:  [0.23274095 0.         0.         1.80001996]\n",
      "log posterior          -331.374451  for theta=[0.23306315 0.         0.        ] alpha=1.7758\n",
      "log posterior          -331.374451  for theta=[0.23306316 0.         0.        ] alpha=1.7758\n",
      "log posterior          -331.374452  for theta=[2.3306315e-01 1.0000000e-08 0.0000000e+00] alpha=1.7758\n",
      "log posterior          -331.374451  for theta=[2.3306315e-01 0.0000000e+00 1.0000000e-08] alpha=1.7758\n",
      "log posterior          -331.374451  for theta=[0.23306315 0.         0.        ] alpha=1.7758\n",
      "Iteration:  [0.23306315 0.         0.         1.77578522]\n",
      "log posterior          -331.368800  for theta=[0.23121591 0.         0.        ] alpha=1.7560\n",
      "log posterior          -331.368800  for theta=[0.23121592 0.         0.        ] alpha=1.7560\n",
      "log posterior          -331.368801  for theta=[2.31215908e-01 1.00000000e-08 0.00000000e+00] alpha=1.7560\n",
      "log posterior          -331.368801  for theta=[2.31215908e-01 0.00000000e+00 1.00000000e-08] alpha=1.7560\n",
      "log posterior          -331.368800  for theta=[0.23121591 0.         0.        ] alpha=1.7560\n",
      "Iteration:  [0.23121591 0.         0.         1.75600695]\n",
      "log posterior          -331.367254  for theta=[0.22924481 0.         0.        ] alpha=1.7525\n",
      "log posterior          -331.367254  for theta=[0.22924482 0.         0.        ] alpha=1.7525\n",
      "log posterior          -331.367255  for theta=[2.29244814e-01 1.00000000e-08 0.00000000e+00] alpha=1.7525\n",
      "log posterior          -331.367254  for theta=[2.29244814e-01 0.00000000e+00 1.00000000e-08] alpha=1.7525\n",
      "log posterior          -331.367254  for theta=[0.22924481 0.         0.        ] alpha=1.7525\n",
      "Iteration:  [0.22924481 0.         0.         1.75248923]\n",
      "log posterior          -331.367149  for theta=[0.22877077 0.         0.        ] alpha=1.7547\n",
      "log posterior          -331.367149  for theta=[0.22877078 0.         0.        ] alpha=1.7547\n",
      "log posterior          -331.367150  for theta=[2.28770769e-01 1.00000000e-08 0.00000000e+00] alpha=1.7547\n",
      "log posterior          -331.367149  for theta=[2.28770769e-01 0.00000000e+00 1.00000000e-08] alpha=1.7547\n",
      "log posterior          -331.367149  for theta=[0.22877077 0.         0.        ] alpha=1.7547\n",
      "Iteration:  [0.22877077 0.         0.         1.75467813]\n",
      "log posterior          -331.367147  for theta=[0.22875431 0.         0.        ] alpha=1.7552\n",
      "log posterior          -331.367147  for theta=[0.22875432 0.         0.        ] alpha=1.7552\n",
      "log posterior          -331.367148  for theta=[2.28754312e-01 1.00000000e-08 0.00000000e+00] alpha=1.7552\n",
      "log posterior          -331.367147  for theta=[2.28754312e-01 0.00000000e+00 1.00000000e-08] alpha=1.7552\n",
      "log posterior          -331.367147  for theta=[0.22875431 0.         0.        ] alpha=1.7552\n",
      "Iteration:  [0.22875431 0.         0.         1.75516436]\n",
      "log posterior          -331.367147  for theta=[0.22875575 0.         0.        ] alpha=1.7553\n",
      "log posterior          -331.367147  for theta=[0.22875576 0.         0.        ] alpha=1.7553\n",
      "log posterior          -331.367148  for theta=[2.28755749e-01 1.00000000e-08 0.00000000e+00] alpha=1.7553\n",
      "log posterior          -331.367147  for theta=[2.28755749e-01 0.00000000e+00 1.00000000e-08] alpha=1.7553\n",
      "log posterior          -331.367147  for theta=[0.22875575 0.         0.        ] alpha=1.7553\n",
      "Iteration:  [0.22875575 0.         0.         1.75525524]\n"
     ]
    },
    {
     "data": {
      "text/plain": [
       "array([0.22875575, 0.        , 0.        , 1.75525524])"
      ]
     },
     "execution_count": 345,
     "metadata": {},
     "output_type": "execute_result"
    }
   ],
   "source": [
    "# Start with the result of that optimization, but now also tune alpha.\n",
    "x0=[0.1,0.01,0.01,1.8]\n",
    "def cb(xk):\n",
    "    print(\"Iteration: \",xk)\n",
    "def cost(theta):\n",
    "    theta,alpha=theta[:-1],theta[-1]\n",
    "    lp=log_posterior(theta,alpha=alpha)\n",
    "    print(\"log posterior %20f  for theta=%s alpha=%.4f\"%(lp,theta,alpha))\n",
    "    return (-lp).clip(-1000,20000)\n",
    "result=minimize(cost,x0,bounds=[(0,1),(0,1),(0,1),(1,3.4)],\n",
    "                callback=cb,options=dict(disp=True))\n",
    "result.x # [0.22875575, 0.        , 0.        , 1.75525524]"
   ]
  },
  {
   "cell_type": "code",
   "execution_count": 391,
   "metadata": {},
   "outputs": [
    {
     "name": "stdout",
     "output_type": "stream",
     "text": [
      "log posterior          -331.616619  for theta=[0.2 1. ] alpha=1.7500 scale=1.000\n",
      "log posterior          -331.616618  for theta=[0.20000001 1.        ] alpha=1.7500 scale=1.000\n",
      "log posterior          -331.616619  for theta=[0.2        1.00000001] alpha=1.7500 scale=1.000\n",
      "log posterior         -5809.591233  for theta=[1.   0.01] alpha=1.7500 scale=0.010\n",
      "log posterior         -5809.591190  for theta=[0.99999999 0.01      ] alpha=1.7500 scale=0.010\n",
      "log posterior         -5809.587567  for theta=[1.         0.01000001] alpha=1.7500 scale=0.010\n",
      "log posterior          -357.981151  for theta=[0.46317648 0.6743191 ] alpha=1.7500 scale=0.674\n",
      "log posterior          -357.981152  for theta=[0.46317649 0.6743191 ] alpha=1.7500 scale=0.674\n",
      "log posterior          -357.981150  for theta=[0.46317648 0.67431911] alpha=1.7500 scale=0.674\n",
      "log posterior          -331.409559  for theta=[0.22367498 0.97070221] alpha=1.7500 scale=0.971\n",
      "log posterior          -331.409559  for theta=[0.22367499 0.97070221] alpha=1.7500 scale=0.971\n",
      "log posterior          -331.409559  for theta=[0.22367498 0.97070222] alpha=1.7500 scale=0.971\n",
      "Iteration:  [0.22367498 0.97070221]\n",
      "log posterior          -331.398922  for theta=[0.22116789 0.97814099] alpha=1.7500 scale=0.978\n",
      "log posterior          -331.398922  for theta=[0.2211679  0.97814099] alpha=1.7500 scale=0.978\n",
      "log posterior          -331.398922  for theta=[0.22116789 0.978141  ] alpha=1.7500 scale=0.978\n",
      "Iteration:  [0.22116789 0.97814099]\n",
      "log posterior          -331.391196  for theta=[0.22121182 0.98609264] alpha=1.7500 scale=0.986\n",
      "log posterior          -331.391196  for theta=[0.22121183 0.98609264] alpha=1.7500 scale=0.986\n",
      "log posterior          -331.391196  for theta=[0.22121182 0.98609265] alpha=1.7500 scale=0.986\n",
      "Iteration:  [0.22121182 0.98609264]\n",
      "log posterior          -331.356760  for theta=[0.22585101 1.0261648 ] alpha=1.7500 scale=1.026\n",
      "log posterior          -331.356760  for theta=[0.22585102 1.0261648 ] alpha=1.7500 scale=1.026\n",
      "log posterior          -331.356760  for theta=[0.22585101 1.02616481] alpha=1.7500 scale=1.026\n",
      "Iteration:  [0.22585101 1.0261648 ]\n",
      "log posterior          -331.286554  for theta=[0.24193415 1.11717717] alpha=1.7500 scale=1.117\n",
      "log posterior          -331.286554  for theta=[0.24193416 1.11717717] alpha=1.7500 scale=1.117\n",
      "log posterior          -331.286554  for theta=[0.24193415 1.11717718] alpha=1.7500 scale=1.117\n",
      "Iteration:  [0.24193415 1.11717717]\n",
      "log posterior          -331.147519  for theta=[0.28598693 1.32667109] alpha=1.7500 scale=1.327\n",
      "log posterior          -331.147519  for theta=[0.28598694 1.32667109] alpha=1.7500 scale=1.327\n",
      "log posterior          -331.147519  for theta=[0.28598693 1.3266711 ] alpha=1.7500 scale=1.327\n",
      "Iteration:  [0.28598693 1.32667109]\n",
      "log posterior          -330.953813  for theta=[0.36626156 1.64139765] alpha=1.7500 scale=1.641\n",
      "log posterior          -330.953813  for theta=[0.36626157 1.64139765] alpha=1.7500 scale=1.641\n",
      "log posterior          -330.953813  for theta=[0.36626156 1.64139766] alpha=1.7500 scale=1.641\n",
      "Iteration:  [0.36626156 1.64139765]\n",
      "log posterior          -330.866956  for theta=[0.44028983 1.92313983] alpha=1.7500 scale=1.923\n",
      "log posterior          -330.866956  for theta=[0.44028984 1.92313983] alpha=1.7500 scale=1.923\n",
      "log posterior          -330.866956  for theta=[0.44028983 1.92313984] alpha=1.7500 scale=1.923\n",
      "Iteration:  [0.44028983 1.92313983]\n",
      "log posterior          -330.845282  for theta=[0.48700248 2.09370512] alpha=1.7500 scale=2.094\n",
      "log posterior          -330.845282  for theta=[0.48700249 2.09370512] alpha=1.7500 scale=2.094\n",
      "log posterior          -330.845282  for theta=[0.48700248 2.09370513] alpha=1.7500 scale=2.094\n",
      "Iteration:  [0.48700248 2.09370512]\n",
      "log posterior          -330.842397  for theta=[0.50075629 2.13708308] alpha=1.7500 scale=2.137\n",
      "log posterior          -330.842397  for theta=[0.5007563  2.13708308] alpha=1.7500 scale=2.137\n",
      "log posterior          -330.842397  for theta=[0.50075629 2.13708309] alpha=1.7500 scale=2.137\n",
      "Iteration:  [0.50075629 2.13708308]\n",
      "log posterior          -330.841239  for theta=[0.50384179 2.13886329] alpha=1.7500 scale=2.139\n",
      "log posterior          -330.841239  for theta=[0.5038418  2.13886329] alpha=1.7500 scale=2.139\n",
      "log posterior          -330.841239  for theta=[0.50384179 2.1388633 ] alpha=1.7500 scale=2.139\n",
      "Iteration:  [0.50384179 2.13886329]\n",
      "log posterior          -330.840621  for theta=[0.50119291 2.11840704] alpha=1.7500 scale=2.118\n",
      "log posterior          -330.840621  for theta=[0.50119292 2.11840704] alpha=1.7500 scale=2.118\n",
      "log posterior          -330.840621  for theta=[0.50119291 2.11840705] alpha=1.7500 scale=2.118\n",
      "Iteration:  [0.50119291 2.11840704]\n",
      "log posterior          -330.840537  for theta=[0.49804384 2.10412218] alpha=1.7500 scale=2.104\n",
      "log posterior          -330.840537  for theta=[0.49804385 2.10412218] alpha=1.7500 scale=2.104\n",
      "log posterior          -330.840537  for theta=[0.49804384 2.10412219] alpha=1.7500 scale=2.104\n",
      "Iteration:  [0.49804384 2.10412218]\n",
      "log posterior          -330.840532  for theta=[0.49684933 2.10030701] alpha=1.7500 scale=2.100\n",
      "log posterior          -330.840532  for theta=[0.49684934 2.10030701] alpha=1.7500 scale=2.100\n",
      "log posterior          -330.840532  for theta=[0.49684933 2.10030702] alpha=1.7500 scale=2.100\n",
      "Iteration:  [0.49684933 2.10030701]\n",
      "log posterior          -330.840531  for theta=[0.49705404 2.10067365] alpha=1.7500 scale=2.101\n",
      "log posterior          -330.840531  for theta=[0.49705405 2.10067365] alpha=1.7500 scale=2.101\n",
      "log posterior          -330.840531  for theta=[0.49705404 2.10067366] alpha=1.7500 scale=2.101\n",
      "Iteration:  [0.49705404 2.10067365]\n",
      "log posterior          -330.840531  for theta=[0.4970386  2.10060915] alpha=1.7500 scale=2.101\n",
      "log posterior          -330.840531  for theta=[0.49703861 2.10060915] alpha=1.7500 scale=2.101\n",
      "log posterior          -330.840531  for theta=[0.4970386  2.10060916] alpha=1.7500 scale=2.101\n",
      "log posterior          -330.840531  for theta=[0.49704642 2.10064182] alpha=1.7500 scale=2.101\n",
      "log posterior          -330.840531  for theta=[0.49704643 2.10064182] alpha=1.7500 scale=2.101\n",
      "log posterior          -330.840531  for theta=[0.49704642 2.10064183] alpha=1.7500 scale=2.101\n",
      "Iteration:  [0.49704642 2.10064182]\n"
     ]
    },
    {
     "data": {
      "text/plain": [
       "array([0.49704642, 2.10064182])"
      ]
     },
     "execution_count": 391,
     "metadata": {},
     "output_type": "execute_result"
    }
   ],
   "source": [
    "# Extend one more time to get a global scaling, as an initial\n",
    "# test of fitting catch efficiency.\n",
    "# First go that tries to bump scale *up* and offset it\n",
    "# with more beaching.\n",
    "# Try again with a more generous upper bound on scale,\n",
    "# and drop the decay and depo terms which seem not to matter\n",
    "x0=[0.2,1.0]\n",
    "def cb(xk):\n",
    "    print(\"Iteration: \",xk)\n",
    "def cost(theta):\n",
    "    #beach,depo,decay,alpha,scale=theta\n",
    "    beach,scale=theta\n",
    "    depo=0 ; decay=0 ; alpha=1.75\n",
    "    lp=log_posterior([beach,depo,decay,scale],alpha=alpha)\n",
    "    print(\"log posterior %20f  for theta=%s alpha=%.4f scale=%.3f\"%(lp,theta,alpha,scale))\n",
    "    return np.clip(-lp,-1000,20000)\n",
    "result=minimize(cost,x0,bounds=[(0,1),(0.01,10.0)],\n",
    "                callback=cb,options=dict(disp=True))\n",
    "result.x"
   ]
  },
  {
   "cell_type": "code",
   "execution_count": 392,
   "metadata": {},
   "outputs": [
    {
     "name": "stdout",
     "output_type": "stream",
     "text": [
      "log posterior          -339.320886  for theta=[0.2] alpha=1.7500 scale=0.500\n",
      "log posterior          -339.320887  for theta=[0.20000001] alpha=1.7500 scale=0.500\n",
      "log posterior          -377.514246  for theta=[0.] alpha=1.7500 scale=0.500\n",
      "log posterior          -377.514206  for theta=[1.e-08] alpha=1.7500 scale=0.500\n",
      "log posterior          -332.990573  for theta=[0.1188777] alpha=1.7500 scale=0.500\n",
      "log posterior          -332.990574  for theta=[0.11887771] alpha=1.7500 scale=0.500\n",
      "Iteration:  [0.1188777]\n",
      "log posterior          -332.978644  for theta=[0.09149391] alpha=1.7500 scale=0.500\n",
      "log posterior          -332.978644  for theta=[0.09149392] alpha=1.7500 scale=0.500\n",
      "log posterior          -332.780239  for theta=[0.10606222] alpha=1.7500 scale=0.500\n",
      "log posterior          -332.780239  for theta=[0.10606223] alpha=1.7500 scale=0.500\n",
      "Iteration:  [0.10606222]\n",
      "log posterior          -332.777435  for theta=[0.10424979] alpha=1.7500 scale=0.500\n",
      "log posterior          -332.777435  for theta=[0.1042498] alpha=1.7500 scale=0.500\n",
      "Iteration:  [0.10424979]\n",
      "log posterior          -332.777390  for theta=[0.10445502] alpha=1.7500 scale=0.500\n",
      "log posterior          -332.777390  for theta=[0.10445503] alpha=1.7500 scale=0.500\n",
      "Iteration:  [0.10445502]\n",
      "log posterior          -332.777390  for theta=[0.10445219] alpha=1.7500 scale=0.500\n",
      "log posterior          -332.777390  for theta=[0.1044522] alpha=1.7500 scale=0.500\n",
      "Iteration:  [0.10445219]\n"
     ]
    },
    {
     "data": {
      "text/plain": [
       "array([0.10445219])"
      ]
     },
     "execution_count": 392,
     "metadata": {},
     "output_type": "execute_result"
    }
   ],
   "source": [
    "# Now force scale to something I like, and see what beaching comes\n",
    "# out,then we'll plot how things vary betwen these two.\n",
    "x0=[0.2]\n",
    "def cb(xk):\n",
    "    print(\"Iteration: \",xk)\n",
    "def cost(theta):\n",
    "    #beach,depo,decay,alpha,scale=theta\n",
    "    beach=theta[0]\n",
    "    scale=0.5\n",
    "    depo=0 ; decay=0 ; alpha=1.75\n",
    "    lp=log_posterior([beach,depo,decay,scale],alpha=alpha)\n",
    "    print(\"log posterior %20f  for theta=%s alpha=%.4f scale=%.3f\"%(lp,theta,alpha,scale))\n",
    "    return np.clip(-lp,-1000,20000)\n",
    "result=minimize(cost,x0,bounds=[(0,1)],\n",
    "                callback=cb,options=dict(disp=True))\n",
    "result.x"
   ]
  },
  {
   "cell_type": "code",
   "execution_count": 395,
   "metadata": {},
   "outputs": [],
   "source": [
    "# Get the actual predictions for those two parameter sets:\n",
    "dfA=predict_mantas_fast(decay_rate=0.0,\n",
    "                        beach_rate=0.10445219,\n",
    "                        depo_rate=0.0)\n",
    "dfA['C_model']*=0.5 # scale\n",
    "\n",
    "dfB=predict_mantas_fast(decay_rate=0.0,\n",
    "                        beach_rate=0.49704642,\n",
    "                        depo_rate=0.0)\n",
    "dfB['C_model']*=2.10064182 # scale"
   ]
  },
  {
   "cell_type": "code",
   "execution_count": 396,
   "metadata": {},
   "outputs": [
    {
     "data": {
      "application/javascript": [
       "/* Put everything inside the global mpl namespace */\n",
       "/* global mpl */\n",
       "window.mpl = {};\n",
       "\n",
       "mpl.get_websocket_type = function () {\n",
       "    if (typeof WebSocket !== 'undefined') {\n",
       "        return WebSocket;\n",
       "    } else if (typeof MozWebSocket !== 'undefined') {\n",
       "        return MozWebSocket;\n",
       "    } else {\n",
       "        alert(\n",
       "            'Your browser does not have WebSocket support. ' +\n",
       "                'Please try Chrome, Safari or Firefox ≥ 6. ' +\n",
       "                'Firefox 4 and 5 are also supported but you ' +\n",
       "                'have to enable WebSockets in about:config.'\n",
       "        );\n",
       "    }\n",
       "};\n",
       "\n",
       "mpl.figure = function (figure_id, websocket, ondownload, parent_element) {\n",
       "    this.id = figure_id;\n",
       "\n",
       "    this.ws = websocket;\n",
       "\n",
       "    this.supports_binary = this.ws.binaryType !== undefined;\n",
       "\n",
       "    if (!this.supports_binary) {\n",
       "        var warnings = document.getElementById('mpl-warnings');\n",
       "        if (warnings) {\n",
       "            warnings.style.display = 'block';\n",
       "            warnings.textContent =\n",
       "                'This browser does not support binary websocket messages. ' +\n",
       "                'Performance may be slow.';\n",
       "        }\n",
       "    }\n",
       "\n",
       "    this.imageObj = new Image();\n",
       "\n",
       "    this.context = undefined;\n",
       "    this.message = undefined;\n",
       "    this.canvas = undefined;\n",
       "    this.rubberband_canvas = undefined;\n",
       "    this.rubberband_context = undefined;\n",
       "    this.format_dropdown = undefined;\n",
       "\n",
       "    this.image_mode = 'full';\n",
       "\n",
       "    this.root = document.createElement('div');\n",
       "    this.root.setAttribute('style', 'display: inline-block');\n",
       "    this._root_extra_style(this.root);\n",
       "\n",
       "    parent_element.appendChild(this.root);\n",
       "\n",
       "    this._init_header(this);\n",
       "    this._init_canvas(this);\n",
       "    this._init_toolbar(this);\n",
       "\n",
       "    var fig = this;\n",
       "\n",
       "    this.waiting = false;\n",
       "\n",
       "    this.ws.onopen = function () {\n",
       "        fig.send_message('supports_binary', { value: fig.supports_binary });\n",
       "        fig.send_message('send_image_mode', {});\n",
       "        if (fig.ratio !== 1) {\n",
       "            fig.send_message('set_dpi_ratio', { dpi_ratio: fig.ratio });\n",
       "        }\n",
       "        fig.send_message('refresh', {});\n",
       "    };\n",
       "\n",
       "    this.imageObj.onload = function () {\n",
       "        if (fig.image_mode === 'full') {\n",
       "            // Full images could contain transparency (where diff images\n",
       "            // almost always do), so we need to clear the canvas so that\n",
       "            // there is no ghosting.\n",
       "            fig.context.clearRect(0, 0, fig.canvas.width, fig.canvas.height);\n",
       "        }\n",
       "        fig.context.drawImage(fig.imageObj, 0, 0);\n",
       "    };\n",
       "\n",
       "    this.imageObj.onunload = function () {\n",
       "        fig.ws.close();\n",
       "    };\n",
       "\n",
       "    this.ws.onmessage = this._make_on_message_function(this);\n",
       "\n",
       "    this.ondownload = ondownload;\n",
       "};\n",
       "\n",
       "mpl.figure.prototype._init_header = function () {\n",
       "    var titlebar = document.createElement('div');\n",
       "    titlebar.classList =\n",
       "        'ui-dialog-titlebar ui-widget-header ui-corner-all ui-helper-clearfix';\n",
       "    var titletext = document.createElement('div');\n",
       "    titletext.classList = 'ui-dialog-title';\n",
       "    titletext.setAttribute(\n",
       "        'style',\n",
       "        'width: 100%; text-align: center; padding: 3px;'\n",
       "    );\n",
       "    titlebar.appendChild(titletext);\n",
       "    this.root.appendChild(titlebar);\n",
       "    this.header = titletext;\n",
       "};\n",
       "\n",
       "mpl.figure.prototype._canvas_extra_style = function (_canvas_div) {};\n",
       "\n",
       "mpl.figure.prototype._root_extra_style = function (_canvas_div) {};\n",
       "\n",
       "mpl.figure.prototype._init_canvas = function () {\n",
       "    var fig = this;\n",
       "\n",
       "    var canvas_div = (this.canvas_div = document.createElement('div'));\n",
       "    canvas_div.setAttribute(\n",
       "        'style',\n",
       "        'border: 1px solid #ddd;' +\n",
       "            'box-sizing: content-box;' +\n",
       "            'clear: both;' +\n",
       "            'min-height: 1px;' +\n",
       "            'min-width: 1px;' +\n",
       "            'outline: 0;' +\n",
       "            'overflow: hidden;' +\n",
       "            'position: relative;' +\n",
       "            'resize: both;'\n",
       "    );\n",
       "\n",
       "    function on_keyboard_event_closure(name) {\n",
       "        return function (event) {\n",
       "            return fig.key_event(event, name);\n",
       "        };\n",
       "    }\n",
       "\n",
       "    canvas_div.addEventListener(\n",
       "        'keydown',\n",
       "        on_keyboard_event_closure('key_press')\n",
       "    );\n",
       "    canvas_div.addEventListener(\n",
       "        'keyup',\n",
       "        on_keyboard_event_closure('key_release')\n",
       "    );\n",
       "\n",
       "    this._canvas_extra_style(canvas_div);\n",
       "    this.root.appendChild(canvas_div);\n",
       "\n",
       "    var canvas = (this.canvas = document.createElement('canvas'));\n",
       "    canvas.classList.add('mpl-canvas');\n",
       "    canvas.setAttribute('style', 'box-sizing: content-box;');\n",
       "\n",
       "    this.context = canvas.getContext('2d');\n",
       "\n",
       "    var backingStore =\n",
       "        this.context.backingStorePixelRatio ||\n",
       "        this.context.webkitBackingStorePixelRatio ||\n",
       "        this.context.mozBackingStorePixelRatio ||\n",
       "        this.context.msBackingStorePixelRatio ||\n",
       "        this.context.oBackingStorePixelRatio ||\n",
       "        this.context.backingStorePixelRatio ||\n",
       "        1;\n",
       "\n",
       "    this.ratio = (window.devicePixelRatio || 1) / backingStore;\n",
       "    if (this.ratio !== 1) {\n",
       "        fig.send_message('set_dpi_ratio', { dpi_ratio: this.ratio });\n",
       "    }\n",
       "\n",
       "    var rubberband_canvas = (this.rubberband_canvas = document.createElement(\n",
       "        'canvas'\n",
       "    ));\n",
       "    rubberband_canvas.setAttribute(\n",
       "        'style',\n",
       "        'box-sizing: content-box; position: absolute; left: 0; top: 0; z-index: 1;'\n",
       "    );\n",
       "\n",
       "    // Apply a ponyfill if ResizeObserver is not implemented by browser.\n",
       "    if (this.ResizeObserver === undefined) {\n",
       "        if (window.ResizeObserver !== undefined) {\n",
       "            this.ResizeObserver = window.ResizeObserver;\n",
       "        } else {\n",
       "            var obs = _JSXTOOLS_RESIZE_OBSERVER({});\n",
       "            this.ResizeObserver = obs.ResizeObserver;\n",
       "        }\n",
       "    }\n",
       "\n",
       "    this.resizeObserverInstance = new this.ResizeObserver(function (entries) {\n",
       "        var nentries = entries.length;\n",
       "        for (var i = 0; i < nentries; i++) {\n",
       "            var entry = entries[i];\n",
       "            var width, height;\n",
       "            if (entry.contentBoxSize) {\n",
       "                if (entry.contentBoxSize instanceof Array) {\n",
       "                    // Chrome 84 implements new version of spec.\n",
       "                    width = entry.contentBoxSize[0].inlineSize;\n",
       "                    height = entry.contentBoxSize[0].blockSize;\n",
       "                } else {\n",
       "                    // Firefox implements old version of spec.\n",
       "                    width = entry.contentBoxSize.inlineSize;\n",
       "                    height = entry.contentBoxSize.blockSize;\n",
       "                }\n",
       "            } else {\n",
       "                // Chrome <84 implements even older version of spec.\n",
       "                width = entry.contentRect.width;\n",
       "                height = entry.contentRect.height;\n",
       "            }\n",
       "\n",
       "            // Keep the size of the canvas and rubber band canvas in sync with\n",
       "            // the canvas container.\n",
       "            if (entry.devicePixelContentBoxSize) {\n",
       "                // Chrome 84 implements new version of spec.\n",
       "                canvas.setAttribute(\n",
       "                    'width',\n",
       "                    entry.devicePixelContentBoxSize[0].inlineSize\n",
       "                );\n",
       "                canvas.setAttribute(\n",
       "                    'height',\n",
       "                    entry.devicePixelContentBoxSize[0].blockSize\n",
       "                );\n",
       "            } else {\n",
       "                canvas.setAttribute('width', width * fig.ratio);\n",
       "                canvas.setAttribute('height', height * fig.ratio);\n",
       "            }\n",
       "            canvas.setAttribute(\n",
       "                'style',\n",
       "                'width: ' + width + 'px; height: ' + height + 'px;'\n",
       "            );\n",
       "\n",
       "            rubberband_canvas.setAttribute('width', width);\n",
       "            rubberband_canvas.setAttribute('height', height);\n",
       "\n",
       "            // And update the size in Python. We ignore the initial 0/0 size\n",
       "            // that occurs as the element is placed into the DOM, which should\n",
       "            // otherwise not happen due to the minimum size styling.\n",
       "            if (width != 0 && height != 0) {\n",
       "                fig.request_resize(width, height);\n",
       "            }\n",
       "        }\n",
       "    });\n",
       "    this.resizeObserverInstance.observe(canvas_div);\n",
       "\n",
       "    function on_mouse_event_closure(name) {\n",
       "        return function (event) {\n",
       "            return fig.mouse_event(event, name);\n",
       "        };\n",
       "    }\n",
       "\n",
       "    rubberband_canvas.addEventListener(\n",
       "        'mousedown',\n",
       "        on_mouse_event_closure('button_press')\n",
       "    );\n",
       "    rubberband_canvas.addEventListener(\n",
       "        'mouseup',\n",
       "        on_mouse_event_closure('button_release')\n",
       "    );\n",
       "    // Throttle sequential mouse events to 1 every 20ms.\n",
       "    rubberband_canvas.addEventListener(\n",
       "        'mousemove',\n",
       "        on_mouse_event_closure('motion_notify')\n",
       "    );\n",
       "\n",
       "    rubberband_canvas.addEventListener(\n",
       "        'mouseenter',\n",
       "        on_mouse_event_closure('figure_enter')\n",
       "    );\n",
       "    rubberband_canvas.addEventListener(\n",
       "        'mouseleave',\n",
       "        on_mouse_event_closure('figure_leave')\n",
       "    );\n",
       "\n",
       "    canvas_div.addEventListener('wheel', function (event) {\n",
       "        if (event.deltaY < 0) {\n",
       "            event.step = 1;\n",
       "        } else {\n",
       "            event.step = -1;\n",
       "        }\n",
       "        on_mouse_event_closure('scroll')(event);\n",
       "    });\n",
       "\n",
       "    canvas_div.appendChild(canvas);\n",
       "    canvas_div.appendChild(rubberband_canvas);\n",
       "\n",
       "    this.rubberband_context = rubberband_canvas.getContext('2d');\n",
       "    this.rubberband_context.strokeStyle = '#000000';\n",
       "\n",
       "    this._resize_canvas = function (width, height, forward) {\n",
       "        if (forward) {\n",
       "            canvas_div.style.width = width + 'px';\n",
       "            canvas_div.style.height = height + 'px';\n",
       "        }\n",
       "    };\n",
       "\n",
       "    // Disable right mouse context menu.\n",
       "    this.rubberband_canvas.addEventListener('contextmenu', function (_e) {\n",
       "        event.preventDefault();\n",
       "        return false;\n",
       "    });\n",
       "\n",
       "    function set_focus() {\n",
       "        canvas.focus();\n",
       "        canvas_div.focus();\n",
       "    }\n",
       "\n",
       "    window.setTimeout(set_focus, 100);\n",
       "};\n",
       "\n",
       "mpl.figure.prototype._init_toolbar = function () {\n",
       "    var fig = this;\n",
       "\n",
       "    var toolbar = document.createElement('div');\n",
       "    toolbar.classList = 'mpl-toolbar';\n",
       "    this.root.appendChild(toolbar);\n",
       "\n",
       "    function on_click_closure(name) {\n",
       "        return function (_event) {\n",
       "            return fig.toolbar_button_onclick(name);\n",
       "        };\n",
       "    }\n",
       "\n",
       "    function on_mouseover_closure(tooltip) {\n",
       "        return function (event) {\n",
       "            if (!event.currentTarget.disabled) {\n",
       "                return fig.toolbar_button_onmouseover(tooltip);\n",
       "            }\n",
       "        };\n",
       "    }\n",
       "\n",
       "    fig.buttons = {};\n",
       "    var buttonGroup = document.createElement('div');\n",
       "    buttonGroup.classList = 'mpl-button-group';\n",
       "    for (var toolbar_ind in mpl.toolbar_items) {\n",
       "        var name = mpl.toolbar_items[toolbar_ind][0];\n",
       "        var tooltip = mpl.toolbar_items[toolbar_ind][1];\n",
       "        var image = mpl.toolbar_items[toolbar_ind][2];\n",
       "        var method_name = mpl.toolbar_items[toolbar_ind][3];\n",
       "\n",
       "        if (!name) {\n",
       "            /* Instead of a spacer, we start a new button group. */\n",
       "            if (buttonGroup.hasChildNodes()) {\n",
       "                toolbar.appendChild(buttonGroup);\n",
       "            }\n",
       "            buttonGroup = document.createElement('div');\n",
       "            buttonGroup.classList = 'mpl-button-group';\n",
       "            continue;\n",
       "        }\n",
       "\n",
       "        var button = (fig.buttons[name] = document.createElement('button'));\n",
       "        button.classList = 'mpl-widget';\n",
       "        button.setAttribute('role', 'button');\n",
       "        button.setAttribute('aria-disabled', 'false');\n",
       "        button.addEventListener('click', on_click_closure(method_name));\n",
       "        button.addEventListener('mouseover', on_mouseover_closure(tooltip));\n",
       "\n",
       "        var icon_img = document.createElement('img');\n",
       "        icon_img.src = '_images/' + image + '.png';\n",
       "        icon_img.srcset = '_images/' + image + '_large.png 2x';\n",
       "        icon_img.alt = tooltip;\n",
       "        button.appendChild(icon_img);\n",
       "\n",
       "        buttonGroup.appendChild(button);\n",
       "    }\n",
       "\n",
       "    if (buttonGroup.hasChildNodes()) {\n",
       "        toolbar.appendChild(buttonGroup);\n",
       "    }\n",
       "\n",
       "    var fmt_picker = document.createElement('select');\n",
       "    fmt_picker.classList = 'mpl-widget';\n",
       "    toolbar.appendChild(fmt_picker);\n",
       "    this.format_dropdown = fmt_picker;\n",
       "\n",
       "    for (var ind in mpl.extensions) {\n",
       "        var fmt = mpl.extensions[ind];\n",
       "        var option = document.createElement('option');\n",
       "        option.selected = fmt === mpl.default_extension;\n",
       "        option.innerHTML = fmt;\n",
       "        fmt_picker.appendChild(option);\n",
       "    }\n",
       "\n",
       "    var status_bar = document.createElement('span');\n",
       "    status_bar.classList = 'mpl-message';\n",
       "    toolbar.appendChild(status_bar);\n",
       "    this.message = status_bar;\n",
       "};\n",
       "\n",
       "mpl.figure.prototype.request_resize = function (x_pixels, y_pixels) {\n",
       "    // Request matplotlib to resize the figure. Matplotlib will then trigger a resize in the client,\n",
       "    // which will in turn request a refresh of the image.\n",
       "    this.send_message('resize', { width: x_pixels, height: y_pixels });\n",
       "};\n",
       "\n",
       "mpl.figure.prototype.send_message = function (type, properties) {\n",
       "    properties['type'] = type;\n",
       "    properties['figure_id'] = this.id;\n",
       "    this.ws.send(JSON.stringify(properties));\n",
       "};\n",
       "\n",
       "mpl.figure.prototype.send_draw_message = function () {\n",
       "    if (!this.waiting) {\n",
       "        this.waiting = true;\n",
       "        this.ws.send(JSON.stringify({ type: 'draw', figure_id: this.id }));\n",
       "    }\n",
       "};\n",
       "\n",
       "mpl.figure.prototype.handle_save = function (fig, _msg) {\n",
       "    var format_dropdown = fig.format_dropdown;\n",
       "    var format = format_dropdown.options[format_dropdown.selectedIndex].value;\n",
       "    fig.ondownload(fig, format);\n",
       "};\n",
       "\n",
       "mpl.figure.prototype.handle_resize = function (fig, msg) {\n",
       "    var size = msg['size'];\n",
       "    if (size[0] !== fig.canvas.width || size[1] !== fig.canvas.height) {\n",
       "        fig._resize_canvas(size[0], size[1], msg['forward']);\n",
       "        fig.send_message('refresh', {});\n",
       "    }\n",
       "};\n",
       "\n",
       "mpl.figure.prototype.handle_rubberband = function (fig, msg) {\n",
       "    var x0 = msg['x0'] / fig.ratio;\n",
       "    var y0 = (fig.canvas.height - msg['y0']) / fig.ratio;\n",
       "    var x1 = msg['x1'] / fig.ratio;\n",
       "    var y1 = (fig.canvas.height - msg['y1']) / fig.ratio;\n",
       "    x0 = Math.floor(x0) + 0.5;\n",
       "    y0 = Math.floor(y0) + 0.5;\n",
       "    x1 = Math.floor(x1) + 0.5;\n",
       "    y1 = Math.floor(y1) + 0.5;\n",
       "    var min_x = Math.min(x0, x1);\n",
       "    var min_y = Math.min(y0, y1);\n",
       "    var width = Math.abs(x1 - x0);\n",
       "    var height = Math.abs(y1 - y0);\n",
       "\n",
       "    fig.rubberband_context.clearRect(\n",
       "        0,\n",
       "        0,\n",
       "        fig.canvas.width / fig.ratio,\n",
       "        fig.canvas.height / fig.ratio\n",
       "    );\n",
       "\n",
       "    fig.rubberband_context.strokeRect(min_x, min_y, width, height);\n",
       "};\n",
       "\n",
       "mpl.figure.prototype.handle_figure_label = function (fig, msg) {\n",
       "    // Updates the figure title.\n",
       "    fig.header.textContent = msg['label'];\n",
       "};\n",
       "\n",
       "mpl.figure.prototype.handle_cursor = function (fig, msg) {\n",
       "    var cursor = msg['cursor'];\n",
       "    switch (cursor) {\n",
       "        case 0:\n",
       "            cursor = 'pointer';\n",
       "            break;\n",
       "        case 1:\n",
       "            cursor = 'default';\n",
       "            break;\n",
       "        case 2:\n",
       "            cursor = 'crosshair';\n",
       "            break;\n",
       "        case 3:\n",
       "            cursor = 'move';\n",
       "            break;\n",
       "    }\n",
       "    fig.rubberband_canvas.style.cursor = cursor;\n",
       "};\n",
       "\n",
       "mpl.figure.prototype.handle_message = function (fig, msg) {\n",
       "    fig.message.textContent = msg['message'];\n",
       "};\n",
       "\n",
       "mpl.figure.prototype.handle_draw = function (fig, _msg) {\n",
       "    // Request the server to send over a new figure.\n",
       "    fig.send_draw_message();\n",
       "};\n",
       "\n",
       "mpl.figure.prototype.handle_image_mode = function (fig, msg) {\n",
       "    fig.image_mode = msg['mode'];\n",
       "};\n",
       "\n",
       "mpl.figure.prototype.handle_history_buttons = function (fig, msg) {\n",
       "    for (var key in msg) {\n",
       "        if (!(key in fig.buttons)) {\n",
       "            continue;\n",
       "        }\n",
       "        fig.buttons[key].disabled = !msg[key];\n",
       "        fig.buttons[key].setAttribute('aria-disabled', !msg[key]);\n",
       "    }\n",
       "};\n",
       "\n",
       "mpl.figure.prototype.handle_navigate_mode = function (fig, msg) {\n",
       "    if (msg['mode'] === 'PAN') {\n",
       "        fig.buttons['Pan'].classList.add('active');\n",
       "        fig.buttons['Zoom'].classList.remove('active');\n",
       "    } else if (msg['mode'] === 'ZOOM') {\n",
       "        fig.buttons['Pan'].classList.remove('active');\n",
       "        fig.buttons['Zoom'].classList.add('active');\n",
       "    } else {\n",
       "        fig.buttons['Pan'].classList.remove('active');\n",
       "        fig.buttons['Zoom'].classList.remove('active');\n",
       "    }\n",
       "};\n",
       "\n",
       "mpl.figure.prototype.updated_canvas_event = function () {\n",
       "    // Called whenever the canvas gets updated.\n",
       "    this.send_message('ack', {});\n",
       "};\n",
       "\n",
       "// A function to construct a web socket function for onmessage handling.\n",
       "// Called in the figure constructor.\n",
       "mpl.figure.prototype._make_on_message_function = function (fig) {\n",
       "    return function socket_on_message(evt) {\n",
       "        if (evt.data instanceof Blob) {\n",
       "            /* FIXME: We get \"Resource interpreted as Image but\n",
       "             * transferred with MIME type text/plain:\" errors on\n",
       "             * Chrome.  But how to set the MIME type?  It doesn't seem\n",
       "             * to be part of the websocket stream */\n",
       "            evt.data.type = 'image/png';\n",
       "\n",
       "            /* Free the memory for the previous frames */\n",
       "            if (fig.imageObj.src) {\n",
       "                (window.URL || window.webkitURL).revokeObjectURL(\n",
       "                    fig.imageObj.src\n",
       "                );\n",
       "            }\n",
       "\n",
       "            fig.imageObj.src = (window.URL || window.webkitURL).createObjectURL(\n",
       "                evt.data\n",
       "            );\n",
       "            fig.updated_canvas_event();\n",
       "            fig.waiting = false;\n",
       "            return;\n",
       "        } else if (\n",
       "            typeof evt.data === 'string' &&\n",
       "            evt.data.slice(0, 21) === 'data:image/png;base64'\n",
       "        ) {\n",
       "            fig.imageObj.src = evt.data;\n",
       "            fig.updated_canvas_event();\n",
       "            fig.waiting = false;\n",
       "            return;\n",
       "        }\n",
       "\n",
       "        var msg = JSON.parse(evt.data);\n",
       "        var msg_type = msg['type'];\n",
       "\n",
       "        // Call the  \"handle_{type}\" callback, which takes\n",
       "        // the figure and JSON message as its only arguments.\n",
       "        try {\n",
       "            var callback = fig['handle_' + msg_type];\n",
       "        } catch (e) {\n",
       "            console.log(\n",
       "                \"No handler for the '\" + msg_type + \"' message type: \",\n",
       "                msg\n",
       "            );\n",
       "            return;\n",
       "        }\n",
       "\n",
       "        if (callback) {\n",
       "            try {\n",
       "                // console.log(\"Handling '\" + msg_type + \"' message: \", msg);\n",
       "                callback(fig, msg);\n",
       "            } catch (e) {\n",
       "                console.log(\n",
       "                    \"Exception inside the 'handler_\" + msg_type + \"' callback:\",\n",
       "                    e,\n",
       "                    e.stack,\n",
       "                    msg\n",
       "                );\n",
       "            }\n",
       "        }\n",
       "    };\n",
       "};\n",
       "\n",
       "// from http://stackoverflow.com/questions/1114465/getting-mouse-location-in-canvas\n",
       "mpl.findpos = function (e) {\n",
       "    //this section is from http://www.quirksmode.org/js/events_properties.html\n",
       "    var targ;\n",
       "    if (!e) {\n",
       "        e = window.event;\n",
       "    }\n",
       "    if (e.target) {\n",
       "        targ = e.target;\n",
       "    } else if (e.srcElement) {\n",
       "        targ = e.srcElement;\n",
       "    }\n",
       "    if (targ.nodeType === 3) {\n",
       "        // defeat Safari bug\n",
       "        targ = targ.parentNode;\n",
       "    }\n",
       "\n",
       "    // pageX,Y are the mouse positions relative to the document\n",
       "    var boundingRect = targ.getBoundingClientRect();\n",
       "    var x = e.pageX - (boundingRect.left + document.body.scrollLeft);\n",
       "    var y = e.pageY - (boundingRect.top + document.body.scrollTop);\n",
       "\n",
       "    return { x: x, y: y };\n",
       "};\n",
       "\n",
       "/*\n",
       " * return a copy of an object with only non-object keys\n",
       " * we need this to avoid circular references\n",
       " * http://stackoverflow.com/a/24161582/3208463\n",
       " */\n",
       "function simpleKeys(original) {\n",
       "    return Object.keys(original).reduce(function (obj, key) {\n",
       "        if (typeof original[key] !== 'object') {\n",
       "            obj[key] = original[key];\n",
       "        }\n",
       "        return obj;\n",
       "    }, {});\n",
       "}\n",
       "\n",
       "mpl.figure.prototype.mouse_event = function (event, name) {\n",
       "    var canvas_pos = mpl.findpos(event);\n",
       "\n",
       "    if (name === 'button_press') {\n",
       "        this.canvas.focus();\n",
       "        this.canvas_div.focus();\n",
       "    }\n",
       "\n",
       "    var x = canvas_pos.x * this.ratio;\n",
       "    var y = canvas_pos.y * this.ratio;\n",
       "\n",
       "    this.send_message(name, {\n",
       "        x: x,\n",
       "        y: y,\n",
       "        button: event.button,\n",
       "        step: event.step,\n",
       "        guiEvent: simpleKeys(event),\n",
       "    });\n",
       "\n",
       "    /* This prevents the web browser from automatically changing to\n",
       "     * the text insertion cursor when the button is pressed.  We want\n",
       "     * to control all of the cursor setting manually through the\n",
       "     * 'cursor' event from matplotlib */\n",
       "    event.preventDefault();\n",
       "    return false;\n",
       "};\n",
       "\n",
       "mpl.figure.prototype._key_event_extra = function (_event, _name) {\n",
       "    // Handle any extra behaviour associated with a key event\n",
       "};\n",
       "\n",
       "mpl.figure.prototype.key_event = function (event, name) {\n",
       "    // Prevent repeat events\n",
       "    if (name === 'key_press') {\n",
       "        if (event.which === this._key) {\n",
       "            return;\n",
       "        } else {\n",
       "            this._key = event.which;\n",
       "        }\n",
       "    }\n",
       "    if (name === 'key_release') {\n",
       "        this._key = null;\n",
       "    }\n",
       "\n",
       "    var value = '';\n",
       "    if (event.ctrlKey && event.which !== 17) {\n",
       "        value += 'ctrl+';\n",
       "    }\n",
       "    if (event.altKey && event.which !== 18) {\n",
       "        value += 'alt+';\n",
       "    }\n",
       "    if (event.shiftKey && event.which !== 16) {\n",
       "        value += 'shift+';\n",
       "    }\n",
       "\n",
       "    value += 'k';\n",
       "    value += event.which.toString();\n",
       "\n",
       "    this._key_event_extra(event, name);\n",
       "\n",
       "    this.send_message(name, { key: value, guiEvent: simpleKeys(event) });\n",
       "    return false;\n",
       "};\n",
       "\n",
       "mpl.figure.prototype.toolbar_button_onclick = function (name) {\n",
       "    if (name === 'download') {\n",
       "        this.handle_save(this, null);\n",
       "    } else {\n",
       "        this.send_message('toolbar_button', { name: name });\n",
       "    }\n",
       "};\n",
       "\n",
       "mpl.figure.prototype.toolbar_button_onmouseover = function (tooltip) {\n",
       "    this.message.textContent = tooltip;\n",
       "};\n",
       "\n",
       "///////////////// REMAINING CONTENT GENERATED BY embed_js.py /////////////////\n",
       "// prettier-ignore\n",
       "var _JSXTOOLS_RESIZE_OBSERVER=function(A){var t,i=new WeakMap,n=new WeakMap,a=new WeakMap,r=new WeakMap,o=new Set;function s(e){if(!(this instanceof s))throw new TypeError(\"Constructor requires 'new' operator\");i.set(this,e)}function h(){throw new TypeError(\"Function is not a constructor\")}function c(e,t,i,n){e=0 in arguments?Number(arguments[0]):0,t=1 in arguments?Number(arguments[1]):0,i=2 in arguments?Number(arguments[2]):0,n=3 in arguments?Number(arguments[3]):0,this.right=(this.x=this.left=e)+(this.width=i),this.bottom=(this.y=this.top=t)+(this.height=n),Object.freeze(this)}function d(){t=requestAnimationFrame(d);var s=new WeakMap,p=new Set;o.forEach((function(t){r.get(t).forEach((function(i){var r=t instanceof window.SVGElement,o=a.get(t),d=r?0:parseFloat(o.paddingTop),f=r?0:parseFloat(o.paddingRight),l=r?0:parseFloat(o.paddingBottom),u=r?0:parseFloat(o.paddingLeft),g=r?0:parseFloat(o.borderTopWidth),m=r?0:parseFloat(o.borderRightWidth),w=r?0:parseFloat(o.borderBottomWidth),b=u+f,F=d+l,v=(r?0:parseFloat(o.borderLeftWidth))+m,W=g+w,y=r?0:t.offsetHeight-W-t.clientHeight,E=r?0:t.offsetWidth-v-t.clientWidth,R=b+v,z=F+W,M=r?t.width:parseFloat(o.width)-R-E,O=r?t.height:parseFloat(o.height)-z-y;if(n.has(t)){var k=n.get(t);if(k[0]===M&&k[1]===O)return}n.set(t,[M,O]);var S=Object.create(h.prototype);S.target=t,S.contentRect=new c(u,d,M,O),s.has(i)||(s.set(i,[]),p.add(i)),s.get(i).push(S)}))})),p.forEach((function(e){i.get(e).call(e,s.get(e),e)}))}return s.prototype.observe=function(i){if(i instanceof window.Element){r.has(i)||(r.set(i,new Set),o.add(i),a.set(i,window.getComputedStyle(i)));var n=r.get(i);n.has(this)||n.add(this),cancelAnimationFrame(t),t=requestAnimationFrame(d)}},s.prototype.unobserve=function(i){if(i instanceof window.Element&&r.has(i)){var n=r.get(i);n.has(this)&&(n.delete(this),n.size||(r.delete(i),o.delete(i))),n.size||r.delete(i),o.size||cancelAnimationFrame(t)}},A.DOMRectReadOnly=c,A.ResizeObserver=s,A.ResizeObserverEntry=h,A}; // eslint-disable-line\n",
       "mpl.toolbar_items = [[\"Home\", \"Reset original view\", \"fa fa-home icon-home\", \"home\"], [\"Back\", \"Back to previous view\", \"fa fa-arrow-left icon-arrow-left\", \"back\"], [\"Forward\", \"Forward to next view\", \"fa fa-arrow-right icon-arrow-right\", \"forward\"], [\"\", \"\", \"\", \"\"], [\"Pan\", \"Left button pans, Right button zooms\\nx/y fixes axis, CTRL fixes aspect\", \"fa fa-arrows icon-move\", \"pan\"], [\"Zoom\", \"Zoom to rectangle\\nx/y fixes axis, CTRL fixes aspect\", \"fa fa-square-o icon-check-empty\", \"zoom\"], [\"\", \"\", \"\", \"\"], [\"Download\", \"Download plot\", \"fa fa-floppy-o icon-save\", \"download\"]];\n",
       "\n",
       "mpl.extensions = [\"eps\", \"jpeg\", \"pdf\", \"png\", \"ps\", \"raw\", \"svg\", \"tif\"];\n",
       "\n",
       "mpl.default_extension = \"png\";/* global mpl */\n",
       "\n",
       "var comm_websocket_adapter = function (comm) {\n",
       "    // Create a \"websocket\"-like object which calls the given IPython comm\n",
       "    // object with the appropriate methods. Currently this is a non binary\n",
       "    // socket, so there is still some room for performance tuning.\n",
       "    var ws = {};\n",
       "\n",
       "    ws.close = function () {\n",
       "        comm.close();\n",
       "    };\n",
       "    ws.send = function (m) {\n",
       "        //console.log('sending', m);\n",
       "        comm.send(m);\n",
       "    };\n",
       "    // Register the callback with on_msg.\n",
       "    comm.on_msg(function (msg) {\n",
       "        //console.log('receiving', msg['content']['data'], msg);\n",
       "        // Pass the mpl event to the overridden (by mpl) onmessage function.\n",
       "        ws.onmessage(msg['content']['data']);\n",
       "    });\n",
       "    return ws;\n",
       "};\n",
       "\n",
       "mpl.mpl_figure_comm = function (comm, msg) {\n",
       "    // This is the function which gets called when the mpl process\n",
       "    // starts-up an IPython Comm through the \"matplotlib\" channel.\n",
       "\n",
       "    var id = msg.content.data.id;\n",
       "    // Get hold of the div created by the display call when the Comm\n",
       "    // socket was opened in Python.\n",
       "    var element = document.getElementById(id);\n",
       "    var ws_proxy = comm_websocket_adapter(comm);\n",
       "\n",
       "    function ondownload(figure, _format) {\n",
       "        window.open(figure.canvas.toDataURL());\n",
       "    }\n",
       "\n",
       "    var fig = new mpl.figure(id, ws_proxy, ondownload, element);\n",
       "\n",
       "    // Call onopen now - mpl needs it, as it is assuming we've passed it a real\n",
       "    // web socket which is closed, not our websocket->open comm proxy.\n",
       "    ws_proxy.onopen();\n",
       "\n",
       "    fig.parent_element = element;\n",
       "    fig.cell_info = mpl.find_output_cell(\"<div id='\" + id + \"'></div>\");\n",
       "    if (!fig.cell_info) {\n",
       "        console.error('Failed to find cell for figure', id, fig);\n",
       "        return;\n",
       "    }\n",
       "    fig.cell_info[0].output_area.element.on(\n",
       "        'cleared',\n",
       "        { fig: fig },\n",
       "        fig._remove_fig_handler\n",
       "    );\n",
       "};\n",
       "\n",
       "mpl.figure.prototype.handle_close = function (fig, msg) {\n",
       "    var width = fig.canvas.width / fig.ratio;\n",
       "    fig.cell_info[0].output_area.element.off(\n",
       "        'cleared',\n",
       "        fig._remove_fig_handler\n",
       "    );\n",
       "    fig.resizeObserverInstance.unobserve(fig.canvas_div);\n",
       "\n",
       "    // Update the output cell to use the data from the current canvas.\n",
       "    fig.push_to_output();\n",
       "    var dataURL = fig.canvas.toDataURL();\n",
       "    // Re-enable the keyboard manager in IPython - without this line, in FF,\n",
       "    // the notebook keyboard shortcuts fail.\n",
       "    IPython.keyboard_manager.enable();\n",
       "    fig.parent_element.innerHTML =\n",
       "        '<img src=\"' + dataURL + '\" width=\"' + width + '\">';\n",
       "    fig.close_ws(fig, msg);\n",
       "};\n",
       "\n",
       "mpl.figure.prototype.close_ws = function (fig, msg) {\n",
       "    fig.send_message('closing', msg);\n",
       "    // fig.ws.close()\n",
       "};\n",
       "\n",
       "mpl.figure.prototype.push_to_output = function (_remove_interactive) {\n",
       "    // Turn the data on the canvas into data in the output cell.\n",
       "    var width = this.canvas.width / this.ratio;\n",
       "    var dataURL = this.canvas.toDataURL();\n",
       "    this.cell_info[1]['text/html'] =\n",
       "        '<img src=\"' + dataURL + '\" width=\"' + width + '\">';\n",
       "};\n",
       "\n",
       "mpl.figure.prototype.updated_canvas_event = function () {\n",
       "    // Tell IPython that the notebook contents must change.\n",
       "    IPython.notebook.set_dirty(true);\n",
       "    this.send_message('ack', {});\n",
       "    var fig = this;\n",
       "    // Wait a second, then push the new image to the DOM so\n",
       "    // that it is saved nicely (might be nice to debounce this).\n",
       "    setTimeout(function () {\n",
       "        fig.push_to_output();\n",
       "    }, 1000);\n",
       "};\n",
       "\n",
       "mpl.figure.prototype._init_toolbar = function () {\n",
       "    var fig = this;\n",
       "\n",
       "    var toolbar = document.createElement('div');\n",
       "    toolbar.classList = 'btn-toolbar';\n",
       "    this.root.appendChild(toolbar);\n",
       "\n",
       "    function on_click_closure(name) {\n",
       "        return function (_event) {\n",
       "            return fig.toolbar_button_onclick(name);\n",
       "        };\n",
       "    }\n",
       "\n",
       "    function on_mouseover_closure(tooltip) {\n",
       "        return function (event) {\n",
       "            if (!event.currentTarget.disabled) {\n",
       "                return fig.toolbar_button_onmouseover(tooltip);\n",
       "            }\n",
       "        };\n",
       "    }\n",
       "\n",
       "    fig.buttons = {};\n",
       "    var buttonGroup = document.createElement('div');\n",
       "    buttonGroup.classList = 'btn-group';\n",
       "    var button;\n",
       "    for (var toolbar_ind in mpl.toolbar_items) {\n",
       "        var name = mpl.toolbar_items[toolbar_ind][0];\n",
       "        var tooltip = mpl.toolbar_items[toolbar_ind][1];\n",
       "        var image = mpl.toolbar_items[toolbar_ind][2];\n",
       "        var method_name = mpl.toolbar_items[toolbar_ind][3];\n",
       "\n",
       "        if (!name) {\n",
       "            /* Instead of a spacer, we start a new button group. */\n",
       "            if (buttonGroup.hasChildNodes()) {\n",
       "                toolbar.appendChild(buttonGroup);\n",
       "            }\n",
       "            buttonGroup = document.createElement('div');\n",
       "            buttonGroup.classList = 'btn-group';\n",
       "            continue;\n",
       "        }\n",
       "\n",
       "        button = fig.buttons[name] = document.createElement('button');\n",
       "        button.classList = 'btn btn-default';\n",
       "        button.href = '#';\n",
       "        button.title = name;\n",
       "        button.innerHTML = '<i class=\"fa ' + image + ' fa-lg\"></i>';\n",
       "        button.addEventListener('click', on_click_closure(method_name));\n",
       "        button.addEventListener('mouseover', on_mouseover_closure(tooltip));\n",
       "        buttonGroup.appendChild(button);\n",
       "    }\n",
       "\n",
       "    if (buttonGroup.hasChildNodes()) {\n",
       "        toolbar.appendChild(buttonGroup);\n",
       "    }\n",
       "\n",
       "    // Add the status bar.\n",
       "    var status_bar = document.createElement('span');\n",
       "    status_bar.classList = 'mpl-message pull-right';\n",
       "    toolbar.appendChild(status_bar);\n",
       "    this.message = status_bar;\n",
       "\n",
       "    // Add the close button to the window.\n",
       "    var buttongrp = document.createElement('div');\n",
       "    buttongrp.classList = 'btn-group inline pull-right';\n",
       "    button = document.createElement('button');\n",
       "    button.classList = 'btn btn-mini btn-primary';\n",
       "    button.href = '#';\n",
       "    button.title = 'Stop Interaction';\n",
       "    button.innerHTML = '<i class=\"fa fa-power-off icon-remove icon-large\"></i>';\n",
       "    button.addEventListener('click', function (_evt) {\n",
       "        fig.handle_close(fig, {});\n",
       "    });\n",
       "    button.addEventListener(\n",
       "        'mouseover',\n",
       "        on_mouseover_closure('Stop Interaction')\n",
       "    );\n",
       "    buttongrp.appendChild(button);\n",
       "    var titlebar = this.root.querySelector('.ui-dialog-titlebar');\n",
       "    titlebar.insertBefore(buttongrp, titlebar.firstChild);\n",
       "};\n",
       "\n",
       "mpl.figure.prototype._remove_fig_handler = function (event) {\n",
       "    var fig = event.data.fig;\n",
       "    if (event.target !== this) {\n",
       "        // Ignore bubbled events from children.\n",
       "        return;\n",
       "    }\n",
       "    fig.close_ws(fig, {});\n",
       "};\n",
       "\n",
       "mpl.figure.prototype._root_extra_style = function (el) {\n",
       "    el.style.boxSizing = 'content-box'; // override notebook setting of border-box.\n",
       "};\n",
       "\n",
       "mpl.figure.prototype._canvas_extra_style = function (el) {\n",
       "    // this is important to make the div 'focusable\n",
       "    el.setAttribute('tabindex', 0);\n",
       "    // reach out to IPython and tell the keyboard manager to turn it's self\n",
       "    // off when our div gets focus\n",
       "\n",
       "    // location in version 3\n",
       "    if (IPython.notebook.keyboard_manager) {\n",
       "        IPython.notebook.keyboard_manager.register_events(el);\n",
       "    } else {\n",
       "        // location in version 2\n",
       "        IPython.keyboard_manager.register_events(el);\n",
       "    }\n",
       "};\n",
       "\n",
       "mpl.figure.prototype._key_event_extra = function (event, _name) {\n",
       "    var manager = IPython.notebook.keyboard_manager;\n",
       "    if (!manager) {\n",
       "        manager = IPython.keyboard_manager;\n",
       "    }\n",
       "\n",
       "    // Check for shift+enter\n",
       "    if (event.shiftKey && event.which === 13) {\n",
       "        this.canvas_div.blur();\n",
       "        // select the cell after this one\n",
       "        var index = IPython.notebook.find_cell_index(this.cell_info[0]);\n",
       "        IPython.notebook.select(index + 1);\n",
       "    }\n",
       "};\n",
       "\n",
       "mpl.figure.prototype.handle_save = function (fig, _msg) {\n",
       "    fig.ondownload(fig, null);\n",
       "};\n",
       "\n",
       "mpl.find_output_cell = function (html_output) {\n",
       "    // Return the cell and output element which can be found *uniquely* in the notebook.\n",
       "    // Note - this is a bit hacky, but it is done because the \"notebook_saving.Notebook\"\n",
       "    // IPython event is triggered only after the cells have been serialised, which for\n",
       "    // our purposes (turning an active figure into a static one), is too late.\n",
       "    var cells = IPython.notebook.get_cells();\n",
       "    var ncells = cells.length;\n",
       "    for (var i = 0; i < ncells; i++) {\n",
       "        var cell = cells[i];\n",
       "        if (cell.cell_type === 'code') {\n",
       "            for (var j = 0; j < cell.output_area.outputs.length; j++) {\n",
       "                var data = cell.output_area.outputs[j];\n",
       "                if (data.data) {\n",
       "                    // IPython >= 3 moved mimebundle to data attribute of output\n",
       "                    data = data.data;\n",
       "                }\n",
       "                if (data['text/html'] === html_output) {\n",
       "                    return [cell, data, j];\n",
       "                }\n",
       "            }\n",
       "        }\n",
       "    }\n",
       "};\n",
       "\n",
       "// Register the function which deals with the matplotlib target/channel.\n",
       "// The kernel may be null if the page has been refreshed.\n",
       "if (IPython.notebook.kernel !== null) {\n",
       "    IPython.notebook.kernel.comm_manager.register_target(\n",
       "        'matplotlib',\n",
       "        mpl.mpl_figure_comm\n",
       "    );\n",
       "}\n"
      ],
      "text/plain": [
       "<IPython.core.display.Javascript object>"
      ]
     },
     "metadata": {},
     "output_type": "display_data"
    },
    {
     "data": {
      "text/html": [
       "<img src=\"data:image/png;base64,iVBORw0KGgoAAAANSUhEUgAAAoAAAAHgCAYAAAA10dzkAAAAAXNSR0IArs4c6QAAIABJREFUeF7snQd4VHUWxc9MQiAJJPSegAgIoaig0kEQFVGBICiIFGl2gbUg6rqgUgQVVKQrVRFREKyIIghBlKpIb6GFXkJLn9nv/zAxITPJJHcm8/4z5+3nt7vy7n33/e45jzuvWux2ux1cSIAESIAESIAESIAE/IaAhQOg3/SaO0oCJEACJEACJEACBgEOgBQCCZAACZAACZAACfgZAQ6AftZw7i4JkAAJkAAJkAAJcACkBkiABEiABEiABEjAzwhwAPSzhnN3SYAESIAESIAESIADIDVAAiRAAiRAAiRAAn5GgAOgnzWcu0sCJEACJEACJEACHACpARIgARIgARIgARLwMwIcAP2s4dxdEiABEiABEiABEuAASA2QAAmQAAmQAAmQgJ8R4ADoZw3n7pIACZAACZAACZAAB0BqgARIgARIgARIgAT8jAAHQD9rOHeXBEiABEiABEiABDgAUgMkQAIkQAIkQAIk4GcEOAD6WcO5uyRAAiRAAiRAAiTAAZAaIAESIAESIAESIAE/I8AB0M8azt0lARIgARIgARIgAQ6A1AAJkAAJkAAJkAAJ+BkBDoB+1nDuLgmQAAmQAAmQAAlwAKQGSIAESIAESIAESMDPCHAA9LOGc3dJgARIgARIgARIgAMgNUACJEACJEACJEACfkaAA6CfNZy7SwIkQAIkQAIkQAIcAKkBEiABEiABEiABEvAzAhwA/azh3F0SIAESIAESIAES4ABIDZAACZAACZAACZCAnxHgAOhnDefukgAJkAAJkAAJkAAHQGqABEiABEiABEiABPyMAAdAP2s4d5cESIAESIAESIAEOABSAyRAAiRAAiRAAiTgZwQ4APpZw7m7JEACJEACJEACJMABkBogARIgARIgARIgAT8jwAHQzxrO3SUBEiABEiABEiABDoDUAAmQAAmQAAmQAAn4GQEOgH7WcO4uCZAACZAACZAACXAApAZIgARIgARIgARIwM8IcAD0s4Zzd0mABEiABEiABEiAAyA1QAIkQAIkQAIkQAJ+RoADoJ81nLtLAiRAAiRAAiRAAhwAqQESIAESIAESIAES8DMCHAD9rOHcXRIgARIgARIgARLgAEgNkAAJkAAJkAAJkICfEeAA6GcN5+6SAAmQAAmQAAmQAAdAaoAESIAESIAESIAE/IwAB0A/azh3lwRIgARIgARIgAQ4AFIDJEACJEACJEACJOBnBDgA+lnDubskQAIkQAIkQAIkwAGQGiABEiABEiABEiABPyPAAdDPGs7dJQESIAESIAESIAEOgNQACZAACZAACZAACfgZAQ6AftZw7i4JkAAJkAAJkAAJcACkBkiABEiABEiABEjAzwhwAPSzhnN3SYAESIAESIAESIADIDVAAiRAAiRAAiRAAn5GgAOgnzWcu0sCJEACJEACJEACHACpARIgARIgARIgARLwMwIcAAUNt9lsiIuLQ7FixWCxWASZGEoCJJAfAna7HRcvXkTFihVhtVrzk8IrMTx2eAU7N0oCGQR0PXa4s4UcAAU0jxw5goiICEEGhpIACbiDwOHDh1G5cmV3pCqQHDx2FAhmboQEciWg27Ej1x3KwwocAPMA69pV4+PjUbx4cSgBhYWFCTIxlARIID8ELly4YPwIO3/+PMLDw/OTwisxPHZ4BTs3SgIZBHQ9drizhRwABTSVgNRfOupgzgFQAJKhJJBPArp6UNe689kmhpGA6QjQgwAHQIEsKSABPIaSgBsI6OpBXet2Q8uYggRMQYAe5AAoEiIFJMLHYBIQE9DVg7rWLW4YE5CASQjQgxwARVKkgET4GEwCYgK6elDXusUNYwISMAkBepADoEiKFJAIH4NJQExAVw/qWre4YUxAAiYhQA9yABRJkQIS4WMwCYgJ6OpBXesWN4wJSMAkBOhBDoAiKVJAInwMJgExAV09qGvd4oYxAQmYhAA9yAFQJEUKSISPwSQgJqCrB3Wt21HDUtNsWLPzAPYeP4NiwYXRtl4NlCoWIu4tE5CAJwn4kgfzy4mvgckvOQAUkAAeQ0nADQR09aCudV/bsm2Hj+PZWV/jZPwlBFgtsNntsFoseKxtYzx+ZyN+ItMNGmcKzxDwFQ9K6HAAFNCjgATwGEoCbiCgqwd1rTtzy05fuIz7x87ClaQUY/C7dnm1cxs81PRGN3SZKUjA/QR8wYNSKhwABQQpIAE8hpKAGwjo6kFd687cssk//oYpy393OPyp9cqEhWL5q/0RYLW6odNMQQLuJeALHpQS4QAoIEgBCeAxlATcQEBXD+pad+aW9Xh/Pv46dDzHLi55oReqlSvlhk4zBQm4l4AveFBKhAOggCAFJIDHUBJwAwFdPahr3Zlb9vD787E1lwHwq+d74fryHADdIHWmcDMBX/CgFAkHQAFBCkgAj6Ek4AYCunpQ17ozt+zDZWsx7ac/nF4CLl3s6iXgwABeAnaD1JnCzQR8wYNSJBwABQQpIAE8hpKAGwjo6kFd687cMvXkb4exs5CQnOpwCHyp0+3o0fxmN3SZKUjA/QR8wYNSKj41AE6aNAnjxo3DsWPHUKdOHUyYMAEtWrRwyigpKQmvv/465s2bh+PHj6Ny5cp45ZVX0LdvX5e4UkAuYeJKJOAxArp6UNe6r23kXwePYdCspTh98QoCrVak2e2wAOh/x214+u4mfA2Mx5TPxFICvuJBCQefGQAXLFiAnj17Qg2BzZo1w9SpUzFjxgxs374dkZGRDhl17NgRJ06cwJtvvonq1avj5MmTSE1NRdOmTV1iSgG5hIkrkYDHCOjqQV3rdtTIlLQ0rNq+H3uOnUFYcGHcWb8GyoYX9VjPmZgE3EHAlzyYXx4+MwA2atQIDRo0wOTJkzNY1K5dG506dcLo0aOz8fnhhx/QrVs37N+/HyVLlswXPwooX9gYRAJuI6CrB3Wt222NYyIS8DIBetBHPgWXnJyMkJAQLFy4ENHR0RmyGjRoELZs2YJVq1Zlk9qTTz6J3bt345ZbbsHcuXMRGhqKDh064I033kBwcLBL0qSAXMLElUjAYwR09aCudXuskUxMAgVMgB70kQEwLi4OlSpVQkxMTJbLt6NGjcLs2bOxa9eubNJq164dVq5cibZt2+K1117D6dOnoYbCNm3a4OOPP3YoRXXPoPonfVECioiIQHx8PMLCwgpYvtwcCZCALgdxHjuoVRIwFwFdjh2epOYTl4DTB8C1a9eiSZMmGbxGjhxpnN3buXNnNoZ33XUXVq9ebTz8ER4ebvz5okWL0KVLF1y+fNnhWcDhw4djxIgR2XJxAPSkRJmbBJwT0OUgzmMHVUwC5iKgy7HDk9R8YgDMzyXg3r17G2cM9+7dm8F3x44diIqKMi4N16hRIxt3/or3pBSZmwTyTkCXgziPHXnvLSNIwJMEdDl2eJKBTwyACpB6CKRhw4bGU8Dpixrm1JO+jh4CmTZtGgYPHmw8+Vu06NUn1pYsWYLOnTvj0qVLLt0HSAF5UprMTQK5E9DVg7rWnXtHuAYJ6EGAHvSRewCV3NJfAzNlyhTjMrAa8KZPn45t27ahSpUqGDZsGI4ePYo5c+YY6lRDnnpKuHHjxsZlXXUPYP/+/dGqVSsjzpWFAnKFEtchAc8R0NWDutbtuU4yMwkULAF60IcGQCUddfZv7Nixxoug69ati/Hjx6Nly5aGqvr06YPY2FjjwY/0Rd0b+MwzzxiXgkuVKoUHH3zQeCcgnwIuWCNyaySQXwK6HsR1rTu/fWIcCZiNAD3oYwNgQQuMAipo4tweCWQloKsHda2b+iMBXyFAD3IAFGmZAhLhYzAJiAno6kFd6xY3jAlIwCQE6EEOgCIpUkAifAwmATEBXT2oa93ihjEBCZiEAD3IAVAkRQpIhI/BJCAmoKsHda1b3DAmIAGTEKAHOQCKpEgBifAxmATEBHT1oK51ixvGBCRgEgL0IAdAkRQpIBE+BpOAmICuHtS1bnHDmIAETEKAHuQAKJIiBSTCx2ASEBPQ1YO61i1uGBOQgEkI0IMcAEVSpIBE+BhMAmICunpQ17rFDWMCEjAJAXqQA6BIihSQCB+DSUBMQFcP6lq3uGFMQAImIUAPcgAUSZECEuFjMAmICejqQV3rFjeMCUjAJAToQQ6AIilSQCJ8DCYBMQFdPahr3eKGMQEJmIQAPcgBUCRFCkiEj8EkICagqwd1rVvcMCYgAZMQoAc5AIqkSAGJ8DGYBMQEdPWgrnWLG8YEJGASAvQgB0CRFCkgET4Gk4CYgK4e1LVuccOYgARMQoAe5AAokiIFJMLHYBIQE9DVg7rWLW4YE5CASQjQgxwARVKkgET4GEwCYgK6elDXusUNYwISMAkBepADoEiKFJAIH4NJQExAVw/qWre4YUxAAiYhQA9yABRJ0dcElGazYfex00hKSUWN8qURWiRIxIfBJOBpArp6UNe6Pd1P5ieBgiJAD3IAFGnNlwT09cbteO+7GJyIv2QwKRwYgK5N6mNw++YoXChQxInBJOApArp6UNe6PdVH5iWBgiZAD3IAFGnOVwT05e9bMXzhT9lYWC0WtKhVFR/07QiLxSJixWAS8AQBXT2oa92e6CFzkoA3CNCDHABFuvMFASWnpqL1iGm4kJDklMXMJ7rilusri1gxmAQ8QUBXD+patyd6yJwk4A0C9CAHQJHufEFAMbti8fj0xU45BFit6Nq4Hl7p3EbEisEk4AkCunpQ17o90UPmJAFvEKAHOQCKdOcLAvrxz914bu63OQyAFrS/uRZGdW8nYsVgEvAEAV09qGvdnughc5KANwjQgxwARbrzBQHFnjqH+9+a5ZSDuvXvuXtbovftDUWsGEwCniCgqwd1rdsTPWROEvAGAXqQA6BId74ioP5Tv8CGfUeQZrNn4aEe+wgqFIifXu2P4qHBIlYMJgFPENDVg7rW7YkeMicJeIMAPcgBUKQ7XxHQqQuX8OikhTh4+jzUGT+7HVBPAAcGWPFenw5oXquqiBODScBTBHT1oK51e6qPzEsCBU2AHuQAKNKcLwkoITkFP2zZhZ+27kViSipuqlrRePijfPFiIkYMJgFPEtDVg7rW7cleMjcJFCQBepADoEhvFJAIH4NJQExAVw/qWre4YUxAAiYhQA9yABRJkQIS4WMwCYgJ6OpBXesWN4wJSMAkBOhBDoAiKVJAInwMJgExAV09qGvd4oYxAQmYhAA9yAFQJEUKSISPwSQgJqCrB3WtW9wwJiABkxCgBzkAiqRIAYnwMZgExAR09aCudYsbxgQkYBIC9CAHQJEUKSARPgaTgJiArh7UtW5xw5iABExCgB7kACiSIgUkwsdgEhAT0NWDutYtbhgTkIBJCNCDHABFUqSARPgYTAJiArp6UNe6xQ1jAhIwCQF6kAOgSIoUkAgfg0lATEBXD+pat7hhTEACJiFAD3IAFEmRAhLhYzAJiAno6kFd6xY3jAlIwCQE6EEOgCIpUkAifAwmATEBXT2oa93ihjEBCZiEAD3IAVAkRQpIhI/BJCAmoKsHda1b3DAmIAGTEKAHOQCKpEgBifAxmATEBHT1oK51ixvGBCRgEgL0IAdAkRQpIBE+BpOAmICuHtS1bnHDmIAETEKAHuQAKJIiBSTCx2ASEBPQ1YO61i1uGBOQgEkI0IMcAEVSpIBE+BhMAmICunpQ17rFDWMCEjAJAXrQxwbASZMmYdy4cTh27Bjq1KmDCRMmoEWLFg7ltnLlSrRu3Trbn+3YsQO1atVySaIUkEuYuBIJeIyArh7UtW6PNZKJSaCACdCDPjQALliwAD179oQaAps1a4apU6dixowZ2L59OyIjI7NJK30A3LVrF8LCwjL+vEyZMggICHBJihSQS5i4Egl4jICuHtS1bo81kolJoIAJ0IM+NAA2atQIDRo0wOTJkzNkVLt2bXTq1AmjR492OgCeO3cOxYsXz5f0KKB8YWMQCbiNgK4e1LVutzWOiUjAywToQR8ZAJOTkxESEoKFCxciOjo6Q1aDBg3Cli1bsGrVKqcDYNWqVZGYmIioqCi8+uqrDi8LO9MpBeRlB3Pzfk9AVw/qWrffC44AfIYAPegjA2BcXBwqVaqEmJgYNG3aNEOgo0aNwuzZs6Eu8167qH/366+/omHDhkhKSsLcuXMxZcoUqEvDLVu2dChytZ76J31RAoqIiEB8fHyWy8g+4xDuCAmYnIAuB3EeO0wuJJbndwR0OXZ4sjEWu91u9+QGCiJ3+gC4du1aNGnSJGOTI0eONAa7nTt3ulTG/fffD4vFgqVLlzpcf/jw4RgxYkS2P+MA6BJerkQCbiegy0Gcxw63t54JSUBEQJdjh2gncwn2iQEwP5eAHXFRA+O8efOgngR2tPBXvCelyNwkkHcCuhzEeezIe28ZQQKeJKDLscOTDHxiAFSA1EMg6nKuego4fVH39XXs2NHhQyCOoHbp0gVnz57FihUrXGJOAbmEiSuRgMcI6OpBXev2WCOZmAQKmAA96CP3ACrdpL8GRt3Hpy4DT5s2DdOnT8e2bdtQpUoVDBs2DEePHsWcOXMMmal3BKoHQNT7AtUZRHXmb8yYMfjyyy/RuXNnl6RIAbmEiSuRgMcI6OpBXev2WCOZmAQKmAA96EMDoNKOOvs3duxY40XQdevWxfjx4zMe6OjTpw9iY2ONhzzUotZTQ6IaCoODg41BUA2J7du3d1mGFJDLqLgiCXiEgK4e1LVujzSRSUnACwToQR8bAAtaQxRQQRPn9kggKwFdPahr3dQfCfgKAXqQA6BIyxSQCB+DSUBMQFcP6lq3uGFMQAImIUAPcgAUSZECEuFjMAmICejqQV3rFjeMCUjAJAToQQ6AIilSQCJ8DCYBMQFdPahr3eKGMQEJmIQAPcgBUCRFCkiEj8EkICagqwd1rVvcMCYgAZMQoAc5AIqkSAGJ8DGYBMQEdPWgrnWLG8YEJGASAvQgB0CRFCkgET4Gk4CYgK4e1LVuccOYgARMQoAe5AAokiIFJMLHYBIQE9DVg7rWLW4YE5CASQjQgxwARVKkgET4GEwCYgK6elDXusUNYwISMAkBepADoEiKFJAIH4NJQExAVw/qWre4YUxAAiYhQA9yABRJkQIS4WMwCYgJ6OpBXesWN4wJSCCfBOx2G5DwBexX5gKp+wFLGBASDUtIP1gCSuU5Kz3IATDPoskcQAGJ8DGYBMQEdPWgrnWLG8YEJJAPAmr4s8e/ACR+DcACwP5PlgDAWgaWUp/DElA+T5npQQ6AeRLMtStTQCJ8DCYBMQFdPahr3eKGMQEJ5IOAPXE57OefchIZABRpD2vxd/KUmR7kAJgnwXAAFOFiMAm4nYCuB3Fd63Z7A5mQBFwgYDvbH0heA8DmZO1AWMr+Dou1mAvZrq5CD3IAdFksjlakgET4GEwCYgK6elDXusUNYwISyAcB26l2QNr+HCMtpZfBEnidy9npQQ6ALouFA6AIFYNJwCMEdD2I61q3R5rIpCSQCwHb2UeB5N9yOANohaXsH7BYw1xmSQ9yAHRZLBwARagYTAIeIaDrQVzXuj3SRCYlgVwI2BO/h/38ICdrBQCF28Ja4oM8caQHOQDmSTDXrkwBifAxmATEBHT1oK51ixvGBCSQDwJ2exrs558Bkn7+JzrzU8DFYSn1BSwBlfKUmR7kAJgnwXAAFOFiMAm4nYCuB3Fd63Z7A5mQBFwkYLenAlc+ufoewLRDgCUUCI6GJXRgnl8BozZJD3IAdFF6jlejgET4GEwCYgK6elDXusUNYwIScAMB9V5Ai8UqykQPcgCkgEQEGEwC3iWg60Fc17q9221unQTcR4Ae5AAoUhMFJMLHYBIQE9DVg7rWLW4YE5CASQjQgxwARVKkgET4GEwCYgK6elDXusUNYwISMAkBepADoEiKFJAIH4NJQExAVw/qWre4YUxAAiYhQA9yABRJkQIS4WMwCYgJ6OpBXesWN4wJSMAkBOhBDoAiKVJAInwMJgExAV09qGvd4oYxAQmYhAA9yAFQJEUKSISPwSQgJqCrB3WtW9wwJiABkxCgBzkAiqRIAYnwMZgExAR09aCudYsbxgQkYBIC9CAHQJEUKSARPgaTgJiArh7UtW5xw5iABExCgB7kACiSIgUkwsdgEhAT0NWDutYtbhgTkIBJCNCDHABFUqSARPgYTAJiArp6UNe6xQ1jAhIwCQF6kAOgSIoUkAgfg0lATEBXD+pat7hhTEACJiFAD3IAFEmRAhLhYzAJiAno6kFd6xY3jAlIwCQE6EEOgCIpUkAifAwmATEBXT2oa93ihjEBCZiEAD3IAVAkRQpIhI/BJCAmoKsHda1b3DAmIAGTEKAHOQCKpEgBifAxmATEBHT1oK51ixvGBCRgEgL0IAdAkRQpIBE+BpOAmICuHtS1bnHDmIAETEKAHuQAKJIiBSTCx2ASEBPQ1YO61i1uGBOQgEkI0IMcAEVSpIBE+BhMAmICunpQ17rFDWMCEjAJAXqQA6BIihSQCB+DSUBMQFcP6lq3uGFMQAImIUAPcgAUSZECEuFjMAmICejqQV3rFjeMCUjAJAToQQ6AIilSQCJ8DCYBMQFdPahr3eKGMQEJmIQAPcgBUCRFCkiEj8EkICagqwd1rVvcMCYgAZMQoAd9bACcNGkSxo0bh2PHjqFOnTqYMGECWrRokavcYmJi0KpVK9StWxdbtmzJdf30FSggl1FxRRLwCAFdPahr3R5pIpOSgBcI0IM+NAAuWLAAPXv2hBoCmzVrhqlTp2LGjBnYvn07IiMjncorPj4eDRo0QPXq1XHixAkOgF4wIjdJAvkloOtBXNe689snxpGA2QjQgz40ADZq1MgY5CZPnpyhs9q1a6NTp04YPXq0U+1169YNNWrUQEBAAL766isOgGZzKeshgRwI6HoQ17VuipEEfIUAPegjA2BycjJCQkKwcOFCREdHZ+hz0KBBxkC3atUqh5qdOXOmccbwt99+w5tvvskB0Feczf3wGwK6HsR1rdtvhMUd9XkC9KCPDIBxcXGoVKkS1L18TZs2zRDuqFGjMHv2bOzatSubmPfs2YPmzZtj9erVqFmzJoYPH57rAJiUlAT1T/qiBBQREQF1GTksLMznDcMdJAGzEdDlIM5jh9mUw3r8nYAuxw5P9slit9vtntxAQeROHwDXrl2LJk2aZGxy5MiRmDt3Lnbu3JmljLS0NDRu3Bj9+vXD448/bvyZKwOgWmfEiBHZdokDYEF0mdsggewEdDmI89hB9ZKAuQjocuzwJDWfGADzegn4/PnzKFGihHHfX/pis9mgZmH173788Ue0adMmG3f+ivekFJmbBPJOQJeDOI8dee8tI0jAkwR0OXZ4koFPDIAKkHoIpGHDhsY9felLVFQUOnbsmO0hEDXsqaeDMy8qbsWKFfjiiy9w3XXXITQ0NFfuFFCuiLgCCXiUgK4e1LVujzaTyUmgAAnQgz5yD6DSTPprYKZMmWJcBp42bRqmT5+Obdu2oUqVKhg2bBiOHj2KOXPmOJSYK5eArw2kgArQrdwUCTggoKsHda2bIiQBXyFAD/rQAKhEqc7ijR071ngRtHqp8/jx49GyZUtDr3369EFsbCxWrlzJAdBXHMz98HsCuh7Eda3b7wVHAD5DgB70sQGwoJVJARU0cW6PBLIS0NWDutZN/ZGArxCgBzkAirRMAYnwMZgExAR09aCudYsbxgQkYBIC9CAHQJEUKSARPgaTgJiArh7UtW5xw5iABExCgB7kACiSIgUkwsdgEhAT0NWDutYtbhgTkIBJCNCDHABFUqSARPgYTAJiArp6UNe6xQ1jAhIwCQF6kAOgSIoUkAgfg0lATEBXD+pat7hhTEACJiFAD3IAFEmRAhLhYzAJiAno6kFd6xY3jAlIwCQE6EEOgCIpUkAifAwmATEBXT2oa93ihjEBCZiEAD3IAVAkRQpIhI/BJCAmoKsHda1b3DCNEqhvw2+MPYrFm7bjxIVLqFwiDF1uqYu6lctrtBcs1RkBepADoMgdFJAIH4NJQExAVw/qWre4YZoksNnsGL7kJ3yx4W8EWC1Is9kz/ntgq9sw+K5mmuwJy+QA6FwDFrv6mcMlXwR4EM8XNgaRgNsI6OpBXet2W+NMnuiz3//E60tXOK3y/R73o21UdZPvBcvLiQA9yDOAIodQQCJ8DCYBMQFdPahr3eKGaZLgnndn4tCZ83B0dsRqsaBBlYqYM+BBTfaGZToiQA9yABQ5gwIS4WMwCYgJ6OpBXesWN0yDBMmpabjpf+/nWGlIUCFs+N/TGuwNS3RGgB7kAChyBwUkwsdgEhAT0NWDutYtbpgGCdT9f2oATLXZnFZbqmgIVg97TIO9YYkcAJ1rgPcACvzBg7gAHkNJwA0EdPWgrnW7oWVapHjus2/x47Y9xsMf1y7qoZBHmtyMoe1babEvLNIxAXqQZwBF3qCARPgYTAJiArp6UNe6xQ3TJMG+k2fw4KRPkZSaBlum5yQDLBYUCy6MRU8/gvLhxTTZG5bpiAA9yAFQ5AwKSISPwSQgJqCrB3WtW9wwjRJsP3oCI5b+jK1HTmRUfdt1lTG8U1tULV1Coz1hqRwAHWuAl4AF3uBBXACPoSTgBgK6elDXut3QMu1SHDh1FicvXkbF4sUQUbK4dvWzYF4CdqYBDoACd/AgLoDHUBJwAwFdPahr3W5oGVOQgCkI0IO8BCwSIgUkwsdgEhAT0NWDutYtbhgTkIBJCNCDHABFUqSARPgYTAJiArp6UNe6xQ1jAhIwCQF6kAOgSIoUkAgfg0lATEBXD+pat7hhTEACJiFAD3IAFEmRAhLhYzAJiAno6kFd6xY3jAlIwCQE6EEOgCIpUkAifAwmATEBXT2oa93ihjEBCZiEAD3IAVAkRQpIhI/BJCAmoKsHda1b3DAmIAGTEKAHOQCKpEgBifAxmATEBHT1oK51ixvGBCRgEgL0IAdAkRQpIBE+BpPOIS9HAAAgAElEQVSAmICuHtS1bnHDmIAETEKAHuQAKJIiBSTCx2ASEBPQ1YO61i1uGBOQgEkI0IMcAEVSpIBE+BhMAmICunpQ17rFDWMCEjAJAXqQA6BIihSQCB+DSUBMQFcP6lq3uGFMQAImIUAPcgAUSZECEuFjMAmICejqQV3rFjeMCUjAJAToQQ6AIilSQCJ8DCYBMQFdPahr3eKGMQEJmIQAPcgBUCRFCkiEj8EkICagqwd1rVvcMCYgAZMQoAc5AIqkSAGJ8DGYBMQEdPWgrnWLG8YEJGASAvQgB0CRFCkgET4Gk4CYgK4e1LVuccOYgARMQoAe5AAokiIFJMLHYBIQE9DVg7rWLW4YE5CASQjQgxwARVKkgET4CjT44Jnz2HTwKAKtVjStXgWlioYU6Pa5Mc8Q0NWDutbtmS4yKwkUPAF6kAOgSHUUkAhfgQRfTEzCsIU/YMXO/RnbC7Ba0L3RjXjxnlYIDLAWSB3ciGcI6OpBXev2TBeZlQQKngA9yAFQpDoKSITP48F2ux29ZyzEpoNxsNntWbZnAdCjyU14+b7WHq+DG/AcAV09qGvdnuskM5NAwRKgBzkAihRHAYnweTx4/YEjxgDobFFnAn8ZOgCli4Z6vBZuwDMEdPWgrnV7povMSgIFT4Ae5AAoUh0FJMLn8eBx3/+KOWs3I81mc7qtMV3uRoebozxeCzfgGQK6elDXuqVdVGflLyUlI8BqRUhQIWk6xpNAvgn4qwczA7PYlSO55IsABZQvbAUWNPrblZi/7k+k5jAAvhF9Jx64pW6B1cQNuZeArh7Ute78dk/9NbPkzx2Yvno99p86a6RpWKUSnrq9MZpcH5nftG6LU/XtP3kWCckpqFa2JEIKB7ktNxOZk4C/edBRFzgACrRJAQngFUDosr93Y8j8b3Pc0ndD+qBq6RIFUA034QkCunpQ17rz28OJK37DhyvXQd17m37GwWqxQA1e7z54L9rVrZnf1OK45Vv3YPx3a3DozHkjV5FCgejaqB4G39MchQsFivMzgTkJ+JsHfX4AnDRpEsaNG4djx46hTp06mDBhAlq0aOFQfWvWrMHQoUOxc+dOXLlyBVWqVMFjjz2GIUOGuKxWCshlVF5ZMSUtDe3fnYXjFy4izZb1RHeAxYJmNapiSu9OXqmNG3UPAV09qGvd+enakXPxuGv8xxmD37U5woOL4NcXBiIoMCA/6UUx323ZhRc//S7LYKoSquG0SY1ITO4bDatVja1cfI2AP3nQWe985gzgggUL0LNnT6ghsFmzZpg6dSpmzJiB7du3IzIy+yWGzZs3G8Nf/fr1ERoaCjUQqgFw/PjxGDhwoEtap4BcwuTVlWJPn0P/mYsQd/6C8Q5AtahLwjdFVsDkXp2g/vLhoi8BXT2oa935Ucqklevw4S/rsj2JnznXpIc7oHWt6/OTPt8xqWk23DlqBk5dvOw0x/QBndGkRpV8b4OB5iXgTx70+QGwUaNGaNCgASZPnpyxr7Vr10anTp0wevRol1TYuXNnYxicO3euS+tTQC5h8vpK6kzgih37sCH26ougb69VDbddVxkWC3/Ze705wgJ09aCudeenXW98swKfb9ia4724r3dsi64N6+Unfb5jNqq3BEzO+S0BHRvWwetd78z3NhhoXgL+5EGfHgCTk5MREhKChQsXIjo6OmNfBw0ahC1btmDVqlW5qlCdEbznnnvw5ptvon///rmur1aggFzCxJVIwGMEdPWgrnXnp5Gz1m7C2GW/Gvf7OVtm9emCRtUi8pM+3zErt+/H07OWOI1Xvw/vrFsD7/a8L9/bYKB5CfiTB316AIyLi0OlSpUQExODpk2bZuzrqFGjMHv2bOzatcupCitXroxTp04hNTUVw4cPx3//+1+n6yYlJUH9k74oAUVERCA+Ph5hYWHmVTorIwEfJaDLQdyfjx3nLieg1dvTkJKW/XVM6l67isWLYdmgvgV+r93Rs/FoN8b5vYmqtifvbIzH2zb2Uff4927pcuzwZJd84h7A9AFw7dq1aNKkSQavkSNHGpdz1b1+zpYDBw7g0qVLWLduHV566SVMnDgR3bt3d7i6GhBHjBiR7c84AHpSosxNAs4J6HIQ9/djxzd/7cTQL3+AOquW/kCWehArKDAQM/s8gBsjKnhF5k98tBhr9xzM9pCYujkkIMCKH1/qh7LhRb1SGzfqWQK6HDs8ScEnBkB3XAJWkNXlXzUwOjtj6M+/4j0pQuYmgfwS0OUgzmMHsPXoccyK2YjfDxwxvsF9Z+3q6NnkZkSWLJ7f9ovjTl+8jD6TF0I9LJb+ihr1hSD1n3E92uPOejXE22ACcxLQ5djhSXo+MQAqQOohkIYNGxpPAacvUVFR6Nixo8sPgbzxxhv46KOPEBsb6xJzCsglTFyJBDxGQFcP6lq3xxrpxcTq5c/fbt6JH7fuRkJSKupXqYCHmtRHZCnvDaZexOE3m6YHfehTcOmvgZkyZYpxGXjatGmYPn06tm3bZrzjb9iwYTh69CjmzJljCPzDDz80Xg9Tq1Yt4/+r18AMHjwYzzzzjHEm0JWFAnKFEtchAc8R0NWDutbtuU4yMwkULAF60IcGQCUddfZv7Nixxoug69ata7zTr2XLloaq+vTpY5zZW7lypfH/P/jgA+NdgeoewMDAQFx//fUYMGCA8S5A6z/vi8tNjhRQboT45yTgWQK6elDXuj3bTWYngYIjQA/62ABYcNK5uiUKqKCJc3skkJWArh7UtW7qjwR8hQA9yAFQpGUKSISPwSQgJqCrB3WtW9wwJiABkxCgBzkAiqRIAYnwMZgExAR09aCudYsbxgQkYBIC9CAHQJEUKSARPgaTgJiArh7UtW5xw5iABExCgB7kACiSIgUkwsdgEhAT0NWDutYtbhgTkIBJCNCDHABFUvRHAaWm2bBi5z4s+XMHzly6jOplS+GhW+ujXqXyIpYMJoH8ENDVg7rWnZ8eMYYEzEiAHuQAKNKlvwkoKSUVT366BGv3HYL6TqbNbod6a776tNOQts0wsOVtIp6S4DSbDV9t2I75a7cg9tQ5hIcUQadb6qBXiwbG/+bimwR09aCudfumirhX/kiAHuQAKNK9vwlo/PI1mLFmgzH4OVpmP9oVt11XWcQ0P8E2mx1D53+P7//clfE5J5XH+NB8iTB88nQ3lCoakp/UjDE5AV09qGvdJpcDyyMBlwnQgxwAXRaLoxX9SUDJqWloPnYqLiYmOWSmzgS2qXU93u92v4hpfoKX/bUbz8371mldHRpE4Y0H78pPasaYnICuHtS1bpPLgeWRgMsE6EEOgC6Lxd8HwKPnL6Dtux/lyKtyiXAsH9JXxDQ/wf2nfYE/9h1xemayUIAVMSOeREhQofykZ4yJCeh6ENe1bhNLgaWRQJ4I0IMcAPMkmGtX9icBnb+SiCZjJufIK6pCWXz5RA8R0/wEtxvzEY6cvZBj6LKX+qJSyfD8pGeMiQno6kFd6zaxFFgaCeSJAD3IATBPgvHnAVDte99ZX+L3A4cdnmmzAHixXSv0adpAxDQ/wb0nf47NsXFOzwAGWq1YO+IJhBQOyk96xpiYgK4HcV3rNrEUWBoJ5IkAPcgBME+C8fcB8O+jx9FjxudItdmyDFsBFgsiShbHF48/jFAvDFlLN27HywuWOeylujfx7vo1Mfbh9qJeM9icBHQ9iOtatzlVwKpIIO8E6EEOgHlXTaYIfxTQn4ePYfT3K/HnkeMGCWPAiqqBV+5tjZKh3nnSVr2b8KmZX2HtnoPI/ICyqq1EaDDmP90dFUqEiXrNYHMS0NWDutZtThWwKhLIOwF6kANg3lXj5wNg+u4fOReP81cSUKl4uDFkeXtJSU3D3DWb8GnMFhyPv4QihQKN9wAOaHMbyoUX9XZ53L6HCOh6ENe1bg+1kWlJoMAJ0IMcAEWio4BE+DwWrIbBwAArLBZ1ZyIXXyagqwd1rduXtcR98y8C9CAHQJHiKSARPgaTgJiArh7UtW5xw5iABExCgB7kACiSIgUkwsdgEhAT0NWDutYtbhgTkIBJCNCDHABFUqSARPgYTAJiArp6UNe6xQ1jAhIwCQF6kAOgSIoUkAgfg0lATEBXD+pat7hhTEACJiFAD3IAFEmRAhLhYzAJiAno6kFd6xY3jAlIwCQE6EEOgCIpUkAifAwmATEBXT2oa93ihjEBCZiEAD3IAVAkRQpIhI/BJCAmoKsHda1b3DAmIAGTEKAHOQCKpEgBifAxmATEBHT1oK51ixvGBCRgEgL0IAdAkRQpIBE+BpOAmICuHtS1bnHDmIAETEKAHuQAKJIiBSTCx2ASEBPQ1YO61i1uGBOQgEkI0IMcAEVSpIBE+BhMAmICunpQ17rFDWMCEjAJAXqQA6BIihSQCB+DSUBMQFcP6lq3uGFMQAImIUAPcgAUSZECEuFjMAmICejqQV3rFjeMCUjAJAToQQ6AIilSQCJ8DCYBMQFdPahr3eKGMQEJmIQAPcgBUCRFCkiEj8EkICagqwd1rVvcMCYgAZMQoAc5AIqkSAGJ8DGYBMQEdPWgrnWLG8YEJGASAvQgB0CRFCkgET4Gk4CYgK4e1LVuccOYgARMQoAe5AAokiIFJMLHYBIQE9DVg7rWLW4YE5CASQjQgxwARVKkgET4GEwCYgK6elDXusUNYwISMAkBepADoEiKFJAIH4NJQExAVw/qWre4YUxAAiYhQA9yABRJkQIS4WMwCYgJ6OpBXesWN4wJSMAkBOhBDoAiKVJAInwMJgExAV09qGvd4oYxAQmYhAA9yAFQJEUKSISPwSQgJqCrB3WtW9wwJiABkxCgBzkAiqRIAYnwMZgExAR09aCudYsbxgQkYBIC9CAHQJEUKSARPgaTgJiArh7UtW5xw5iABExCgB7kACiSIgUkwsdgEhAT0NWDutYtbhgTkIBJCNCDHABFUqSARPgYTAJiArp6UNe6xQ1jAhIwCQF60McGwEmTJmHcuHE4duwY6tSpgwkTJqBFixYO5bZo0SJMnjwZW7ZsQVJSkrH+8OHDcffdd7ssTwrIZVRckQQ8QkBXD+pat0eayKQk4AUC9KAPDYALFixAz549oYbAZs2aYerUqZgxYwa2b9+OyMjIbPIaPHgwKlasiNatW6N48eKYOXMm3n77bfz++++4+eabXZKjLwvo0uUkpKSkIjwsBFarxSUeXIkECpqArh7Ute6C7i+3RwKeIkAP+tAA2KhRIzRo0MA4q5e+1K5dG506dcLo0aNd0pA6C/jQQw/htddec2l9XxTQlr8P46NP1+DPbUcMBuVKF0O36NsQ3f5mDoIuqYIrFSQBXT2oa90F2VtuiwQ8SYAe9JEBMDk5GSEhIVi4cCGio6MzNDNo0CDjEu+qVaty1ZHNZkPVqlXx4osv4umnn3a4vrpUrP5JX5SAIiIiEB8fj7CwsFy3YfYV1q7fh5dHLgYsgM1mz1Jup3tuwn8ev9Psu8D6/IyALgdxXz92+JnsuLs+QECXY4cnUVvsdnvWv+k9uTUP5Y6Li0OlSpUQExODpk2bZmxl1KhRmD17Nnbt2pXrltW9g2PGjMGOHTtQtmxZh+urewRHjBiR7c98YQBMS7Oh64CpOHP2Epwp4qPxvVCjWrlcWXIFEigoArocxH352FFQveZ2SMCdBHQ5drhzn6/N5VMD4Nq1a9GkSZOMfRw5ciTmzp2LnTt35shw/vz56N+/P5YsWYK2bds6XdeXf8Vv3noIg15d4HTfAwKseOC+Bni6b2tP6pG5SSBPBHQ5iPvysSNPDePKJGASArocOzyJyycGQMklYPXwyKOPPmpcPr733nvzxNqXBPRLzC78b+xSp/uvHgRp27I2Xh2SN0Z5AsqVSSCPBHT1oK5157E9XJ0ETEuAHvSRewCVwtRDIA0bNjSeAk5foqKi0LFjR6cPgagzf3379oX6b/WwSF4XXxLQnv0n0G/InBwHwD4PNUWfbv9eYs8rL65PAu4moKsHda3b3f1jPhLwFgF60IcGwPTXwEyZMsW4DDxt2jRMnz4d27ZtQ5UqVTBs2DAcPXoUc+ZcHXLU0NerVy+899576Ny5c4YGg4ODER4e7pImfU1A/YbMxr7YU9keAFEw1BnAz6c/hrKli7nEhiuRQEEQ0NWDutZdED3lNkigIAjQgz40ACrBqLN/Y8eONV4EXbduXYwfPx4tW7Y0tNSnTx/ExsZi5cqVxv+//fbbHT4d3Lt3b8yaNcsl/fmagGIPncbTL8+Hegdg+lPA6t4/9YDI0Gfa4d629VziwpVIoKAI6OpBXesuqL5yOyTgaQL0oI8NgJ4WzLX5fVFAp89cwuLvNmNFzE4kJ6eiXlRlPHh/Q0TdULGg8XJ7JJArAV09qGvduTaEK5CAJgToQQ6AIqlSQCJ8DCYBMQFdPahr3eKGMQEJmIQAPcgBUCRFCkiEj8EkICagqwd1rVvcMCYgAZMQoAc5AIqkSAGJ8DGYBMQEdPWgrnWLG8YEJGASAvQgB0CRFCkgET4Gk4CYgK4e1LXu9Ial2Wz4NTYWO0+dRmihQri7Zg2UK1pU3E8mIIGCIqC7B93BySdeBO0OEPnJQQHlhxpjSMB9BHT1oK51q87tOnUKAxcvwZELFxBgscBmt8NisWDArbfghRbNjf/NhQTMTkBnD7qLLQdAAUkKSACPoSTgBgK6elDXus8nJKDtRzNxISkJaQ4+Gv5iyxZ47LZb3dBZpiABzxLQ1YPupMIBUEBTJwGdPH0R3y77E3sPnEJIcBBat7gBjRpWg3rPHxcS0JWATh7MzFjXumes34Axq36F3YlgwosUxm+PP4bCgYG6Sop1+wkBXT3ozvZwABTQ1EVAv8bsxoixS42XO6t/AqwWpNnsuKleBF58sT3WxR1BYmoq6pUrh3rly/ESjkATDC1YArp48Foqutbda+EXiDl4KMcmL+rRHTdWqFCwQuDWSCCPBHT1YB53M8fVOQAKaOogoGPHz6PHwBmwpdmy/2q3AFcqWnG25r9nAeuXL4cPO3RAxTDXPvl2KO4sPv96I379fY/xxZCb60aiW4dbUJcvjhYoi6GuEtDBg472Rde6OQC6qkyuZ3YCunrQnVw5AApo6iCgqTNX4bNFfzj8vq/adbsFiGsWAHuhqzduq5u6K4WH4Yc+vXO9jLN151EMHr4QqalpxhlFI9569abwl5++B/e0riOgy1ASyJ2ADh70pQFw2h/rMfbX1U4vAYcVLox1T/AScO7K5RreJqDrscOd3DgACmjqIKDBw+Zj81+Hc9zLkw0CkBye9cm9t+9ph+g6UU7j1KXkB5+YDnVvoRr4rl0CA61YPP1xlAgPERBmKAnkTEAHD/rSAHguIQF3fDQTF5OSHPr++RbN8USj2yhbEjA9AV2PHe4EywFQQFMHAb004kusW78PDma0jD0/cWsAUor+OwBaLRbcU7Mm3r//Xqd0Nvx10Dj752xRr4J4qncr43IwFxLwFAEdPOhLA6Dalx0nT2HA4q9w7OJFBFqtxiBot9vR95aGeKlVS6jjBxcSMDsBXY8d7uTKAVBAUwcB/fDz3xj97ncO91Kdt0srAhxvHABkOmir/9muRg1M7HC/UzpLl/+FsZN/dPrngQFWdLzrRgwZcIeAMENJgGcAzaiBVJsNK/cfwI5Tp1A0KAh316jh8n3DZtwf1uR/BHT4+9vTXeEAKCCsg4CSklPx2OA5OHj4TJb7ANXwp36nn6ljRULZrK+CUf/+tTat0avBzU7prFm/Dy+NXuz0z61WC/p1a4beXRoLCDOUBDgAUgMkQALuJ6DD39/u3+usGTkACgjrIqD4Cwl4+4NlWP3b7oxLwUGhhXC8ShqulMs6/KmHQMKKFMYv/fuhWOHCTumkpKShU//JiL+Y6HAddRZx4eQBKF82XECYoSTAAZAaIAEScD8BXf7+dv+e/5uRA6CArk4C2vP3Efz5x35cuJKE+k2uR1Tdyhj644/4btdu48lfdc+euqxTNjQUHz0QjaiyZXMls2rdHvx33FLjVKJ6KEQtavBT9xv2794Mfbo2yTUHVyABCQGdPJh5P3WtW9IrxpKAmQjQgwAHQIEidRDQiaPnMOrZudj915GMPQ0qUgg9B92FB/q1ND7mvmzPHiSkpKBe+fK4q0Z1BAUEuExl87bDmPX5b9i49erLYa+vUhqPdG6EO1vUdjkHVySB/BLQwYOO9k3XuvPbJ8aRgNkI0IMcAEWaNLuAEi4n4fF738Hp4xeMF0Ffuzw1PBr39XDPWTp1r6HNZkNwkSARUwaTQF4ImN2DzvZF17rz0huuSwJmJkAPcgAU6dPsAvpu/jp88Noip/sYXjIU89a8isBCrp/xEwFjMAm4mYDZPcgB0M0NZzoScBMBXY8dbtp9Iw0vAQtoml1Arw34GBtW7czxHYA9/9cBDz/SXECBoSTgPQJm9yAHQO9pg1smgZwI6HrscGdXOQAKaJpdQC/3mY7NMXty3MOE60tg4nu9+e1egQ4Y6j0CZvcgB0DvaYNbJgEOgDlrgAOgwCNm/8tn/qSfMfe9H2H/5wnda3dVfQc4oU4ZNGtcA6OGdhKQYCgJeIeA2T3IAdA7uuBWSSA3AroeO3Lbr7z8OQfAvNC6Zl2zC+jc6Yvoe8dbSLiSbLz0OfOiXtqSXDoEyRWKokjhQvhp/iABCYaSgHcImN2DHAC9owtulQRyI6DrsSO3/crLn3MAzAstzQZAVe7fGw7g+UemAGlX39OnFjUMpoQXRmJEmPHiPg6AAhEw1KsEdD2I61q3V5vNjZOAGwnQg3wIRCQnXQQ06NXPsDVmLywJKbBbLUgNLwxbcCFj3wOsFjS7tTpGDe0oYsFgEvAGAV08eC0bXev2Ro+5TRLwBAF6kAOgSFe6CGjT1kN49n+fO9xX9c3eyaMeRp2aFUQsGEwC3iCgiwd1HAAvxl/BN/N+w89fbcTliwmoekMFdOzVDI3aRBlfDuJCAjoT0PXY4U7mvAQsoKmTgJat2o5xU35EYlIqAgKsSEuzISQ4CK880w6tGtcUUGDotQT+OHAYn63/C/tOnUXpoiHoeFMU7qlbE4Xy8IUVUnWNgE4ezLxHZq/77MkL+M9Dk3Aq7lzGZx6tAVbjhfJd+rdCv6H3utYgrkUCJiVgdg8WBDYOgALKugnoSkIyVv62G6fOXkL5MmFo2ag6v9wh6L+j0PHL12Da6vXGpfU0mx1WiwU2ux23Vq2MaT2jUaRQoJu36N/pdPNgerfMXveYwZ9g9Q9bHX5BSO3DW/MeQ/1G1/u3+Lj3WhMwuwcLAi4HQAFlCkgAzwdDV++JxcC5ix3umRoE+zW/Bf+5ky/ddmfrdfWgmeu+eP4KujV+3enwp64gNL+nPl4a/7A7W8lcJFCgBMzswYICwQFQQJoCEsBzITQhMRkXLiQiPCwYRYpcfWjFzMsT876CGgLT7P8+cZ253mJFCiNm6GO8FOzGJurqQTPXvX9HHJ7qMCHHLl0fVRETlwx2YyeZigQKloCZPVhQJDgACkhTQAJ4OYSePnMR02b+ihWrdiA11YbAwAC0bV0bAx9thZIlQj2zUTdkbfPODByLv5hjppXPD0C5sKJu2BpTKAK6etDMdZ85EY9Hmo90KjD14NgtLW/AiOl9KUIS0JaAmT1YUFA5AApIU0ACeE5Cz567jIHPzMa5c5eNe+jSF3VPXenSxTD1vV4oXjzE/Rt2Q8boSfOw8/gpp5nUg5N/DHsSRYsUdsPWmIIDoOc08FKvqdj6x37YMr0/NPPWXvmgJ5q3q+e5Avw085XkFKyPPYKklFTUqVQOlYqH+SkJz+82//7ma2BEKqOARPgcBk+c+jMWLd2U8eRh5pXUmYeHHrgNj/Vt5f4NuyHjrLWbMPaHVXB0ATjAYkHLmtdhUg++b9ENqDNS6OpBs9d9YNcx/OfBD5GclJrlXkD1+hd19u9/U/sYbxPg4h4CdrsdM2M24sOV66CGQLWoF+20qXU9RkbfhfDgIu7ZELNof+xwZwt5BlBA0+wHccGueS30vq7v4dKlJKfbL1E8BIvnP+21+nLa8OWkZDw0bT5iT5/Lch+gGv6CAgPx2cBuqFmutClr17UoXT2oQ92H9p7AvPd+RMzyv40zgcVLFUWHns3QZUArFAri0+zu9Iwa/sYu+zVbSnXsqF2xLD4b0A0BVg7c7mSugwfdub+OcnEAFBD2RQElJqdi28HjUL9Ia0eWQ2iRIAEhx6FJSSlY+fseHDh8BmFFi6BN0xuM19KobbZpP87hGbT0TIGBVvz09fNur8ldCc9dScC4Zb/im792IiXNZqRtUi0SQ9u1xA3ly7hrM8zzDwFdPahT3ZcvJWLD5lioOzKqXVcGVSJKUX9uJJCQnIIW46ZB/YB0tkx6uANa1+Jrd9yIXdv7h93JgAOggKZOB/HcdlMNXx8vW49ZP67HpcSrB6LChQLR/fab8GSHpm57cnXztsMYNvYrXLychED1YlmbHeo/PaMbYWD35ujRbzrijp13WK66hy6icknMmdY/t93x+p9fSkzC8QuXjEs3ZYqZ98EVr4MSFqCrB3Wpe9mKbZg4fQUuXEjI6NSNdSPw6vP3omwZ+f1pyv+XriQhuHAhFCoUIFSDnuFr9sRigJPXR6k9Uvc/d7wxyrgUzMV9BHTxoPv2OHsmDoACur4koIlLYvDRsj+y0VD3odzXqDZe791OQOpq6LGT8egxeCaSU9KMs33XLkP6tYE9MQ2Tpv8CJ29SweCn7kSn+24W18IEvkFAVw/qUPcvq3di+Jil2YSS/kDWrA8fRUhI/h5oUlcB5i76HYt/2IL4i4nGj8E7mtdCv25NUbFccd8Qp4t78fOOfXh6fnbO6eHqHaLqS0Jvd23vYkau5goBHTzoyn5I1uEAKKDnKwI6e/EK7ho2LctTt9di+fK/vVCtguzSz4dzV+Gzrzc4fMBDba90iaL4fGI//G/kEmLVzFUAACAASURBVKxbvz/jKxrq4Q91pqBF0xr438sdjb8suJCAIqCrB81et/qB1mPAdBx1cjZesR/0eFt0vr9BnoWYkpKGwSMWYuuOo8ZXctIXNVgWDS2MaW89gkrl8zcEHjx0BgsXr8dvf+wzjhm3NrwOXaNvQY3ry+W5zoIKOHHhEtQrpDKzyLxt9SP85fa345HG/OHrzp6Y3YPu3FdnuTgACij7ioAWx/yN1z9Z7pSEGsAev7cJBtzTSEAL6P38bOyNdf6aFJX8sw/6oULZcKxYuQPf/PAnTpy8gArlw3H/PTfi9ha1+OShqAO+F6yrB81e98HDZ9Dr8Y9yFMxN9SLw3pjueRbVNz9txZhJyxzGqSGwZaMaeOOFDnnOu2nLQQx97QvYbDak/fP6GuNJZbsdI17thOZNauQ5Z0EFPLfwO/zw9+5sQ6A6+xcSVAgrnusP9SJ5Lu4jYHYPum9PnWfiACig7CsC+vSXzXj7i5VOL7uqM24972iIZzvJPmP26AtzsPvAyRyJL5jYH5Xz+etf0EqGakpAVw+ave49+06g/7Ozc1RF1A0VMPndnnlWzuPDPsW23XFOjzfqB+cPc59BSLDrD6Cps4pde05G/IWEbLeXqHuH1ZeEvvzkqTzlzPOOCQLUPcOPzfsKmw7FGff8qSfh1BlB9c7QqY90ws2RFQXZGeqIgNk9WBBd4wAooOwrAtq89yj6vvt5jiTG9r8XdzaoKaAFTP9sDeYs+t3pJWB15u/zif2h/gLgQgKuENDVg2avW92j17HHh0hIcPxkqvJo14634Mn+rV1pU5Z1uj4+DcdOXsgx7ospA1C+bHi2ddSlaXUvcUJiinGZuEjhq5+IXB2zG/9986scc744uB3a310/z/UWVIC6ZL1230H8tGMvElNTUb9yBXSoX4svjvdQA8zuQQ/tdpa0HAAFlH1FQOqg+tCoedh/7Ey2+wDVJYiSYSH47o1+KBQoe0rv1NlL6DH4Y+PgrQ521y6vPN0O7W+vK+gIQ/2NgK4e1KHuabN/xacL1zk8U6curc6d2g+VKpQwJHfi3EUsXbcdh0+dR8miwbivcRSqV3T8zsshIxZi49ZDTn8IBgUF4vvZT6HwP8NduqZ/33IAH879FfsOXr2NRA1/0XfdiAHdm2Px0k2YNnOV05zqKka3Lrehf5+W/mYR7q8TAjp40NPN86kBcNKkSRg3bhyOHTuGOnXqYMKECWjRooVDhmqd5557Dhs3bsSePXvw7LPPGuvnZfElAR05fR79x39hHMjVJZP0l/GFhRbB1GcfwA0RZfOCxum6u/afMF4Dc+L0ReNMnxoE1WD5eI8W6Hb/LW7ZBpP4DwFdPahD3eqy6hvjvsaqmN3Gvbfqh6J6ZkO9i3PESx3QrPHVe+rUPcRvzv/JOGYYxw7A+CHZo00DPPdAS6ivh2ReVq3bg1fGLnEoUnVM6HBnfTz/2J1Z/nztxn14ccxi4/sYmd8goHLfWj8SdzepjTHvfOdU+KqEZx67A507NvQfc3BPcySggwc93UKfGQAXLFiAnj17Qg2BzZo1w9SpUzFjxgxs374dkZGR2TjGxsZi/PjxaNiwofHfrVq18usBUAFKSErB9xt2ImZbrHEj9a01I3B/4ygUC3HvZ4jS0mxY/9dBxB45g2JFi6DlbdVRLNS92/C0cZjfHAR0PYjrUrcatrbtiMNPq3bg8pUkXFelNNrfWQ/Fw69+j/vP/XF49O0FTl/e/kr3O9ClRdbLrirnmA+X4dsVf2f8CFS51DBXpVJJTBrZDWHFgjMEpn4kPvTMDOPSr7PXQ7353P14661vkZiU6lCYaoD9Yt4TKFGc7+Q0h3O9X4UuHvQkKZ8ZABs1aoQGDRpg8uTJGbxq166NTp06YfTo0TkyvP3223HTTTf5/QDoSaExNwl4goCuB3Fd6762hy9M/wa//LnX4Suk1Hm/SqXDsXTEo9nOAqoh8OeYXVj03WYcjDuL8GLBuLdNXXS6+0aEXvNuwZ37jqPf0HlO5aPOGrZtVgu31Y7EW+O/N7aVfpYw/X8/NbCN8ToYLiSQTsBXPCjpqE8MgMnJyQgJCcHChQsRHR2dwWPQoEHYsmULVq1a5ZYBMCkpCeqfzAKKiIhAfHw8wsLkb8WXNJKxJOCPBHQ5iPvqsaPtS1Nx5sKVHKX3y9jHUbzov2f08qrTDX8dxKDXF+YY1rRBNYx7uTPW/bEPc+f/hm0744z1q19fFj27NUGr5jfkdbNc38cJ6HLs8GQbfGIAjIuLQ6VKlRATE4OmTZtm8Bo1ahRmz56NXbt2uWUAHD58OEaMGJEtFwdAT0qUuUnAOQFdDuK+euxo/+oMHDt7MUeJxrz7FEIE3xQ/eeYiOj8+NcfXxnS//xY82bNVRh0Jicmw2+z5/lIJPef7BHQ5dniyEz41AK5duxZNmjTJ4DVy5EjMnTsXO3fudMsA6Ku/4j0pMOYmAU8S0OUg7qvHjne//BWf/rLJ4SVg9QaBBjUqYfrgrmIJvPTWV1APgqiHS65d1Hbmf9CP7w8VU/avBLocOzzZFZ8YAAvqEvC1jaCAPClN5iaB3Ano6kGd6lYPYajXtvyx5YBxFq5h/Ug0uuk64wGO42cv4sGRc3E5KTnLK1jU/X/q/rtpg7ugYY3KuTcylzXOnr+MJ//7GY4cO6ceBDbqUC9MVi9LHvZkO9zbmq+PEkP2swQ6edBTrfGJAVDBUQ+BqCd61VPA6UtUVBQ6duzIh0A8pR7mJQEvE9D1IK5L3efOX8Z/3vgSe9QXfNLf5mIHKlUojg/f6IbSJYtiz9HTeHnm99gbdzpDDWXCQ/Hfh9uiRb1qblOIuqz7w6rt+DlmJy4nJKNOzQrofPdNqBZZxm3bYCL/IaCLBz3ZEZ8ZANNfAzNlyhTjMvC0adMwffp0bNu2DVWqVMGwYcNw9OhRzJkzJ4OnekBELf3798cNN9yAF154AUFBQVCDoysLBeQKJa5DAp4joKsHdal74EufYPvuY9kaqC7Eli1TDIumDMx46nb7oRM4cioeJYuFGJd+A6xWzzWemUlASEAXDwp3M8dwnxkA1V6qs39jx441XgRdt25d4/1+LVteffN7nz59oN79t3Llygwg176gVP2BGhbVeq4sFJArlLgOCXiOgK4e1KHuHXuOYcDQT3Js3ovP3I0Oret5rsHMTAIeIqCDBz206//OQPbMr1X39NZ8LD8F5GMN5e5oR0BXD+pQ98yFazFj/tqMK7/XikOdBaxRpzxmvfGIdrphwSSggwc93SWfOgPoaVjX5qeACpo4t0cCWQno6kEd6n5/zkos+GpDjgNgyYgwfP3eQMqSBLQjoIMHPQ2VA6CAsI4CSkxOxfFzFxBSOAhlixcV7D1DScD7BHT0oKKmQ92/bz2I5/6X8wuYb7i1Mj4a1i2LENQ3hNX3gh3dYuN9xbACErhKQAcPerpXHAAFhHUSkBr8Jn29Fl+s+cv45q9abqxWAYM6tcDN1SsJKDCUBLxHQCcPZqakQ93q7qC7+n+IK+cSs50FVJd/0woD/x18L+5tVBupaTYs+mYTvvhmI46fvICgQgG4o2Vt9H6oCSqWK+49gXDLJOCEgA4e9HTzOAAKCOsiIHVwfvKDRdi454jx3qz0Rb1AVf0z+dkHcEtN+bu6BCgZSgL5IqCLB6/dOV3qjvn7AJ4bvQgBCfbMb4FBWhELqtUth9kvdjee9n1t7BKsXrcny9c61Hv6goODMGXsI4isXDJf/WUQCXiKgC4e9NT+q7wcAAV0dRHQT5v3QH203dFisQA1KpbBgld4I7dACgz1EgFdPKjrAKjqXr/rMMbOX4HY2Kvv+bOEBOL+ZlEY0rkligYXxurf9+CVUV85VIB6WfStN1XFuP918ZJCuFkScExA12OHO/vJAVBAUxcB/WfqUqz6a3+Ws3/X7vbi//VG1XL8lS6QA0O9QEAXD+o8AKbXfvjUeVxOTEal0uEoFlwYfx47hkXbtmPlpj2Ij7uMkGM2BCY6FsFXs59EyeKhXlAIN0kCHACdaYADoMAduvzl0/edz7F539Ec93T2C91Q/7oKAhoMJYGCJ6CLB806AKpPqy36fgu2/H0YhQoFoGXjGri/bT2EFQvOUnJSWiq+27sby2P3IiElBWfjE/D38ZPG59jS0uxXv81mAcL32VE0Lvv3ej+e0BvVrytb8ALhFknACQFdjx3ubCgHQAFNXQQ0av7PWBSz1eGH1NXuq/sAl48ZaLzBnwsJ6ERAFw+acQCMWb8Pr761BOphjzTb1aFNPblbIjwEE0d2Q0TFEsa/O3XlMh5e8jn2nDsDKyywp9phSbFA/cfRUvrPNBSO//dP1GVgdQaweBiPLzp5y9dr1fXY4c6+cAAU0NRFQLuPnMJDo+Zl7KkddtgDAIsNQBELwiJDkRhkQ1BAAO6pWQOPNmiAimFhAjK+Far+gkyx2VDIyldbmK2zunjQbAPgxUuJiO43BckpqVke3FB1qrN611ctg4/e6WWU3evrLxBz5CDS1Fk+O2BNvDr4ORwAbXYUOQOU2qEOLldzNW9cA28M7Wg26bAePyeg67HDnW3jACigqZOAPv1lM8Z++QuSytqRWOKfATAFsKZajTOA6U8HB1gsCAkKwmcPPYhaZfT+yPrpxMuYvmMdvjywFReSE1G1WEn0qtkQ3a+/2aXvlF5MTsLkbeswf88WnEtKQHhQEXSvcROeqNvY+N9cvE9AJw9mpuXtuhd+vREfzPwl2/CXucYZbz+CwqUL4/ZPPvr3X9uBgMScv/FrTbajwjob1Jm/kiVCjaeAy5Yu5n2xsAISyETA2x40QzM4AAq6oJOAElNTcP+Cedgbf0b9iM/4Je/oV7waAquXKoVve/XU9mWuJ65cROfls3Ey4eLVMxfGGYurS7uIWvigWbQx+DpbLqUkoeuyT7Dr/KksD88oNtXCSuHLdo8gjEOgwD3uCdXJg2YaAMdN/hHf/vw30tKunqlztLwy6B6kVQ7EUz9+nacBUD0IUmdvMO5uXQcPdmiIEnz4wz1iZxa3EtD12OFOCBwABTR1EtCsvzZhxJoVV4c/NQylAJZU5/fxqHUW93gY9cuXFxDyXuh/fluKrw9uyxj+rq1kYrNotI+s7bTA9/5ag/f+inH45LQaHJ+s0wTP39zSezvILRsEdPKgmQbAyXNWYcHSjTkOgGNejsbJkEQMWfV9FrVZkyyAzfElYIsdiIwLwO2B5XFv51vQoFE1bX9E0mK+TUDXY4c7u8IBUEBTJwG1/3w2dpw+9e8AmGyBJc3JfTz/MJlwb3vcX6uWgJB3QtXZuwZfjkeq3fHZDTXANS1XFXNad3daYOMvP8TxKxed/nnpIiHY0PVZ7+wgt5pBQCcPmmkA3HvgJB79zxynSioaWhj/efYuvPrxdzhZJ824ZzhjSQOsyQ7uA7TZEZBsR8T3l1E4RT0dbMMDPZpgwOC7OATSs6YjoOuxw50gOQAKaOokoFtnTcKpK1cy9tZ4ii815wHwkwe7onFEhICQd0IPXjyH1t9MznHjVYuWwIr7n3C6TvV5Y50OkCpI/fW3/5Gh/IvNOy3mAOgG7mMm/mBcBs68qLsi1B0Tj/VuiYnfrzU+8ZZQxo7LEde82kUNgeoYYv/3NorCp1NRbl0igi5m/eE1Ynx3NG5xgxsqZgoScB8Bnf7+dt9eZ83EAVBAVicBdV08HxuPx/17SdMGBCQ5vplbHdLLFS2KXwf0d+lhCQFCj4Re/OcMYJqzM4CwoHG5KpjX5mGn22++aDKOXM70Lotr1iwXXBS/d3naI/UzqesEdPJg5r0yQ93qDN0ni//AgqUbcOHi1Tc4q1e/DHi4ObYdP4k5yzbA9s/rYRJL2XG5oh32Qv/shQ3ockMUHqhRB68O/Qy2U0kIupD9jLs1wIKbb62GURN7ut5UrkkCBUDADB4sgN3McRMcAAUdMKuA1EH7zKXLKBQQgOKhV1/oumTPDgxa/m3WX/spFlhTLeqlMBmvdEh/MGJap45oXa2agI48VL1+ZcORozgcH49SIaFoWiXC2CdXlkExX+G7wzuc3gP4ftNOuK9KlNNUU7atw1ubVhlsrl3Uu9CG3Ngcz9Rv5kopXMeDBMzqwdx22Ux1p6Sk4ejx8ygUGICK5cONs9qPv70QG3YezrIbygupoYA66ReYAEx/7kH8smMflr+xMsfdLVWmGD79/rnckJjuz9WDZFvOxCHQakWjspEoWqhwnmpUbxHYcOoI0mw23FymEkoV4XsQ8wTQwyubyYMe3lWn6TkACsibTUBqYPp0zRbMWrkBx89fMvasXmR5PN2uKRrXjMSQn74zBsH0176oG7aRBhS2ByIl9eqv96aRkRjUpAluqVxJQEYeuvXYcQz55nvEnjufkaxUSDBG3n0n2ta4PtcNxF2+gAeWz4J6Fcy1TwG3rVQTk5p3zvHsZmJaKh5Z/hk2njpibCt9DFTD342lK+DTO7sjODD9dEiu5XAFDxEwmwdd3U2z1z3kg6+w5q/9Ob4mpt5tEfj90GFU/uGCk1dCX71Xour1ZTH1syddReP19S6nJOPV9d/j64PbYfvH+UUCAvFY7SZ4pm7zHN8eoIpXA9/4P9dg+o4/oL6gopZAixUPVq+P125tC5WLi/cJmN2DBUGIA6CAstkENHrxL8YAmHlRw5765f5Or/twR73q+HrPTsz5ezNi48+jdHAIutaui+616xlfAlBn14ILeX+oOXT+PO6bOQ+JqalZnsJVl6bV2Yl53brgtojKuXbuZMIlTNn+GxYd2IqLKYmILFrCeA9gzxq3GL/qc1vUEDhv1yZ8snszjl25iHIhRdGjxs3odUMDFOHwlxu+Avlzs3nQ1Z02e93frN2O4R//4HR3SoaH4HDhKyhyzo7iO66g0KU0h0OguqdwwKC78MAjTV1F49X11I/oXr/Mx28nDzp8A8AzdZphSP1WOdb4xoaf8fGO9dmuHagfj+0ia2JSq2iv7iM3fpWA2T1YEH3iACigbCYB7Tl2Gp3fnmvsTcZFy0yvuStiDcA3L/ZB+dLm/8LHGz//gnmb/nR4+VYNtI0iKmNuty556pw6sKvhkYtvETCTB/NC1ux1J6WkotebnyL22BmHn5CscUNZxG44brxJwJpsQ8ixK8aBJ7PD1IugK1cphfdmDUBIaN4un+aFpTvX/ePkIXT7+d+vJl2bO8gagN+jn0V4UNZvJaevp350qjcIpL9Y31Ft3937KKJKlnNn2cyVDwJm92A+dinPIRwA84zs3wAzCejtpasw99fNV4cm41TZP5Ng+n8DKJpkxfyhj+C6yqUEe+350GaTpuPEpauXsJ0tfw95BkUK8VKK57th7i2YyYN5IaVD3ecvJmDknOVYuWVvxqXg0uGhGNS1JcZNW47EC8kZA581OQ1BZ5MRkHj1TKC6T7DB7TXw8qvRCAvX5963kZt+wuzdG3J8A0BO9w8v2PMnhq7L+t7EzLpQL5J/ul5TDLmxRV7kYvp101LTcOHsZQSHFkYRTYZ9HTzo6cZzABQQNouAvlvxN0Ys/AlXgm2wW//5De7oZJfdjtqBxfH56EdNfTbstg+m4GxCQo6d2TzoSRQrrMdZBYHEGJoLAbN4MK+NMlvdyampWLJ+Oxb/sQ2nLlxGlTLF8VDTG9G2XnWcPHcJ++JOI6RwEOpdXwG7959A/5c+cbzLaXZY0uy4UtGKb8YMRMXi5r/ikHlHXtvwAz7buyXHAXBco/vwQLX6Dvd/9s6NGL5+uYNHx66uru4F7Bd1K4Y1aJ1XyZhy/eSkFHz27nf4+uOVuHjuMixWCxrfXR+9X4lG1VoVTVlzelFm86A3YHEAFFA3g4BW/bYbr45disRwCxJKWgA1ADq70mm3o9Bl4LMXe+CG68x7CeKZJd/gx917HV4CVrtWrVRJ/NC3l6mHWIGsGJoHAmbwYB7KzVjVTHUnJKfgsamLsDk2LuPCQfqDYh1vjcLrD95lfNc3fflh1Ta88YHzs1zqFpQSVYrh23ceyw8ar8ao+4WfX5fp03cOqll+70BcH1baYZ1bTseh0/fOX7Ctgqa0ika7SP3fi6jO+r360PvYsnon7P+8LkjtnzXAiqDChfDu90NRrU7u92p7q+Fm8qC3GHAAFJD3toCMG5YHzcLBI2eQZgXiI61AQM73uVmT7HinW3vc2bQW1H2Dq3ccMF722qBaJTSsVskUQ9Wmo3F46JMFTn9Fj21/FzrXrSPonHdCL8YnYMtve6Feu1H7pkhUiCjpnUJ8aKve9mB+UZqp7ve/j8GMn/5w6re3etyD9g3+/SLQ2k378cKoRTnuenT7m/B837b5xeO1OPXUbvMlE3E+OSHbD1B1+VZ9QWh2Dl8QUsfk6O/nYOvZ4w7jy4UUw6+dHnfpIbTcIKSmpmHJ6r/xxYo/cezMBZQKC0GnVvXQpc1NCC7s+Yf5Vi1ej9EDpjssUw2B9ZrUwFtfmff1P2byYG699tSfcwAUkPW2gE6cvoAuA6Zl7EFimAUJZXN4utVuR0ASMLFvRyzash0/bd1rvNJAPRuhngKuXbksJvbriLLhRQVU3BP65dZteHnZcuPeI+NJZrvdOKA+2eQ2DGne1BSDqqt7arPZMOf9n7Bo1mqkJKdlhDVuUxv/GdkFxcId31Duan5/Xs/bHswve7PUrd4Z2uilD5CY9q8uM++TOjbcWKUi5j7zUMa/Vj9gOgyYjAuXrr482tEy993eqBZZJr94vBq349wJ9PzlU5xNSoAa+tR/1Gclo4qXw5w23VGycM73NKpPSHZfPh8HLpw14tWijl1lioQar4+qUdzx2cO87LQa/p57fwnWbo3NOGur4tXmbogsi6kvPYiQIkF5SZnndV998D1sWrk942XhjhJ8snUsSlUonufcBRFgFg8WxL462wYHQAF9bwvo6LHz6PbkjIw9UJdeLkRaYVM//pw88Vrosh3BCESCNQ2phdQDI/+eMQywWhBpL4K6SaHY+fcRFAoKRIs7otDlkaYoX6mEgFT+Qk9duozF27bj0Pl4lA4NQac6UahawpwHk5z2cPZ7P+Kzqdlflqu+klCzbmW888ljsLrwWpr8UfTtKG97ML90zVL3zn3H0XXS/Bx3Q71MfvXrj2dZZ/maHRg+4Vvjh5j6cZZ5ib77Rjw/4M78ohHHxScmYuFf27B8z14kpabh1ohK6HHzjXk6dqh3AX59cJvxImf1eqw7KlbH7RWru3zmLjktDcsO78YvR/cZTwQ3LheJjtdFue3doV/+8ifGzPnZISt1ub53+1vx5APNxSxzSvBU6zewb2vWl4Vfu/6kVa+Z9jKwWTzo0SblkpwDoIC+twWkLt0+0H8qzp6/nLEXKcHApYr/nAXMPASq16CkAUEX/91hWyCQqk4+/bNe6JEkhO9PNG7kTb+nQw0pRYoEYdzUPqheq4KAln+Gqsu+PVqNynLm71oSb05/FBVuKIv12w8Zf3RL7UhUKhPun8DyuNfe9mAey81Y3Sx1T/94Jd7fuunqvcPpr5DKfBeJ3Y5yxYri5+EDs+3qmg37MP2zNdgbe8r4s1IlQvFwh1vx4L0Ns9wzmF9G+YlT7xDt9unnUD8e08dS4yyexYJJne5Hm+re/bpRfvbJUUz3/87BviOnnV62Dwstgp8+eMKjV0rU5d81SzdCfVLQ0RIQaMVnO99BseKh7tptt+YxiwfdulN5TMYBMI/AMq9uBgF9tmQ9Ppy1KstepIQAV0pZYSv8z5Hcboc1GSh0JfvzIckhgD3QgoAEG8quv+jw+RH1izKyWhlMme/ZA4qgFaYNXfPj3xg5+FOn9amDZMmoctgZnJLlYH7nbTXx3753F8i9PKaF50JhZvCgC2VmW8Usdb/1znf4YvsO4yEyu/ohqH47qskpfQhUt41YrZj/bHdEVc7+4Jg6+3f63GWoS5JlSxVDQEDuL1jPDy9XYx6YOx9/Hz+R7f47tTtBgYGIeWIAigcXcTWdaddr9cREXElMzrG+X6c849Hjx18xu/Bix3cc1qDuAWwVfSuGTulnWoZm8aA3AXEAFNA3g4DUPTwTZvyMxd9vgbqEq37pqk8RFSoUgI4PNMCsnzfCYgOMz75ds6h/pS4XpwZbUCw2EUUPJTn/pBOAiXMHokZtcz/aL2inR0JXfvsn3nphgfPcFiCxTBFcui7rfZfqvsfmN1XDO8929EhdvpLUDB7MD0uz1D177hrM/HwtzlQLhD3I8QNk6uRg9fKl8eWQRzx6Rik/HDPHbD9xEh1mO3k9zT8z7cttWuHRWxpIN+X1+Ade+hiHTvz7mcxrC1IPgayc9LTHz8R+/PoifP7+D8aTv7Z/zgSqK0gVqpbBu98NRfHSxbzOylkBZvGgNwFxABTQN5OADhw+jZ9+3YkLlxJQpVIp3H17FLbGHsOzExY73UNjAFSXgUMsKL7zCoJPpuQ4AL46pitatNXv6VtBi8Whx4+cxaN3v53p8yzZU16sVhRJZRyflZj/ek9Uj9DzZnoxPBcSmMmDLpSbsYpZ6j5+Ih4P95qCC5UCkFjS6vTeYVX4F0MeQa2K5tXikm078Ny3zj9fpz7/GF0nCqPv8d79iXnRSE7rzv1+PT5YuNrht5rViYAubW7E8z3auGtzOeb5Y/lWLJ2+Avu3H0Gx8BC0fagJ2vdpidAwc78A3CweLJAmOdkIB0ABfbML6NCJc+j8yswcB8C0ICCtiAVh+xMQejTZ4ZnC/7d3JuBRFeka/npLZ4EkQthDWESQRQWCYgBBRgVHlFVgdAZZZJfLOoDEq+Ao4AAK6lyQ5SLLzCCiLOJ2B2cAFRBUBnTYwYBsshNDlk463fep0+kmIR043dXNOaf5asZHn6SqTtX7L/nPqaq/vB28sWgAGjdNkSB2azZ9ZeTf8M2/Sp+WE2/KhRbgYtMKvj1YxQmJpffh3Vujb6f7bk1wKmatdxvU+9eHn34+j1dmY8+CWQAAHhRJREFUrMcPjgtwJFw/AHy7X2e0b3y7CqloU2XjkZ8w6MN1ZT5cLGX3S22GSe3bajNAiac6CwqReclz04a4Vi/XUYDB01fi4PFzJU7hiuCvcoXyWPri07hN5wGYBI6QNDWq7wjJ5Is6YQAoQdMICjR4xvvYffik3/s8xRfAgjjAkutG9AUn4o/5v31DLCtXqZaAd9eO5GnVIPQlOysPk4ctxZ6dxzx7pETaHacL0eXtOFMnFgUxFr+9Cmc+qEsanu18fxBPvTWaGMEG/UlCD+M+lHEWw174u5KX8koC4EgUSeTLziO6ZHhPtKiTjOy8fHy+6wCOnr0EcUL4seYNUO027W/8cDidSPufBfjV4ShT+dc+8zSaVNVvEvxrB+7IK8Df5/4Ln6zcDuFHlJs2HrwTfUd3QKXk27Dkkx34cOMP+DU7T9nv1/mBxnj2ifsZ/Klwf3qwQRXDDGsVBoASePWoQGIz9vJN3+OjwwfxS1424i1RyDl4BXl5Bb7lAuHjReaG7r+5G2v+b5dyO4go9osORP3qOYzg+zNgAqwWM6b+pQ+atqgjQevWbio2y+/65gi++dc+iLf5hs1SUKF+EobM+OC6YBZM6oVm9cOfTf/E4TNY9fbn+PrjnShwONGwRV30eK4D7nvkLl0LTo82qAaYHsYtgr89B08rX5DESkBWsv8XETfccEe7kdfAgebWZBzblYm8fKfiF0Rb8b/BD7fEc4+m+d0jKHT/4M/ncOp8JpIS49CkbrWw7SX84Mc9eP6zf5TIjSfkIfxZl0YNMevxR9WIRxd1CvKdSB+4GHt3Hivxlc9z04YVs1cMRe07qippeIQ87DZr2Pf86QJMiAahBxsM0VSC7oYBYNDoAL0p0JdfH8DzH36Oc5VdgLiaR6RzMbvhruBA9BkLos6YYSo0wZnggqmOCY/b78TG9fuvBntuN6zZTtgy82EpEG4diKkTj5kv90aNOpXw2bZ92L7nmELsvsYpeCytEeJiwptsVEI8um8qHPezU9/D3oxfSn2hFV//6qdUxtKXng7bH0svoAM7M5TTfM58py+lg3dT97OTe6Dnf3XULUu92aBaUFqP+5ezmXhy2NVbHETmgMxaZlgdRW+H3i+BRTn+HHUccEUDMXvtRdtESn8pnNzzYTyZVvKFQQR+UxZ+hkMnzvvQJFdOxIsDOqB5g/C82Hyy/wBmf7UVRy95DknE2+3o16IZnktrqZxoNkr5Yt1OvD7J/wuiSM/VLK0eXl3Q3yjT0d04tbZBPQBhACghBT0p0Dc7jmDMrA9xvlnJK4AKq+QBdpHwueREzTAhaaMN5ktlXB3scsNlAdo9dReGpt2HoX9+Hxcyc3wrROLvQsWEWMyb0BN1qleUoHhrN72QmY1Rb6zBgZ/PKsvDQkwiv+MdyUl4a1x3JCWG91YWEYQObjUZJ4+c8Z/R3wQs3vEqqteprEtB6ckGAwGk9bj3HjqNwc9fPTF74U6zsiwQlQm4okxwF30MtOYCtisuwOrGlTqA5aJFuRnj2iJ+Ur1CPD5NH+D7CnXyXCZ+/9JyiLuGxZdCbxGxpfh6uPiFp3Bn7fAsxwq9PnbpMvJdhaiVmAi71RqIeHRR9/l+i/DDdxkl7tktMTATsOKrdCRWCK+P0AWMMAxCaxsMw5QC7pIBYMDIrjbQiwIJZzdw6Lv4NuYiciuZryZ1tbngql72fpgq620wF1z/7uBXXu6Kvyz7Ulm+EdfFFS/iK1W1pHh8OP2q05fAecs2FX8cd+w9pnxdFYG1+Lp6f+PaN2U5Z//3P2F0x9fKZC++BPYa9Sj6pXfVpXz0YoOBwtF63CJ5fJeB8xR9y000Ia+i2fNlT/xAuRvSjeiLbtiKUs2J9QCxR9AZff0vaF+8NAhVil5aZiz/J1Zv+sHv/mPhO9o2ux0zRnQOFN0tU3/IE3Pw85Gz153vgo9Ho2Zdfb6c6V1QWtugHvgwAJSQgl4UaOcPxzDuj+/hzL1WFMSaYXJ6Nr0UxjvhrlxQ5gwrbbDBmlV2ACiWGaald8XYOWWfrBOdzxnTDa3v5v5ACVXSrOmXa7/DtIFX75O+diAiAGzf4z6MnztAszFe78F6scFA4ehh3JNeW4vNe47g1yoiCbRwGcV8QdHSb+xZNyxOkcXIDZfVhNyk6weAG6cMRlK85+aHDiPn4VKW/4Nl4vfilPvWhaMMtSwbqJxl6r86SmQP2FfmTRu2KAve2/LfyqlglsAJ6MEGAx91aFswAJTgqQcFysrOw++GLUL2mWycv9tWdICj6FonkxsF1ZxwVnb6Xectd8iC8j/63/gtTv4+8dBdqJycgPlrtvp9ixfoxJv84K6tMOCJlhIk2VQrAnu2H8a4TjPKfLxYlu4xogMGvNhdqyFe97l6sMFgwOhh3GcvZKHTq4uRayn0f/pX7AnOAWIue778u6xuZCeJbQp+loBNwO1VKmL1+D6+PatqbqvYsmAkomzGW54NRuaBtvn31sPKIRB/RbycP9I1FaNf0addBjpXLerrwQa1mHfxZzIAlJCAHhRo5frv8PaSjciuaEZBvP80DvnVCuCsKj4LXlOcwH27quDkiculcklVSIzDoj//ARu+PYjZ720udeG7tycRKI7+XTs83cH42fUlVMGwTV0uFwbc+984c/xCmXuNFm77E2reUVWXc9SDDQYDRg/jznc60XzS29cdvqnQjXK/uOE2uZFfwY18uwUQNwv5CQLf6Ps4HrnnDl9/I2Z9gG/3Hfe7t1SsMou9wytf7RsMvluijdjas/j1z/HB4q8gAj5XoWcvt2Bfs24lzFo+GOUT9Z1sWc+C0oMNas2HAaCEBPSgQCMnv48dh37GlepmWPM8SzWOBKBA5PQSX+jyAEsO4Ggk/qPYZN1Ax5QGmNXiCSz78Bus3bAbV7IdiIqy4rftGqF/z1aoVKEcfrnwKzqPX+Q347zoTTxl3cyByl5AFmMS+HHrQaQ/OUdZaip+nZPb5cbv//g4+jyv331aerDBYKSuh3E7CpxITX/bs+9P+b9buQ5OHABRro8s8Py7/GnPF8BL9xagsJwbsT/FwOVwK1sFRdOYKBvGd2mLnml3l0CR/ul6bFh1qEw8k5/tiMfb8Gah6+mPCAK//fIg1v99G44eOoPyCTF4pFsqHu3RQkkKzRI8AT3YYPCjD01LBoASHPWgQCNefA/bfz6pBH/F7/vNLwdk1gNcdk8gaLIVwJVU6JmtG0hNrIm/PvoU7BbP8os4iJCd60BMdJRyQs9bMrIu4Om3lqHgsMvvW3/P39yDCX0ekqDIpnogcOTH43hv9qfY9tkuJU9hvXtS0HNER+VCdz0XPdhgMHz0MG7x9TdtxFswXSqEudBzW2F+ApCdDBSUNykBYMxZoNxpNwrrA7fdWx5P1r0bves2xX+OnkHG2Yu4LS4GDzaui1h7yXRQHx//D8buWIOoI1ZE74vyvCkWJRg1uU14uF19TOvbKewpjoKRDdvcGgT0YINak2YAKCEBPSjQpFnrsHnH4ZLJm4t8rSsKuHA34LZ4XtXFl0CYgYbJlfH+H566YWoEkUKhw+d/wZncLFgPWGH/yabkEVRiSIsbNe6Ox+oRz3ITt4QO6a2p+OIgXgaUG0sMUPRgg8Fg0nrc+c5CdBw5D47zjhK+w3vO//KdIhj0LPQOb3gv7kqpivpVk1Ar6TZV033ii/k4mHlW6dt8xQTbcSvMuWYloXRhTSfa1a+Hua16q+qLlUggHAS0tsFwzCnQPhkABkqsWH2tFUgs2T3Y7004HYV+v84J55tTBbhSxxO02S4DtgIzXG43HrunAab16gibxf8hEFH/k+N7MGbH6qszdgKWy57AoDBR5AYDvuj4HFLKVZCgyKYkEDwBrW0w2JFrPe7RC9dix4YjfoevZIOxAueaiejNBLMDiPrV40PS6qUofqNyfNm55xyFTty1dvp10cTbovFd5/HB4mM7EpAmoLUNSk8gBB1EVAA4d+5czJw5E6dPn0bjxo0xZ84cPPDAA2Vi2rx5M8aOHYs9e/agevXqmDBhAoYOHaoaq9YKtOjzb7B48ZYyxyscuTMa+LUe4IwzwXoFsOYWLQkDGNT+Pozq2LrM9i//+zOszNgJp9tVZp3XWnRG91r3qGbGiiQQSgJa22Cwc9Fy3CIxc9vBb8Ga4/b74uidU1Z1IKemx19EnyvaU2w2oXpiPFaP7oPYqJJJ573tClyFaLJmmvL1r6xS0R6HbY+PDRYf25GANAEtbVB68CHqIGICwJUrV6JPnz4QQWDr1q0xf/58LFq0CHv37kVKSkopXBkZGWjSpAkGDRqEIUOGYMuWLRg+fDhWrFiBHj16qMKrtQK1HPcWLMfLzvMnJuG0A1eSTXBUBGxZgEVc9VRU4uw2bH5hiLKJ21+Ztvsf+OuRb68bAL5+b1c8kaLv+2JVCZOVDElAaxsMFpqW497w4yGkz16nvBD6O83rnVN2VRNyKrvhijHBfq5k3cndHkKvliUPfRRnMeDrv2Hr2QxlteHaYjGZ0at2M7zc/LFg8bEdCUgT0NIGpQcfog4iJgBs2bIlmjdvjnnz5vnQNGzYEF27dsX06aWXIyZOnIiPPvoI+/bt89UXX/92796Nbdu2qcKrpQKJvVpN0l9H+WOA2ek/mbNwvY5EIK+SGfnxbmUJ2CwyvhYr7494Go2T/V/HtOXMT+j/9dXroq6FYjWZ8XWn0ahg9yR+ZSGBm01ASxuUmauW4x7yv6uxfe9hxBz3n9PPO6+smkCh3aT4kOiLV/2G+K+0O1Kw8NmyX5S/P38cv/9yqZI+qngIKJ4oDp6te2gQapfnFZIyOsS2cgS0tEG5kYeudUQEgPn5+YiNjcWqVavQrVs3H51Ro0Zh165dEEu915a2bduiWbNmePPNN32/WrNmDXr16oWcnBzYbKW/ijkcDoh/vEUoUM2aNZGZmYn4+JubBkUs4zT/8xzY8lyIO2QtlZXL63SzapvgsokrnERSV1OJk8JiHmtG91E2d/srwnn33rQEP146icJr3uTFH4G+9Voi/Z4OodNG9kQCARIwihPXk+8YsHAVvso/jKTNtjL3DheKlYMUz/3ABbFA1JWSL47Na1fH8qHXP8Sx8fQhvPD9epx3ZPukWjMuEa/f2w1NKyYHKGlWJ4HQEjCK7wjtrEv2FhEB4KlTp1CjRg1lGbdVq1a+GU6bNg1Lly7FgQMHSjGsX78++vXrh/T0dN/vtm7dqiwfi/6qVatWqs2UKVPw8ssvl/q5FgGgWFpp8qfXkVcvHxX/YYct15NlwVdMgFjCcZbzOO7CKMCSW/JCkKoJ5bBh4sDr3jmbmZ+LP367Fpt/OezrWizh/OH2Fph41yOwmo1xWjScRsS+tSNgFCeuJ98x9eONePf0Nyh30ILYY5ZSp4DdZs+2EZFFQCwYuK0mWIpdKW4xmdCvbSrG/rbs/dVejXC6XNh2NgPn8q4gOS4RLZJSYBYJBFlIQGMCRvEd4cQUUQGgCODS0tJ8vKZOnYrly5dj//79fgPA/v37Y9KkSb7fiQCyTZs2yiGSqlVL33ygp7d4MejOs5fiPxVPwn7aDOsZG2xiT48LcEWZkB9/Nf2LEgDaTLAWc+LiZ9N6dkSX1Eaq9OunrPPYeeEEbGYz2lS+HRWjueyrChwrhZWAUZy4nnzH5Zxc3P/228iv4UT8VjusuVDyiIplBJE/1JFogttW9OJodStbTESeQFHET0WKoE/H9UONCglhlS07J4FwEjCK7wgng4gIAG/WEvC1gtBagQ6eOYeuC5cgr24BYvba4HYVpXTxpugvGrBYzrHkXV3+jbNHYdxv26D3/Ty9G07jYt/hJ6C1DQY7Q63HPXPDl3jnxBZYrgC2E3bl9g/lag9RirZ7iK9/LosJ5nw3xH5fUUSS+Dee7oT2jW4PdupsRwK6IKC1DeoBQkQEgAKkOASSmpqqnAL2lkaNGqFLly5lHgJZv369ckrYW4YNG6bsGTTCIRDvmPeeOoshH3yI09GXYcoHoo5HwS0cuXDeVrfiwO15wIPVUvBwm0YoH2NHqztqIZoXsOvB/jgGSQJGdeJ6GPffdv4b03f+E7nufEQftsNt9vgNsSbssop/TKgTG4/U2snKNYH1qyWhW2pjVCjH+2cl1ZbNdUBADzaoNYaICQC9aWDeeecdZRl4wYIFWLhwoZLjr1atWspS78mTJ7Fs2TKFuTcNjEgBI1LBiKBPnAI2UhqY4spzKScXGZcvolJcHJLjE5BfWKjc0CH265i450ZrO+Pzw0TAqE5cT+M+k5OFE9mZSIqOQ7Tbhl+yshBltSA5MQHl7bxvNkyqy241JqAnG9QKRcQEgAKg+Po3Y8YMZQ+fyPE3e/ZsiNO+oogDH0ePHsWmTZt8rMXp4DFjxvgSQYvUMEZKBK2V0vC5JKAXAkZ14kYdt17kznGQgCwB2iAQUQGgrEIE2p4KFCgx1ieB0BIwqg0addyhlR57IwHtCNAGGQBKaR8VSAofG5OANAGj2qBRxy0tMHZAAjohQBtkACililQgKXxsTALSBIxqg0Ydt7TA2AEJ6IQAbZABoJQqUoGk8LExCUgTMKoNGnXc0gJjBySgEwK0QQaAUqpIBZLCx8YkIE3AqDZo1HFLC4wdkIBOCNAGGQBKqSIVSAofG5OANAGj2qBRxy0tMHZAAjohQBtkACililQgKXxsTALSBIxqg0Ydt7TA2AEJ6IQAbZABoJQqUoGk8LExCUgTMKoNGnXc0gJjBySgEwK0QQaAUqpIBZLCx8YkIE3AqDZo1HFLC4wdkIBOCNAGGQBKqSIVSAofG5OANAGj2qBRxy0tMHZAAjohQBtkACililQgKXxsTALSBIxqg0Ydt7TA2AEJ6IQAbZABoJQqUoGk8LExCUgTMKoNGnXc0gJjBySgEwK0QQaAUqpIBZLCx8YkIE3AqDZo1HFLC4wdkIBOCNAGGQBKqSIVSAofG5OANAGj2qBRxy0tMHZAAjohQBtkACililQgKXxsTALSBIxqg0Ydt7TA2AEJ6IQAbZABoJQqUoGk8LExCUgTMKoNGnXc0gJjBySgEwK0QQaAUqpIBZLCx8YkIE3AqDZo1HFLC4wdkIBOCNAGGQBKqSIVSAofG5OANAGj2qBRxy0tMHZAAjohQBtkACililQgKXxsTALSBIxqg0Ydt7TA2AEJ6IQAbZABoJQqUoGk8LExCUgTMKoNGnXc0gJjBySgEwK0QQaAUqpIBZLCx8YkIE3AqDZo1HFLC4wdkIBOCNAGGQBKqSIVSAofG5OANAGj2qBRxy0tMHZAAjohQBtkACililQgKXxsTALSBIxqg0Ydt7TA2AEJ6IQAbZABoJQqZmZmIjExEcePH0d8fLxUX2xMAiQQOAHhxGvWrInLly8jISEh8A40akHfoRF4PpYEiggY1XeEUoAmt9vtDmWHt1JfJ06cUP74sJAACWhLQLyEJScnazuIAJ5O3xEALFYlgTASMJrvCCUKBoASNF0uF06dOoXy5cvDZDJJ9CTf1Ps2w6+R8iyv7YFsQ8/U26MsW/H+mpWVherVq8NsNodvoCHumb4jxEB12p2sfut0WpoPKxRcjeo7QgmfAWAoaWrYF/czhA8+2ZJt+Aho3zP1O3wyINvwsCXX0HBlABgajpr3QoMInwjIlmzDR0D7nqnf4ZMB2YaHLbmGhisDwNBw1LwXGkT4REC2ZBs+Atr3TP0OnwzINjxsyTU0XBkAhoaj5r04HA5Mnz4dkyZNgt1u13w8kTQAsg2fNMk2fGzV9kwZqCUVeD2yDZyZmhbkqobSjeswALwxI9YgARIgARIgARIggYgiwAAwosTJyZAACZAACZAACZDAjQkwALwxI9YgARIgARIgARIggYgiwAAwosTJyZAACZAACZAACZDAjQkwALwxI9YgARIgARIgARIggYgiwADQQOKcO3cuZs6cidOnT6Nx48aYM2cOHnjggTJnsHnzZowdOxZ79uxRbkqYMGEChg4daqAZ37yhBsJW8B83bhy+//57HDp0CCNHjlRkweKfQCBsV69ejXnz5mHXrl0QJ/2Enk+ZMgUdO3YkXgkCgchAPIa+Qz3sQNjSd4SHK/2Geq7FazIADI7bTW+1cuVK9OnTB8LZtG7dGvPnz8eiRYuwd+9epKSklBpPRkYGmjRpgkGDBmHIkCHYsmULhg8fjhUrVqBHjx43ffx6fmCgbI8ePYrZs2cjNTVV+Xe7du0YAJYh4EDZjh49WnlZad++PRITE/Huu+9i1qxZ2L59O5o1a6ZnNdLt2AKVAX2HelEGypa+Qx3bQLnSb6jjem0tBoDBcbvprVq2bInmzZsrX0e8pWHDhujatauS/+/aMnHiRHz00UfYt2+f71fi69/u3buxbdu2mz5+PT8wULbF5/Lggw+iadOmDADLELAMW2+X4itg79698dJLL+lZjXQ7tkBlQN+hXpSBsqXvUMdWhiv9hjrGohYDQPWsNKuZn5+P2NhYrFq1Ct26dfONY9SoUcpSmViuuba0bdtW+WLy5ptv+n61Zs0a9OrVCzk5ObDZbJrNR08PDoYtnbg6CcqyFU9xuVyoXbu2sn1hxIgR6h7MWj4CwciAvkOdAgXDlr7jxmxludJv3JixtwYDQPWsNKt56tQp1KhRQ1nGbdWqlW8c06ZNw9KlS3HgwIFSY6tfvz769euH9PR03++2bt2qLB+L/qpVq6bZfPT04GDY0omrk6AsW/EUsef1tddeU75kV65cWd2DWctHIBgZ0HeoU6Bg2NJ33JitLFf6jRszZgConpHmNb0GIQK4tLQ033imTp2K5cuXY//+/X4DwP79+ytXw3mLCCDbtGmjHCKpWrWq5vPSwwCCYUsnrk5ysmzFftWBAwdi3bp1ePjhh9U9lLVKEAhGBiIApO+4sSIFw5a+I/xc6TduzJgBoHpGmtcM5pM4l3HUiS0YtnTi4WcrNoGLIERse+jUqZO6B7JWKQLB6Dd9hzpFCoYtfceN2cpwpd+4Md/iNbgEHBgvzWqLTbHi1Kk4BewtjRo1QpcuXco8BLJ+/XrllLC3DBs2TNkzyEMgJcUYKFs6cfVmEAxb8QY/YMAA5cS6OOTEIkcgUBmIQyD0HeqYB8qWviN8XOk31LFlABg4J81beI/Fv/POO8oy8IIFC7Bw4UIlx1+tWrWUpd6TJ09i2bJlyli9qRxEChiRCkYEfeIUMNPAlBZloGxFDyKQFkUsUTZo0ADjx49HVFQURFDOcpVAoGyFfj7zzDPK4aXu3bv7OoqJiUFCQgLRBkEgUBnQd6iHHChb+g51bAPlSr+hjuu1tfgFMDhumrQSX/9mzJih7OETOf5EDjqxXCOKOPAhckxt2rTJNzZxOnjMmDG+RNDizZ6JoP2LLlC2JpOpVEciEBcyYClJIBC2Iq2Ov1Ptffv2xZIlS4g2SAKByEA8gr5DPehA2dJ3qGMbCFf6DXVMGQAGx4mtSIAESIAESIAESCBiCPALYMSIkhMhARIgARIgARIgAXUEGACq48RaJEACJEACJEACJBAxBBgARowoORESIAESIAESIAESUEeAAaA6TqxFAiRAAiRAAiRAAhFDgAFgxIiSEyEBEiABEiABEiABdQQYAKrjxFokQAIkQAIkQAIkEDEEGABGjCg5ERIgARIgARIgARJQR4ABoDpOrEUCJEACJEACJEACEUOAAWDEiJITIQESIAESIAESIAF1BBgAquPEWiRAAiRAAiRAAiQQMQQYAEaMKDkREiABEiABEiABElBHgAGgOk6sRQIkQAIkQAIkQAIRQ4ABYMSIkhMhARIgARIgARIgAXUEGACq48RaJEACJEACJEACJBAxBBgARowoORESIAESIAESIAESUEeAAaA6TqxFAiRAAiRAAiRAAhFDgAFgxIiSEyEBEiABEiABEiABdQQYAKrjxFokQAIkQAIkQAIkEDEEGABGjCg5ERIgARIgARIgARJQR4ABoDpOrEUCJEACJEACJEACEUOAAWDEiJITIQESIAESIAESIAF1BBgAquPEWiRAAiRAAiRAAiQQMQQYAEaMKDkREiABEiABEiABElBHgAGgOk6sRQIkQAIkQAIkQAIRQ4ABYMSIkhMhARIgARIgARIgAXUEGACq48RaJEACJEACJEACJBAxBBgARowoORESIAESIAESIAESUEeAAaA6TqxFAiRAAiRAAiRAAhFDgAFgxIiSEyEBEiABEiABEiABdQQYAKrjxFokQAIkQAIkQAIkEDEEGABGjCg5ERIgARIgARIgARJQR+D/AdUmOreoYOuPAAAAAElFTkSuQmCC\" width=\"640\">"
      ],
      "text/plain": [
       "<IPython.core.display.HTML object>"
      ]
     },
     "metadata": {},
     "output_type": "display_data"
    },
    {
     "data": {
      "text/plain": [
       "<matplotlib.collections.PathCollection at 0x7fbd86176490>"
      ]
     },
     "execution_count": 396,
     "metadata": {},
     "output_type": "execute_result"
    }
   ],
   "source": [
    "# Start with scatter, area concentration units\n",
    "fig,axs=plt.subplots(1,2,sharex=True,sharey=True)\n",
    "\n",
    "\n",
    "axs[0].scatter(dfA['part_per_m2_nofiber'],dfA['C_model'],30,\n",
    "               dfA['area_m2'])\n",
    "axs[1].scatter(dfB['part_per_m2_nofiber'],dfB['C_model'],30,\n",
    "               dfB['area_m2'])"
   ]
  },
  {
   "cell_type": "code",
   "execution_count": 416,
   "metadata": {},
   "outputs": [
    {
     "data": {
      "application/javascript": [
       "/* Put everything inside the global mpl namespace */\n",
       "/* global mpl */\n",
       "window.mpl = {};\n",
       "\n",
       "mpl.get_websocket_type = function () {\n",
       "    if (typeof WebSocket !== 'undefined') {\n",
       "        return WebSocket;\n",
       "    } else if (typeof MozWebSocket !== 'undefined') {\n",
       "        return MozWebSocket;\n",
       "    } else {\n",
       "        alert(\n",
       "            'Your browser does not have WebSocket support. ' +\n",
       "                'Please try Chrome, Safari or Firefox ≥ 6. ' +\n",
       "                'Firefox 4 and 5 are also supported but you ' +\n",
       "                'have to enable WebSockets in about:config.'\n",
       "        );\n",
       "    }\n",
       "};\n",
       "\n",
       "mpl.figure = function (figure_id, websocket, ondownload, parent_element) {\n",
       "    this.id = figure_id;\n",
       "\n",
       "    this.ws = websocket;\n",
       "\n",
       "    this.supports_binary = this.ws.binaryType !== undefined;\n",
       "\n",
       "    if (!this.supports_binary) {\n",
       "        var warnings = document.getElementById('mpl-warnings');\n",
       "        if (warnings) {\n",
       "            warnings.style.display = 'block';\n",
       "            warnings.textContent =\n",
       "                'This browser does not support binary websocket messages. ' +\n",
       "                'Performance may be slow.';\n",
       "        }\n",
       "    }\n",
       "\n",
       "    this.imageObj = new Image();\n",
       "\n",
       "    this.context = undefined;\n",
       "    this.message = undefined;\n",
       "    this.canvas = undefined;\n",
       "    this.rubberband_canvas = undefined;\n",
       "    this.rubberband_context = undefined;\n",
       "    this.format_dropdown = undefined;\n",
       "\n",
       "    this.image_mode = 'full';\n",
       "\n",
       "    this.root = document.createElement('div');\n",
       "    this.root.setAttribute('style', 'display: inline-block');\n",
       "    this._root_extra_style(this.root);\n",
       "\n",
       "    parent_element.appendChild(this.root);\n",
       "\n",
       "    this._init_header(this);\n",
       "    this._init_canvas(this);\n",
       "    this._init_toolbar(this);\n",
       "\n",
       "    var fig = this;\n",
       "\n",
       "    this.waiting = false;\n",
       "\n",
       "    this.ws.onopen = function () {\n",
       "        fig.send_message('supports_binary', { value: fig.supports_binary });\n",
       "        fig.send_message('send_image_mode', {});\n",
       "        if (fig.ratio !== 1) {\n",
       "            fig.send_message('set_dpi_ratio', { dpi_ratio: fig.ratio });\n",
       "        }\n",
       "        fig.send_message('refresh', {});\n",
       "    };\n",
       "\n",
       "    this.imageObj.onload = function () {\n",
       "        if (fig.image_mode === 'full') {\n",
       "            // Full images could contain transparency (where diff images\n",
       "            // almost always do), so we need to clear the canvas so that\n",
       "            // there is no ghosting.\n",
       "            fig.context.clearRect(0, 0, fig.canvas.width, fig.canvas.height);\n",
       "        }\n",
       "        fig.context.drawImage(fig.imageObj, 0, 0);\n",
       "    };\n",
       "\n",
       "    this.imageObj.onunload = function () {\n",
       "        fig.ws.close();\n",
       "    };\n",
       "\n",
       "    this.ws.onmessage = this._make_on_message_function(this);\n",
       "\n",
       "    this.ondownload = ondownload;\n",
       "};\n",
       "\n",
       "mpl.figure.prototype._init_header = function () {\n",
       "    var titlebar = document.createElement('div');\n",
       "    titlebar.classList =\n",
       "        'ui-dialog-titlebar ui-widget-header ui-corner-all ui-helper-clearfix';\n",
       "    var titletext = document.createElement('div');\n",
       "    titletext.classList = 'ui-dialog-title';\n",
       "    titletext.setAttribute(\n",
       "        'style',\n",
       "        'width: 100%; text-align: center; padding: 3px;'\n",
       "    );\n",
       "    titlebar.appendChild(titletext);\n",
       "    this.root.appendChild(titlebar);\n",
       "    this.header = titletext;\n",
       "};\n",
       "\n",
       "mpl.figure.prototype._canvas_extra_style = function (_canvas_div) {};\n",
       "\n",
       "mpl.figure.prototype._root_extra_style = function (_canvas_div) {};\n",
       "\n",
       "mpl.figure.prototype._init_canvas = function () {\n",
       "    var fig = this;\n",
       "\n",
       "    var canvas_div = (this.canvas_div = document.createElement('div'));\n",
       "    canvas_div.setAttribute(\n",
       "        'style',\n",
       "        'border: 1px solid #ddd;' +\n",
       "            'box-sizing: content-box;' +\n",
       "            'clear: both;' +\n",
       "            'min-height: 1px;' +\n",
       "            'min-width: 1px;' +\n",
       "            'outline: 0;' +\n",
       "            'overflow: hidden;' +\n",
       "            'position: relative;' +\n",
       "            'resize: both;'\n",
       "    );\n",
       "\n",
       "    function on_keyboard_event_closure(name) {\n",
       "        return function (event) {\n",
       "            return fig.key_event(event, name);\n",
       "        };\n",
       "    }\n",
       "\n",
       "    canvas_div.addEventListener(\n",
       "        'keydown',\n",
       "        on_keyboard_event_closure('key_press')\n",
       "    );\n",
       "    canvas_div.addEventListener(\n",
       "        'keyup',\n",
       "        on_keyboard_event_closure('key_release')\n",
       "    );\n",
       "\n",
       "    this._canvas_extra_style(canvas_div);\n",
       "    this.root.appendChild(canvas_div);\n",
       "\n",
       "    var canvas = (this.canvas = document.createElement('canvas'));\n",
       "    canvas.classList.add('mpl-canvas');\n",
       "    canvas.setAttribute('style', 'box-sizing: content-box;');\n",
       "\n",
       "    this.context = canvas.getContext('2d');\n",
       "\n",
       "    var backingStore =\n",
       "        this.context.backingStorePixelRatio ||\n",
       "        this.context.webkitBackingStorePixelRatio ||\n",
       "        this.context.mozBackingStorePixelRatio ||\n",
       "        this.context.msBackingStorePixelRatio ||\n",
       "        this.context.oBackingStorePixelRatio ||\n",
       "        this.context.backingStorePixelRatio ||\n",
       "        1;\n",
       "\n",
       "    this.ratio = (window.devicePixelRatio || 1) / backingStore;\n",
       "    if (this.ratio !== 1) {\n",
       "        fig.send_message('set_dpi_ratio', { dpi_ratio: this.ratio });\n",
       "    }\n",
       "\n",
       "    var rubberband_canvas = (this.rubberband_canvas = document.createElement(\n",
       "        'canvas'\n",
       "    ));\n",
       "    rubberband_canvas.setAttribute(\n",
       "        'style',\n",
       "        'box-sizing: content-box; position: absolute; left: 0; top: 0; z-index: 1;'\n",
       "    );\n",
       "\n",
       "    // Apply a ponyfill if ResizeObserver is not implemented by browser.\n",
       "    if (this.ResizeObserver === undefined) {\n",
       "        if (window.ResizeObserver !== undefined) {\n",
       "            this.ResizeObserver = window.ResizeObserver;\n",
       "        } else {\n",
       "            var obs = _JSXTOOLS_RESIZE_OBSERVER({});\n",
       "            this.ResizeObserver = obs.ResizeObserver;\n",
       "        }\n",
       "    }\n",
       "\n",
       "    this.resizeObserverInstance = new this.ResizeObserver(function (entries) {\n",
       "        var nentries = entries.length;\n",
       "        for (var i = 0; i < nentries; i++) {\n",
       "            var entry = entries[i];\n",
       "            var width, height;\n",
       "            if (entry.contentBoxSize) {\n",
       "                if (entry.contentBoxSize instanceof Array) {\n",
       "                    // Chrome 84 implements new version of spec.\n",
       "                    width = entry.contentBoxSize[0].inlineSize;\n",
       "                    height = entry.contentBoxSize[0].blockSize;\n",
       "                } else {\n",
       "                    // Firefox implements old version of spec.\n",
       "                    width = entry.contentBoxSize.inlineSize;\n",
       "                    height = entry.contentBoxSize.blockSize;\n",
       "                }\n",
       "            } else {\n",
       "                // Chrome <84 implements even older version of spec.\n",
       "                width = entry.contentRect.width;\n",
       "                height = entry.contentRect.height;\n",
       "            }\n",
       "\n",
       "            // Keep the size of the canvas and rubber band canvas in sync with\n",
       "            // the canvas container.\n",
       "            if (entry.devicePixelContentBoxSize) {\n",
       "                // Chrome 84 implements new version of spec.\n",
       "                canvas.setAttribute(\n",
       "                    'width',\n",
       "                    entry.devicePixelContentBoxSize[0].inlineSize\n",
       "                );\n",
       "                canvas.setAttribute(\n",
       "                    'height',\n",
       "                    entry.devicePixelContentBoxSize[0].blockSize\n",
       "                );\n",
       "            } else {\n",
       "                canvas.setAttribute('width', width * fig.ratio);\n",
       "                canvas.setAttribute('height', height * fig.ratio);\n",
       "            }\n",
       "            canvas.setAttribute(\n",
       "                'style',\n",
       "                'width: ' + width + 'px; height: ' + height + 'px;'\n",
       "            );\n",
       "\n",
       "            rubberband_canvas.setAttribute('width', width);\n",
       "            rubberband_canvas.setAttribute('height', height);\n",
       "\n",
       "            // And update the size in Python. We ignore the initial 0/0 size\n",
       "            // that occurs as the element is placed into the DOM, which should\n",
       "            // otherwise not happen due to the minimum size styling.\n",
       "            if (width != 0 && height != 0) {\n",
       "                fig.request_resize(width, height);\n",
       "            }\n",
       "        }\n",
       "    });\n",
       "    this.resizeObserverInstance.observe(canvas_div);\n",
       "\n",
       "    function on_mouse_event_closure(name) {\n",
       "        return function (event) {\n",
       "            return fig.mouse_event(event, name);\n",
       "        };\n",
       "    }\n",
       "\n",
       "    rubberband_canvas.addEventListener(\n",
       "        'mousedown',\n",
       "        on_mouse_event_closure('button_press')\n",
       "    );\n",
       "    rubberband_canvas.addEventListener(\n",
       "        'mouseup',\n",
       "        on_mouse_event_closure('button_release')\n",
       "    );\n",
       "    // Throttle sequential mouse events to 1 every 20ms.\n",
       "    rubberband_canvas.addEventListener(\n",
       "        'mousemove',\n",
       "        on_mouse_event_closure('motion_notify')\n",
       "    );\n",
       "\n",
       "    rubberband_canvas.addEventListener(\n",
       "        'mouseenter',\n",
       "        on_mouse_event_closure('figure_enter')\n",
       "    );\n",
       "    rubberband_canvas.addEventListener(\n",
       "        'mouseleave',\n",
       "        on_mouse_event_closure('figure_leave')\n",
       "    );\n",
       "\n",
       "    canvas_div.addEventListener('wheel', function (event) {\n",
       "        if (event.deltaY < 0) {\n",
       "            event.step = 1;\n",
       "        } else {\n",
       "            event.step = -1;\n",
       "        }\n",
       "        on_mouse_event_closure('scroll')(event);\n",
       "    });\n",
       "\n",
       "    canvas_div.appendChild(canvas);\n",
       "    canvas_div.appendChild(rubberband_canvas);\n",
       "\n",
       "    this.rubberband_context = rubberband_canvas.getContext('2d');\n",
       "    this.rubberband_context.strokeStyle = '#000000';\n",
       "\n",
       "    this._resize_canvas = function (width, height, forward) {\n",
       "        if (forward) {\n",
       "            canvas_div.style.width = width + 'px';\n",
       "            canvas_div.style.height = height + 'px';\n",
       "        }\n",
       "    };\n",
       "\n",
       "    // Disable right mouse context menu.\n",
       "    this.rubberband_canvas.addEventListener('contextmenu', function (_e) {\n",
       "        event.preventDefault();\n",
       "        return false;\n",
       "    });\n",
       "\n",
       "    function set_focus() {\n",
       "        canvas.focus();\n",
       "        canvas_div.focus();\n",
       "    }\n",
       "\n",
       "    window.setTimeout(set_focus, 100);\n",
       "};\n",
       "\n",
       "mpl.figure.prototype._init_toolbar = function () {\n",
       "    var fig = this;\n",
       "\n",
       "    var toolbar = document.createElement('div');\n",
       "    toolbar.classList = 'mpl-toolbar';\n",
       "    this.root.appendChild(toolbar);\n",
       "\n",
       "    function on_click_closure(name) {\n",
       "        return function (_event) {\n",
       "            return fig.toolbar_button_onclick(name);\n",
       "        };\n",
       "    }\n",
       "\n",
       "    function on_mouseover_closure(tooltip) {\n",
       "        return function (event) {\n",
       "            if (!event.currentTarget.disabled) {\n",
       "                return fig.toolbar_button_onmouseover(tooltip);\n",
       "            }\n",
       "        };\n",
       "    }\n",
       "\n",
       "    fig.buttons = {};\n",
       "    var buttonGroup = document.createElement('div');\n",
       "    buttonGroup.classList = 'mpl-button-group';\n",
       "    for (var toolbar_ind in mpl.toolbar_items) {\n",
       "        var name = mpl.toolbar_items[toolbar_ind][0];\n",
       "        var tooltip = mpl.toolbar_items[toolbar_ind][1];\n",
       "        var image = mpl.toolbar_items[toolbar_ind][2];\n",
       "        var method_name = mpl.toolbar_items[toolbar_ind][3];\n",
       "\n",
       "        if (!name) {\n",
       "            /* Instead of a spacer, we start a new button group. */\n",
       "            if (buttonGroup.hasChildNodes()) {\n",
       "                toolbar.appendChild(buttonGroup);\n",
       "            }\n",
       "            buttonGroup = document.createElement('div');\n",
       "            buttonGroup.classList = 'mpl-button-group';\n",
       "            continue;\n",
       "        }\n",
       "\n",
       "        var button = (fig.buttons[name] = document.createElement('button'));\n",
       "        button.classList = 'mpl-widget';\n",
       "        button.setAttribute('role', 'button');\n",
       "        button.setAttribute('aria-disabled', 'false');\n",
       "        button.addEventListener('click', on_click_closure(method_name));\n",
       "        button.addEventListener('mouseover', on_mouseover_closure(tooltip));\n",
       "\n",
       "        var icon_img = document.createElement('img');\n",
       "        icon_img.src = '_images/' + image + '.png';\n",
       "        icon_img.srcset = '_images/' + image + '_large.png 2x';\n",
       "        icon_img.alt = tooltip;\n",
       "        button.appendChild(icon_img);\n",
       "\n",
       "        buttonGroup.appendChild(button);\n",
       "    }\n",
       "\n",
       "    if (buttonGroup.hasChildNodes()) {\n",
       "        toolbar.appendChild(buttonGroup);\n",
       "    }\n",
       "\n",
       "    var fmt_picker = document.createElement('select');\n",
       "    fmt_picker.classList = 'mpl-widget';\n",
       "    toolbar.appendChild(fmt_picker);\n",
       "    this.format_dropdown = fmt_picker;\n",
       "\n",
       "    for (var ind in mpl.extensions) {\n",
       "        var fmt = mpl.extensions[ind];\n",
       "        var option = document.createElement('option');\n",
       "        option.selected = fmt === mpl.default_extension;\n",
       "        option.innerHTML = fmt;\n",
       "        fmt_picker.appendChild(option);\n",
       "    }\n",
       "\n",
       "    var status_bar = document.createElement('span');\n",
       "    status_bar.classList = 'mpl-message';\n",
       "    toolbar.appendChild(status_bar);\n",
       "    this.message = status_bar;\n",
       "};\n",
       "\n",
       "mpl.figure.prototype.request_resize = function (x_pixels, y_pixels) {\n",
       "    // Request matplotlib to resize the figure. Matplotlib will then trigger a resize in the client,\n",
       "    // which will in turn request a refresh of the image.\n",
       "    this.send_message('resize', { width: x_pixels, height: y_pixels });\n",
       "};\n",
       "\n",
       "mpl.figure.prototype.send_message = function (type, properties) {\n",
       "    properties['type'] = type;\n",
       "    properties['figure_id'] = this.id;\n",
       "    this.ws.send(JSON.stringify(properties));\n",
       "};\n",
       "\n",
       "mpl.figure.prototype.send_draw_message = function () {\n",
       "    if (!this.waiting) {\n",
       "        this.waiting = true;\n",
       "        this.ws.send(JSON.stringify({ type: 'draw', figure_id: this.id }));\n",
       "    }\n",
       "};\n",
       "\n",
       "mpl.figure.prototype.handle_save = function (fig, _msg) {\n",
       "    var format_dropdown = fig.format_dropdown;\n",
       "    var format = format_dropdown.options[format_dropdown.selectedIndex].value;\n",
       "    fig.ondownload(fig, format);\n",
       "};\n",
       "\n",
       "mpl.figure.prototype.handle_resize = function (fig, msg) {\n",
       "    var size = msg['size'];\n",
       "    if (size[0] !== fig.canvas.width || size[1] !== fig.canvas.height) {\n",
       "        fig._resize_canvas(size[0], size[1], msg['forward']);\n",
       "        fig.send_message('refresh', {});\n",
       "    }\n",
       "};\n",
       "\n",
       "mpl.figure.prototype.handle_rubberband = function (fig, msg) {\n",
       "    var x0 = msg['x0'] / fig.ratio;\n",
       "    var y0 = (fig.canvas.height - msg['y0']) / fig.ratio;\n",
       "    var x1 = msg['x1'] / fig.ratio;\n",
       "    var y1 = (fig.canvas.height - msg['y1']) / fig.ratio;\n",
       "    x0 = Math.floor(x0) + 0.5;\n",
       "    y0 = Math.floor(y0) + 0.5;\n",
       "    x1 = Math.floor(x1) + 0.5;\n",
       "    y1 = Math.floor(y1) + 0.5;\n",
       "    var min_x = Math.min(x0, x1);\n",
       "    var min_y = Math.min(y0, y1);\n",
       "    var width = Math.abs(x1 - x0);\n",
       "    var height = Math.abs(y1 - y0);\n",
       "\n",
       "    fig.rubberband_context.clearRect(\n",
       "        0,\n",
       "        0,\n",
       "        fig.canvas.width / fig.ratio,\n",
       "        fig.canvas.height / fig.ratio\n",
       "    );\n",
       "\n",
       "    fig.rubberband_context.strokeRect(min_x, min_y, width, height);\n",
       "};\n",
       "\n",
       "mpl.figure.prototype.handle_figure_label = function (fig, msg) {\n",
       "    // Updates the figure title.\n",
       "    fig.header.textContent = msg['label'];\n",
       "};\n",
       "\n",
       "mpl.figure.prototype.handle_cursor = function (fig, msg) {\n",
       "    var cursor = msg['cursor'];\n",
       "    switch (cursor) {\n",
       "        case 0:\n",
       "            cursor = 'pointer';\n",
       "            break;\n",
       "        case 1:\n",
       "            cursor = 'default';\n",
       "            break;\n",
       "        case 2:\n",
       "            cursor = 'crosshair';\n",
       "            break;\n",
       "        case 3:\n",
       "            cursor = 'move';\n",
       "            break;\n",
       "    }\n",
       "    fig.rubberband_canvas.style.cursor = cursor;\n",
       "};\n",
       "\n",
       "mpl.figure.prototype.handle_message = function (fig, msg) {\n",
       "    fig.message.textContent = msg['message'];\n",
       "};\n",
       "\n",
       "mpl.figure.prototype.handle_draw = function (fig, _msg) {\n",
       "    // Request the server to send over a new figure.\n",
       "    fig.send_draw_message();\n",
       "};\n",
       "\n",
       "mpl.figure.prototype.handle_image_mode = function (fig, msg) {\n",
       "    fig.image_mode = msg['mode'];\n",
       "};\n",
       "\n",
       "mpl.figure.prototype.handle_history_buttons = function (fig, msg) {\n",
       "    for (var key in msg) {\n",
       "        if (!(key in fig.buttons)) {\n",
       "            continue;\n",
       "        }\n",
       "        fig.buttons[key].disabled = !msg[key];\n",
       "        fig.buttons[key].setAttribute('aria-disabled', !msg[key]);\n",
       "    }\n",
       "};\n",
       "\n",
       "mpl.figure.prototype.handle_navigate_mode = function (fig, msg) {\n",
       "    if (msg['mode'] === 'PAN') {\n",
       "        fig.buttons['Pan'].classList.add('active');\n",
       "        fig.buttons['Zoom'].classList.remove('active');\n",
       "    } else if (msg['mode'] === 'ZOOM') {\n",
       "        fig.buttons['Pan'].classList.remove('active');\n",
       "        fig.buttons['Zoom'].classList.add('active');\n",
       "    } else {\n",
       "        fig.buttons['Pan'].classList.remove('active');\n",
       "        fig.buttons['Zoom'].classList.remove('active');\n",
       "    }\n",
       "};\n",
       "\n",
       "mpl.figure.prototype.updated_canvas_event = function () {\n",
       "    // Called whenever the canvas gets updated.\n",
       "    this.send_message('ack', {});\n",
       "};\n",
       "\n",
       "// A function to construct a web socket function for onmessage handling.\n",
       "// Called in the figure constructor.\n",
       "mpl.figure.prototype._make_on_message_function = function (fig) {\n",
       "    return function socket_on_message(evt) {\n",
       "        if (evt.data instanceof Blob) {\n",
       "            /* FIXME: We get \"Resource interpreted as Image but\n",
       "             * transferred with MIME type text/plain:\" errors on\n",
       "             * Chrome.  But how to set the MIME type?  It doesn't seem\n",
       "             * to be part of the websocket stream */\n",
       "            evt.data.type = 'image/png';\n",
       "\n",
       "            /* Free the memory for the previous frames */\n",
       "            if (fig.imageObj.src) {\n",
       "                (window.URL || window.webkitURL).revokeObjectURL(\n",
       "                    fig.imageObj.src\n",
       "                );\n",
       "            }\n",
       "\n",
       "            fig.imageObj.src = (window.URL || window.webkitURL).createObjectURL(\n",
       "                evt.data\n",
       "            );\n",
       "            fig.updated_canvas_event();\n",
       "            fig.waiting = false;\n",
       "            return;\n",
       "        } else if (\n",
       "            typeof evt.data === 'string' &&\n",
       "            evt.data.slice(0, 21) === 'data:image/png;base64'\n",
       "        ) {\n",
       "            fig.imageObj.src = evt.data;\n",
       "            fig.updated_canvas_event();\n",
       "            fig.waiting = false;\n",
       "            return;\n",
       "        }\n",
       "\n",
       "        var msg = JSON.parse(evt.data);\n",
       "        var msg_type = msg['type'];\n",
       "\n",
       "        // Call the  \"handle_{type}\" callback, which takes\n",
       "        // the figure and JSON message as its only arguments.\n",
       "        try {\n",
       "            var callback = fig['handle_' + msg_type];\n",
       "        } catch (e) {\n",
       "            console.log(\n",
       "                \"No handler for the '\" + msg_type + \"' message type: \",\n",
       "                msg\n",
       "            );\n",
       "            return;\n",
       "        }\n",
       "\n",
       "        if (callback) {\n",
       "            try {\n",
       "                // console.log(\"Handling '\" + msg_type + \"' message: \", msg);\n",
       "                callback(fig, msg);\n",
       "            } catch (e) {\n",
       "                console.log(\n",
       "                    \"Exception inside the 'handler_\" + msg_type + \"' callback:\",\n",
       "                    e,\n",
       "                    e.stack,\n",
       "                    msg\n",
       "                );\n",
       "            }\n",
       "        }\n",
       "    };\n",
       "};\n",
       "\n",
       "// from http://stackoverflow.com/questions/1114465/getting-mouse-location-in-canvas\n",
       "mpl.findpos = function (e) {\n",
       "    //this section is from http://www.quirksmode.org/js/events_properties.html\n",
       "    var targ;\n",
       "    if (!e) {\n",
       "        e = window.event;\n",
       "    }\n",
       "    if (e.target) {\n",
       "        targ = e.target;\n",
       "    } else if (e.srcElement) {\n",
       "        targ = e.srcElement;\n",
       "    }\n",
       "    if (targ.nodeType === 3) {\n",
       "        // defeat Safari bug\n",
       "        targ = targ.parentNode;\n",
       "    }\n",
       "\n",
       "    // pageX,Y are the mouse positions relative to the document\n",
       "    var boundingRect = targ.getBoundingClientRect();\n",
       "    var x = e.pageX - (boundingRect.left + document.body.scrollLeft);\n",
       "    var y = e.pageY - (boundingRect.top + document.body.scrollTop);\n",
       "\n",
       "    return { x: x, y: y };\n",
       "};\n",
       "\n",
       "/*\n",
       " * return a copy of an object with only non-object keys\n",
       " * we need this to avoid circular references\n",
       " * http://stackoverflow.com/a/24161582/3208463\n",
       " */\n",
       "function simpleKeys(original) {\n",
       "    return Object.keys(original).reduce(function (obj, key) {\n",
       "        if (typeof original[key] !== 'object') {\n",
       "            obj[key] = original[key];\n",
       "        }\n",
       "        return obj;\n",
       "    }, {});\n",
       "}\n",
       "\n",
       "mpl.figure.prototype.mouse_event = function (event, name) {\n",
       "    var canvas_pos = mpl.findpos(event);\n",
       "\n",
       "    if (name === 'button_press') {\n",
       "        this.canvas.focus();\n",
       "        this.canvas_div.focus();\n",
       "    }\n",
       "\n",
       "    var x = canvas_pos.x * this.ratio;\n",
       "    var y = canvas_pos.y * this.ratio;\n",
       "\n",
       "    this.send_message(name, {\n",
       "        x: x,\n",
       "        y: y,\n",
       "        button: event.button,\n",
       "        step: event.step,\n",
       "        guiEvent: simpleKeys(event),\n",
       "    });\n",
       "\n",
       "    /* This prevents the web browser from automatically changing to\n",
       "     * the text insertion cursor when the button is pressed.  We want\n",
       "     * to control all of the cursor setting manually through the\n",
       "     * 'cursor' event from matplotlib */\n",
       "    event.preventDefault();\n",
       "    return false;\n",
       "};\n",
       "\n",
       "mpl.figure.prototype._key_event_extra = function (_event, _name) {\n",
       "    // Handle any extra behaviour associated with a key event\n",
       "};\n",
       "\n",
       "mpl.figure.prototype.key_event = function (event, name) {\n",
       "    // Prevent repeat events\n",
       "    if (name === 'key_press') {\n",
       "        if (event.which === this._key) {\n",
       "            return;\n",
       "        } else {\n",
       "            this._key = event.which;\n",
       "        }\n",
       "    }\n",
       "    if (name === 'key_release') {\n",
       "        this._key = null;\n",
       "    }\n",
       "\n",
       "    var value = '';\n",
       "    if (event.ctrlKey && event.which !== 17) {\n",
       "        value += 'ctrl+';\n",
       "    }\n",
       "    if (event.altKey && event.which !== 18) {\n",
       "        value += 'alt+';\n",
       "    }\n",
       "    if (event.shiftKey && event.which !== 16) {\n",
       "        value += 'shift+';\n",
       "    }\n",
       "\n",
       "    value += 'k';\n",
       "    value += event.which.toString();\n",
       "\n",
       "    this._key_event_extra(event, name);\n",
       "\n",
       "    this.send_message(name, { key: value, guiEvent: simpleKeys(event) });\n",
       "    return false;\n",
       "};\n",
       "\n",
       "mpl.figure.prototype.toolbar_button_onclick = function (name) {\n",
       "    if (name === 'download') {\n",
       "        this.handle_save(this, null);\n",
       "    } else {\n",
       "        this.send_message('toolbar_button', { name: name });\n",
       "    }\n",
       "};\n",
       "\n",
       "mpl.figure.prototype.toolbar_button_onmouseover = function (tooltip) {\n",
       "    this.message.textContent = tooltip;\n",
       "};\n",
       "\n",
       "///////////////// REMAINING CONTENT GENERATED BY embed_js.py /////////////////\n",
       "// prettier-ignore\n",
       "var _JSXTOOLS_RESIZE_OBSERVER=function(A){var t,i=new WeakMap,n=new WeakMap,a=new WeakMap,r=new WeakMap,o=new Set;function s(e){if(!(this instanceof s))throw new TypeError(\"Constructor requires 'new' operator\");i.set(this,e)}function h(){throw new TypeError(\"Function is not a constructor\")}function c(e,t,i,n){e=0 in arguments?Number(arguments[0]):0,t=1 in arguments?Number(arguments[1]):0,i=2 in arguments?Number(arguments[2]):0,n=3 in arguments?Number(arguments[3]):0,this.right=(this.x=this.left=e)+(this.width=i),this.bottom=(this.y=this.top=t)+(this.height=n),Object.freeze(this)}function d(){t=requestAnimationFrame(d);var s=new WeakMap,p=new Set;o.forEach((function(t){r.get(t).forEach((function(i){var r=t instanceof window.SVGElement,o=a.get(t),d=r?0:parseFloat(o.paddingTop),f=r?0:parseFloat(o.paddingRight),l=r?0:parseFloat(o.paddingBottom),u=r?0:parseFloat(o.paddingLeft),g=r?0:parseFloat(o.borderTopWidth),m=r?0:parseFloat(o.borderRightWidth),w=r?0:parseFloat(o.borderBottomWidth),b=u+f,F=d+l,v=(r?0:parseFloat(o.borderLeftWidth))+m,W=g+w,y=r?0:t.offsetHeight-W-t.clientHeight,E=r?0:t.offsetWidth-v-t.clientWidth,R=b+v,z=F+W,M=r?t.width:parseFloat(o.width)-R-E,O=r?t.height:parseFloat(o.height)-z-y;if(n.has(t)){var k=n.get(t);if(k[0]===M&&k[1]===O)return}n.set(t,[M,O]);var S=Object.create(h.prototype);S.target=t,S.contentRect=new c(u,d,M,O),s.has(i)||(s.set(i,[]),p.add(i)),s.get(i).push(S)}))})),p.forEach((function(e){i.get(e).call(e,s.get(e),e)}))}return s.prototype.observe=function(i){if(i instanceof window.Element){r.has(i)||(r.set(i,new Set),o.add(i),a.set(i,window.getComputedStyle(i)));var n=r.get(i);n.has(this)||n.add(this),cancelAnimationFrame(t),t=requestAnimationFrame(d)}},s.prototype.unobserve=function(i){if(i instanceof window.Element&&r.has(i)){var n=r.get(i);n.has(this)&&(n.delete(this),n.size||(r.delete(i),o.delete(i))),n.size||r.delete(i),o.size||cancelAnimationFrame(t)}},A.DOMRectReadOnly=c,A.ResizeObserver=s,A.ResizeObserverEntry=h,A}; // eslint-disable-line\n",
       "mpl.toolbar_items = [[\"Home\", \"Reset original view\", \"fa fa-home icon-home\", \"home\"], [\"Back\", \"Back to previous view\", \"fa fa-arrow-left icon-arrow-left\", \"back\"], [\"Forward\", \"Forward to next view\", \"fa fa-arrow-right icon-arrow-right\", \"forward\"], [\"\", \"\", \"\", \"\"], [\"Pan\", \"Left button pans, Right button zooms\\nx/y fixes axis, CTRL fixes aspect\", \"fa fa-arrows icon-move\", \"pan\"], [\"Zoom\", \"Zoom to rectangle\\nx/y fixes axis, CTRL fixes aspect\", \"fa fa-square-o icon-check-empty\", \"zoom\"], [\"\", \"\", \"\", \"\"], [\"Download\", \"Download plot\", \"fa fa-floppy-o icon-save\", \"download\"]];\n",
       "\n",
       "mpl.extensions = [\"eps\", \"jpeg\", \"pdf\", \"png\", \"ps\", \"raw\", \"svg\", \"tif\"];\n",
       "\n",
       "mpl.default_extension = \"png\";/* global mpl */\n",
       "\n",
       "var comm_websocket_adapter = function (comm) {\n",
       "    // Create a \"websocket\"-like object which calls the given IPython comm\n",
       "    // object with the appropriate methods. Currently this is a non binary\n",
       "    // socket, so there is still some room for performance tuning.\n",
       "    var ws = {};\n",
       "\n",
       "    ws.close = function () {\n",
       "        comm.close();\n",
       "    };\n",
       "    ws.send = function (m) {\n",
       "        //console.log('sending', m);\n",
       "        comm.send(m);\n",
       "    };\n",
       "    // Register the callback with on_msg.\n",
       "    comm.on_msg(function (msg) {\n",
       "        //console.log('receiving', msg['content']['data'], msg);\n",
       "        // Pass the mpl event to the overridden (by mpl) onmessage function.\n",
       "        ws.onmessage(msg['content']['data']);\n",
       "    });\n",
       "    return ws;\n",
       "};\n",
       "\n",
       "mpl.mpl_figure_comm = function (comm, msg) {\n",
       "    // This is the function which gets called when the mpl process\n",
       "    // starts-up an IPython Comm through the \"matplotlib\" channel.\n",
       "\n",
       "    var id = msg.content.data.id;\n",
       "    // Get hold of the div created by the display call when the Comm\n",
       "    // socket was opened in Python.\n",
       "    var element = document.getElementById(id);\n",
       "    var ws_proxy = comm_websocket_adapter(comm);\n",
       "\n",
       "    function ondownload(figure, _format) {\n",
       "        window.open(figure.canvas.toDataURL());\n",
       "    }\n",
       "\n",
       "    var fig = new mpl.figure(id, ws_proxy, ondownload, element);\n",
       "\n",
       "    // Call onopen now - mpl needs it, as it is assuming we've passed it a real\n",
       "    // web socket which is closed, not our websocket->open comm proxy.\n",
       "    ws_proxy.onopen();\n",
       "\n",
       "    fig.parent_element = element;\n",
       "    fig.cell_info = mpl.find_output_cell(\"<div id='\" + id + \"'></div>\");\n",
       "    if (!fig.cell_info) {\n",
       "        console.error('Failed to find cell for figure', id, fig);\n",
       "        return;\n",
       "    }\n",
       "    fig.cell_info[0].output_area.element.on(\n",
       "        'cleared',\n",
       "        { fig: fig },\n",
       "        fig._remove_fig_handler\n",
       "    );\n",
       "};\n",
       "\n",
       "mpl.figure.prototype.handle_close = function (fig, msg) {\n",
       "    var width = fig.canvas.width / fig.ratio;\n",
       "    fig.cell_info[0].output_area.element.off(\n",
       "        'cleared',\n",
       "        fig._remove_fig_handler\n",
       "    );\n",
       "    fig.resizeObserverInstance.unobserve(fig.canvas_div);\n",
       "\n",
       "    // Update the output cell to use the data from the current canvas.\n",
       "    fig.push_to_output();\n",
       "    var dataURL = fig.canvas.toDataURL();\n",
       "    // Re-enable the keyboard manager in IPython - without this line, in FF,\n",
       "    // the notebook keyboard shortcuts fail.\n",
       "    IPython.keyboard_manager.enable();\n",
       "    fig.parent_element.innerHTML =\n",
       "        '<img src=\"' + dataURL + '\" width=\"' + width + '\">';\n",
       "    fig.close_ws(fig, msg);\n",
       "};\n",
       "\n",
       "mpl.figure.prototype.close_ws = function (fig, msg) {\n",
       "    fig.send_message('closing', msg);\n",
       "    // fig.ws.close()\n",
       "};\n",
       "\n",
       "mpl.figure.prototype.push_to_output = function (_remove_interactive) {\n",
       "    // Turn the data on the canvas into data in the output cell.\n",
       "    var width = this.canvas.width / this.ratio;\n",
       "    var dataURL = this.canvas.toDataURL();\n",
       "    this.cell_info[1]['text/html'] =\n",
       "        '<img src=\"' + dataURL + '\" width=\"' + width + '\">';\n",
       "};\n",
       "\n",
       "mpl.figure.prototype.updated_canvas_event = function () {\n",
       "    // Tell IPython that the notebook contents must change.\n",
       "    IPython.notebook.set_dirty(true);\n",
       "    this.send_message('ack', {});\n",
       "    var fig = this;\n",
       "    // Wait a second, then push the new image to the DOM so\n",
       "    // that it is saved nicely (might be nice to debounce this).\n",
       "    setTimeout(function () {\n",
       "        fig.push_to_output();\n",
       "    }, 1000);\n",
       "};\n",
       "\n",
       "mpl.figure.prototype._init_toolbar = function () {\n",
       "    var fig = this;\n",
       "\n",
       "    var toolbar = document.createElement('div');\n",
       "    toolbar.classList = 'btn-toolbar';\n",
       "    this.root.appendChild(toolbar);\n",
       "\n",
       "    function on_click_closure(name) {\n",
       "        return function (_event) {\n",
       "            return fig.toolbar_button_onclick(name);\n",
       "        };\n",
       "    }\n",
       "\n",
       "    function on_mouseover_closure(tooltip) {\n",
       "        return function (event) {\n",
       "            if (!event.currentTarget.disabled) {\n",
       "                return fig.toolbar_button_onmouseover(tooltip);\n",
       "            }\n",
       "        };\n",
       "    }\n",
       "\n",
       "    fig.buttons = {};\n",
       "    var buttonGroup = document.createElement('div');\n",
       "    buttonGroup.classList = 'btn-group';\n",
       "    var button;\n",
       "    for (var toolbar_ind in mpl.toolbar_items) {\n",
       "        var name = mpl.toolbar_items[toolbar_ind][0];\n",
       "        var tooltip = mpl.toolbar_items[toolbar_ind][1];\n",
       "        var image = mpl.toolbar_items[toolbar_ind][2];\n",
       "        var method_name = mpl.toolbar_items[toolbar_ind][3];\n",
       "\n",
       "        if (!name) {\n",
       "            /* Instead of a spacer, we start a new button group. */\n",
       "            if (buttonGroup.hasChildNodes()) {\n",
       "                toolbar.appendChild(buttonGroup);\n",
       "            }\n",
       "            buttonGroup = document.createElement('div');\n",
       "            buttonGroup.classList = 'btn-group';\n",
       "            continue;\n",
       "        }\n",
       "\n",
       "        button = fig.buttons[name] = document.createElement('button');\n",
       "        button.classList = 'btn btn-default';\n",
       "        button.href = '#';\n",
       "        button.title = name;\n",
       "        button.innerHTML = '<i class=\"fa ' + image + ' fa-lg\"></i>';\n",
       "        button.addEventListener('click', on_click_closure(method_name));\n",
       "        button.addEventListener('mouseover', on_mouseover_closure(tooltip));\n",
       "        buttonGroup.appendChild(button);\n",
       "    }\n",
       "\n",
       "    if (buttonGroup.hasChildNodes()) {\n",
       "        toolbar.appendChild(buttonGroup);\n",
       "    }\n",
       "\n",
       "    // Add the status bar.\n",
       "    var status_bar = document.createElement('span');\n",
       "    status_bar.classList = 'mpl-message pull-right';\n",
       "    toolbar.appendChild(status_bar);\n",
       "    this.message = status_bar;\n",
       "\n",
       "    // Add the close button to the window.\n",
       "    var buttongrp = document.createElement('div');\n",
       "    buttongrp.classList = 'btn-group inline pull-right';\n",
       "    button = document.createElement('button');\n",
       "    button.classList = 'btn btn-mini btn-primary';\n",
       "    button.href = '#';\n",
       "    button.title = 'Stop Interaction';\n",
       "    button.innerHTML = '<i class=\"fa fa-power-off icon-remove icon-large\"></i>';\n",
       "    button.addEventListener('click', function (_evt) {\n",
       "        fig.handle_close(fig, {});\n",
       "    });\n",
       "    button.addEventListener(\n",
       "        'mouseover',\n",
       "        on_mouseover_closure('Stop Interaction')\n",
       "    );\n",
       "    buttongrp.appendChild(button);\n",
       "    var titlebar = this.root.querySelector('.ui-dialog-titlebar');\n",
       "    titlebar.insertBefore(buttongrp, titlebar.firstChild);\n",
       "};\n",
       "\n",
       "mpl.figure.prototype._remove_fig_handler = function (event) {\n",
       "    var fig = event.data.fig;\n",
       "    if (event.target !== this) {\n",
       "        // Ignore bubbled events from children.\n",
       "        return;\n",
       "    }\n",
       "    fig.close_ws(fig, {});\n",
       "};\n",
       "\n",
       "mpl.figure.prototype._root_extra_style = function (el) {\n",
       "    el.style.boxSizing = 'content-box'; // override notebook setting of border-box.\n",
       "};\n",
       "\n",
       "mpl.figure.prototype._canvas_extra_style = function (el) {\n",
       "    // this is important to make the div 'focusable\n",
       "    el.setAttribute('tabindex', 0);\n",
       "    // reach out to IPython and tell the keyboard manager to turn it's self\n",
       "    // off when our div gets focus\n",
       "\n",
       "    // location in version 3\n",
       "    if (IPython.notebook.keyboard_manager) {\n",
       "        IPython.notebook.keyboard_manager.register_events(el);\n",
       "    } else {\n",
       "        // location in version 2\n",
       "        IPython.keyboard_manager.register_events(el);\n",
       "    }\n",
       "};\n",
       "\n",
       "mpl.figure.prototype._key_event_extra = function (event, _name) {\n",
       "    var manager = IPython.notebook.keyboard_manager;\n",
       "    if (!manager) {\n",
       "        manager = IPython.keyboard_manager;\n",
       "    }\n",
       "\n",
       "    // Check for shift+enter\n",
       "    if (event.shiftKey && event.which === 13) {\n",
       "        this.canvas_div.blur();\n",
       "        // select the cell after this one\n",
       "        var index = IPython.notebook.find_cell_index(this.cell_info[0]);\n",
       "        IPython.notebook.select(index + 1);\n",
       "    }\n",
       "};\n",
       "\n",
       "mpl.figure.prototype.handle_save = function (fig, _msg) {\n",
       "    fig.ondownload(fig, null);\n",
       "};\n",
       "\n",
       "mpl.find_output_cell = function (html_output) {\n",
       "    // Return the cell and output element which can be found *uniquely* in the notebook.\n",
       "    // Note - this is a bit hacky, but it is done because the \"notebook_saving.Notebook\"\n",
       "    // IPython event is triggered only after the cells have been serialised, which for\n",
       "    // our purposes (turning an active figure into a static one), is too late.\n",
       "    var cells = IPython.notebook.get_cells();\n",
       "    var ncells = cells.length;\n",
       "    for (var i = 0; i < ncells; i++) {\n",
       "        var cell = cells[i];\n",
       "        if (cell.cell_type === 'code') {\n",
       "            for (var j = 0; j < cell.output_area.outputs.length; j++) {\n",
       "                var data = cell.output_area.outputs[j];\n",
       "                if (data.data) {\n",
       "                    // IPython >= 3 moved mimebundle to data attribute of output\n",
       "                    data = data.data;\n",
       "                }\n",
       "                if (data['text/html'] === html_output) {\n",
       "                    return [cell, data, j];\n",
       "                }\n",
       "            }\n",
       "        }\n",
       "    }\n",
       "};\n",
       "\n",
       "// Register the function which deals with the matplotlib target/channel.\n",
       "// The kernel may be null if the page has been refreshed.\n",
       "if (IPython.notebook.kernel !== null) {\n",
       "    IPython.notebook.kernel.comm_manager.register_target(\n",
       "        'matplotlib',\n",
       "        mpl.mpl_figure_comm\n",
       "    );\n",
       "}\n"
      ],
      "text/plain": [
       "<IPython.core.display.Javascript object>"
      ]
     },
     "metadata": {},
     "output_type": "display_data"
    },
    {
     "data": {
      "text/html": [
       "<img src=\"data:image/png;base64,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\" width=\"925\">"
      ],
      "text/plain": [
       "<IPython.core.display.HTML object>"
      ]
     },
     "metadata": {},
     "output_type": "display_data"
    },
    {
     "data": {
      "text/plain": [
       "(335896.809213, 622757.585107, 3970068.9481499996, 4307931.05185)"
      ]
     },
     "execution_count": 416,
     "metadata": {},
     "output_type": "execute_result"
    }
   ],
   "source": [
    "fig=plt.figure(figsize=(9.25,7.5))\n",
    "ax=fig.add_axes([0,0,1,1])\n",
    "\n",
    "grid.plot_cells(values=grid.cells['cell_depth'],cmap='gray',clim=[0,100])\n",
    "\n",
    "kws=dict(cmap='turbo',clim=[-3,1])\n",
    "sel=dfA['Season']=='Dry'\n",
    "scat=ax.scatter(dfA['x'],\n",
    "                dfA['y'],\n",
    "                20+60*sel,\n",
    "                np.log10(dfA['C_model']/dfB['C_model']),**kws)\n",
    "ax.text(0.03,0.99,\"Greater => scale=0.5 result is larger.\\nLarge dots are Dry\",transform=ax.transAxes,va='top')\n",
    "cax=fig.add_axes([0.03,0.5,0.02,0.25])\n",
    "plt.colorbar(scat,cax=cax)\n",
    "\n",
    "ax.axis('equal')\n",
    "\n",
    "# so the coastal ocean ones are a mix, and maybe there is an issue with seasons?\n",
    "# Dry season values are smaller in the scale=0.5 case.\n",
    "# Wet season predictions are greater when scale=0.5, low beaching.\n",
    "# So beaching is more relevant for coast samples in the wet season.\n",
    "# maybe storm water samples are more prone to beaching, and are more\n",
    "# relevant in the wet season.\n",
    "\n",
    "\n",
    "# Some LSB samples are much greater when scale is small, because that forces beaching\n",
    "# to be small and they probably are getting beached a lot down there.\n",
    "# The rest of south bay is a wash.\n",
    "# Central Bay has some samples that are much smaller when scale is 0.5, since\n",
    "# these have relatively low beaching,being far from shore and in deep water.\n",
    "\n",
    "# so what we're seeing is basically a seasonal pattern (beaching preferentially\n",
    "# reduces wet season concentration), and a spatial pattern (beaching preferentially\n",
    "# reduces LSB and maybe Suisun, and Central Bay is unaffected by beaching)\n",
    "\n"
   ]
  },
  {
   "cell_type": "code",
   "execution_count": 415,
   "metadata": {},
   "outputs": [
    {
     "data": {
      "text/plain": [
       "array(['Dry', 'Wet'], dtype=object)"
      ]
     },
     "execution_count": 415,
     "metadata": {},
     "output_type": "execute_result"
    }
   ],
   "source": [
    "dfA['Season'].unique()"
   ]
  },
  {
   "cell_type": "code",
   "execution_count": 403,
   "metadata": {},
   "outputs": [
    {
     "data": {
      "text/plain": [
       "dtype([('edges', '<i4', (4,)), ('nodes', '<i4', (4,)), ('_center', '<f8', (2,)), ('mark', '<i4'), ('_area', '<f8'), ('deleted', '?'), ('cell_depth', '<f8'), ('Mesh2_face_edges', '<i4', (4,)), ('Mesh2_face_depth', '<f8'), ('Mesh2_face_bc', '<i4'), ('z_bed', '<f8')])"
      ]
     },
     "execution_count": 403,
     "metadata": {},
     "output_type": "execute_result"
    }
   ],
   "source": [
    "grid.cells.dtype"
   ]
  }
 ],
 "metadata": {
  "kernelspec": {
   "display_name": "Python 3",
   "language": "python",
   "name": "python3"
  },
  "language_info": {
   "codemirror_mode": {
    "name": "ipython",
    "version": 3
   },
   "file_extension": ".py",
   "mimetype": "text/x-python",
   "name": "python",
   "nbconvert_exporter": "python",
   "pygments_lexer": "ipython3",
   "version": "3.9.1"
  }
 },
 "nbformat": 4,
 "nbformat_minor": 2
}
