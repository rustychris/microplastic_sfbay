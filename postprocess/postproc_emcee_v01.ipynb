{
 "cells": [
  {
   "cell_type": "markdown",
   "metadata": {},
   "source": [
    "Dask Approach to Non-SQL PTM Queries\n",
    "--\n",
    "\n",
    "* v01: move away from classes, try to organize the computation \n",
    "primarily in dask.\n",
    "* v02: target optimization.\n",
    "* v03: why not Bayesian?\n",
    "* emcee_v01: refine Bayesian to use a counting distribution\n",
    "\n",
    "The observations are overdisperse, and a Poisson distribution did not\n",
    "lead to convergence. A negative binomial was much better, with a dispersion\n",
    "parameter $\\alpha \\approx 1.75$ performed well, with $\\alpha$ determined\n",
    "*a priori* by MLE. This was done in three steps:\n",
    "1. Fit a negative binomial to the full set of observations, not conditioned\n",
    "   on the model output. Though dependent on the handling of blank contamination,\n",
    "   this yields $\\alpha \\approx 3.4$. Q-Q plots show that log-normal is very good\n",
    "   when ignoring blank contamination, but negative binomial is better when \n",
    "   blank contamination is subtracted out. I did not re-attempt this process\n",
    "   with the updated marginal likelihood code.\n",
    "2. Fit model rates (decay, beaching, deposition) based on that $\\alpha$, by\n",
    "   maximum likelihood.\n",
    "3. Use the result of 2 as a starting point to fit rates *and* $\\alpha$, again\n",
    "   use maximum likelihood.  This yields $\\alpha \\approx 1.73$.\n",
    "\n",
    "The updated $\\alpha$ was then kept constant for the MCMC sampling. The result\n",
    "was\n",
    "\n",
    "Accounting for blank contamination\n",
    "--\n",
    "When fitting a distribution to the overall set of observations, I originally\n",
    "ignored blank contamination, and log-normal was the clear winner. Offsetting\n",
    "the observations by a constant to account for blank contamination makes \n",
    "negative binomial closer, and log-normal becomes worse. This is in part because\n",
    "we end up with some zero-inflation, those have to be clipped to >0 for log-normal,\n",
    "and the fit deteriorates.\n",
    "\n",
    "This leads to the question of how to properly implement the likelihood. I think \n",
    "what I want to say is:\n",
    "$$\n",
    "\\begin{align}\n",
    " N_{i,true}  & \\sim \\textrm{NegBinom}( \\mu=N_{i,model}, \\alpha=\\alpha_0 ) \\\\\n",
    " N_{i,blank} & \\sim \\textrm{Poisson}( \\mu=\\mu_{blank} ) \\\\\n",
    " N_{i,obs}   & = N_{i,true} + N_{i,blank}\n",
    "\\end{align}\n",
    "$$\n",
    "\n",
    "Attempting to parrot some notation from [https://krasserm.github.io/2019/11/21/latent-variable-models-part-1/](here)\n",
    "\n",
    "$\\mathbf{\\theta}$ are my model parameters. In my case, \n",
    "$\\mathbf{\\theta} = \\{k_{beach},k_{deposit},k_{decay}\\}$.\n",
    "\n",
    "The hydrodynamics, particle tracking, and source loading collectively define a forward model\n",
    "$$\n",
    "\\mu_i = M(obs_i,\\theta)\n",
    "$$\n",
    "where $i$ indexes observations, $\\mu_i$ is the count predicted by the model, $obs_i$ encapsulates the observation metadata (time, location, trawl area).\n",
    "\n",
    "Take $x_i$ to be the observed count. The first set of equations above can be rewritten in this likelihood form\n",
    "as\n",
    "$$\n",
    "p(x_i|b_i,\\theta) = \\textrm{NB}\\left(x_i-b_i | \\mu_i,\\alpha \\right)\n",
    "$$\n",
    "where $b_i$ is the blank contamination for observation $i$. This is fine if we intend\n",
    "to sample $b_i$. Based on the measurements of blank contamination, we have a\n",
    "reasonable prior for $b_i$ as a sum of 5 Poisson distributions. "
   ]
  },
  {
   "cell_type": "markdown",
   "metadata": {},
   "source": [
    "But instead of sampling $b_i$, I want to marginalize it\n",
    "$$\n",
    "p(x_i|\\theta) = \\sum_{b_i\\in \\textit{N}} p(b_i) p(x_i|b_i,\\theta)\n",
    "$$\n",
    "\n",
    "***I've lost my way.***\n",
    "\n",
    "\n",
    "\n",
    "\n",
    "*Without* the blank issue, I have:\n",
    "$$\n",
    "LL_i = \\textrm{NegBinom.logpmf}( N_{i,obs}, \\mu=N_{i,model}, \\alpha=\\alpha_0)\n",
    "$$\n",
    "or in other words, use the negative binomial distribution with a mean predicted\n",
    "by the model and evaluate it for the observed count.\n",
    "\n",
    "I think that one option to include blanks is to explicitly integrate over the Poisson:\n",
    "$$\n",
    "LL_i = \\log \\left[ \\sum_{b=b_{min}}^{b_{max}} \n",
    "                     \\textrm{NegBinom.pmf}( N_{i,obs}-b, \\mu=N_{i,model}, \\alpha=\\alpha_0)\n",
    "                     \\cdot\n",
    "                     \\textrm{Poisson.pmf}( b, \\mu_{blank} ) \n",
    "           \\right]\n",
    "$$\n",
    "\n",
    "The mean contamination is on the order of 4, so this integration could test for $b\\in[0,15]$\n",
    "and capture enough of the probability mass."
   ]
  },
  {
   "cell_type": "markdown",
   "metadata": {},
   "source": [
    "Accounting for catch efficiency\n",
    "--\n",
    "Simply including a global scale factor leads to confusion. The optimization\n",
    "and mcmc sampling try to increase both the scale factor and the beaching rate.\n",
    "Seems to be specific to beaching and scale. Deposition and decay are still \n",
    "distributed near 0. MAP puts beaching at 0.497 and scale at 2.1006. If instead\n",
    "I set scale at 0.5, what beaching comes out? 0.10445.\n",
    "\n",
    "Basic comparison of scatter plots for these two parameter sets is not illuminating.\n",
    "Visually the scale=2, beaching=0.5 parameters do look a tiny bit cleaner.\n",
    "\n",
    "\n",
    "What does this mean?\n",
    " * Current beaching approach is not sensitive enough.\n",
    " * Data are insufficient to fit both scale and beaching.\n",
    "\n",
    "What to do?\n",
    " * Break samples out into morphologies, size groups, settling velocity classes. \n",
    " * Set catch efficiency from literature?\n",
    "\n",
    "\n",
    "Suggestions from Ed:\n",
    "- Negative binomial or actually multinomial (to get, e.g., a size distribution)\n",
    "- probably have to use a discrete distribution\n",
    "- Laura Mitchell paper about how to deal with catchability of fish."
   ]
  },
  {
   "cell_type": "code",
   "execution_count": 2,
   "metadata": {},
   "outputs": [],
   "source": [
    "import matplotlib.pyplot as plt\n",
    "import conc_figure\n",
    "import six\n",
    "import stompy.plot.cmap as scmap\n",
    "from stompy.spatial import proj_utils\n",
    "from matplotlib import cm\n",
    "cmap=cm.CMRmap_r\n",
    "cmap=scmap.cmap_clip(cmap,0.03,1.0)\n",
    "\n",
    "%matplotlib notebook\n",
    "\n",
    "import itertools\n",
    "\n",
    "import os\n",
    "import glob\n",
    "import numpy as np\n",
    "import pandas as pd\n",
    "import xarray as xr\n",
    "import re\n",
    "from scipy.optimize import minimize\n",
    "from stompy.grid import unstructured_grid\n",
    "from stompy import utils, memoize\n",
    "from stompy.model.fish_ptm import ptm_config, ptm_tools\n",
    "from stompy.model.suntans import sun_driver\n",
    "from scipy.stats import spearmanr\n",
    "\n",
    "import stompy.plot.cmap as scmap\n",
    "from scipy import stats\n",
    "import seaborn as sns\n",
    "turbo=scmap.load_gradient('turbo.cpt')"
   ]
  },
  {
   "cell_type": "code",
   "execution_count": 3,
   "metadata": {},
   "outputs": [
    {
     "name": "stderr",
     "output_type": "stream",
     "text": [
      "INFO:numexpr.utils:Note: NumExpr detected 32 cores but \"NUMEXPR_MAX_THREADS\" not set, so enforcing safe limit of 8.\n",
      "INFO:numexpr.utils:NumExpr defaulting to 8 threads.\n",
      "WARNING:postproc:Configuring malloc\n"
     ]
    },
    {
     "data": {
      "text/plain": [
       "<module 'postproc_mp' from '/home/rusty/src/microplastic_sfbay/postprocess/postproc_mp.py'>"
      ]
     },
     "execution_count": 3,
     "metadata": {},
     "output_type": "execute_result"
    }
   ],
   "source": [
    "import six\n",
    "\n",
    "# Experiment level configuration -- small, all python native data.\n",
    "import cfg_v01 \n",
    "six.moves.reload_module(cfg_v01)\n",
    "cfg=cfg_v01.cfg # note that changes to this will not be visible to subprocesses\n",
    "\n",
    "import postproc_mp as post\n",
    "six.moves.reload_module(post)"
   ]
  },
  {
   "cell_type": "markdown",
   "metadata": {},
   "source": [
    "Overall Process\n",
    "===\n",
    "\n",
    "1. SUNTANS hydro runs\n",
    "2. SUNTANS average output\n",
    "3. ptm-formatted average output\n",
    "4. PTM runs\n",
    "5. Load data\n",
    "\n",
    "The top-level query is something like *generate a map of concentrations for...*\n",
    "\n",
    "filter on:\n",
    " - sources $x$\n",
    " - settling classes $y$\n",
    " - vertical positions $z$\n",
    " - horizontal positions $h$\n",
    "\n",
    "weighted by\n",
    "\n",
    " - loading data \n",
    " - age\n",
    " \n",
    "mapped by one of ...\n",
    "\n",
    " - bounding box\n",
    " - put on hydro grid\n",
    " - put on regular grid\n",
    "\n",
    "and possibly smoothed."
   ]
  },
  {
   "cell_type": "code",
   "execution_count": 4,
   "metadata": {},
   "outputs": [],
   "source": [
    "# This doesn't seem to work from within jupyter notebook.\n",
    "# it allocates huge amounts of memory and gets stuck.\n",
    "# import multiprocessing\n",
    "compute_kw={} # dict(pool=multiprocessing.Pool(24))"
   ]
  },
  {
   "cell_type": "code",
   "execution_count": 5,
   "metadata": {},
   "outputs": [
    {
     "name": "stderr",
     "output_type": "stream",
     "text": [
      "INFO:utils:73727/99089\n",
      "INFO:utils:73274/99089\n"
     ]
    }
   ],
   "source": [
    "# So far this is only used locally.  Slow to compute (15s)\n",
    "Msmooth=cfg.grid.smooth_matrix()\n",
    "Msmooth_K=cfg.grid.smooth_matrix(K=100*np.ones(cfg.grid.Nedges()))"
   ]
  },
  {
   "cell_type": "code",
   "execution_count": 6,
   "metadata": {},
   "outputs": [],
   "source": [
    "areas=cfg.grid.cells_area()    "
   ]
  },
  {
   "cell_type": "code",
   "execution_count": 7,
   "metadata": {},
   "outputs": [],
   "source": [
    "# Set this a bit early, as it controls cache location which \n",
    "# is needed for some testing.\n",
    "\n",
    "# now the 021b runs.\n",
    "# c suffix: use tighter -0.095 z filter.\n",
    "# 20200227: start of v03\n",
    "# 20200302: start of v04\n",
    "# 20200305: try larger window -- extra 24 hours in both directions.\n",
    "# 20200312: new sources in ptm data, with v02 stormwater concs.\n",
    "# 20200330: more new sources.\n",
    "# 20210210a: dask code, new hydro, new ptm. new year.\n",
    "# 20210317a: new ptm runs with no SJ loss...\n",
    "#            has the w_s bug\n",
    "# 20210317b: fixed w_s bug\n",
    "# 20210317c: switch to weathered loads\n",
    "# 20210708c: including beaching and deposition counts.\n",
    "# 20210726d: other stuff, and now prep to optimize just 3 parameters\n",
    "# 20211001:  355um loads\n",
    "\n",
    "os.makedirs(cfg['manta_out_dir'],exist_ok=True)"
   ]
  },
  {
   "cell_type": "code",
   "execution_count": 8,
   "metadata": {},
   "outputs": [
    {
     "name": "stderr",
     "output_type": "stream",
     "text": [
      "WARNING:postproc:Configuring malloc\n"
     ]
    },
    {
     "data": {
      "text/plain": [
       "<module 'postproc_mp' from '/home/rusty/src/microplastic_sfbay/postprocess/postproc_mp.py'>"
      ]
     },
     "execution_count": 8,
     "metadata": {},
     "output_type": "execute_result"
    }
   ],
   "source": [
    "import postproc_dask\n",
    "six.moves.reload_module(postproc_dask)\n",
    "six.moves.reload_module(cfg_v01)\n",
    "cfg=cfg_v01.cfg\n",
    "six.moves.reload_module(post)"
   ]
  },
  {
   "cell_type": "markdown",
   "metadata": {},
   "source": [
    "Using `postproc_mp`\n",
    "--\n",
    "\n",
    "Verified that particle results are identical. Wastewater includes the\n",
    "adjustment to new, 355-um only, loads. Stormwater this is difficult, and\n",
    "while the distribution reflects the 355-um data, that counts reflect the\n",
    "land-use model. Will use storm_factor=0.326 below to deal with this."
   ]
  },
  {
   "cell_type": "code",
   "execution_count": 9,
   "metadata": {},
   "outputs": [],
   "source": [
    "# Load the manta data, clean it up\n",
    "manta_fn='manta_summary-v03.csv'\n",
    "manta=pd.read_csv(manta_fn)\n",
    "# manta.head()"
   ]
  },
  {
   "cell_type": "code",
   "execution_count": 10,
   "metadata": {},
   "outputs": [],
   "source": [
    "blank_rates=pd.read_csv(\"blank_rates-v04.csv\").set_index('cat')['blank_rate']"
   ]
  },
  {
   "cell_type": "code",
   "execution_count": 11,
   "metadata": {},
   "outputs": [
    {
     "data": {
      "text/plain": [
       "cat\n",
       "Fiber           42.000\n",
       "Fiber Bundle     1.875\n",
       "Fragment         1.875\n",
       "Foam             0.125\n",
       "Film             0.000\n",
       "Sphere           0.000\n",
       "Name: blank_rate, dtype: float64"
      ]
     },
     "execution_count": 11,
     "metadata": {},
     "output_type": "execute_result"
    }
   ],
   "source": [
    "blank_rates"
   ]
  },
  {
   "cell_type": "code",
   "execution_count": 12,
   "metadata": {},
   "outputs": [],
   "source": [
    "godwin_offset_h=post.godwin_offset_h\n",
    "godwin=post.godwin"
   ]
  },
  {
   "cell_type": "code",
   "execution_count": 13,
   "metadata": {},
   "outputs": [
    {
     "data": {
      "text/plain": [
       "8"
      ]
     },
     "execution_count": 13,
     "metadata": {},
     "output_type": "execute_result"
    }
   ],
   "source": [
    "import numexpr as ne\n",
    "ne.set_num_threads(16) # reasonable on cws-linuxmodeling"
   ]
  },
  {
   "cell_type": "code",
   "execution_count": 14,
   "metadata": {},
   "outputs": [
    {
     "name": "stdout",
     "output_type": "stream",
     "text": [
      "Reading from cache\n",
      "done\n",
      "Manta sample 0: 4.37e+08 bytes, 3.64e+07 elements\n"
     ]
    },
    {
     "name": "stderr",
     "output_type": "stream",
     "text": [
      "INFO:utils:1\n"
     ]
    },
    {
     "name": "stdout",
     "output_type": "stream",
     "text": [
      "    uniquified: 1.44e+08 bytes, 1.20e+07 elements\n",
      "Manta sample 1: 4.38e+08 bytes, 3.65e+07 elements\n"
     ]
    },
    {
     "name": "stderr",
     "output_type": "stream",
     "text": [
      "INFO:utils:2\n"
     ]
    },
    {
     "name": "stdout",
     "output_type": "stream",
     "text": [
      "    uniquified: 1.44e+08 bytes, 1.20e+07 elements\n",
      "Manta sample 2: 4.25e+08 bytes, 3.54e+07 elements\n"
     ]
    },
    {
     "name": "stderr",
     "output_type": "stream",
     "text": [
      "INFO:utils:3\n"
     ]
    },
    {
     "name": "stdout",
     "output_type": "stream",
     "text": [
      "    uniquified: 1.40e+08 bytes, 1.17e+07 elements\n",
      "Manta sample 3: 4.38e+08 bytes, 3.65e+07 elements\n"
     ]
    },
    {
     "name": "stderr",
     "output_type": "stream",
     "text": [
      "INFO:utils:4\n"
     ]
    },
    {
     "name": "stdout",
     "output_type": "stream",
     "text": [
      "    uniquified: 1.44e+08 bytes, 1.20e+07 elements\n",
      "Reading from cache\n",
      "done\n",
      "Manta sample 4: 4.06e+08 bytes, 3.38e+07 elements\n"
     ]
    },
    {
     "name": "stderr",
     "output_type": "stream",
     "text": [
      "INFO:utils:5\n"
     ]
    },
    {
     "name": "stdout",
     "output_type": "stream",
     "text": [
      "    uniquified: 1.38e+08 bytes, 1.15e+07 elements\n",
      "Manta sample 5: 4.30e+08 bytes, 3.59e+07 elements\n"
     ]
    },
    {
     "name": "stderr",
     "output_type": "stream",
     "text": [
      "INFO:utils:6\n"
     ]
    },
    {
     "name": "stdout",
     "output_type": "stream",
     "text": [
      "    uniquified: 1.43e+08 bytes, 1.19e+07 elements\n",
      "Manta sample 6: 4.27e+08 bytes, 3.56e+07 elements\n"
     ]
    },
    {
     "name": "stderr",
     "output_type": "stream",
     "text": [
      "INFO:utils:7\n"
     ]
    },
    {
     "name": "stdout",
     "output_type": "stream",
     "text": [
      "    uniquified: 1.42e+08 bytes, 1.19e+07 elements\n",
      "Manta sample 7: 4.32e+08 bytes, 3.60e+07 elements\n"
     ]
    },
    {
     "name": "stderr",
     "output_type": "stream",
     "text": [
      "INFO:utils:8\n"
     ]
    },
    {
     "name": "stdout",
     "output_type": "stream",
     "text": [
      "    uniquified: 1.43e+08 bytes, 1.19e+07 elements\n",
      "Reading from cache\n",
      "done\n",
      "Manta sample 11: 3.53e+08 bytes, 2.94e+07 elements\n"
     ]
    },
    {
     "name": "stderr",
     "output_type": "stream",
     "text": [
      "INFO:utils:9\n"
     ]
    },
    {
     "name": "stdout",
     "output_type": "stream",
     "text": [
      "    uniquified: 1.29e+08 bytes, 1.07e+07 elements\n",
      "Manta sample 10: 3.52e+08 bytes, 2.93e+07 elements\n"
     ]
    },
    {
     "name": "stderr",
     "output_type": "stream",
     "text": [
      "INFO:utils:10\n"
     ]
    },
    {
     "name": "stdout",
     "output_type": "stream",
     "text": [
      "    uniquified: 1.28e+08 bytes, 1.06e+07 elements\n",
      "Manta sample 8: 3.49e+08 bytes, 2.91e+07 elements\n"
     ]
    },
    {
     "name": "stderr",
     "output_type": "stream",
     "text": [
      "INFO:utils:11\n"
     ]
    },
    {
     "name": "stdout",
     "output_type": "stream",
     "text": [
      "    uniquified: 1.27e+08 bytes, 1.06e+07 elements\n",
      "Manta sample 9: 3.33e+08 bytes, 2.78e+07 elements\n"
     ]
    },
    {
     "name": "stderr",
     "output_type": "stream",
     "text": [
      "INFO:utils:12\n"
     ]
    },
    {
     "name": "stdout",
     "output_type": "stream",
     "text": [
      "    uniquified: 1.22e+08 bytes, 1.02e+07 elements\n",
      "Reading from cache\n",
      "done\n",
      "Manta sample 12: 2.95e+08 bytes, 2.45e+07 elements\n"
     ]
    },
    {
     "name": "stderr",
     "output_type": "stream",
     "text": [
      "INFO:utils:13\n"
     ]
    },
    {
     "name": "stdout",
     "output_type": "stream",
     "text": [
      "    uniquified: 1.14e+08 bytes, 9.48e+06 elements\n",
      "Manta sample 13: 3.04e+08 bytes, 2.53e+07 elements\n"
     ]
    },
    {
     "name": "stderr",
     "output_type": "stream",
     "text": [
      "INFO:utils:14\n"
     ]
    },
    {
     "name": "stdout",
     "output_type": "stream",
     "text": [
      "    uniquified: 1.16e+08 bytes, 9.64e+06 elements\n",
      "Manta sample 14: 2.21e+08 bytes, 1.84e+07 elements\n"
     ]
    },
    {
     "name": "stderr",
     "output_type": "stream",
     "text": [
      "INFO:utils:15\n"
     ]
    },
    {
     "name": "stdout",
     "output_type": "stream",
     "text": [
      "    uniquified: 9.15e+07 bytes, 7.62e+06 elements\n",
      "Reading from cache\n",
      "done\n",
      "Manta sample 15: 4.12e+08 bytes, 3.44e+07 elements\n"
     ]
    },
    {
     "name": "stderr",
     "output_type": "stream",
     "text": [
      "INFO:utils:16\n"
     ]
    },
    {
     "name": "stdout",
     "output_type": "stream",
     "text": [
      "    uniquified: 1.42e+08 bytes, 1.18e+07 elements\n",
      "Manta sample 16: 4.12e+08 bytes, 3.44e+07 elements\n"
     ]
    },
    {
     "name": "stderr",
     "output_type": "stream",
     "text": [
      "INFO:utils:17\n"
     ]
    },
    {
     "name": "stdout",
     "output_type": "stream",
     "text": [
      "    uniquified: 1.42e+08 bytes, 1.18e+07 elements\n",
      "Reading from cache\n",
      "done\n",
      "Manta sample 17: 4.65e+08 bytes, 3.88e+07 elements\n"
     ]
    },
    {
     "name": "stderr",
     "output_type": "stream",
     "text": [
      "INFO:utils:18\n"
     ]
    },
    {
     "name": "stdout",
     "output_type": "stream",
     "text": [
      "    uniquified: 1.39e+08 bytes, 1.16e+07 elements\n",
      "Reading from cache\n",
      "done\n",
      "Manta sample 18: 4.38e+08 bytes, 3.65e+07 elements\n"
     ]
    },
    {
     "name": "stderr",
     "output_type": "stream",
     "text": [
      "INFO:utils:19\n"
     ]
    },
    {
     "name": "stdout",
     "output_type": "stream",
     "text": [
      "    uniquified: 1.32e+08 bytes, 1.10e+07 elements\n",
      "Manta sample 19: 4.37e+08 bytes, 3.64e+07 elements\n"
     ]
    },
    {
     "name": "stderr",
     "output_type": "stream",
     "text": [
      "INFO:utils:20\n"
     ]
    },
    {
     "name": "stdout",
     "output_type": "stream",
     "text": [
      "    uniquified: 1.32e+08 bytes, 1.10e+07 elements\n",
      "Manta sample 20: 4.38e+08 bytes, 3.65e+07 elements\n"
     ]
    },
    {
     "name": "stderr",
     "output_type": "stream",
     "text": [
      "INFO:utils:21\n"
     ]
    },
    {
     "name": "stdout",
     "output_type": "stream",
     "text": [
      "    uniquified: 1.32e+08 bytes, 1.10e+07 elements\n",
      "Manta sample 21: 4.37e+08 bytes, 3.64e+07 elements\n"
     ]
    },
    {
     "name": "stderr",
     "output_type": "stream",
     "text": [
      "INFO:utils:22\n"
     ]
    },
    {
     "name": "stdout",
     "output_type": "stream",
     "text": [
      "    uniquified: 1.32e+08 bytes, 1.10e+07 elements\n",
      "Reading from cache\n",
      "done\n",
      "Manta sample 22: 3.74e+08 bytes, 3.12e+07 elements\n"
     ]
    },
    {
     "name": "stderr",
     "output_type": "stream",
     "text": [
      "INFO:utils:23\n"
     ]
    },
    {
     "name": "stdout",
     "output_type": "stream",
     "text": [
      "    uniquified: 1.22e+08 bytes, 1.02e+07 elements\n",
      "Manta sample 23: 3.79e+08 bytes, 3.16e+07 elements\n"
     ]
    },
    {
     "name": "stderr",
     "output_type": "stream",
     "text": [
      "INFO:utils:24\n"
     ]
    },
    {
     "name": "stdout",
     "output_type": "stream",
     "text": [
      "    uniquified: 1.23e+08 bytes, 1.03e+07 elements\n",
      "Manta sample 24: 4.09e+08 bytes, 3.41e+07 elements\n"
     ]
    },
    {
     "name": "stderr",
     "output_type": "stream",
     "text": [
      "INFO:utils:25\n"
     ]
    },
    {
     "name": "stdout",
     "output_type": "stream",
     "text": [
      "    uniquified: 1.31e+08 bytes, 1.09e+07 elements\n",
      "Manta sample 25: 4.68e+08 bytes, 3.90e+07 elements\n"
     ]
    },
    {
     "name": "stderr",
     "output_type": "stream",
     "text": [
      "INFO:utils:26\n"
     ]
    },
    {
     "name": "stdout",
     "output_type": "stream",
     "text": [
      "    uniquified: 1.47e+08 bytes, 1.22e+07 elements\n",
      "Reading from cache\n",
      "done\n",
      "Manta sample 26: 3.17e+08 bytes, 2.64e+07 elements\n"
     ]
    },
    {
     "name": "stderr",
     "output_type": "stream",
     "text": [
      "INFO:utils:27\n"
     ]
    },
    {
     "name": "stdout",
     "output_type": "stream",
     "text": [
      "    uniquified: 1.23e+08 bytes, 1.02e+07 elements\n",
      "Reading from cache\n",
      "done\n",
      "Manta sample 27: 5.58e+08 bytes, 4.65e+07 elements\n"
     ]
    },
    {
     "name": "stderr",
     "output_type": "stream",
     "text": [
      "INFO:utils:28\n"
     ]
    },
    {
     "name": "stdout",
     "output_type": "stream",
     "text": [
      "    uniquified: 1.57e+08 bytes, 1.31e+07 elements\n",
      "Manta sample 28: 5.00e+08 bytes, 4.17e+07 elements\n"
     ]
    },
    {
     "name": "stderr",
     "output_type": "stream",
     "text": [
      "INFO:utils:29\n"
     ]
    },
    {
     "name": "stdout",
     "output_type": "stream",
     "text": [
      "    uniquified: 1.40e+08 bytes, 1.17e+07 elements\n",
      "Manta sample 29: 4.91e+08 bytes, 4.10e+07 elements\n"
     ]
    },
    {
     "name": "stderr",
     "output_type": "stream",
     "text": [
      "INFO:utils:30\n"
     ]
    },
    {
     "name": "stdout",
     "output_type": "stream",
     "text": [
      "    uniquified: 1.39e+08 bytes, 1.16e+07 elements\n",
      "Reading from cache\n",
      "done\n",
      "Manta sample 30: 3.04e+08 bytes, 2.53e+07 elements\n"
     ]
    },
    {
     "name": "stderr",
     "output_type": "stream",
     "text": [
      "INFO:utils:31\n"
     ]
    },
    {
     "name": "stdout",
     "output_type": "stream",
     "text": [
      "    uniquified: 8.75e+07 bytes, 7.30e+06 elements\n",
      "Manta sample 31: 3.04e+08 bytes, 2.53e+07 elements\n"
     ]
    },
    {
     "name": "stderr",
     "output_type": "stream",
     "text": [
      "INFO:utils:32\n"
     ]
    },
    {
     "name": "stdout",
     "output_type": "stream",
     "text": [
      "    uniquified: 8.75e+07 bytes, 7.29e+06 elements\n",
      "Reading from cache\n",
      "done\n",
      "Manta sample 37: 6.18e+08 bytes, 5.15e+07 elements\n"
     ]
    },
    {
     "name": "stderr",
     "output_type": "stream",
     "text": [
      "INFO:utils:33\n"
     ]
    },
    {
     "name": "stdout",
     "output_type": "stream",
     "text": [
      "    uniquified: 1.30e+08 bytes, 1.09e+07 elements\n",
      "Manta sample 36: 6.18e+08 bytes, 5.15e+07 elements\n"
     ]
    },
    {
     "name": "stderr",
     "output_type": "stream",
     "text": [
      "INFO:utils:34\n"
     ]
    },
    {
     "name": "stdout",
     "output_type": "stream",
     "text": [
      "    uniquified: 1.30e+08 bytes, 1.09e+07 elements\n",
      "Manta sample 35: 6.18e+08 bytes, 5.15e+07 elements\n"
     ]
    },
    {
     "name": "stderr",
     "output_type": "stream",
     "text": [
      "INFO:utils:35\n"
     ]
    },
    {
     "name": "stdout",
     "output_type": "stream",
     "text": [
      "    uniquified: 1.30e+08 bytes, 1.09e+07 elements\n",
      "Manta sample 32: 6.23e+08 bytes, 5.19e+07 elements\n"
     ]
    },
    {
     "name": "stderr",
     "output_type": "stream",
     "text": [
      "INFO:utils:36\n"
     ]
    },
    {
     "name": "stdout",
     "output_type": "stream",
     "text": [
      "    uniquified: 1.32e+08 bytes, 1.10e+07 elements\n",
      "Manta sample 33: 6.24e+08 bytes, 5.20e+07 elements\n"
     ]
    },
    {
     "name": "stderr",
     "output_type": "stream",
     "text": [
      "INFO:utils:37\n"
     ]
    },
    {
     "name": "stdout",
     "output_type": "stream",
     "text": [
      "    uniquified: 1.33e+08 bytes, 1.11e+07 elements\n",
      "Manta sample 34: 6.18e+08 bytes, 5.15e+07 elements\n"
     ]
    },
    {
     "name": "stderr",
     "output_type": "stream",
     "text": [
      "INFO:utils:38\n"
     ]
    },
    {
     "name": "stdout",
     "output_type": "stream",
     "text": [
      "    uniquified: 1.30e+08 bytes, 1.09e+07 elements\n",
      "Reading from cache\n",
      "done\n",
      "Manta sample 38: 5.09e+08 bytes, 4.24e+07 elements\n"
     ]
    },
    {
     "name": "stderr",
     "output_type": "stream",
     "text": [
      "INFO:utils:39\n"
     ]
    },
    {
     "name": "stdout",
     "output_type": "stream",
     "text": [
      "    uniquified: 1.18e+08 bytes, 9.81e+06 elements\n",
      "Manta sample 39: 4.93e+08 bytes, 4.11e+07 elements\n"
     ]
    },
    {
     "name": "stderr",
     "output_type": "stream",
     "text": [
      "INFO:utils:40\n"
     ]
    },
    {
     "name": "stdout",
     "output_type": "stream",
     "text": [
      "    uniquified: 1.14e+08 bytes, 9.51e+06 elements\n",
      "Manta sample 40: 5.04e+08 bytes, 4.20e+07 elements\n"
     ]
    },
    {
     "name": "stderr",
     "output_type": "stream",
     "text": [
      "INFO:utils:41\n"
     ]
    },
    {
     "name": "stdout",
     "output_type": "stream",
     "text": [
      "    uniquified: 1.16e+08 bytes, 9.69e+06 elements\n",
      "Reading from cache\n",
      "done\n",
      "Manta sample 41: 3.01e+08 bytes, 2.51e+07 elements\n"
     ]
    },
    {
     "name": "stderr",
     "output_type": "stream",
     "text": [
      "INFO:utils:42\n"
     ]
    },
    {
     "name": "stdout",
     "output_type": "stream",
     "text": [
      "    uniquified: 7.48e+07 bytes, 6.24e+06 elements\n",
      "Manta sample 42: 2.97e+08 bytes, 2.48e+07 elements\n"
     ]
    },
    {
     "name": "stderr",
     "output_type": "stream",
     "text": [
      "INFO:utils:43\n"
     ]
    },
    {
     "name": "stdout",
     "output_type": "stream",
     "text": [
      "    uniquified: 7.45e+07 bytes, 6.21e+06 elements\n",
      "Manta sample 43: 3.02e+08 bytes, 2.52e+07 elements\n"
     ]
    },
    {
     "name": "stderr",
     "output_type": "stream",
     "text": [
      "INFO:utils:44\n"
     ]
    },
    {
     "name": "stdout",
     "output_type": "stream",
     "text": [
      "    uniquified: 7.51e+07 bytes, 6.26e+06 elements\n",
      "Reading from cache\n",
      "done\n",
      "Manta sample 52: 2.17e+08 bytes, 1.81e+07 elements\n"
     ]
    },
    {
     "name": "stderr",
     "output_type": "stream",
     "text": [
      "INFO:utils:45\n"
     ]
    },
    {
     "name": "stdout",
     "output_type": "stream",
     "text": [
      "    uniquified: 5.61e+07 bytes, 4.67e+06 elements\n",
      "Manta sample 51: 2.16e+08 bytes, 1.80e+07 elements\n"
     ]
    },
    {
     "name": "stderr",
     "output_type": "stream",
     "text": [
      "INFO:utils:46\n"
     ]
    },
    {
     "name": "stdout",
     "output_type": "stream",
     "text": [
      "    uniquified: 5.60e+07 bytes, 4.67e+06 elements\n",
      "Manta sample 49: 1.57e+08 bytes, 1.31e+07 elements\n"
     ]
    },
    {
     "name": "stderr",
     "output_type": "stream",
     "text": [
      "INFO:utils:47\n"
     ]
    },
    {
     "name": "stdout",
     "output_type": "stream",
     "text": [
      "    uniquified: 4.56e+07 bytes, 3.80e+06 elements\n",
      "Manta sample 50: 2.14e+08 bytes, 1.79e+07 elements\n"
     ]
    },
    {
     "name": "stderr",
     "output_type": "stream",
     "text": [
      "INFO:utils:48\n"
     ]
    },
    {
     "name": "stdout",
     "output_type": "stream",
     "text": [
      "    uniquified: 5.57e+07 bytes, 4.64e+06 elements\n",
      "Reading from cache\n",
      "done\n",
      "Manta sample 48: 4.74e+08 bytes, 3.95e+07 elements\n"
     ]
    },
    {
     "name": "stderr",
     "output_type": "stream",
     "text": [
      "INFO:utils:49\n"
     ]
    },
    {
     "name": "stdout",
     "output_type": "stream",
     "text": [
      "    uniquified: 1.04e+08 bytes, 8.67e+06 elements\n",
      "Manta sample 46: 4.73e+08 bytes, 3.94e+07 elements\n"
     ]
    },
    {
     "name": "stderr",
     "output_type": "stream",
     "text": [
      "INFO:utils:50\n"
     ]
    },
    {
     "name": "stdout",
     "output_type": "stream",
     "text": [
      "    uniquified: 1.04e+08 bytes, 8.64e+06 elements\n",
      "Manta sample 45: 4.64e+08 bytes, 3.87e+07 elements\n"
     ]
    },
    {
     "name": "stderr",
     "output_type": "stream",
     "text": [
      "INFO:utils:51\n"
     ]
    },
    {
     "name": "stdout",
     "output_type": "stream",
     "text": [
      "    uniquified: 1.03e+08 bytes, 8.56e+06 elements\n",
      "Manta sample 44: 4.63e+08 bytes, 3.86e+07 elements\n"
     ]
    },
    {
     "name": "stderr",
     "output_type": "stream",
     "text": [
      "INFO:utils:52\n"
     ]
    },
    {
     "name": "stdout",
     "output_type": "stream",
     "text": [
      "    uniquified: 1.03e+08 bytes, 8.55e+06 elements\n",
      "Manta sample 47: 4.73e+08 bytes, 3.95e+07 elements\n"
     ]
    },
    {
     "name": "stderr",
     "output_type": "stream",
     "text": [
      "INFO:utils:53\n"
     ]
    },
    {
     "name": "stdout",
     "output_type": "stream",
     "text": [
      "    uniquified: 1.04e+08 bytes, 8.65e+06 elements\n",
      "Reading from cache\n",
      "done\n",
      "Manta sample 55: 2.67e+08 bytes, 2.23e+07 elements\n"
     ]
    },
    {
     "name": "stderr",
     "output_type": "stream",
     "text": [
      "INFO:utils:54\n"
     ]
    },
    {
     "name": "stdout",
     "output_type": "stream",
     "text": [
      "    uniquified: 8.04e+07 bytes, 6.70e+06 elements\n",
      "Manta sample 56: 2.70e+08 bytes, 2.25e+07 elements\n"
     ]
    },
    {
     "name": "stderr",
     "output_type": "stream",
     "text": [
      "INFO:utils:55\n"
     ]
    },
    {
     "name": "stdout",
     "output_type": "stream",
     "text": [
      "    uniquified: 8.10e+07 bytes, 6.75e+06 elements\n",
      "Manta sample 53: 2.80e+08 bytes, 2.33e+07 elements\n"
     ]
    },
    {
     "name": "stderr",
     "output_type": "stream",
     "text": [
      "INFO:utils:56\n"
     ]
    },
    {
     "name": "stdout",
     "output_type": "stream",
     "text": [
      "    uniquified: 8.33e+07 bytes, 6.95e+06 elements\n",
      "Manta sample 54: 2.73e+08 bytes, 2.27e+07 elements\n"
     ]
    },
    {
     "name": "stderr",
     "output_type": "stream",
     "text": [
      "INFO:utils:57\n"
     ]
    },
    {
     "name": "stdout",
     "output_type": "stream",
     "text": [
      "    uniquified: 8.18e+07 bytes, 6.82e+06 elements\n",
      "Reading from cache\n",
      "done\n",
      "Manta sample 57: 2.70e+08 bytes, 2.25e+07 elements\n"
     ]
    },
    {
     "name": "stderr",
     "output_type": "stream",
     "text": [
      "INFO:utils:58\n"
     ]
    },
    {
     "name": "stdout",
     "output_type": "stream",
     "text": [
      "    uniquified: 8.19e+07 bytes, 6.82e+06 elements\n",
      "Manta sample 58: 2.59e+08 bytes, 2.16e+07 elements\n"
     ]
    },
    {
     "name": "stderr",
     "output_type": "stream",
     "text": [
      "INFO:utils:59\n"
     ]
    },
    {
     "name": "stdout",
     "output_type": "stream",
     "text": [
      "    uniquified: 7.94e+07 bytes, 6.62e+06 elements\n",
      "Manta sample 59: 2.86e+08 bytes, 2.38e+07 elements\n"
     ]
    },
    {
     "name": "stderr",
     "output_type": "stream",
     "text": [
      "INFO:utils:60\n"
     ]
    },
    {
     "name": "stdout",
     "output_type": "stream",
     "text": [
      "    uniquified: 8.43e+07 bytes, 7.03e+06 elements\n",
      "Manta sample 60: 3.13e+08 bytes, 2.61e+07 elements\n"
     ]
    },
    {
     "name": "stderr",
     "output_type": "stream",
     "text": [
      "INFO:utils:61\n"
     ]
    },
    {
     "name": "stdout",
     "output_type": "stream",
     "text": [
      "    uniquified: 9.18e+07 bytes, 7.65e+06 elements\n",
      "Manta sample 61: 3.13e+08 bytes, 2.61e+07 elements\n"
     ]
    },
    {
     "name": "stderr",
     "output_type": "stream",
     "text": [
      "INFO:utils:62\n"
     ]
    },
    {
     "name": "stdout",
     "output_type": "stream",
     "text": [
      "    uniquified: 9.18e+07 bytes, 7.65e+06 elements\n",
      "Reading from cache\n",
      "done\n",
      "Manta sample 63: 2.33e+08 bytes, 1.94e+07 elements\n"
     ]
    },
    {
     "name": "stderr",
     "output_type": "stream",
     "text": [
      "INFO:utils:63\n"
     ]
    },
    {
     "name": "stdout",
     "output_type": "stream",
     "text": [
      "    uniquified: 7.56e+07 bytes, 6.30e+06 elements\n",
      "Manta sample 62: 2.27e+08 bytes, 1.89e+07 elements\n"
     ]
    },
    {
     "name": "stderr",
     "output_type": "stream",
     "text": [
      "INFO:utils:64\n"
     ]
    },
    {
     "name": "stdout",
     "output_type": "stream",
     "text": [
      "    uniquified: 7.44e+07 bytes, 6.20e+06 elements\n",
      "Manta sample 64: 2.57e+08 bytes, 2.14e+07 elements\n",
      "    uniquified: 8.06e+07 bytes, 6.72e+06 elements\n"
     ]
    }
   ],
   "source": [
    "# Streamlined version that only allows \n",
    "# tau, shore_factor and bed_factor to change.\n",
    "# Msmooth is already set.\n",
    "\n",
    "# Precalculate:\n",
    "if 1: \n",
    "    manta_chrono=manta.sort_values('DATE') # helps with locality during precalculation\n",
    "    # I think this is the deal -- it's not practical to calculate \n",
    "    # the stormwater loads using only 355um samples (would require re-implementing\n",
    "    # watershed fitting, among other issues)\n",
    "    # so instead use the overall stormwater load reduction here\n",
    "    storm_factor=0.326\n",
    "    step=-10000\n",
    "    precalc={} # idx => stuff.\n",
    "\n",
    "    # Force mantas to be sorted, so that data from the same day\n",
    "    # is grouped together.\n",
    "    last_DATE=None\n",
    "    df=None\n",
    "\n",
    "    for idx,rec in utils.progress(manta_chrono.iterrows()):\n",
    "        #print(idx)\n",
    "        # since we're just pulling out whole days, cache by day.\n",
    "        # and pull through the end of that day\n",
    "        # 5s, all in read_parquet\n",
    "        if rec.DATE==last_DATE:\n",
    "            pass\n",
    "        else:\n",
    "            df=post.particles_for_date(rec.DATE,cfg=cfg,compute_kw=compute_kw)\n",
    "            last_DATE=rec.DATE\n",
    "\n",
    "        # Trawl-specific processing:\n",
    "        # Pull subset of cells\n",
    "        # add a cell weighting, and a time weighting for the tidal filter\n",
    "        cells,weights=post.rec_to_cell_weights(rec,areas=areas,grid=cfg.grid,\n",
    "                                               Msmooth=Msmooth,smooth=step,thresh=1e-5)\n",
    "        df_spatial=pd.DataFrame(dict(cell=cells,weight_spatial=weights)).set_index('cell')\n",
    "        df_spatial_sort=df_spatial.sort_index()\n",
    "        space_cell=df_spatial_sort.index.values\n",
    "        space_weight=df_spatial_sort['weight_spatial'].values\n",
    "        df_cell=df.cell.values\n",
    "        df_idx=np.searchsorted(space_cell,df_cell).clip(0,len(space_cell)-1)\n",
    "        sel=space_cell[df_idx]==df_cell\n",
    "        tdf=df[sel].copy()\n",
    "        weight_spatial=space_weight[df_idx[sel]]\n",
    "\n",
    "        #t_sample=np.datetime64(rec['DATE'])    \n",
    "        #t_center = t_sample+np.timedelta64(8,'h') + np.timedelta64(12,'h')\n",
    "        #delta_hours=((tdf['time']-t_center)/np.timedelta64(1,'h')).astype(np.int32)\n",
    "        #weight_time=godwin[delta_hours+godwin_offset_h]\n",
    "        weight_time=tdf['weight_time'].values\n",
    "        \n",
    "        age=tdf['time'].values - tdf['rel_time'].values\n",
    "\n",
    "        age_s=(age/np.timedelta64(1,'s')).astype(np.float32)\n",
    "        bed_hits=tdf['bed_hits'].values\n",
    "        shore_hits=tdf['shore_hits'].values\n",
    "        mp_per_area = (tdf['mp_per_particle'] / areas[tdf['cell']]).values\n",
    "\n",
    "        group_weight=post.group_weights(tdf,storm_factor)\n",
    "\n",
    "        # Omits decay, bed, shore weights\n",
    "        pre_weighted=weight_spatial*weight_time*group_weight*mp_per_area\n",
    "        # Final code below then needs age_s, bed_hits, shore_hits\n",
    "        sel=pre_weighted>0.0\n",
    "        \n",
    "        bundle=np.zeros(sel.sum(),[('preweighted',np.float32),\n",
    "                                   ('age_s',np.float32),\n",
    "                                   ('bed_hits',np.int16),\n",
    "                                   ('shore_hits',np.int16)])\n",
    "        bundle['preweighted']=pre_weighted[sel]\n",
    "        bundle['age_s']=age_s[sel]\n",
    "        bundle['bed_hits']=bed_hits[sel]\n",
    "        bundle['shore_hits']=shore_hits[sel]\n",
    "        \n",
    "        print(f\"Manta sample {idx}: {bundle.nbytes:.2e} bytes, {len(bundle):.2e} elements\")\n",
    "        \n",
    "        # Can get maybe a factor of 3 by combining duplicates\n",
    "        df_bundle=pd.DataFrame.from_records(bundle)\n",
    "        uniquified=df_bundle.groupby(['age_s','bed_hits','shore_hits'])['preweighted'].sum().reset_index()\n",
    "        bundle=np.zeros(len(uniquified),dtype=bundle.dtype)\n",
    "        bundle['preweighted']=uniquified['preweighted']\n",
    "        bundle['age_s']=uniquified['age_s']\n",
    "        bundle['bed_hits']=uniquified['bed_hits']\n",
    "        bundle['shore_hits']=uniquified['shore_hits']\n",
    "        print(f\"    uniquified: {bundle.nbytes:.2e} bytes, {len(bundle):.2e} elements\")\n",
    "        \n",
    "        precalc[idx]=bundle\n",
    "\n",
    "#                        weights=ne.evaluate('weight_spatial*weight_time*decay*group_weight*bed_weight*shore_weight')\n",
    "#                        unweighted=mp_per_area\n",
    "#                        final_weights=weights\n",
    "#                        # final_concs=weights*mp_per_area\n",
    "#                        C=ne.evaluate( 'sum(weights*mp_per_area)')"
   ]
  },
  {
   "cell_type": "code",
   "execution_count": null,
   "metadata": {},
   "outputs": [],
   "source": [
    "%load_ext line_profiler"
   ]
  },
  {
   "cell_type": "code",
   "execution_count": 18,
   "metadata": {},
   "outputs": [],
   "source": [
    "pred_type=np.float64\n",
    "\n",
    "def predict_mantas_fast(decay_rate,beach_rate=1e-2,depo_rate=1e-2):\n",
    "    # tau_d: e-folding decay time scale in days\n",
    "    # shore_factors: particle weight derated by (1-shore_factor)**hits\n",
    "    # bed_factors: particle weighte derated by (1-bed_factor)**hits\n",
    "    # print(f\"tau={decay_rate}  shore={beach_rate}  bed={depo_rate}\")\n",
    "    preds=[]\n",
    "\n",
    "    for idx,rec in utils.progress(manta_chrono.iterrows()):\n",
    "        # print(idx)\n",
    "        bundle=precalc[idx]\n",
    "        age_s=bundle['age_s']\n",
    "        shore_hits=bundle['shore_hits']\n",
    "        bed_hits=bundle['bed_hits']\n",
    "        preweighted=bundle['preweighted']\n",
    "                                        \n",
    "        pred=dict(idx=idx,storm_factor=storm_factor,decay_rate=decay_rate,\n",
    "                  step=step,Msmooth_i=0,\n",
    "                  beach_rate=beach_rate,depo_rate=depo_rate)\n",
    "        pred['idx']=idx\n",
    "    \n",
    "        # All in one go was actually half as fast\n",
    "        weight=ne.evaluate('''exp( -age_s*decay_rate/86400. \n",
    "                                   -shore_hits*beach_rate \n",
    "                                   -bed_hits*depo_rate )''')\n",
    "        C=ne.evaluate( 'sum(preweighted*weight)')\n",
    "         \n",
    "        pred['C_model']=C\n",
    "        preds.append(pred)\n",
    "\n",
    "    df_pred=pd.DataFrame(preds)\n",
    "    df_pred['C_model']=df_pred['C_model'].astype(np.float64)\n",
    "    manta_pred=df_pred.join(manta_chrono,on='idx')\n",
    "    return manta_pred\n",
    "\n",
    "def predict_mantas_fast_multi(tau_ds,shore_factors,bed_factors):\n",
    "    dfs=[]\n",
    "    for tau_d,shore_factor,bed_factor in itertools.product(tau_ds,shore_factors,bed_factors):\n",
    "        #print(f\"tau={tau/np.timedelta64(86400,'s')}d shore_factor={shore_factor}  bed_factor={bed_factor}\")\n",
    "        dfs.append(predict_mantas_fast(tau_d,shore_factor=shore_factor,bed_factor=bed_factor))\n",
    "    combined=pd.concat(dfs)\n",
    "    return combined\n",
    "            "
   ]
  },
  {
   "cell_type": "code",
   "execution_count": 19,
   "metadata": {},
   "outputs": [
    {
     "name": "stdout",
     "output_type": "stream",
     "text": [
      "CPU times: user 15.9 s, sys: 2.72 s, total: 18.6 s\n",
      "Wall time: 2.62 s\n"
     ]
    }
   ],
   "source": [
    "%%time\n",
    "# 6.7s\n",
    "# 2.8s after combining all rates, which regresses to 5.5s if I do the\n",
    "# summation in line, too.\n",
    "# Those times with 8 threads. Down to 1.9s with 16 threads.\n",
    "# Back to 2.49 if 64 bit. \n",
    "#%lprun -f predict_mantas_fast \n",
    "result=predict_mantas_fast(decay_rate=0.01,beach_rate=0.2,depo_rate=0.001)\n",
    "#metrics(result)"
   ]
  },
  {
   "cell_type": "markdown",
   "metadata": {},
   "source": [
    "Counting Distributions\n",
    "--\n",
    "\n",
    "The existing columns in manta below.\n",
    "\n",
    "The ones of interest are\n",
    "- area_m2\n",
    "- count_preblank_nofiber\n",
    "- count_nofiber\n",
    "- part_per_m2_nofiber\n",
    "- part_per_m2_raw_nofiber\n",
    "\n",
    "Currently I make adjustments to the observations,\n",
    "1. estimate contamination for each of the morphologies\n",
    "2. adjust counts for contamination, sum over morphology\n",
    "3. Normalize by sample area.\n",
    "\n",
    "This value is compared directly to the model output.\n",
    "\n",
    "Currently using manta_summary-v03.csv, produced by `adjust_manta_sediment.py`\n",
    "\n",
    "\n",
    "\n",
    "Predicting counts from the model:\n",
    "- \"True\" mean count for sample is $N_{true} =C_{model} \\cdot A_{sample} $. Area is in m2, C_model is in particles per square meter.\n",
    "- Observations are then $$\\textrm{count_preblank} \\sim \n",
    " Poisson(N_{true}) + Poisson(N_{film}) + Poisson(N_{sphere}) + \\cdots$$"
   ]
  },
  {
   "cell_type": "markdown",
   "metadata": {},
   "source": [
    "```\n",
    "SampleID\n",
    "SAMPLE LOCATION\n",
    "DATE\n",
    "TYPE\n",
    "LAT START\n",
    "LONG START\n",
    "LAT END\n",
    "LONG END\n",
    "TOTAL DIST (M)\n",
    "START FLOW\n",
    "END FLOW\n",
    "area_km2\n",
    "volume_m3\n",
    "FibersYN\n",
    "Season\n",
    "time_local\n",
    "time_utc\n",
    "lat\n",
    "lon\n",
    "volume_l\n",
    "area_m2\n",
    "count_preblank_std\n",
    "count_preblank_nofiber\n",
    "Fiber\n",
    "Fiber Bundle\n",
    "Film\n",
    "Foam\n",
    "Fragment\n",
    "Sphere\n",
    "Fiber_adj\n",
    "Fiber Bundle_adj\n",
    "Fragment_adj\n",
    "Foam_adj\n",
    "Film_adj\n",
    "Sphere_adj\n",
    "count_std\n",
    "count_nofiber\n",
    "part_per_m3_std\n",
    "part_per_m2_std\n",
    "part_per_m3_raw_std\n",
    "part_per_m2_raw_std\n",
    "part_per_m3_nofiber\n",
    "part_per_m2_nofiber\n",
    "part_per_m3_raw_nofiber\n",
    "part_per_m2_raw_nofiber\n",
    "x\n",
    "y\n",
    "```"
   ]
  },
  {
   "cell_type": "markdown",
   "metadata": {},
   "source": [
    "Optimization\n",
    "==\n",
    "\n",
    "Before something more sophisticated like stan or max likelihood, \n",
    "just optimize a cost function.\n",
    "\n",
    "1. Maximize r_log.  This worked well, giving tau=90.47 shore=0.037 and bed=-0.0075. Even without any constraints, the values are not too crazy, and the result a bit better than before, $r_{log} = 0.7214559$. But I'm having trouble getting this result after changing the code to use 64-bit floats, so maybe that was a fluke.\n",
    "2. Constrained optimization did not move much at all from the initial. This may be due to estimating gradients with a smaller epsilon than fmin, in fact slightly smaller than a 32-bit float can represent. The form is so simple that we might as well calculated gradients.\n",
    "3. That said, unconstrained optimization with a penalty did not do any better. "
   ]
  },
  {
   "cell_type": "code",
   "execution_count": 20,
   "metadata": {},
   "outputs": [],
   "source": [
    "# ensure that observed values are positive.\n",
    "obs=manta_chrono['part_per_m2_nofiber'].values\n",
    "detect_limit=0.5*obs[obs>0].min()\n",
    "observed=obs.clip(detect_limit)"
   ]
  },
  {
   "cell_type": "code",
   "execution_count": 21,
   "metadata": {},
   "outputs": [],
   "source": [
    "from scipy import stats\n",
    "import emcee"
   ]
  },
  {
   "cell_type": "code",
   "execution_count": 22,
   "metadata": {},
   "outputs": [],
   "source": [
    "cats=['Fiber Bundle','Fragment','Foam', 'Film','Sphere']"
   ]
  },
  {
   "cell_type": "code",
   "execution_count": 23,
   "metadata": {},
   "outputs": [
    {
     "data": {
      "application/javascript": [
       "/* Put everything inside the global mpl namespace */\n",
       "/* global mpl */\n",
       "window.mpl = {};\n",
       "\n",
       "mpl.get_websocket_type = function () {\n",
       "    if (typeof WebSocket !== 'undefined') {\n",
       "        return WebSocket;\n",
       "    } else if (typeof MozWebSocket !== 'undefined') {\n",
       "        return MozWebSocket;\n",
       "    } else {\n",
       "        alert(\n",
       "            'Your browser does not have WebSocket support. ' +\n",
       "                'Please try Chrome, Safari or Firefox ≥ 6. ' +\n",
       "                'Firefox 4 and 5 are also supported but you ' +\n",
       "                'have to enable WebSockets in about:config.'\n",
       "        );\n",
       "    }\n",
       "};\n",
       "\n",
       "mpl.figure = function (figure_id, websocket, ondownload, parent_element) {\n",
       "    this.id = figure_id;\n",
       "\n",
       "    this.ws = websocket;\n",
       "\n",
       "    this.supports_binary = this.ws.binaryType !== undefined;\n",
       "\n",
       "    if (!this.supports_binary) {\n",
       "        var warnings = document.getElementById('mpl-warnings');\n",
       "        if (warnings) {\n",
       "            warnings.style.display = 'block';\n",
       "            warnings.textContent =\n",
       "                'This browser does not support binary websocket messages. ' +\n",
       "                'Performance may be slow.';\n",
       "        }\n",
       "    }\n",
       "\n",
       "    this.imageObj = new Image();\n",
       "\n",
       "    this.context = undefined;\n",
       "    this.message = undefined;\n",
       "    this.canvas = undefined;\n",
       "    this.rubberband_canvas = undefined;\n",
       "    this.rubberband_context = undefined;\n",
       "    this.format_dropdown = undefined;\n",
       "\n",
       "    this.image_mode = 'full';\n",
       "\n",
       "    this.root = document.createElement('div');\n",
       "    this.root.setAttribute('style', 'display: inline-block');\n",
       "    this._root_extra_style(this.root);\n",
       "\n",
       "    parent_element.appendChild(this.root);\n",
       "\n",
       "    this._init_header(this);\n",
       "    this._init_canvas(this);\n",
       "    this._init_toolbar(this);\n",
       "\n",
       "    var fig = this;\n",
       "\n",
       "    this.waiting = false;\n",
       "\n",
       "    this.ws.onopen = function () {\n",
       "        fig.send_message('supports_binary', { value: fig.supports_binary });\n",
       "        fig.send_message('send_image_mode', {});\n",
       "        if (fig.ratio !== 1) {\n",
       "            fig.send_message('set_dpi_ratio', { dpi_ratio: fig.ratio });\n",
       "        }\n",
       "        fig.send_message('refresh', {});\n",
       "    };\n",
       "\n",
       "    this.imageObj.onload = function () {\n",
       "        if (fig.image_mode === 'full') {\n",
       "            // Full images could contain transparency (where diff images\n",
       "            // almost always do), so we need to clear the canvas so that\n",
       "            // there is no ghosting.\n",
       "            fig.context.clearRect(0, 0, fig.canvas.width, fig.canvas.height);\n",
       "        }\n",
       "        fig.context.drawImage(fig.imageObj, 0, 0);\n",
       "    };\n",
       "\n",
       "    this.imageObj.onunload = function () {\n",
       "        fig.ws.close();\n",
       "    };\n",
       "\n",
       "    this.ws.onmessage = this._make_on_message_function(this);\n",
       "\n",
       "    this.ondownload = ondownload;\n",
       "};\n",
       "\n",
       "mpl.figure.prototype._init_header = function () {\n",
       "    var titlebar = document.createElement('div');\n",
       "    titlebar.classList =\n",
       "        'ui-dialog-titlebar ui-widget-header ui-corner-all ui-helper-clearfix';\n",
       "    var titletext = document.createElement('div');\n",
       "    titletext.classList = 'ui-dialog-title';\n",
       "    titletext.setAttribute(\n",
       "        'style',\n",
       "        'width: 100%; text-align: center; padding: 3px;'\n",
       "    );\n",
       "    titlebar.appendChild(titletext);\n",
       "    this.root.appendChild(titlebar);\n",
       "    this.header = titletext;\n",
       "};\n",
       "\n",
       "mpl.figure.prototype._canvas_extra_style = function (_canvas_div) {};\n",
       "\n",
       "mpl.figure.prototype._root_extra_style = function (_canvas_div) {};\n",
       "\n",
       "mpl.figure.prototype._init_canvas = function () {\n",
       "    var fig = this;\n",
       "\n",
       "    var canvas_div = (this.canvas_div = document.createElement('div'));\n",
       "    canvas_div.setAttribute(\n",
       "        'style',\n",
       "        'border: 1px solid #ddd;' +\n",
       "            'box-sizing: content-box;' +\n",
       "            'clear: both;' +\n",
       "            'min-height: 1px;' +\n",
       "            'min-width: 1px;' +\n",
       "            'outline: 0;' +\n",
       "            'overflow: hidden;' +\n",
       "            'position: relative;' +\n",
       "            'resize: both;'\n",
       "    );\n",
       "\n",
       "    function on_keyboard_event_closure(name) {\n",
       "        return function (event) {\n",
       "            return fig.key_event(event, name);\n",
       "        };\n",
       "    }\n",
       "\n",
       "    canvas_div.addEventListener(\n",
       "        'keydown',\n",
       "        on_keyboard_event_closure('key_press')\n",
       "    );\n",
       "    canvas_div.addEventListener(\n",
       "        'keyup',\n",
       "        on_keyboard_event_closure('key_release')\n",
       "    );\n",
       "\n",
       "    this._canvas_extra_style(canvas_div);\n",
       "    this.root.appendChild(canvas_div);\n",
       "\n",
       "    var canvas = (this.canvas = document.createElement('canvas'));\n",
       "    canvas.classList.add('mpl-canvas');\n",
       "    canvas.setAttribute('style', 'box-sizing: content-box;');\n",
       "\n",
       "    this.context = canvas.getContext('2d');\n",
       "\n",
       "    var backingStore =\n",
       "        this.context.backingStorePixelRatio ||\n",
       "        this.context.webkitBackingStorePixelRatio ||\n",
       "        this.context.mozBackingStorePixelRatio ||\n",
       "        this.context.msBackingStorePixelRatio ||\n",
       "        this.context.oBackingStorePixelRatio ||\n",
       "        this.context.backingStorePixelRatio ||\n",
       "        1;\n",
       "\n",
       "    this.ratio = (window.devicePixelRatio || 1) / backingStore;\n",
       "    if (this.ratio !== 1) {\n",
       "        fig.send_message('set_dpi_ratio', { dpi_ratio: this.ratio });\n",
       "    }\n",
       "\n",
       "    var rubberband_canvas = (this.rubberband_canvas = document.createElement(\n",
       "        'canvas'\n",
       "    ));\n",
       "    rubberband_canvas.setAttribute(\n",
       "        'style',\n",
       "        'box-sizing: content-box; position: absolute; left: 0; top: 0; z-index: 1;'\n",
       "    );\n",
       "\n",
       "    // Apply a ponyfill if ResizeObserver is not implemented by browser.\n",
       "    if (this.ResizeObserver === undefined) {\n",
       "        if (window.ResizeObserver !== undefined) {\n",
       "            this.ResizeObserver = window.ResizeObserver;\n",
       "        } else {\n",
       "            var obs = _JSXTOOLS_RESIZE_OBSERVER({});\n",
       "            this.ResizeObserver = obs.ResizeObserver;\n",
       "        }\n",
       "    }\n",
       "\n",
       "    this.resizeObserverInstance = new this.ResizeObserver(function (entries) {\n",
       "        var nentries = entries.length;\n",
       "        for (var i = 0; i < nentries; i++) {\n",
       "            var entry = entries[i];\n",
       "            var width, height;\n",
       "            if (entry.contentBoxSize) {\n",
       "                if (entry.contentBoxSize instanceof Array) {\n",
       "                    // Chrome 84 implements new version of spec.\n",
       "                    width = entry.contentBoxSize[0].inlineSize;\n",
       "                    height = entry.contentBoxSize[0].blockSize;\n",
       "                } else {\n",
       "                    // Firefox implements old version of spec.\n",
       "                    width = entry.contentBoxSize.inlineSize;\n",
       "                    height = entry.contentBoxSize.blockSize;\n",
       "                }\n",
       "            } else {\n",
       "                // Chrome <84 implements even older version of spec.\n",
       "                width = entry.contentRect.width;\n",
       "                height = entry.contentRect.height;\n",
       "            }\n",
       "\n",
       "            // Keep the size of the canvas and rubber band canvas in sync with\n",
       "            // the canvas container.\n",
       "            if (entry.devicePixelContentBoxSize) {\n",
       "                // Chrome 84 implements new version of spec.\n",
       "                canvas.setAttribute(\n",
       "                    'width',\n",
       "                    entry.devicePixelContentBoxSize[0].inlineSize\n",
       "                );\n",
       "                canvas.setAttribute(\n",
       "                    'height',\n",
       "                    entry.devicePixelContentBoxSize[0].blockSize\n",
       "                );\n",
       "            } else {\n",
       "                canvas.setAttribute('width', width * fig.ratio);\n",
       "                canvas.setAttribute('height', height * fig.ratio);\n",
       "            }\n",
       "            canvas.setAttribute(\n",
       "                'style',\n",
       "                'width: ' + width + 'px; height: ' + height + 'px;'\n",
       "            );\n",
       "\n",
       "            rubberband_canvas.setAttribute('width', width);\n",
       "            rubberband_canvas.setAttribute('height', height);\n",
       "\n",
       "            // And update the size in Python. We ignore the initial 0/0 size\n",
       "            // that occurs as the element is placed into the DOM, which should\n",
       "            // otherwise not happen due to the minimum size styling.\n",
       "            if (width != 0 && height != 0) {\n",
       "                fig.request_resize(width, height);\n",
       "            }\n",
       "        }\n",
       "    });\n",
       "    this.resizeObserverInstance.observe(canvas_div);\n",
       "\n",
       "    function on_mouse_event_closure(name) {\n",
       "        return function (event) {\n",
       "            return fig.mouse_event(event, name);\n",
       "        };\n",
       "    }\n",
       "\n",
       "    rubberband_canvas.addEventListener(\n",
       "        'mousedown',\n",
       "        on_mouse_event_closure('button_press')\n",
       "    );\n",
       "    rubberband_canvas.addEventListener(\n",
       "        'mouseup',\n",
       "        on_mouse_event_closure('button_release')\n",
       "    );\n",
       "    // Throttle sequential mouse events to 1 every 20ms.\n",
       "    rubberband_canvas.addEventListener(\n",
       "        'mousemove',\n",
       "        on_mouse_event_closure('motion_notify')\n",
       "    );\n",
       "\n",
       "    rubberband_canvas.addEventListener(\n",
       "        'mouseenter',\n",
       "        on_mouse_event_closure('figure_enter')\n",
       "    );\n",
       "    rubberband_canvas.addEventListener(\n",
       "        'mouseleave',\n",
       "        on_mouse_event_closure('figure_leave')\n",
       "    );\n",
       "\n",
       "    canvas_div.addEventListener('wheel', function (event) {\n",
       "        if (event.deltaY < 0) {\n",
       "            event.step = 1;\n",
       "        } else {\n",
       "            event.step = -1;\n",
       "        }\n",
       "        on_mouse_event_closure('scroll')(event);\n",
       "    });\n",
       "\n",
       "    canvas_div.appendChild(canvas);\n",
       "    canvas_div.appendChild(rubberband_canvas);\n",
       "\n",
       "    this.rubberband_context = rubberband_canvas.getContext('2d');\n",
       "    this.rubberband_context.strokeStyle = '#000000';\n",
       "\n",
       "    this._resize_canvas = function (width, height, forward) {\n",
       "        if (forward) {\n",
       "            canvas_div.style.width = width + 'px';\n",
       "            canvas_div.style.height = height + 'px';\n",
       "        }\n",
       "    };\n",
       "\n",
       "    // Disable right mouse context menu.\n",
       "    this.rubberband_canvas.addEventListener('contextmenu', function (_e) {\n",
       "        event.preventDefault();\n",
       "        return false;\n",
       "    });\n",
       "\n",
       "    function set_focus() {\n",
       "        canvas.focus();\n",
       "        canvas_div.focus();\n",
       "    }\n",
       "\n",
       "    window.setTimeout(set_focus, 100);\n",
       "};\n",
       "\n",
       "mpl.figure.prototype._init_toolbar = function () {\n",
       "    var fig = this;\n",
       "\n",
       "    var toolbar = document.createElement('div');\n",
       "    toolbar.classList = 'mpl-toolbar';\n",
       "    this.root.appendChild(toolbar);\n",
       "\n",
       "    function on_click_closure(name) {\n",
       "        return function (_event) {\n",
       "            return fig.toolbar_button_onclick(name);\n",
       "        };\n",
       "    }\n",
       "\n",
       "    function on_mouseover_closure(tooltip) {\n",
       "        return function (event) {\n",
       "            if (!event.currentTarget.disabled) {\n",
       "                return fig.toolbar_button_onmouseover(tooltip);\n",
       "            }\n",
       "        };\n",
       "    }\n",
       "\n",
       "    fig.buttons = {};\n",
       "    var buttonGroup = document.createElement('div');\n",
       "    buttonGroup.classList = 'mpl-button-group';\n",
       "    for (var toolbar_ind in mpl.toolbar_items) {\n",
       "        var name = mpl.toolbar_items[toolbar_ind][0];\n",
       "        var tooltip = mpl.toolbar_items[toolbar_ind][1];\n",
       "        var image = mpl.toolbar_items[toolbar_ind][2];\n",
       "        var method_name = mpl.toolbar_items[toolbar_ind][3];\n",
       "\n",
       "        if (!name) {\n",
       "            /* Instead of a spacer, we start a new button group. */\n",
       "            if (buttonGroup.hasChildNodes()) {\n",
       "                toolbar.appendChild(buttonGroup);\n",
       "            }\n",
       "            buttonGroup = document.createElement('div');\n",
       "            buttonGroup.classList = 'mpl-button-group';\n",
       "            continue;\n",
       "        }\n",
       "\n",
       "        var button = (fig.buttons[name] = document.createElement('button'));\n",
       "        button.classList = 'mpl-widget';\n",
       "        button.setAttribute('role', 'button');\n",
       "        button.setAttribute('aria-disabled', 'false');\n",
       "        button.addEventListener('click', on_click_closure(method_name));\n",
       "        button.addEventListener('mouseover', on_mouseover_closure(tooltip));\n",
       "\n",
       "        var icon_img = document.createElement('img');\n",
       "        icon_img.src = '_images/' + image + '.png';\n",
       "        icon_img.srcset = '_images/' + image + '_large.png 2x';\n",
       "        icon_img.alt = tooltip;\n",
       "        button.appendChild(icon_img);\n",
       "\n",
       "        buttonGroup.appendChild(button);\n",
       "    }\n",
       "\n",
       "    if (buttonGroup.hasChildNodes()) {\n",
       "        toolbar.appendChild(buttonGroup);\n",
       "    }\n",
       "\n",
       "    var fmt_picker = document.createElement('select');\n",
       "    fmt_picker.classList = 'mpl-widget';\n",
       "    toolbar.appendChild(fmt_picker);\n",
       "    this.format_dropdown = fmt_picker;\n",
       "\n",
       "    for (var ind in mpl.extensions) {\n",
       "        var fmt = mpl.extensions[ind];\n",
       "        var option = document.createElement('option');\n",
       "        option.selected = fmt === mpl.default_extension;\n",
       "        option.innerHTML = fmt;\n",
       "        fmt_picker.appendChild(option);\n",
       "    }\n",
       "\n",
       "    var status_bar = document.createElement('span');\n",
       "    status_bar.classList = 'mpl-message';\n",
       "    toolbar.appendChild(status_bar);\n",
       "    this.message = status_bar;\n",
       "};\n",
       "\n",
       "mpl.figure.prototype.request_resize = function (x_pixels, y_pixels) {\n",
       "    // Request matplotlib to resize the figure. Matplotlib will then trigger a resize in the client,\n",
       "    // which will in turn request a refresh of the image.\n",
       "    this.send_message('resize', { width: x_pixels, height: y_pixels });\n",
       "};\n",
       "\n",
       "mpl.figure.prototype.send_message = function (type, properties) {\n",
       "    properties['type'] = type;\n",
       "    properties['figure_id'] = this.id;\n",
       "    this.ws.send(JSON.stringify(properties));\n",
       "};\n",
       "\n",
       "mpl.figure.prototype.send_draw_message = function () {\n",
       "    if (!this.waiting) {\n",
       "        this.waiting = true;\n",
       "        this.ws.send(JSON.stringify({ type: 'draw', figure_id: this.id }));\n",
       "    }\n",
       "};\n",
       "\n",
       "mpl.figure.prototype.handle_save = function (fig, _msg) {\n",
       "    var format_dropdown = fig.format_dropdown;\n",
       "    var format = format_dropdown.options[format_dropdown.selectedIndex].value;\n",
       "    fig.ondownload(fig, format);\n",
       "};\n",
       "\n",
       "mpl.figure.prototype.handle_resize = function (fig, msg) {\n",
       "    var size = msg['size'];\n",
       "    if (size[0] !== fig.canvas.width || size[1] !== fig.canvas.height) {\n",
       "        fig._resize_canvas(size[0], size[1], msg['forward']);\n",
       "        fig.send_message('refresh', {});\n",
       "    }\n",
       "};\n",
       "\n",
       "mpl.figure.prototype.handle_rubberband = function (fig, msg) {\n",
       "    var x0 = msg['x0'] / fig.ratio;\n",
       "    var y0 = (fig.canvas.height - msg['y0']) / fig.ratio;\n",
       "    var x1 = msg['x1'] / fig.ratio;\n",
       "    var y1 = (fig.canvas.height - msg['y1']) / fig.ratio;\n",
       "    x0 = Math.floor(x0) + 0.5;\n",
       "    y0 = Math.floor(y0) + 0.5;\n",
       "    x1 = Math.floor(x1) + 0.5;\n",
       "    y1 = Math.floor(y1) + 0.5;\n",
       "    var min_x = Math.min(x0, x1);\n",
       "    var min_y = Math.min(y0, y1);\n",
       "    var width = Math.abs(x1 - x0);\n",
       "    var height = Math.abs(y1 - y0);\n",
       "\n",
       "    fig.rubberband_context.clearRect(\n",
       "        0,\n",
       "        0,\n",
       "        fig.canvas.width / fig.ratio,\n",
       "        fig.canvas.height / fig.ratio\n",
       "    );\n",
       "\n",
       "    fig.rubberband_context.strokeRect(min_x, min_y, width, height);\n",
       "};\n",
       "\n",
       "mpl.figure.prototype.handle_figure_label = function (fig, msg) {\n",
       "    // Updates the figure title.\n",
       "    fig.header.textContent = msg['label'];\n",
       "};\n",
       "\n",
       "mpl.figure.prototype.handle_cursor = function (fig, msg) {\n",
       "    var cursor = msg['cursor'];\n",
       "    switch (cursor) {\n",
       "        case 0:\n",
       "            cursor = 'pointer';\n",
       "            break;\n",
       "        case 1:\n",
       "            cursor = 'default';\n",
       "            break;\n",
       "        case 2:\n",
       "            cursor = 'crosshair';\n",
       "            break;\n",
       "        case 3:\n",
       "            cursor = 'move';\n",
       "            break;\n",
       "    }\n",
       "    fig.rubberband_canvas.style.cursor = cursor;\n",
       "};\n",
       "\n",
       "mpl.figure.prototype.handle_message = function (fig, msg) {\n",
       "    fig.message.textContent = msg['message'];\n",
       "};\n",
       "\n",
       "mpl.figure.prototype.handle_draw = function (fig, _msg) {\n",
       "    // Request the server to send over a new figure.\n",
       "    fig.send_draw_message();\n",
       "};\n",
       "\n",
       "mpl.figure.prototype.handle_image_mode = function (fig, msg) {\n",
       "    fig.image_mode = msg['mode'];\n",
       "};\n",
       "\n",
       "mpl.figure.prototype.handle_history_buttons = function (fig, msg) {\n",
       "    for (var key in msg) {\n",
       "        if (!(key in fig.buttons)) {\n",
       "            continue;\n",
       "        }\n",
       "        fig.buttons[key].disabled = !msg[key];\n",
       "        fig.buttons[key].setAttribute('aria-disabled', !msg[key]);\n",
       "    }\n",
       "};\n",
       "\n",
       "mpl.figure.prototype.handle_navigate_mode = function (fig, msg) {\n",
       "    if (msg['mode'] === 'PAN') {\n",
       "        fig.buttons['Pan'].classList.add('active');\n",
       "        fig.buttons['Zoom'].classList.remove('active');\n",
       "    } else if (msg['mode'] === 'ZOOM') {\n",
       "        fig.buttons['Pan'].classList.remove('active');\n",
       "        fig.buttons['Zoom'].classList.add('active');\n",
       "    } else {\n",
       "        fig.buttons['Pan'].classList.remove('active');\n",
       "        fig.buttons['Zoom'].classList.remove('active');\n",
       "    }\n",
       "};\n",
       "\n",
       "mpl.figure.prototype.updated_canvas_event = function () {\n",
       "    // Called whenever the canvas gets updated.\n",
       "    this.send_message('ack', {});\n",
       "};\n",
       "\n",
       "// A function to construct a web socket function for onmessage handling.\n",
       "// Called in the figure constructor.\n",
       "mpl.figure.prototype._make_on_message_function = function (fig) {\n",
       "    return function socket_on_message(evt) {\n",
       "        if (evt.data instanceof Blob) {\n",
       "            /* FIXME: We get \"Resource interpreted as Image but\n",
       "             * transferred with MIME type text/plain:\" errors on\n",
       "             * Chrome.  But how to set the MIME type?  It doesn't seem\n",
       "             * to be part of the websocket stream */\n",
       "            evt.data.type = 'image/png';\n",
       "\n",
       "            /* Free the memory for the previous frames */\n",
       "            if (fig.imageObj.src) {\n",
       "                (window.URL || window.webkitURL).revokeObjectURL(\n",
       "                    fig.imageObj.src\n",
       "                );\n",
       "            }\n",
       "\n",
       "            fig.imageObj.src = (window.URL || window.webkitURL).createObjectURL(\n",
       "                evt.data\n",
       "            );\n",
       "            fig.updated_canvas_event();\n",
       "            fig.waiting = false;\n",
       "            return;\n",
       "        } else if (\n",
       "            typeof evt.data === 'string' &&\n",
       "            evt.data.slice(0, 21) === 'data:image/png;base64'\n",
       "        ) {\n",
       "            fig.imageObj.src = evt.data;\n",
       "            fig.updated_canvas_event();\n",
       "            fig.waiting = false;\n",
       "            return;\n",
       "        }\n",
       "\n",
       "        var msg = JSON.parse(evt.data);\n",
       "        var msg_type = msg['type'];\n",
       "\n",
       "        // Call the  \"handle_{type}\" callback, which takes\n",
       "        // the figure and JSON message as its only arguments.\n",
       "        try {\n",
       "            var callback = fig['handle_' + msg_type];\n",
       "        } catch (e) {\n",
       "            console.log(\n",
       "                \"No handler for the '\" + msg_type + \"' message type: \",\n",
       "                msg\n",
       "            );\n",
       "            return;\n",
       "        }\n",
       "\n",
       "        if (callback) {\n",
       "            try {\n",
       "                // console.log(\"Handling '\" + msg_type + \"' message: \", msg);\n",
       "                callback(fig, msg);\n",
       "            } catch (e) {\n",
       "                console.log(\n",
       "                    \"Exception inside the 'handler_\" + msg_type + \"' callback:\",\n",
       "                    e,\n",
       "                    e.stack,\n",
       "                    msg\n",
       "                );\n",
       "            }\n",
       "        }\n",
       "    };\n",
       "};\n",
       "\n",
       "// from http://stackoverflow.com/questions/1114465/getting-mouse-location-in-canvas\n",
       "mpl.findpos = function (e) {\n",
       "    //this section is from http://www.quirksmode.org/js/events_properties.html\n",
       "    var targ;\n",
       "    if (!e) {\n",
       "        e = window.event;\n",
       "    }\n",
       "    if (e.target) {\n",
       "        targ = e.target;\n",
       "    } else if (e.srcElement) {\n",
       "        targ = e.srcElement;\n",
       "    }\n",
       "    if (targ.nodeType === 3) {\n",
       "        // defeat Safari bug\n",
       "        targ = targ.parentNode;\n",
       "    }\n",
       "\n",
       "    // pageX,Y are the mouse positions relative to the document\n",
       "    var boundingRect = targ.getBoundingClientRect();\n",
       "    var x = e.pageX - (boundingRect.left + document.body.scrollLeft);\n",
       "    var y = e.pageY - (boundingRect.top + document.body.scrollTop);\n",
       "\n",
       "    return { x: x, y: y };\n",
       "};\n",
       "\n",
       "/*\n",
       " * return a copy of an object with only non-object keys\n",
       " * we need this to avoid circular references\n",
       " * http://stackoverflow.com/a/24161582/3208463\n",
       " */\n",
       "function simpleKeys(original) {\n",
       "    return Object.keys(original).reduce(function (obj, key) {\n",
       "        if (typeof original[key] !== 'object') {\n",
       "            obj[key] = original[key];\n",
       "        }\n",
       "        return obj;\n",
       "    }, {});\n",
       "}\n",
       "\n",
       "mpl.figure.prototype.mouse_event = function (event, name) {\n",
       "    var canvas_pos = mpl.findpos(event);\n",
       "\n",
       "    if (name === 'button_press') {\n",
       "        this.canvas.focus();\n",
       "        this.canvas_div.focus();\n",
       "    }\n",
       "\n",
       "    var x = canvas_pos.x * this.ratio;\n",
       "    var y = canvas_pos.y * this.ratio;\n",
       "\n",
       "    this.send_message(name, {\n",
       "        x: x,\n",
       "        y: y,\n",
       "        button: event.button,\n",
       "        step: event.step,\n",
       "        guiEvent: simpleKeys(event),\n",
       "    });\n",
       "\n",
       "    /* This prevents the web browser from automatically changing to\n",
       "     * the text insertion cursor when the button is pressed.  We want\n",
       "     * to control all of the cursor setting manually through the\n",
       "     * 'cursor' event from matplotlib */\n",
       "    event.preventDefault();\n",
       "    return false;\n",
       "};\n",
       "\n",
       "mpl.figure.prototype._key_event_extra = function (_event, _name) {\n",
       "    // Handle any extra behaviour associated with a key event\n",
       "};\n",
       "\n",
       "mpl.figure.prototype.key_event = function (event, name) {\n",
       "    // Prevent repeat events\n",
       "    if (name === 'key_press') {\n",
       "        if (event.which === this._key) {\n",
       "            return;\n",
       "        } else {\n",
       "            this._key = event.which;\n",
       "        }\n",
       "    }\n",
       "    if (name === 'key_release') {\n",
       "        this._key = null;\n",
       "    }\n",
       "\n",
       "    var value = '';\n",
       "    if (event.ctrlKey && event.which !== 17) {\n",
       "        value += 'ctrl+';\n",
       "    }\n",
       "    if (event.altKey && event.which !== 18) {\n",
       "        value += 'alt+';\n",
       "    }\n",
       "    if (event.shiftKey && event.which !== 16) {\n",
       "        value += 'shift+';\n",
       "    }\n",
       "\n",
       "    value += 'k';\n",
       "    value += event.which.toString();\n",
       "\n",
       "    this._key_event_extra(event, name);\n",
       "\n",
       "    this.send_message(name, { key: value, guiEvent: simpleKeys(event) });\n",
       "    return false;\n",
       "};\n",
       "\n",
       "mpl.figure.prototype.toolbar_button_onclick = function (name) {\n",
       "    if (name === 'download') {\n",
       "        this.handle_save(this, null);\n",
       "    } else {\n",
       "        this.send_message('toolbar_button', { name: name });\n",
       "    }\n",
       "};\n",
       "\n",
       "mpl.figure.prototype.toolbar_button_onmouseover = function (tooltip) {\n",
       "    this.message.textContent = tooltip;\n",
       "};\n",
       "\n",
       "///////////////// REMAINING CONTENT GENERATED BY embed_js.py /////////////////\n",
       "// prettier-ignore\n",
       "var _JSXTOOLS_RESIZE_OBSERVER=function(A){var t,i=new WeakMap,n=new WeakMap,a=new WeakMap,r=new WeakMap,o=new Set;function s(e){if(!(this instanceof s))throw new TypeError(\"Constructor requires 'new' operator\");i.set(this,e)}function h(){throw new TypeError(\"Function is not a constructor\")}function c(e,t,i,n){e=0 in arguments?Number(arguments[0]):0,t=1 in arguments?Number(arguments[1]):0,i=2 in arguments?Number(arguments[2]):0,n=3 in arguments?Number(arguments[3]):0,this.right=(this.x=this.left=e)+(this.width=i),this.bottom=(this.y=this.top=t)+(this.height=n),Object.freeze(this)}function d(){t=requestAnimationFrame(d);var s=new WeakMap,p=new Set;o.forEach((function(t){r.get(t).forEach((function(i){var r=t instanceof window.SVGElement,o=a.get(t),d=r?0:parseFloat(o.paddingTop),f=r?0:parseFloat(o.paddingRight),l=r?0:parseFloat(o.paddingBottom),u=r?0:parseFloat(o.paddingLeft),g=r?0:parseFloat(o.borderTopWidth),m=r?0:parseFloat(o.borderRightWidth),w=r?0:parseFloat(o.borderBottomWidth),b=u+f,F=d+l,v=(r?0:parseFloat(o.borderLeftWidth))+m,W=g+w,y=r?0:t.offsetHeight-W-t.clientHeight,E=r?0:t.offsetWidth-v-t.clientWidth,R=b+v,z=F+W,M=r?t.width:parseFloat(o.width)-R-E,O=r?t.height:parseFloat(o.height)-z-y;if(n.has(t)){var k=n.get(t);if(k[0]===M&&k[1]===O)return}n.set(t,[M,O]);var S=Object.create(h.prototype);S.target=t,S.contentRect=new c(u,d,M,O),s.has(i)||(s.set(i,[]),p.add(i)),s.get(i).push(S)}))})),p.forEach((function(e){i.get(e).call(e,s.get(e),e)}))}return s.prototype.observe=function(i){if(i instanceof window.Element){r.has(i)||(r.set(i,new Set),o.add(i),a.set(i,window.getComputedStyle(i)));var n=r.get(i);n.has(this)||n.add(this),cancelAnimationFrame(t),t=requestAnimationFrame(d)}},s.prototype.unobserve=function(i){if(i instanceof window.Element&&r.has(i)){var n=r.get(i);n.has(this)&&(n.delete(this),n.size||(r.delete(i),o.delete(i))),n.size||r.delete(i),o.size||cancelAnimationFrame(t)}},A.DOMRectReadOnly=c,A.ResizeObserver=s,A.ResizeObserverEntry=h,A}; // eslint-disable-line\n",
       "mpl.toolbar_items = [[\"Home\", \"Reset original view\", \"fa fa-home icon-home\", \"home\"], [\"Back\", \"Back to previous view\", \"fa fa-arrow-left icon-arrow-left\", \"back\"], [\"Forward\", \"Forward to next view\", \"fa fa-arrow-right icon-arrow-right\", \"forward\"], [\"\", \"\", \"\", \"\"], [\"Pan\", \"Left button pans, Right button zooms\\nx/y fixes axis, CTRL fixes aspect\", \"fa fa-arrows icon-move\", \"pan\"], [\"Zoom\", \"Zoom to rectangle\\nx/y fixes axis, CTRL fixes aspect\", \"fa fa-square-o icon-check-empty\", \"zoom\"], [\"\", \"\", \"\", \"\"], [\"Download\", \"Download plot\", \"fa fa-floppy-o icon-save\", \"download\"]];\n",
       "\n",
       "mpl.extensions = [\"eps\", \"jpeg\", \"pdf\", \"png\", \"ps\", \"raw\", \"svg\", \"tif\"];\n",
       "\n",
       "mpl.default_extension = \"png\";/* global mpl */\n",
       "\n",
       "var comm_websocket_adapter = function (comm) {\n",
       "    // Create a \"websocket\"-like object which calls the given IPython comm\n",
       "    // object with the appropriate methods. Currently this is a non binary\n",
       "    // socket, so there is still some room for performance tuning.\n",
       "    var ws = {};\n",
       "\n",
       "    ws.close = function () {\n",
       "        comm.close();\n",
       "    };\n",
       "    ws.send = function (m) {\n",
       "        //console.log('sending', m);\n",
       "        comm.send(m);\n",
       "    };\n",
       "    // Register the callback with on_msg.\n",
       "    comm.on_msg(function (msg) {\n",
       "        //console.log('receiving', msg['content']['data'], msg);\n",
       "        // Pass the mpl event to the overridden (by mpl) onmessage function.\n",
       "        ws.onmessage(msg['content']['data']);\n",
       "    });\n",
       "    return ws;\n",
       "};\n",
       "\n",
       "mpl.mpl_figure_comm = function (comm, msg) {\n",
       "    // This is the function which gets called when the mpl process\n",
       "    // starts-up an IPython Comm through the \"matplotlib\" channel.\n",
       "\n",
       "    var id = msg.content.data.id;\n",
       "    // Get hold of the div created by the display call when the Comm\n",
       "    // socket was opened in Python.\n",
       "    var element = document.getElementById(id);\n",
       "    var ws_proxy = comm_websocket_adapter(comm);\n",
       "\n",
       "    function ondownload(figure, _format) {\n",
       "        window.open(figure.canvas.toDataURL());\n",
       "    }\n",
       "\n",
       "    var fig = new mpl.figure(id, ws_proxy, ondownload, element);\n",
       "\n",
       "    // Call onopen now - mpl needs it, as it is assuming we've passed it a real\n",
       "    // web socket which is closed, not our websocket->open comm proxy.\n",
       "    ws_proxy.onopen();\n",
       "\n",
       "    fig.parent_element = element;\n",
       "    fig.cell_info = mpl.find_output_cell(\"<div id='\" + id + \"'></div>\");\n",
       "    if (!fig.cell_info) {\n",
       "        console.error('Failed to find cell for figure', id, fig);\n",
       "        return;\n",
       "    }\n",
       "    fig.cell_info[0].output_area.element.on(\n",
       "        'cleared',\n",
       "        { fig: fig },\n",
       "        fig._remove_fig_handler\n",
       "    );\n",
       "};\n",
       "\n",
       "mpl.figure.prototype.handle_close = function (fig, msg) {\n",
       "    var width = fig.canvas.width / fig.ratio;\n",
       "    fig.cell_info[0].output_area.element.off(\n",
       "        'cleared',\n",
       "        fig._remove_fig_handler\n",
       "    );\n",
       "    fig.resizeObserverInstance.unobserve(fig.canvas_div);\n",
       "\n",
       "    // Update the output cell to use the data from the current canvas.\n",
       "    fig.push_to_output();\n",
       "    var dataURL = fig.canvas.toDataURL();\n",
       "    // Re-enable the keyboard manager in IPython - without this line, in FF,\n",
       "    // the notebook keyboard shortcuts fail.\n",
       "    IPython.keyboard_manager.enable();\n",
       "    fig.parent_element.innerHTML =\n",
       "        '<img src=\"' + dataURL + '\" width=\"' + width + '\">';\n",
       "    fig.close_ws(fig, msg);\n",
       "};\n",
       "\n",
       "mpl.figure.prototype.close_ws = function (fig, msg) {\n",
       "    fig.send_message('closing', msg);\n",
       "    // fig.ws.close()\n",
       "};\n",
       "\n",
       "mpl.figure.prototype.push_to_output = function (_remove_interactive) {\n",
       "    // Turn the data on the canvas into data in the output cell.\n",
       "    var width = this.canvas.width / this.ratio;\n",
       "    var dataURL = this.canvas.toDataURL();\n",
       "    this.cell_info[1]['text/html'] =\n",
       "        '<img src=\"' + dataURL + '\" width=\"' + width + '\">';\n",
       "};\n",
       "\n",
       "mpl.figure.prototype.updated_canvas_event = function () {\n",
       "    // Tell IPython that the notebook contents must change.\n",
       "    IPython.notebook.set_dirty(true);\n",
       "    this.send_message('ack', {});\n",
       "    var fig = this;\n",
       "    // Wait a second, then push the new image to the DOM so\n",
       "    // that it is saved nicely (might be nice to debounce this).\n",
       "    setTimeout(function () {\n",
       "        fig.push_to_output();\n",
       "    }, 1000);\n",
       "};\n",
       "\n",
       "mpl.figure.prototype._init_toolbar = function () {\n",
       "    var fig = this;\n",
       "\n",
       "    var toolbar = document.createElement('div');\n",
       "    toolbar.classList = 'btn-toolbar';\n",
       "    this.root.appendChild(toolbar);\n",
       "\n",
       "    function on_click_closure(name) {\n",
       "        return function (_event) {\n",
       "            return fig.toolbar_button_onclick(name);\n",
       "        };\n",
       "    }\n",
       "\n",
       "    function on_mouseover_closure(tooltip) {\n",
       "        return function (event) {\n",
       "            if (!event.currentTarget.disabled) {\n",
       "                return fig.toolbar_button_onmouseover(tooltip);\n",
       "            }\n",
       "        };\n",
       "    }\n",
       "\n",
       "    fig.buttons = {};\n",
       "    var buttonGroup = document.createElement('div');\n",
       "    buttonGroup.classList = 'btn-group';\n",
       "    var button;\n",
       "    for (var toolbar_ind in mpl.toolbar_items) {\n",
       "        var name = mpl.toolbar_items[toolbar_ind][0];\n",
       "        var tooltip = mpl.toolbar_items[toolbar_ind][1];\n",
       "        var image = mpl.toolbar_items[toolbar_ind][2];\n",
       "        var method_name = mpl.toolbar_items[toolbar_ind][3];\n",
       "\n",
       "        if (!name) {\n",
       "            /* Instead of a spacer, we start a new button group. */\n",
       "            if (buttonGroup.hasChildNodes()) {\n",
       "                toolbar.appendChild(buttonGroup);\n",
       "            }\n",
       "            buttonGroup = document.createElement('div');\n",
       "            buttonGroup.classList = 'btn-group';\n",
       "            continue;\n",
       "        }\n",
       "\n",
       "        button = fig.buttons[name] = document.createElement('button');\n",
       "        button.classList = 'btn btn-default';\n",
       "        button.href = '#';\n",
       "        button.title = name;\n",
       "        button.innerHTML = '<i class=\"fa ' + image + ' fa-lg\"></i>';\n",
       "        button.addEventListener('click', on_click_closure(method_name));\n",
       "        button.addEventListener('mouseover', on_mouseover_closure(tooltip));\n",
       "        buttonGroup.appendChild(button);\n",
       "    }\n",
       "\n",
       "    if (buttonGroup.hasChildNodes()) {\n",
       "        toolbar.appendChild(buttonGroup);\n",
       "    }\n",
       "\n",
       "    // Add the status bar.\n",
       "    var status_bar = document.createElement('span');\n",
       "    status_bar.classList = 'mpl-message pull-right';\n",
       "    toolbar.appendChild(status_bar);\n",
       "    this.message = status_bar;\n",
       "\n",
       "    // Add the close button to the window.\n",
       "    var buttongrp = document.createElement('div');\n",
       "    buttongrp.classList = 'btn-group inline pull-right';\n",
       "    button = document.createElement('button');\n",
       "    button.classList = 'btn btn-mini btn-primary';\n",
       "    button.href = '#';\n",
       "    button.title = 'Stop Interaction';\n",
       "    button.innerHTML = '<i class=\"fa fa-power-off icon-remove icon-large\"></i>';\n",
       "    button.addEventListener('click', function (_evt) {\n",
       "        fig.handle_close(fig, {});\n",
       "    });\n",
       "    button.addEventListener(\n",
       "        'mouseover',\n",
       "        on_mouseover_closure('Stop Interaction')\n",
       "    );\n",
       "    buttongrp.appendChild(button);\n",
       "    var titlebar = this.root.querySelector('.ui-dialog-titlebar');\n",
       "    titlebar.insertBefore(buttongrp, titlebar.firstChild);\n",
       "};\n",
       "\n",
       "mpl.figure.prototype._remove_fig_handler = function (event) {\n",
       "    var fig = event.data.fig;\n",
       "    if (event.target !== this) {\n",
       "        // Ignore bubbled events from children.\n",
       "        return;\n",
       "    }\n",
       "    fig.close_ws(fig, {});\n",
       "};\n",
       "\n",
       "mpl.figure.prototype._root_extra_style = function (el) {\n",
       "    el.style.boxSizing = 'content-box'; // override notebook setting of border-box.\n",
       "};\n",
       "\n",
       "mpl.figure.prototype._canvas_extra_style = function (el) {\n",
       "    // this is important to make the div 'focusable\n",
       "    el.setAttribute('tabindex', 0);\n",
       "    // reach out to IPython and tell the keyboard manager to turn it's self\n",
       "    // off when our div gets focus\n",
       "\n",
       "    // location in version 3\n",
       "    if (IPython.notebook.keyboard_manager) {\n",
       "        IPython.notebook.keyboard_manager.register_events(el);\n",
       "    } else {\n",
       "        // location in version 2\n",
       "        IPython.keyboard_manager.register_events(el);\n",
       "    }\n",
       "};\n",
       "\n",
       "mpl.figure.prototype._key_event_extra = function (event, _name) {\n",
       "    var manager = IPython.notebook.keyboard_manager;\n",
       "    if (!manager) {\n",
       "        manager = IPython.keyboard_manager;\n",
       "    }\n",
       "\n",
       "    // Check for shift+enter\n",
       "    if (event.shiftKey && event.which === 13) {\n",
       "        this.canvas_div.blur();\n",
       "        // select the cell after this one\n",
       "        var index = IPython.notebook.find_cell_index(this.cell_info[0]);\n",
       "        IPython.notebook.select(index + 1);\n",
       "    }\n",
       "};\n",
       "\n",
       "mpl.figure.prototype.handle_save = function (fig, _msg) {\n",
       "    fig.ondownload(fig, null);\n",
       "};\n",
       "\n",
       "mpl.find_output_cell = function (html_output) {\n",
       "    // Return the cell and output element which can be found *uniquely* in the notebook.\n",
       "    // Note - this is a bit hacky, but it is done because the \"notebook_saving.Notebook\"\n",
       "    // IPython event is triggered only after the cells have been serialised, which for\n",
       "    // our purposes (turning an active figure into a static one), is too late.\n",
       "    var cells = IPython.notebook.get_cells();\n",
       "    var ncells = cells.length;\n",
       "    for (var i = 0; i < ncells; i++) {\n",
       "        var cell = cells[i];\n",
       "        if (cell.cell_type === 'code') {\n",
       "            for (var j = 0; j < cell.output_area.outputs.length; j++) {\n",
       "                var data = cell.output_area.outputs[j];\n",
       "                if (data.data) {\n",
       "                    // IPython >= 3 moved mimebundle to data attribute of output\n",
       "                    data = data.data;\n",
       "                }\n",
       "                if (data['text/html'] === html_output) {\n",
       "                    return [cell, data, j];\n",
       "                }\n",
       "            }\n",
       "        }\n",
       "    }\n",
       "};\n",
       "\n",
       "// Register the function which deals with the matplotlib target/channel.\n",
       "// The kernel may be null if the page has been refreshed.\n",
       "if (IPython.notebook.kernel !== null) {\n",
       "    IPython.notebook.kernel.comm_manager.register_target(\n",
       "        'matplotlib',\n",
       "        mpl.mpl_figure_comm\n",
       "    );\n",
       "}\n"
      ],
      "text/plain": [
       "<IPython.core.display.Javascript object>"
      ]
     },
     "metadata": {},
     "output_type": "display_data"
    },
    {
     "data": {
      "text/html": [
       "<img src=\"data:image/png;base64,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\" width=\"640\">"
      ],
      "text/plain": [
       "<IPython.core.display.HTML object>"
      ]
     },
     "metadata": {},
     "output_type": "display_data"
    }
   ],
   "source": [
    "# Precalculate distribution for blanks\n",
    "from functools import reduce\n",
    "\n",
    "samps=np.arange(10)\n",
    "dists=[stats.poisson.pmf(samps,blank_rates[cat]) for cat in cats]\n",
    "\n",
    "blank_sum_dist=reduce(np.convolve,dists)\n",
    "# Trim trailing zeros\n",
    "last_nonzero=np.nonzero(blank_sum_dist)[0][-1]\n",
    "blank_sum_dist=blank_sum_dist[:last_nonzero+1]\n",
    "\n",
    "if 1: # \"verify\" distribution against sampling\n",
    "    # First, the \"empirical\" distribution\n",
    "    blanks=[np.sum( [stats.poisson.rvs(blank_rates[cat]) for cat in cats])\n",
    "            for _ in range(5000)]\n",
    "    plt.figure()\n",
    "    # Very close. Not sure why the peak is slightly shifted.\n",
    "    plt.hist(blanks,density=True,bins=np.arange(25)-0.5)\n",
    "    plt.plot(blank_sum_dist,'go')"
   ]
  },
  {
   "cell_type": "code",
   "execution_count": 375,
   "metadata": {},
   "outputs": [],
   "source": [
    "# The real setup\n",
    "from scipy.special import logsumexp\n",
    "\n",
    "def log_prior(theta):\n",
    "    beach_rate,depo_rate,decay_rate=theta\n",
    "    if beach_rate<0 or depo_rate<0 or decay_rate<0:\n",
    "        return -np.inf\n",
    "    return 0  # flat prior for non-negative values\n",
    "\n",
    "# theta is parameter vector.\n",
    "ncalls=0\n",
    "def log_likelihood(theta,alpha,scale=1.0):\n",
    "    global ncalls\n",
    "    ncalls+=1\n",
    "    LL=0.0\n",
    "    beach_rate,depo_rate,decay_rate=theta\n",
    "\n",
    "    df=predict_mantas_fast(decay_rate=decay_rate,\n",
    "                           beach_rate=beach_rate,\n",
    "                           depo_rate=depo_rate)\n",
    "\n",
    "    sigma=1.0 # log units\n",
    "    LL=0\n",
    "    \n",
    "    for idx,rec in df.iterrows():\n",
    "        o=rec['count_preblank_nofiber']\n",
    "        m=scale * rec['C_model'] * rec['area_m2']\n",
    "        # ? o=max(o,detect_limit)\n",
    "        \n",
    "        if np.isinf(m):\n",
    "            print(\"Model result was nan for \",theta)\n",
    "            return -np.inf\n",
    "        # Previous way:\n",
    "        #ll = stats.norm.logpdf( np.log(o), np.log(m), sigma ) \n",
    "        \n",
    "        # o ~ m + Pois(blank_rates['Fiber Bundle'])\n",
    "        #       + Pois(blank_rates['Fragment'])\n",
    "        #       + Pois(blank_rates['Foam'])\n",
    "        #       + Pois(blank_rates['Film'])\n",
    "        #       + Pois(blank_rates['Sphere']) \n",
    "        # Poisson is terrible here\n",
    "        # ll = stats.poisson.logpmf(o, m+blanks)\n",
    "        # alpha=3.37 # fit below\n",
    "        # convert to the parameters scipy wants\n",
    "        mu=m\n",
    "        sigma2=mu+alpha*mu**2\n",
    "        p=mu/sigma2 \n",
    "        n=1/alpha \n",
    "        if 0: # sampling approach to deal with blanks\n",
    "            # This is going to be -inf sometimes!!\n",
    "            # And chances are one of the samples will end up nan\n",
    "            # The clip here is not quite right I think\n",
    "            blanks=np.sum( [stats.poisson.rvs(blank_rates[cat]) for cat in cats])\n",
    "            ll = stats.nbinom.logpmf( (o-blanks).clip(0) ,n,p)\n",
    "        if 1: # integration approach for blanks\n",
    "            lls=[]\n",
    "            for nblank,pm in enumerate(blank_sum_dist):\n",
    "                if (pm>0.0) and (o-nblank)>=0:\n",
    "                    lls.append( np.log(pm) + stats.nbinom.logpmf(o-nblank,n,p))\n",
    "                else:\n",
    "                    pass # probability=0\n",
    "            ll=logsumexp(lls)\n",
    "\n",
    "        # print(f\"obs: {o}  mod: {m}  blanks: {blanks}   log PMF: {ll}\")        \n",
    "        LL+=ll\n",
    "    return LL\n",
    "\n",
    "# Original alpha=3.37 came from fitting NegativeBinomial to the full set of\n",
    "# observations with some nominal blank subtraction.\n",
    "# After finding some decent parameters with that alpha, a second optimization\n",
    "# step (starting from the result of the first), additionally tuned alpha and\n",
    "# finds alpha=1.75. So that's now the default here.\n",
    "if 1:\n",
    "    def log_posterior(theta,alpha=1.75,scale=1.0):\n",
    "        l=log_prior(theta)\n",
    "        if np.isfinite(l):\n",
    "            l += log_likelihood(theta,alpha=alpha,scale=scale)\n",
    "        return l\n",
    "    dims=['beach','depo','decay']\n",
    "if 0:\n",
    "    def log_posterior(theta,alpha=1.75):\n",
    "        scale=theta[-1]\n",
    "        theta=theta[:-1]\n",
    "        l=log_prior(theta)\n",
    "        if scale<0.01:\n",
    "            return -np.inf\n",
    "        if np.isfinite(l):\n",
    "            l += log_likelihood(theta,alpha=alpha,scale=scale)\n",
    "        return l\n",
    "    dims=['beach','depo','decay','scale']\n",
    "\n",
    "ndim = len(dims)  # number of parameters in the model"
   ]
  },
  {
   "cell_type": "code",
   "execution_count": null,
   "metadata": {},
   "outputs": [],
   "source": [
    "# parameters are n,p:\n",
    "# n: \n",
    "# p: [0,1]\n",
    "if 0:\n",
    "    # Compare poisson and log normal, then add in nbinom\n",
    "    fig,ax=plt.subplots()\n",
    "    obs=df['count_preblank_nofiber']\n",
    "    x=np.logspace(0,3,1000)\n",
    "    bins=np.linspace(0,1000,50)\n",
    "    ax.hist(df['count_preblank_nofiber'],density=True,bins=bins)\n",
    "    s,loc,scale=stats.lognorm.fit(obs.clip(1.))\n",
    "    ax.plot(x,stats.lognorm.pdf(x,s,loc=loc,scale=scale),label=\"Log-normal\")\n",
    "    print(f\"Log-normal: s={s} loc={loc} scale={scale}\")\n",
    "\n",
    "    xd=np.arange(0,1000)\n",
    "    ax.plot(xd,stats.poisson.pmf(xd,obs.mean()),'g.',label='Poisson')\n",
    "\n",
    "\n",
    "    # Negative binomial - hand \"fit\"\n",
    "    xd=np.arange(0,1000)\n",
    "    # n=0.8, p=0.01\n",
    "    # mean is n*(1-p)/p, for scipy's parameters\n",
    "    n=0.95 ; p=0.020\n",
    "\n",
    "    ax.plot(xd,stats.nbinom.pmf(xd,n,p),'r.',label='Neg. Binomial')\n",
    "    # So those values would give mean of 0.012.  Too low.\n",
    "    print(f\"n: {n}   p: {p} =>  mean: {n*(1-p)/p}\")\n",
    "    ax.legend(loc='upper right')\n",
    "    ax.axis(xmin=0,xmax=200)"
   ]
  },
  {
   "cell_type": "code",
   "execution_count": null,
   "metadata": {},
   "outputs": [],
   "source": [
    "# Attempt Q-Q plots\n",
    "# This is not quite the right test, but still helpful.\n",
    "# There is variance that is both real and captured by the model,\n",
    "# and then there is sampling variance that is not captured by \n",
    "# the model. I really just want to know the distribution of the\n",
    "# unmodeled variance, but these plots consider the variance of\n",
    "# the samples.\n",
    "pctiles=np.array([5,10,20,30,40,50,60,70,80,90,95])\n",
    "\n",
    "# Crude approximation for contamination rates\n",
    "# This makes quite a difference -- with no correction\n",
    "# log-normal is clearly best, but with a reasonable-ish\n",
    "# count of 4 or so lognormal gets quite bad, I think because\n",
    "# it can't handle the 0s, which have to be mapped to 1, and\n",
    "# then it has this 1-inflation.\n",
    "obs_noblank=(obs-6).clip(0)\n",
    "obs_noblank=(obs-0).clip(0)\n",
    "\n",
    "fig,ax=plt.subplots()\n",
    "s,loc,scale=stats.lognorm.fit(obs_noblank.clip(1.))\n",
    "\n",
    "ax.plot(np.percentile(obs_noblank,pctiles),\n",
    "        stats.lognorm.ppf(pctiles/100.,s,loc=loc,scale=scale),\n",
    "        marker='.',\n",
    "        label=\"Log-normal\")\n",
    "\n",
    "ax.plot(np.percentile(obs_noblank,pctiles),\n",
    "        stats.poisson.ppf(pctiles/100.,obs_noblank.mean()),\n",
    "        marker='.',\n",
    "        label=\"Poisson\")\n",
    "\n",
    "obs_mean=obs.mean()\n",
    "obs_var=obs.var()\n",
    "\n",
    "#hand-tuned:\n",
    "#n=0.8\n",
    "#p=0.008\n",
    "#scale=1.0\n",
    "\n",
    "# Fit by statsmodels:\n",
    "from statsmodels.discrete.discrete_model import NegativeBinomial\n",
    "nb=NegativeBinomial(obs_noblank,exog=np.ones_like(obs))\n",
    "result=nb.fit()\n",
    "result\n",
    "\n",
    "result.params # constant 5.12, alpha=2.57. I think that's a mu and alpha\n",
    "result.summary()\n",
    "\n",
    "mu,alpha=result.params\n",
    "# This gets the Q-Q plot closer, except the NB seems to have a more inflated zero.\n",
    "mu*=17 # why is this necessary?\n",
    "print(f\"alpha: {alpha}\")\n",
    "sigma2=mu+alpha*mu**2\n",
    "p=mu/sigma2 # 0.0704\n",
    "n=1/alpha # 0.388\n",
    "scale=1 # manual\n",
    "# Gives okay slope, but needs a factor of about 17?\n",
    "\n",
    "# Calculate from observed variance and mean gave bad results.\n",
    "\n",
    "ax.plot(np.percentile(obs_noblank,pctiles),\n",
    "        scale*stats.nbinom.ppf(pctiles/100.,n,p),\n",
    "        marker='.',label=f'{scale} * Neg. Binom(n={n:.3f},p={p:.3f})')\n",
    "\n",
    "ax.plot([0,500],[0,500],'k--',zorder=-1)\n",
    "ax.legend(loc='upper left')\n",
    "\n",
    "ax.set_xscale('log')\n",
    "ax.set_yscale('log')\n",
    "ax.set_xlabel('Observed')\n",
    "ax.set_ylabel('Dist')"
   ]
  },
  {
   "cell_type": "code",
   "execution_count": 28,
   "metadata": {},
   "outputs": [
    {
     "data": {
      "text/plain": [
       "3"
      ]
     },
     "execution_count": 28,
     "metadata": {},
     "output_type": "execute_result"
    }
   ],
   "source": [
    "ndim"
   ]
  },
  {
   "cell_type": "code",
   "execution_count": null,
   "metadata": {},
   "outputs": [
    {
     "name": "stderr",
     "output_type": "stream",
     "text": [
      " 14%|█▍        | 569/4000 [1:50:32<12:36:29, 13.23s/it]"
     ]
    }
   ],
   "source": [
    "nwalkers = 6  # number of MCMC walkers\n",
    "nburn = 2000  # \"burn-in\" period to let chains stabilize\n",
    "nsteps = 4000  # number of MCMC steps to take\n",
    "\n",
    "# with sigma=1.0, needed 2000+2000 to converge.\n",
    "# How many calls?? 24k\n",
    "# = 6 * 4000 \n",
    "\n",
    "starting_guesses = np.random.rand(nwalkers, ndim)\n",
    "# we'll start at random locations between 0 and 0.5\n",
    "starting_guesses[:,0] *= 0.5 # beach rate [0,0.5]\n",
    "starting_guesses[:,1] *= 0.1 # depo rate [0,0.1]\n",
    "starting_guesses[:,2] *= 0.1 # decay rate [0,0.1]\n",
    "\n",
    "back=emcee.backends.HDFBackend(\"samples-emcee-v01a-nbinom_alpha1.75_355.h5\")\n",
    "\n",
    "sampler = emcee.EnsembleSampler(nwalkers, ndim, log_posterior,args=[],\n",
    "                               backend=back)\n",
    "\n",
    "sampler.run_mcmc(starting_guesses, nsteps,progress=True)\n",
    "\n",
    "sample = sampler.chain  # shape = (nwalkers, nsteps, ndim)\n",
    "sample = sampler.chain[:, nburn:, :]  # discard burn-in points"
   ]
  },
  {
   "cell_type": "code",
   "execution_count": 33,
   "metadata": {},
   "outputs": [
    {
     "data": {
      "text/plain": [
       "['beach', 'depo', 'decay']"
      ]
     },
     "execution_count": 33,
     "metadata": {},
     "output_type": "execute_result"
    }
   ],
   "source": [
    "sample.shape\n",
    "dims"
   ]
  },
  {
   "cell_type": "code",
   "execution_count": 46,
   "metadata": {},
   "outputs": [],
   "source": [
    "from scipy.stats import gaussian_kde"
   ]
  },
  {
   "cell_type": "code",
   "execution_count": 167,
   "metadata": {},
   "outputs": [
    {
     "name": "stderr",
     "output_type": "stream",
     "text": [
      "100%|██████████| 100/100 [21:00<00:00, 12.60s/it]\n",
      "  0%|          | 0/100 [00:00<?, ?it/s]"
     ]
    },
    {
     "name": "stdout",
     "output_type": "stream",
     "text": [
      "Iteration: 4100  required iterations: [5053.06511297 7139.02648308 7362.20668466]\n"
     ]
    },
    {
     "name": "stderr",
     "output_type": "stream",
     "text": [
      "100%|██████████| 100/100 [20:09<00:00, 12.10s/it]\n",
      "  0%|          | 0/100 [00:00<?, ?it/s]"
     ]
    },
    {
     "name": "stdout",
     "output_type": "stream",
     "text": [
      "Iteration: 4200  required iterations: [5050.13424702 6922.31014759 7375.78253824]\n"
     ]
    },
    {
     "name": "stderr",
     "output_type": "stream",
     "text": [
      "100%|██████████| 100/100 [19:46<00:00, 11.86s/it]\n",
      "  0%|          | 0/100 [00:00<?, ?it/s]"
     ]
    },
    {
     "name": "stdout",
     "output_type": "stream",
     "text": [
      "Iteration: 4300  required iterations: [5065.1108963  6839.84033599 7367.14855328]\n"
     ]
    },
    {
     "name": "stderr",
     "output_type": "stream",
     "text": [
      "100%|██████████| 100/100 [20:08<00:00, 12.08s/it]\n",
      "  0%|          | 0/100 [00:00<?, ?it/s]"
     ]
    },
    {
     "name": "stdout",
     "output_type": "stream",
     "text": [
      "Iteration: 4400  required iterations: [5128.40455432 6637.94884113 7266.46705342]\n"
     ]
    },
    {
     "name": "stderr",
     "output_type": "stream",
     "text": [
      "100%|██████████| 100/100 [20:25<00:00, 12.26s/it]\n",
      "  0%|          | 0/100 [00:00<?, ?it/s]"
     ]
    },
    {
     "name": "stdout",
     "output_type": "stream",
     "text": [
      "Iteration: 4500  required iterations: [5082.57242796 6617.40499046 7108.72373678]\n"
     ]
    },
    {
     "name": "stderr",
     "output_type": "stream",
     "text": [
      "100%|██████████| 100/100 [20:17<00:00, 12.17s/it]\n",
      "  0%|          | 0/100 [00:00<?, ?it/s]"
     ]
    },
    {
     "name": "stdout",
     "output_type": "stream",
     "text": [
      "Iteration: 4600  required iterations: [5099.30090978 6587.26423256 7168.90111441]\n"
     ]
    },
    {
     "name": "stderr",
     "output_type": "stream",
     "text": [
      "100%|██████████| 100/100 [19:27<00:00, 11.68s/it]\n",
      "  0%|          | 0/100 [00:00<?, ?it/s]"
     ]
    },
    {
     "name": "stdout",
     "output_type": "stream",
     "text": [
      "Iteration: 4700  required iterations: [4965.38343454 6492.3015863  7154.87300427]\n"
     ]
    },
    {
     "name": "stderr",
     "output_type": "stream",
     "text": [
      "100%|██████████| 100/100 [19:59<00:00, 12.00s/it]\n",
      "  0%|          | 0/100 [00:00<?, ?it/s]"
     ]
    },
    {
     "name": "stdout",
     "output_type": "stream",
     "text": [
      "Iteration: 4800  required iterations: [4975.27772037 6468.11470506 7147.99662872]\n"
     ]
    },
    {
     "name": "stderr",
     "output_type": "stream",
     "text": [
      "100%|██████████| 100/100 [20:41<00:00, 12.41s/it]\n",
      "  0%|          | 0/100 [00:00<?, ?it/s]"
     ]
    },
    {
     "name": "stdout",
     "output_type": "stream",
     "text": [
      "Iteration: 4900  required iterations: [4990.59167766 6518.47212902 6991.67012361]\n"
     ]
    },
    {
     "name": "stderr",
     "output_type": "stream",
     "text": [
      "100%|██████████| 100/100 [20:33<00:00, 12.33s/it]\n",
      "  0%|          | 0/100 [00:00<?, ?it/s]"
     ]
    },
    {
     "name": "stdout",
     "output_type": "stream",
     "text": [
      "Iteration: 5000  required iterations: [4933.82999064 6393.66631535 6956.12745531]\n"
     ]
    },
    {
     "name": "stderr",
     "output_type": "stream",
     "text": [
      "100%|██████████| 100/100 [21:30<00:00, 12.90s/it]\n",
      "  0%|          | 0/100 [00:00<?, ?it/s]"
     ]
    },
    {
     "name": "stdout",
     "output_type": "stream",
     "text": [
      "Iteration: 5100  required iterations: [4897.33790418 6445.08220711 6940.42828464]\n"
     ]
    },
    {
     "name": "stderr",
     "output_type": "stream",
     "text": [
      "100%|██████████| 100/100 [19:01<00:00, 11.42s/it]\n",
      "  0%|          | 0/100 [00:00<?, ?it/s]"
     ]
    },
    {
     "name": "stdout",
     "output_type": "stream",
     "text": [
      "Iteration: 5200  required iterations: [4857.49159886 6364.52577601 6940.27231282]\n"
     ]
    },
    {
     "name": "stderr",
     "output_type": "stream",
     "text": [
      "100%|██████████| 100/100 [19:15<00:00, 11.56s/it]\n",
      "  0%|          | 0/100 [00:00<?, ?it/s]"
     ]
    },
    {
     "name": "stdout",
     "output_type": "stream",
     "text": [
      "Iteration: 5300  required iterations: [4858.60736807 6222.52958585 6935.55262064]\n"
     ]
    },
    {
     "name": "stderr",
     "output_type": "stream",
     "text": [
      "100%|██████████| 100/100 [19:17<00:00, 11.58s/it]\n",
      "  0%|          | 0/100 [00:00<?, ?it/s]"
     ]
    },
    {
     "name": "stdout",
     "output_type": "stream",
     "text": [
      "Iteration: 5400  required iterations: [4937.02462416 6267.95091895 6995.3213901 ]\n"
     ]
    },
    {
     "name": "stderr",
     "output_type": "stream",
     "text": [
      "100%|██████████| 100/100 [19:44<00:00, 11.84s/it]\n",
      "  0%|          | 0/100 [00:00<?, ?it/s]"
     ]
    },
    {
     "name": "stdout",
     "output_type": "stream",
     "text": [
      "Iteration: 5500  required iterations: [4898.17021928 6216.690887   6866.76420556]\n"
     ]
    },
    {
     "name": "stderr",
     "output_type": "stream",
     "text": [
      "100%|██████████| 100/100 [19:51<00:00, 11.91s/it]\n",
      "  0%|          | 0/100 [00:00<?, ?it/s]"
     ]
    },
    {
     "name": "stdout",
     "output_type": "stream",
     "text": [
      "Iteration: 5600  required iterations: [4943.48454193 6175.57172569 7078.73897322]\n"
     ]
    },
    {
     "name": "stderr",
     "output_type": "stream",
     "text": [
      "100%|██████████| 100/100 [20:30<00:00, 12.31s/it]\n",
      "  0%|          | 0/100 [00:00<?, ?it/s]"
     ]
    },
    {
     "name": "stdout",
     "output_type": "stream",
     "text": [
      "Iteration: 5700  required iterations: [4977.37073948 6215.54897817 7022.35020097]\n"
     ]
    },
    {
     "name": "stderr",
     "output_type": "stream",
     "text": [
      "100%|██████████| 100/100 [20:31<00:00, 12.31s/it]\n",
      "  0%|          | 0/100 [00:00<?, ?it/s]"
     ]
    },
    {
     "name": "stdout",
     "output_type": "stream",
     "text": [
      "Iteration: 5800  required iterations: [4976.20690904 6264.33528584 7058.67043122]\n"
     ]
    },
    {
     "name": "stderr",
     "output_type": "stream",
     "text": [
      "100%|██████████| 100/100 [22:31<00:00, 13.51s/it]\n",
      "  0%|          | 0/100 [00:00<?, ?it/s]"
     ]
    },
    {
     "name": "stdout",
     "output_type": "stream",
     "text": [
      "Iteration: 5900  required iterations: [4934.8605267  6259.13057053 7009.6413966 ]\n"
     ]
    },
    {
     "name": "stderr",
     "output_type": "stream",
     "text": [
      "100%|██████████| 100/100 [32:03<00:00, 19.24s/it]\n",
      "  0%|          | 0/100 [00:00<?, ?it/s]"
     ]
    },
    {
     "name": "stdout",
     "output_type": "stream",
     "text": [
      "Iteration: 6000  required iterations: [4956.78380418 6274.98991413 6926.41201208]\n"
     ]
    },
    {
     "name": "stderr",
     "output_type": "stream",
     "text": [
      "100%|██████████| 100/100 [34:07<00:00, 20.47s/it]\n",
      "  0%|          | 0/100 [00:00<?, ?it/s]"
     ]
    },
    {
     "name": "stdout",
     "output_type": "stream",
     "text": [
      "Iteration: 6100  required iterations: [4948.41075218 6372.1968019  6895.62460011]\n"
     ]
    },
    {
     "name": "stderr",
     "output_type": "stream",
     "text": [
      "100%|██████████| 100/100 [33:25<00:00, 20.05s/it]\n",
      "  0%|          | 0/100 [00:00<?, ?it/s]"
     ]
    },
    {
     "name": "stdout",
     "output_type": "stream",
     "text": [
      "Iteration: 6200  required iterations: [4950.6681735  6464.2178801  6807.45688113]\n"
     ]
    },
    {
     "name": "stderr",
     "output_type": "stream",
     "text": [
      "100%|██████████| 100/100 [34:45<00:00, 20.85s/it]\n",
      "  0%|          | 0/100 [00:00<?, ?it/s]"
     ]
    },
    {
     "name": "stdout",
     "output_type": "stream",
     "text": [
      "Iteration: 6300  required iterations: [4991.09666963 6594.3412253  6895.7736125 ]\n"
     ]
    },
    {
     "name": "stderr",
     "output_type": "stream",
     "text": [
      " 66%|██████▌   | 66/100 [22:04<10:51, 19.15s/it]INFO:utils:64\n",
      "100%|██████████| 100/100 [33:52<00:00, 20.32s/it]\n",
      "  0%|          | 0/100 [00:00<?, ?it/s]"
     ]
    },
    {
     "name": "stdout",
     "output_type": "stream",
     "text": [
      "Iteration: 6400  required iterations: [4999.44061141 6581.20402929 6923.31361084]\n"
     ]
    },
    {
     "name": "stderr",
     "output_type": "stream",
     "text": [
      " 19%|█▉        | 19/100 [06:26<28:45, 21.30s/it]INFO:utils:63\n",
      " 24%|██▍       | 24/100 [07:57<25:58, 20.51s/it]INFO:utils:64\n",
      " 64%|██████▍   | 64/100 [22:18<12:59, 21.66s/it]INFO:utils:64\n",
      " 97%|█████████▋| 97/100 [33:25<01:08, 22.74s/it]INFO:utils:62\n",
      " 99%|█████████▉| 99/100 [33:59<00:20, 20.56s/it]INFO:utils:64\n",
      "100%|██████████| 100/100 [34:23<00:00, 20.64s/it]\n",
      "  0%|          | 0/100 [00:00<?, ?it/s]"
     ]
    },
    {
     "name": "stdout",
     "output_type": "stream",
     "text": [
      "Iteration: 6500  required iterations: [4896.61541579 6559.28725337 6837.79166487]\n"
     ]
    },
    {
     "name": "stderr",
     "output_type": "stream",
     "text": [
      "  3%|▎         | 3/100 [00:58<33:04, 20.46s/it]INFO:utils:64\n",
      "  5%|▌         | 5/100 [01:56<40:49, 25.78s/it]INFO:utils:63\n",
      " 19%|█▉        | 19/100 [07:36<32:18, 23.93s/it]INFO:utils:63\n",
      " 21%|██        | 21/100 [08:20<30:27, 23.14s/it]INFO:utils:64\n",
      " 31%|███       | 31/100 [12:18<25:45, 22.39s/it]INFO:utils:62\n",
      " 35%|███▌      | 35/100 [13:46<23:45, 21.93s/it]INFO:utils:64\n",
      "100%|██████████| 100/100 [37:15<00:00, 22.36s/it]\n",
      "  0%|          | 0/100 [00:00<?, ?it/s]"
     ]
    },
    {
     "name": "stdout",
     "output_type": "stream",
     "text": [
      "Iteration: 6600  required iterations: [4911.88274938 6617.15542191 6854.05994499]\n"
     ]
    },
    {
     "name": "stderr",
     "output_type": "stream",
     "text": [
      "100%|██████████| 100/100 [35:45<00:00, 21.45s/it]\n",
      "  0%|          | 0/100 [00:00<?, ?it/s]"
     ]
    },
    {
     "name": "stdout",
     "output_type": "stream",
     "text": [
      "Iteration: 6700  required iterations: [4936.0479706  6537.21162235 6773.88085383]\n"
     ]
    },
    {
     "name": "stderr",
     "output_type": "stream",
     "text": [
      "100%|██████████| 100/100 [32:25<00:00, 19.46s/it]"
     ]
    },
    {
     "name": "stdout",
     "output_type": "stream",
     "text": [
      "Iteration: 6800  required iterations: [5015.89273406 6494.07685317 6780.92058051]\n"
     ]
    },
    {
     "name": "stderr",
     "output_type": "stream",
     "text": [
      "\n"
     ]
    }
   ],
   "source": [
    "taus=[]\n",
    "iters=[]\n",
    "\n",
    "while 1: \n",
    "    # Run 500 steps at a time, check for convergence of\n",
    "    # all parameters.\n",
    "    # Note that this only works for continuing sampling.\n",
    "    # an initial call would require initial guesses\n",
    "    sampler.run_mcmc(None, 100,progress=True)\n",
    "    tau = sampler.get_autocorr_time(tol=0)\n",
    "    taus.append(tau)\n",
    "    iters.append(sampler.iteration)\n",
    "    print(f\"Iteration: {sampler.iteration}  required iterations: {tau*100}\")\n",
    "    converged = np.all(tau * 100 < sampler.iteration)\n",
    "    if len(taus):\n",
    "        converged &= np.all(np.abs(taus[-1] - tau) / tau < 0.01)\n",
    "    else:\n",
    "        converged=False\n",
    "    if converged:\n",
    "        break"
   ]
  },
  {
   "cell_type": "code",
   "execution_count": 370,
   "metadata": {},
   "outputs": [],
   "source": [
    "import seaborn as sns\n",
    "from matplotlib import colors\n",
    "from matplotlib import gridspec\n",
    "\n",
    "units={'beach':'$h^{-1}$',\n",
    "       'depo':'$h^{-1}$',\n",
    "       'decay':'$d^{-1}$',\n",
    "}\n",
    "\n",
    "\n",
    "def my_hist2d(xdata,ydata,bins=80,winsize=5,\n",
    "             levels=[0.5,0.8,0.95],ax=None):\n",
    "    H,xedges,yedges=np.histogram2d(xdata,ydata,\n",
    "                                   bins=(bins,bins+1))\n",
    "    if winsize>1:\n",
    "        from stompy import filters\n",
    "        H=filters.lowpass_fir(H,winsize,axis=0)\n",
    "        H=filters.lowpass_fir(H,winsize,axis=1)\n",
    "    \n",
    "    N=len(xdata)\n",
    "    Hord=np.sort(H.ravel())\n",
    "    Hcumul=np.cumsum(Hord)\n",
    "    # Find the bin count for which 90% of all samples are in bins\n",
    "    # with that count or higher.\n",
    "    Hthresh=np.interp((1-np.array(levels)[::-1])*N,Hcumul,Hord)\n",
    "    Hcat=np.searchsorted(Hthresh,H)\n",
    "    if ax is None:\n",
    "        ax=plt.gca()\n",
    "    ax.pcolormesh(xedges, yedges, Hcat.T, cmap='GnBu')\n",
    "\n",
    "# Like sns pairplot, but specific to our needs\n",
    "def pairplot(sample,dims,map_est=None,log_prob=None,ci=0.5,units=None):\n",
    "    gs=gridspec.GridSpec(3,3)\n",
    "\n",
    "    sample=sample.reshape([-1,len(dims)])\n",
    "    \n",
    "    # attempt to get the highest-density credible region\n",
    "    if log_prob is not None:\n",
    "        log_prob=log_prob.reshape([sample.shape[0]])\n",
    "        cred_thresh=np.percentile(log_prob,(1-ci)*100)\n",
    "        cred_samples=sample[log_prob>=cred_thresh,:]\n",
    "        print(f\"credible ll threshold: {cred_thresh}   {cred_samples.shape} credible samples\")\n",
    "        print(f\"total sample shape {sample.shape}\")\n",
    "        \n",
    "    fig=plt.figure()\n",
    "    axs=np.zeros((len(dims),len(dims)),np.object_)\n",
    "    for d1,d1_name in enumerate(dims):\n",
    "        for d2,d2_name in enumerate(dims):\n",
    "            if d1>0:\n",
    "                axx=axs[0,d2]\n",
    "            else:\n",
    "                axx=None\n",
    "            ax=fig.add_subplot(gs[d1,d2],sharex=axx)\n",
    "            axs[d1,d2]=ax\n",
    "            if d1<d2:\n",
    "                ax.set_visible(0)\n",
    "                continue\n",
    "            V1=np.linspace(0,sample[:,d1].max(),100)\n",
    "            V2=np.linspace(0,sample[:,d2].max(),100)\n",
    "\n",
    "            if d1==d2:\n",
    "                kde=gaussian_kde(sample[:,d1])\n",
    "                z_pos=kde(V1)\n",
    "                z_neg=kde(-V1)\n",
    "                ax.fill_between(V1,0*V1,z_pos+z_neg)\n",
    "                ax.axis(xmin=0,ymin=0)\n",
    "                ax.set_title(d1_name)\n",
    "                \n",
    "                #if log_prob is not None:\n",
    "                #    ax.axvline(cred_samples[d1].min(),color='k',ls='--',lw=0.7)\n",
    "                #    ax.axvline(cred_samples[d1].max(),color='k',ls='--',lw=0.7)\n",
    "            else:\n",
    "                # d1 varies by row, with labels on the left, and is\n",
    "                # the y axis. d2 varies by column, labels along the bottom\n",
    "                # and is the x axis.\n",
    "                my_hist2d(sample[:,d2],sample[:,d1],bins=80,winsize=3)\n",
    "            if d1+1<len(dims):\n",
    "                plt.setp(ax.get_xticklabels(),visible=0)\n",
    "            if d2>0 or d1==d2:\n",
    "                plt.setp(ax.get_yticklabels(),visible=0)\n",
    "            if d2==0 and d1>0:\n",
    "                ax.set_ylabel(d1_name)\n",
    "            if d1+1==len(dims):\n",
    "                if units is not None:\n",
    "                    ax.set_xlabel(d2_name + \" (%s)\"%units[d2])\n",
    "                else:\n",
    "                    ax.set_xlabel(d2_name)\n",
    "                \n",
    "            if map_est is not None:\n",
    "                styl=dict(mec='white',mfc='none',marker='o',ms=10,mew=1.5)\n",
    "                x=map_\n",
    "                if d1==d2:\n",
    "                    \n",
    "                    ax.plot(map_est[d1],0.0,**styl)\n",
    "                else:\n",
    "                    ax.plot(map_est[d2],map_est[d1],**styl)\n",
    "\n",
    "    fig.subplots_adjust(hspace=0.05,wspace=0.05,top=0.94,right=0.98,left=0.10)\n",
    "    return fig,axs"
   ]
  },
  {
   "cell_type": "code",
   "execution_count": 400,
   "metadata": {
    "scrolled": false
   },
   "outputs": [
    {
     "name": "stdout",
     "output_type": "stream",
     "text": [
      "credible ll threshold: -337.5434037645407   (23040, 3) credible samples\n",
      "total sample shape (28800, 3)\n"
     ]
    },
    {
     "data": {
      "application/javascript": [
       "/* Put everything inside the global mpl namespace */\n",
       "/* global mpl */\n",
       "window.mpl = {};\n",
       "\n",
       "mpl.get_websocket_type = function () {\n",
       "    if (typeof WebSocket !== 'undefined') {\n",
       "        return WebSocket;\n",
       "    } else if (typeof MozWebSocket !== 'undefined') {\n",
       "        return MozWebSocket;\n",
       "    } else {\n",
       "        alert(\n",
       "            'Your browser does not have WebSocket support. ' +\n",
       "                'Please try Chrome, Safari or Firefox ≥ 6. ' +\n",
       "                'Firefox 4 and 5 are also supported but you ' +\n",
       "                'have to enable WebSockets in about:config.'\n",
       "        );\n",
       "    }\n",
       "};\n",
       "\n",
       "mpl.figure = function (figure_id, websocket, ondownload, parent_element) {\n",
       "    this.id = figure_id;\n",
       "\n",
       "    this.ws = websocket;\n",
       "\n",
       "    this.supports_binary = this.ws.binaryType !== undefined;\n",
       "\n",
       "    if (!this.supports_binary) {\n",
       "        var warnings = document.getElementById('mpl-warnings');\n",
       "        if (warnings) {\n",
       "            warnings.style.display = 'block';\n",
       "            warnings.textContent =\n",
       "                'This browser does not support binary websocket messages. ' +\n",
       "                'Performance may be slow.';\n",
       "        }\n",
       "    }\n",
       "\n",
       "    this.imageObj = new Image();\n",
       "\n",
       "    this.context = undefined;\n",
       "    this.message = undefined;\n",
       "    this.canvas = undefined;\n",
       "    this.rubberband_canvas = undefined;\n",
       "    this.rubberband_context = undefined;\n",
       "    this.format_dropdown = undefined;\n",
       "\n",
       "    this.image_mode = 'full';\n",
       "\n",
       "    this.root = document.createElement('div');\n",
       "    this.root.setAttribute('style', 'display: inline-block');\n",
       "    this._root_extra_style(this.root);\n",
       "\n",
       "    parent_element.appendChild(this.root);\n",
       "\n",
       "    this._init_header(this);\n",
       "    this._init_canvas(this);\n",
       "    this._init_toolbar(this);\n",
       "\n",
       "    var fig = this;\n",
       "\n",
       "    this.waiting = false;\n",
       "\n",
       "    this.ws.onopen = function () {\n",
       "        fig.send_message('supports_binary', { value: fig.supports_binary });\n",
       "        fig.send_message('send_image_mode', {});\n",
       "        if (fig.ratio !== 1) {\n",
       "            fig.send_message('set_dpi_ratio', { dpi_ratio: fig.ratio });\n",
       "        }\n",
       "        fig.send_message('refresh', {});\n",
       "    };\n",
       "\n",
       "    this.imageObj.onload = function () {\n",
       "        if (fig.image_mode === 'full') {\n",
       "            // Full images could contain transparency (where diff images\n",
       "            // almost always do), so we need to clear the canvas so that\n",
       "            // there is no ghosting.\n",
       "            fig.context.clearRect(0, 0, fig.canvas.width, fig.canvas.height);\n",
       "        }\n",
       "        fig.context.drawImage(fig.imageObj, 0, 0);\n",
       "    };\n",
       "\n",
       "    this.imageObj.onunload = function () {\n",
       "        fig.ws.close();\n",
       "    };\n",
       "\n",
       "    this.ws.onmessage = this._make_on_message_function(this);\n",
       "\n",
       "    this.ondownload = ondownload;\n",
       "};\n",
       "\n",
       "mpl.figure.prototype._init_header = function () {\n",
       "    var titlebar = document.createElement('div');\n",
       "    titlebar.classList =\n",
       "        'ui-dialog-titlebar ui-widget-header ui-corner-all ui-helper-clearfix';\n",
       "    var titletext = document.createElement('div');\n",
       "    titletext.classList = 'ui-dialog-title';\n",
       "    titletext.setAttribute(\n",
       "        'style',\n",
       "        'width: 100%; text-align: center; padding: 3px;'\n",
       "    );\n",
       "    titlebar.appendChild(titletext);\n",
       "    this.root.appendChild(titlebar);\n",
       "    this.header = titletext;\n",
       "};\n",
       "\n",
       "mpl.figure.prototype._canvas_extra_style = function (_canvas_div) {};\n",
       "\n",
       "mpl.figure.prototype._root_extra_style = function (_canvas_div) {};\n",
       "\n",
       "mpl.figure.prototype._init_canvas = function () {\n",
       "    var fig = this;\n",
       "\n",
       "    var canvas_div = (this.canvas_div = document.createElement('div'));\n",
       "    canvas_div.setAttribute(\n",
       "        'style',\n",
       "        'border: 1px solid #ddd;' +\n",
       "            'box-sizing: content-box;' +\n",
       "            'clear: both;' +\n",
       "            'min-height: 1px;' +\n",
       "            'min-width: 1px;' +\n",
       "            'outline: 0;' +\n",
       "            'overflow: hidden;' +\n",
       "            'position: relative;' +\n",
       "            'resize: both;'\n",
       "    );\n",
       "\n",
       "    function on_keyboard_event_closure(name) {\n",
       "        return function (event) {\n",
       "            return fig.key_event(event, name);\n",
       "        };\n",
       "    }\n",
       "\n",
       "    canvas_div.addEventListener(\n",
       "        'keydown',\n",
       "        on_keyboard_event_closure('key_press')\n",
       "    );\n",
       "    canvas_div.addEventListener(\n",
       "        'keyup',\n",
       "        on_keyboard_event_closure('key_release')\n",
       "    );\n",
       "\n",
       "    this._canvas_extra_style(canvas_div);\n",
       "    this.root.appendChild(canvas_div);\n",
       "\n",
       "    var canvas = (this.canvas = document.createElement('canvas'));\n",
       "    canvas.classList.add('mpl-canvas');\n",
       "    canvas.setAttribute('style', 'box-sizing: content-box;');\n",
       "\n",
       "    this.context = canvas.getContext('2d');\n",
       "\n",
       "    var backingStore =\n",
       "        this.context.backingStorePixelRatio ||\n",
       "        this.context.webkitBackingStorePixelRatio ||\n",
       "        this.context.mozBackingStorePixelRatio ||\n",
       "        this.context.msBackingStorePixelRatio ||\n",
       "        this.context.oBackingStorePixelRatio ||\n",
       "        this.context.backingStorePixelRatio ||\n",
       "        1;\n",
       "\n",
       "    this.ratio = (window.devicePixelRatio || 1) / backingStore;\n",
       "    if (this.ratio !== 1) {\n",
       "        fig.send_message('set_dpi_ratio', { dpi_ratio: this.ratio });\n",
       "    }\n",
       "\n",
       "    var rubberband_canvas = (this.rubberband_canvas = document.createElement(\n",
       "        'canvas'\n",
       "    ));\n",
       "    rubberband_canvas.setAttribute(\n",
       "        'style',\n",
       "        'box-sizing: content-box; position: absolute; left: 0; top: 0; z-index: 1;'\n",
       "    );\n",
       "\n",
       "    // Apply a ponyfill if ResizeObserver is not implemented by browser.\n",
       "    if (this.ResizeObserver === undefined) {\n",
       "        if (window.ResizeObserver !== undefined) {\n",
       "            this.ResizeObserver = window.ResizeObserver;\n",
       "        } else {\n",
       "            var obs = _JSXTOOLS_RESIZE_OBSERVER({});\n",
       "            this.ResizeObserver = obs.ResizeObserver;\n",
       "        }\n",
       "    }\n",
       "\n",
       "    this.resizeObserverInstance = new this.ResizeObserver(function (entries) {\n",
       "        var nentries = entries.length;\n",
       "        for (var i = 0; i < nentries; i++) {\n",
       "            var entry = entries[i];\n",
       "            var width, height;\n",
       "            if (entry.contentBoxSize) {\n",
       "                if (entry.contentBoxSize instanceof Array) {\n",
       "                    // Chrome 84 implements new version of spec.\n",
       "                    width = entry.contentBoxSize[0].inlineSize;\n",
       "                    height = entry.contentBoxSize[0].blockSize;\n",
       "                } else {\n",
       "                    // Firefox implements old version of spec.\n",
       "                    width = entry.contentBoxSize.inlineSize;\n",
       "                    height = entry.contentBoxSize.blockSize;\n",
       "                }\n",
       "            } else {\n",
       "                // Chrome <84 implements even older version of spec.\n",
       "                width = entry.contentRect.width;\n",
       "                height = entry.contentRect.height;\n",
       "            }\n",
       "\n",
       "            // Keep the size of the canvas and rubber band canvas in sync with\n",
       "            // the canvas container.\n",
       "            if (entry.devicePixelContentBoxSize) {\n",
       "                // Chrome 84 implements new version of spec.\n",
       "                canvas.setAttribute(\n",
       "                    'width',\n",
       "                    entry.devicePixelContentBoxSize[0].inlineSize\n",
       "                );\n",
       "                canvas.setAttribute(\n",
       "                    'height',\n",
       "                    entry.devicePixelContentBoxSize[0].blockSize\n",
       "                );\n",
       "            } else {\n",
       "                canvas.setAttribute('width', width * fig.ratio);\n",
       "                canvas.setAttribute('height', height * fig.ratio);\n",
       "            }\n",
       "            canvas.setAttribute(\n",
       "                'style',\n",
       "                'width: ' + width + 'px; height: ' + height + 'px;'\n",
       "            );\n",
       "\n",
       "            rubberband_canvas.setAttribute('width', width);\n",
       "            rubberband_canvas.setAttribute('height', height);\n",
       "\n",
       "            // And update the size in Python. We ignore the initial 0/0 size\n",
       "            // that occurs as the element is placed into the DOM, which should\n",
       "            // otherwise not happen due to the minimum size styling.\n",
       "            if (width != 0 && height != 0) {\n",
       "                fig.request_resize(width, height);\n",
       "            }\n",
       "        }\n",
       "    });\n",
       "    this.resizeObserverInstance.observe(canvas_div);\n",
       "\n",
       "    function on_mouse_event_closure(name) {\n",
       "        return function (event) {\n",
       "            return fig.mouse_event(event, name);\n",
       "        };\n",
       "    }\n",
       "\n",
       "    rubberband_canvas.addEventListener(\n",
       "        'mousedown',\n",
       "        on_mouse_event_closure('button_press')\n",
       "    );\n",
       "    rubberband_canvas.addEventListener(\n",
       "        'mouseup',\n",
       "        on_mouse_event_closure('button_release')\n",
       "    );\n",
       "    // Throttle sequential mouse events to 1 every 20ms.\n",
       "    rubberband_canvas.addEventListener(\n",
       "        'mousemove',\n",
       "        on_mouse_event_closure('motion_notify')\n",
       "    );\n",
       "\n",
       "    rubberband_canvas.addEventListener(\n",
       "        'mouseenter',\n",
       "        on_mouse_event_closure('figure_enter')\n",
       "    );\n",
       "    rubberband_canvas.addEventListener(\n",
       "        'mouseleave',\n",
       "        on_mouse_event_closure('figure_leave')\n",
       "    );\n",
       "\n",
       "    canvas_div.addEventListener('wheel', function (event) {\n",
       "        if (event.deltaY < 0) {\n",
       "            event.step = 1;\n",
       "        } else {\n",
       "            event.step = -1;\n",
       "        }\n",
       "        on_mouse_event_closure('scroll')(event);\n",
       "    });\n",
       "\n",
       "    canvas_div.appendChild(canvas);\n",
       "    canvas_div.appendChild(rubberband_canvas);\n",
       "\n",
       "    this.rubberband_context = rubberband_canvas.getContext('2d');\n",
       "    this.rubberband_context.strokeStyle = '#000000';\n",
       "\n",
       "    this._resize_canvas = function (width, height, forward) {\n",
       "        if (forward) {\n",
       "            canvas_div.style.width = width + 'px';\n",
       "            canvas_div.style.height = height + 'px';\n",
       "        }\n",
       "    };\n",
       "\n",
       "    // Disable right mouse context menu.\n",
       "    this.rubberband_canvas.addEventListener('contextmenu', function (_e) {\n",
       "        event.preventDefault();\n",
       "        return false;\n",
       "    });\n",
       "\n",
       "    function set_focus() {\n",
       "        canvas.focus();\n",
       "        canvas_div.focus();\n",
       "    }\n",
       "\n",
       "    window.setTimeout(set_focus, 100);\n",
       "};\n",
       "\n",
       "mpl.figure.prototype._init_toolbar = function () {\n",
       "    var fig = this;\n",
       "\n",
       "    var toolbar = document.createElement('div');\n",
       "    toolbar.classList = 'mpl-toolbar';\n",
       "    this.root.appendChild(toolbar);\n",
       "\n",
       "    function on_click_closure(name) {\n",
       "        return function (_event) {\n",
       "            return fig.toolbar_button_onclick(name);\n",
       "        };\n",
       "    }\n",
       "\n",
       "    function on_mouseover_closure(tooltip) {\n",
       "        return function (event) {\n",
       "            if (!event.currentTarget.disabled) {\n",
       "                return fig.toolbar_button_onmouseover(tooltip);\n",
       "            }\n",
       "        };\n",
       "    }\n",
       "\n",
       "    fig.buttons = {};\n",
       "    var buttonGroup = document.createElement('div');\n",
       "    buttonGroup.classList = 'mpl-button-group';\n",
       "    for (var toolbar_ind in mpl.toolbar_items) {\n",
       "        var name = mpl.toolbar_items[toolbar_ind][0];\n",
       "        var tooltip = mpl.toolbar_items[toolbar_ind][1];\n",
       "        var image = mpl.toolbar_items[toolbar_ind][2];\n",
       "        var method_name = mpl.toolbar_items[toolbar_ind][3];\n",
       "\n",
       "        if (!name) {\n",
       "            /* Instead of a spacer, we start a new button group. */\n",
       "            if (buttonGroup.hasChildNodes()) {\n",
       "                toolbar.appendChild(buttonGroup);\n",
       "            }\n",
       "            buttonGroup = document.createElement('div');\n",
       "            buttonGroup.classList = 'mpl-button-group';\n",
       "            continue;\n",
       "        }\n",
       "\n",
       "        var button = (fig.buttons[name] = document.createElement('button'));\n",
       "        button.classList = 'mpl-widget';\n",
       "        button.setAttribute('role', 'button');\n",
       "        button.setAttribute('aria-disabled', 'false');\n",
       "        button.addEventListener('click', on_click_closure(method_name));\n",
       "        button.addEventListener('mouseover', on_mouseover_closure(tooltip));\n",
       "\n",
       "        var icon_img = document.createElement('img');\n",
       "        icon_img.src = '_images/' + image + '.png';\n",
       "        icon_img.srcset = '_images/' + image + '_large.png 2x';\n",
       "        icon_img.alt = tooltip;\n",
       "        button.appendChild(icon_img);\n",
       "\n",
       "        buttonGroup.appendChild(button);\n",
       "    }\n",
       "\n",
       "    if (buttonGroup.hasChildNodes()) {\n",
       "        toolbar.appendChild(buttonGroup);\n",
       "    }\n",
       "\n",
       "    var fmt_picker = document.createElement('select');\n",
       "    fmt_picker.classList = 'mpl-widget';\n",
       "    toolbar.appendChild(fmt_picker);\n",
       "    this.format_dropdown = fmt_picker;\n",
       "\n",
       "    for (var ind in mpl.extensions) {\n",
       "        var fmt = mpl.extensions[ind];\n",
       "        var option = document.createElement('option');\n",
       "        option.selected = fmt === mpl.default_extension;\n",
       "        option.innerHTML = fmt;\n",
       "        fmt_picker.appendChild(option);\n",
       "    }\n",
       "\n",
       "    var status_bar = document.createElement('span');\n",
       "    status_bar.classList = 'mpl-message';\n",
       "    toolbar.appendChild(status_bar);\n",
       "    this.message = status_bar;\n",
       "};\n",
       "\n",
       "mpl.figure.prototype.request_resize = function (x_pixels, y_pixels) {\n",
       "    // Request matplotlib to resize the figure. Matplotlib will then trigger a resize in the client,\n",
       "    // which will in turn request a refresh of the image.\n",
       "    this.send_message('resize', { width: x_pixels, height: y_pixels });\n",
       "};\n",
       "\n",
       "mpl.figure.prototype.send_message = function (type, properties) {\n",
       "    properties['type'] = type;\n",
       "    properties['figure_id'] = this.id;\n",
       "    this.ws.send(JSON.stringify(properties));\n",
       "};\n",
       "\n",
       "mpl.figure.prototype.send_draw_message = function () {\n",
       "    if (!this.waiting) {\n",
       "        this.waiting = true;\n",
       "        this.ws.send(JSON.stringify({ type: 'draw', figure_id: this.id }));\n",
       "    }\n",
       "};\n",
       "\n",
       "mpl.figure.prototype.handle_save = function (fig, _msg) {\n",
       "    var format_dropdown = fig.format_dropdown;\n",
       "    var format = format_dropdown.options[format_dropdown.selectedIndex].value;\n",
       "    fig.ondownload(fig, format);\n",
       "};\n",
       "\n",
       "mpl.figure.prototype.handle_resize = function (fig, msg) {\n",
       "    var size = msg['size'];\n",
       "    if (size[0] !== fig.canvas.width || size[1] !== fig.canvas.height) {\n",
       "        fig._resize_canvas(size[0], size[1], msg['forward']);\n",
       "        fig.send_message('refresh', {});\n",
       "    }\n",
       "};\n",
       "\n",
       "mpl.figure.prototype.handle_rubberband = function (fig, msg) {\n",
       "    var x0 = msg['x0'] / fig.ratio;\n",
       "    var y0 = (fig.canvas.height - msg['y0']) / fig.ratio;\n",
       "    var x1 = msg['x1'] / fig.ratio;\n",
       "    var y1 = (fig.canvas.height - msg['y1']) / fig.ratio;\n",
       "    x0 = Math.floor(x0) + 0.5;\n",
       "    y0 = Math.floor(y0) + 0.5;\n",
       "    x1 = Math.floor(x1) + 0.5;\n",
       "    y1 = Math.floor(y1) + 0.5;\n",
       "    var min_x = Math.min(x0, x1);\n",
       "    var min_y = Math.min(y0, y1);\n",
       "    var width = Math.abs(x1 - x0);\n",
       "    var height = Math.abs(y1 - y0);\n",
       "\n",
       "    fig.rubberband_context.clearRect(\n",
       "        0,\n",
       "        0,\n",
       "        fig.canvas.width / fig.ratio,\n",
       "        fig.canvas.height / fig.ratio\n",
       "    );\n",
       "\n",
       "    fig.rubberband_context.strokeRect(min_x, min_y, width, height);\n",
       "};\n",
       "\n",
       "mpl.figure.prototype.handle_figure_label = function (fig, msg) {\n",
       "    // Updates the figure title.\n",
       "    fig.header.textContent = msg['label'];\n",
       "};\n",
       "\n",
       "mpl.figure.prototype.handle_cursor = function (fig, msg) {\n",
       "    var cursor = msg['cursor'];\n",
       "    switch (cursor) {\n",
       "        case 0:\n",
       "            cursor = 'pointer';\n",
       "            break;\n",
       "        case 1:\n",
       "            cursor = 'default';\n",
       "            break;\n",
       "        case 2:\n",
       "            cursor = 'crosshair';\n",
       "            break;\n",
       "        case 3:\n",
       "            cursor = 'move';\n",
       "            break;\n",
       "    }\n",
       "    fig.rubberband_canvas.style.cursor = cursor;\n",
       "};\n",
       "\n",
       "mpl.figure.prototype.handle_message = function (fig, msg) {\n",
       "    fig.message.textContent = msg['message'];\n",
       "};\n",
       "\n",
       "mpl.figure.prototype.handle_draw = function (fig, _msg) {\n",
       "    // Request the server to send over a new figure.\n",
       "    fig.send_draw_message();\n",
       "};\n",
       "\n",
       "mpl.figure.prototype.handle_image_mode = function (fig, msg) {\n",
       "    fig.image_mode = msg['mode'];\n",
       "};\n",
       "\n",
       "mpl.figure.prototype.handle_history_buttons = function (fig, msg) {\n",
       "    for (var key in msg) {\n",
       "        if (!(key in fig.buttons)) {\n",
       "            continue;\n",
       "        }\n",
       "        fig.buttons[key].disabled = !msg[key];\n",
       "        fig.buttons[key].setAttribute('aria-disabled', !msg[key]);\n",
       "    }\n",
       "};\n",
       "\n",
       "mpl.figure.prototype.handle_navigate_mode = function (fig, msg) {\n",
       "    if (msg['mode'] === 'PAN') {\n",
       "        fig.buttons['Pan'].classList.add('active');\n",
       "        fig.buttons['Zoom'].classList.remove('active');\n",
       "    } else if (msg['mode'] === 'ZOOM') {\n",
       "        fig.buttons['Pan'].classList.remove('active');\n",
       "        fig.buttons['Zoom'].classList.add('active');\n",
       "    } else {\n",
       "        fig.buttons['Pan'].classList.remove('active');\n",
       "        fig.buttons['Zoom'].classList.remove('active');\n",
       "    }\n",
       "};\n",
       "\n",
       "mpl.figure.prototype.updated_canvas_event = function () {\n",
       "    // Called whenever the canvas gets updated.\n",
       "    this.send_message('ack', {});\n",
       "};\n",
       "\n",
       "// A function to construct a web socket function for onmessage handling.\n",
       "// Called in the figure constructor.\n",
       "mpl.figure.prototype._make_on_message_function = function (fig) {\n",
       "    return function socket_on_message(evt) {\n",
       "        if (evt.data instanceof Blob) {\n",
       "            /* FIXME: We get \"Resource interpreted as Image but\n",
       "             * transferred with MIME type text/plain:\" errors on\n",
       "             * Chrome.  But how to set the MIME type?  It doesn't seem\n",
       "             * to be part of the websocket stream */\n",
       "            evt.data.type = 'image/png';\n",
       "\n",
       "            /* Free the memory for the previous frames */\n",
       "            if (fig.imageObj.src) {\n",
       "                (window.URL || window.webkitURL).revokeObjectURL(\n",
       "                    fig.imageObj.src\n",
       "                );\n",
       "            }\n",
       "\n",
       "            fig.imageObj.src = (window.URL || window.webkitURL).createObjectURL(\n",
       "                evt.data\n",
       "            );\n",
       "            fig.updated_canvas_event();\n",
       "            fig.waiting = false;\n",
       "            return;\n",
       "        } else if (\n",
       "            typeof evt.data === 'string' &&\n",
       "            evt.data.slice(0, 21) === 'data:image/png;base64'\n",
       "        ) {\n",
       "            fig.imageObj.src = evt.data;\n",
       "            fig.updated_canvas_event();\n",
       "            fig.waiting = false;\n",
       "            return;\n",
       "        }\n",
       "\n",
       "        var msg = JSON.parse(evt.data);\n",
       "        var msg_type = msg['type'];\n",
       "\n",
       "        // Call the  \"handle_{type}\" callback, which takes\n",
       "        // the figure and JSON message as its only arguments.\n",
       "        try {\n",
       "            var callback = fig['handle_' + msg_type];\n",
       "        } catch (e) {\n",
       "            console.log(\n",
       "                \"No handler for the '\" + msg_type + \"' message type: \",\n",
       "                msg\n",
       "            );\n",
       "            return;\n",
       "        }\n",
       "\n",
       "        if (callback) {\n",
       "            try {\n",
       "                // console.log(\"Handling '\" + msg_type + \"' message: \", msg);\n",
       "                callback(fig, msg);\n",
       "            } catch (e) {\n",
       "                console.log(\n",
       "                    \"Exception inside the 'handler_\" + msg_type + \"' callback:\",\n",
       "                    e,\n",
       "                    e.stack,\n",
       "                    msg\n",
       "                );\n",
       "            }\n",
       "        }\n",
       "    };\n",
       "};\n",
       "\n",
       "// from http://stackoverflow.com/questions/1114465/getting-mouse-location-in-canvas\n",
       "mpl.findpos = function (e) {\n",
       "    //this section is from http://www.quirksmode.org/js/events_properties.html\n",
       "    var targ;\n",
       "    if (!e) {\n",
       "        e = window.event;\n",
       "    }\n",
       "    if (e.target) {\n",
       "        targ = e.target;\n",
       "    } else if (e.srcElement) {\n",
       "        targ = e.srcElement;\n",
       "    }\n",
       "    if (targ.nodeType === 3) {\n",
       "        // defeat Safari bug\n",
       "        targ = targ.parentNode;\n",
       "    }\n",
       "\n",
       "    // pageX,Y are the mouse positions relative to the document\n",
       "    var boundingRect = targ.getBoundingClientRect();\n",
       "    var x = e.pageX - (boundingRect.left + document.body.scrollLeft);\n",
       "    var y = e.pageY - (boundingRect.top + document.body.scrollTop);\n",
       "\n",
       "    return { x: x, y: y };\n",
       "};\n",
       "\n",
       "/*\n",
       " * return a copy of an object with only non-object keys\n",
       " * we need this to avoid circular references\n",
       " * http://stackoverflow.com/a/24161582/3208463\n",
       " */\n",
       "function simpleKeys(original) {\n",
       "    return Object.keys(original).reduce(function (obj, key) {\n",
       "        if (typeof original[key] !== 'object') {\n",
       "            obj[key] = original[key];\n",
       "        }\n",
       "        return obj;\n",
       "    }, {});\n",
       "}\n",
       "\n",
       "mpl.figure.prototype.mouse_event = function (event, name) {\n",
       "    var canvas_pos = mpl.findpos(event);\n",
       "\n",
       "    if (name === 'button_press') {\n",
       "        this.canvas.focus();\n",
       "        this.canvas_div.focus();\n",
       "    }\n",
       "\n",
       "    var x = canvas_pos.x * this.ratio;\n",
       "    var y = canvas_pos.y * this.ratio;\n",
       "\n",
       "    this.send_message(name, {\n",
       "        x: x,\n",
       "        y: y,\n",
       "        button: event.button,\n",
       "        step: event.step,\n",
       "        guiEvent: simpleKeys(event),\n",
       "    });\n",
       "\n",
       "    /* This prevents the web browser from automatically changing to\n",
       "     * the text insertion cursor when the button is pressed.  We want\n",
       "     * to control all of the cursor setting manually through the\n",
       "     * 'cursor' event from matplotlib */\n",
       "    event.preventDefault();\n",
       "    return false;\n",
       "};\n",
       "\n",
       "mpl.figure.prototype._key_event_extra = function (_event, _name) {\n",
       "    // Handle any extra behaviour associated with a key event\n",
       "};\n",
       "\n",
       "mpl.figure.prototype.key_event = function (event, name) {\n",
       "    // Prevent repeat events\n",
       "    if (name === 'key_press') {\n",
       "        if (event.which === this._key) {\n",
       "            return;\n",
       "        } else {\n",
       "            this._key = event.which;\n",
       "        }\n",
       "    }\n",
       "    if (name === 'key_release') {\n",
       "        this._key = null;\n",
       "    }\n",
       "\n",
       "    var value = '';\n",
       "    if (event.ctrlKey && event.which !== 17) {\n",
       "        value += 'ctrl+';\n",
       "    }\n",
       "    if (event.altKey && event.which !== 18) {\n",
       "        value += 'alt+';\n",
       "    }\n",
       "    if (event.shiftKey && event.which !== 16) {\n",
       "        value += 'shift+';\n",
       "    }\n",
       "\n",
       "    value += 'k';\n",
       "    value += event.which.toString();\n",
       "\n",
       "    this._key_event_extra(event, name);\n",
       "\n",
       "    this.send_message(name, { key: value, guiEvent: simpleKeys(event) });\n",
       "    return false;\n",
       "};\n",
       "\n",
       "mpl.figure.prototype.toolbar_button_onclick = function (name) {\n",
       "    if (name === 'download') {\n",
       "        this.handle_save(this, null);\n",
       "    } else {\n",
       "        this.send_message('toolbar_button', { name: name });\n",
       "    }\n",
       "};\n",
       "\n",
       "mpl.figure.prototype.toolbar_button_onmouseover = function (tooltip) {\n",
       "    this.message.textContent = tooltip;\n",
       "};\n",
       "\n",
       "///////////////// REMAINING CONTENT GENERATED BY embed_js.py /////////////////\n",
       "// prettier-ignore\n",
       "var _JSXTOOLS_RESIZE_OBSERVER=function(A){var t,i=new WeakMap,n=new WeakMap,a=new WeakMap,r=new WeakMap,o=new Set;function s(e){if(!(this instanceof s))throw new TypeError(\"Constructor requires 'new' operator\");i.set(this,e)}function h(){throw new TypeError(\"Function is not a constructor\")}function c(e,t,i,n){e=0 in arguments?Number(arguments[0]):0,t=1 in arguments?Number(arguments[1]):0,i=2 in arguments?Number(arguments[2]):0,n=3 in arguments?Number(arguments[3]):0,this.right=(this.x=this.left=e)+(this.width=i),this.bottom=(this.y=this.top=t)+(this.height=n),Object.freeze(this)}function d(){t=requestAnimationFrame(d);var s=new WeakMap,p=new Set;o.forEach((function(t){r.get(t).forEach((function(i){var r=t instanceof window.SVGElement,o=a.get(t),d=r?0:parseFloat(o.paddingTop),f=r?0:parseFloat(o.paddingRight),l=r?0:parseFloat(o.paddingBottom),u=r?0:parseFloat(o.paddingLeft),g=r?0:parseFloat(o.borderTopWidth),m=r?0:parseFloat(o.borderRightWidth),w=r?0:parseFloat(o.borderBottomWidth),b=u+f,F=d+l,v=(r?0:parseFloat(o.borderLeftWidth))+m,W=g+w,y=r?0:t.offsetHeight-W-t.clientHeight,E=r?0:t.offsetWidth-v-t.clientWidth,R=b+v,z=F+W,M=r?t.width:parseFloat(o.width)-R-E,O=r?t.height:parseFloat(o.height)-z-y;if(n.has(t)){var k=n.get(t);if(k[0]===M&&k[1]===O)return}n.set(t,[M,O]);var S=Object.create(h.prototype);S.target=t,S.contentRect=new c(u,d,M,O),s.has(i)||(s.set(i,[]),p.add(i)),s.get(i).push(S)}))})),p.forEach((function(e){i.get(e).call(e,s.get(e),e)}))}return s.prototype.observe=function(i){if(i instanceof window.Element){r.has(i)||(r.set(i,new Set),o.add(i),a.set(i,window.getComputedStyle(i)));var n=r.get(i);n.has(this)||n.add(this),cancelAnimationFrame(t),t=requestAnimationFrame(d)}},s.prototype.unobserve=function(i){if(i instanceof window.Element&&r.has(i)){var n=r.get(i);n.has(this)&&(n.delete(this),n.size||(r.delete(i),o.delete(i))),n.size||r.delete(i),o.size||cancelAnimationFrame(t)}},A.DOMRectReadOnly=c,A.ResizeObserver=s,A.ResizeObserverEntry=h,A}; // eslint-disable-line\n",
       "mpl.toolbar_items = [[\"Home\", \"Reset original view\", \"fa fa-home icon-home\", \"home\"], [\"Back\", \"Back to previous view\", \"fa fa-arrow-left icon-arrow-left\", \"back\"], [\"Forward\", \"Forward to next view\", \"fa fa-arrow-right icon-arrow-right\", \"forward\"], [\"\", \"\", \"\", \"\"], [\"Pan\", \"Left button pans, Right button zooms\\nx/y fixes axis, CTRL fixes aspect\", \"fa fa-arrows icon-move\", \"pan\"], [\"Zoom\", \"Zoom to rectangle\\nx/y fixes axis, CTRL fixes aspect\", \"fa fa-square-o icon-check-empty\", \"zoom\"], [\"\", \"\", \"\", \"\"], [\"Download\", \"Download plot\", \"fa fa-floppy-o icon-save\", \"download\"]];\n",
       "\n",
       "mpl.extensions = [\"eps\", \"jpeg\", \"pdf\", \"png\", \"ps\", \"raw\", \"svg\", \"tif\"];\n",
       "\n",
       "mpl.default_extension = \"png\";/* global mpl */\n",
       "\n",
       "var comm_websocket_adapter = function (comm) {\n",
       "    // Create a \"websocket\"-like object which calls the given IPython comm\n",
       "    // object with the appropriate methods. Currently this is a non binary\n",
       "    // socket, so there is still some room for performance tuning.\n",
       "    var ws = {};\n",
       "\n",
       "    ws.close = function () {\n",
       "        comm.close();\n",
       "    };\n",
       "    ws.send = function (m) {\n",
       "        //console.log('sending', m);\n",
       "        comm.send(m);\n",
       "    };\n",
       "    // Register the callback with on_msg.\n",
       "    comm.on_msg(function (msg) {\n",
       "        //console.log('receiving', msg['content']['data'], msg);\n",
       "        // Pass the mpl event to the overridden (by mpl) onmessage function.\n",
       "        ws.onmessage(msg['content']['data']);\n",
       "    });\n",
       "    return ws;\n",
       "};\n",
       "\n",
       "mpl.mpl_figure_comm = function (comm, msg) {\n",
       "    // This is the function which gets called when the mpl process\n",
       "    // starts-up an IPython Comm through the \"matplotlib\" channel.\n",
       "\n",
       "    var id = msg.content.data.id;\n",
       "    // Get hold of the div created by the display call when the Comm\n",
       "    // socket was opened in Python.\n",
       "    var element = document.getElementById(id);\n",
       "    var ws_proxy = comm_websocket_adapter(comm);\n",
       "\n",
       "    function ondownload(figure, _format) {\n",
       "        window.open(figure.canvas.toDataURL());\n",
       "    }\n",
       "\n",
       "    var fig = new mpl.figure(id, ws_proxy, ondownload, element);\n",
       "\n",
       "    // Call onopen now - mpl needs it, as it is assuming we've passed it a real\n",
       "    // web socket which is closed, not our websocket->open comm proxy.\n",
       "    ws_proxy.onopen();\n",
       "\n",
       "    fig.parent_element = element;\n",
       "    fig.cell_info = mpl.find_output_cell(\"<div id='\" + id + \"'></div>\");\n",
       "    if (!fig.cell_info) {\n",
       "        console.error('Failed to find cell for figure', id, fig);\n",
       "        return;\n",
       "    }\n",
       "    fig.cell_info[0].output_area.element.on(\n",
       "        'cleared',\n",
       "        { fig: fig },\n",
       "        fig._remove_fig_handler\n",
       "    );\n",
       "};\n",
       "\n",
       "mpl.figure.prototype.handle_close = function (fig, msg) {\n",
       "    var width = fig.canvas.width / fig.ratio;\n",
       "    fig.cell_info[0].output_area.element.off(\n",
       "        'cleared',\n",
       "        fig._remove_fig_handler\n",
       "    );\n",
       "    fig.resizeObserverInstance.unobserve(fig.canvas_div);\n",
       "\n",
       "    // Update the output cell to use the data from the current canvas.\n",
       "    fig.push_to_output();\n",
       "    var dataURL = fig.canvas.toDataURL();\n",
       "    // Re-enable the keyboard manager in IPython - without this line, in FF,\n",
       "    // the notebook keyboard shortcuts fail.\n",
       "    IPython.keyboard_manager.enable();\n",
       "    fig.parent_element.innerHTML =\n",
       "        '<img src=\"' + dataURL + '\" width=\"' + width + '\">';\n",
       "    fig.close_ws(fig, msg);\n",
       "};\n",
       "\n",
       "mpl.figure.prototype.close_ws = function (fig, msg) {\n",
       "    fig.send_message('closing', msg);\n",
       "    // fig.ws.close()\n",
       "};\n",
       "\n",
       "mpl.figure.prototype.push_to_output = function (_remove_interactive) {\n",
       "    // Turn the data on the canvas into data in the output cell.\n",
       "    var width = this.canvas.width / this.ratio;\n",
       "    var dataURL = this.canvas.toDataURL();\n",
       "    this.cell_info[1]['text/html'] =\n",
       "        '<img src=\"' + dataURL + '\" width=\"' + width + '\">';\n",
       "};\n",
       "\n",
       "mpl.figure.prototype.updated_canvas_event = function () {\n",
       "    // Tell IPython that the notebook contents must change.\n",
       "    IPython.notebook.set_dirty(true);\n",
       "    this.send_message('ack', {});\n",
       "    var fig = this;\n",
       "    // Wait a second, then push the new image to the DOM so\n",
       "    // that it is saved nicely (might be nice to debounce this).\n",
       "    setTimeout(function () {\n",
       "        fig.push_to_output();\n",
       "    }, 1000);\n",
       "};\n",
       "\n",
       "mpl.figure.prototype._init_toolbar = function () {\n",
       "    var fig = this;\n",
       "\n",
       "    var toolbar = document.createElement('div');\n",
       "    toolbar.classList = 'btn-toolbar';\n",
       "    this.root.appendChild(toolbar);\n",
       "\n",
       "    function on_click_closure(name) {\n",
       "        return function (_event) {\n",
       "            return fig.toolbar_button_onclick(name);\n",
       "        };\n",
       "    }\n",
       "\n",
       "    function on_mouseover_closure(tooltip) {\n",
       "        return function (event) {\n",
       "            if (!event.currentTarget.disabled) {\n",
       "                return fig.toolbar_button_onmouseover(tooltip);\n",
       "            }\n",
       "        };\n",
       "    }\n",
       "\n",
       "    fig.buttons = {};\n",
       "    var buttonGroup = document.createElement('div');\n",
       "    buttonGroup.classList = 'btn-group';\n",
       "    var button;\n",
       "    for (var toolbar_ind in mpl.toolbar_items) {\n",
       "        var name = mpl.toolbar_items[toolbar_ind][0];\n",
       "        var tooltip = mpl.toolbar_items[toolbar_ind][1];\n",
       "        var image = mpl.toolbar_items[toolbar_ind][2];\n",
       "        var method_name = mpl.toolbar_items[toolbar_ind][3];\n",
       "\n",
       "        if (!name) {\n",
       "            /* Instead of a spacer, we start a new button group. */\n",
       "            if (buttonGroup.hasChildNodes()) {\n",
       "                toolbar.appendChild(buttonGroup);\n",
       "            }\n",
       "            buttonGroup = document.createElement('div');\n",
       "            buttonGroup.classList = 'btn-group';\n",
       "            continue;\n",
       "        }\n",
       "\n",
       "        button = fig.buttons[name] = document.createElement('button');\n",
       "        button.classList = 'btn btn-default';\n",
       "        button.href = '#';\n",
       "        button.title = name;\n",
       "        button.innerHTML = '<i class=\"fa ' + image + ' fa-lg\"></i>';\n",
       "        button.addEventListener('click', on_click_closure(method_name));\n",
       "        button.addEventListener('mouseover', on_mouseover_closure(tooltip));\n",
       "        buttonGroup.appendChild(button);\n",
       "    }\n",
       "\n",
       "    if (buttonGroup.hasChildNodes()) {\n",
       "        toolbar.appendChild(buttonGroup);\n",
       "    }\n",
       "\n",
       "    // Add the status bar.\n",
       "    var status_bar = document.createElement('span');\n",
       "    status_bar.classList = 'mpl-message pull-right';\n",
       "    toolbar.appendChild(status_bar);\n",
       "    this.message = status_bar;\n",
       "\n",
       "    // Add the close button to the window.\n",
       "    var buttongrp = document.createElement('div');\n",
       "    buttongrp.classList = 'btn-group inline pull-right';\n",
       "    button = document.createElement('button');\n",
       "    button.classList = 'btn btn-mini btn-primary';\n",
       "    button.href = '#';\n",
       "    button.title = 'Stop Interaction';\n",
       "    button.innerHTML = '<i class=\"fa fa-power-off icon-remove icon-large\"></i>';\n",
       "    button.addEventListener('click', function (_evt) {\n",
       "        fig.handle_close(fig, {});\n",
       "    });\n",
       "    button.addEventListener(\n",
       "        'mouseover',\n",
       "        on_mouseover_closure('Stop Interaction')\n",
       "    );\n",
       "    buttongrp.appendChild(button);\n",
       "    var titlebar = this.root.querySelector('.ui-dialog-titlebar');\n",
       "    titlebar.insertBefore(buttongrp, titlebar.firstChild);\n",
       "};\n",
       "\n",
       "mpl.figure.prototype._remove_fig_handler = function (event) {\n",
       "    var fig = event.data.fig;\n",
       "    if (event.target !== this) {\n",
       "        // Ignore bubbled events from children.\n",
       "        return;\n",
       "    }\n",
       "    fig.close_ws(fig, {});\n",
       "};\n",
       "\n",
       "mpl.figure.prototype._root_extra_style = function (el) {\n",
       "    el.style.boxSizing = 'content-box'; // override notebook setting of border-box.\n",
       "};\n",
       "\n",
       "mpl.figure.prototype._canvas_extra_style = function (el) {\n",
       "    // this is important to make the div 'focusable\n",
       "    el.setAttribute('tabindex', 0);\n",
       "    // reach out to IPython and tell the keyboard manager to turn it's self\n",
       "    // off when our div gets focus\n",
       "\n",
       "    // location in version 3\n",
       "    if (IPython.notebook.keyboard_manager) {\n",
       "        IPython.notebook.keyboard_manager.register_events(el);\n",
       "    } else {\n",
       "        // location in version 2\n",
       "        IPython.keyboard_manager.register_events(el);\n",
       "    }\n",
       "};\n",
       "\n",
       "mpl.figure.prototype._key_event_extra = function (event, _name) {\n",
       "    var manager = IPython.notebook.keyboard_manager;\n",
       "    if (!manager) {\n",
       "        manager = IPython.keyboard_manager;\n",
       "    }\n",
       "\n",
       "    // Check for shift+enter\n",
       "    if (event.shiftKey && event.which === 13) {\n",
       "        this.canvas_div.blur();\n",
       "        // select the cell after this one\n",
       "        var index = IPython.notebook.find_cell_index(this.cell_info[0]);\n",
       "        IPython.notebook.select(index + 1);\n",
       "    }\n",
       "};\n",
       "\n",
       "mpl.figure.prototype.handle_save = function (fig, _msg) {\n",
       "    fig.ondownload(fig, null);\n",
       "};\n",
       "\n",
       "mpl.find_output_cell = function (html_output) {\n",
       "    // Return the cell and output element which can be found *uniquely* in the notebook.\n",
       "    // Note - this is a bit hacky, but it is done because the \"notebook_saving.Notebook\"\n",
       "    // IPython event is triggered only after the cells have been serialised, which for\n",
       "    // our purposes (turning an active figure into a static one), is too late.\n",
       "    var cells = IPython.notebook.get_cells();\n",
       "    var ncells = cells.length;\n",
       "    for (var i = 0; i < ncells; i++) {\n",
       "        var cell = cells[i];\n",
       "        if (cell.cell_type === 'code') {\n",
       "            for (var j = 0; j < cell.output_area.outputs.length; j++) {\n",
       "                var data = cell.output_area.outputs[j];\n",
       "                if (data.data) {\n",
       "                    // IPython >= 3 moved mimebundle to data attribute of output\n",
       "                    data = data.data;\n",
       "                }\n",
       "                if (data['text/html'] === html_output) {\n",
       "                    return [cell, data, j];\n",
       "                }\n",
       "            }\n",
       "        }\n",
       "    }\n",
       "};\n",
       "\n",
       "// Register the function which deals with the matplotlib target/channel.\n",
       "// The kernel may be null if the page has been refreshed.\n",
       "if (IPython.notebook.kernel !== null) {\n",
       "    IPython.notebook.kernel.comm_manager.register_target(\n",
       "        'matplotlib',\n",
       "        mpl.mpl_figure_comm\n",
       "    );\n",
       "}\n"
      ],
      "text/plain": [
       "<IPython.core.display.Javascript object>"
      ]
     },
     "metadata": {},
     "output_type": "display_data"
    },
    {
     "data": {
      "text/html": [
       "<img src=\"data:image/png;base64,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\" width=\"640\">"
      ],
      "text/plain": [
       "<IPython.core.display.HTML object>"
      ]
     },
     "metadata": {},
     "output_type": "display_data"
    },
    {
     "data": {
      "text/plain": [
       "array([0.88913165, 0.88584878, 0.02668093])"
      ]
     },
     "execution_count": 400,
     "metadata": {},
     "output_type": "execute_result"
    }
   ],
   "source": [
    "log_prob_samples = sampler.get_log_prob(discard=nburn, flat=True)\n",
    "chain=sampler.get_chain(discard=nburn,flat=True)\n",
    "# approx_best=chain[np.argmax(log_prob_samples)]\n",
    "approx_best=np.median(chain,axis=0)\n",
    "\n",
    "nice_dims={'beach':'Beach','depo':'Deposition','decay':'Decay'}\n",
    "\n",
    "nd=[nice_dims[d] for d in dims]\n",
    "u=[units.get(d,'-') for d in dims]\n",
    "\n",
    "scale=np.array([24,24,1])\n",
    "u=['day$^{-1}$']*3\n",
    "\n",
    "# The MAP estimate zeros out deposition and decay, not very\n",
    "# useful and ignores the huge uncertainty.\n",
    "# Median is maybe more useful, accounting for the range of\n",
    "# each parameter. \n",
    "fig,axs=pairplot(chain*scale[None,:],nd,\n",
    "                 #map_est=map_est*scale,\n",
    "                 map_est=scale*approx_best,\n",
    "                 log_prob=log_prob_samples,ci=0.8,\n",
    "                 units=u)\n",
    "fig.savefig('beach_depo_decay_corner.png',dpi=150)\n",
    "scale*approx_best"
   ]
  },
  {
   "cell_type": "code",
   "execution_count": 385,
   "metadata": {},
   "outputs": [
    {
     "data": {
      "text/plain": [
       "array([0.03704715, 0.03691037, 0.02668093])"
      ]
     },
     "execution_count": 385,
     "metadata": {},
     "output_type": "execute_result"
    }
   ],
   "source": [
    "# Interesting that beaching and deposition are so similar here.\n",
    "# But they have quite different shapes, so not a danger that they're\n",
    "# duplicated in the model.\n",
    "approx_best"
   ]
  },
  {
   "cell_type": "code",
   "execution_count": 376,
   "metadata": {},
   "outputs": [
    {
     "name": "stdout",
     "output_type": "stream",
     "text": [
      "log posterior          -334.034772  for theta=[0.05884708 0.00082207 0.00052958]\n",
      "log posterior          -334.034772  for theta=[0.05884709 0.00082207 0.00052958]\n",
      "log posterior          -334.034773  for theta=[0.05884708 0.00082208 0.00052958]\n",
      "log posterior          -334.034772  for theta=[0.05884708 0.00082207 0.00052959]\n",
      "log posterior          -590.688056  for theta=[1. 0. 0.]\n",
      "log posterior          -590.688053  for theta=[0.99999999 0.         0.        ]\n",
      "log posterior          -590.688099  for theta=[1.e+00 1.e-08 0.e+00]\n",
      "log posterior          -590.688070  for theta=[1.e+00 0.e+00 1.e-08]\n",
      "log posterior          -334.042418  for theta=[0.06093647 0.00082024 0.0005284 ]\n",
      "log posterior          -334.042418  for theta=[0.06093648 0.00082024 0.0005284 ]\n",
      "log posterior          -334.042419  for theta=[0.06093647 0.00082025 0.0005284 ]\n",
      "log posterior          -334.042418  for theta=[0.06093647 0.00082024 0.00052841]\n",
      "log posterior          -334.034345  for theta=[0.05923485 0.00082173 0.00052936]\n",
      "log posterior          -334.034345  for theta=[0.05923486 0.00082173 0.00052936]\n",
      "log posterior          -334.034346  for theta=[0.05923485 0.00082174 0.00052936]\n",
      "log posterior          -334.034345  for theta=[0.05923485 0.00082173 0.00052937]\n",
      "Iteration:  [0.05923485 0.00082173 0.00052936]\n",
      "log posterior          -333.914045  for theta=[0.06036496 0.         0.        ]\n",
      "log posterior          -333.914045  for theta=[0.06036497 0.         0.        ]\n",
      "log posterior          -333.914047  for theta=[6.03649609e-02 1.00000000e-08 0.00000000e+00]\n",
      "log posterior          -333.914045  for theta=[6.03649609e-02 0.00000000e+00 1.00000000e-08]\n",
      "Iteration:  [0.06036496 0.         0.        ]\n",
      "log posterior          -333.914018  for theta=[0.06046172 0.         0.        ]\n",
      "log posterior          -333.914018  for theta=[0.06046173 0.         0.        ]\n",
      "log posterior          -333.914019  for theta=[6.0461721e-02 1.0000000e-08 0.0000000e+00]\n",
      "log posterior          -333.914018  for theta=[6.0461721e-02 0.0000000e+00 1.0000000e-08]\n",
      "Iteration:  [0.06046172 0.         0.        ]\n",
      "log posterior          -333.914018  for theta=[0.06046513 0.         0.        ]\n",
      "log posterior          -333.914018  for theta=[0.06046514 0.         0.        ]\n",
      "log posterior          -333.914019  for theta=[6.04651329e-02 1.00000000e-08 0.00000000e+00]\n",
      "log posterior          -333.914018  for theta=[6.04651329e-02 0.00000000e+00 1.00000000e-08]\n",
      "Iteration:  [0.06046513 0.         0.        ]\n"
     ]
    },
    {
     "data": {
      "text/plain": [
       "array([0.06046513, 0.        , 0.        ])"
      ]
     },
     "execution_count": 376,
     "metadata": {},
     "output_type": "execute_result"
    }
   ],
   "source": [
    "# Bottom line, fit yields MAP estimate\n",
    "# array([1.41232988e+00, 1.97296105e-02, 5.29584776e-04])\n",
    "# beaching=1.41 per day\n",
    "# deposition 0.02 per day\n",
    "# decay=0.0005 per day\n",
    "\n",
    "# Why not directly fit MAP estimate:\n",
    "map_guess=[0.05884708, 0.00082207, 0.00052958]\n",
    "x0=map_guess\n",
    "def cb(xk):\n",
    "    print(\"Iteration: \",xk)\n",
    "def cost(theta):\n",
    "    lp=log_posterior(theta)\n",
    "    print(\"log posterior %20f  for theta=%s\"%(lp,theta))\n",
    "    return (-lp).clip(-1000,20000)\n",
    "result=minimize(cost,x0,bounds=[(0,1),(0,1),(0,1)],\n",
    "                callback=cb,options=dict(disp=True))\n",
    "result.x # array([0.06046513, 0.        , 0.        ])"
   ]
  },
  {
   "cell_type": "code",
   "execution_count": 379,
   "metadata": {},
   "outputs": [
    {
     "name": "stderr",
     "output_type": "stream",
     "text": [
      "INFO:utils:13\n",
      "INFO:utils:35\n"
     ]
    },
    {
     "data": {
      "text/html": [
       "<div>\n",
       "<style scoped>\n",
       "    .dataframe tbody tr th:only-of-type {\n",
       "        vertical-align: middle;\n",
       "    }\n",
       "\n",
       "    .dataframe tbody tr th {\n",
       "        vertical-align: top;\n",
       "    }\n",
       "\n",
       "    .dataframe thead th {\n",
       "        text-align: right;\n",
       "    }\n",
       "</style>\n",
       "<table border=\"1\" class=\"dataframe\">\n",
       "  <thead>\n",
       "    <tr style=\"text-align: right;\">\n",
       "      <th></th>\n",
       "      <th>idx</th>\n",
       "      <th>storm_factor</th>\n",
       "      <th>decay_rate</th>\n",
       "      <th>step</th>\n",
       "      <th>Msmooth_i</th>\n",
       "      <th>beach_rate</th>\n",
       "      <th>depo_rate</th>\n",
       "      <th>C_model</th>\n",
       "      <th>SampleID</th>\n",
       "      <th>SAMPLE LOCATION</th>\n",
       "      <th>...</th>\n",
       "      <th>part_per_m3_std</th>\n",
       "      <th>part_per_m2_std</th>\n",
       "      <th>part_per_m3_raw_std</th>\n",
       "      <th>part_per_m2_raw_std</th>\n",
       "      <th>part_per_m3_nofiber</th>\n",
       "      <th>part_per_m2_nofiber</th>\n",
       "      <th>part_per_m3_raw_nofiber</th>\n",
       "      <th>part_per_m2_raw_nofiber</th>\n",
       "      <th>x</th>\n",
       "      <th>y</th>\n",
       "    </tr>\n",
       "  </thead>\n",
       "  <tbody>\n",
       "    <tr>\n",
       "      <th>0</th>\n",
       "      <td>0</td>\n",
       "      <td>0.326</td>\n",
       "      <td>0.0</td>\n",
       "      <td>-10000</td>\n",
       "      <td>0</td>\n",
       "      <td>0.05</td>\n",
       "      <td>0.0</td>\n",
       "      <td>0.017899</td>\n",
       "      <td>CB-4-Manta-21Aug2017</td>\n",
       "      <td>CB4</td>\n",
       "      <td>...</td>\n",
       "      <td>0.224191</td>\n",
       "      <td>0.021298</td>\n",
       "      <td>0.442172</td>\n",
       "      <td>0.042006</td>\n",
       "      <td>0.015526</td>\n",
       "      <td>0.001475</td>\n",
       "      <td>0.024841</td>\n",
       "      <td>0.002360</td>\n",
       "      <td>550040.331073</td>\n",
       "      <td>4.198063e+06</td>\n",
       "    </tr>\n",
       "    <tr>\n",
       "      <th>1</th>\n",
       "      <td>1</td>\n",
       "      <td>0.326</td>\n",
       "      <td>0.0</td>\n",
       "      <td>-10000</td>\n",
       "      <td>0</td>\n",
       "      <td>0.05</td>\n",
       "      <td>0.0</td>\n",
       "      <td>0.010077</td>\n",
       "      <td>SPB3-Manta-21Aug2017</td>\n",
       "      <td>SPB3</td>\n",
       "      <td>...</td>\n",
       "      <td>1.817781</td>\n",
       "      <td>0.172689</td>\n",
       "      <td>1.928407</td>\n",
       "      <td>0.183199</td>\n",
       "      <td>0.296678</td>\n",
       "      <td>0.028184</td>\n",
       "      <td>0.301706</td>\n",
       "      <td>0.028662</td>\n",
       "      <td>557329.971756</td>\n",
       "      <td>4.209634e+06</td>\n",
       "    </tr>\n",
       "    <tr>\n",
       "      <th>2</th>\n",
       "      <td>2</td>\n",
       "      <td>0.326</td>\n",
       "      <td>0.0</td>\n",
       "      <td>-10000</td>\n",
       "      <td>0</td>\n",
       "      <td>0.05</td>\n",
       "      <td>0.0</td>\n",
       "      <td>0.011864</td>\n",
       "      <td>SUB1-Manta-21Aug2017</td>\n",
       "      <td>SUB1</td>\n",
       "      <td>...</td>\n",
       "      <td>NaN</td>\n",
       "      <td>NaN</td>\n",
       "      <td>0.000000</td>\n",
       "      <td>0.000000</td>\n",
       "      <td>0.032671</td>\n",
       "      <td>0.003104</td>\n",
       "      <td>0.039205</td>\n",
       "      <td>0.003724</td>\n",
       "      <td>582363.556136</td>\n",
       "      <td>4.217527e+06</td>\n",
       "    </tr>\n",
       "    <tr>\n",
       "      <th>3</th>\n",
       "      <td>3</td>\n",
       "      <td>0.326</td>\n",
       "      <td>0.0</td>\n",
       "      <td>-10000</td>\n",
       "      <td>0</td>\n",
       "      <td>0.05</td>\n",
       "      <td>0.0</td>\n",
       "      <td>0.007506</td>\n",
       "      <td>SPB2-Manta-21Aug2017</td>\n",
       "      <td>SPB2</td>\n",
       "      <td>...</td>\n",
       "      <td>0.210549</td>\n",
       "      <td>0.020002</td>\n",
       "      <td>0.402882</td>\n",
       "      <td>0.038274</td>\n",
       "      <td>0.021966</td>\n",
       "      <td>0.002087</td>\n",
       "      <td>0.034288</td>\n",
       "      <td>0.003257</td>\n",
       "      <td>550464.046320</td>\n",
       "      <td>4.210092e+06</td>\n",
       "    </tr>\n",
       "    <tr>\n",
       "      <th>4</th>\n",
       "      <td>4</td>\n",
       "      <td>0.326</td>\n",
       "      <td>0.0</td>\n",
       "      <td>-10000</td>\n",
       "      <td>0</td>\n",
       "      <td>0.05</td>\n",
       "      <td>0.0</td>\n",
       "      <td>0.016433</td>\n",
       "      <td>CB9-Manta-22Aug2017</td>\n",
       "      <td>CB9</td>\n",
       "      <td>...</td>\n",
       "      <td>0.085947</td>\n",
       "      <td>0.008165</td>\n",
       "      <td>0.174186</td>\n",
       "      <td>0.016548</td>\n",
       "      <td>0.085947</td>\n",
       "      <td>0.008165</td>\n",
       "      <td>0.091677</td>\n",
       "      <td>0.008709</td>\n",
       "      <td>562183.425087</td>\n",
       "      <td>4.171973e+06</td>\n",
       "    </tr>\n",
       "  </tbody>\n",
       "</table>\n",
       "<p>5 rows × 55 columns</p>\n",
       "</div>"
      ],
      "text/plain": [
       "   idx  storm_factor  decay_rate   step  Msmooth_i  beach_rate  depo_rate  \\\n",
       "0    0         0.326         0.0 -10000          0        0.05        0.0   \n",
       "1    1         0.326         0.0 -10000          0        0.05        0.0   \n",
       "2    2         0.326         0.0 -10000          0        0.05        0.0   \n",
       "3    3         0.326         0.0 -10000          0        0.05        0.0   \n",
       "4    4         0.326         0.0 -10000          0        0.05        0.0   \n",
       "\n",
       "    C_model              SampleID SAMPLE LOCATION  ... part_per_m3_std  \\\n",
       "0  0.017899  CB-4-Manta-21Aug2017             CB4  ...        0.224191   \n",
       "1  0.010077  SPB3-Manta-21Aug2017            SPB3  ...        1.817781   \n",
       "2  0.011864  SUB1-Manta-21Aug2017            SUB1  ...             NaN   \n",
       "3  0.007506  SPB2-Manta-21Aug2017            SPB2  ...        0.210549   \n",
       "4  0.016433   CB9-Manta-22Aug2017             CB9  ...        0.085947   \n",
       "\n",
       "  part_per_m2_std  part_per_m3_raw_std  part_per_m2_raw_std  \\\n",
       "0        0.021298             0.442172             0.042006   \n",
       "1        0.172689             1.928407             0.183199   \n",
       "2             NaN             0.000000             0.000000   \n",
       "3        0.020002             0.402882             0.038274   \n",
       "4        0.008165             0.174186             0.016548   \n",
       "\n",
       "   part_per_m3_nofiber  part_per_m2_nofiber  part_per_m3_raw_nofiber  \\\n",
       "0             0.015526             0.001475                 0.024841   \n",
       "1             0.296678             0.028184                 0.301706   \n",
       "2             0.032671             0.003104                 0.039205   \n",
       "3             0.021966             0.002087                 0.034288   \n",
       "4             0.085947             0.008165                 0.091677   \n",
       "\n",
       "   part_per_m2_raw_nofiber              x             y  \n",
       "0                 0.002360  550040.331073  4.198063e+06  \n",
       "1                 0.028662  557329.971756  4.209634e+06  \n",
       "2                 0.003724  582363.556136  4.217527e+06  \n",
       "3                 0.003257  550464.046320  4.210092e+06  \n",
       "4                 0.008709  562183.425087  4.171973e+06  \n",
       "\n",
       "[5 rows x 55 columns]"
      ]
     },
     "execution_count": 379,
     "metadata": {},
     "output_type": "execute_result"
    }
   ],
   "source": [
    "# for comparison between v01 and v02\n",
    "df_test=predict_mantas_fast(decay_rate=0.0,beach_rate=0.05,depo_rate=0.0)\n",
    "df_test.head()"
   ]
  },
  {
   "cell_type": "code",
   "execution_count": 378,
   "metadata": {},
   "outputs": [
    {
     "name": "stdout",
     "output_type": "stream",
     "text": [
      "log posterior          -334.034772  for theta=[0.05884708 0.00082207 0.00052958]\n",
      "log posterior          -334.034772  for theta=[0.05884709 0.00082207 0.00052958]\n",
      "log posterior          -334.034773  for theta=[0.05884708 0.00082208 0.00052958]\n",
      "log posterior          -334.034772  for theta=[0.05884708 0.00082207 0.00052959]\n",
      "log posterior          -334.034772  for theta=[0.05884708 0.00082207 0.00052958]\n",
      "log posterior          -377.459976  for theta=[1. 0. 0.]\n",
      "log posterior          -377.459975  for theta=[0.99999999 0.         0.        ]\n",
      "log posterior          -377.459990  for theta=[1.e+00 1.e-08 0.e+00]\n",
      "log posterior          -377.459981  for theta=[1.e+00 0.e+00 1.e-08]\n",
      "log posterior          -377.459976  for theta=[1. 0. 0.]\n",
      "log posterior          -335.055206  for theta=[0.09056957 0.00079436 0.00051173]\n",
      "log posterior          -335.055207  for theta=[0.09056958 0.00079436 0.00051173]\n",
      "log posterior          -335.055208  for theta=[0.09056957 0.00079437 0.00051173]\n",
      "log posterior          -335.055207  for theta=[0.09056957 0.00079436 0.00051174]\n",
      "log posterior          -335.055206  for theta=[0.09056957 0.00079436 0.00051173]\n",
      "log posterior          -334.024991  for theta=[0.06140216 0.00081984 0.00052814]\n",
      "log posterior          -334.024991  for theta=[0.06140217 0.00081984 0.00052814]\n",
      "log posterior          -334.024992  for theta=[0.06140216 0.00081985 0.00052814]\n",
      "log posterior          -334.024991  for theta=[0.06140216 0.00081984 0.00052815]\n",
      "log posterior          -334.024991  for theta=[0.06140216 0.00081984 0.00052814]\n",
      "Iteration:  [6.14021622e-02 8.19838209e-04 5.28142274e-04 1.00653046e+00]\n",
      "log posterior          -333.888443  for theta=[0.06287177 0.         0.        ]\n",
      "log posterior          -333.888443  for theta=[0.06287178 0.         0.        ]\n",
      "log posterior          -333.888445  for theta=[6.28717697e-02 1.00000000e-08 0.00000000e+00]\n",
      "log posterior          -333.888443  for theta=[6.28717697e-02 0.00000000e+00 1.00000000e-08]\n",
      "log posterior          -333.888443  for theta=[0.06287177 0.         0.        ]\n",
      "Iteration:  [0.06287177 0.         0.         1.0120681 ]\n",
      "log posterior          -333.882669  for theta=[0.06321719 0.         0.        ]\n",
      "log posterior          -333.882669  for theta=[0.0632172 0.        0.       ]\n",
      "log posterior          -333.882671  for theta=[6.32171939e-02 1.00000000e-08 0.00000000e+00]\n",
      "log posterior          -333.882670  for theta=[6.32171939e-02 0.00000000e+00 1.00000000e-08]\n",
      "log posterior          -333.882669  for theta=[0.06321719 0.         0.        ]\n",
      "log posterior          -333.860550  for theta=[0.06459889 0.         0.        ]\n",
      "log posterior          -333.860550  for theta=[0.0645989 0.        0.       ]\n",
      "log posterior          -333.860551  for theta=[6.45988909e-02 1.00000000e-08 0.00000000e+00]\n",
      "log posterior          -333.860550  for theta=[6.45988909e-02 0.00000000e+00 1.00000000e-08]\n",
      "log posterior          -333.860550  for theta=[0.06459889 0.         0.        ]\n",
      "log posterior          -333.785990  for theta=[0.07012568 0.         0.        ]\n",
      "log posterior          -333.785991  for theta=[0.07012569 0.         0.        ]\n",
      "log posterior          -333.785992  for theta=[7.01256789e-02 1.00000000e-08 0.00000000e+00]\n",
      "log posterior          -333.785991  for theta=[7.01256789e-02 0.00000000e+00 1.00000000e-08]\n",
      "log posterior          -333.785990  for theta=[0.07012568 0.         0.        ]\n",
      "Iteration:  [0.07012568 0.         0.         1.06791235]\n",
      "log posterior          -333.421858  for theta=[0.09327942 0.         0.        ]\n",
      "log posterior          -333.421858  for theta=[0.09327943 0.         0.        ]\n",
      "log posterior          -333.421860  for theta=[9.32794168e-02 1.00000000e-08 0.00000000e+00]\n",
      "log posterior          -333.421859  for theta=[9.32794168e-02 0.00000000e+00 1.00000000e-08]\n",
      "log posterior          -333.421858  for theta=[0.09327942 0.         0.        ]\n",
      "Iteration:  [0.09327942 0.         0.         1.2903527 ]\n",
      "log posterior          -332.851453  for theta=[0.14085224 0.         0.        ]\n",
      "log posterior          -332.851453  for theta=[0.14085225 0.         0.        ]\n",
      "log posterior          -332.851455  for theta=[1.40852239e-01 1.00000000e-08 0.00000000e+00]\n",
      "log posterior          -332.851453  for theta=[1.40852239e-01 0.00000000e+00 1.00000000e-08]\n",
      "log posterior          -332.851453  for theta=[0.14085224 0.         0.        ]\n",
      "Iteration:  [0.14085224 0.         0.         1.78838761]\n",
      "log posterior          -332.492616  for theta=[0.18899473 0.         0.        ]\n",
      "log posterior          -332.492616  for theta=[0.18899474 0.         0.        ]\n",
      "log posterior          -332.492618  for theta=[1.88994729e-01 1.00000000e-08 0.00000000e+00]\n",
      "log posterior          -332.492617  for theta=[1.88994729e-01 0.00000000e+00 1.00000000e-08]\n",
      "log posterior          -332.492616  for theta=[0.18899473 0.         0.        ]\n",
      "Iteration:  [0.18899473 0.         0.         2.31600445]\n",
      "log posterior          -332.251855  for theta=[0.24170691 0.         0.        ]\n",
      "log posterior          -332.251855  for theta=[0.24170692 0.         0.        ]\n",
      "log posterior          -332.251857  for theta=[2.4170691e-01 1.0000000e-08 0.0000000e+00]\n",
      "log posterior          -332.251855  for theta=[2.4170691e-01 0.0000000e+00 1.0000000e-08]\n",
      "log posterior          -332.251855  for theta=[0.24170691 0.         0.        ]\n",
      "Iteration:  [0.24170691 0.         0.         2.91225674]\n",
      "log posterior          -332.104183  for theta=[0.29694178 0.         0.        ]\n",
      "log posterior          -332.104183  for theta=[0.29694179 0.         0.        ]\n",
      "log posterior          -332.104186  for theta=[2.96941779e-01 1.00000000e-08 0.00000000e+00]\n",
      "log posterior          -332.104184  for theta=[2.96941779e-01 0.00000000e+00 1.00000000e-08]\n",
      "log posterior          -332.104183  for theta=[0.29694178 0.         0.        ]\n",
      "Iteration:  [0.29694178 0.         0.         3.55275213]\n",
      "log posterior          -332.031493  for theta=[0.34650947 0.         0.        ]\n",
      "log posterior          -332.031493  for theta=[0.34650948 0.         0.        ]\n",
      "log posterior          -332.031496  for theta=[3.46509471e-01 1.00000000e-08 0.00000000e+00]\n",
      "log posterior          -332.031494  for theta=[3.46509471e-01 0.00000000e+00 1.00000000e-08]\n",
      "log posterior          -332.031493  for theta=[0.34650947 0.         0.        ]\n",
      "Iteration:  [0.34650947 0.         0.         4.14148162]\n",
      "log posterior          -332.003024  for theta=[0.37930505 0.         0.        ]\n",
      "log posterior          -332.003025  for theta=[0.37930506 0.         0.        ]\n",
      "log posterior          -332.003027  for theta=[3.79305049e-01 1.00000000e-08 0.00000000e+00]\n",
      "log posterior          -332.003025  for theta=[3.79305049e-01 0.00000000e+00 1.00000000e-08]\n",
      "log posterior          -332.003024  for theta=[0.37930505 0.         0.        ]\n",
      "Iteration:  [0.37930505 0.         0.         4.54623461]\n",
      "log posterior          -331.986538  for theta=[0.39749728 0.         0.        ]\n",
      "log posterior          -331.986538  for theta=[0.39749729 0.         0.        ]\n",
      "log posterior          -331.986540  for theta=[3.97497275e-01 1.00000000e-08 0.00000000e+00]\n",
      "log posterior          -331.986538  for theta=[3.97497275e-01 0.00000000e+00 1.00000000e-08]\n",
      "log posterior          -331.986538  for theta=[0.39749728 0.         0.        ]\n",
      "Iteration:  [0.39749728 0.         0.         4.79132192]\n",
      "log posterior          -331.963616  for theta=[0.41006201 0.         0.        ]\n",
      "log posterior          -331.963616  for theta=[0.41006202 0.         0.        ]\n",
      "log posterior          -331.963618  for theta=[4.10062005e-01 1.00000000e-08 0.00000000e+00]\n",
      "log posterior          -331.963616  for theta=[4.10062005e-01 0.00000000e+00 1.00000000e-08]\n",
      "log posterior          -331.963616  for theta=[0.41006201 0.         0.        ]\n",
      "Iteration:  [0.41006201 0.         0.         5.00465026]\n",
      "log posterior          -331.929387  for theta=[0.40851143 0.         0.        ]\n",
      "log posterior          -331.929387  for theta=[0.40851144 0.         0.        ]\n",
      "log posterior          -331.929389  for theta=[4.08511429e-01 1.00000000e-08 0.00000000e+00]\n",
      "log posterior          -331.929387  for theta=[4.08511429e-01 0.00000000e+00 1.00000000e-08]\n",
      "log posterior          -331.929387  for theta=[0.40851143 0.         0.        ]\n",
      "Iteration:  [0.40851143 0.         0.         5.11617198]\n"
     ]
    },
    {
     "name": "stdout",
     "output_type": "stream",
     "text": [
      "log posterior          -331.904846  for theta=[0.38430646 0.         0.        ]\n",
      "log posterior          -331.904846  for theta=[0.38430647 0.         0.        ]\n",
      "log posterior          -331.904848  for theta=[3.84306457e-01 1.00000000e-08 0.00000000e+00]\n",
      "log posterior          -331.904846  for theta=[3.84306457e-01 0.00000000e+00 1.00000000e-08]\n",
      "log posterior          -331.904846  for theta=[0.38430646 0.         0.        ]\n",
      "Iteration:  [0.38430646 0.         0.         4.97330707]\n",
      "log posterior          -331.898560  for theta=[0.36380576 0.         0.        ]\n",
      "log posterior          -331.898560  for theta=[0.36380577 0.         0.        ]\n",
      "log posterior          -331.898562  for theta=[3.63805755e-01 1.00000000e-08 0.00000000e+00]\n",
      "log posterior          -331.898560  for theta=[3.63805755e-01 0.00000000e+00 1.00000000e-08]\n",
      "log posterior          -331.898560  for theta=[0.36380576 0.         0.        ]\n",
      "Iteration:  [0.36380576 0.         0.         4.75864699]\n",
      "log posterior          -331.895471  for theta=[0.34651286 0.         0.        ]\n",
      "log posterior          -331.895471  for theta=[0.34651287 0.         0.        ]\n",
      "log posterior          -331.895473  for theta=[3.46512857e-01 1.00000000e-08 0.00000000e+00]\n",
      "log posterior          -331.895471  for theta=[3.46512857e-01 0.00000000e+00 1.00000000e-08]\n",
      "log posterior          -331.895471  for theta=[0.34651286 0.         0.        ]\n",
      "Iteration:  [0.34651286 0.         0.         4.53378805]\n",
      "log posterior          -331.895300  for theta=[0.34498738 0.         0.        ]\n",
      "log posterior          -331.895300  for theta=[0.34498739 0.         0.        ]\n",
      "log posterior          -331.895302  for theta=[3.44987382e-01 1.00000000e-08 0.00000000e+00]\n",
      "log posterior          -331.895301  for theta=[3.44987382e-01 0.00000000e+00 1.00000000e-08]\n",
      "log posterior          -331.895300  for theta=[0.34498738 0.         0.        ]\n",
      "Iteration:  [0.34498738 0.         0.         4.50150198]\n",
      "log posterior          -331.895299  for theta=[0.34523925 0.         0.        ]\n",
      "log posterior          -331.895299  for theta=[0.34523926 0.         0.        ]\n",
      "log posterior          -331.895301  for theta=[3.45239253e-01 1.00000000e-08 0.00000000e+00]\n",
      "log posterior          -331.895300  for theta=[3.45239253e-01 0.00000000e+00 1.00000000e-08]\n",
      "log posterior          -331.895299  for theta=[0.34523925 0.         0.        ]\n",
      "Iteration:  [0.34523925 0.         0.         4.5051571 ]\n",
      "log posterior          -331.895299  for theta=[0.34525252 0.         0.        ]\n",
      "log posterior          -331.895299  for theta=[0.34525253 0.         0.        ]\n",
      "log posterior          -331.895301  for theta=[3.45252515e-01 1.00000000e-08 0.00000000e+00]\n",
      "log posterior          -331.895300  for theta=[3.45252515e-01 0.00000000e+00 1.00000000e-08]\n",
      "log posterior          -331.895299  for theta=[0.34525252 0.         0.        ]\n",
      "log posterior          -331.895299  for theta=[0.34524287 0.         0.        ]\n",
      "log posterior          -331.895299  for theta=[0.34524288 0.         0.        ]\n",
      "log posterior          -331.895301  for theta=[3.45242871e-01 1.00000000e-08 0.00000000e+00]\n",
      "log posterior          -331.895300  for theta=[3.45242871e-01 0.00000000e+00 1.00000000e-08]\n",
      "log posterior          -331.895299  for theta=[0.34524287 0.         0.        ]\n",
      "Iteration:  [0.34524287 0.         0.         4.50519861]\n"
     ]
    },
    {
     "data": {
      "text/plain": [
       "array([0.34524287, 0.        , 0.        , 4.50519861])"
      ]
     },
     "execution_count": 378,
     "metadata": {},
     "output_type": "execute_result"
    }
   ],
   "source": [
    "# Keeping scale at 1 forces deposition to 0.0.\n",
    "# Allowing scale to go whereever *still* has deposition \n",
    "# and decay at 1.0.\n",
    "\n",
    "map_guess=[0.05884708, 0.00082207, 0.00052958, 1.0]\n",
    "x0=map_guess\n",
    "def cb(xk):\n",
    "    print(\"Iteration: \",xk)\n",
    "def cost(theta):\n",
    "    theta,scale=theta[:-1],theta[-1]\n",
    "    lp=log_posterior(theta,scale=scale)\n",
    "    print(\"log posterior %20f  for theta=%s\"%(lp,theta))\n",
    "    return (-lp).clip(-1000,20000)\n",
    "result=minimize(cost,x0,bounds=[(0,1),(0,1),(0,1),(0,20)],\n",
    "                callback=cb,options=dict(disp=True))\n",
    "result.x # ([0.34524287, 0.        , 0.        , 4.50519861])"
   ]
  },
  {
   "cell_type": "code",
   "execution_count": null,
   "metadata": {},
   "outputs": [],
   "source": [
    "nwalkers = 8  # number of MCMC walkers\n",
    "nburn = 4000  # \"burn-in\" period to let chains stabilize\n",
    "nsteps = 8000  # number of MCMC steps to take\n",
    "\n",
    "\n",
    "starting_guesses = np.random.rand(nwalkers, ndim)\n",
    "# we'll start at random locations between 0 and 0.5\n",
    "starting_guesses[:,0] *= 0.5 # beach rate [0,0.5]\n",
    "starting_guesses[:,1] *= 0.1 # depo rate [0,0.1]\n",
    "starting_guesses[:,2] *= 0.1 # decay rate [0,0.1]\n",
    "\n",
    "back=emcee.backends.HDFBackend(\"samples-emcee-v01-nbinom_scale_v1.h5\")\n",
    "\n",
    "sampler = emcee.EnsembleSampler(nwalkers, ndim, log_posterior,args=[],\n",
    "                               backend=back)\n",
    "\n",
    "sampler.run_mcmc(starting_guesses, nsteps,progress=True)\n",
    "\n",
    "sample = sampler.chain  # shape = (nwalkers, nsteps, ndim)\n",
    "sample = sampler.chain[:, nburn:, :]  # discard burn-in points"
   ]
  },
  {
   "cell_type": "code",
   "execution_count": null,
   "metadata": {},
   "outputs": [],
   "source": [
    "# sampler.chain.shape = (nwalkers, nsteps, ndim)\n",
    "sample = sampler.chain[:, nburn:, :]  # discard burn-in points\n",
    "fig,axs=plt.subplots(1,ndim,figsize=(8,4))\n",
    "for i,(ax,dim) in enumerate(zip(axs,dims)):\n",
    "    ax.hist(sample[:,:,i].ravel(),\n",
    "            bins=100)\n",
    "    ax.text(0.01,0.99,dim,transform=ax.transAxes,va='top')"
   ]
  },
  {
   "cell_type": "code",
   "execution_count": null,
   "metadata": {},
   "outputs": [],
   "source": [
    "fig,axs=plt.subplots(ndim,1,figsize=(9,6))\n",
    "for i,(ax,dim) in enumerate(zip(axs,dims)):\n",
    "    ax.plot( sampler.chain[:,:,i].T,lw=0.4)\n",
    "    ax.text(0.01,0.99,dim,transform=ax.transAxes,va='top')"
   ]
  },
  {
   "cell_type": "code",
   "execution_count": null,
   "metadata": {},
   "outputs": [],
   "source": [
    "# Seems to be pretty slow to get burn in, still hasn't really gotten\n",
    "# to a good neighborhood.\n",
    "# Get a max a posteriori estimate, which might be a better starting point\n",
    "# for the sampling.\n",
    "# This yields [0.229,0,0]\n",
    "# How sensitive is that alpha? Hand-tuning shows that using the output of\n",
    "# this optimization, then adjust alpha, alpha=1.8+-0.2\n",
    "x0=[0.1,0.01,0.01]\n",
    "def cb(xk):\n",
    "    print(\"Iteration: \",xk)    \n",
    "def cost(theta):\n",
    "    lp=log_posterior(theta)\n",
    "    print(\"log posterior %20f  for theta=%s\"%(lp,theta))\n",
    "    return (-lp).clip(-1000,20000)\n",
    "result=minimize(cost,x0,bounds=[(0,1),(0,1),(0,1)],\n",
    "                callback=cb,options=dict(disp=True))\n",
    "result.x"
   ]
  },
  {
   "cell_type": "code",
   "execution_count": null,
   "metadata": {},
   "outputs": [],
   "source": [
    "theta=[0.229,0,0]\n",
    "# Not bad -- suggests alpha~1.80\n",
    "for alpha in [1,1.2,1.4,1.6,1.8,2,2.2,2.5,2.8,2.9,3.0,3.1,3.2,3.3,3.4]:\n",
    "    # Knowing that alpha was fit across samples that had a lot of modeled\n",
    "    # variance in addition to unmodeled variance, explore smaller alpha\n",
    "    lp=log_posterior(theta,alpha=alpha)\n",
    "    print(f\"alpha={alpha:5.2f}  lp={lp:.6f}\")"
   ]
  },
  {
   "cell_type": "code",
   "execution_count": null,
   "metadata": {},
   "outputs": [],
   "source": [
    "# Start with the result of that optimization, but now also tune alpha.\n",
    "x0=[0.1,0.01,0.01,1.8]\n",
    "def cb(xk):\n",
    "    print(\"Iteration: \",xk)\n",
    "def cost(theta):\n",
    "    theta,alpha=theta[:-1],theta[-1]\n",
    "    lp=log_posterior(theta,alpha=alpha)\n",
    "    print(\"log posterior %20f  for theta=%s alpha=%.4f\"%(lp,theta,alpha))\n",
    "    return (-lp).clip(-1000,20000)\n",
    "result=minimize(cost,x0,bounds=[(0,1),(0,1),(0,1),(1,3.4)],\n",
    "                callback=cb,options=dict(disp=True))\n",
    "result.x # [0.22875575, 0.        , 0.        , 1.75525524]"
   ]
  },
  {
   "cell_type": "code",
   "execution_count": null,
   "metadata": {},
   "outputs": [],
   "source": [
    "# Get the actual predictions for those two parameter sets:\n",
    "dfA=predict_mantas_fast(decay_rate=0.0,\n",
    "                        beach_rate=0.10445219,\n",
    "                        depo_rate=0.0)\n",
    "dfA['C_model']*=0.5 # scale\n",
    "\n",
    "dfB=predict_mantas_fast(decay_rate=0.0,\n",
    "                        beach_rate=0.49704642,\n",
    "                        depo_rate=0.0)\n",
    "dfB['C_model']*=2.10064182 # scale"
   ]
  },
  {
   "cell_type": "code",
   "execution_count": null,
   "metadata": {},
   "outputs": [],
   "source": [
    "# Start with scatter, area concentration units\n",
    "fig,axs=plt.subplots(1,2,sharex=True,sharey=True)\n",
    "\n",
    "\n",
    "axs[0].scatter(dfA['part_per_m2_nofiber'],dfA['C_model'],30,\n",
    "               dfA['area_m2'])\n",
    "axs[1].scatter(dfB['part_per_m2_nofiber'],dfB['C_model'],30,\n",
    "               dfB['area_m2'])"
   ]
  },
  {
   "cell_type": "code",
   "execution_count": null,
   "metadata": {},
   "outputs": [],
   "source": [
    "fig=plt.figure(figsize=(9.25,7.5))\n",
    "ax=fig.add_axes([0,0,1,1])\n",
    "\n",
    "grid.plot_cells(values=grid.cells['cell_depth'],cmap='gray',clim=[0,100])\n",
    "\n",
    "kws=dict(cmap='turbo',clim=[-3,1])\n",
    "sel=dfA['Season']=='Dry'\n",
    "scat=ax.scatter(dfA['x'],\n",
    "                dfA['y'],\n",
    "                20+60*sel,\n",
    "                np.log10(dfA['C_model']/dfB['C_model']),**kws)\n",
    "ax.text(0.03,0.99,\"Greater => scale=0.5 result is larger.\\nLarge dots are Dry\",transform=ax.transAxes,va='top')\n",
    "cax=fig.add_axes([0.03,0.5,0.02,0.25])\n",
    "plt.colorbar(scat,cax=cax)\n",
    "\n",
    "ax.axis('equal')\n",
    "\n",
    "# so the coastal ocean ones are a mix, and maybe there is an issue with seasons?\n",
    "# Dry season values are smaller in the scale=0.5 case.\n",
    "# Wet season predictions are greater when scale=0.5, low beaching.\n",
    "# So beaching is more relevant for coast samples in the wet season.\n",
    "# maybe storm water samples are more prone to beaching, and are more\n",
    "# relevant in the wet season.\n",
    "\n",
    "\n",
    "# Some LSB samples are much greater when scale is small, because that forces beaching\n",
    "# to be small and they probably are getting beached a lot down there.\n",
    "# The rest of south bay is a wash.\n",
    "# Central Bay has some samples that are much smaller when scale is 0.5, since\n",
    "# these have relatively low beaching,being far from shore and in deep water.\n",
    "\n",
    "# so what we're seeing is basically a seasonal pattern (beaching preferentially\n",
    "# reduces wet season concentration), and a spatial pattern (beaching preferentially\n",
    "# reduces LSB and maybe Suisun, and Central Bay is unaffected by beaching)\n",
    "\n"
   ]
  },
  {
   "cell_type": "code",
   "execution_count": null,
   "metadata": {},
   "outputs": [],
   "source": []
  },
  {
   "cell_type": "code",
   "execution_count": 398,
   "metadata": {},
   "outputs": [
    {
     "name": "stdout",
     "output_type": "stream",
     "text": [
      "No calibration:\n",
      "Bias: 0.3196\n",
      "Geometric mean error: 12.780\n",
      "Linear Pearson R: 0.078\n",
      "Log Pearson R: 0.677  R2: 0.459\n",
      "Spearman rho: 0.708\n",
      "\n",
      "MAP parameters, no scaling:\n",
      "Bias: 0.0034\n",
      "Geometric mean error: 2.246\n",
      "Linear Pearson R: 0.189\n",
      "Log Pearson R: 0.689  R2: 0.475\n",
      "Spearman rho: 0.720\n",
      "\n",
      "median parameters:\n",
      "Bias: 0.0235\n",
      "Geometric mean error: 2.297\n",
      "Linear Pearson R: 0.129\n",
      "Log Pearson R: 0.685  R2: 0.470\n",
      "Spearman rho: 0.718\n",
      "\n"
     ]
    }
   ],
   "source": [
    "from scipy.stats import spearmanr\n",
    "def skill_summary(df):\n",
    "    obs=df['part_per_m2_nofiber']\n",
    "    # ensure that observed values are positive.\n",
    "    detect_limit=0.5*obs[obs>0].min()\n",
    "    obs=obs.clip(detect_limit)\n",
    "    mod=df['C_model']\n",
    "    \n",
    "    print(f\"Bias: {np.mean(mod-obs):.4f}\")\n",
    "    print(f\"Geometric mean error: {np.exp(np.mean(np.log(mod/obs))):.3f}\")\n",
    "    Rlin=np.corrcoef(mod,obs)[1,0]\n",
    "    print(f\"Linear Pearson R: {Rlin:.3f}\")\n",
    "    Rlog=np.corrcoef(np.log(mod),np.log(obs))[0,1]\n",
    "    print(f\"Log Pearson R: {Rlog:.3f}  R2: {Rlog**2:.3f}\")\n",
    "    # spearman\n",
    "    rho,rho_p=spearmanr(mod,obs)\n",
    "    print(f\"Spearman rho: {rho:.3f}\")\n",
    "    print()\n",
    "\n",
    "\n",
    "# Skill, absent any parameter tweaking:\n",
    "df=predict_mantas_fast(decay_rate=0,beach_rate=0,depo_rate=0)\n",
    "print(\"No calibration:\")\n",
    "skill_summary(df)\n",
    "\n",
    "# MAP without scaling\n",
    "df1=predict_mantas_fast(decay_rate=0,beach_rate=0.06046516,depo_rate=0)\n",
    "print(\"MAP parameters, no scaling:\")\n",
    "skill_summary(df1)\n",
    "\n",
    "# median parameters\n",
    "df2=predict_mantas_fast(decay_rate=0.02668093,beach_rate=0.03704715,depo_rate=0.03691037)\n",
    "print(\"median parameters:\")\n",
    "skill_summary(df2)\n"
   ]
  },
  {
   "cell_type": "code",
   "execution_count": null,
   "metadata": {},
   "outputs": [],
   "source": [
    "from "
   ]
  },
  {
   "cell_type": "code",
   "execution_count": 388,
   "metadata": {},
   "outputs": [
    {
     "data": {
      "text/plain": [
       "Index(['idx', 'storm_factor', 'decay_rate', 'step', 'Msmooth_i', 'beach_rate',\n",
       "       'depo_rate', 'C_model', 'SampleID', 'SAMPLE LOCATION', 'DATE', 'TYPE',\n",
       "       'LAT START', 'LONG START', 'LAT END', 'LONG END', 'TOTAL DIST (M)',\n",
       "       'START FLOW', 'END FLOW', 'area_km2', 'volume_m3', 'FibersYN', 'Season',\n",
       "       'time_local', 'time_utc', 'lat', 'lon', 'volume_l', 'area_m2',\n",
       "       'count_preblank_std', 'count_preblank_nofiber', 'Fiber', 'Fiber Bundle',\n",
       "       'Film', 'Foam', 'Fragment', 'Sphere', 'Fiber_adj', 'Fiber Bundle_adj',\n",
       "       'Fragment_adj', 'Foam_adj', 'Film_adj', 'Sphere_adj', 'count_std',\n",
       "       'count_nofiber', 'part_per_m3_std', 'part_per_m2_std',\n",
       "       'part_per_m3_raw_std', 'part_per_m2_raw_std', 'part_per_m3_nofiber',\n",
       "       'part_per_m2_nofiber', 'part_per_m3_raw_nofiber',\n",
       "       'part_per_m2_raw_nofiber', 'x', 'y'],\n",
       "      dtype='object')"
      ]
     },
     "execution_count": 388,
     "metadata": {},
     "output_type": "execute_result"
    }
   ],
   "source": [
    "df.columns"
   ]
  },
  {
   "cell_type": "markdown",
   "metadata": {},
   "source": [
    "Predicted Distributions\n",
    "---\n",
    "\n",
    "Predicted distribution of beached and deposited particles.\n"
   ]
  }
 ],
 "metadata": {
  "kernelspec": {
   "display_name": "Python 3",
   "language": "python",
   "name": "python3"
  },
  "language_info": {
   "codemirror_mode": {
    "name": "ipython",
    "version": 3
   },
   "file_extension": ".py",
   "mimetype": "text/x-python",
   "name": "python",
   "nbconvert_exporter": "python",
   "pygments_lexer": "ipython3",
   "version": "3.9.1"
  }
 },
 "nbformat": 4,
 "nbformat_minor": 2
}
